{
 "cells": [
  {
   "attachments": {},
   "cell_type": "markdown",
   "metadata": {},
   "source": [
    "# Загружаем библиотеки и датафрейм\n",
    "---"
   ]
  },
  {
   "cell_type": "code",
   "execution_count": 1,
   "metadata": {},
   "outputs": [],
   "source": [
    "import pandas as pd\n",
    "import numpy as np"
   ]
  },
  {
   "cell_type": "code",
   "execution_count": 3,
   "metadata": {},
   "outputs": [],
   "source": [
    "\n",
    "data = pd.read_parquet('train_mfti.parquet', engine='pyarrow')"
   ]
  },
  {
   "cell_type": "code",
   "execution_count": 2,
   "metadata": {},
   "outputs": [],
   "source": [
    "test = pd.read_parquet('test_public_mfti.parquet', engine='pyarrow')"
   ]
  },
  {
   "cell_type": "code",
   "execution_count": 3,
   "metadata": {},
   "outputs": [
    {
     "data": {
      "text/html": [
       "<div>\n",
       "<style scoped>\n",
       "    .dataframe tbody tr th:only-of-type {\n",
       "        vertical-align: middle;\n",
       "    }\n",
       "\n",
       "    .dataframe tbody tr th {\n",
       "        vertical-align: top;\n",
       "    }\n",
       "\n",
       "    .dataframe thead th {\n",
       "        text-align: right;\n",
       "    }\n",
       "</style>\n",
       "<table border=\"1\" class=\"dataframe\">\n",
       "  <thead>\n",
       "    <tr style=\"text-align: right;\">\n",
       "      <th></th>\n",
       "      <th>cookie_id</th>\n",
       "      <th>vacancy_id_</th>\n",
       "    </tr>\n",
       "  </thead>\n",
       "  <tbody>\n",
       "    <tr>\n",
       "      <th>0</th>\n",
       "      <td>000cd76cd33f43d4a1ac1d16d10f8bf7</td>\n",
       "      <td>[222177, 222173, 222163, 238874, 238878, 22812...</td>\n",
       "    </tr>\n",
       "    <tr>\n",
       "      <th>1</th>\n",
       "      <td>0034bc7f404341ba8412665453e7825a</td>\n",
       "      <td>[102794, 137587, 257319, 237756, 240744, 11348...</td>\n",
       "    </tr>\n",
       "    <tr>\n",
       "      <th>2</th>\n",
       "      <td>00a6c5a64a274c55a836402bdeb3b2c4</td>\n",
       "      <td>[254292, 164602, 116438, 228634, 218819, 24065...</td>\n",
       "    </tr>\n",
       "    <tr>\n",
       "      <th>3</th>\n",
       "      <td>015937a125b14e74bdff1cddc49f9172</td>\n",
       "      <td>[246685, 138123, 115420, 210628, 212325, 235196]</td>\n",
       "    </tr>\n",
       "    <tr>\n",
       "      <th>4</th>\n",
       "      <td>01de50c280794cec8804f16f45f847b7</td>\n",
       "      <td>[219070, 251469, 166899, 212703, 214561]</td>\n",
       "    </tr>\n",
       "  </tbody>\n",
       "</table>\n",
       "</div>"
      ],
      "text/plain": [
       "                          cookie_id  \\\n",
       "0  000cd76cd33f43d4a1ac1d16d10f8bf7   \n",
       "1  0034bc7f404341ba8412665453e7825a   \n",
       "2  00a6c5a64a274c55a836402bdeb3b2c4   \n",
       "3  015937a125b14e74bdff1cddc49f9172   \n",
       "4  01de50c280794cec8804f16f45f847b7   \n",
       "\n",
       "                                         vacancy_id_  \n",
       "0  [222177, 222173, 222163, 238874, 238878, 22812...  \n",
       "1  [102794, 137587, 257319, 237756, 240744, 11348...  \n",
       "2  [254292, 164602, 116438, 228634, 218819, 24065...  \n",
       "3   [246685, 138123, 115420, 210628, 212325, 235196]  \n",
       "4           [219070, 251469, 166899, 212703, 214561]  "
      ]
     },
     "execution_count": 3,
     "metadata": {},
     "output_type": "execute_result"
    }
   ],
   "source": [
    "test.head()"
   ]
  },
  {
   "cell_type": "code",
   "execution_count": 4,
   "metadata": {},
   "outputs": [
    {
     "name": "stdout",
     "output_type": "stream",
     "text": [
      "['000cd76cd33f43d4a1ac1d16d10f8bf7', '0034bc7f404341ba8412665453e7825a', '00a6c5a64a274c55a836402bdeb3b2c4', '015937a125b14e74bdff1cddc49f9172', '01de50c280794cec8804f16f45f847b7']\n"
     ]
    }
   ],
   "source": [
    "test_list = list(test['cookie_id'])\n",
    "print(test_list[:5])"
   ]
  },
  {
   "cell_type": "code",
   "execution_count": 6,
   "metadata": {},
   "outputs": [
    {
     "name": "stdout",
     "output_type": "stream",
     "text": [
      "[array([222177, 222173, 222163, 238874, 238878, 228125, 225604, 235544,\n",
      "       119314], dtype=int64), array([102794, 137587, 257319, 237756, 240744, 113482, 240245, 221376,\n",
      "       242642, 235561, 191512, 222762, 231446, 109269, 205578],\n",
      "      dtype=int64), array([254292, 164602, 116438, 228634, 218819, 240655, 240659, 237341,\n",
      "       176563, 255299, 245637, 109275, 111505, 212953, 217549, 207108,\n",
      "       200475, 211355, 211449, 108956, 111071, 253239, 109649, 221735,\n",
      "       222030, 222174, 231207, 231022, 234380, 106944, 203948, 175325,\n",
      "       193534, 197505, 234769, 238933, 225709, 184466, 242642, 203015],\n",
      "      dtype=int64), array([246685, 138123, 115420, 210628, 212325, 235196], dtype=int64), array([219070, 251469, 166899, 212703, 214561], dtype=int64)]\n"
     ]
    }
   ],
   "source": [
    "test_values = list(test['vacancy_id_'])\n",
    "print(test_values[:5])"
   ]
  },
  {
   "cell_type": "code",
   "execution_count": 4,
   "metadata": {},
   "outputs": [],
   "source": [
    "df = data.copy()"
   ]
  },
  {
   "cell_type": "code",
   "execution_count": 5,
   "metadata": {},
   "outputs": [],
   "source": [
    "df['Rating'] = df['event_type'].map({'show_vacancy': 1,\n",
    "                                     'preview_click_vacancy': 2,\n",
    "                                     'click_favorite': 3,\n",
    "                                     'preview_click_favorite': 4,\n",
    "                                     'click_response': 5,\n",
    "                                     'preview_click_response': 6,\n",
    "                                     'click_contacts': 7,\n",
    "                                     'preview_click_contacts': 8,\n",
    "                                     'click_phone': 9,\n",
    "                                     'preview_click_phone': 10})"
   ]
  },
  {
   "cell_type": "code",
   "execution_count": 5,
   "metadata": {},
   "outputs": [],
   "source": [
    "df['rating'] = df['event_type'].map({'show_vacancy': 0,\n",
    "                                     'preview_click_vacancy': 0,\n",
    "                                     'click_favorite': 0,\n",
    "                                     'preview_click_favorite': 0,\n",
    "                                     'click_response': 1,\n",
    "                                     'preview_click_response': 1,\n",
    "                                     'click_contacts': 1,\n",
    "                                     'preview_click_contacts': 1,\n",
    "                                     'click_phone': 1,\n",
    "                                     'preview_click_phone': 1})"
   ]
  },
  {
   "cell_type": "code",
   "execution_count": 6,
   "metadata": {},
   "outputs": [],
   "source": [
    "df['Ragister'] = df['user_id'].apply(lambda x: 0 if x == None else 1)"
   ]
  },
  {
   "cell_type": "code",
   "execution_count": 7,
   "metadata": {},
   "outputs": [
    {
     "data": {
      "text/html": [
       "<div>\n",
       "<style scoped>\n",
       "    .dataframe tbody tr th:only-of-type {\n",
       "        vertical-align: middle;\n",
       "    }\n",
       "\n",
       "    .dataframe tbody tr th {\n",
       "        vertical-align: top;\n",
       "    }\n",
       "\n",
       "    .dataframe thead th {\n",
       "        text-align: right;\n",
       "    }\n",
       "</style>\n",
       "<table border=\"1\" class=\"dataframe\">\n",
       "  <thead>\n",
       "    <tr style=\"text-align: right;\">\n",
       "      <th></th>\n",
       "      <th>event_date</th>\n",
       "      <th>event_timestamp</th>\n",
       "      <th>vacancy_id_</th>\n",
       "      <th>cookie_id</th>\n",
       "      <th>user_id</th>\n",
       "      <th>event_type</th>\n",
       "      <th>rating</th>\n",
       "      <th>Ragister</th>\n",
       "    </tr>\n",
       "  </thead>\n",
       "  <tbody>\n",
       "    <tr>\n",
       "      <th>0</th>\n",
       "      <td>2022-08-01</td>\n",
       "      <td>1659323026</td>\n",
       "      <td>129850</td>\n",
       "      <td>97990f1a021d4be19aa3f955b7eacab4</td>\n",
       "      <td>951f53de61764ea0b51317200a0dbbfc</td>\n",
       "      <td>show_vacancy</td>\n",
       "      <td>0</td>\n",
       "      <td>1</td>\n",
       "    </tr>\n",
       "    <tr>\n",
       "      <th>1</th>\n",
       "      <td>2022-08-01</td>\n",
       "      <td>1659377255</td>\n",
       "      <td>108347</td>\n",
       "      <td>03bf8c511fa949c79845a5d81b09aa1d</td>\n",
       "      <td>f5a2326a17484330aa8cb4019f1b1960</td>\n",
       "      <td>show_vacancy</td>\n",
       "      <td>0</td>\n",
       "      <td>1</td>\n",
       "    </tr>\n",
       "    <tr>\n",
       "      <th>2</th>\n",
       "      <td>2022-08-01</td>\n",
       "      <td>1659376695</td>\n",
       "      <td>109069</td>\n",
       "      <td>03bf8c511fa949c79845a5d81b09aa1d</td>\n",
       "      <td>f5a2326a17484330aa8cb4019f1b1960</td>\n",
       "      <td>show_vacancy</td>\n",
       "      <td>0</td>\n",
       "      <td>1</td>\n",
       "    </tr>\n",
       "    <tr>\n",
       "      <th>3</th>\n",
       "      <td>2022-08-01</td>\n",
       "      <td>1659376722</td>\n",
       "      <td>171425</td>\n",
       "      <td>03bf8c511fa949c79845a5d81b09aa1d</td>\n",
       "      <td>f5a2326a17484330aa8cb4019f1b1960</td>\n",
       "      <td>show_vacancy</td>\n",
       "      <td>0</td>\n",
       "      <td>1</td>\n",
       "    </tr>\n",
       "    <tr>\n",
       "      <th>4</th>\n",
       "      <td>2022-08-01</td>\n",
       "      <td>1659374929</td>\n",
       "      <td>252384</td>\n",
       "      <td>03bf8c511fa949c79845a5d81b09aa1d</td>\n",
       "      <td>f5a2326a17484330aa8cb4019f1b1960</td>\n",
       "      <td>show_vacancy</td>\n",
       "      <td>0</td>\n",
       "      <td>1</td>\n",
       "    </tr>\n",
       "  </tbody>\n",
       "</table>\n",
       "</div>"
      ],
      "text/plain": [
       "   event_date  event_timestamp  vacancy_id_                         cookie_id  \\\n",
       "0  2022-08-01       1659323026       129850  97990f1a021d4be19aa3f955b7eacab4   \n",
       "1  2022-08-01       1659377255       108347  03bf8c511fa949c79845a5d81b09aa1d   \n",
       "2  2022-08-01       1659376695       109069  03bf8c511fa949c79845a5d81b09aa1d   \n",
       "3  2022-08-01       1659376722       171425  03bf8c511fa949c79845a5d81b09aa1d   \n",
       "4  2022-08-01       1659374929       252384  03bf8c511fa949c79845a5d81b09aa1d   \n",
       "\n",
       "                            user_id    event_type  rating  Ragister  \n",
       "0  951f53de61764ea0b51317200a0dbbfc  show_vacancy       0         1  \n",
       "1  f5a2326a17484330aa8cb4019f1b1960  show_vacancy       0         1  \n",
       "2  f5a2326a17484330aa8cb4019f1b1960  show_vacancy       0         1  \n",
       "3  f5a2326a17484330aa8cb4019f1b1960  show_vacancy       0         1  \n",
       "4  f5a2326a17484330aa8cb4019f1b1960  show_vacancy       0         1  "
      ]
     },
     "execution_count": 7,
     "metadata": {},
     "output_type": "execute_result"
    }
   ],
   "source": [
    "df.head()"
   ]
  },
  {
   "cell_type": "code",
   "execution_count": 50,
   "metadata": {},
   "outputs": [
    {
     "name": "stderr",
     "output_type": "stream",
     "text": [
      "C:\\Users\\pavel\\AppData\\Local\\Temp\\ipykernel_1460\\2450100794.py:1: FutureWarning: Indexing with multiple keys (implicitly converted to a tuple of keys) will be deprecated, use a list instead.\n",
      "  df_cut = df.groupby(['cookie_id','vacancy_id_'])['event_timestamp', 'Ragister','Rating'].max().reset_index()\n"
     ]
    }
   ],
   "source": [
    "df_cut = df.groupby(['cookie_id','vacancy_id_'])['event_timestamp', 'Ragister','Rating'].max().reset_index()"
   ]
  },
  {
   "cell_type": "code",
   "execution_count": 54,
   "metadata": {},
   "outputs": [
    {
     "data": {
      "text/html": [
       "<div>\n",
       "<style scoped>\n",
       "    .dataframe tbody tr th:only-of-type {\n",
       "        vertical-align: middle;\n",
       "    }\n",
       "\n",
       "    .dataframe tbody tr th {\n",
       "        vertical-align: top;\n",
       "    }\n",
       "\n",
       "    .dataframe thead th {\n",
       "        text-align: right;\n",
       "    }\n",
       "</style>\n",
       "<table border=\"1\" class=\"dataframe\">\n",
       "  <thead>\n",
       "    <tr style=\"text-align: right;\">\n",
       "      <th></th>\n",
       "      <th>cookie_id</th>\n",
       "      <th>vacancy_id_</th>\n",
       "      <th>event_timestamp</th>\n",
       "      <th>Ragister</th>\n",
       "      <th>Rating</th>\n",
       "    </tr>\n",
       "  </thead>\n",
       "  <tbody>\n",
       "    <tr>\n",
       "      <th>4678580</th>\n",
       "      <td>ffffdb17f45b4032b386d691d52e6c00</td>\n",
       "      <td>107125</td>\n",
       "      <td>1661164632</td>\n",
       "      <td>0</td>\n",
       "      <td>6</td>\n",
       "    </tr>\n",
       "    <tr>\n",
       "      <th>4678581</th>\n",
       "      <td>ffffdb17f45b4032b386d691d52e6c00</td>\n",
       "      <td>107893</td>\n",
       "      <td>1661154433</td>\n",
       "      <td>0</td>\n",
       "      <td>7</td>\n",
       "    </tr>\n",
       "    <tr>\n",
       "      <th>4678582</th>\n",
       "      <td>ffffdb17f45b4032b386d691d52e6c00</td>\n",
       "      <td>150843</td>\n",
       "      <td>1661154393</td>\n",
       "      <td>0</td>\n",
       "      <td>7</td>\n",
       "    </tr>\n",
       "    <tr>\n",
       "      <th>4678583</th>\n",
       "      <td>ffffdb17f45b4032b386d691d52e6c00</td>\n",
       "      <td>160164</td>\n",
       "      <td>1661164755</td>\n",
       "      <td>0</td>\n",
       "      <td>7</td>\n",
       "    </tr>\n",
       "    <tr>\n",
       "      <th>4678584</th>\n",
       "      <td>ffffdb17f45b4032b386d691d52e6c00</td>\n",
       "      <td>185412</td>\n",
       "      <td>1661165552</td>\n",
       "      <td>0</td>\n",
       "      <td>6</td>\n",
       "    </tr>\n",
       "  </tbody>\n",
       "</table>\n",
       "</div>"
      ],
      "text/plain": [
       "                                cookie_id  vacancy_id_  event_timestamp  \\\n",
       "4678580  ffffdb17f45b4032b386d691d52e6c00       107125       1661164632   \n",
       "4678581  ffffdb17f45b4032b386d691d52e6c00       107893       1661154433   \n",
       "4678582  ffffdb17f45b4032b386d691d52e6c00       150843       1661154393   \n",
       "4678583  ffffdb17f45b4032b386d691d52e6c00       160164       1661164755   \n",
       "4678584  ffffdb17f45b4032b386d691d52e6c00       185412       1661165552   \n",
       "\n",
       "         Ragister  Rating  \n",
       "4678580         0       6  \n",
       "4678581         0       7  \n",
       "4678582         0       7  \n",
       "4678583         0       7  \n",
       "4678584         0       6  "
      ]
     },
     "execution_count": 54,
     "metadata": {},
     "output_type": "execute_result"
    }
   ],
   "source": [
    "df_cut.tail()"
   ]
  },
  {
   "cell_type": "code",
   "execution_count": 48,
   "metadata": {},
   "outputs": [
    {
     "data": {
      "text/html": [
       "<div>\n",
       "<style scoped>\n",
       "    .dataframe tbody tr th:only-of-type {\n",
       "        vertical-align: middle;\n",
       "    }\n",
       "\n",
       "    .dataframe tbody tr th {\n",
       "        vertical-align: top;\n",
       "    }\n",
       "\n",
       "    .dataframe thead th {\n",
       "        text-align: right;\n",
       "    }\n",
       "</style>\n",
       "<table border=\"1\" class=\"dataframe\">\n",
       "  <thead>\n",
       "    <tr style=\"text-align: right;\">\n",
       "      <th></th>\n",
       "      <th>cookie_id</th>\n",
       "      <th>vacancy_id_</th>\n",
       "      <th>Rating</th>\n",
       "    </tr>\n",
       "  </thead>\n",
       "  <tbody>\n",
       "    <tr>\n",
       "      <th>0</th>\n",
       "      <td>0000c4548c3944c08972bbdc1fa4eb85</td>\n",
       "      <td>137659</td>\n",
       "      <td>1</td>\n",
       "    </tr>\n",
       "    <tr>\n",
       "      <th>1</th>\n",
       "      <td>0000c4548c3944c08972bbdc1fa4eb85</td>\n",
       "      <td>153975</td>\n",
       "      <td>1</td>\n",
       "    </tr>\n",
       "    <tr>\n",
       "      <th>2</th>\n",
       "      <td>0000c4548c3944c08972bbdc1fa4eb85</td>\n",
       "      <td>174953</td>\n",
       "      <td>2</td>\n",
       "    </tr>\n",
       "    <tr>\n",
       "      <th>3</th>\n",
       "      <td>0000c4548c3944c08972bbdc1fa4eb85</td>\n",
       "      <td>176171</td>\n",
       "      <td>1</td>\n",
       "    </tr>\n",
       "    <tr>\n",
       "      <th>4</th>\n",
       "      <td>0000c4548c3944c08972bbdc1fa4eb85</td>\n",
       "      <td>182445</td>\n",
       "      <td>1</td>\n",
       "    </tr>\n",
       "  </tbody>\n",
       "</table>\n",
       "</div>"
      ],
      "text/plain": [
       "                          cookie_id  vacancy_id_  Rating\n",
       "0  0000c4548c3944c08972bbdc1fa4eb85       137659       1\n",
       "1  0000c4548c3944c08972bbdc1fa4eb85       153975       1\n",
       "2  0000c4548c3944c08972bbdc1fa4eb85       174953       2\n",
       "3  0000c4548c3944c08972bbdc1fa4eb85       176171       1\n",
       "4  0000c4548c3944c08972bbdc1fa4eb85       182445       1"
      ]
     },
     "execution_count": 48,
     "metadata": {},
     "output_type": "execute_result"
    }
   ],
   "source": [
    "df_cut.head()"
   ]
  },
  {
   "attachments": {},
   "cell_type": "markdown",
   "metadata": {},
   "source": [
    "* 1 show_vacancy - просмотр вакансии\n",
    "* 2 preview_click_vacancy - клик по карточке вакансии\n",
    "* 3 click_response - отклик со страницы вакансии\n",
    "* 4 preview_click_response - отклик с карточки вакансии\n",
    "* 5 click_favorite - добавление вакансии в избранное  со страницы вакансии\n",
    "* 6 preview_click_favorite - добавление вакансии в избраное с карточки вакансии\n",
    "* 7 click_contacts - клик на контакты со страницы вакансии\n",
    "* 8 preview_click_contacts - клик на контакты из карточки вакансии\n",
    "* 9 click_phone - клик на номер телефона, указанный в вакансии\n",
    "* 10 preview_click_phone - клик на номер телефона из карточки вакансии\n",
    "\n",
    "Жирным выделены искомые \"\"откликнется\"\" и \"\"позвонит\"\"\""
   ]
  },
  {
   "cell_type": "code",
   "execution_count": 5,
   "metadata": {},
   "outputs": [
    {
     "data": {
      "text/html": [
       "<div>\n",
       "<style scoped>\n",
       "    .dataframe tbody tr th:only-of-type {\n",
       "        vertical-align: middle;\n",
       "    }\n",
       "\n",
       "    .dataframe tbody tr th {\n",
       "        vertical-align: top;\n",
       "    }\n",
       "\n",
       "    .dataframe thead th {\n",
       "        text-align: right;\n",
       "    }\n",
       "</style>\n",
       "<table border=\"1\" class=\"dataframe\">\n",
       "  <thead>\n",
       "    <tr style=\"text-align: right;\">\n",
       "      <th></th>\n",
       "      <th>event_date</th>\n",
       "      <th>event_timestamp</th>\n",
       "      <th>vacancy_id_</th>\n",
       "      <th>cookie_id</th>\n",
       "      <th>user_id</th>\n",
       "      <th>event_type</th>\n",
       "      <th>Rating</th>\n",
       "    </tr>\n",
       "  </thead>\n",
       "  <tbody>\n",
       "    <tr>\n",
       "      <th>0</th>\n",
       "      <td>2022-08-01</td>\n",
       "      <td>1659323026</td>\n",
       "      <td>129850</td>\n",
       "      <td>97990f1a021d4be19aa3f955b7eacab4</td>\n",
       "      <td>951f53de61764ea0b51317200a0dbbfc</td>\n",
       "      <td>show_vacancy</td>\n",
       "      <td>0</td>\n",
       "    </tr>\n",
       "    <tr>\n",
       "      <th>1</th>\n",
       "      <td>2022-08-01</td>\n",
       "      <td>1659377255</td>\n",
       "      <td>108347</td>\n",
       "      <td>03bf8c511fa949c79845a5d81b09aa1d</td>\n",
       "      <td>f5a2326a17484330aa8cb4019f1b1960</td>\n",
       "      <td>show_vacancy</td>\n",
       "      <td>0</td>\n",
       "    </tr>\n",
       "    <tr>\n",
       "      <th>2</th>\n",
       "      <td>2022-08-01</td>\n",
       "      <td>1659376695</td>\n",
       "      <td>109069</td>\n",
       "      <td>03bf8c511fa949c79845a5d81b09aa1d</td>\n",
       "      <td>f5a2326a17484330aa8cb4019f1b1960</td>\n",
       "      <td>show_vacancy</td>\n",
       "      <td>0</td>\n",
       "    </tr>\n",
       "    <tr>\n",
       "      <th>3</th>\n",
       "      <td>2022-08-01</td>\n",
       "      <td>1659376722</td>\n",
       "      <td>171425</td>\n",
       "      <td>03bf8c511fa949c79845a5d81b09aa1d</td>\n",
       "      <td>f5a2326a17484330aa8cb4019f1b1960</td>\n",
       "      <td>show_vacancy</td>\n",
       "      <td>0</td>\n",
       "    </tr>\n",
       "    <tr>\n",
       "      <th>4</th>\n",
       "      <td>2022-08-01</td>\n",
       "      <td>1659374929</td>\n",
       "      <td>252384</td>\n",
       "      <td>03bf8c511fa949c79845a5d81b09aa1d</td>\n",
       "      <td>f5a2326a17484330aa8cb4019f1b1960</td>\n",
       "      <td>show_vacancy</td>\n",
       "      <td>0</td>\n",
       "    </tr>\n",
       "  </tbody>\n",
       "</table>\n",
       "</div>"
      ],
      "text/plain": [
       "   event_date  event_timestamp  vacancy_id_                         cookie_id  \\\n",
       "0  2022-08-01       1659323026       129850  97990f1a021d4be19aa3f955b7eacab4   \n",
       "1  2022-08-01       1659377255       108347  03bf8c511fa949c79845a5d81b09aa1d   \n",
       "2  2022-08-01       1659376695       109069  03bf8c511fa949c79845a5d81b09aa1d   \n",
       "3  2022-08-01       1659376722       171425  03bf8c511fa949c79845a5d81b09aa1d   \n",
       "4  2022-08-01       1659374929       252384  03bf8c511fa949c79845a5d81b09aa1d   \n",
       "\n",
       "                            user_id    event_type  Rating  \n",
       "0  951f53de61764ea0b51317200a0dbbfc  show_vacancy       0  \n",
       "1  f5a2326a17484330aa8cb4019f1b1960  show_vacancy       0  \n",
       "2  f5a2326a17484330aa8cb4019f1b1960  show_vacancy       0  \n",
       "3  f5a2326a17484330aa8cb4019f1b1960  show_vacancy       0  \n",
       "4  f5a2326a17484330aa8cb4019f1b1960  show_vacancy       0  "
      ]
     },
     "execution_count": 5,
     "metadata": {},
     "output_type": "execute_result"
    }
   ],
   "source": [
    "df.head()"
   ]
  },
  {
   "cell_type": "code",
   "execution_count": 6,
   "metadata": {},
   "outputs": [
    {
     "name": "stdout",
     "output_type": "stream",
     "text": [
      "<class 'pandas.core.frame.DataFrame'>\n",
      "RangeIndex: 12292588 entries, 0 to 12292587\n",
      "Data columns (total 7 columns):\n",
      " #   Column           Dtype \n",
      "---  ------           ----- \n",
      " 0   event_date       object\n",
      " 1   event_timestamp  int64 \n",
      " 2   vacancy_id_      int64 \n",
      " 3   cookie_id        object\n",
      " 4   user_id          object\n",
      " 5   event_type       object\n",
      " 6   Rating           int64 \n",
      "dtypes: int64(3), object(4)\n",
      "memory usage: 656.5+ MB\n"
     ]
    }
   ],
   "source": [
    "df.info()"
   ]
  },
  {
   "attachments": {},
   "cell_type": "markdown",
   "metadata": {},
   "source": [
    "Начинаем преобразовывать характеристики"
   ]
  },
  {
   "cell_type": "code",
   "execution_count": 7,
   "metadata": {},
   "outputs": [],
   "source": [
    "df['vacancy_id_num'] = df['vacancy_id_'].astype('int64')"
   ]
  },
  {
   "cell_type": "code",
   "execution_count": 8,
   "metadata": {},
   "outputs": [],
   "source": [
    "df['cookie_id_num'] = df['cookie_id'].astype('category').cat.codes\n",
    "df['user_id_num'] = df['user_id'].astype('category').cat.codes"
   ]
  },
  {
   "cell_type": "code",
   "execution_count": 29,
   "metadata": {},
   "outputs": [],
   "source": [
    "# можно записать что бы потом не кликать\n",
    "df.to_parquet('df_parquet')"
   ]
  },
  {
   "cell_type": "code",
   "execution_count": 35,
   "metadata": {},
   "outputs": [
    {
     "data": {
      "text/plain": [
       "Index(['event_date', 'event_timestamp', 'vacancy_id_', 'cookie_id', 'user_id',\n",
       "       'event_type', 'Rating', 'Ragister'],\n",
       "      dtype='object')"
      ]
     },
     "execution_count": 35,
     "metadata": {},
     "output_type": "execute_result"
    }
   ],
   "source": [
    "df.columns"
   ]
  },
  {
   "attachments": {},
   "cell_type": "markdown",
   "metadata": {},
   "source": [
    "СОЗДАЕМ таблицы для обучения\n",
    "---"
   ]
  },
  {
   "cell_type": "code",
   "execution_count": 12,
   "metadata": {},
   "outputs": [],
   "source": [
    "# Только числовые значения \n",
    "df_math = df[['cookie_id_num', 'vacancy_id_num', 'Rating']] # проверял пока только эту"
   ]
  },
  {
   "cell_type": "code",
   "execution_count": 11,
   "metadata": {},
   "outputs": [],
   "source": [
    "df_cut.to_parquet('df_cut.paruet')"
   ]
  },
  {
   "cell_type": "code",
   "execution_count": 13,
   "metadata": {},
   "outputs": [],
   "source": [
    "# все значения в изначальном варианте\n",
    "df_str = df[['cookie_id', 'vacancy_id_', 'Rating']]"
   ]
  },
  {
   "cell_type": "code",
   "execution_count": 11,
   "metadata": {},
   "outputs": [],
   "source": [
    "df_str.to_parquet('df_str.paruet')"
   ]
  },
  {
   "cell_type": "code",
   "execution_count": 55,
   "metadata": {},
   "outputs": [],
   "source": [
    "# видел что время оч влияет и с ним обучаются - пока не тестил\n",
    "df_time = df_cut[['cookie_id', 'vacancy_id_', 'Ragister', 'Rating', 'event_timestamp']]"
   ]
  },
  {
   "cell_type": "code",
   "execution_count": 56,
   "metadata": {},
   "outputs": [],
   "source": [
    "df_time.to_parquet('df_time.paruet')"
   ]
  },
  {
   "cell_type": "code",
   "execution_count": 40,
   "metadata": {},
   "outputs": [
    {
     "name": "stdout",
     "output_type": "stream",
     "text": [
      "<class 'pandas.core.frame.DataFrame'>\n",
      "RangeIndex: 12292588 entries, 0 to 12292587\n",
      "Data columns (total 5 columns):\n",
      " #   Column           Dtype \n",
      "---  ------           ----- \n",
      " 0   cookie_id        object\n",
      " 1   vacancy_id_      int64 \n",
      " 2   Ragister         int64 \n",
      " 3   Rating           int64 \n",
      " 4   event_timestamp  int64 \n",
      "dtypes: int64(4), object(1)\n",
      "memory usage: 468.9+ MB\n"
     ]
    }
   ],
   "source": [
    "df_time.info()"
   ]
  },
  {
   "cell_type": "code",
   "execution_count": 15,
   "metadata": {},
   "outputs": [],
   "source": [
    "df_math_time = df[['cookie_id_num', 'vacancy_id_num', 'Rating', 'event_timestamp']]"
   ]
  },
  {
   "cell_type": "code",
   "execution_count": 16,
   "metadata": {},
   "outputs": [],
   "source": [
    "df_str_time = df[['cookie_id', 'vacancy_id_', 'Rating', 'event_timestamp']]"
   ]
  },
  {
   "attachments": {},
   "cell_type": "markdown",
   "metadata": {},
   "source": [
    "А теперь сокращаем данные\n",
    "\n",
    "---"
   ]
  },
  {
   "cell_type": "code",
   "execution_count": 17,
   "metadata": {},
   "outputs": [],
   "source": [
    "df_cut_math = df_math.groupby(['cookie_id_num','vacancy_id_num'])['Rating'].max().reset_index()"
   ]
  },
  {
   "cell_type": "code",
   "execution_count": 20,
   "metadata": {},
   "outputs": [],
   "source": [
    "df_cut_math.to_parquet('df_cut_math.parquet')"
   ]
  },
  {
   "cell_type": "code",
   "execution_count": 19,
   "metadata": {},
   "outputs": [],
   "source": [
    "df_cut_str = df_str.groupby(['cookie_id','vacancy_id_'])['Rating'].max().reset_index()"
   ]
  },
  {
   "cell_type": "code",
   "execution_count": 21,
   "metadata": {},
   "outputs": [],
   "source": [
    "df_cut_str.to_parquet('df_cut_str.parquet')"
   ]
  }
 ],
 "metadata": {
  "kernelspec": {
   "display_name": "Python 3",
   "language": "python",
   "name": "python3"
  },
  "language_info": {
   "codemirror_mode": {
    "name": "ipython",
    "version": 3
   },
   "file_extension": ".py",
   "mimetype": "text/x-python",
   "name": "python",
   "nbconvert_exporter": "python",
   "pygments_lexer": "ipython3",
   "version": "3.10.7"
  },
  "orig_nbformat": 4,
  "vscode": {
   "interpreter": {
    "hash": "adc619b01503523b8240db011ba6e5d9101136cf083453867df1fdfca18879a8"
   }
  }
 },
 "nbformat": 4,
 "nbformat_minor": 2
}
