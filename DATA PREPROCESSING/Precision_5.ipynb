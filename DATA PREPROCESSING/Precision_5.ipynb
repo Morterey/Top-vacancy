{
  "nbformat": 4,
  "nbformat_minor": 0,
  "metadata": {
    "colab": {
      "provenance": []
    },
    "kernelspec": {
      "name": "python3",
      "display_name": "Python 3"
    },
    "language_info": {
      "name": "python"
    }
  },
  "cells": [
    {
      "cell_type": "markdown",
      "source": [
        "Функция принимает 2 дф и возвращает пресижн5, строки дф должы совпадать по айдишинкам"
      ],
      "metadata": {
        "id": "BjkuUdx5i_UQ"
      }
    },
    {
      "cell_type": "code",
      "source": [
        "def precision(predictions,df_test_list_top, k=5):\n",
        "  #recommendations num:\n",
        "    n_rec_k = len(df_test_list_top)*k\n",
        "  #true reccomendations:\n",
        "    matches=0\n",
        "    for row in range(len(predictions)):\n",
        "      row_match = set(predictions['vacancy_id_num'][row]).intersection(set(df_test_list_top['vacancy_id_num'][row]))  \n",
        "      matches += len(row_match)\n",
        "  #Results:\n",
        "    precisions = matches / n_rec_k if n_rec_k != 0 else 0\n",
        "    return precisions"
      ],
      "metadata": {
        "id": "_2Qh3lnYjBb4"
      },
      "execution_count": null,
      "outputs": []
    }
  ]
}