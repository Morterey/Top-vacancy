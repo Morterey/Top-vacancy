{
  "cells": [
    {
      "cell_type": "markdown",
      "metadata": {
        "id": "e_ngVxWGQr3I"
      },
      "source": [
        "# Загружаем необходимые пакеты и импортируем библиотеки\n",
        "\n",
        "---"
      ]
    },
    {
      "cell_type": "code",
      "execution_count": null,
      "metadata": {
        "colab": {
          "base_uri": "https://localhost:8080/"
        },
        "id": "DQz2QHq6rTiv",
        "outputId": "2a6e56e1-3751-4291-cfa0-eebbbad42bc8"
      },
      "outputs": [
        {
          "name": "stdout",
          "output_type": "stream",
          "text": [
            "Looking in indexes: https://pypi.org/simple, https://us-python.pkg.dev/colab-wheels/public/simple/\n",
            "Collecting implicit\n",
            "  Downloading implicit-0.6.2-cp310-cp310-manylinux2014_x86_64.whl (18.6 MB)\n",
            "\u001b[2K     \u001b[90m━━━━━━━━━━━━━━━━━━━━━━━━━━━━━━━━━━━━━━━━\u001b[0m \u001b[32m18.6/18.6 MB\u001b[0m \u001b[31m62.3 MB/s\u001b[0m eta \u001b[36m0:00:00\u001b[0m\n",
            "\u001b[?25hRequirement already satisfied: numpy in /usr/local/lib/python3.10/dist-packages (from implicit) (1.22.4)\n",
            "Requirement already satisfied: tqdm>=4.27 in /usr/local/lib/python3.10/dist-packages (from implicit) (4.65.0)\n",
            "Requirement already satisfied: scipy>=0.16 in /usr/local/lib/python3.10/dist-packages (from implicit) (1.10.1)\n",
            "Installing collected packages: implicit\n",
            "Successfully installed implicit-0.6.2\n"
          ]
        }
      ],
      "source": [
        "# устанавливаем библиотеку implicit \n",
        "%pip install implicit"
      ]
    },
    {
      "cell_type": "code",
      "execution_count": 2,
      "metadata": {
        "colab": {
          "base_uri": "https://localhost:8080/"
        },
        "id": "rg2m6XderTi1",
        "outputId": "3cfbcd68-f702-4530-90a7-4f8d4c4e1804"
      },
      "outputs": [],
      "source": [
        "# загружаем библиотеки\n",
        "import pandas as pd\n",
        "import scipy.sparse as sparse\n",
        "import numpy as np\n",
        "import random\n",
        "import implicit"
      ]
    },
    {
      "cell_type": "markdown",
      "metadata": {
        "id": "S8zD3-0gQr3T"
      },
      "source": [
        "# Подготовка и обработка данных\n",
        "\n",
        "---"
      ]
    },
    {
      "cell_type": "code",
      "execution_count": 38,
      "metadata": {
        "id": "xcQyVkaZxF93"
      },
      "outputs": [],
      "source": [
        "# загружаем данные из источника\n",
        "data = pd.read_parquet('train_mfti.parquet', engine='pyarrow')"
      ]
    },
    {
      "cell_type": "code",
      "execution_count": 39,
      "metadata": {
        "id": "1VI7xf1oxGyA"
      },
      "outputs": [],
      "source": [
        "# создаем копию\n",
        "df = data.copy()"
      ]
    },
    {
      "cell_type": "code",
      "execution_count": 40,
      "metadata": {
        "colab": {
          "base_uri": "https://localhost:8080/",
          "height": 206
        },
        "id": "NIoRaFJrzejz",
        "outputId": "63ddd313-21ad-4b3e-ac7d-826cac5c49f5"
      },
      "outputs": [
        {
          "data": {
            "text/html": [
              "<div>\n",
              "<style scoped>\n",
              "    .dataframe tbody tr th:only-of-type {\n",
              "        vertical-align: middle;\n",
              "    }\n",
              "\n",
              "    .dataframe tbody tr th {\n",
              "        vertical-align: top;\n",
              "    }\n",
              "\n",
              "    .dataframe thead th {\n",
              "        text-align: right;\n",
              "    }\n",
              "</style>\n",
              "<table border=\"1\" class=\"dataframe\">\n",
              "  <thead>\n",
              "    <tr style=\"text-align: right;\">\n",
              "      <th></th>\n",
              "      <th>event_date</th>\n",
              "      <th>event_timestamp</th>\n",
              "      <th>vacancy_id_</th>\n",
              "      <th>cookie_id</th>\n",
              "      <th>user_id</th>\n",
              "      <th>event_type</th>\n",
              "    </tr>\n",
              "  </thead>\n",
              "  <tbody>\n",
              "    <tr>\n",
              "      <th>0</th>\n",
              "      <td>2022-08-01</td>\n",
              "      <td>1659323026</td>\n",
              "      <td>129850</td>\n",
              "      <td>97990f1a021d4be19aa3f955b7eacab4</td>\n",
              "      <td>951f53de61764ea0b51317200a0dbbfc</td>\n",
              "      <td>show_vacancy</td>\n",
              "    </tr>\n",
              "    <tr>\n",
              "      <th>1</th>\n",
              "      <td>2022-08-01</td>\n",
              "      <td>1659377255</td>\n",
              "      <td>108347</td>\n",
              "      <td>03bf8c511fa949c79845a5d81b09aa1d</td>\n",
              "      <td>f5a2326a17484330aa8cb4019f1b1960</td>\n",
              "      <td>show_vacancy</td>\n",
              "    </tr>\n",
              "    <tr>\n",
              "      <th>2</th>\n",
              "      <td>2022-08-01</td>\n",
              "      <td>1659376695</td>\n",
              "      <td>109069</td>\n",
              "      <td>03bf8c511fa949c79845a5d81b09aa1d</td>\n",
              "      <td>f5a2326a17484330aa8cb4019f1b1960</td>\n",
              "      <td>show_vacancy</td>\n",
              "    </tr>\n",
              "    <tr>\n",
              "      <th>3</th>\n",
              "      <td>2022-08-01</td>\n",
              "      <td>1659376722</td>\n",
              "      <td>171425</td>\n",
              "      <td>03bf8c511fa949c79845a5d81b09aa1d</td>\n",
              "      <td>f5a2326a17484330aa8cb4019f1b1960</td>\n",
              "      <td>show_vacancy</td>\n",
              "    </tr>\n",
              "    <tr>\n",
              "      <th>4</th>\n",
              "      <td>2022-08-01</td>\n",
              "      <td>1659374929</td>\n",
              "      <td>252384</td>\n",
              "      <td>03bf8c511fa949c79845a5d81b09aa1d</td>\n",
              "      <td>f5a2326a17484330aa8cb4019f1b1960</td>\n",
              "      <td>show_vacancy</td>\n",
              "    </tr>\n",
              "  </tbody>\n",
              "</table>\n",
              "</div>"
            ],
            "text/plain": [
              "   event_date  event_timestamp  vacancy_id_                         cookie_id  \\\n",
              "0  2022-08-01       1659323026       129850  97990f1a021d4be19aa3f955b7eacab4   \n",
              "1  2022-08-01       1659377255       108347  03bf8c511fa949c79845a5d81b09aa1d   \n",
              "2  2022-08-01       1659376695       109069  03bf8c511fa949c79845a5d81b09aa1d   \n",
              "3  2022-08-01       1659376722       171425  03bf8c511fa949c79845a5d81b09aa1d   \n",
              "4  2022-08-01       1659374929       252384  03bf8c511fa949c79845a5d81b09aa1d   \n",
              "\n",
              "                            user_id    event_type  \n",
              "0  951f53de61764ea0b51317200a0dbbfc  show_vacancy  \n",
              "1  f5a2326a17484330aa8cb4019f1b1960  show_vacancy  \n",
              "2  f5a2326a17484330aa8cb4019f1b1960  show_vacancy  \n",
              "3  f5a2326a17484330aa8cb4019f1b1960  show_vacancy  \n",
              "4  f5a2326a17484330aa8cb4019f1b1960  show_vacancy  "
            ]
          },
          "execution_count": 40,
          "metadata": {},
          "output_type": "execute_result"
        }
      ],
      "source": [
        "# посмотрим на данные \n",
        "df.head()"
      ]
    },
    {
      "cell_type": "code",
      "execution_count": 41,
      "metadata": {
        "colab": {
          "base_uri": "https://localhost:8080/"
        },
        "id": "IXjk12kNQr3V",
        "outputId": "3a20d73e-04aa-4055-d861-652193cae6d1"
      },
      "outputs": [
        {
          "name": "stdout",
          "output_type": "stream",
          "text": [
            "<class 'pandas.core.frame.DataFrame'>\n",
            "RangeIndex: 12292588 entries, 0 to 12292587\n",
            "Data columns (total 6 columns):\n",
            " #   Column           Dtype \n",
            "---  ------           ----- \n",
            " 0   event_date       object\n",
            " 1   event_timestamp  int64 \n",
            " 2   vacancy_id_      int64 \n",
            " 3   cookie_id        object\n",
            " 4   user_id          object\n",
            " 5   event_type       object\n",
            "dtypes: int64(2), object(4)\n",
            "memory usage: 562.7+ MB\n"
          ]
        }
      ],
      "source": [
        "# и так тоже посмотрим\n",
        "df.info()"
      ]
    },
    {
      "cell_type": "code",
      "execution_count": 42,
      "metadata": {
        "id": "9HUDd07hQr3W"
      },
      "outputs": [],
      "source": [
        "# Дубликатов нет в данных - но на всякий случай\n",
        "df = df.drop_duplicates()"
      ]
    },
    {
      "cell_type": "markdown",
      "metadata": {
        "id": "ZPky2Z_4TnQM"
      },
      "source": [
        "Попробуем совместить user_id и cookie_id - это первая исследовательская позиция\n",
        "\n",
        "---\n",
        "\n",
        "Идея в том, что для каждого куки алгоритм сохранит последнего использующего устройство юзера, и если пользователь один и тот же мы увеличим знания о взаимодействии пользователя с платформой на разных устройстовах, и ничего страшного что у нас на домашний пк могут заходить разные пользователи, авторизация (при доработке сменить последнего юзера), для не авторизированных пользователь программа будет запоминать взаимодействия уникального устройства"
      ]
    },
    {
      "cell_type": "code",
      "execution_count": 43,
      "metadata": {
        "id": "h_pSZyVO-qpp"
      },
      "outputs": [
        {
          "data": {
            "text/html": [
              "<div>\n",
              "<style scoped>\n",
              "    .dataframe tbody tr th:only-of-type {\n",
              "        vertical-align: middle;\n",
              "    }\n",
              "\n",
              "    .dataframe tbody tr th {\n",
              "        vertical-align: top;\n",
              "    }\n",
              "\n",
              "    .dataframe thead th {\n",
              "        text-align: right;\n",
              "    }\n",
              "</style>\n",
              "<table border=\"1\" class=\"dataframe\">\n",
              "  <thead>\n",
              "    <tr style=\"text-align: right;\">\n",
              "      <th></th>\n",
              "      <th>event_date</th>\n",
              "      <th>event_timestamp</th>\n",
              "      <th>vacancy_id_</th>\n",
              "      <th>cookie_id</th>\n",
              "      <th>user_id</th>\n",
              "      <th>event_type</th>\n",
              "    </tr>\n",
              "  </thead>\n",
              "  <tbody>\n",
              "    <tr>\n",
              "      <th>12292563</th>\n",
              "      <td>2022-08-11</td>\n",
              "      <td>1660240768</td>\n",
              "      <td>250327</td>\n",
              "      <td>ae866f07cadf4d5390ee4e10b7e9b091</td>\n",
              "      <td>987aa97723644ef1895aaade85681bb3</td>\n",
              "      <td>preview_click_response</td>\n",
              "    </tr>\n",
              "    <tr>\n",
              "      <th>12292564</th>\n",
              "      <td>2022-08-11</td>\n",
              "      <td>1660240674</td>\n",
              "      <td>133079</td>\n",
              "      <td>ae866f07cadf4d5390ee4e10b7e9b091</td>\n",
              "      <td>987aa97723644ef1895aaade85681bb3</td>\n",
              "      <td>preview_click_response</td>\n",
              "    </tr>\n",
              "    <tr>\n",
              "      <th>12292565</th>\n",
              "      <td>2022-08-11</td>\n",
              "      <td>1660240721</td>\n",
              "      <td>134462</td>\n",
              "      <td>ae866f07cadf4d5390ee4e10b7e9b091</td>\n",
              "      <td>987aa97723644ef1895aaade85681bb3</td>\n",
              "      <td>preview_click_response</td>\n",
              "    </tr>\n",
              "    <tr>\n",
              "      <th>12292566</th>\n",
              "      <td>2022-08-11</td>\n",
              "      <td>1660240655</td>\n",
              "      <td>136817</td>\n",
              "      <td>ae866f07cadf4d5390ee4e10b7e9b091</td>\n",
              "      <td>987aa97723644ef1895aaade85681bb3</td>\n",
              "      <td>preview_click_response</td>\n",
              "    </tr>\n",
              "    <tr>\n",
              "      <th>12292567</th>\n",
              "      <td>2022-08-11</td>\n",
              "      <td>1660239343</td>\n",
              "      <td>164570</td>\n",
              "      <td>67eb24b76f0b47b29b0390fb465c20bc</td>\n",
              "      <td>None</td>\n",
              "      <td>preview_click_response</td>\n",
              "    </tr>\n",
              "    <tr>\n",
              "      <th>12292568</th>\n",
              "      <td>2022-08-11</td>\n",
              "      <td>1660239042</td>\n",
              "      <td>164570</td>\n",
              "      <td>67eb24b76f0b47b29b0390fb465c20bc</td>\n",
              "      <td>None</td>\n",
              "      <td>preview_click_response</td>\n",
              "    </tr>\n",
              "    <tr>\n",
              "      <th>12292569</th>\n",
              "      <td>2022-08-11</td>\n",
              "      <td>1660242236</td>\n",
              "      <td>110136</td>\n",
              "      <td>ce775682e192406dbb13af8b4fc9d5dc</td>\n",
              "      <td>1a63389451f744bdb14c743c208f9a15</td>\n",
              "      <td>preview_click_response</td>\n",
              "    </tr>\n",
              "    <tr>\n",
              "      <th>12292570</th>\n",
              "      <td>2022-08-11</td>\n",
              "      <td>1660242225</td>\n",
              "      <td>135238</td>\n",
              "      <td>ce775682e192406dbb13af8b4fc9d5dc</td>\n",
              "      <td>1a63389451f744bdb14c743c208f9a15</td>\n",
              "      <td>preview_click_response</td>\n",
              "    </tr>\n",
              "    <tr>\n",
              "      <th>12292571</th>\n",
              "      <td>2022-08-11</td>\n",
              "      <td>1660243140</td>\n",
              "      <td>143721</td>\n",
              "      <td>b9cdb878e067483b807d50de917acacd</td>\n",
              "      <td>257e6729e1754ff193d1dbdcfb6914d6</td>\n",
              "      <td>preview_click_response</td>\n",
              "    </tr>\n",
              "    <tr>\n",
              "      <th>12292572</th>\n",
              "      <td>2022-08-11</td>\n",
              "      <td>1660245131</td>\n",
              "      <td>106505</td>\n",
              "      <td>5b0c4eac6d99495e9c7307f79479f41b</td>\n",
              "      <td>a1c83099275e4ba3ba562ed546d1048e</td>\n",
              "      <td>preview_click_response</td>\n",
              "    </tr>\n",
              "    <tr>\n",
              "      <th>12292573</th>\n",
              "      <td>2022-08-11</td>\n",
              "      <td>1660244094</td>\n",
              "      <td>248106</td>\n",
              "      <td>5b0c4eac6d99495e9c7307f79479f41b</td>\n",
              "      <td>a1c83099275e4ba3ba562ed546d1048e</td>\n",
              "      <td>preview_click_response</td>\n",
              "    </tr>\n",
              "    <tr>\n",
              "      <th>12292574</th>\n",
              "      <td>2022-08-11</td>\n",
              "      <td>1660244393</td>\n",
              "      <td>140503</td>\n",
              "      <td>5b0c4eac6d99495e9c7307f79479f41b</td>\n",
              "      <td>a1c83099275e4ba3ba562ed546d1048e</td>\n",
              "      <td>preview_click_response</td>\n",
              "    </tr>\n",
              "    <tr>\n",
              "      <th>12292575</th>\n",
              "      <td>2022-08-11</td>\n",
              "      <td>1660242714</td>\n",
              "      <td>144532</td>\n",
              "      <td>5b0c4eac6d99495e9c7307f79479f41b</td>\n",
              "      <td>a1c83099275e4ba3ba562ed546d1048e</td>\n",
              "      <td>preview_click_response</td>\n",
              "    </tr>\n",
              "    <tr>\n",
              "      <th>12292576</th>\n",
              "      <td>2022-08-11</td>\n",
              "      <td>1660243265</td>\n",
              "      <td>258466</td>\n",
              "      <td>4f6f2d59e52a4b558871e758f34fabc4</td>\n",
              "      <td>f4c02625d47c4dfdbcd86cc25f5764ab</td>\n",
              "      <td>preview_click_response</td>\n",
              "    </tr>\n",
              "    <tr>\n",
              "      <th>12292577</th>\n",
              "      <td>2022-08-11</td>\n",
              "      <td>1660243282</td>\n",
              "      <td>135755</td>\n",
              "      <td>4f6f2d59e52a4b558871e758f34fabc4</td>\n",
              "      <td>f4c02625d47c4dfdbcd86cc25f5764ab</td>\n",
              "      <td>preview_click_response</td>\n",
              "    </tr>\n",
              "    <tr>\n",
              "      <th>12292578</th>\n",
              "      <td>2022-08-11</td>\n",
              "      <td>1660242993</td>\n",
              "      <td>247263</td>\n",
              "      <td>0bbe5e11d03c49c3ba0b1b19caeeb51c</td>\n",
              "      <td>e9c4f7fc72a3485ea78c3ef793ae08b8</td>\n",
              "      <td>preview_click_response</td>\n",
              "    </tr>\n",
              "    <tr>\n",
              "      <th>12292579</th>\n",
              "      <td>2022-08-11</td>\n",
              "      <td>1660243740</td>\n",
              "      <td>135465</td>\n",
              "      <td>0bbe5e11d03c49c3ba0b1b19caeeb51c</td>\n",
              "      <td>e9c4f7fc72a3485ea78c3ef793ae08b8</td>\n",
              "      <td>preview_click_response</td>\n",
              "    </tr>\n",
              "    <tr>\n",
              "      <th>12292580</th>\n",
              "      <td>2022-08-11</td>\n",
              "      <td>1660243414</td>\n",
              "      <td>156854</td>\n",
              "      <td>0bbe5e11d03c49c3ba0b1b19caeeb51c</td>\n",
              "      <td>e9c4f7fc72a3485ea78c3ef793ae08b8</td>\n",
              "      <td>preview_click_response</td>\n",
              "    </tr>\n",
              "    <tr>\n",
              "      <th>12292581</th>\n",
              "      <td>2022-08-11</td>\n",
              "      <td>1660249420</td>\n",
              "      <td>164588</td>\n",
              "      <td>60cae824c046447f9db2eaad748a95ef</td>\n",
              "      <td>daf7b995a76a4c4494830e54e7b8cdc7</td>\n",
              "      <td>preview_click_response</td>\n",
              "    </tr>\n",
              "    <tr>\n",
              "      <th>12292582</th>\n",
              "      <td>2022-08-11</td>\n",
              "      <td>1660244773</td>\n",
              "      <td>145187</td>\n",
              "      <td>b9230d6415fb4a38b4e4a866317e51e7</td>\n",
              "      <td>3dc1f21028ad4fbb9686a7419fec2f21</td>\n",
              "      <td>preview_click_response</td>\n",
              "    </tr>\n",
              "    <tr>\n",
              "      <th>12292583</th>\n",
              "      <td>2022-08-11</td>\n",
              "      <td>1660246479</td>\n",
              "      <td>162851</td>\n",
              "      <td>0d3c58c6864546c689fa0997de484b30</td>\n",
              "      <td>18124998fd644e80b667a1d84bf63846</td>\n",
              "      <td>preview_click_response</td>\n",
              "    </tr>\n",
              "    <tr>\n",
              "      <th>12292584</th>\n",
              "      <td>2022-08-11</td>\n",
              "      <td>1660246106</td>\n",
              "      <td>136818</td>\n",
              "      <td>ef559274a81e4ff4b92aa3e9f6805886</td>\n",
              "      <td>5c71c1f1b7cf492ba05871c400a05250</td>\n",
              "      <td>preview_click_response</td>\n",
              "    </tr>\n",
              "    <tr>\n",
              "      <th>12292585</th>\n",
              "      <td>2022-08-11</td>\n",
              "      <td>1660250139</td>\n",
              "      <td>143721</td>\n",
              "      <td>c4453128ae584dca8f2a8d20a7c74263</td>\n",
              "      <td>33c968125459420e89ffbc8cffece317</td>\n",
              "      <td>preview_click_response</td>\n",
              "    </tr>\n",
              "    <tr>\n",
              "      <th>12292586</th>\n",
              "      <td>2022-08-11</td>\n",
              "      <td>1660250318</td>\n",
              "      <td>154423</td>\n",
              "      <td>c4453128ae584dca8f2a8d20a7c74263</td>\n",
              "      <td>33c968125459420e89ffbc8cffece317</td>\n",
              "      <td>preview_click_response</td>\n",
              "    </tr>\n",
              "    <tr>\n",
              "      <th>12292587</th>\n",
              "      <td>2022-08-11</td>\n",
              "      <td>1660215447</td>\n",
              "      <td>194140</td>\n",
              "      <td>42b24cc1337f43d2bf100ec3c612b510</td>\n",
              "      <td>4ca2f3f932534a3f8e61c2ed489444e9</td>\n",
              "      <td>preview_click_response</td>\n",
              "    </tr>\n",
              "  </tbody>\n",
              "</table>\n",
              "</div>"
            ],
            "text/plain": [
              "          event_date  event_timestamp  vacancy_id_  \\\n",
              "12292563  2022-08-11       1660240768       250327   \n",
              "12292564  2022-08-11       1660240674       133079   \n",
              "12292565  2022-08-11       1660240721       134462   \n",
              "12292566  2022-08-11       1660240655       136817   \n",
              "12292567  2022-08-11       1660239343       164570   \n",
              "12292568  2022-08-11       1660239042       164570   \n",
              "12292569  2022-08-11       1660242236       110136   \n",
              "12292570  2022-08-11       1660242225       135238   \n",
              "12292571  2022-08-11       1660243140       143721   \n",
              "12292572  2022-08-11       1660245131       106505   \n",
              "12292573  2022-08-11       1660244094       248106   \n",
              "12292574  2022-08-11       1660244393       140503   \n",
              "12292575  2022-08-11       1660242714       144532   \n",
              "12292576  2022-08-11       1660243265       258466   \n",
              "12292577  2022-08-11       1660243282       135755   \n",
              "12292578  2022-08-11       1660242993       247263   \n",
              "12292579  2022-08-11       1660243740       135465   \n",
              "12292580  2022-08-11       1660243414       156854   \n",
              "12292581  2022-08-11       1660249420       164588   \n",
              "12292582  2022-08-11       1660244773       145187   \n",
              "12292583  2022-08-11       1660246479       162851   \n",
              "12292584  2022-08-11       1660246106       136818   \n",
              "12292585  2022-08-11       1660250139       143721   \n",
              "12292586  2022-08-11       1660250318       154423   \n",
              "12292587  2022-08-11       1660215447       194140   \n",
              "\n",
              "                                 cookie_id                           user_id  \\\n",
              "12292563  ae866f07cadf4d5390ee4e10b7e9b091  987aa97723644ef1895aaade85681bb3   \n",
              "12292564  ae866f07cadf4d5390ee4e10b7e9b091  987aa97723644ef1895aaade85681bb3   \n",
              "12292565  ae866f07cadf4d5390ee4e10b7e9b091  987aa97723644ef1895aaade85681bb3   \n",
              "12292566  ae866f07cadf4d5390ee4e10b7e9b091  987aa97723644ef1895aaade85681bb3   \n",
              "12292567  67eb24b76f0b47b29b0390fb465c20bc                              None   \n",
              "12292568  67eb24b76f0b47b29b0390fb465c20bc                              None   \n",
              "12292569  ce775682e192406dbb13af8b4fc9d5dc  1a63389451f744bdb14c743c208f9a15   \n",
              "12292570  ce775682e192406dbb13af8b4fc9d5dc  1a63389451f744bdb14c743c208f9a15   \n",
              "12292571  b9cdb878e067483b807d50de917acacd  257e6729e1754ff193d1dbdcfb6914d6   \n",
              "12292572  5b0c4eac6d99495e9c7307f79479f41b  a1c83099275e4ba3ba562ed546d1048e   \n",
              "12292573  5b0c4eac6d99495e9c7307f79479f41b  a1c83099275e4ba3ba562ed546d1048e   \n",
              "12292574  5b0c4eac6d99495e9c7307f79479f41b  a1c83099275e4ba3ba562ed546d1048e   \n",
              "12292575  5b0c4eac6d99495e9c7307f79479f41b  a1c83099275e4ba3ba562ed546d1048e   \n",
              "12292576  4f6f2d59e52a4b558871e758f34fabc4  f4c02625d47c4dfdbcd86cc25f5764ab   \n",
              "12292577  4f6f2d59e52a4b558871e758f34fabc4  f4c02625d47c4dfdbcd86cc25f5764ab   \n",
              "12292578  0bbe5e11d03c49c3ba0b1b19caeeb51c  e9c4f7fc72a3485ea78c3ef793ae08b8   \n",
              "12292579  0bbe5e11d03c49c3ba0b1b19caeeb51c  e9c4f7fc72a3485ea78c3ef793ae08b8   \n",
              "12292580  0bbe5e11d03c49c3ba0b1b19caeeb51c  e9c4f7fc72a3485ea78c3ef793ae08b8   \n",
              "12292581  60cae824c046447f9db2eaad748a95ef  daf7b995a76a4c4494830e54e7b8cdc7   \n",
              "12292582  b9230d6415fb4a38b4e4a866317e51e7  3dc1f21028ad4fbb9686a7419fec2f21   \n",
              "12292583  0d3c58c6864546c689fa0997de484b30  18124998fd644e80b667a1d84bf63846   \n",
              "12292584  ef559274a81e4ff4b92aa3e9f6805886  5c71c1f1b7cf492ba05871c400a05250   \n",
              "12292585  c4453128ae584dca8f2a8d20a7c74263  33c968125459420e89ffbc8cffece317   \n",
              "12292586  c4453128ae584dca8f2a8d20a7c74263  33c968125459420e89ffbc8cffece317   \n",
              "12292587  42b24cc1337f43d2bf100ec3c612b510  4ca2f3f932534a3f8e61c2ed489444e9   \n",
              "\n",
              "                      event_type  \n",
              "12292563  preview_click_response  \n",
              "12292564  preview_click_response  \n",
              "12292565  preview_click_response  \n",
              "12292566  preview_click_response  \n",
              "12292567  preview_click_response  \n",
              "12292568  preview_click_response  \n",
              "12292569  preview_click_response  \n",
              "12292570  preview_click_response  \n",
              "12292571  preview_click_response  \n",
              "12292572  preview_click_response  \n",
              "12292573  preview_click_response  \n",
              "12292574  preview_click_response  \n",
              "12292575  preview_click_response  \n",
              "12292576  preview_click_response  \n",
              "12292577  preview_click_response  \n",
              "12292578  preview_click_response  \n",
              "12292579  preview_click_response  \n",
              "12292580  preview_click_response  \n",
              "12292581  preview_click_response  \n",
              "12292582  preview_click_response  \n",
              "12292583  preview_click_response  \n",
              "12292584  preview_click_response  \n",
              "12292585  preview_click_response  \n",
              "12292586  preview_click_response  \n",
              "12292587  preview_click_response  "
            ]
          },
          "execution_count": 43,
          "metadata": {},
          "output_type": "execute_result"
        }
      ],
      "source": [
        "df.tail(25) # посмотрим на пустый значения user_id"
      ]
    },
    {
      "cell_type": "code",
      "execution_count": 44,
      "metadata": {
        "id": "WgLWmFZzAmRh"
      },
      "outputs": [],
      "source": [
        "# создадим словарик - который разметит новый вариант пользователя который \n",
        "new_user_id = dict()\n",
        "for i, z in zip(df.cookie_id, df.user_id):\n",
        "  if z == None:\n",
        "    new_user_id[i] = i\n",
        "  else:\n",
        "    new_user_id[i] = z "
      ]
    },
    {
      "cell_type": "code",
      "execution_count": 45,
      "metadata": {
        "id": "tqY0qoZeTnBj"
      },
      "outputs": [],
      "source": [
        "# создадим новый вариант пользователя который вбирает в себя \n",
        "df['new_user_id'] = df['cookie_id'].map(new_user_id)"
      ]
    },
    {
      "cell_type": "code",
      "execution_count": 46,
      "metadata": {
        "colab": {
          "base_uri": "https://localhost:8080/",
          "height": 897
        },
        "id": "1gahXWVHr2tG",
        "outputId": "aea0bccc-e6df-4fc7-9e2a-0ee6b8d03fd9"
      },
      "outputs": [
        {
          "data": {
            "text/html": [
              "<div>\n",
              "<style scoped>\n",
              "    .dataframe tbody tr th:only-of-type {\n",
              "        vertical-align: middle;\n",
              "    }\n",
              "\n",
              "    .dataframe tbody tr th {\n",
              "        vertical-align: top;\n",
              "    }\n",
              "\n",
              "    .dataframe thead th {\n",
              "        text-align: right;\n",
              "    }\n",
              "</style>\n",
              "<table border=\"1\" class=\"dataframe\">\n",
              "  <thead>\n",
              "    <tr style=\"text-align: right;\">\n",
              "      <th></th>\n",
              "      <th>event_date</th>\n",
              "      <th>event_timestamp</th>\n",
              "      <th>vacancy_id_</th>\n",
              "      <th>cookie_id</th>\n",
              "      <th>user_id</th>\n",
              "      <th>event_type</th>\n",
              "      <th>new_user_id</th>\n",
              "    </tr>\n",
              "  </thead>\n",
              "  <tbody>\n",
              "    <tr>\n",
              "      <th>12292563</th>\n",
              "      <td>2022-08-11</td>\n",
              "      <td>1660240768</td>\n",
              "      <td>250327</td>\n",
              "      <td>ae866f07cadf4d5390ee4e10b7e9b091</td>\n",
              "      <td>987aa97723644ef1895aaade85681bb3</td>\n",
              "      <td>preview_click_response</td>\n",
              "      <td>987aa97723644ef1895aaade85681bb3</td>\n",
              "    </tr>\n",
              "    <tr>\n",
              "      <th>12292564</th>\n",
              "      <td>2022-08-11</td>\n",
              "      <td>1660240674</td>\n",
              "      <td>133079</td>\n",
              "      <td>ae866f07cadf4d5390ee4e10b7e9b091</td>\n",
              "      <td>987aa97723644ef1895aaade85681bb3</td>\n",
              "      <td>preview_click_response</td>\n",
              "      <td>987aa97723644ef1895aaade85681bb3</td>\n",
              "    </tr>\n",
              "    <tr>\n",
              "      <th>12292565</th>\n",
              "      <td>2022-08-11</td>\n",
              "      <td>1660240721</td>\n",
              "      <td>134462</td>\n",
              "      <td>ae866f07cadf4d5390ee4e10b7e9b091</td>\n",
              "      <td>987aa97723644ef1895aaade85681bb3</td>\n",
              "      <td>preview_click_response</td>\n",
              "      <td>987aa97723644ef1895aaade85681bb3</td>\n",
              "    </tr>\n",
              "    <tr>\n",
              "      <th>12292566</th>\n",
              "      <td>2022-08-11</td>\n",
              "      <td>1660240655</td>\n",
              "      <td>136817</td>\n",
              "      <td>ae866f07cadf4d5390ee4e10b7e9b091</td>\n",
              "      <td>987aa97723644ef1895aaade85681bb3</td>\n",
              "      <td>preview_click_response</td>\n",
              "      <td>987aa97723644ef1895aaade85681bb3</td>\n",
              "    </tr>\n",
              "    <tr>\n",
              "      <th>12292567</th>\n",
              "      <td>2022-08-11</td>\n",
              "      <td>1660239343</td>\n",
              "      <td>164570</td>\n",
              "      <td>67eb24b76f0b47b29b0390fb465c20bc</td>\n",
              "      <td>None</td>\n",
              "      <td>preview_click_response</td>\n",
              "      <td>67eb24b76f0b47b29b0390fb465c20bc</td>\n",
              "    </tr>\n",
              "    <tr>\n",
              "      <th>12292568</th>\n",
              "      <td>2022-08-11</td>\n",
              "      <td>1660239042</td>\n",
              "      <td>164570</td>\n",
              "      <td>67eb24b76f0b47b29b0390fb465c20bc</td>\n",
              "      <td>None</td>\n",
              "      <td>preview_click_response</td>\n",
              "      <td>67eb24b76f0b47b29b0390fb465c20bc</td>\n",
              "    </tr>\n",
              "    <tr>\n",
              "      <th>12292569</th>\n",
              "      <td>2022-08-11</td>\n",
              "      <td>1660242236</td>\n",
              "      <td>110136</td>\n",
              "      <td>ce775682e192406dbb13af8b4fc9d5dc</td>\n",
              "      <td>1a63389451f744bdb14c743c208f9a15</td>\n",
              "      <td>preview_click_response</td>\n",
              "      <td>1a63389451f744bdb14c743c208f9a15</td>\n",
              "    </tr>\n",
              "    <tr>\n",
              "      <th>12292570</th>\n",
              "      <td>2022-08-11</td>\n",
              "      <td>1660242225</td>\n",
              "      <td>135238</td>\n",
              "      <td>ce775682e192406dbb13af8b4fc9d5dc</td>\n",
              "      <td>1a63389451f744bdb14c743c208f9a15</td>\n",
              "      <td>preview_click_response</td>\n",
              "      <td>1a63389451f744bdb14c743c208f9a15</td>\n",
              "    </tr>\n",
              "    <tr>\n",
              "      <th>12292571</th>\n",
              "      <td>2022-08-11</td>\n",
              "      <td>1660243140</td>\n",
              "      <td>143721</td>\n",
              "      <td>b9cdb878e067483b807d50de917acacd</td>\n",
              "      <td>257e6729e1754ff193d1dbdcfb6914d6</td>\n",
              "      <td>preview_click_response</td>\n",
              "      <td>257e6729e1754ff193d1dbdcfb6914d6</td>\n",
              "    </tr>\n",
              "    <tr>\n",
              "      <th>12292572</th>\n",
              "      <td>2022-08-11</td>\n",
              "      <td>1660245131</td>\n",
              "      <td>106505</td>\n",
              "      <td>5b0c4eac6d99495e9c7307f79479f41b</td>\n",
              "      <td>a1c83099275e4ba3ba562ed546d1048e</td>\n",
              "      <td>preview_click_response</td>\n",
              "      <td>a1c83099275e4ba3ba562ed546d1048e</td>\n",
              "    </tr>\n",
              "    <tr>\n",
              "      <th>12292573</th>\n",
              "      <td>2022-08-11</td>\n",
              "      <td>1660244094</td>\n",
              "      <td>248106</td>\n",
              "      <td>5b0c4eac6d99495e9c7307f79479f41b</td>\n",
              "      <td>a1c83099275e4ba3ba562ed546d1048e</td>\n",
              "      <td>preview_click_response</td>\n",
              "      <td>a1c83099275e4ba3ba562ed546d1048e</td>\n",
              "    </tr>\n",
              "    <tr>\n",
              "      <th>12292574</th>\n",
              "      <td>2022-08-11</td>\n",
              "      <td>1660244393</td>\n",
              "      <td>140503</td>\n",
              "      <td>5b0c4eac6d99495e9c7307f79479f41b</td>\n",
              "      <td>a1c83099275e4ba3ba562ed546d1048e</td>\n",
              "      <td>preview_click_response</td>\n",
              "      <td>a1c83099275e4ba3ba562ed546d1048e</td>\n",
              "    </tr>\n",
              "    <tr>\n",
              "      <th>12292575</th>\n",
              "      <td>2022-08-11</td>\n",
              "      <td>1660242714</td>\n",
              "      <td>144532</td>\n",
              "      <td>5b0c4eac6d99495e9c7307f79479f41b</td>\n",
              "      <td>a1c83099275e4ba3ba562ed546d1048e</td>\n",
              "      <td>preview_click_response</td>\n",
              "      <td>a1c83099275e4ba3ba562ed546d1048e</td>\n",
              "    </tr>\n",
              "    <tr>\n",
              "      <th>12292576</th>\n",
              "      <td>2022-08-11</td>\n",
              "      <td>1660243265</td>\n",
              "      <td>258466</td>\n",
              "      <td>4f6f2d59e52a4b558871e758f34fabc4</td>\n",
              "      <td>f4c02625d47c4dfdbcd86cc25f5764ab</td>\n",
              "      <td>preview_click_response</td>\n",
              "      <td>f4c02625d47c4dfdbcd86cc25f5764ab</td>\n",
              "    </tr>\n",
              "    <tr>\n",
              "      <th>12292577</th>\n",
              "      <td>2022-08-11</td>\n",
              "      <td>1660243282</td>\n",
              "      <td>135755</td>\n",
              "      <td>4f6f2d59e52a4b558871e758f34fabc4</td>\n",
              "      <td>f4c02625d47c4dfdbcd86cc25f5764ab</td>\n",
              "      <td>preview_click_response</td>\n",
              "      <td>f4c02625d47c4dfdbcd86cc25f5764ab</td>\n",
              "    </tr>\n",
              "    <tr>\n",
              "      <th>12292578</th>\n",
              "      <td>2022-08-11</td>\n",
              "      <td>1660242993</td>\n",
              "      <td>247263</td>\n",
              "      <td>0bbe5e11d03c49c3ba0b1b19caeeb51c</td>\n",
              "      <td>e9c4f7fc72a3485ea78c3ef793ae08b8</td>\n",
              "      <td>preview_click_response</td>\n",
              "      <td>e9c4f7fc72a3485ea78c3ef793ae08b8</td>\n",
              "    </tr>\n",
              "    <tr>\n",
              "      <th>12292579</th>\n",
              "      <td>2022-08-11</td>\n",
              "      <td>1660243740</td>\n",
              "      <td>135465</td>\n",
              "      <td>0bbe5e11d03c49c3ba0b1b19caeeb51c</td>\n",
              "      <td>e9c4f7fc72a3485ea78c3ef793ae08b8</td>\n",
              "      <td>preview_click_response</td>\n",
              "      <td>e9c4f7fc72a3485ea78c3ef793ae08b8</td>\n",
              "    </tr>\n",
              "    <tr>\n",
              "      <th>12292580</th>\n",
              "      <td>2022-08-11</td>\n",
              "      <td>1660243414</td>\n",
              "      <td>156854</td>\n",
              "      <td>0bbe5e11d03c49c3ba0b1b19caeeb51c</td>\n",
              "      <td>e9c4f7fc72a3485ea78c3ef793ae08b8</td>\n",
              "      <td>preview_click_response</td>\n",
              "      <td>e9c4f7fc72a3485ea78c3ef793ae08b8</td>\n",
              "    </tr>\n",
              "    <tr>\n",
              "      <th>12292581</th>\n",
              "      <td>2022-08-11</td>\n",
              "      <td>1660249420</td>\n",
              "      <td>164588</td>\n",
              "      <td>60cae824c046447f9db2eaad748a95ef</td>\n",
              "      <td>daf7b995a76a4c4494830e54e7b8cdc7</td>\n",
              "      <td>preview_click_response</td>\n",
              "      <td>daf7b995a76a4c4494830e54e7b8cdc7</td>\n",
              "    </tr>\n",
              "    <tr>\n",
              "      <th>12292582</th>\n",
              "      <td>2022-08-11</td>\n",
              "      <td>1660244773</td>\n",
              "      <td>145187</td>\n",
              "      <td>b9230d6415fb4a38b4e4a866317e51e7</td>\n",
              "      <td>3dc1f21028ad4fbb9686a7419fec2f21</td>\n",
              "      <td>preview_click_response</td>\n",
              "      <td>3dc1f21028ad4fbb9686a7419fec2f21</td>\n",
              "    </tr>\n",
              "    <tr>\n",
              "      <th>12292583</th>\n",
              "      <td>2022-08-11</td>\n",
              "      <td>1660246479</td>\n",
              "      <td>162851</td>\n",
              "      <td>0d3c58c6864546c689fa0997de484b30</td>\n",
              "      <td>18124998fd644e80b667a1d84bf63846</td>\n",
              "      <td>preview_click_response</td>\n",
              "      <td>18124998fd644e80b667a1d84bf63846</td>\n",
              "    </tr>\n",
              "    <tr>\n",
              "      <th>12292584</th>\n",
              "      <td>2022-08-11</td>\n",
              "      <td>1660246106</td>\n",
              "      <td>136818</td>\n",
              "      <td>ef559274a81e4ff4b92aa3e9f6805886</td>\n",
              "      <td>5c71c1f1b7cf492ba05871c400a05250</td>\n",
              "      <td>preview_click_response</td>\n",
              "      <td>5c71c1f1b7cf492ba05871c400a05250</td>\n",
              "    </tr>\n",
              "    <tr>\n",
              "      <th>12292585</th>\n",
              "      <td>2022-08-11</td>\n",
              "      <td>1660250139</td>\n",
              "      <td>143721</td>\n",
              "      <td>c4453128ae584dca8f2a8d20a7c74263</td>\n",
              "      <td>33c968125459420e89ffbc8cffece317</td>\n",
              "      <td>preview_click_response</td>\n",
              "      <td>33c968125459420e89ffbc8cffece317</td>\n",
              "    </tr>\n",
              "    <tr>\n",
              "      <th>12292586</th>\n",
              "      <td>2022-08-11</td>\n",
              "      <td>1660250318</td>\n",
              "      <td>154423</td>\n",
              "      <td>c4453128ae584dca8f2a8d20a7c74263</td>\n",
              "      <td>33c968125459420e89ffbc8cffece317</td>\n",
              "      <td>preview_click_response</td>\n",
              "      <td>33c968125459420e89ffbc8cffece317</td>\n",
              "    </tr>\n",
              "    <tr>\n",
              "      <th>12292587</th>\n",
              "      <td>2022-08-11</td>\n",
              "      <td>1660215447</td>\n",
              "      <td>194140</td>\n",
              "      <td>42b24cc1337f43d2bf100ec3c612b510</td>\n",
              "      <td>4ca2f3f932534a3f8e61c2ed489444e9</td>\n",
              "      <td>preview_click_response</td>\n",
              "      <td>4ca2f3f932534a3f8e61c2ed489444e9</td>\n",
              "    </tr>\n",
              "  </tbody>\n",
              "</table>\n",
              "</div>"
            ],
            "text/plain": [
              "          event_date  event_timestamp  vacancy_id_  \\\n",
              "12292563  2022-08-11       1660240768       250327   \n",
              "12292564  2022-08-11       1660240674       133079   \n",
              "12292565  2022-08-11       1660240721       134462   \n",
              "12292566  2022-08-11       1660240655       136817   \n",
              "12292567  2022-08-11       1660239343       164570   \n",
              "12292568  2022-08-11       1660239042       164570   \n",
              "12292569  2022-08-11       1660242236       110136   \n",
              "12292570  2022-08-11       1660242225       135238   \n",
              "12292571  2022-08-11       1660243140       143721   \n",
              "12292572  2022-08-11       1660245131       106505   \n",
              "12292573  2022-08-11       1660244094       248106   \n",
              "12292574  2022-08-11       1660244393       140503   \n",
              "12292575  2022-08-11       1660242714       144532   \n",
              "12292576  2022-08-11       1660243265       258466   \n",
              "12292577  2022-08-11       1660243282       135755   \n",
              "12292578  2022-08-11       1660242993       247263   \n",
              "12292579  2022-08-11       1660243740       135465   \n",
              "12292580  2022-08-11       1660243414       156854   \n",
              "12292581  2022-08-11       1660249420       164588   \n",
              "12292582  2022-08-11       1660244773       145187   \n",
              "12292583  2022-08-11       1660246479       162851   \n",
              "12292584  2022-08-11       1660246106       136818   \n",
              "12292585  2022-08-11       1660250139       143721   \n",
              "12292586  2022-08-11       1660250318       154423   \n",
              "12292587  2022-08-11       1660215447       194140   \n",
              "\n",
              "                                 cookie_id                           user_id  \\\n",
              "12292563  ae866f07cadf4d5390ee4e10b7e9b091  987aa97723644ef1895aaade85681bb3   \n",
              "12292564  ae866f07cadf4d5390ee4e10b7e9b091  987aa97723644ef1895aaade85681bb3   \n",
              "12292565  ae866f07cadf4d5390ee4e10b7e9b091  987aa97723644ef1895aaade85681bb3   \n",
              "12292566  ae866f07cadf4d5390ee4e10b7e9b091  987aa97723644ef1895aaade85681bb3   \n",
              "12292567  67eb24b76f0b47b29b0390fb465c20bc                              None   \n",
              "12292568  67eb24b76f0b47b29b0390fb465c20bc                              None   \n",
              "12292569  ce775682e192406dbb13af8b4fc9d5dc  1a63389451f744bdb14c743c208f9a15   \n",
              "12292570  ce775682e192406dbb13af8b4fc9d5dc  1a63389451f744bdb14c743c208f9a15   \n",
              "12292571  b9cdb878e067483b807d50de917acacd  257e6729e1754ff193d1dbdcfb6914d6   \n",
              "12292572  5b0c4eac6d99495e9c7307f79479f41b  a1c83099275e4ba3ba562ed546d1048e   \n",
              "12292573  5b0c4eac6d99495e9c7307f79479f41b  a1c83099275e4ba3ba562ed546d1048e   \n",
              "12292574  5b0c4eac6d99495e9c7307f79479f41b  a1c83099275e4ba3ba562ed546d1048e   \n",
              "12292575  5b0c4eac6d99495e9c7307f79479f41b  a1c83099275e4ba3ba562ed546d1048e   \n",
              "12292576  4f6f2d59e52a4b558871e758f34fabc4  f4c02625d47c4dfdbcd86cc25f5764ab   \n",
              "12292577  4f6f2d59e52a4b558871e758f34fabc4  f4c02625d47c4dfdbcd86cc25f5764ab   \n",
              "12292578  0bbe5e11d03c49c3ba0b1b19caeeb51c  e9c4f7fc72a3485ea78c3ef793ae08b8   \n",
              "12292579  0bbe5e11d03c49c3ba0b1b19caeeb51c  e9c4f7fc72a3485ea78c3ef793ae08b8   \n",
              "12292580  0bbe5e11d03c49c3ba0b1b19caeeb51c  e9c4f7fc72a3485ea78c3ef793ae08b8   \n",
              "12292581  60cae824c046447f9db2eaad748a95ef  daf7b995a76a4c4494830e54e7b8cdc7   \n",
              "12292582  b9230d6415fb4a38b4e4a866317e51e7  3dc1f21028ad4fbb9686a7419fec2f21   \n",
              "12292583  0d3c58c6864546c689fa0997de484b30  18124998fd644e80b667a1d84bf63846   \n",
              "12292584  ef559274a81e4ff4b92aa3e9f6805886  5c71c1f1b7cf492ba05871c400a05250   \n",
              "12292585  c4453128ae584dca8f2a8d20a7c74263  33c968125459420e89ffbc8cffece317   \n",
              "12292586  c4453128ae584dca8f2a8d20a7c74263  33c968125459420e89ffbc8cffece317   \n",
              "12292587  42b24cc1337f43d2bf100ec3c612b510  4ca2f3f932534a3f8e61c2ed489444e9   \n",
              "\n",
              "                      event_type                       new_user_id  \n",
              "12292563  preview_click_response  987aa97723644ef1895aaade85681bb3  \n",
              "12292564  preview_click_response  987aa97723644ef1895aaade85681bb3  \n",
              "12292565  preview_click_response  987aa97723644ef1895aaade85681bb3  \n",
              "12292566  preview_click_response  987aa97723644ef1895aaade85681bb3  \n",
              "12292567  preview_click_response  67eb24b76f0b47b29b0390fb465c20bc  \n",
              "12292568  preview_click_response  67eb24b76f0b47b29b0390fb465c20bc  \n",
              "12292569  preview_click_response  1a63389451f744bdb14c743c208f9a15  \n",
              "12292570  preview_click_response  1a63389451f744bdb14c743c208f9a15  \n",
              "12292571  preview_click_response  257e6729e1754ff193d1dbdcfb6914d6  \n",
              "12292572  preview_click_response  a1c83099275e4ba3ba562ed546d1048e  \n",
              "12292573  preview_click_response  a1c83099275e4ba3ba562ed546d1048e  \n",
              "12292574  preview_click_response  a1c83099275e4ba3ba562ed546d1048e  \n",
              "12292575  preview_click_response  a1c83099275e4ba3ba562ed546d1048e  \n",
              "12292576  preview_click_response  f4c02625d47c4dfdbcd86cc25f5764ab  \n",
              "12292577  preview_click_response  f4c02625d47c4dfdbcd86cc25f5764ab  \n",
              "12292578  preview_click_response  e9c4f7fc72a3485ea78c3ef793ae08b8  \n",
              "12292579  preview_click_response  e9c4f7fc72a3485ea78c3ef793ae08b8  \n",
              "12292580  preview_click_response  e9c4f7fc72a3485ea78c3ef793ae08b8  \n",
              "12292581  preview_click_response  daf7b995a76a4c4494830e54e7b8cdc7  \n",
              "12292582  preview_click_response  3dc1f21028ad4fbb9686a7419fec2f21  \n",
              "12292583  preview_click_response  18124998fd644e80b667a1d84bf63846  \n",
              "12292584  preview_click_response  5c71c1f1b7cf492ba05871c400a05250  \n",
              "12292585  preview_click_response  33c968125459420e89ffbc8cffece317  \n",
              "12292586  preview_click_response  33c968125459420e89ffbc8cffece317  \n",
              "12292587  preview_click_response  4ca2f3f932534a3f8e61c2ed489444e9  "
            ]
          },
          "execution_count": 46,
          "metadata": {},
          "output_type": "execute_result"
        }
      ],
      "source": [
        "df.tail(25) # посмотрим как преобразовалась колонка новый юзер"
      ]
    },
    {
      "cell_type": "code",
      "execution_count": 47,
      "metadata": {
        "id": "rM83xePywm00"
      },
      "outputs": [],
      "source": [
        "# удаляем колонки, которые не будут принимать участия в обучении - варинат с объединением пользователя и устройства\n",
        "df.drop(columns=['event_date', 'event_timestamp', 'user_id', 'cookie_id'], axis=1, inplace=True)"
      ]
    },
    {
      "cell_type": "code",
      "execution_count": 48,
      "metadata": {
        "id": "vfSiJUIY1r_n"
      },
      "outputs": [],
      "source": [
        "# для удобства немного выравняем данные ста\n",
        "df = df[['new_user_id', 'vacancy_id_', 'event_type']]"
      ]
    },
    {
      "cell_type": "code",
      "execution_count": 49,
      "metadata": {
        "colab": {
          "base_uri": "https://localhost:8080/",
          "height": 206
        },
        "id": "vUcQ3yAs2n1m",
        "outputId": "642289c4-f2f2-4eaf-e735-95731cdbfa5d"
      },
      "outputs": [
        {
          "data": {
            "text/html": [
              "<div>\n",
              "<style scoped>\n",
              "    .dataframe tbody tr th:only-of-type {\n",
              "        vertical-align: middle;\n",
              "    }\n",
              "\n",
              "    .dataframe tbody tr th {\n",
              "        vertical-align: top;\n",
              "    }\n",
              "\n",
              "    .dataframe thead th {\n",
              "        text-align: right;\n",
              "    }\n",
              "</style>\n",
              "<table border=\"1\" class=\"dataframe\">\n",
              "  <thead>\n",
              "    <tr style=\"text-align: right;\">\n",
              "      <th></th>\n",
              "      <th>new_user_id</th>\n",
              "      <th>vacancy_id_</th>\n",
              "      <th>event_type</th>\n",
              "    </tr>\n",
              "  </thead>\n",
              "  <tbody>\n",
              "    <tr>\n",
              "      <th>0</th>\n",
              "      <td>951f53de61764ea0b51317200a0dbbfc</td>\n",
              "      <td>129850</td>\n",
              "      <td>show_vacancy</td>\n",
              "    </tr>\n",
              "    <tr>\n",
              "      <th>1</th>\n",
              "      <td>f5a2326a17484330aa8cb4019f1b1960</td>\n",
              "      <td>108347</td>\n",
              "      <td>show_vacancy</td>\n",
              "    </tr>\n",
              "    <tr>\n",
              "      <th>2</th>\n",
              "      <td>f5a2326a17484330aa8cb4019f1b1960</td>\n",
              "      <td>109069</td>\n",
              "      <td>show_vacancy</td>\n",
              "    </tr>\n",
              "    <tr>\n",
              "      <th>3</th>\n",
              "      <td>f5a2326a17484330aa8cb4019f1b1960</td>\n",
              "      <td>171425</td>\n",
              "      <td>show_vacancy</td>\n",
              "    </tr>\n",
              "    <tr>\n",
              "      <th>4</th>\n",
              "      <td>f5a2326a17484330aa8cb4019f1b1960</td>\n",
              "      <td>252384</td>\n",
              "      <td>show_vacancy</td>\n",
              "    </tr>\n",
              "  </tbody>\n",
              "</table>\n",
              "</div>"
            ],
            "text/plain": [
              "                        new_user_id  vacancy_id_    event_type\n",
              "0  951f53de61764ea0b51317200a0dbbfc       129850  show_vacancy\n",
              "1  f5a2326a17484330aa8cb4019f1b1960       108347  show_vacancy\n",
              "2  f5a2326a17484330aa8cb4019f1b1960       109069  show_vacancy\n",
              "3  f5a2326a17484330aa8cb4019f1b1960       171425  show_vacancy\n",
              "4  f5a2326a17484330aa8cb4019f1b1960       252384  show_vacancy"
            ]
          },
          "execution_count": 49,
          "metadata": {},
          "output_type": "execute_result"
        }
      ],
      "source": [
        "df.head()"
      ]
    },
    {
      "attachments": {},
      "cell_type": "markdown",
      "metadata": {},
      "source": [
        "Блок кода который позволяет агрегировать даннные и удалить лишние взаимодействия (5 раз посмотреть вакансию)\n",
        "\n",
        "---"
      ]
    },
    {
      "cell_type": "code",
      "execution_count": 50,
      "metadata": {},
      "outputs": [],
      "source": [
        "df = df.groupby(['new_user_id', 'vacancy_id_', 'event_type']).count().reset_index()"
      ]
    },
    {
      "cell_type": "code",
      "execution_count": 51,
      "metadata": {},
      "outputs": [
        {
          "data": {
            "text/html": [
              "<div>\n",
              "<style scoped>\n",
              "    .dataframe tbody tr th:only-of-type {\n",
              "        vertical-align: middle;\n",
              "    }\n",
              "\n",
              "    .dataframe tbody tr th {\n",
              "        vertical-align: top;\n",
              "    }\n",
              "\n",
              "    .dataframe thead th {\n",
              "        text-align: right;\n",
              "    }\n",
              "</style>\n",
              "<table border=\"1\" class=\"dataframe\">\n",
              "  <thead>\n",
              "    <tr style=\"text-align: right;\">\n",
              "      <th></th>\n",
              "      <th>new_user_id</th>\n",
              "      <th>vacancy_id_</th>\n",
              "      <th>event_type</th>\n",
              "    </tr>\n",
              "  </thead>\n",
              "  <tbody>\n",
              "    <tr>\n",
              "      <th>0</th>\n",
              "      <td>000089d26cdd49d68839c68bc10f2cf2</td>\n",
              "      <td>177380</td>\n",
              "      <td>preview_click_vacancy</td>\n",
              "    </tr>\n",
              "    <tr>\n",
              "      <th>1</th>\n",
              "      <td>000089d26cdd49d68839c68bc10f2cf2</td>\n",
              "      <td>177380</td>\n",
              "      <td>show_vacancy</td>\n",
              "    </tr>\n",
              "    <tr>\n",
              "      <th>2</th>\n",
              "      <td>000089d26cdd49d68839c68bc10f2cf2</td>\n",
              "      <td>181353</td>\n",
              "      <td>preview_click_vacancy</td>\n",
              "    </tr>\n",
              "    <tr>\n",
              "      <th>3</th>\n",
              "      <td>000089d26cdd49d68839c68bc10f2cf2</td>\n",
              "      <td>181353</td>\n",
              "      <td>show_vacancy</td>\n",
              "    </tr>\n",
              "    <tr>\n",
              "      <th>4</th>\n",
              "      <td>000089d26cdd49d68839c68bc10f2cf2</td>\n",
              "      <td>195890</td>\n",
              "      <td>preview_click_vacancy</td>\n",
              "    </tr>\n",
              "  </tbody>\n",
              "</table>\n",
              "</div>"
            ],
            "text/plain": [
              "                        new_user_id  vacancy_id_             event_type\n",
              "0  000089d26cdd49d68839c68bc10f2cf2       177380  preview_click_vacancy\n",
              "1  000089d26cdd49d68839c68bc10f2cf2       177380           show_vacancy\n",
              "2  000089d26cdd49d68839c68bc10f2cf2       181353  preview_click_vacancy\n",
              "3  000089d26cdd49d68839c68bc10f2cf2       181353           show_vacancy\n",
              "4  000089d26cdd49d68839c68bc10f2cf2       195890  preview_click_vacancy"
            ]
          },
          "execution_count": 51,
          "metadata": {},
          "output_type": "execute_result"
        }
      ],
      "source": [
        "df.head()"
      ]
    },
    {
      "cell_type": "code",
      "execution_count": 52,
      "metadata": {},
      "outputs": [
        {
          "name": "stdout",
          "output_type": "stream",
          "text": [
            "<class 'pandas.core.frame.DataFrame'>\n",
            "RangeIndex: 9346647 entries, 0 to 9346646\n",
            "Data columns (total 3 columns):\n",
            " #   Column       Dtype \n",
            "---  ------       ----- \n",
            " 0   new_user_id  object\n",
            " 1   vacancy_id_  int64 \n",
            " 2   event_type   object\n",
            "dtypes: int64(1), object(2)\n",
            "memory usage: 213.9+ MB\n"
          ]
        }
      ],
      "source": [
        "df.info() # мы видим что базовый датасет уже меньше уже не 12+ млн а 9+"
      ]
    },
    {
      "cell_type": "markdown",
      "metadata": {
        "id": "CSHmR3FF8t1O"
      },
      "source": [
        " ### Обработка данных первая исследовательская позиция (Маштабирование взаимодействий и их силы)\n",
        " ---"
      ]
    },
    {
      "cell_type": "code",
      "execution_count": 27,
      "metadata": {
        "colab": {
          "base_uri": "https://localhost:8080/"
        },
        "id": "pOZldAxcrTjC",
        "outputId": "0d0557e0-5a1b-4ddb-d4f4-5658be4d43c1"
      },
      "outputs": [
        {
          "data": {
            "text/plain": [
              "show_vacancy              4284563\n",
              "preview_click_vacancy     3930718\n",
              "click_response             354035\n",
              "click_contacts             197767\n",
              "preview_click_response     177402\n",
              "click_favorite             149319\n",
              "preview_click_favorite     100158\n",
              "preview_click_contacts      78492\n",
              "click_phone                 61251\n",
              "preview_click_phone         12942\n",
              "Name: event_type, dtype: int64"
            ]
          },
          "execution_count": 27,
          "metadata": {},
          "output_type": "execute_result"
        }
      ],
      "source": [
        "# Вот тут мы посмотрим на количество определенного вида взаимодействий в данных\n",
        "df['event_type'].value_counts()"
      ]
    },
    {
      "cell_type": "markdown",
      "metadata": {
        "id": "6WKU2Jyp9LE_"
      },
      "source": [
        "* 1 show_vacancy - просмотр вакансии\n",
        "* 2 preview_click_vacancy - клик по карточке вакансии\n",
        "* **3 click_response - отклик со страницы вакансии**\n",
        "* **4 preview_click_response - отклик с карточки вакансии**\n",
        "* 5 click_favorite - добавление вакансии в избранное  со страницы вакансии\n",
        "* 6 preview_click_favorite - добавление вакансии в избраное с карточки вакансии\n",
        "* **7 click_contacts - клик на контакты со страницы вакансии**\n",
        "* **8 preview_click_contacts - клик на контакты из карточки вакансии**\n",
        "* **9 click_phone - клик на номер телефона, указанный в вакансии**\n",
        "* **10 preview_click_phone - клик на номер телефона из карточки вакансии**\n",
        "\n",
        "Жирным выделены искомые \"\"откликнется\"\" и \"\"позвонит\"\"\"\n",
        "! Стоит обратить внимание на то, что позиции 3 и 4 по частоте идут выше чем позиции 5 и 6, которые нам в положительное взаимодействие не засчитываются. В свзи с этим необходимо проработать несколько вариантов маштабирования данных"
      ]
    },
    {
      "cell_type": "code",
      "execution_count": 53,
      "metadata": {
        "id": "sV2ZnhqdxwWL"
      },
      "outputs": [],
      "source": [
        "# проверим если закодировать значимость взаимодейстивий по их количеству в выборке - при прочих стандартных параметрах этот\n",
        "# способ показал результат 0,041 - без каких либо ухищерений\n",
        "df['eventStrength'] = df['event_type'].map({'show_vacancy': 1.0,\n",
        "                                     'preview_click_vacancy': 2.0,\n",
        "                                     'click_response': 3.0,\n",
        "                                     'click_contacts': 4.0,\n",
        "                                     'preview_click_response': 5.0,\n",
        "                                     'click_favorite': 6.0,\n",
        "                                     'preview_click_favorite': 7.0,\n",
        "                                     'preview_click_contacts': 8.0,\n",
        "                                     'click_phone': 9.0,\n",
        "                                     'preview_click_phone': 10.0})"
      ]
    },
    {
      "cell_type": "code",
      "execution_count": 54,
      "metadata": {
        "colab": {
          "base_uri": "https://localhost:8080/"
        },
        "id": "g8_Aao2Bwxsj",
        "outputId": "cdc16177-d9c8-400d-b9d0-1bf48b981cbb"
      },
      "outputs": [
        {
          "data": {
            "text/plain": [
              "1.0     4284563\n",
              "2.0     3930718\n",
              "3.0      354035\n",
              "4.0      197767\n",
              "5.0      177402\n",
              "6.0      149319\n",
              "7.0      100158\n",
              "8.0       78492\n",
              "9.0       61251\n",
              "10.0      12942\n",
              "Name: eventStrength, dtype: int64"
            ]
          },
          "execution_count": 54,
          "metadata": {},
          "output_type": "execute_result"
        }
      ],
      "source": [
        "# проверим правильно ли мы закодировали взаимодействия\n",
        "df['eventStrength'].value_counts()"
      ]
    },
    {
      "cell_type": "markdown",
      "metadata": {
        "id": "JwZsVThOBv9J"
      },
      "source": [
        "Далее несколько ячеек кода для различных вариаций оценки взаимодействия их стоит прогнать с базовыми значениями и посмотреть на результаты (возможны и другие предложения):"
      ]
    },
    {
      "cell_type": "code",
      "execution_count": null,
      "metadata": {
        "id": "AYHwFB6eQr3Y"
      },
      "outputs": [],
      "source": [
        "# проверить потом - вот такая модель должна дать нам больший перекос в сторону искомых взаимодействий перед обычными\n",
        "df['eventStrength'] = df['event_type'].map({'show_vacancy': 1.0,\n",
        "                                     'preview_click_vacancy': 1.0,\n",
        "                                     'click_favorite': 1.0,\n",
        "                                     'preview_click_favorite': 1.0,\n",
        "                                     'click_response': 10.0,\n",
        "                                     'preview_click_response': 10.0,\n",
        "                                     'click_contacts': 10.0,\n",
        "                                     'preview_click_contacts': 10.0,\n",
        "                                     'click_phone': 10.0,\n",
        "                                     'preview_click_phone': 10.0})"
      ]
    },
    {
      "cell_type": "code",
      "execution_count": null,
      "metadata": {
        "id": "PlCq-UySxxI4"
      },
      "outputs": [],
      "source": [
        "# Вот это разбиение по нашему заданию, то есть первые 4 отрицательные взаимодействия остальные положительные\n",
        "df['eventStrength'] = df['event_type'].map({'show_vacancy': 1.0,\n",
        "                                     'preview_click_vacancy': 2.0,\n",
        "                                     'click_favorite': 3.0,\n",
        "                                     'preview_click_favorite': 4.0,\n",
        "                                     'click_response': 5.0,\n",
        "                                     'click_contacts': 6.0,\n",
        "                                     'preview_click_response': 7.0,\n",
        "                                     'preview_click_contacts': 8.0,\n",
        "                                     'click_phone': 9.0,\n",
        "                                     'preview_click_phone': 10.0})"
      ]
    },
    {
      "cell_type": "code",
      "execution_count": null,
      "metadata": {
        "id": "1qGhG3NHAJER"
      },
      "outputs": [],
      "source": [
        "# Вот это разбиение по нашему заданию, но незначимые мы закодируем нулями нужные единицами, но не знаю как это пойдет\n",
        "# Нули в матрице могут восприниматься как отсутсвие взаимодействия, а это неправда\n",
        "df['eventStrength'] = df['event_type'].map({'show_vacancy': 0.0,\n",
        "                                     'preview_click_vacancy': 0.0,\n",
        "                                     'click_favorite': 0.0,\n",
        "                                     'preview_click_favorite': 0.0,\n",
        "                                     'click_response': 1.0,\n",
        "                                     'click_contacts': 1.0,\n",
        "                                     'preview_click_response': 1.0,\n",
        "                                     'preview_click_contacts': 1.0,\n",
        "                                     'click_phone': 1.0,\n",
        "                                     'preview_click_phone': 1.0})"
      ]
    },
    {
      "cell_type": "code",
      "execution_count": null,
      "metadata": {
        "id": "kTzyM9oOBKce"
      },
      "outputs": [],
      "source": [
        "# Вот это разбиение по нашему заданию, но незначимые мы закодируем 1 нужные 2\n",
        "df['eventStrength'] = df['event_type'].map({'show_vacancy': 1.0,\n",
        "                                     'preview_click_vacancy': 1.0,\n",
        "                                     'click_favorite': 1.0,\n",
        "                                     'preview_click_favorite': 1.0,\n",
        "                                     'click_response': 2.0,\n",
        "                                     'click_contacts': 2.0,\n",
        "                                     'preview_click_response': 2.0,\n",
        "                                     'preview_click_contacts': 2.0,\n",
        "                                     'click_phone': 2.0,\n",
        "                                     'preview_click_phone': 2.0})"
      ]
    },
    {
      "cell_type": "code",
      "execution_count": null,
      "metadata": {
        "id": "eZ3CIkd5BfaP"
      },
      "outputs": [],
      "source": [
        "# Вот это разбиение по нашему заданию, ну и последний вариант это вот так:\n",
        "df['eventStrength'] = df['event_type'].map({'show_vacancy': 0.1,\n",
        "                                     'preview_click_vacancy': 0.1,\n",
        "                                     'click_favorite': 0.1,\n",
        "                                     'preview_click_favorite': 0.1,\n",
        "                                     'click_response': 1.0,\n",
        "                                     'click_contacts': 1.0,\n",
        "                                     'preview_click_response': 1.0,\n",
        "                                     'preview_click_contacts': 1.0,\n",
        "                                     'click_phone': 1.0,\n",
        "                                     'preview_click_phone': 1.0})"
      ]
    },
    {
      "cell_type": "markdown",
      "metadata": {
        "id": "5LZzYv87CfCO"
      },
      "source": [
        "Группировка данных:\n",
        "\n",
        "Еще один point № 3 по которому стоит провести исследование. Группировка схлопывает взаимодействия и выдает результат в виде силы взаимодействия\n",
        "\n",
        "---"
      ]
    },
    {
      "cell_type": "markdown",
      "metadata": {
        "id": "5qoJ6xz93U90"
      },
      "source": [
        "Тут мы поменяем на новый столбец соедиения устройства и пользователя"
      ]
    },
    {
      "cell_type": "code",
      "execution_count": 55,
      "metadata": {
        "id": "3vIuiRNn3T77"
      },
      "outputs": [],
      "source": [
        "# сгруппируем сочетания ваканции и человека при этом суммируем историю из взаимодействия в числах, чем больще число\n",
        "# тем больше интерес человека к вакансии - а значит больше и сила взаимодействия\n",
        "\n",
        "grouped_df = df.groupby(['new_user_id', 'vacancy_id_']).sum('numeric_only').reset_index()"
      ]
    },
    {
      "cell_type": "code",
      "execution_count": null,
      "metadata": {},
      "outputs": [],
      "source": [
        "# попробуем еще 2 варината группировки - по максимуму\n",
        "\n",
        "#grouped_df = df.groupby(['new_user_id', 'vacancy_id_']).max('numeric_only').reset_index()"
      ]
    },
    {
      "cell_type": "code",
      "execution_count": null,
      "metadata": {},
      "outputs": [],
      "source": [
        "# попробуем по пробуем группировку по среднему\n",
        "\n",
        "# grouped_df = df.groupby(['new_user_id', 'vacancy_id_']).mean('numeric_only').reset_index()"
      ]
    },
    {
      "cell_type": "code",
      "execution_count": 56,
      "metadata": {
        "colab": {
          "base_uri": "https://localhost:8080/"
        },
        "id": "2-4TgU95Qr3Z",
        "outputId": "7dac946d-9b40-4646-e6ce-efe32919e039"
      },
      "outputs": [
        {
          "name": "stdout",
          "output_type": "stream",
          "text": [
            "<class 'pandas.core.frame.DataFrame'>\n",
            "RangeIndex: 4663118 entries, 0 to 4663117\n",
            "Data columns (total 3 columns):\n",
            " #   Column         Dtype  \n",
            "---  ------         -----  \n",
            " 0   new_user_id    object \n",
            " 1   vacancy_id_    int64  \n",
            " 2   eventStrength  float64\n",
            "dtypes: float64(1), int64(1), object(1)\n",
            "memory usage: 106.7+ MB\n"
          ]
        }
      ],
      "source": [
        "# с 9 000 000 + наши данные схлопнулись до 4 500 000 +\n",
        "grouped_df.info()"
      ]
    },
    {
      "cell_type": "code",
      "execution_count": 57,
      "metadata": {
        "colab": {
          "base_uri": "https://localhost:8080/",
          "height": 363
        },
        "id": "-dMzkH07Qr3Z",
        "outputId": "46eb8b33-75c2-4e78-a150-ee74d75223ae"
      },
      "outputs": [
        {
          "data": {
            "text/html": [
              "<div>\n",
              "<style scoped>\n",
              "    .dataframe tbody tr th:only-of-type {\n",
              "        vertical-align: middle;\n",
              "    }\n",
              "\n",
              "    .dataframe tbody tr th {\n",
              "        vertical-align: top;\n",
              "    }\n",
              "\n",
              "    .dataframe thead th {\n",
              "        text-align: right;\n",
              "    }\n",
              "</style>\n",
              "<table border=\"1\" class=\"dataframe\">\n",
              "  <thead>\n",
              "    <tr style=\"text-align: right;\">\n",
              "      <th></th>\n",
              "      <th>new_user_id</th>\n",
              "      <th>vacancy_id_</th>\n",
              "      <th>eventStrength</th>\n",
              "    </tr>\n",
              "  </thead>\n",
              "  <tbody>\n",
              "    <tr>\n",
              "      <th>3780133</th>\n",
              "      <td>cf46e9b6691d4e0480fbcdf457a985a0</td>\n",
              "      <td>114328</td>\n",
              "      <td>3.0</td>\n",
              "    </tr>\n",
              "    <tr>\n",
              "      <th>207446</th>\n",
              "      <td>0b0d7c1548f04693a5e89f2548561ece</td>\n",
              "      <td>168572</td>\n",
              "      <td>10.0</td>\n",
              "    </tr>\n",
              "    <tr>\n",
              "      <th>3881827</th>\n",
              "      <td>d4e478fff9bc499fa1fb265a4fcbbf1f</td>\n",
              "      <td>204285</td>\n",
              "      <td>3.0</td>\n",
              "    </tr>\n",
              "    <tr>\n",
              "      <th>1861438</th>\n",
              "      <td>65fd5b1b3ee8453f8212f78c26f4776d</td>\n",
              "      <td>190030</td>\n",
              "      <td>3.0</td>\n",
              "    </tr>\n",
              "    <tr>\n",
              "      <th>3687438</th>\n",
              "      <td>ca2cd9daa19646198ebe0868b8482335</td>\n",
              "      <td>113707</td>\n",
              "      <td>6.0</td>\n",
              "    </tr>\n",
              "    <tr>\n",
              "      <th>562815</th>\n",
              "      <td>1edd893b889447c08cc218e024cf4b84</td>\n",
              "      <td>135106</td>\n",
              "      <td>3.0</td>\n",
              "    </tr>\n",
              "    <tr>\n",
              "      <th>3355361</th>\n",
              "      <td>b81b22b2e4354ac4879a2ad65c7a3b90</td>\n",
              "      <td>168935</td>\n",
              "      <td>3.0</td>\n",
              "    </tr>\n",
              "    <tr>\n",
              "      <th>3563115</th>\n",
              "      <td>c375868270844d77a7b6475bf4b7c3ea</td>\n",
              "      <td>180526</td>\n",
              "      <td>3.0</td>\n",
              "    </tr>\n",
              "    <tr>\n",
              "      <th>856808</th>\n",
              "      <td>2ee7918fae3049a795218e52c8f03eaf</td>\n",
              "      <td>204287</td>\n",
              "      <td>3.0</td>\n",
              "    </tr>\n",
              "    <tr>\n",
              "      <th>3300004</th>\n",
              "      <td>b5223f45ed714a67abec880531e41628</td>\n",
              "      <td>188337</td>\n",
              "      <td>3.0</td>\n",
              "    </tr>\n",
              "  </tbody>\n",
              "</table>\n",
              "</div>"
            ],
            "text/plain": [
              "                              new_user_id  vacancy_id_  eventStrength\n",
              "3780133  cf46e9b6691d4e0480fbcdf457a985a0       114328            3.0\n",
              "207446   0b0d7c1548f04693a5e89f2548561ece       168572           10.0\n",
              "3881827  d4e478fff9bc499fa1fb265a4fcbbf1f       204285            3.0\n",
              "1861438  65fd5b1b3ee8453f8212f78c26f4776d       190030            3.0\n",
              "3687438  ca2cd9daa19646198ebe0868b8482335       113707            6.0\n",
              "562815   1edd893b889447c08cc218e024cf4b84       135106            3.0\n",
              "3355361  b81b22b2e4354ac4879a2ad65c7a3b90       168935            3.0\n",
              "3563115  c375868270844d77a7b6475bf4b7c3ea       180526            3.0\n",
              "856808   2ee7918fae3049a795218e52c8f03eaf       204287            3.0\n",
              "3300004  b5223f45ed714a67abec880531e41628       188337            3.0"
            ]
          },
          "execution_count": 57,
          "metadata": {},
          "output_type": "execute_result"
        }
      ],
      "source": [
        "# посмотрим как они выглядят теперь, далее можно будет сравнить как выглядит одно и тоже сравнение в контексте\n",
        "# других вариантов маштабирования силы взаимодействий \n",
        "grouped_df.sample(10)"
      ]
    },
    {
      "cell_type": "code",
      "execution_count": 58,
      "metadata": {
        "colab": {
          "base_uri": "https://localhost:8080/",
          "height": 363
        },
        "id": "lIcPy9MRnLrG",
        "outputId": "84348541-5d57-4466-d6d1-812b4d1fb7e3"
      },
      "outputs": [
        {
          "data": {
            "text/html": [
              "<div>\n",
              "<style scoped>\n",
              "    .dataframe tbody tr th:only-of-type {\n",
              "        vertical-align: middle;\n",
              "    }\n",
              "\n",
              "    .dataframe tbody tr th {\n",
              "        vertical-align: top;\n",
              "    }\n",
              "\n",
              "    .dataframe thead th {\n",
              "        text-align: right;\n",
              "    }\n",
              "</style>\n",
              "<table border=\"1\" class=\"dataframe\">\n",
              "  <thead>\n",
              "    <tr style=\"text-align: right;\">\n",
              "      <th></th>\n",
              "      <th>new_user_id</th>\n",
              "      <th>vacancy_id_</th>\n",
              "      <th>eventStrength</th>\n",
              "    </tr>\n",
              "  </thead>\n",
              "  <tbody>\n",
              "    <tr>\n",
              "      <th>4252943</th>\n",
              "      <td>e9647deb68d6489c8f23fd7ff250f18c</td>\n",
              "      <td>210068</td>\n",
              "      <td>16.0</td>\n",
              "    </tr>\n",
              "    <tr>\n",
              "      <th>1577784</th>\n",
              "      <td>563d528309fd42399e1a97db5d42e9bb</td>\n",
              "      <td>210068</td>\n",
              "      <td>11.0</td>\n",
              "    </tr>\n",
              "    <tr>\n",
              "      <th>4657009</th>\n",
              "      <td>ffac1d4fb8ad4bb3a625d05f037a7f7f</td>\n",
              "      <td>210068</td>\n",
              "      <td>7.0</td>\n",
              "    </tr>\n",
              "    <tr>\n",
              "      <th>3216977</th>\n",
              "      <td>b08259ccb54a4e9b8fe4c5bf2dc0d180</td>\n",
              "      <td>210068</td>\n",
              "      <td>7.0</td>\n",
              "    </tr>\n",
              "    <tr>\n",
              "      <th>3046358</th>\n",
              "      <td>a73d2217a5a84960a43c5b422294e9a3</td>\n",
              "      <td>210068</td>\n",
              "      <td>6.0</td>\n",
              "    </tr>\n",
              "    <tr>\n",
              "      <th>1567378</th>\n",
              "      <td>55b03f3b497d416fa749e9c0832f7e07</td>\n",
              "      <td>210068</td>\n",
              "      <td>6.0</td>\n",
              "    </tr>\n",
              "    <tr>\n",
              "      <th>3822483</th>\n",
              "      <td>d1a5a18ca6f745d0820d6380b8b3b160</td>\n",
              "      <td>210068</td>\n",
              "      <td>3.0</td>\n",
              "    </tr>\n",
              "    <tr>\n",
              "      <th>2271992</th>\n",
              "      <td>7caf209c68c44e8b8e9cd8a318f3d17f</td>\n",
              "      <td>210068</td>\n",
              "      <td>3.0</td>\n",
              "    </tr>\n",
              "    <tr>\n",
              "      <th>2593743</th>\n",
              "      <td>8e529c2149044ec6aeb033d9665ee3f2</td>\n",
              "      <td>210068</td>\n",
              "      <td>3.0</td>\n",
              "    </tr>\n",
              "    <tr>\n",
              "      <th>2666833</th>\n",
              "      <td>9237ba25eea046a4a4114091e0c46bf2</td>\n",
              "      <td>210068</td>\n",
              "      <td>3.0</td>\n",
              "    </tr>\n",
              "  </tbody>\n",
              "</table>\n",
              "</div>"
            ],
            "text/plain": [
              "                              new_user_id  vacancy_id_  eventStrength\n",
              "4252943  e9647deb68d6489c8f23fd7ff250f18c       210068           16.0\n",
              "1577784  563d528309fd42399e1a97db5d42e9bb       210068           11.0\n",
              "4657009  ffac1d4fb8ad4bb3a625d05f037a7f7f       210068            7.0\n",
              "3216977  b08259ccb54a4e9b8fe4c5bf2dc0d180       210068            7.0\n",
              "3046358  a73d2217a5a84960a43c5b422294e9a3       210068            6.0\n",
              "1567378  55b03f3b497d416fa749e9c0832f7e07       210068            6.0\n",
              "3822483  d1a5a18ca6f745d0820d6380b8b3b160       210068            3.0\n",
              "2271992  7caf209c68c44e8b8e9cd8a318f3d17f       210068            3.0\n",
              "2593743  8e529c2149044ec6aeb033d9665ee3f2       210068            3.0\n",
              "2666833  9237ba25eea046a4a4114091e0c46bf2       210068            3.0"
            ]
          },
          "execution_count": 58,
          "metadata": {},
          "output_type": "execute_result"
        }
      ],
      "source": [
        "# посмотрим на одну вакансию в ключе ее взаимодействия с пользователями\n",
        "grouped_df[grouped_df['vacancy_id_'] == 210068].sort_values('eventStrength', ascending=False).head(10)"
      ]
    },
    {
      "cell_type": "code",
      "execution_count": 59,
      "metadata": {
        "colab": {
          "base_uri": "https://localhost:8080/",
          "height": 363
        },
        "id": "t-A0s6DYzgwf",
        "outputId": "ef582fc0-ab40-4dd1-a445-2cc90bc3a8b6"
      },
      "outputs": [
        {
          "data": {
            "text/html": [
              "<div>\n",
              "<style scoped>\n",
              "    .dataframe tbody tr th:only-of-type {\n",
              "        vertical-align: middle;\n",
              "    }\n",
              "\n",
              "    .dataframe tbody tr th {\n",
              "        vertical-align: top;\n",
              "    }\n",
              "\n",
              "    .dataframe thead th {\n",
              "        text-align: right;\n",
              "    }\n",
              "</style>\n",
              "<table border=\"1\" class=\"dataframe\">\n",
              "  <thead>\n",
              "    <tr style=\"text-align: right;\">\n",
              "      <th></th>\n",
              "      <th>new_user_id</th>\n",
              "      <th>vacancy_id_</th>\n",
              "      <th>eventStrength</th>\n",
              "    </tr>\n",
              "  </thead>\n",
              "  <tbody>\n",
              "    <tr>\n",
              "      <th>4252939</th>\n",
              "      <td>e9647deb68d6489c8f23fd7ff250f18c</td>\n",
              "      <td>193422</td>\n",
              "      <td>31.0</td>\n",
              "    </tr>\n",
              "    <tr>\n",
              "      <th>4252941</th>\n",
              "      <td>e9647deb68d6489c8f23fd7ff250f18c</td>\n",
              "      <td>199261</td>\n",
              "      <td>16.0</td>\n",
              "    </tr>\n",
              "    <tr>\n",
              "      <th>4252943</th>\n",
              "      <td>e9647deb68d6489c8f23fd7ff250f18c</td>\n",
              "      <td>210068</td>\n",
              "      <td>16.0</td>\n",
              "    </tr>\n",
              "    <tr>\n",
              "      <th>4252937</th>\n",
              "      <td>e9647deb68d6489c8f23fd7ff250f18c</td>\n",
              "      <td>189354</td>\n",
              "      <td>15.0</td>\n",
              "    </tr>\n",
              "    <tr>\n",
              "      <th>4252947</th>\n",
              "      <td>e9647deb68d6489c8f23fd7ff250f18c</td>\n",
              "      <td>233960</td>\n",
              "      <td>13.0</td>\n",
              "    </tr>\n",
              "    <tr>\n",
              "      <th>4252945</th>\n",
              "      <td>e9647deb68d6489c8f23fd7ff250f18c</td>\n",
              "      <td>224451</td>\n",
              "      <td>13.0</td>\n",
              "    </tr>\n",
              "    <tr>\n",
              "      <th>4252942</th>\n",
              "      <td>e9647deb68d6489c8f23fd7ff250f18c</td>\n",
              "      <td>203869</td>\n",
              "      <td>13.0</td>\n",
              "    </tr>\n",
              "    <tr>\n",
              "      <th>4252950</th>\n",
              "      <td>e9647deb68d6489c8f23fd7ff250f18c</td>\n",
              "      <td>236079</td>\n",
              "      <td>13.0</td>\n",
              "    </tr>\n",
              "    <tr>\n",
              "      <th>4252936</th>\n",
              "      <td>e9647deb68d6489c8f23fd7ff250f18c</td>\n",
              "      <td>181329</td>\n",
              "      <td>13.0</td>\n",
              "    </tr>\n",
              "    <tr>\n",
              "      <th>4252938</th>\n",
              "      <td>e9647deb68d6489c8f23fd7ff250f18c</td>\n",
              "      <td>192038</td>\n",
              "      <td>4.0</td>\n",
              "    </tr>\n",
              "  </tbody>\n",
              "</table>\n",
              "</div>"
            ],
            "text/plain": [
              "                              new_user_id  vacancy_id_  eventStrength\n",
              "4252939  e9647deb68d6489c8f23fd7ff250f18c       193422           31.0\n",
              "4252941  e9647deb68d6489c8f23fd7ff250f18c       199261           16.0\n",
              "4252943  e9647deb68d6489c8f23fd7ff250f18c       210068           16.0\n",
              "4252937  e9647deb68d6489c8f23fd7ff250f18c       189354           15.0\n",
              "4252947  e9647deb68d6489c8f23fd7ff250f18c       233960           13.0\n",
              "4252945  e9647deb68d6489c8f23fd7ff250f18c       224451           13.0\n",
              "4252942  e9647deb68d6489c8f23fd7ff250f18c       203869           13.0\n",
              "4252950  e9647deb68d6489c8f23fd7ff250f18c       236079           13.0\n",
              "4252936  e9647deb68d6489c8f23fd7ff250f18c       181329           13.0\n",
              "4252938  e9647deb68d6489c8f23fd7ff250f18c       192038            4.0"
            ]
          },
          "execution_count": 59,
          "metadata": {},
          "output_type": "execute_result"
        }
      ],
      "source": [
        "# посмотрим на одного пользователя в ключе его взаимодействия с вакансиями\n",
        "grouped_df[grouped_df['new_user_id'] == 'e9647deb68d6489c8f23fd7ff250f18c'].sort_values('eventStrength', ascending=False).head(10)"
      ]
    },
    {
      "cell_type": "markdown",
      "metadata": {
        "id": "d6HYg_5FysLz"
      },
      "source": [
        "Вот к этому блоку нужно подойти очень внимательно - это выделение категориальных и числовых столбцов, в первых прогонах мы обошлись вот таким вариантом, но можно будет посмотреть и выделение нумированных вакансий (у нас в матрице с 0 до 100 000 значений нет, а номера есть, но может этого и ничего страшного)\n",
        "\n",
        "---"
      ]
    },
    {
      "cell_type": "code",
      "execution_count": 60,
      "metadata": {
        "id": "Hj8ItCotrTjI"
      },
      "outputs": [],
      "source": [
        "grouped_df['new_user_id'] = grouped_df['new_user_id'].astype(\"category\") # наименование вакансии в категорию\n",
        "#grouped_df['vacancy_id_'] = grouped_df['vacancy_id_'].astype(\"category\") # наименование вакансии в категорию"
      ]
    },
    {
      "cell_type": "code",
      "execution_count": 61,
      "metadata": {
        "id": "X0SCKJ88o_dv"
      },
      "outputs": [],
      "source": [
        "grouped_df['new_user_id_num'] = grouped_df['new_user_id'].cat.codes # вот тут выделяем числовые значения\n",
        "#grouped_df['vacancy_id_num'] = grouped_df['vacancy_id_'].cat.codes # и вот тут выделим"
      ]
    },
    {
      "cell_type": "markdown",
      "metadata": {
        "id": "HmSEG1NnQr3a"
      },
      "source": [
        "Продолжаем готовить данные для разряженных матриц\n",
        "\n",
        "---"
      ]
    },
    {
      "cell_type": "code",
      "execution_count": 62,
      "metadata": {
        "id": "L5qwt3uP0822"
      },
      "outputs": [],
      "source": [
        "grouped_df = grouped_df[['new_user_id', 'new_user_id_num', 'vacancy_id_', 'eventStrength']]"
      ]
    },
    {
      "cell_type": "code",
      "execution_count": 63,
      "metadata": {
        "id": "dA3bGK1_1KHn"
      },
      "outputs": [],
      "source": [
        "# В этом варианте кода мы пробуем запускать в матрицу номера вакансий которые нам дали изначально, что бы с ними потом не мучатся\n",
        "matrix_data = grouped_df[['new_user_id_num', 'vacancy_id_', 'eventStrength']]"
      ]
    },
    {
      "cell_type": "markdown",
      "metadata": {
        "id": "PpGQc_gEF4fw"
      },
      "source": [
        "Вот тут стоит подумать о нормализации данных и вообще нужна ли она? Это еще один исследовательский блок давайте пробовавать разную нормализацию"
      ]
    },
    {
      "cell_type": "code",
      "execution_count": null,
      "metadata": {
        "id": "tgeFDHKcF5fQ"
      },
      "outputs": [],
      "source": [
        "matrix_data['eventStrength_norm'] = (matrix_data['eventStrength'] - matrix_data['eventStrength'].mean()) / matrix_data['eventStrength'].std()"
      ]
    },
    {
      "cell_type": "code",
      "execution_count": null,
      "metadata": {
        "colab": {
          "base_uri": "https://localhost:8080/",
          "height": 206
        },
        "id": "FpPIHeb_HV4u",
        "outputId": "ac522361-09ae-43f5-dc74-09390b5e012d"
      },
      "outputs": [
        {
          "data": {
            "text/html": [
              "\n",
              "  <div id=\"df-d9a9e7e2-556c-404b-91fa-4a41d75b1651\">\n",
              "    <div class=\"colab-df-container\">\n",
              "      <div>\n",
              "<style scoped>\n",
              "    .dataframe tbody tr th:only-of-type {\n",
              "        vertical-align: middle;\n",
              "    }\n",
              "\n",
              "    .dataframe tbody tr th {\n",
              "        vertical-align: top;\n",
              "    }\n",
              "\n",
              "    .dataframe thead th {\n",
              "        text-align: right;\n",
              "    }\n",
              "</style>\n",
              "<table border=\"1\" class=\"dataframe\">\n",
              "  <thead>\n",
              "    <tr style=\"text-align: right;\">\n",
              "      <th></th>\n",
              "      <th>cookie_id_num</th>\n",
              "      <th>vacancy_id_</th>\n",
              "      <th>eventStrength</th>\n",
              "      <th>eventStrength_norm</th>\n",
              "    </tr>\n",
              "  </thead>\n",
              "  <tbody>\n",
              "    <tr>\n",
              "      <th>0</th>\n",
              "      <td>0</td>\n",
              "      <td>137659</td>\n",
              "      <td>3.0</td>\n",
              "      <td>-0.319517</td>\n",
              "    </tr>\n",
              "    <tr>\n",
              "      <th>1</th>\n",
              "      <td>0</td>\n",
              "      <td>153975</td>\n",
              "      <td>3.0</td>\n",
              "      <td>-0.319517</td>\n",
              "    </tr>\n",
              "    <tr>\n",
              "      <th>2</th>\n",
              "      <td>0</td>\n",
              "      <td>174953</td>\n",
              "      <td>9.0</td>\n",
              "      <td>0.771015</td>\n",
              "    </tr>\n",
              "    <tr>\n",
              "      <th>3</th>\n",
              "      <td>0</td>\n",
              "      <td>176171</td>\n",
              "      <td>3.0</td>\n",
              "      <td>-0.319517</td>\n",
              "    </tr>\n",
              "    <tr>\n",
              "      <th>4</th>\n",
              "      <td>0</td>\n",
              "      <td>182445</td>\n",
              "      <td>6.0</td>\n",
              "      <td>0.225749</td>\n",
              "    </tr>\n",
              "  </tbody>\n",
              "</table>\n",
              "</div>\n",
              "      <button class=\"colab-df-convert\" onclick=\"convertToInteractive('df-d9a9e7e2-556c-404b-91fa-4a41d75b1651')\"\n",
              "              title=\"Convert this dataframe to an interactive table.\"\n",
              "              style=\"display:none;\">\n",
              "        \n",
              "  <svg xmlns=\"http://www.w3.org/2000/svg\" height=\"24px\"viewBox=\"0 0 24 24\"\n",
              "       width=\"24px\">\n",
              "    <path d=\"M0 0h24v24H0V0z\" fill=\"none\"/>\n",
              "    <path d=\"M18.56 5.44l.94 2.06.94-2.06 2.06-.94-2.06-.94-.94-2.06-.94 2.06-2.06.94zm-11 1L8.5 8.5l.94-2.06 2.06-.94-2.06-.94L8.5 2.5l-.94 2.06-2.06.94zm10 10l.94 2.06.94-2.06 2.06-.94-2.06-.94-.94-2.06-.94 2.06-2.06.94z\"/><path d=\"M17.41 7.96l-1.37-1.37c-.4-.4-.92-.59-1.43-.59-.52 0-1.04.2-1.43.59L10.3 9.45l-7.72 7.72c-.78.78-.78 2.05 0 2.83L4 21.41c.39.39.9.59 1.41.59.51 0 1.02-.2 1.41-.59l7.78-7.78 2.81-2.81c.8-.78.8-2.07 0-2.86zM5.41 20L4 18.59l7.72-7.72 1.47 1.35L5.41 20z\"/>\n",
              "  </svg>\n",
              "      </button>\n",
              "      \n",
              "  <style>\n",
              "    .colab-df-container {\n",
              "      display:flex;\n",
              "      flex-wrap:wrap;\n",
              "      gap: 12px;\n",
              "    }\n",
              "\n",
              "    .colab-df-convert {\n",
              "      background-color: #E8F0FE;\n",
              "      border: none;\n",
              "      border-radius: 50%;\n",
              "      cursor: pointer;\n",
              "      display: none;\n",
              "      fill: #1967D2;\n",
              "      height: 32px;\n",
              "      padding: 0 0 0 0;\n",
              "      width: 32px;\n",
              "    }\n",
              "\n",
              "    .colab-df-convert:hover {\n",
              "      background-color: #E2EBFA;\n",
              "      box-shadow: 0px 1px 2px rgba(60, 64, 67, 0.3), 0px 1px 3px 1px rgba(60, 64, 67, 0.15);\n",
              "      fill: #174EA6;\n",
              "    }\n",
              "\n",
              "    [theme=dark] .colab-df-convert {\n",
              "      background-color: #3B4455;\n",
              "      fill: #D2E3FC;\n",
              "    }\n",
              "\n",
              "    [theme=dark] .colab-df-convert:hover {\n",
              "      background-color: #434B5C;\n",
              "      box-shadow: 0px 1px 3px 1px rgba(0, 0, 0, 0.15);\n",
              "      filter: drop-shadow(0px 1px 2px rgba(0, 0, 0, 0.3));\n",
              "      fill: #FFFFFF;\n",
              "    }\n",
              "  </style>\n",
              "\n",
              "      <script>\n",
              "        const buttonEl =\n",
              "          document.querySelector('#df-d9a9e7e2-556c-404b-91fa-4a41d75b1651 button.colab-df-convert');\n",
              "        buttonEl.style.display =\n",
              "          google.colab.kernel.accessAllowed ? 'block' : 'none';\n",
              "\n",
              "        async function convertToInteractive(key) {\n",
              "          const element = document.querySelector('#df-d9a9e7e2-556c-404b-91fa-4a41d75b1651');\n",
              "          const dataTable =\n",
              "            await google.colab.kernel.invokeFunction('convertToInteractive',\n",
              "                                                     [key], {});\n",
              "          if (!dataTable) return;\n",
              "\n",
              "          const docLinkHtml = 'Like what you see? Visit the ' +\n",
              "            '<a target=\"_blank\" href=https://colab.research.google.com/notebooks/data_table.ipynb>data table notebook</a>'\n",
              "            + ' to learn more about interactive tables.';\n",
              "          element.innerHTML = '';\n",
              "          dataTable['output_type'] = 'display_data';\n",
              "          await google.colab.output.renderOutput(dataTable, element);\n",
              "          const docLink = document.createElement('div');\n",
              "          docLink.innerHTML = docLinkHtml;\n",
              "          element.appendChild(docLink);\n",
              "        }\n",
              "      </script>\n",
              "    </div>\n",
              "  </div>\n",
              "  "
            ],
            "text/plain": [
              "   cookie_id_num  vacancy_id_  eventStrength  eventStrength_norm\n",
              "0              0       137659            3.0           -0.319517\n",
              "1              0       153975            3.0           -0.319517\n",
              "2              0       174953            9.0            0.771015\n",
              "3              0       176171            3.0           -0.319517\n",
              "4              0       182445            6.0            0.225749"
            ]
          },
          "execution_count": 34,
          "metadata": {},
          "output_type": "execute_result"
        }
      ],
      "source": [
        "matrix_data.head() # мне кажется минусы нам не нужны будут проверю другую"
      ]
    },
    {
      "cell_type": "code",
      "execution_count": null,
      "metadata": {
        "id": "fYu3SD4yGUs4"
      },
      "outputs": [],
      "source": [
        "matrix_data['eventStrength_norm'] = (matrix_data['eventStrength'] - matrix_data['eventStrength'].min()) / (matrix_data['eventStrength'].max() - matrix_data['eventStrength'].min())"
      ]
    },
    {
      "cell_type": "code",
      "execution_count": 64,
      "metadata": {
        "colab": {
          "base_uri": "https://localhost:8080/",
          "height": 206
        },
        "id": "hC_GLeS7GUqW",
        "outputId": "790c86c5-d50d-44c5-e2c0-2e542eda988d"
      },
      "outputs": [
        {
          "data": {
            "text/html": [
              "<div>\n",
              "<style scoped>\n",
              "    .dataframe tbody tr th:only-of-type {\n",
              "        vertical-align: middle;\n",
              "    }\n",
              "\n",
              "    .dataframe tbody tr th {\n",
              "        vertical-align: top;\n",
              "    }\n",
              "\n",
              "    .dataframe thead th {\n",
              "        text-align: right;\n",
              "    }\n",
              "</style>\n",
              "<table border=\"1\" class=\"dataframe\">\n",
              "  <thead>\n",
              "    <tr style=\"text-align: right;\">\n",
              "      <th></th>\n",
              "      <th>new_user_id_num</th>\n",
              "      <th>vacancy_id_</th>\n",
              "      <th>eventStrength</th>\n",
              "    </tr>\n",
              "  </thead>\n",
              "  <tbody>\n",
              "    <tr>\n",
              "      <th>0</th>\n",
              "      <td>0</td>\n",
              "      <td>177380</td>\n",
              "      <td>3.0</td>\n",
              "    </tr>\n",
              "    <tr>\n",
              "      <th>1</th>\n",
              "      <td>0</td>\n",
              "      <td>181353</td>\n",
              "      <td>3.0</td>\n",
              "    </tr>\n",
              "    <tr>\n",
              "      <th>2</th>\n",
              "      <td>0</td>\n",
              "      <td>195890</td>\n",
              "      <td>3.0</td>\n",
              "    </tr>\n",
              "    <tr>\n",
              "      <th>3</th>\n",
              "      <td>0</td>\n",
              "      <td>205562</td>\n",
              "      <td>3.0</td>\n",
              "    </tr>\n",
              "    <tr>\n",
              "      <th>4</th>\n",
              "      <td>0</td>\n",
              "      <td>211064</td>\n",
              "      <td>3.0</td>\n",
              "    </tr>\n",
              "  </tbody>\n",
              "</table>\n",
              "</div>"
            ],
            "text/plain": [
              "   new_user_id_num  vacancy_id_  eventStrength\n",
              "0                0       177380            3.0\n",
              "1                0       181353            3.0\n",
              "2                0       195890            3.0\n",
              "3                0       205562            3.0\n",
              "4                0       211064            3.0"
            ]
          },
          "execution_count": 64,
          "metadata": {},
          "output_type": "execute_result"
        }
      ],
      "source": [
        "matrix_data.head() # мне кажется минусы нам не нужны будут проверю другую\n",
        "# Вот этот датафрейм пойдет в матрицы (в следующий прогон загоним с нормализацией)"
      ]
    },
    {
      "cell_type": "code",
      "execution_count": 65,
      "metadata": {
        "colab": {
          "base_uri": "https://localhost:8080/",
          "height": 363
        },
        "id": "TOMAvk3brTjJ",
        "outputId": "ba926171-9868-4c2d-cc3b-8e85449b9a44"
      },
      "outputs": [
        {
          "data": {
            "text/html": [
              "<div>\n",
              "<style scoped>\n",
              "    .dataframe tbody tr th:only-of-type {\n",
              "        vertical-align: middle;\n",
              "    }\n",
              "\n",
              "    .dataframe tbody tr th {\n",
              "        vertical-align: top;\n",
              "    }\n",
              "\n",
              "    .dataframe thead th {\n",
              "        text-align: right;\n",
              "    }\n",
              "</style>\n",
              "<table border=\"1\" class=\"dataframe\">\n",
              "  <thead>\n",
              "    <tr style=\"text-align: right;\">\n",
              "      <th></th>\n",
              "      <th>new_user_id</th>\n",
              "      <th>new_user_id_num</th>\n",
              "      <th>vacancy_id_</th>\n",
              "      <th>eventStrength</th>\n",
              "    </tr>\n",
              "  </thead>\n",
              "  <tbody>\n",
              "    <tr>\n",
              "      <th>0</th>\n",
              "      <td>000089d26cdd49d68839c68bc10f2cf2</td>\n",
              "      <td>0</td>\n",
              "      <td>177380</td>\n",
              "      <td>3.0</td>\n",
              "    </tr>\n",
              "    <tr>\n",
              "      <th>1</th>\n",
              "      <td>000089d26cdd49d68839c68bc10f2cf2</td>\n",
              "      <td>0</td>\n",
              "      <td>181353</td>\n",
              "      <td>3.0</td>\n",
              "    </tr>\n",
              "    <tr>\n",
              "      <th>2</th>\n",
              "      <td>000089d26cdd49d68839c68bc10f2cf2</td>\n",
              "      <td>0</td>\n",
              "      <td>195890</td>\n",
              "      <td>3.0</td>\n",
              "    </tr>\n",
              "    <tr>\n",
              "      <th>3</th>\n",
              "      <td>000089d26cdd49d68839c68bc10f2cf2</td>\n",
              "      <td>0</td>\n",
              "      <td>205562</td>\n",
              "      <td>3.0</td>\n",
              "    </tr>\n",
              "    <tr>\n",
              "      <th>4</th>\n",
              "      <td>000089d26cdd49d68839c68bc10f2cf2</td>\n",
              "      <td>0</td>\n",
              "      <td>211064</td>\n",
              "      <td>3.0</td>\n",
              "    </tr>\n",
              "    <tr>\n",
              "      <th>5</th>\n",
              "      <td>000089d26cdd49d68839c68bc10f2cf2</td>\n",
              "      <td>0</td>\n",
              "      <td>258950</td>\n",
              "      <td>3.0</td>\n",
              "    </tr>\n",
              "    <tr>\n",
              "      <th>6</th>\n",
              "      <td>00008b2a006648b0b7eb409bbba203f1</td>\n",
              "      <td>1</td>\n",
              "      <td>108242</td>\n",
              "      <td>3.0</td>\n",
              "    </tr>\n",
              "    <tr>\n",
              "      <th>7</th>\n",
              "      <td>00008b2a006648b0b7eb409bbba203f1</td>\n",
              "      <td>1</td>\n",
              "      <td>110421</td>\n",
              "      <td>3.0</td>\n",
              "    </tr>\n",
              "    <tr>\n",
              "      <th>8</th>\n",
              "      <td>00008b2a006648b0b7eb409bbba203f1</td>\n",
              "      <td>1</td>\n",
              "      <td>113305</td>\n",
              "      <td>3.0</td>\n",
              "    </tr>\n",
              "    <tr>\n",
              "      <th>9</th>\n",
              "      <td>00008b2a006648b0b7eb409bbba203f1</td>\n",
              "      <td>1</td>\n",
              "      <td>120851</td>\n",
              "      <td>3.0</td>\n",
              "    </tr>\n",
              "  </tbody>\n",
              "</table>\n",
              "</div>"
            ],
            "text/plain": [
              "                        new_user_id  new_user_id_num  vacancy_id_  \\\n",
              "0  000089d26cdd49d68839c68bc10f2cf2                0       177380   \n",
              "1  000089d26cdd49d68839c68bc10f2cf2                0       181353   \n",
              "2  000089d26cdd49d68839c68bc10f2cf2                0       195890   \n",
              "3  000089d26cdd49d68839c68bc10f2cf2                0       205562   \n",
              "4  000089d26cdd49d68839c68bc10f2cf2                0       211064   \n",
              "5  000089d26cdd49d68839c68bc10f2cf2                0       258950   \n",
              "6  00008b2a006648b0b7eb409bbba203f1                1       108242   \n",
              "7  00008b2a006648b0b7eb409bbba203f1                1       110421   \n",
              "8  00008b2a006648b0b7eb409bbba203f1                1       113305   \n",
              "9  00008b2a006648b0b7eb409bbba203f1                1       120851   \n",
              "\n",
              "   eventStrength  \n",
              "0            3.0  \n",
              "1            3.0  \n",
              "2            3.0  \n",
              "3            3.0  \n",
              "4            3.0  \n",
              "5            3.0  \n",
              "6            3.0  \n",
              "7            3.0  \n",
              "8            3.0  \n",
              "9            3.0  "
            ]
          },
          "execution_count": 65,
          "metadata": {},
          "output_type": "execute_result"
        }
      ],
      "source": [
        "# а вот это остается нашим базовым информационным датафреймом\n",
        "grouped_df.head(10)"
      ]
    },
    {
      "cell_type": "markdown",
      "metadata": {
        "id": "C4PdXK49zweT"
      },
      "source": [
        "Вот в этом блоке мы должны соотнести наш цифровой номер cookie со строчным, для вывода ответов\n",
        "\n",
        "---"
      ]
    },
    {
      "attachments": {},
      "cell_type": "markdown",
      "metadata": {
        "id": "g8YThcNXABO2"
      },
      "source": [
        "Выбрали вариант работает на словарях"
      ]
    },
    {
      "cell_type": "code",
      "execution_count": 66,
      "metadata": {
        "colab": {
          "base_uri": "https://localhost:8080/"
        },
        "id": "-B8hptiR755e",
        "outputId": "c14cff0d-bb22-492d-a02e-eb2e86cb752f"
      },
      "outputs": [
        {
          "name": "stdout",
          "output_type": "stream",
          "text": [
            "00008b2a006648b0b7eb409bbba203f1\n"
          ]
        }
      ],
      "source": [
        "# кодируем числами все наши cookie_id\n",
        "codes = grouped_df.new_user_id.astype('category')\n",
        "# создаем словарик в котором ключ это код а значение текстовое поле cookie_id\n",
        "cookie_dic = dict(enumerate(codes.cat.categories))\n",
        "print (cookie_dic[1])"
      ]
    },
    {
      "cell_type": "code",
      "execution_count": 67,
      "metadata": {
        "id": "DHTqf1eq_cwp"
      },
      "outputs": [],
      "source": [
        "# и создадим обратный словарик\n",
        "cookie_to_code = dict(zip(cookie_dic.values(), cookie_dic.keys()))"
      ]
    },
    {
      "cell_type": "code",
      "execution_count": 68,
      "metadata": {
        "colab": {
          "base_uri": "https://localhost:8080/"
        },
        "id": "IyTNzipJ_nwg",
        "outputId": "2d6ffa70-af2c-4af3-94e3-e3ae0b4c4d42"
      },
      "outputs": [
        {
          "name": "stdout",
          "output_type": "stream",
          "text": [
            "1\n"
          ]
        }
      ],
      "source": [
        "print(cookie_to_code['00008b2a006648b0b7eb409bbba203f1'])"
      ]
    },
    {
      "cell_type": "markdown",
      "metadata": {
        "id": "Jc0UVS5ZQr3b"
      },
      "source": [
        "Создание разряженных матриц\n",
        "\n",
        "---"
      ]
    },
    {
      "cell_type": "code",
      "execution_count": 69,
      "metadata": {
        "id": "1zL0_0gl2UtW"
      },
      "outputs": [],
      "source": [
        "\n",
        "# item/user spare matrix\n",
        "sparse_item_user = sparse.csr_matrix((matrix_data['eventStrength'].astype(float), (matrix_data['vacancy_id_'], matrix_data['new_user_id_num'])))\n",
        "# user/item spare matrix\n",
        "sparse_user_item = sparse.csr_matrix((matrix_data['eventStrength'].astype(float), (matrix_data['new_user_id_num'], matrix_data['vacancy_id_'])))"
      ]
    },
    {
      "cell_type": "code",
      "execution_count": null,
      "metadata": {
        "id": "vuhKLTh2LXSF"
      },
      "outputs": [],
      "source": [
        "# предыдущий код но с нормализацией\n",
        "\n",
        "# item/user spare matrix\n",
        "sparse_item_user = sparse.csr_matrix((data['eventStrength_norm'].astype(float), (data['vacancy_id_'], data['cookie_id_num'])))\n",
        "# user/item spare matrix\n",
        "sparse_user_item = sparse.csr_matrix((data['eventStrength_norm'].astype(float), (data['cookie_id_num'], data['vacancy_id_'])))"
      ]
    },
    {
      "cell_type": "code",
      "execution_count": 70,
      "metadata": {
        "colab": {
          "base_uri": "https://localhost:8080/"
        },
        "id": "HKPUacSfph2b",
        "outputId": "883cdb1b-dfbe-4d82-e1de-bbb710594547"
      },
      "outputs": [
        {
          "data": {
            "text/plain": [
              "(260168, 323030)"
            ]
          },
          "execution_count": 70,
          "metadata": {},
          "output_type": "execute_result"
        }
      ],
      "source": [
        "# проверим размерности\n",
        "sparse_item_user.shape\n",
        "# стоит обратить внимание на то что размерность вакансий 260 168 - это потому что первых 100000 вакансий нет\n",
        "# если бы мы кодировали - то размерность бы была 160 000 что то такое"
      ]
    },
    {
      "cell_type": "code",
      "execution_count": 71,
      "metadata": {
        "colab": {
          "base_uri": "https://localhost:8080/"
        },
        "id": "UXC0MInXpoDW",
        "outputId": "8ecf8cc6-52cc-40cd-c48c-15f7e225df45"
      },
      "outputs": [
        {
          "data": {
            "text/plain": [
              "(323030, 260168)"
            ]
          },
          "execution_count": 71,
          "metadata": {},
          "output_type": "execute_result"
        }
      ],
      "source": [
        "# и тут проверим\n",
        "sparse_user_item.shape"
      ]
    },
    {
      "cell_type": "code",
      "execution_count": 72,
      "metadata": {
        "colab": {
          "base_uri": "https://localhost:8080/"
        },
        "id": "PoDQvuzqqCwm",
        "outputId": "341d3444-7813-4ae1-95af-afc276a38ae4"
      },
      "outputs": [
        {
          "name": "stdout",
          "output_type": "stream",
          "text": [
            "  (0, 177380)\t3.0\n",
            "  (0, 181353)\t3.0\n",
            "  (0, 195890)\t3.0\n",
            "  (0, 205562)\t3.0\n",
            "  (0, 211064)\t3.0\n",
            "  (0, 258950)\t3.0\n"
          ]
        }
      ],
      "source": [
        "# ну и посмотрим что там внутри\n",
        "print(sparse_user_item[0])"
      ]
    },
    {
      "cell_type": "code",
      "execution_count": 73,
      "metadata": {
        "colab": {
          "base_uri": "https://localhost:8080/"
        },
        "id": "5hLFQbyvq9z2",
        "outputId": "7bfc3f39-bc59-42ab-e2ec-200f40dcc3bd"
      },
      "outputs": [
        {
          "name": "stdout",
          "output_type": "stream",
          "text": [
            "  (0, 10616)\t3.0\n",
            "  (0, 36500)\t3.0\n",
            "  (0, 57867)\t3.0\n",
            "  (0, 58410)\t9.0\n",
            "  (0, 66839)\t7.0\n",
            "  (0, 77642)\t3.0\n",
            "  (0, 80748)\t1.0\n",
            "  (0, 270955)\t3.0\n",
            "  (0, 293568)\t7.0\n"
          ]
        }
      ],
      "source": [
        "# и тут тоже посмотрим\n",
        "print(sparse_item_user[200001])"
      ]
    },
    {
      "cell_type": "markdown",
      "metadata": {
        "id": "QLLdRhbEQr3c"
      },
      "source": [
        "# Обучение моделей\n",
        "Вот это третий исследовательский этап, мы должны много! очень много экспериментировать с:\n",
        " - factors = ?,\n",
        " - regularization = ?,\n",
        " - iterations = ?\n",
        "\n",
        "---"
      ]
    },
    {
      "cell_type": "code",
      "execution_count": 74,
      "metadata": {
        "id": "gCounVOSrTjM"
      },
      "outputs": [],
      "source": [
        "# Инициируем наши модели \n",
        "model_item = implicit.als.AlternatingLeastSquares(factors=50, regularization=0.1, iterations=50)"
      ]
    },
    {
      "cell_type": "code",
      "execution_count": 75,
      "metadata": {
        "id": "V8FjDsJGtgWP"
      },
      "outputs": [],
      "source": [
        "model_user = implicit.als.AlternatingLeastSquares(factors=50, regularization=0.1, iterations=50)"
      ]
    },
    {
      "cell_type": "markdown",
      "metadata": {
        "id": "7bboh57qMnZY"
      },
      "source": [
        "Четвертый исследовательский блок связан с параметром альфа - он закомментирован в коде ниже. В тех статьях что я успел прочитать это чуть ли не главнй парметр, непонятно почему конечно, возможно он увеличивает и акцентирует отличие силе взаимодействия?, но тогда стоит задуматься нужна ли нам вообще нормализация? (в статьях встречались значения альфа в 15 и 50, надо пробовать)"
      ]
    },
    {
      "cell_type": "markdown",
      "metadata": {
        "id": "vqwG2R7nE8pV"
      },
      "source": [
        "Обучаем первую модель вакансия-пользователь (но мы ее скорее всего не будем использовать)"
      ]
    },
    {
      "cell_type": "code",
      "execution_count": null,
      "metadata": {
        "colab": {
          "base_uri": "https://localhost:8080/",
          "height": 49,
          "referenced_widgets": [
            "306c33c511b74d139924cf75e210cac6",
            "7cd8f366b47c471da60dc3a7818d48a6",
            "99198e36edf94111b6d67f0965298292",
            "b511c333635e40d0aca01378ab3c54ae",
            "57123ec1468d4844940aaa401c37fb11",
            "3b36828aea104a4b9b7d66616ed24504",
            "3bd5a18f0fe54d8ea51f0ab29213cb9d",
            "e26b69fec1024cbe953ef736155d0e43",
            "bcf1a3be3a5545d68d52039c4ca9fe98",
            "1815dd1de99e4b289799dfffed5be58d",
            "98e11f91cc6f4f9b9827f31068f6cb45"
          ]
        },
        "id": "U7JaTAlZrTjN",
        "outputId": "5de299e4-ae67-41f0-b4ee-09a6048f0a40"
      },
      "outputs": [],
      "source": [
        "# Вот эти параметры я подсмотрел, они не обязательные но наверное их лучше потом настраивать\n",
        "#alpha = 50\n",
        "#item_user_data = (sparse_item_user * alpha).astype('double')\n",
        "\n",
        "item_user_data = sparse_item_user\n",
        "# обучим модель на разряженной матрице  item/user/confidence weights - по русски вакансия/пользователь/веса заинтересованности\n",
        "model_item.fit(item_user_data)"
      ]
    },
    {
      "cell_type": "markdown",
      "metadata": {
        "id": "Dq01uAzWQr3c"
      },
      "source": [
        "Обучаем первую модель пользователь - вакансия (вот ее в основном и принимают наши функции которые мы будем использовать)"
      ]
    },
    {
      "cell_type": "code",
      "execution_count": 76,
      "metadata": {
        "colab": {
          "base_uri": "https://localhost:8080/",
          "height": 49,
          "referenced_widgets": [
            "039b7e36795a420b92e438a1ff3a7f9f",
            "660545ac12d640668331b694bb4c7379",
            "d48021ea8d1c4c26bac1f44b5bcdf1cd",
            "8feeb6c1fc634b798f926952bf4aafc6",
            "55f25e7841124908a92522e1ef50439d",
            "fffccc1c808b4741bb51566bafb06b05",
            "a2246a6949324c1ebf146aa9e200b4ab",
            "826a255b672642fca28ffd39a913301f",
            "e96f9d3457354e3cbd4f15ceeb45e4c4",
            "0967a9e31a3246a983dc1bc100e2cd15",
            "d408e956097f4ba2b202eb950ac2b689"
          ]
        },
        "id": "3ciYenW7uFWu",
        "outputId": "b114e537-f824-4e2f-d58b-519d6fb23d39"
      },
      "outputs": [
        {
          "data": {
            "application/vnd.jupyter.widget-view+json": {
              "model_id": "018764e0517b403d9cd0103abefd486c",
              "version_major": 2,
              "version_minor": 0
            },
            "text/plain": [
              "  0%|          | 0/50 [00:00<?, ?it/s]"
            ]
          },
          "metadata": {},
          "output_type": "display_data"
        }
      ],
      "source": [
        "# Вот эти параметры я подсмотрел, они не обязательные но наверное их лучше потом настраивать\n",
        "#alpha = 50\n",
        "#user_item_data = (sparse_user_item * alpha).astype('double')\n",
        "\n",
        "user_item_data = sparse_user_item\n",
        "# train the model on a sparse matrix of user/item confidence weights\n",
        "model_user.fit(user_item_data)"
      ]
    },
    {
      "cell_type": "markdown",
      "metadata": {
        "id": "UP2XKq3UwIW-"
      },
      "source": [
        "# Пробуем извечь пользу. То есть переходим к предсказаниям\n",
        "\n",
        "---\n",
        "(ниже собраны базовые функции библиотеки implicit)"
      ]
    },
    {
      "cell_type": "markdown",
      "metadata": {
        "id": "ozpEdIt-_wPn"
      },
      "source": [
        "## Создаем рекомендации для человека\n",
        "\n",
        "---"
      ]
    },
    {
      "cell_type": "markdown",
      "metadata": {
        "id": "S6ArZU5QC1_u"
      },
      "source": [
        "Функция : recommend( )\n",
        "\n",
        "Рекомендует элементы для пользователя\n",
        "Вычисляет N лучших рекомендаций для пользователя и возвращает список идентификаторов элементов, оценка.\n",
        "\n",
        "Параметры:\n",
        "\n",
        "- userid ( int ) — идентификатор пользователя для расчета рекомендаций для\n",
        "- user_items ( csr_matrix ) — разреженная матрица формы (number_users, number_items). Это позволяет нам искать понравившиеся предметы и их веса для пользователя. Это используется для фильтрации элементов, которые уже понравились, из выходных данных, а также для потенциального вычисления лучших элементов для этого пользователя.\n",
        "- N ( int , необязательный ) — количество возвращаемых результатов\n",
        "- filter_already_liked_items ( bool , необязательный ) — если установлено значение true, не возвращать элементы, присутствующие в обучающем наборе, которые были оценены указанным пользователем.\n",
        "- filter_items ( последовательность целых чисел , необязательный ) — список дополнительных идентификаторов элементов, которые нужно отфильтровать из вывода.\n",
        "- recalculate_user ( bool , необязательный ) — когда true, не полагайтесь на сохраненное состояние пользователя и вместо этого пересчитывайте из переданных в user_items\n",
        "\n",
        "Возвращает:\t\n",
        "Список кортежей (itemid, score)\n",
        "\n",
        "Тип возврата:\t\n",
        "список"
      ]
    },
    {
      "cell_type": "markdown",
      "metadata": {
        "id": "AJp6bBguFbuO"
      },
      "source": [
        "Получим список рекомендаций для одного пользователя\n",
        "\n",
        "---"
      ]
    },
    {
      "cell_type": "code",
      "execution_count": null,
      "metadata": {
        "colab": {
          "base_uri": "https://localhost:8080/"
        },
        "id": "MonpM170wHHQ",
        "outputId": "a363e1ce-c4a5-4e6c-eac6-78780a06114b"
      },
      "outputs": [
        {
          "name": "stdout",
          "output_type": "stream",
          "text": [
            "(array([116823, 182870, 169194, 180382, 207423], dtype=int32), array([0.46656507, 0.41793132, 0.37318325, 0.3208992 , 0.30675507],\n",
            "      dtype=float32))\n"
          ]
        }
      ],
      "source": [
        "# модель тренируется на sparse matrix of user/item/confidence weights - выполнено\n",
        "# model.fit(user_item_data) - выполнено\n",
        "\n",
        "# порекомендуем вакансии для одного пользователя из тех что он еще не видел\n",
        "userid = 0\n",
        "recommendations = model_user.recommend(userid, user_item_data[userid], N = 5 , filter_already_liked_items = True)\n",
        "print(recommendations) # уже отсортировано"
      ]
    },
    {
      "cell_type": "code",
      "execution_count": null,
      "metadata": {
        "colab": {
          "base_uri": "https://localhost:8080/"
        },
        "id": "gC2LP9piF0j-",
        "outputId": "a9d933c9-1b2f-4d30-840e-b76594ddc50f"
      },
      "outputs": [
        {
          "name": "stdout",
          "output_type": "stream",
          "text": [
            "[116823, 182870, 169194, 180382, 207423]\n",
            "[0.46656507 0.41793132 0.37318325 0.3208992  0.30675507]\n"
          ]
        }
      ],
      "source": [
        "# или так мы можем сразу превращать их в список\n",
        "userid = 0\n",
        "ids, scores = model_user.recommend(userid, user_item_data[userid], N=5, filter_already_liked_items=True)\n",
        "print(list(ids))\n",
        "print(scores)"
      ]
    },
    {
      "cell_type": "code",
      "execution_count": null,
      "metadata": {
        "colab": {
          "base_uri": "https://localhost:8080/"
        },
        "id": "_QA8XzLFD4Qe",
        "outputId": "42d0da4b-5978-4509-f5f9-10d1d2124492"
      },
      "outputs": [
        {
          "name": "stdout",
          "output_type": "stream",
          "text": [
            "(array([174953, 116823, 182870, 169194, 180382], dtype=int32), array([0.6994151 , 0.46656507, 0.41793132, 0.37318325, 0.3208992 ],\n",
            "      dtype=float32))\n"
          ]
        }
      ],
      "source": [
        "# порекомендуем вакансии для одного пользователя из тех что он уже взаимодействовал\n",
        "userid = 0\n",
        "recommendations = model_user.recommend(userid, user_item_data[userid], N = 5, filter_already_liked_items = False)\n",
        "print(recommendations) # уже отсортировано"
      ]
    },
    {
      "cell_type": "markdown",
      "metadata": {
        "id": "7aLeLGL-Fkv0"
      },
      "source": [
        "Получим списко рекомендаций для списка пользователей\n",
        "\n",
        "---"
      ]
    },
    {
      "cell_type": "code",
      "execution_count": null,
      "metadata": {
        "colab": {
          "base_uri": "https://localhost:8080/"
        },
        "id": "a6gnjm0-_4Hu",
        "outputId": "f7dca463-ce34-40f3-a3ba-9bc06379b2d6"
      },
      "outputs": [
        {
          "data": {
            "text/plain": [
              "(array([[116823, 182870, 169194, 180382, 207423],\n",
              "        [217683, 260154, 163708, 115589, 210229],\n",
              "        [110792, 148714, 258441, 113707, 244077],\n",
              "        ...,\n",
              "        [230322, 230326, 127887, 133932, 182879],\n",
              "        [253946, 253817, 208761, 122122, 104528],\n",
              "        [164602, 260154, 110421, 116823, 164481]], dtype=int32),\n",
              " (1000, 5))"
            ]
          },
          "execution_count": 48,
          "metadata": {},
          "output_type": "execute_result"
        }
      ],
      "source": [
        "# Такой код позволяет получать рекомендации для списка пользователей сразу!!!\n",
        "userids = np.arange(1000) # вот тут у нас список пользователей\n",
        "ids, scores = model_user.recommend(userids, user_item_data[userids], N=5, filter_already_liked_items=True)\n",
        "ids, ids.shape"
      ]
    },
    {
      "cell_type": "code",
      "execution_count": null,
      "metadata": {
        "id": "2pLSG-qZJYmP"
      },
      "outputs": [],
      "source": [
        "userids = np.arange(1000) # вот тут у нас список пользователей\n",
        "group_recommendations = model_user.recommend(userids, user_item_data[userids], N=5, filter_already_liked_items=True)\n"
      ]
    },
    {
      "cell_type": "code",
      "execution_count": null,
      "metadata": {
        "id": "1VRU0zfjKf2d"
      },
      "outputs": [],
      "source": [
        "# Вот тут нужно написать код который записывает данные в датафрейм\n",
        "result = pd.DataFrame({'пользователи' : userids, 'рекомендации' : list(ids)})"
      ]
    },
    {
      "cell_type": "code",
      "execution_count": null,
      "metadata": {
        "colab": {
          "base_uri": "https://localhost:8080/",
          "height": 206
        },
        "id": "YxntZfYA6UCW",
        "outputId": "84b66a4c-461a-4d02-be73-473ba4faef4a"
      },
      "outputs": [
        {
          "data": {
            "text/html": [
              "\n",
              "  <div id=\"df-23fefe7d-5141-4d27-8579-c5339e05c6c5\">\n",
              "    <div class=\"colab-df-container\">\n",
              "      <div>\n",
              "<style scoped>\n",
              "    .dataframe tbody tr th:only-of-type {\n",
              "        vertical-align: middle;\n",
              "    }\n",
              "\n",
              "    .dataframe tbody tr th {\n",
              "        vertical-align: top;\n",
              "    }\n",
              "\n",
              "    .dataframe thead th {\n",
              "        text-align: right;\n",
              "    }\n",
              "</style>\n",
              "<table border=\"1\" class=\"dataframe\">\n",
              "  <thead>\n",
              "    <tr style=\"text-align: right;\">\n",
              "      <th></th>\n",
              "      <th>пользователи</th>\n",
              "      <th>рекомендации</th>\n",
              "    </tr>\n",
              "  </thead>\n",
              "  <tbody>\n",
              "    <tr>\n",
              "      <th>0</th>\n",
              "      <td>0</td>\n",
              "      <td>[116823, 182870, 169194, 180382, 207423]</td>\n",
              "    </tr>\n",
              "    <tr>\n",
              "      <th>1</th>\n",
              "      <td>1</td>\n",
              "      <td>[217683, 260154, 163708, 115589, 210229]</td>\n",
              "    </tr>\n",
              "    <tr>\n",
              "      <th>2</th>\n",
              "      <td>2</td>\n",
              "      <td>[110792, 148714, 258441, 113707, 244077]</td>\n",
              "    </tr>\n",
              "    <tr>\n",
              "      <th>3</th>\n",
              "      <td>3</td>\n",
              "      <td>[242145, 153469, 126489, 197991, 207356]</td>\n",
              "    </tr>\n",
              "    <tr>\n",
              "      <th>4</th>\n",
              "      <td>4</td>\n",
              "      <td>[113707, 153245, 148714, 149024, 116823]</td>\n",
              "    </tr>\n",
              "  </tbody>\n",
              "</table>\n",
              "</div>\n",
              "      <button class=\"colab-df-convert\" onclick=\"convertToInteractive('df-23fefe7d-5141-4d27-8579-c5339e05c6c5')\"\n",
              "              title=\"Convert this dataframe to an interactive table.\"\n",
              "              style=\"display:none;\">\n",
              "        \n",
              "  <svg xmlns=\"http://www.w3.org/2000/svg\" height=\"24px\"viewBox=\"0 0 24 24\"\n",
              "       width=\"24px\">\n",
              "    <path d=\"M0 0h24v24H0V0z\" fill=\"none\"/>\n",
              "    <path d=\"M18.56 5.44l.94 2.06.94-2.06 2.06-.94-2.06-.94-.94-2.06-.94 2.06-2.06.94zm-11 1L8.5 8.5l.94-2.06 2.06-.94-2.06-.94L8.5 2.5l-.94 2.06-2.06.94zm10 10l.94 2.06.94-2.06 2.06-.94-2.06-.94-.94-2.06-.94 2.06-2.06.94z\"/><path d=\"M17.41 7.96l-1.37-1.37c-.4-.4-.92-.59-1.43-.59-.52 0-1.04.2-1.43.59L10.3 9.45l-7.72 7.72c-.78.78-.78 2.05 0 2.83L4 21.41c.39.39.9.59 1.41.59.51 0 1.02-.2 1.41-.59l7.78-7.78 2.81-2.81c.8-.78.8-2.07 0-2.86zM5.41 20L4 18.59l7.72-7.72 1.47 1.35L5.41 20z\"/>\n",
              "  </svg>\n",
              "      </button>\n",
              "      \n",
              "  <style>\n",
              "    .colab-df-container {\n",
              "      display:flex;\n",
              "      flex-wrap:wrap;\n",
              "      gap: 12px;\n",
              "    }\n",
              "\n",
              "    .colab-df-convert {\n",
              "      background-color: #E8F0FE;\n",
              "      border: none;\n",
              "      border-radius: 50%;\n",
              "      cursor: pointer;\n",
              "      display: none;\n",
              "      fill: #1967D2;\n",
              "      height: 32px;\n",
              "      padding: 0 0 0 0;\n",
              "      width: 32px;\n",
              "    }\n",
              "\n",
              "    .colab-df-convert:hover {\n",
              "      background-color: #E2EBFA;\n",
              "      box-shadow: 0px 1px 2px rgba(60, 64, 67, 0.3), 0px 1px 3px 1px rgba(60, 64, 67, 0.15);\n",
              "      fill: #174EA6;\n",
              "    }\n",
              "\n",
              "    [theme=dark] .colab-df-convert {\n",
              "      background-color: #3B4455;\n",
              "      fill: #D2E3FC;\n",
              "    }\n",
              "\n",
              "    [theme=dark] .colab-df-convert:hover {\n",
              "      background-color: #434B5C;\n",
              "      box-shadow: 0px 1px 3px 1px rgba(0, 0, 0, 0.15);\n",
              "      filter: drop-shadow(0px 1px 2px rgba(0, 0, 0, 0.3));\n",
              "      fill: #FFFFFF;\n",
              "    }\n",
              "  </style>\n",
              "\n",
              "      <script>\n",
              "        const buttonEl =\n",
              "          document.querySelector('#df-23fefe7d-5141-4d27-8579-c5339e05c6c5 button.colab-df-convert');\n",
              "        buttonEl.style.display =\n",
              "          google.colab.kernel.accessAllowed ? 'block' : 'none';\n",
              "\n",
              "        async function convertToInteractive(key) {\n",
              "          const element = document.querySelector('#df-23fefe7d-5141-4d27-8579-c5339e05c6c5');\n",
              "          const dataTable =\n",
              "            await google.colab.kernel.invokeFunction('convertToInteractive',\n",
              "                                                     [key], {});\n",
              "          if (!dataTable) return;\n",
              "\n",
              "          const docLinkHtml = 'Like what you see? Visit the ' +\n",
              "            '<a target=\"_blank\" href=https://colab.research.google.com/notebooks/data_table.ipynb>data table notebook</a>'\n",
              "            + ' to learn more about interactive tables.';\n",
              "          element.innerHTML = '';\n",
              "          dataTable['output_type'] = 'display_data';\n",
              "          await google.colab.output.renderOutput(dataTable, element);\n",
              "          const docLink = document.createElement('div');\n",
              "          docLink.innerHTML = docLinkHtml;\n",
              "          element.appendChild(docLink);\n",
              "        }\n",
              "      </script>\n",
              "    </div>\n",
              "  </div>\n",
              "  "
            ],
            "text/plain": [
              "   пользователи                              рекомендации\n",
              "0             0  [116823, 182870, 169194, 180382, 207423]\n",
              "1             1  [217683, 260154, 163708, 115589, 210229]\n",
              "2             2  [110792, 148714, 258441, 113707, 244077]\n",
              "3             3  [242145, 153469, 126489, 197991, 207356]\n",
              "4             4  [113707, 153245, 148714, 149024, 116823]"
            ]
          },
          "execution_count": 55,
          "metadata": {},
          "output_type": "execute_result"
        }
      ],
      "source": [
        "result.head()"
      ]
    },
    {
      "cell_type": "markdown",
      "metadata": {
        "id": "Ds44fqAsQr3d"
      },
      "source": [
        "## Найдем похожие вакансии на вакансию №\n",
        "\n",
        "---"
      ]
    },
    {
      "cell_type": "markdown",
      "metadata": {
        "id": "CpTXvm_FQr3d"
      },
      "source": [
        "Функция: similar_items()\n",
        "\n",
        "Вычисляет список похожих элементов\n",
        "\n",
        "Параметры:\t\n",
        "- itemid (int) – идентификатор строки элемента, для которого извлекаются похожие элементы\n",
        "- N (int, необязательно) – количество похожих элементов для возврата.\n",
        "- react_users (csr_matrix, необязательно) – разреженная матрица формы (number_items, number_users). Это позволяет нам просмотреть откликнувшихся пользователей и их веса для элемента.\n",
        "- recallculate_item (bool, необязательно) – При значении true не полагайтесь на сохраненное состояние элемента и вместо этого пересчитывайте из переданного в react_users\n",
        "\n",
        "ВОЗВРАТ:\t\n",
        "Список кортежей (itemid, оценка)\n",
        "\n",
        "Возвращаемый тип:\t\n",
        "Список"
      ]
    },
    {
      "cell_type": "code",
      "execution_count": null,
      "metadata": {
        "colab": {
          "base_uri": "https://localhost:8080/"
        },
        "id": "CTsZKeWzBNKy",
        "outputId": "69fae1d7-3aee-4ead-cdf4-f146d375fc72"
      },
      "outputs": [
        {
          "name": "stdout",
          "output_type": "stream",
          "text": [
            "[100005, 188746, 221652, 189497, 180201, 201215, 181059, 223080, 143875, 189711]\n",
            "[188746, 221652, 189497, 180201, 201215, 181059, 223080, 143875, 189711]\n"
          ]
        }
      ],
      "source": [
        "# Найти похожую вакансию на вакансию №\n",
        "itemid = 100005\n",
        "related = model_user.similar_items(itemid)\n",
        "print(list(related[0])) # стоит обратить внимание на то, что первой выходит сама эта вакансия\n",
        "print(list(related[0][1:]))"
      ]
    },
    {
      "cell_type": "markdown",
      "metadata": {
        "id": "k1G3QkSzQr3e"
      },
      "source": [
        "## Найдем похожего пользователя"
      ]
    },
    {
      "cell_type": "markdown",
      "metadata": {
        "id": "y2XFIKJjQr3e"
      },
      "source": [
        "Функция: similar_users( )\n",
        "\n",
        "Вычисляет список похожих пользователей\n",
        "\n",
        "Параметры:\n",
        "\n",
        "- userid ( int ) — идентификатор строки пользователя для получения похожих пользователей для\n",
        "- N ( int , необязательный ) — количество похожих пользователей, которых необходимо вернуть.\n",
        "\n",
        "Возвращает:\t\n",
        "Список кортежей (userid, score)\n",
        "\n",
        "Тип возврата:\t\n",
        "список"
      ]
    },
    {
      "cell_type": "code",
      "execution_count": null,
      "metadata": {
        "colab": {
          "base_uri": "https://localhost:8080/"
        },
        "id": "wTfe0GidIdaS",
        "outputId": "45a9a137-14a4-4d46-a33c-60a75e16481e"
      },
      "outputs": [
        {
          "name": "stdout",
          "output_type": "stream",
          "text": [
            "[100005, 113260, 192092, 143338, 307425, 281362, 81256, 58263, 131196, 66705]\n",
            "[113260, 192092, 143338, 307425, 281362, 81256, 58263, 131196, 66705]\n"
          ]
        }
      ],
      "source": [
        "userid = 100005\n",
        "related_users = model_user.similar_users(userid)\n",
        "print(list(related_users[0])) # стоит обратить внимание на то, что первой выходит этот самый пользователь\n",
        "print(list(related_users[0][1:]))"
      ]
    },
    {
      "cell_type": "markdown",
      "metadata": {
        "id": "VgugnPabBjn1"
      },
      "source": [
        "## Ранжируем элементы для пользователя\n",
        "\n",
        "---"
      ]
    },
    {
      "cell_type": "markdown",
      "metadata": {
        "id": "TjNdKsrlBiKd"
      },
      "source": [
        "Функция: rank_items()\n",
        "\n",
        "Ранжирует заданные элементы для пользователя и возвращает отсортированный список элементов.\n",
        "\n",
        "Параметры:\n",
        "\n",
        "- userid (int) – идентификатор пользователя для вычисления рекомендаций\n",
        "- user_items (csr_matrix) – разреженная матрица формы (number_users, number_items). Это позволяет нам (необязательно) пересчитывать пользовательские факторы (см. параметр reconculate_user) по мере необходимости\n",
        "- selected_items (List of itemids) – (список идентификаторов элементов)\n",
        "- recalculate_user (bool, необязательно) – При значении true не полагайтесь на сохраненное состояние пользователя и вместо этого пересчитывайте из переданных в user_items\n",
        "\n",
        "\n",
        "\n",
        "Возвращаемый тип:\t\n",
        "Список"
      ]
    },
    {
      "cell_type": "code",
      "execution_count": null,
      "metadata": {
        "colab": {
          "base_uri": "https://localhost:8080/"
        },
        "id": "MizoCM5oIdNe",
        "outputId": "b8db753f-994a-460e-e55b-091e14c5e6ed"
      },
      "outputs": [
        {
          "name": "stdout",
          "output_type": "stream",
          "text": [
            "(array([100002, 100001, 100004, 100003]), array([4.0011927e-03, 4.6750274e-04, 3.4725224e-05, 1.9556945e-05],\n",
            "      dtype=float32))\n"
          ]
        },
        {
          "name": "stderr",
          "output_type": "stream",
          "text": [
            "<ipython-input-82-0aa5fe56e486>:2: DeprecationWarning: rank_items is deprecated. Use recommend with the 'items' parameter instead\n",
            "  rank_elements = model_user.rank_items(userid, user_item_data, selected_items = [100001, 100002, 100003, 100004])\n"
          ]
        }
      ],
      "source": [
        "userid = 100005\n",
        "rank_elements = model_user.rank_items(userid, user_item_data, selected_items = [100001, 100002, 100003, 100004])\n",
        "print(rank_elements) \n"
      ]
    },
    {
      "cell_type": "markdown",
      "metadata": {
        "id": "cvy50ldHIbE3"
      },
      "source": [
        "# Переходим к испытаниям на нашей ситуации\n",
        "\n",
        "---"
      ]
    },
    {
      "cell_type": "markdown",
      "metadata": {
        "id": "qoiaUX5WI9P2"
      },
      "source": [
        "Загружаем данные"
      ]
    },
    {
      "cell_type": "code",
      "execution_count": 77,
      "metadata": {
        "id": "EIoXD13QIik6"
      },
      "outputs": [],
      "source": [
        "# Вот это данные от партнера, стоит отметить что там есть строки с 2 вакансиями и более 5\n",
        "test = pd.read_parquet('test_public_mfti.parquet', engine='pyarrow')"
      ]
    },
    {
      "cell_type": "code",
      "execution_count": 78,
      "metadata": {
        "colab": {
          "base_uri": "https://localhost:8080/",
          "height": 206
        },
        "id": "E858s3brKOym",
        "outputId": "e81fd136-5a45-4b92-aedf-70c32ceb4b1e"
      },
      "outputs": [
        {
          "data": {
            "text/html": [
              "<div>\n",
              "<style scoped>\n",
              "    .dataframe tbody tr th:only-of-type {\n",
              "        vertical-align: middle;\n",
              "    }\n",
              "\n",
              "    .dataframe tbody tr th {\n",
              "        vertical-align: top;\n",
              "    }\n",
              "\n",
              "    .dataframe thead th {\n",
              "        text-align: right;\n",
              "    }\n",
              "</style>\n",
              "<table border=\"1\" class=\"dataframe\">\n",
              "  <thead>\n",
              "    <tr style=\"text-align: right;\">\n",
              "      <th></th>\n",
              "      <th>cookie_id</th>\n",
              "      <th>vacancy_id_</th>\n",
              "    </tr>\n",
              "  </thead>\n",
              "  <tbody>\n",
              "    <tr>\n",
              "      <th>0</th>\n",
              "      <td>000cd76cd33f43d4a1ac1d16d10f8bf7</td>\n",
              "      <td>[222177, 222173, 222163, 238874, 238878, 22812...</td>\n",
              "    </tr>\n",
              "    <tr>\n",
              "      <th>1</th>\n",
              "      <td>0034bc7f404341ba8412665453e7825a</td>\n",
              "      <td>[102794, 137587, 257319, 237756, 240744, 11348...</td>\n",
              "    </tr>\n",
              "    <tr>\n",
              "      <th>2</th>\n",
              "      <td>00a6c5a64a274c55a836402bdeb3b2c4</td>\n",
              "      <td>[254292, 164602, 116438, 228634, 218819, 24065...</td>\n",
              "    </tr>\n",
              "    <tr>\n",
              "      <th>3</th>\n",
              "      <td>015937a125b14e74bdff1cddc49f9172</td>\n",
              "      <td>[246685, 138123, 115420, 210628, 212325, 235196]</td>\n",
              "    </tr>\n",
              "    <tr>\n",
              "      <th>4</th>\n",
              "      <td>01de50c280794cec8804f16f45f847b7</td>\n",
              "      <td>[219070, 251469, 166899, 212703, 214561]</td>\n",
              "    </tr>\n",
              "  </tbody>\n",
              "</table>\n",
              "</div>"
            ],
            "text/plain": [
              "                          cookie_id  \\\n",
              "0  000cd76cd33f43d4a1ac1d16d10f8bf7   \n",
              "1  0034bc7f404341ba8412665453e7825a   \n",
              "2  00a6c5a64a274c55a836402bdeb3b2c4   \n",
              "3  015937a125b14e74bdff1cddc49f9172   \n",
              "4  01de50c280794cec8804f16f45f847b7   \n",
              "\n",
              "                                         vacancy_id_  \n",
              "0  [222177, 222173, 222163, 238874, 238878, 22812...  \n",
              "1  [102794, 137587, 257319, 237756, 240744, 11348...  \n",
              "2  [254292, 164602, 116438, 228634, 218819, 24065...  \n",
              "3   [246685, 138123, 115420, 210628, 212325, 235196]  \n",
              "4           [219070, 251469, 166899, 212703, 214561]  "
            ]
          },
          "execution_count": 78,
          "metadata": {},
          "output_type": "execute_result"
        }
      ],
      "source": [
        "test.head()"
      ]
    },
    {
      "cell_type": "code",
      "execution_count": 79,
      "metadata": {
        "id": "fBNjbiub8CNm"
      },
      "outputs": [],
      "source": [
        "test['new_user_id'] = test['cookie_id'].map(new_user_id)"
      ]
    },
    {
      "cell_type": "code",
      "execution_count": 80,
      "metadata": {
        "id": "wMksKmWdIiiF"
      },
      "outputs": [],
      "source": [
        "# получаем для них столбец с номерными вариантами user как мы это закодировали ранее\n",
        "test['new_user_id_num'] = test['new_user_id'].map(cookie_to_code)"
      ]
    },
    {
      "cell_type": "code",
      "execution_count": 81,
      "metadata": {
        "colab": {
          "base_uri": "https://localhost:8080/",
          "height": 206
        },
        "id": "nxwGjExbIifV",
        "outputId": "c343226d-d6dd-42ef-9883-51daa0685474"
      },
      "outputs": [
        {
          "data": {
            "text/html": [
              "<div>\n",
              "<style scoped>\n",
              "    .dataframe tbody tr th:only-of-type {\n",
              "        vertical-align: middle;\n",
              "    }\n",
              "\n",
              "    .dataframe tbody tr th {\n",
              "        vertical-align: top;\n",
              "    }\n",
              "\n",
              "    .dataframe thead th {\n",
              "        text-align: right;\n",
              "    }\n",
              "</style>\n",
              "<table border=\"1\" class=\"dataframe\">\n",
              "  <thead>\n",
              "    <tr style=\"text-align: right;\">\n",
              "      <th></th>\n",
              "      <th>cookie_id</th>\n",
              "      <th>vacancy_id_</th>\n",
              "      <th>new_user_id</th>\n",
              "      <th>new_user_id_num</th>\n",
              "    </tr>\n",
              "  </thead>\n",
              "  <tbody>\n",
              "    <tr>\n",
              "      <th>0</th>\n",
              "      <td>000cd76cd33f43d4a1ac1d16d10f8bf7</td>\n",
              "      <td>[222177, 222173, 222163, 238874, 238878, 22812...</td>\n",
              "      <td>477e719bfbcc4071a8acc1b357492b00</td>\n",
              "      <td>90572</td>\n",
              "    </tr>\n",
              "    <tr>\n",
              "      <th>1</th>\n",
              "      <td>0034bc7f404341ba8412665453e7825a</td>\n",
              "      <td>[102794, 137587, 257319, 237756, 240744, 11348...</td>\n",
              "      <td>753a2a268ae84ab49475e62736c02860</td>\n",
              "      <td>148017</td>\n",
              "    </tr>\n",
              "    <tr>\n",
              "      <th>2</th>\n",
              "      <td>00a6c5a64a274c55a836402bdeb3b2c4</td>\n",
              "      <td>[254292, 164602, 116438, 228634, 218819, 24065...</td>\n",
              "      <td>d01c76b282364fbb8195f326de3e893c</td>\n",
              "      <td>262750</td>\n",
              "    </tr>\n",
              "    <tr>\n",
              "      <th>3</th>\n",
              "      <td>015937a125b14e74bdff1cddc49f9172</td>\n",
              "      <td>[246685, 138123, 115420, 210628, 212325, 235196]</td>\n",
              "      <td>6adb4495090b454395d5aa2f1a5ff9d9</td>\n",
              "      <td>135026</td>\n",
              "    </tr>\n",
              "    <tr>\n",
              "      <th>4</th>\n",
              "      <td>01de50c280794cec8804f16f45f847b7</td>\n",
              "      <td>[219070, 251469, 166899, 212703, 214561]</td>\n",
              "      <td>b107696e3ff54e8a83182828bb845bc6</td>\n",
              "      <td>223617</td>\n",
              "    </tr>\n",
              "  </tbody>\n",
              "</table>\n",
              "</div>"
            ],
            "text/plain": [
              "                          cookie_id  \\\n",
              "0  000cd76cd33f43d4a1ac1d16d10f8bf7   \n",
              "1  0034bc7f404341ba8412665453e7825a   \n",
              "2  00a6c5a64a274c55a836402bdeb3b2c4   \n",
              "3  015937a125b14e74bdff1cddc49f9172   \n",
              "4  01de50c280794cec8804f16f45f847b7   \n",
              "\n",
              "                                         vacancy_id_  \\\n",
              "0  [222177, 222173, 222163, 238874, 238878, 22812...   \n",
              "1  [102794, 137587, 257319, 237756, 240744, 11348...   \n",
              "2  [254292, 164602, 116438, 228634, 218819, 24065...   \n",
              "3   [246685, 138123, 115420, 210628, 212325, 235196]   \n",
              "4           [219070, 251469, 166899, 212703, 214561]   \n",
              "\n",
              "                        new_user_id  new_user_id_num  \n",
              "0  477e719bfbcc4071a8acc1b357492b00            90572  \n",
              "1  753a2a268ae84ab49475e62736c02860           148017  \n",
              "2  d01c76b282364fbb8195f326de3e893c           262750  \n",
              "3  6adb4495090b454395d5aa2f1a5ff9d9           135026  \n",
              "4  b107696e3ff54e8a83182828bb845bc6           223617  "
            ]
          },
          "execution_count": 81,
          "metadata": {},
          "output_type": "execute_result"
        }
      ],
      "source": [
        "test.head()"
      ]
    },
    {
      "cell_type": "code",
      "execution_count": 82,
      "metadata": {
        "colab": {
          "base_uri": "https://localhost:8080/"
        },
        "id": "-5gReFq5824Y",
        "outputId": "6a1c5806-9e9e-41d8-9dc7-c6e3c43f1f55"
      },
      "outputs": [
        {
          "name": "stdout",
          "output_type": "stream",
          "text": [
            "753a2a268ae84ab49475e62736c02860\n",
            "477e719bfbcc4071a8acc1b357492b00\n",
            "b107696e3ff54e8a83182828bb845bc6\n"
          ]
        }
      ],
      "source": [
        "# проверим перевод в коды на правильность\n",
        "print(new_user_id['0034bc7f404341ba8412665453e7825a'])\n",
        "print(new_user_id['000cd76cd33f43d4a1ac1d16d10f8bf7'])\n",
        "print(new_user_id['01de50c280794cec8804f16f45f847b7'])"
      ]
    },
    {
      "cell_type": "code",
      "execution_count": 83,
      "metadata": {
        "colab": {
          "base_uri": "https://localhost:8080/"
        },
        "id": "IFsX0PvXKuD-",
        "outputId": "051f8c53-720f-4e88-c200-f391c4e4dbcb"
      },
      "outputs": [
        {
          "name": "stdout",
          "output_type": "stream",
          "text": [
            "148017\n",
            "262750\n",
            "223617\n"
          ]
        }
      ],
      "source": [
        "# проверим перевод в коды на правильность\n",
        "print(cookie_to_code['753a2a268ae84ab49475e62736c02860'])\n",
        "print(cookie_to_code['d01c76b282364fbb8195f326de3e893c'])\n",
        "print(cookie_to_code['b107696e3ff54e8a83182828bb845bc6'])"
      ]
    },
    {
      "cell_type": "code",
      "execution_count": 84,
      "metadata": {
        "colab": {
          "base_uri": "https://localhost:8080/"
        },
        "id": "sKItjYCmKuA-",
        "outputId": "eaa5ec46-00f9-42ed-837a-3fdfc753f4df"
      },
      "outputs": [
        {
          "name": "stdout",
          "output_type": "stream",
          "text": [
            "[90572, 148017, 262750, 135026, 223617]\n",
            "['000cd76cd33f43d4a1ac1d16d10f8bf7', '0034bc7f404341ba8412665453e7825a', '00a6c5a64a274c55a836402bdeb3b2c4', '015937a125b14e74bdff1cddc49f9172', '01de50c280794cec8804f16f45f847b7']\n"
          ]
        }
      ],
      "source": [
        "# получаем из датафрейма список пользователей, которых мы загрузим в модель\n",
        "test_list = list(test['new_user_id_num'])\n",
        "test_list_str = list(test['cookie_id'])\n",
        "print(test_list[:5])\n",
        "print(test_list_str[:5])"
      ]
    },
    {
      "cell_type": "code",
      "execution_count": 85,
      "metadata": {
        "id": "LDMAaVmWLQeW"
      },
      "outputs": [],
      "source": [
        "# Ячейка поличения предсказаний, загружаем в модель полученный список кодов пользоватлей \n",
        "userids = test_list\n",
        "ids, scores = model_user.recommend(userids, user_item_data[userids], N=5, filter_already_liked_items=True)"
      ]
    },
    {
      "cell_type": "code",
      "execution_count": 86,
      "metadata": {
        "id": "zYB9e33yLk3H"
      },
      "outputs": [],
      "source": [
        "# а вот тут мы делаем хитро в первую колонку записываем строковые имена пользователей, а в список рекомендаций полученные предсказания\n",
        "test_prediction = pd.DataFrame({'cookie_id' : test_list_str, 'top_recommendations' : list(ids)})"
      ]
    },
    {
      "cell_type": "code",
      "execution_count": 87,
      "metadata": {
        "colab": {
          "base_uri": "https://localhost:8080/",
          "height": 206
        },
        "id": "r8kvDbkzMntu",
        "outputId": "761ed443-febc-4d85-cf56-f67525d26611"
      },
      "outputs": [
        {
          "data": {
            "text/html": [
              "<div>\n",
              "<style scoped>\n",
              "    .dataframe tbody tr th:only-of-type {\n",
              "        vertical-align: middle;\n",
              "    }\n",
              "\n",
              "    .dataframe tbody tr th {\n",
              "        vertical-align: top;\n",
              "    }\n",
              "\n",
              "    .dataframe thead th {\n",
              "        text-align: right;\n",
              "    }\n",
              "</style>\n",
              "<table border=\"1\" class=\"dataframe\">\n",
              "  <thead>\n",
              "    <tr style=\"text-align: right;\">\n",
              "      <th></th>\n",
              "      <th>cookie_id</th>\n",
              "      <th>top_recommendations</th>\n",
              "    </tr>\n",
              "  </thead>\n",
              "  <tbody>\n",
              "    <tr>\n",
              "      <th>0</th>\n",
              "      <td>000cd76cd33f43d4a1ac1d16d10f8bf7</td>\n",
              "      <td>[260154, 146630, 185913, 117525, 181275]</td>\n",
              "    </tr>\n",
              "    <tr>\n",
              "      <th>1</th>\n",
              "      <td>0034bc7f404341ba8412665453e7825a</td>\n",
              "      <td>[106943, 103881, 138634, 171332, 207423]</td>\n",
              "    </tr>\n",
              "    <tr>\n",
              "      <th>2</th>\n",
              "      <td>00a6c5a64a274c55a836402bdeb3b2c4</td>\n",
              "      <td>[227708, 109079, 113305, 148714, 242642]</td>\n",
              "    </tr>\n",
              "    <tr>\n",
              "      <th>3</th>\n",
              "      <td>015937a125b14e74bdff1cddc49f9172</td>\n",
              "      <td>[114583, 193331, 205606, 164588, 192565]</td>\n",
              "    </tr>\n",
              "    <tr>\n",
              "      <th>4</th>\n",
              "      <td>01de50c280794cec8804f16f45f847b7</td>\n",
              "      <td>[128278, 137702, 117532, 253817, 253946]</td>\n",
              "    </tr>\n",
              "  </tbody>\n",
              "</table>\n",
              "</div>"
            ],
            "text/plain": [
              "                          cookie_id                       top_recommendations\n",
              "0  000cd76cd33f43d4a1ac1d16d10f8bf7  [260154, 146630, 185913, 117525, 181275]\n",
              "1  0034bc7f404341ba8412665453e7825a  [106943, 103881, 138634, 171332, 207423]\n",
              "2  00a6c5a64a274c55a836402bdeb3b2c4  [227708, 109079, 113305, 148714, 242642]\n",
              "3  015937a125b14e74bdff1cddc49f9172  [114583, 193331, 205606, 164588, 192565]\n",
              "4  01de50c280794cec8804f16f45f847b7  [128278, 137702, 117532, 253817, 253946]"
            ]
          },
          "execution_count": 87,
          "metadata": {},
          "output_type": "execute_result"
        }
      ],
      "source": [
        "# посмотрим что получилось (выглядит красиво как и требуется)\n",
        "test_prediction.head()"
      ]
    },
    {
      "cell_type": "code",
      "execution_count": 88,
      "metadata": {
        "id": "BRBu1HjUIicm"
      },
      "outputs": [],
      "source": [
        "# вот эта наша функция получения метрики\n",
        "def precision_n(predictions, df_test_list_top, k=5):\n",
        "  #recommendations num:\n",
        "    n_rec_k = len(df_test_list_top)*k\n",
        "  #true reccomendations:\n",
        "    matches=0\n",
        "    for row in range(len(predictions)):\n",
        "      row_match = set(predictions['top_recommendations'][row]).intersection(set(df_test_list_top['vacancy_id_'][row]))  \n",
        "      matches += len(row_match)\n",
        "  #Results:\n",
        "    precisions = matches / n_rec_k if n_rec_k != 0 else 0\n",
        "    return precisions"
      ]
    },
    {
      "cell_type": "code",
      "execution_count": 89,
      "metadata": {
        "colab": {
          "base_uri": "https://localhost:8080/"
        },
        "id": "JVZiqJF2IiZ4",
        "outputId": "c606c26a-c739-41d5-9ac0-3d033db6000d"
      },
      "outputs": [
        {
          "data": {
            "text/plain": [
              "0.039119170984455956"
            ]
          },
          "execution_count": 89,
          "metadata": {},
          "output_type": "execute_result"
        }
      ],
      "source": [
        "# Ну и собственно вот результат\n",
        "precision_n(test_prediction, test)"
      ]
    }
  ],
  "metadata": {
    "accelerator": "GPU",
    "colab": {
      "collapsed_sections": [
        "ozpEdIt-_wPn",
        "Ds44fqAsQr3d",
        "k1G3QkSzQr3e",
        "VgugnPabBjn1"
      ],
      "provenance": []
    },
    "gpuClass": "standard",
    "kernelspec": {
      "display_name": "Python 3",
      "language": "python",
      "name": "python3"
    },
    "language_info": {
      "codemirror_mode": {
        "name": "ipython",
        "version": 3
      },
      "file_extension": ".py",
      "mimetype": "text/x-python",
      "name": "python",
      "nbconvert_exporter": "python",
      "pygments_lexer": "ipython3",
      "version": "3.10.7"
    },
    "widgets": {
      "application/vnd.jupyter.widget-state+json": {
        "039b7e36795a420b92e438a1ff3a7f9f": {
          "model_module": "@jupyter-widgets/controls",
          "model_module_version": "1.5.0",
          "model_name": "HBoxModel",
          "state": {
            "_dom_classes": [],
            "_model_module": "@jupyter-widgets/controls",
            "_model_module_version": "1.5.0",
            "_model_name": "HBoxModel",
            "_view_count": null,
            "_view_module": "@jupyter-widgets/controls",
            "_view_module_version": "1.5.0",
            "_view_name": "HBoxView",
            "box_style": "",
            "children": [
              "IPY_MODEL_660545ac12d640668331b694bb4c7379",
              "IPY_MODEL_d48021ea8d1c4c26bac1f44b5bcdf1cd",
              "IPY_MODEL_8feeb6c1fc634b798f926952bf4aafc6"
            ],
            "layout": "IPY_MODEL_55f25e7841124908a92522e1ef50439d"
          }
        },
        "0967a9e31a3246a983dc1bc100e2cd15": {
          "model_module": "@jupyter-widgets/base",
          "model_module_version": "1.2.0",
          "model_name": "LayoutModel",
          "state": {
            "_model_module": "@jupyter-widgets/base",
            "_model_module_version": "1.2.0",
            "_model_name": "LayoutModel",
            "_view_count": null,
            "_view_module": "@jupyter-widgets/base",
            "_view_module_version": "1.2.0",
            "_view_name": "LayoutView",
            "align_content": null,
            "align_items": null,
            "align_self": null,
            "border": null,
            "bottom": null,
            "display": null,
            "flex": null,
            "flex_flow": null,
            "grid_area": null,
            "grid_auto_columns": null,
            "grid_auto_flow": null,
            "grid_auto_rows": null,
            "grid_column": null,
            "grid_gap": null,
            "grid_row": null,
            "grid_template_areas": null,
            "grid_template_columns": null,
            "grid_template_rows": null,
            "height": null,
            "justify_content": null,
            "justify_items": null,
            "left": null,
            "margin": null,
            "max_height": null,
            "max_width": null,
            "min_height": null,
            "min_width": null,
            "object_fit": null,
            "object_position": null,
            "order": null,
            "overflow": null,
            "overflow_x": null,
            "overflow_y": null,
            "padding": null,
            "right": null,
            "top": null,
            "visibility": null,
            "width": null
          }
        },
        "1815dd1de99e4b289799dfffed5be58d": {
          "model_module": "@jupyter-widgets/base",
          "model_module_version": "1.2.0",
          "model_name": "LayoutModel",
          "state": {
            "_model_module": "@jupyter-widgets/base",
            "_model_module_version": "1.2.0",
            "_model_name": "LayoutModel",
            "_view_count": null,
            "_view_module": "@jupyter-widgets/base",
            "_view_module_version": "1.2.0",
            "_view_name": "LayoutView",
            "align_content": null,
            "align_items": null,
            "align_self": null,
            "border": null,
            "bottom": null,
            "display": null,
            "flex": null,
            "flex_flow": null,
            "grid_area": null,
            "grid_auto_columns": null,
            "grid_auto_flow": null,
            "grid_auto_rows": null,
            "grid_column": null,
            "grid_gap": null,
            "grid_row": null,
            "grid_template_areas": null,
            "grid_template_columns": null,
            "grid_template_rows": null,
            "height": null,
            "justify_content": null,
            "justify_items": null,
            "left": null,
            "margin": null,
            "max_height": null,
            "max_width": null,
            "min_height": null,
            "min_width": null,
            "object_fit": null,
            "object_position": null,
            "order": null,
            "overflow": null,
            "overflow_x": null,
            "overflow_y": null,
            "padding": null,
            "right": null,
            "top": null,
            "visibility": null,
            "width": null
          }
        },
        "306c33c511b74d139924cf75e210cac6": {
          "model_module": "@jupyter-widgets/controls",
          "model_module_version": "1.5.0",
          "model_name": "HBoxModel",
          "state": {
            "_dom_classes": [],
            "_model_module": "@jupyter-widgets/controls",
            "_model_module_version": "1.5.0",
            "_model_name": "HBoxModel",
            "_view_count": null,
            "_view_module": "@jupyter-widgets/controls",
            "_view_module_version": "1.5.0",
            "_view_name": "HBoxView",
            "box_style": "",
            "children": [
              "IPY_MODEL_7cd8f366b47c471da60dc3a7818d48a6",
              "IPY_MODEL_99198e36edf94111b6d67f0965298292",
              "IPY_MODEL_b511c333635e40d0aca01378ab3c54ae"
            ],
            "layout": "IPY_MODEL_57123ec1468d4844940aaa401c37fb11"
          }
        },
        "3b36828aea104a4b9b7d66616ed24504": {
          "model_module": "@jupyter-widgets/base",
          "model_module_version": "1.2.0",
          "model_name": "LayoutModel",
          "state": {
            "_model_module": "@jupyter-widgets/base",
            "_model_module_version": "1.2.0",
            "_model_name": "LayoutModel",
            "_view_count": null,
            "_view_module": "@jupyter-widgets/base",
            "_view_module_version": "1.2.0",
            "_view_name": "LayoutView",
            "align_content": null,
            "align_items": null,
            "align_self": null,
            "border": null,
            "bottom": null,
            "display": null,
            "flex": null,
            "flex_flow": null,
            "grid_area": null,
            "grid_auto_columns": null,
            "grid_auto_flow": null,
            "grid_auto_rows": null,
            "grid_column": null,
            "grid_gap": null,
            "grid_row": null,
            "grid_template_areas": null,
            "grid_template_columns": null,
            "grid_template_rows": null,
            "height": null,
            "justify_content": null,
            "justify_items": null,
            "left": null,
            "margin": null,
            "max_height": null,
            "max_width": null,
            "min_height": null,
            "min_width": null,
            "object_fit": null,
            "object_position": null,
            "order": null,
            "overflow": null,
            "overflow_x": null,
            "overflow_y": null,
            "padding": null,
            "right": null,
            "top": null,
            "visibility": null,
            "width": null
          }
        },
        "3bd5a18f0fe54d8ea51f0ab29213cb9d": {
          "model_module": "@jupyter-widgets/controls",
          "model_module_version": "1.5.0",
          "model_name": "DescriptionStyleModel",
          "state": {
            "_model_module": "@jupyter-widgets/controls",
            "_model_module_version": "1.5.0",
            "_model_name": "DescriptionStyleModel",
            "_view_count": null,
            "_view_module": "@jupyter-widgets/base",
            "_view_module_version": "1.2.0",
            "_view_name": "StyleView",
            "description_width": ""
          }
        },
        "55f25e7841124908a92522e1ef50439d": {
          "model_module": "@jupyter-widgets/base",
          "model_module_version": "1.2.0",
          "model_name": "LayoutModel",
          "state": {
            "_model_module": "@jupyter-widgets/base",
            "_model_module_version": "1.2.0",
            "_model_name": "LayoutModel",
            "_view_count": null,
            "_view_module": "@jupyter-widgets/base",
            "_view_module_version": "1.2.0",
            "_view_name": "LayoutView",
            "align_content": null,
            "align_items": null,
            "align_self": null,
            "border": null,
            "bottom": null,
            "display": null,
            "flex": null,
            "flex_flow": null,
            "grid_area": null,
            "grid_auto_columns": null,
            "grid_auto_flow": null,
            "grid_auto_rows": null,
            "grid_column": null,
            "grid_gap": null,
            "grid_row": null,
            "grid_template_areas": null,
            "grid_template_columns": null,
            "grid_template_rows": null,
            "height": null,
            "justify_content": null,
            "justify_items": null,
            "left": null,
            "margin": null,
            "max_height": null,
            "max_width": null,
            "min_height": null,
            "min_width": null,
            "object_fit": null,
            "object_position": null,
            "order": null,
            "overflow": null,
            "overflow_x": null,
            "overflow_y": null,
            "padding": null,
            "right": null,
            "top": null,
            "visibility": null,
            "width": null
          }
        },
        "57123ec1468d4844940aaa401c37fb11": {
          "model_module": "@jupyter-widgets/base",
          "model_module_version": "1.2.0",
          "model_name": "LayoutModel",
          "state": {
            "_model_module": "@jupyter-widgets/base",
            "_model_module_version": "1.2.0",
            "_model_name": "LayoutModel",
            "_view_count": null,
            "_view_module": "@jupyter-widgets/base",
            "_view_module_version": "1.2.0",
            "_view_name": "LayoutView",
            "align_content": null,
            "align_items": null,
            "align_self": null,
            "border": null,
            "bottom": null,
            "display": null,
            "flex": null,
            "flex_flow": null,
            "grid_area": null,
            "grid_auto_columns": null,
            "grid_auto_flow": null,
            "grid_auto_rows": null,
            "grid_column": null,
            "grid_gap": null,
            "grid_row": null,
            "grid_template_areas": null,
            "grid_template_columns": null,
            "grid_template_rows": null,
            "height": null,
            "justify_content": null,
            "justify_items": null,
            "left": null,
            "margin": null,
            "max_height": null,
            "max_width": null,
            "min_height": null,
            "min_width": null,
            "object_fit": null,
            "object_position": null,
            "order": null,
            "overflow": null,
            "overflow_x": null,
            "overflow_y": null,
            "padding": null,
            "right": null,
            "top": null,
            "visibility": null,
            "width": null
          }
        },
        "660545ac12d640668331b694bb4c7379": {
          "model_module": "@jupyter-widgets/controls",
          "model_module_version": "1.5.0",
          "model_name": "HTMLModel",
          "state": {
            "_dom_classes": [],
            "_model_module": "@jupyter-widgets/controls",
            "_model_module_version": "1.5.0",
            "_model_name": "HTMLModel",
            "_view_count": null,
            "_view_module": "@jupyter-widgets/controls",
            "_view_module_version": "1.5.0",
            "_view_name": "HTMLView",
            "description": "",
            "description_tooltip": null,
            "layout": "IPY_MODEL_fffccc1c808b4741bb51566bafb06b05",
            "placeholder": "​",
            "style": "IPY_MODEL_a2246a6949324c1ebf146aa9e200b4ab",
            "value": "100%"
          }
        },
        "7cd8f366b47c471da60dc3a7818d48a6": {
          "model_module": "@jupyter-widgets/controls",
          "model_module_version": "1.5.0",
          "model_name": "HTMLModel",
          "state": {
            "_dom_classes": [],
            "_model_module": "@jupyter-widgets/controls",
            "_model_module_version": "1.5.0",
            "_model_name": "HTMLModel",
            "_view_count": null,
            "_view_module": "@jupyter-widgets/controls",
            "_view_module_version": "1.5.0",
            "_view_name": "HTMLView",
            "description": "",
            "description_tooltip": null,
            "layout": "IPY_MODEL_3b36828aea104a4b9b7d66616ed24504",
            "placeholder": "​",
            "style": "IPY_MODEL_3bd5a18f0fe54d8ea51f0ab29213cb9d",
            "value": "100%"
          }
        },
        "826a255b672642fca28ffd39a913301f": {
          "model_module": "@jupyter-widgets/base",
          "model_module_version": "1.2.0",
          "model_name": "LayoutModel",
          "state": {
            "_model_module": "@jupyter-widgets/base",
            "_model_module_version": "1.2.0",
            "_model_name": "LayoutModel",
            "_view_count": null,
            "_view_module": "@jupyter-widgets/base",
            "_view_module_version": "1.2.0",
            "_view_name": "LayoutView",
            "align_content": null,
            "align_items": null,
            "align_self": null,
            "border": null,
            "bottom": null,
            "display": null,
            "flex": null,
            "flex_flow": null,
            "grid_area": null,
            "grid_auto_columns": null,
            "grid_auto_flow": null,
            "grid_auto_rows": null,
            "grid_column": null,
            "grid_gap": null,
            "grid_row": null,
            "grid_template_areas": null,
            "grid_template_columns": null,
            "grid_template_rows": null,
            "height": null,
            "justify_content": null,
            "justify_items": null,
            "left": null,
            "margin": null,
            "max_height": null,
            "max_width": null,
            "min_height": null,
            "min_width": null,
            "object_fit": null,
            "object_position": null,
            "order": null,
            "overflow": null,
            "overflow_x": null,
            "overflow_y": null,
            "padding": null,
            "right": null,
            "top": null,
            "visibility": null,
            "width": null
          }
        },
        "8feeb6c1fc634b798f926952bf4aafc6": {
          "model_module": "@jupyter-widgets/controls",
          "model_module_version": "1.5.0",
          "model_name": "HTMLModel",
          "state": {
            "_dom_classes": [],
            "_model_module": "@jupyter-widgets/controls",
            "_model_module_version": "1.5.0",
            "_model_name": "HTMLModel",
            "_view_count": null,
            "_view_module": "@jupyter-widgets/controls",
            "_view_module_version": "1.5.0",
            "_view_name": "HTMLView",
            "description": "",
            "description_tooltip": null,
            "layout": "IPY_MODEL_0967a9e31a3246a983dc1bc100e2cd15",
            "placeholder": "​",
            "style": "IPY_MODEL_d408e956097f4ba2b202eb950ac2b689",
            "value": " 50/50 [29:59&lt;00:00, 34.06s/it]"
          }
        },
        "98e11f91cc6f4f9b9827f31068f6cb45": {
          "model_module": "@jupyter-widgets/controls",
          "model_module_version": "1.5.0",
          "model_name": "DescriptionStyleModel",
          "state": {
            "_model_module": "@jupyter-widgets/controls",
            "_model_module_version": "1.5.0",
            "_model_name": "DescriptionStyleModel",
            "_view_count": null,
            "_view_module": "@jupyter-widgets/base",
            "_view_module_version": "1.2.0",
            "_view_name": "StyleView",
            "description_width": ""
          }
        },
        "99198e36edf94111b6d67f0965298292": {
          "model_module": "@jupyter-widgets/controls",
          "model_module_version": "1.5.0",
          "model_name": "FloatProgressModel",
          "state": {
            "_dom_classes": [],
            "_model_module": "@jupyter-widgets/controls",
            "_model_module_version": "1.5.0",
            "_model_name": "FloatProgressModel",
            "_view_count": null,
            "_view_module": "@jupyter-widgets/controls",
            "_view_module_version": "1.5.0",
            "_view_name": "ProgressView",
            "bar_style": "success",
            "description": "",
            "description_tooltip": null,
            "layout": "IPY_MODEL_e26b69fec1024cbe953ef736155d0e43",
            "max": 50,
            "min": 0,
            "orientation": "horizontal",
            "style": "IPY_MODEL_bcf1a3be3a5545d68d52039c4ca9fe98",
            "value": 50
          }
        },
        "a2246a6949324c1ebf146aa9e200b4ab": {
          "model_module": "@jupyter-widgets/controls",
          "model_module_version": "1.5.0",
          "model_name": "DescriptionStyleModel",
          "state": {
            "_model_module": "@jupyter-widgets/controls",
            "_model_module_version": "1.5.0",
            "_model_name": "DescriptionStyleModel",
            "_view_count": null,
            "_view_module": "@jupyter-widgets/base",
            "_view_module_version": "1.2.0",
            "_view_name": "StyleView",
            "description_width": ""
          }
        },
        "b511c333635e40d0aca01378ab3c54ae": {
          "model_module": "@jupyter-widgets/controls",
          "model_module_version": "1.5.0",
          "model_name": "HTMLModel",
          "state": {
            "_dom_classes": [],
            "_model_module": "@jupyter-widgets/controls",
            "_model_module_version": "1.5.0",
            "_model_name": "HTMLModel",
            "_view_count": null,
            "_view_module": "@jupyter-widgets/controls",
            "_view_module_version": "1.5.0",
            "_view_name": "HTMLView",
            "description": "",
            "description_tooltip": null,
            "layout": "IPY_MODEL_1815dd1de99e4b289799dfffed5be58d",
            "placeholder": "​",
            "style": "IPY_MODEL_98e11f91cc6f4f9b9827f31068f6cb45",
            "value": " 50/50 [00:09&lt;00:00,  7.70it/s]"
          }
        },
        "bcf1a3be3a5545d68d52039c4ca9fe98": {
          "model_module": "@jupyter-widgets/controls",
          "model_module_version": "1.5.0",
          "model_name": "ProgressStyleModel",
          "state": {
            "_model_module": "@jupyter-widgets/controls",
            "_model_module_version": "1.5.0",
            "_model_name": "ProgressStyleModel",
            "_view_count": null,
            "_view_module": "@jupyter-widgets/base",
            "_view_module_version": "1.2.0",
            "_view_name": "StyleView",
            "bar_color": null,
            "description_width": ""
          }
        },
        "d408e956097f4ba2b202eb950ac2b689": {
          "model_module": "@jupyter-widgets/controls",
          "model_module_version": "1.5.0",
          "model_name": "DescriptionStyleModel",
          "state": {
            "_model_module": "@jupyter-widgets/controls",
            "_model_module_version": "1.5.0",
            "_model_name": "DescriptionStyleModel",
            "_view_count": null,
            "_view_module": "@jupyter-widgets/base",
            "_view_module_version": "1.2.0",
            "_view_name": "StyleView",
            "description_width": ""
          }
        },
        "d48021ea8d1c4c26bac1f44b5bcdf1cd": {
          "model_module": "@jupyter-widgets/controls",
          "model_module_version": "1.5.0",
          "model_name": "FloatProgressModel",
          "state": {
            "_dom_classes": [],
            "_model_module": "@jupyter-widgets/controls",
            "_model_module_version": "1.5.0",
            "_model_name": "FloatProgressModel",
            "_view_count": null,
            "_view_module": "@jupyter-widgets/controls",
            "_view_module_version": "1.5.0",
            "_view_name": "ProgressView",
            "bar_style": "success",
            "description": "",
            "description_tooltip": null,
            "layout": "IPY_MODEL_826a255b672642fca28ffd39a913301f",
            "max": 50,
            "min": 0,
            "orientation": "horizontal",
            "style": "IPY_MODEL_e96f9d3457354e3cbd4f15ceeb45e4c4",
            "value": 50
          }
        },
        "e26b69fec1024cbe953ef736155d0e43": {
          "model_module": "@jupyter-widgets/base",
          "model_module_version": "1.2.0",
          "model_name": "LayoutModel",
          "state": {
            "_model_module": "@jupyter-widgets/base",
            "_model_module_version": "1.2.0",
            "_model_name": "LayoutModel",
            "_view_count": null,
            "_view_module": "@jupyter-widgets/base",
            "_view_module_version": "1.2.0",
            "_view_name": "LayoutView",
            "align_content": null,
            "align_items": null,
            "align_self": null,
            "border": null,
            "bottom": null,
            "display": null,
            "flex": null,
            "flex_flow": null,
            "grid_area": null,
            "grid_auto_columns": null,
            "grid_auto_flow": null,
            "grid_auto_rows": null,
            "grid_column": null,
            "grid_gap": null,
            "grid_row": null,
            "grid_template_areas": null,
            "grid_template_columns": null,
            "grid_template_rows": null,
            "height": null,
            "justify_content": null,
            "justify_items": null,
            "left": null,
            "margin": null,
            "max_height": null,
            "max_width": null,
            "min_height": null,
            "min_width": null,
            "object_fit": null,
            "object_position": null,
            "order": null,
            "overflow": null,
            "overflow_x": null,
            "overflow_y": null,
            "padding": null,
            "right": null,
            "top": null,
            "visibility": null,
            "width": null
          }
        },
        "e96f9d3457354e3cbd4f15ceeb45e4c4": {
          "model_module": "@jupyter-widgets/controls",
          "model_module_version": "1.5.0",
          "model_name": "ProgressStyleModel",
          "state": {
            "_model_module": "@jupyter-widgets/controls",
            "_model_module_version": "1.5.0",
            "_model_name": "ProgressStyleModel",
            "_view_count": null,
            "_view_module": "@jupyter-widgets/base",
            "_view_module_version": "1.2.0",
            "_view_name": "StyleView",
            "bar_color": null,
            "description_width": ""
          }
        },
        "fffccc1c808b4741bb51566bafb06b05": {
          "model_module": "@jupyter-widgets/base",
          "model_module_version": "1.2.0",
          "model_name": "LayoutModel",
          "state": {
            "_model_module": "@jupyter-widgets/base",
            "_model_module_version": "1.2.0",
            "_model_name": "LayoutModel",
            "_view_count": null,
            "_view_module": "@jupyter-widgets/base",
            "_view_module_version": "1.2.0",
            "_view_name": "LayoutView",
            "align_content": null,
            "align_items": null,
            "align_self": null,
            "border": null,
            "bottom": null,
            "display": null,
            "flex": null,
            "flex_flow": null,
            "grid_area": null,
            "grid_auto_columns": null,
            "grid_auto_flow": null,
            "grid_auto_rows": null,
            "grid_column": null,
            "grid_gap": null,
            "grid_row": null,
            "grid_template_areas": null,
            "grid_template_columns": null,
            "grid_template_rows": null,
            "height": null,
            "justify_content": null,
            "justify_items": null,
            "left": null,
            "margin": null,
            "max_height": null,
            "max_width": null,
            "min_height": null,
            "min_width": null,
            "object_fit": null,
            "object_position": null,
            "order": null,
            "overflow": null,
            "overflow_x": null,
            "overflow_y": null,
            "padding": null,
            "right": null,
            "top": null,
            "visibility": null,
            "width": null
          }
        }
      }
    }
  },
  "nbformat": 4,
  "nbformat_minor": 0
}
