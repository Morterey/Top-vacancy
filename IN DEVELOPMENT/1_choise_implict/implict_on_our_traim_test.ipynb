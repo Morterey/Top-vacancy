{
  "cells": [
    {
      "cell_type": "markdown",
      "metadata": {
        "id": "e_ngVxWGQr3I"
      },
      "source": [
        "# Загружаем необходимые пакеты и импортируем библиотеки\n",
        "\n",
        "---"
      ]
    },
    {
      "cell_type": "code",
      "execution_count": 1,
      "metadata": {
        "colab": {
          "base_uri": "https://localhost:8080/"
        },
        "id": "DQz2QHq6rTiv",
        "outputId": "ac9cd42a-23f8-4209-a3e3-29448d4451e8"
      },
      "outputs": [
        {
          "output_type": "stream",
          "name": "stdout",
          "text": [
            "Looking in indexes: https://pypi.org/simple, https://us-python.pkg.dev/colab-wheels/public/simple/\n",
            "Collecting implicit\n",
            "  Downloading implicit-0.6.2-cp310-cp310-manylinux2014_x86_64.whl (18.6 MB)\n",
            "\u001b[2K     \u001b[90m━━━━━━━━━━━━━━━━━━━━━━━━━━━━━━━━━━━━━━━━\u001b[0m \u001b[32m18.6/18.6 MB\u001b[0m \u001b[31m50.2 MB/s\u001b[0m eta \u001b[36m0:00:00\u001b[0m\n",
            "\u001b[?25hRequirement already satisfied: numpy in /usr/local/lib/python3.10/dist-packages (from implicit) (1.22.4)\n",
            "Requirement already satisfied: scipy>=0.16 in /usr/local/lib/python3.10/dist-packages (from implicit) (1.10.1)\n",
            "Requirement already satisfied: tqdm>=4.27 in /usr/local/lib/python3.10/dist-packages (from implicit) (4.65.0)\n",
            "Installing collected packages: implicit\n",
            "Successfully installed implicit-0.6.2\n"
          ]
        }
      ],
      "source": [
        "# устанавливаем библиотеку implicit \n",
        "%pip install implicit"
      ]
    },
    {
      "cell_type": "code",
      "execution_count": 2,
      "metadata": {
        "id": "rg2m6XderTi1"
      },
      "outputs": [],
      "source": [
        "# загружаем библиотеки\n",
        "import pandas as pd\n",
        "import scipy.sparse as sparse\n",
        "import numpy as np\n",
        "import random\n",
        "import implicit\n",
        "import tensorflow as tf\n",
        "from sklearn import preprocessing\n",
        "import ast"
      ]
    },
    {
      "cell_type": "code",
      "source": [
        "from google.colab import drive\n",
        "drive.mount('/content/drive')"
      ],
      "metadata": {
        "colab": {
          "base_uri": "https://localhost:8080/"
        },
        "id": "-S2MC0vLd3V5",
        "outputId": "85e82133-22d5-4579-d9f9-270326a1924a"
      },
      "execution_count": 3,
      "outputs": [
        {
          "output_type": "stream",
          "name": "stdout",
          "text": [
            "Mounted at /content/drive\n"
          ]
        }
      ]
    },
    {
      "cell_type": "code",
      "source": [
        "# Проверяем что у нас работает GPU\n",
        "tf.test.gpu_device_name()"
      ],
      "metadata": {
        "colab": {
          "base_uri": "https://localhost:8080/",
          "height": 36
        },
        "id": "O_9RapFj6TFw",
        "outputId": "6464e839-bd8d-4c6d-9109-0bd24c229040"
      },
      "execution_count": 4,
      "outputs": [
        {
          "output_type": "execute_result",
          "data": {
            "text/plain": [
              "'/device:GPU:0'"
            ],
            "application/vnd.google.colaboratory.intrinsic+json": {
              "type": "string"
            }
          },
          "metadata": {},
          "execution_count": 4
        }
      ]
    },
    {
      "cell_type": "code",
      "source": [
        "#GPU count and name\n",
        "!nvidia-smi -L"
      ],
      "metadata": {
        "colab": {
          "base_uri": "https://localhost:8080/"
        },
        "id": "ewGeQZaW6Vro",
        "outputId": "513427f2-918e-4ad9-cff6-73ba01fd7e25"
      },
      "execution_count": 5,
      "outputs": [
        {
          "output_type": "stream",
          "name": "stdout",
          "text": [
            "GPU 0: Tesla T4 (UUID: GPU-665336b9-dd5d-09c9-0da0-1bcc769d84d8)\n"
          ]
        }
      ]
    },
    {
      "cell_type": "code",
      "source": [
        "#use this command to see GPU activity while doing Deep Learning tasks, for this command 'nvidia-smi' and for above one to work, go to 'Runtime > change runtime type > Hardware Accelerator > GPU'\n",
        "!nvidia-smi"
      ],
      "metadata": {
        "colab": {
          "base_uri": "https://localhost:8080/"
        },
        "id": "CzqAoxQ06loO",
        "outputId": "c76cd5dd-20cf-4009-f821-1cab9cd003fd"
      },
      "execution_count": 6,
      "outputs": [
        {
          "output_type": "stream",
          "name": "stdout",
          "text": [
            "Fri Apr 28 05:11:01 2023       \n",
            "+-----------------------------------------------------------------------------+\n",
            "| NVIDIA-SMI 525.85.12    Driver Version: 525.85.12    CUDA Version: 12.0     |\n",
            "|-------------------------------+----------------------+----------------------+\n",
            "| GPU  Name        Persistence-M| Bus-Id        Disp.A | Volatile Uncorr. ECC |\n",
            "| Fan  Temp  Perf  Pwr:Usage/Cap|         Memory-Usage | GPU-Util  Compute M. |\n",
            "|                               |                      |               MIG M. |\n",
            "|===============================+======================+======================|\n",
            "|   0  Tesla T4            Off  | 00000000:00:04.0 Off |                    0 |\n",
            "| N/A   41C    P0    26W /  70W |    391MiB / 15360MiB |      0%      Default |\n",
            "|                               |                      |                  N/A |\n",
            "+-------------------------------+----------------------+----------------------+\n",
            "                                                                               \n",
            "+-----------------------------------------------------------------------------+\n",
            "| Processes:                                                                  |\n",
            "|  GPU   GI   CI        PID   Type   Process name                  GPU Memory |\n",
            "|        ID   ID                                                   Usage      |\n",
            "|=============================================================================|\n",
            "+-----------------------------------------------------------------------------+\n"
          ]
        }
      ]
    },
    {
      "cell_type": "markdown",
      "metadata": {
        "id": "S8zD3-0gQr3T"
      },
      "source": [
        "# Подготовка и обработка данных\n",
        "\n",
        "---"
      ]
    },
    {
      "cell_type": "code",
      "execution_count": 7,
      "metadata": {
        "id": "xcQyVkaZxF93"
      },
      "outputs": [],
      "source": [
        "# загружаем данные из источника\n",
        "#data = pd.read_parquet('/content/drive/MyDrive/Hackaton 04.2023/df_train.parquet', engine='pyarrow')\n",
        "data = pd.read_parquet('/content/drive/MyDrive/Hackaton 04.2023/df_train.parquet', engine='pyarrow')"
      ]
    },
    {
      "cell_type": "code",
      "source": [
        "test = pd.read_csv('/content/drive/MyDrive/Hackaton 04.2023/df_test_list_top.csv')\n",
        "test.columns=[['cookie_id','vacancy_id_']]\n",
        "test\n"
      ],
      "metadata": {
        "colab": {
          "base_uri": "https://localhost:8080/",
          "height": 423
        },
        "id": "vc3RHjIAaY6B",
        "outputId": "b87b1b57-a652-4d2a-ec9d-2cb999166000"
      },
      "execution_count": 6,
      "outputs": [
        {
          "output_type": "execute_result",
          "data": {
            "text/plain": [
              "                             cookie_id  \\\n",
              "0     00252da2760d4231b366d79eaf6a54a1   \n",
              "1     0052234b5356480f9dff207888135548   \n",
              "2     007090a8c8354b42bf538b93785303d3   \n",
              "3     00c15cb6e3c84464a0e538e46ced6c46   \n",
              "4     00d6baa0391e41628da60e2b4a37e19f   \n",
              "...                                ...   \n",
              "1785  ff6aeeddb38847c59979efce29225e87   \n",
              "1786  ff7861c402e84f9fa78ff00f49eb83a1   \n",
              "1787  ff81d0fe535247ac9df2468f8e57a9e9   \n",
              "1788  ffa618b6b94444239aee6356fc67af48   \n",
              "1789  ffa8eedc0bc44afd9e941bbdf55fb08e   \n",
              "\n",
              "                                   vacancy_id_  \n",
              "0     [139502, 133937, 153196, 166055, 168696]  \n",
              "1     [108861, 134982, 141785, 146245, 153937]  \n",
              "2     [101396, 118250, 122614, 152485, 164067]  \n",
              "3     [139462, 101462, 108276, 108536, 111783]  \n",
              "4     [117958, 157903, 159843, 164325, 164331]  \n",
              "...                                        ...  \n",
              "1785  [112920, 126057, 126404, 127524, 130124]  \n",
              "1786  [248949, 254085, 108510, 128900, 182528]  \n",
              "1787  [107949, 104587, 134588, 136000, 143178]  \n",
              "1788  [101136, 117182, 117525, 185355, 223343]  \n",
              "1789  [131720, 117525, 235529, 102702, 143665]  \n",
              "\n",
              "[1790 rows x 2 columns]"
            ],
            "text/html": [
              "\n",
              "  <div id=\"df-2d9a91ea-7cde-4e26-9d9b-c716ad7b4129\">\n",
              "    <div class=\"colab-df-container\">\n",
              "      <div>\n",
              "<style scoped>\n",
              "    .dataframe tbody tr th:only-of-type {\n",
              "        vertical-align: middle;\n",
              "    }\n",
              "\n",
              "    .dataframe tbody tr th {\n",
              "        vertical-align: top;\n",
              "    }\n",
              "\n",
              "    .dataframe thead tr th {\n",
              "        text-align: left;\n",
              "    }\n",
              "</style>\n",
              "<table border=\"1\" class=\"dataframe\">\n",
              "  <thead>\n",
              "    <tr>\n",
              "      <th></th>\n",
              "      <th>cookie_id</th>\n",
              "      <th>vacancy_id_</th>\n",
              "    </tr>\n",
              "  </thead>\n",
              "  <tbody>\n",
              "    <tr>\n",
              "      <th>0</th>\n",
              "      <td>00252da2760d4231b366d79eaf6a54a1</td>\n",
              "      <td>[139502, 133937, 153196, 166055, 168696]</td>\n",
              "    </tr>\n",
              "    <tr>\n",
              "      <th>1</th>\n",
              "      <td>0052234b5356480f9dff207888135548</td>\n",
              "      <td>[108861, 134982, 141785, 146245, 153937]</td>\n",
              "    </tr>\n",
              "    <tr>\n",
              "      <th>2</th>\n",
              "      <td>007090a8c8354b42bf538b93785303d3</td>\n",
              "      <td>[101396, 118250, 122614, 152485, 164067]</td>\n",
              "    </tr>\n",
              "    <tr>\n",
              "      <th>3</th>\n",
              "      <td>00c15cb6e3c84464a0e538e46ced6c46</td>\n",
              "      <td>[139462, 101462, 108276, 108536, 111783]</td>\n",
              "    </tr>\n",
              "    <tr>\n",
              "      <th>4</th>\n",
              "      <td>00d6baa0391e41628da60e2b4a37e19f</td>\n",
              "      <td>[117958, 157903, 159843, 164325, 164331]</td>\n",
              "    </tr>\n",
              "    <tr>\n",
              "      <th>...</th>\n",
              "      <td>...</td>\n",
              "      <td>...</td>\n",
              "    </tr>\n",
              "    <tr>\n",
              "      <th>1785</th>\n",
              "      <td>ff6aeeddb38847c59979efce29225e87</td>\n",
              "      <td>[112920, 126057, 126404, 127524, 130124]</td>\n",
              "    </tr>\n",
              "    <tr>\n",
              "      <th>1786</th>\n",
              "      <td>ff7861c402e84f9fa78ff00f49eb83a1</td>\n",
              "      <td>[248949, 254085, 108510, 128900, 182528]</td>\n",
              "    </tr>\n",
              "    <tr>\n",
              "      <th>1787</th>\n",
              "      <td>ff81d0fe535247ac9df2468f8e57a9e9</td>\n",
              "      <td>[107949, 104587, 134588, 136000, 143178]</td>\n",
              "    </tr>\n",
              "    <tr>\n",
              "      <th>1788</th>\n",
              "      <td>ffa618b6b94444239aee6356fc67af48</td>\n",
              "      <td>[101136, 117182, 117525, 185355, 223343]</td>\n",
              "    </tr>\n",
              "    <tr>\n",
              "      <th>1789</th>\n",
              "      <td>ffa8eedc0bc44afd9e941bbdf55fb08e</td>\n",
              "      <td>[131720, 117525, 235529, 102702, 143665]</td>\n",
              "    </tr>\n",
              "  </tbody>\n",
              "</table>\n",
              "<p>1790 rows × 2 columns</p>\n",
              "</div>\n",
              "      <button class=\"colab-df-convert\" onclick=\"convertToInteractive('df-2d9a91ea-7cde-4e26-9d9b-c716ad7b4129')\"\n",
              "              title=\"Convert this dataframe to an interactive table.\"\n",
              "              style=\"display:none;\">\n",
              "        \n",
              "  <svg xmlns=\"http://www.w3.org/2000/svg\" height=\"24px\"viewBox=\"0 0 24 24\"\n",
              "       width=\"24px\">\n",
              "    <path d=\"M0 0h24v24H0V0z\" fill=\"none\"/>\n",
              "    <path d=\"M18.56 5.44l.94 2.06.94-2.06 2.06-.94-2.06-.94-.94-2.06-.94 2.06-2.06.94zm-11 1L8.5 8.5l.94-2.06 2.06-.94-2.06-.94L8.5 2.5l-.94 2.06-2.06.94zm10 10l.94 2.06.94-2.06 2.06-.94-2.06-.94-.94-2.06-.94 2.06-2.06.94z\"/><path d=\"M17.41 7.96l-1.37-1.37c-.4-.4-.92-.59-1.43-.59-.52 0-1.04.2-1.43.59L10.3 9.45l-7.72 7.72c-.78.78-.78 2.05 0 2.83L4 21.41c.39.39.9.59 1.41.59.51 0 1.02-.2 1.41-.59l7.78-7.78 2.81-2.81c.8-.78.8-2.07 0-2.86zM5.41 20L4 18.59l7.72-7.72 1.47 1.35L5.41 20z\"/>\n",
              "  </svg>\n",
              "      </button>\n",
              "      \n",
              "  <style>\n",
              "    .colab-df-container {\n",
              "      display:flex;\n",
              "      flex-wrap:wrap;\n",
              "      gap: 12px;\n",
              "    }\n",
              "\n",
              "    .colab-df-convert {\n",
              "      background-color: #E8F0FE;\n",
              "      border: none;\n",
              "      border-radius: 50%;\n",
              "      cursor: pointer;\n",
              "      display: none;\n",
              "      fill: #1967D2;\n",
              "      height: 32px;\n",
              "      padding: 0 0 0 0;\n",
              "      width: 32px;\n",
              "    }\n",
              "\n",
              "    .colab-df-convert:hover {\n",
              "      background-color: #E2EBFA;\n",
              "      box-shadow: 0px 1px 2px rgba(60, 64, 67, 0.3), 0px 1px 3px 1px rgba(60, 64, 67, 0.15);\n",
              "      fill: #174EA6;\n",
              "    }\n",
              "\n",
              "    [theme=dark] .colab-df-convert {\n",
              "      background-color: #3B4455;\n",
              "      fill: #D2E3FC;\n",
              "    }\n",
              "\n",
              "    [theme=dark] .colab-df-convert:hover {\n",
              "      background-color: #434B5C;\n",
              "      box-shadow: 0px 1px 3px 1px rgba(0, 0, 0, 0.15);\n",
              "      filter: drop-shadow(0px 1px 2px rgba(0, 0, 0, 0.3));\n",
              "      fill: #FFFFFF;\n",
              "    }\n",
              "  </style>\n",
              "\n",
              "      <script>\n",
              "        const buttonEl =\n",
              "          document.querySelector('#df-2d9a91ea-7cde-4e26-9d9b-c716ad7b4129 button.colab-df-convert');\n",
              "        buttonEl.style.display =\n",
              "          google.colab.kernel.accessAllowed ? 'block' : 'none';\n",
              "\n",
              "        async function convertToInteractive(key) {\n",
              "          const element = document.querySelector('#df-2d9a91ea-7cde-4e26-9d9b-c716ad7b4129');\n",
              "          const dataTable =\n",
              "            await google.colab.kernel.invokeFunction('convertToInteractive',\n",
              "                                                     [key], {});\n",
              "          if (!dataTable) return;\n",
              "\n",
              "          const docLinkHtml = 'Like what you see? Visit the ' +\n",
              "            '<a target=\"_blank\" href=https://colab.research.google.com/notebooks/data_table.ipynb>data table notebook</a>'\n",
              "            + ' to learn more about interactive tables.';\n",
              "          element.innerHTML = '';\n",
              "          dataTable['output_type'] = 'display_data';\n",
              "          await google.colab.output.renderOutput(dataTable, element);\n",
              "          const docLink = document.createElement('div');\n",
              "          docLink.innerHTML = docLinkHtml;\n",
              "          element.appendChild(docLink);\n",
              "        }\n",
              "      </script>\n",
              "    </div>\n",
              "  </div>\n",
              "  "
            ]
          },
          "metadata": {},
          "execution_count": 6
        }
      ]
    },
    {
      "cell_type": "code",
      "source": [
        "def get_dict_from_columns(col1, col2):\n",
        "    dict_from_cols = {}\n",
        "    for i in range(len(col2)):\n",
        "        if col2[i] not in dict_from_cols:\n",
        "            dict_from_cols[col2[i]] = col1[i]\n",
        "    return dict_from_cols\n",
        "user_dict = get_dict_from_columns(data['cookie_id'],data['user_id'])"
      ],
      "metadata": {
        "id": "dc-e0uziadsa"
      },
      "execution_count": 8,
      "outputs": []
    },
    {
      "cell_type": "code",
      "source": [
        "data['new_cookie'] = data['user_id'].map(user_dict)"
      ],
      "metadata": {
        "id": "lkTDrtc27Luy"
      },
      "execution_count": 9,
      "outputs": []
    },
    {
      "cell_type": "code",
      "source": [
        "data['key'] = data['new_cookie'].astype(str)+'_'+data['vacancy_id_num'].astype(str)+'_'+data['Rating'].astype(str)\n",
        "data.head(5)"
      ],
      "metadata": {
        "colab": {
          "base_uri": "https://localhost:8080/",
          "height": 270
        },
        "id": "77mavnvR84Wx",
        "outputId": "31cae555-b56d-43d8-b004-3a8e03a13c7c"
      },
      "execution_count": 10,
      "outputs": [
        {
          "output_type": "execute_result",
          "data": {
            "text/plain": [
              "   event_date  event_timestamp  vacancy_id_                         cookie_id  \\\n",
              "0  2022-08-01       1659323026       129850  97990f1a021d4be19aa3f955b7eacab4   \n",
              "1  2022-08-01       1659377255       108347  03bf8c511fa949c79845a5d81b09aa1d   \n",
              "2  2022-08-01       1659376695       109069  03bf8c511fa949c79845a5d81b09aa1d   \n",
              "3  2022-08-01       1659376722       171425  03bf8c511fa949c79845a5d81b09aa1d   \n",
              "4  2022-08-01       1659374929       252384  03bf8c511fa949c79845a5d81b09aa1d   \n",
              "\n",
              "                            user_id    event_type  Rating  vacancy_id_num  \\\n",
              "0  951f53de61764ea0b51317200a0dbbfc  show_vacancy       0          129850   \n",
              "1  f5a2326a17484330aa8cb4019f1b1960  show_vacancy       0          108347   \n",
              "2  f5a2326a17484330aa8cb4019f1b1960  show_vacancy       0          109069   \n",
              "3  f5a2326a17484330aa8cb4019f1b1960  show_vacancy       0          171425   \n",
              "4  f5a2326a17484330aa8cb4019f1b1960  show_vacancy       0          252384   \n",
              "\n",
              "                      cookie_id_num                       user_id_num  \\\n",
              "0  97990f1a021d4be19aa3f955b7eacab4  951f53de61764ea0b51317200a0dbbfc   \n",
              "1  03bf8c511fa949c79845a5d81b09aa1d  f5a2326a17484330aa8cb4019f1b1960   \n",
              "2  03bf8c511fa949c79845a5d81b09aa1d  f5a2326a17484330aa8cb4019f1b1960   \n",
              "3  03bf8c511fa949c79845a5d81b09aa1d  f5a2326a17484330aa8cb4019f1b1960   \n",
              "4  03bf8c511fa949c79845a5d81b09aa1d  f5a2326a17484330aa8cb4019f1b1960   \n",
              "\n",
              "                                         key                        new_cookie  \n",
              "0  97990f1a021d4be19aa3f955b7eacab4_129850_0  97990f1a021d4be19aa3f955b7eacab4  \n",
              "1  03bf8c511fa949c79845a5d81b09aa1d_108347_0  03bf8c511fa949c79845a5d81b09aa1d  \n",
              "2  03bf8c511fa949c79845a5d81b09aa1d_109069_0  03bf8c511fa949c79845a5d81b09aa1d  \n",
              "3  03bf8c511fa949c79845a5d81b09aa1d_171425_0  03bf8c511fa949c79845a5d81b09aa1d  \n",
              "4  03bf8c511fa949c79845a5d81b09aa1d_252384_0  03bf8c511fa949c79845a5d81b09aa1d  "
            ],
            "text/html": [
              "\n",
              "  <div id=\"df-1e2d06fc-005a-43c9-a949-4393182868a1\">\n",
              "    <div class=\"colab-df-container\">\n",
              "      <div>\n",
              "<style scoped>\n",
              "    .dataframe tbody tr th:only-of-type {\n",
              "        vertical-align: middle;\n",
              "    }\n",
              "\n",
              "    .dataframe tbody tr th {\n",
              "        vertical-align: top;\n",
              "    }\n",
              "\n",
              "    .dataframe thead th {\n",
              "        text-align: right;\n",
              "    }\n",
              "</style>\n",
              "<table border=\"1\" class=\"dataframe\">\n",
              "  <thead>\n",
              "    <tr style=\"text-align: right;\">\n",
              "      <th></th>\n",
              "      <th>event_date</th>\n",
              "      <th>event_timestamp</th>\n",
              "      <th>vacancy_id_</th>\n",
              "      <th>cookie_id</th>\n",
              "      <th>user_id</th>\n",
              "      <th>event_type</th>\n",
              "      <th>Rating</th>\n",
              "      <th>vacancy_id_num</th>\n",
              "      <th>cookie_id_num</th>\n",
              "      <th>user_id_num</th>\n",
              "      <th>key</th>\n",
              "      <th>new_cookie</th>\n",
              "    </tr>\n",
              "  </thead>\n",
              "  <tbody>\n",
              "    <tr>\n",
              "      <th>0</th>\n",
              "      <td>2022-08-01</td>\n",
              "      <td>1659323026</td>\n",
              "      <td>129850</td>\n",
              "      <td>97990f1a021d4be19aa3f955b7eacab4</td>\n",
              "      <td>951f53de61764ea0b51317200a0dbbfc</td>\n",
              "      <td>show_vacancy</td>\n",
              "      <td>0</td>\n",
              "      <td>129850</td>\n",
              "      <td>97990f1a021d4be19aa3f955b7eacab4</td>\n",
              "      <td>951f53de61764ea0b51317200a0dbbfc</td>\n",
              "      <td>97990f1a021d4be19aa3f955b7eacab4_129850_0</td>\n",
              "      <td>97990f1a021d4be19aa3f955b7eacab4</td>\n",
              "    </tr>\n",
              "    <tr>\n",
              "      <th>1</th>\n",
              "      <td>2022-08-01</td>\n",
              "      <td>1659377255</td>\n",
              "      <td>108347</td>\n",
              "      <td>03bf8c511fa949c79845a5d81b09aa1d</td>\n",
              "      <td>f5a2326a17484330aa8cb4019f1b1960</td>\n",
              "      <td>show_vacancy</td>\n",
              "      <td>0</td>\n",
              "      <td>108347</td>\n",
              "      <td>03bf8c511fa949c79845a5d81b09aa1d</td>\n",
              "      <td>f5a2326a17484330aa8cb4019f1b1960</td>\n",
              "      <td>03bf8c511fa949c79845a5d81b09aa1d_108347_0</td>\n",
              "      <td>03bf8c511fa949c79845a5d81b09aa1d</td>\n",
              "    </tr>\n",
              "    <tr>\n",
              "      <th>2</th>\n",
              "      <td>2022-08-01</td>\n",
              "      <td>1659376695</td>\n",
              "      <td>109069</td>\n",
              "      <td>03bf8c511fa949c79845a5d81b09aa1d</td>\n",
              "      <td>f5a2326a17484330aa8cb4019f1b1960</td>\n",
              "      <td>show_vacancy</td>\n",
              "      <td>0</td>\n",
              "      <td>109069</td>\n",
              "      <td>03bf8c511fa949c79845a5d81b09aa1d</td>\n",
              "      <td>f5a2326a17484330aa8cb4019f1b1960</td>\n",
              "      <td>03bf8c511fa949c79845a5d81b09aa1d_109069_0</td>\n",
              "      <td>03bf8c511fa949c79845a5d81b09aa1d</td>\n",
              "    </tr>\n",
              "    <tr>\n",
              "      <th>3</th>\n",
              "      <td>2022-08-01</td>\n",
              "      <td>1659376722</td>\n",
              "      <td>171425</td>\n",
              "      <td>03bf8c511fa949c79845a5d81b09aa1d</td>\n",
              "      <td>f5a2326a17484330aa8cb4019f1b1960</td>\n",
              "      <td>show_vacancy</td>\n",
              "      <td>0</td>\n",
              "      <td>171425</td>\n",
              "      <td>03bf8c511fa949c79845a5d81b09aa1d</td>\n",
              "      <td>f5a2326a17484330aa8cb4019f1b1960</td>\n",
              "      <td>03bf8c511fa949c79845a5d81b09aa1d_171425_0</td>\n",
              "      <td>03bf8c511fa949c79845a5d81b09aa1d</td>\n",
              "    </tr>\n",
              "    <tr>\n",
              "      <th>4</th>\n",
              "      <td>2022-08-01</td>\n",
              "      <td>1659374929</td>\n",
              "      <td>252384</td>\n",
              "      <td>03bf8c511fa949c79845a5d81b09aa1d</td>\n",
              "      <td>f5a2326a17484330aa8cb4019f1b1960</td>\n",
              "      <td>show_vacancy</td>\n",
              "      <td>0</td>\n",
              "      <td>252384</td>\n",
              "      <td>03bf8c511fa949c79845a5d81b09aa1d</td>\n",
              "      <td>f5a2326a17484330aa8cb4019f1b1960</td>\n",
              "      <td>03bf8c511fa949c79845a5d81b09aa1d_252384_0</td>\n",
              "      <td>03bf8c511fa949c79845a5d81b09aa1d</td>\n",
              "    </tr>\n",
              "  </tbody>\n",
              "</table>\n",
              "</div>\n",
              "      <button class=\"colab-df-convert\" onclick=\"convertToInteractive('df-1e2d06fc-005a-43c9-a949-4393182868a1')\"\n",
              "              title=\"Convert this dataframe to an interactive table.\"\n",
              "              style=\"display:none;\">\n",
              "        \n",
              "  <svg xmlns=\"http://www.w3.org/2000/svg\" height=\"24px\"viewBox=\"0 0 24 24\"\n",
              "       width=\"24px\">\n",
              "    <path d=\"M0 0h24v24H0V0z\" fill=\"none\"/>\n",
              "    <path d=\"M18.56 5.44l.94 2.06.94-2.06 2.06-.94-2.06-.94-.94-2.06-.94 2.06-2.06.94zm-11 1L8.5 8.5l.94-2.06 2.06-.94-2.06-.94L8.5 2.5l-.94 2.06-2.06.94zm10 10l.94 2.06.94-2.06 2.06-.94-2.06-.94-.94-2.06-.94 2.06-2.06.94z\"/><path d=\"M17.41 7.96l-1.37-1.37c-.4-.4-.92-.59-1.43-.59-.52 0-1.04.2-1.43.59L10.3 9.45l-7.72 7.72c-.78.78-.78 2.05 0 2.83L4 21.41c.39.39.9.59 1.41.59.51 0 1.02-.2 1.41-.59l7.78-7.78 2.81-2.81c.8-.78.8-2.07 0-2.86zM5.41 20L4 18.59l7.72-7.72 1.47 1.35L5.41 20z\"/>\n",
              "  </svg>\n",
              "      </button>\n",
              "      \n",
              "  <style>\n",
              "    .colab-df-container {\n",
              "      display:flex;\n",
              "      flex-wrap:wrap;\n",
              "      gap: 12px;\n",
              "    }\n",
              "\n",
              "    .colab-df-convert {\n",
              "      background-color: #E8F0FE;\n",
              "      border: none;\n",
              "      border-radius: 50%;\n",
              "      cursor: pointer;\n",
              "      display: none;\n",
              "      fill: #1967D2;\n",
              "      height: 32px;\n",
              "      padding: 0 0 0 0;\n",
              "      width: 32px;\n",
              "    }\n",
              "\n",
              "    .colab-df-convert:hover {\n",
              "      background-color: #E2EBFA;\n",
              "      box-shadow: 0px 1px 2px rgba(60, 64, 67, 0.3), 0px 1px 3px 1px rgba(60, 64, 67, 0.15);\n",
              "      fill: #174EA6;\n",
              "    }\n",
              "\n",
              "    [theme=dark] .colab-df-convert {\n",
              "      background-color: #3B4455;\n",
              "      fill: #D2E3FC;\n",
              "    }\n",
              "\n",
              "    [theme=dark] .colab-df-convert:hover {\n",
              "      background-color: #434B5C;\n",
              "      box-shadow: 0px 1px 3px 1px rgba(0, 0, 0, 0.15);\n",
              "      filter: drop-shadow(0px 1px 2px rgba(0, 0, 0, 0.3));\n",
              "      fill: #FFFFFF;\n",
              "    }\n",
              "  </style>\n",
              "\n",
              "      <script>\n",
              "        const buttonEl =\n",
              "          document.querySelector('#df-1e2d06fc-005a-43c9-a949-4393182868a1 button.colab-df-convert');\n",
              "        buttonEl.style.display =\n",
              "          google.colab.kernel.accessAllowed ? 'block' : 'none';\n",
              "\n",
              "        async function convertToInteractive(key) {\n",
              "          const element = document.querySelector('#df-1e2d06fc-005a-43c9-a949-4393182868a1');\n",
              "          const dataTable =\n",
              "            await google.colab.kernel.invokeFunction('convertToInteractive',\n",
              "                                                     [key], {});\n",
              "          if (!dataTable) return;\n",
              "\n",
              "          const docLinkHtml = 'Like what you see? Visit the ' +\n",
              "            '<a target=\"_blank\" href=https://colab.research.google.com/notebooks/data_table.ipynb>data table notebook</a>'\n",
              "            + ' to learn more about interactive tables.';\n",
              "          element.innerHTML = '';\n",
              "          dataTable['output_type'] = 'display_data';\n",
              "          await google.colab.output.renderOutput(dataTable, element);\n",
              "          const docLink = document.createElement('div');\n",
              "          docLink.innerHTML = docLinkHtml;\n",
              "          element.appendChild(docLink);\n",
              "        }\n",
              "      </script>\n",
              "    </div>\n",
              "  </div>\n",
              "  "
            ]
          },
          "metadata": {},
          "execution_count": 10
        }
      ]
    },
    {
      "cell_type": "code",
      "source": [
        "def filter_by_unique_value(df, col_name):\n",
        "    # Get unique values based on the specified column\n",
        "    unique_values = df[col_name].unique()\n",
        "\n",
        "    # Filter the original DataFrame based on the unique values\n",
        "    filtered_df = df[df[col_name].isin(unique_values)]\n",
        "\n",
        "    # Return the filtered DataFrame with all the original columns\n",
        "    return filtered_df\n"
      ],
      "metadata": {
        "id": "PDz9ALF_AXhi"
      },
      "execution_count": 10,
      "outputs": []
    },
    {
      "cell_type": "code",
      "source": [
        "data_train = filter_by_unique_value(data,'key')\n",
        "data_train['cookie_id']=data_train['new_cookie']"
      ],
      "metadata": {
        "id": "ws7gZlLABZ6o"
      },
      "execution_count": 11,
      "outputs": []
    },
    {
      "cell_type": "code",
      "execution_count": 12,
      "metadata": {
        "id": "1VI7xf1oxGyA"
      },
      "outputs": [],
      "source": [
        "# создаем копию\n",
        "df = data_train.copy()"
      ]
    },
    {
      "cell_type": "code",
      "source": [
        "data['cookie_id'] = data['new_cookie']\n",
        "df = data.copy()"
      ],
      "metadata": {
        "id": "eXxe6eyjSNfz"
      },
      "execution_count": 14,
      "outputs": []
    },
    {
      "cell_type": "code",
      "source": [
        "153196 in set(df[df['cookie_id']=='00252da2760d4231b366d79eaf6a54a1']['vacancy_id_num'])"
      ],
      "metadata": {
        "colab": {
          "base_uri": "https://localhost:8080/"
        },
        "id": "SsulTt439WCO",
        "outputId": "596a4680-a7ba-44fe-af86-2b38d6fefba9"
      },
      "execution_count": 15,
      "outputs": [
        {
          "output_type": "execute_result",
          "data": {
            "text/plain": [
              "False"
            ]
          },
          "metadata": {},
          "execution_count": 15
        }
      ]
    },
    {
      "cell_type": "code",
      "execution_count": 16,
      "metadata": {
        "colab": {
          "base_uri": "https://localhost:8080/",
          "height": 270
        },
        "id": "NIoRaFJrzejz",
        "outputId": "09a85a09-9ba7-4ab6-e9fb-d45f0c8e9f67"
      },
      "outputs": [
        {
          "output_type": "execute_result",
          "data": {
            "text/plain": [
              "   event_date  event_timestamp  vacancy_id_                         cookie_id  \\\n",
              "0  2022-08-01       1659323026       129850  97990f1a021d4be19aa3f955b7eacab4   \n",
              "1  2022-08-01       1659377255       108347  03bf8c511fa949c79845a5d81b09aa1d   \n",
              "2  2022-08-01       1659376695       109069  03bf8c511fa949c79845a5d81b09aa1d   \n",
              "3  2022-08-01       1659376722       171425  03bf8c511fa949c79845a5d81b09aa1d   \n",
              "4  2022-08-01       1659374929       252384  03bf8c511fa949c79845a5d81b09aa1d   \n",
              "\n",
              "                            user_id    event_type  Rating  vacancy_id_num  \\\n",
              "0  951f53de61764ea0b51317200a0dbbfc  show_vacancy       0          129850   \n",
              "1  f5a2326a17484330aa8cb4019f1b1960  show_vacancy       0          108347   \n",
              "2  f5a2326a17484330aa8cb4019f1b1960  show_vacancy       0          109069   \n",
              "3  f5a2326a17484330aa8cb4019f1b1960  show_vacancy       0          171425   \n",
              "4  f5a2326a17484330aa8cb4019f1b1960  show_vacancy       0          252384   \n",
              "\n",
              "                      cookie_id_num                       user_id_num  \\\n",
              "0  97990f1a021d4be19aa3f955b7eacab4  951f53de61764ea0b51317200a0dbbfc   \n",
              "1  03bf8c511fa949c79845a5d81b09aa1d  f5a2326a17484330aa8cb4019f1b1960   \n",
              "2  03bf8c511fa949c79845a5d81b09aa1d  f5a2326a17484330aa8cb4019f1b1960   \n",
              "3  03bf8c511fa949c79845a5d81b09aa1d  f5a2326a17484330aa8cb4019f1b1960   \n",
              "4  03bf8c511fa949c79845a5d81b09aa1d  f5a2326a17484330aa8cb4019f1b1960   \n",
              "\n",
              "                                         key                        new_cookie  \n",
              "0  97990f1a021d4be19aa3f955b7eacab4_129850_0  97990f1a021d4be19aa3f955b7eacab4  \n",
              "1  03bf8c511fa949c79845a5d81b09aa1d_108347_0  03bf8c511fa949c79845a5d81b09aa1d  \n",
              "2  03bf8c511fa949c79845a5d81b09aa1d_109069_0  03bf8c511fa949c79845a5d81b09aa1d  \n",
              "3  03bf8c511fa949c79845a5d81b09aa1d_171425_0  03bf8c511fa949c79845a5d81b09aa1d  \n",
              "4  03bf8c511fa949c79845a5d81b09aa1d_252384_0  03bf8c511fa949c79845a5d81b09aa1d  "
            ],
            "text/html": [
              "\n",
              "  <div id=\"df-86411e9c-1da0-48f9-883f-fdaef74e48a4\">\n",
              "    <div class=\"colab-df-container\">\n",
              "      <div>\n",
              "<style scoped>\n",
              "    .dataframe tbody tr th:only-of-type {\n",
              "        vertical-align: middle;\n",
              "    }\n",
              "\n",
              "    .dataframe tbody tr th {\n",
              "        vertical-align: top;\n",
              "    }\n",
              "\n",
              "    .dataframe thead th {\n",
              "        text-align: right;\n",
              "    }\n",
              "</style>\n",
              "<table border=\"1\" class=\"dataframe\">\n",
              "  <thead>\n",
              "    <tr style=\"text-align: right;\">\n",
              "      <th></th>\n",
              "      <th>event_date</th>\n",
              "      <th>event_timestamp</th>\n",
              "      <th>vacancy_id_</th>\n",
              "      <th>cookie_id</th>\n",
              "      <th>user_id</th>\n",
              "      <th>event_type</th>\n",
              "      <th>Rating</th>\n",
              "      <th>vacancy_id_num</th>\n",
              "      <th>cookie_id_num</th>\n",
              "      <th>user_id_num</th>\n",
              "      <th>key</th>\n",
              "      <th>new_cookie</th>\n",
              "    </tr>\n",
              "  </thead>\n",
              "  <tbody>\n",
              "    <tr>\n",
              "      <th>0</th>\n",
              "      <td>2022-08-01</td>\n",
              "      <td>1659323026</td>\n",
              "      <td>129850</td>\n",
              "      <td>97990f1a021d4be19aa3f955b7eacab4</td>\n",
              "      <td>951f53de61764ea0b51317200a0dbbfc</td>\n",
              "      <td>show_vacancy</td>\n",
              "      <td>0</td>\n",
              "      <td>129850</td>\n",
              "      <td>97990f1a021d4be19aa3f955b7eacab4</td>\n",
              "      <td>951f53de61764ea0b51317200a0dbbfc</td>\n",
              "      <td>97990f1a021d4be19aa3f955b7eacab4_129850_0</td>\n",
              "      <td>97990f1a021d4be19aa3f955b7eacab4</td>\n",
              "    </tr>\n",
              "    <tr>\n",
              "      <th>1</th>\n",
              "      <td>2022-08-01</td>\n",
              "      <td>1659377255</td>\n",
              "      <td>108347</td>\n",
              "      <td>03bf8c511fa949c79845a5d81b09aa1d</td>\n",
              "      <td>f5a2326a17484330aa8cb4019f1b1960</td>\n",
              "      <td>show_vacancy</td>\n",
              "      <td>0</td>\n",
              "      <td>108347</td>\n",
              "      <td>03bf8c511fa949c79845a5d81b09aa1d</td>\n",
              "      <td>f5a2326a17484330aa8cb4019f1b1960</td>\n",
              "      <td>03bf8c511fa949c79845a5d81b09aa1d_108347_0</td>\n",
              "      <td>03bf8c511fa949c79845a5d81b09aa1d</td>\n",
              "    </tr>\n",
              "    <tr>\n",
              "      <th>2</th>\n",
              "      <td>2022-08-01</td>\n",
              "      <td>1659376695</td>\n",
              "      <td>109069</td>\n",
              "      <td>03bf8c511fa949c79845a5d81b09aa1d</td>\n",
              "      <td>f5a2326a17484330aa8cb4019f1b1960</td>\n",
              "      <td>show_vacancy</td>\n",
              "      <td>0</td>\n",
              "      <td>109069</td>\n",
              "      <td>03bf8c511fa949c79845a5d81b09aa1d</td>\n",
              "      <td>f5a2326a17484330aa8cb4019f1b1960</td>\n",
              "      <td>03bf8c511fa949c79845a5d81b09aa1d_109069_0</td>\n",
              "      <td>03bf8c511fa949c79845a5d81b09aa1d</td>\n",
              "    </tr>\n",
              "    <tr>\n",
              "      <th>3</th>\n",
              "      <td>2022-08-01</td>\n",
              "      <td>1659376722</td>\n",
              "      <td>171425</td>\n",
              "      <td>03bf8c511fa949c79845a5d81b09aa1d</td>\n",
              "      <td>f5a2326a17484330aa8cb4019f1b1960</td>\n",
              "      <td>show_vacancy</td>\n",
              "      <td>0</td>\n",
              "      <td>171425</td>\n",
              "      <td>03bf8c511fa949c79845a5d81b09aa1d</td>\n",
              "      <td>f5a2326a17484330aa8cb4019f1b1960</td>\n",
              "      <td>03bf8c511fa949c79845a5d81b09aa1d_171425_0</td>\n",
              "      <td>03bf8c511fa949c79845a5d81b09aa1d</td>\n",
              "    </tr>\n",
              "    <tr>\n",
              "      <th>4</th>\n",
              "      <td>2022-08-01</td>\n",
              "      <td>1659374929</td>\n",
              "      <td>252384</td>\n",
              "      <td>03bf8c511fa949c79845a5d81b09aa1d</td>\n",
              "      <td>f5a2326a17484330aa8cb4019f1b1960</td>\n",
              "      <td>show_vacancy</td>\n",
              "      <td>0</td>\n",
              "      <td>252384</td>\n",
              "      <td>03bf8c511fa949c79845a5d81b09aa1d</td>\n",
              "      <td>f5a2326a17484330aa8cb4019f1b1960</td>\n",
              "      <td>03bf8c511fa949c79845a5d81b09aa1d_252384_0</td>\n",
              "      <td>03bf8c511fa949c79845a5d81b09aa1d</td>\n",
              "    </tr>\n",
              "  </tbody>\n",
              "</table>\n",
              "</div>\n",
              "      <button class=\"colab-df-convert\" onclick=\"convertToInteractive('df-86411e9c-1da0-48f9-883f-fdaef74e48a4')\"\n",
              "              title=\"Convert this dataframe to an interactive table.\"\n",
              "              style=\"display:none;\">\n",
              "        \n",
              "  <svg xmlns=\"http://www.w3.org/2000/svg\" height=\"24px\"viewBox=\"0 0 24 24\"\n",
              "       width=\"24px\">\n",
              "    <path d=\"M0 0h24v24H0V0z\" fill=\"none\"/>\n",
              "    <path d=\"M18.56 5.44l.94 2.06.94-2.06 2.06-.94-2.06-.94-.94-2.06-.94 2.06-2.06.94zm-11 1L8.5 8.5l.94-2.06 2.06-.94-2.06-.94L8.5 2.5l-.94 2.06-2.06.94zm10 10l.94 2.06.94-2.06 2.06-.94-2.06-.94-.94-2.06-.94 2.06-2.06.94z\"/><path d=\"M17.41 7.96l-1.37-1.37c-.4-.4-.92-.59-1.43-.59-.52 0-1.04.2-1.43.59L10.3 9.45l-7.72 7.72c-.78.78-.78 2.05 0 2.83L4 21.41c.39.39.9.59 1.41.59.51 0 1.02-.2 1.41-.59l7.78-7.78 2.81-2.81c.8-.78.8-2.07 0-2.86zM5.41 20L4 18.59l7.72-7.72 1.47 1.35L5.41 20z\"/>\n",
              "  </svg>\n",
              "      </button>\n",
              "      \n",
              "  <style>\n",
              "    .colab-df-container {\n",
              "      display:flex;\n",
              "      flex-wrap:wrap;\n",
              "      gap: 12px;\n",
              "    }\n",
              "\n",
              "    .colab-df-convert {\n",
              "      background-color: #E8F0FE;\n",
              "      border: none;\n",
              "      border-radius: 50%;\n",
              "      cursor: pointer;\n",
              "      display: none;\n",
              "      fill: #1967D2;\n",
              "      height: 32px;\n",
              "      padding: 0 0 0 0;\n",
              "      width: 32px;\n",
              "    }\n",
              "\n",
              "    .colab-df-convert:hover {\n",
              "      background-color: #E2EBFA;\n",
              "      box-shadow: 0px 1px 2px rgba(60, 64, 67, 0.3), 0px 1px 3px 1px rgba(60, 64, 67, 0.15);\n",
              "      fill: #174EA6;\n",
              "    }\n",
              "\n",
              "    [theme=dark] .colab-df-convert {\n",
              "      background-color: #3B4455;\n",
              "      fill: #D2E3FC;\n",
              "    }\n",
              "\n",
              "    [theme=dark] .colab-df-convert:hover {\n",
              "      background-color: #434B5C;\n",
              "      box-shadow: 0px 1px 3px 1px rgba(0, 0, 0, 0.15);\n",
              "      filter: drop-shadow(0px 1px 2px rgba(0, 0, 0, 0.3));\n",
              "      fill: #FFFFFF;\n",
              "    }\n",
              "  </style>\n",
              "\n",
              "      <script>\n",
              "        const buttonEl =\n",
              "          document.querySelector('#df-86411e9c-1da0-48f9-883f-fdaef74e48a4 button.colab-df-convert');\n",
              "        buttonEl.style.display =\n",
              "          google.colab.kernel.accessAllowed ? 'block' : 'none';\n",
              "\n",
              "        async function convertToInteractive(key) {\n",
              "          const element = document.querySelector('#df-86411e9c-1da0-48f9-883f-fdaef74e48a4');\n",
              "          const dataTable =\n",
              "            await google.colab.kernel.invokeFunction('convertToInteractive',\n",
              "                                                     [key], {});\n",
              "          if (!dataTable) return;\n",
              "\n",
              "          const docLinkHtml = 'Like what you see? Visit the ' +\n",
              "            '<a target=\"_blank\" href=https://colab.research.google.com/notebooks/data_table.ipynb>data table notebook</a>'\n",
              "            + ' to learn more about interactive tables.';\n",
              "          element.innerHTML = '';\n",
              "          dataTable['output_type'] = 'display_data';\n",
              "          await google.colab.output.renderOutput(dataTable, element);\n",
              "          const docLink = document.createElement('div');\n",
              "          docLink.innerHTML = docLinkHtml;\n",
              "          element.appendChild(docLink);\n",
              "        }\n",
              "      </script>\n",
              "    </div>\n",
              "  </div>\n",
              "  "
            ]
          },
          "metadata": {},
          "execution_count": 16
        }
      ],
      "source": [
        "# посмотрим на данные \n",
        "df.head()"
      ]
    },
    {
      "cell_type": "code",
      "execution_count": 15,
      "metadata": {
        "colab": {
          "base_uri": "https://localhost:8080/"
        },
        "id": "IXjk12kNQr3V",
        "outputId": "c2950a86-a7db-4e26-bbe6-720d2542c32f"
      },
      "outputs": [
        {
          "output_type": "stream",
          "name": "stdout",
          "text": [
            "<class 'pandas.core.frame.DataFrame'>\n",
            "Int64Index: 12234390 entries, 0 to 12234389\n",
            "Data columns (total 12 columns):\n",
            " #   Column           Dtype \n",
            "---  ------           ----- \n",
            " 0   event_date       object\n",
            " 1   event_timestamp  int64 \n",
            " 2   vacancy_id_      int64 \n",
            " 3   cookie_id        object\n",
            " 4   user_id          object\n",
            " 5   event_type       object\n",
            " 6   Rating           int64 \n",
            " 7   vacancy_id_num   int64 \n",
            " 8   cookie_id_num    object\n",
            " 9   user_id_num      object\n",
            " 10  key              object\n",
            " 11  new_cookie       object\n",
            "dtypes: int64(4), object(8)\n",
            "memory usage: 1.2+ GB\n"
          ]
        }
      ],
      "source": [
        "# и так тоже посмотрим\n",
        "df.info()"
      ]
    },
    {
      "cell_type": "code",
      "execution_count": 17,
      "metadata": {
        "id": "B11zly9zrTi_"
      },
      "outputs": [],
      "source": [
        "# удаляем колонки, которые не будут принимать участия в обучении\n",
        "df.drop(columns=['event_date', 'event_timestamp', 'user_id'], axis=1, inplace=True)"
      ]
    },
    {
      "cell_type": "code",
      "execution_count": 18,
      "metadata": {
        "id": "vfSiJUIY1r_n"
      },
      "outputs": [],
      "source": [
        "# для удобства немного выравняем данные\n",
        "df = df[['cookie_id', 'vacancy_id_', 'event_type']]"
      ]
    },
    {
      "cell_type": "code",
      "execution_count": 19,
      "metadata": {
        "colab": {
          "base_uri": "https://localhost:8080/",
          "height": 206
        },
        "id": "vUcQ3yAs2n1m",
        "outputId": "b23c0403-f89f-415d-defb-03145fdd4650"
      },
      "outputs": [
        {
          "output_type": "execute_result",
          "data": {
            "text/plain": [
              "                          cookie_id  vacancy_id_    event_type\n",
              "0  97990f1a021d4be19aa3f955b7eacab4       129850  show_vacancy\n",
              "1  03bf8c511fa949c79845a5d81b09aa1d       108347  show_vacancy\n",
              "2  03bf8c511fa949c79845a5d81b09aa1d       109069  show_vacancy\n",
              "3  03bf8c511fa949c79845a5d81b09aa1d       171425  show_vacancy\n",
              "4  03bf8c511fa949c79845a5d81b09aa1d       252384  show_vacancy"
            ],
            "text/html": [
              "\n",
              "  <div id=\"df-533ffa3b-6249-41ff-8934-b0268753b317\">\n",
              "    <div class=\"colab-df-container\">\n",
              "      <div>\n",
              "<style scoped>\n",
              "    .dataframe tbody tr th:only-of-type {\n",
              "        vertical-align: middle;\n",
              "    }\n",
              "\n",
              "    .dataframe tbody tr th {\n",
              "        vertical-align: top;\n",
              "    }\n",
              "\n",
              "    .dataframe thead th {\n",
              "        text-align: right;\n",
              "    }\n",
              "</style>\n",
              "<table border=\"1\" class=\"dataframe\">\n",
              "  <thead>\n",
              "    <tr style=\"text-align: right;\">\n",
              "      <th></th>\n",
              "      <th>cookie_id</th>\n",
              "      <th>vacancy_id_</th>\n",
              "      <th>event_type</th>\n",
              "    </tr>\n",
              "  </thead>\n",
              "  <tbody>\n",
              "    <tr>\n",
              "      <th>0</th>\n",
              "      <td>97990f1a021d4be19aa3f955b7eacab4</td>\n",
              "      <td>129850</td>\n",
              "      <td>show_vacancy</td>\n",
              "    </tr>\n",
              "    <tr>\n",
              "      <th>1</th>\n",
              "      <td>03bf8c511fa949c79845a5d81b09aa1d</td>\n",
              "      <td>108347</td>\n",
              "      <td>show_vacancy</td>\n",
              "    </tr>\n",
              "    <tr>\n",
              "      <th>2</th>\n",
              "      <td>03bf8c511fa949c79845a5d81b09aa1d</td>\n",
              "      <td>109069</td>\n",
              "      <td>show_vacancy</td>\n",
              "    </tr>\n",
              "    <tr>\n",
              "      <th>3</th>\n",
              "      <td>03bf8c511fa949c79845a5d81b09aa1d</td>\n",
              "      <td>171425</td>\n",
              "      <td>show_vacancy</td>\n",
              "    </tr>\n",
              "    <tr>\n",
              "      <th>4</th>\n",
              "      <td>03bf8c511fa949c79845a5d81b09aa1d</td>\n",
              "      <td>252384</td>\n",
              "      <td>show_vacancy</td>\n",
              "    </tr>\n",
              "  </tbody>\n",
              "</table>\n",
              "</div>\n",
              "      <button class=\"colab-df-convert\" onclick=\"convertToInteractive('df-533ffa3b-6249-41ff-8934-b0268753b317')\"\n",
              "              title=\"Convert this dataframe to an interactive table.\"\n",
              "              style=\"display:none;\">\n",
              "        \n",
              "  <svg xmlns=\"http://www.w3.org/2000/svg\" height=\"24px\"viewBox=\"0 0 24 24\"\n",
              "       width=\"24px\">\n",
              "    <path d=\"M0 0h24v24H0V0z\" fill=\"none\"/>\n",
              "    <path d=\"M18.56 5.44l.94 2.06.94-2.06 2.06-.94-2.06-.94-.94-2.06-.94 2.06-2.06.94zm-11 1L8.5 8.5l.94-2.06 2.06-.94-2.06-.94L8.5 2.5l-.94 2.06-2.06.94zm10 10l.94 2.06.94-2.06 2.06-.94-2.06-.94-.94-2.06-.94 2.06-2.06.94z\"/><path d=\"M17.41 7.96l-1.37-1.37c-.4-.4-.92-.59-1.43-.59-.52 0-1.04.2-1.43.59L10.3 9.45l-7.72 7.72c-.78.78-.78 2.05 0 2.83L4 21.41c.39.39.9.59 1.41.59.51 0 1.02-.2 1.41-.59l7.78-7.78 2.81-2.81c.8-.78.8-2.07 0-2.86zM5.41 20L4 18.59l7.72-7.72 1.47 1.35L5.41 20z\"/>\n",
              "  </svg>\n",
              "      </button>\n",
              "      \n",
              "  <style>\n",
              "    .colab-df-container {\n",
              "      display:flex;\n",
              "      flex-wrap:wrap;\n",
              "      gap: 12px;\n",
              "    }\n",
              "\n",
              "    .colab-df-convert {\n",
              "      background-color: #E8F0FE;\n",
              "      border: none;\n",
              "      border-radius: 50%;\n",
              "      cursor: pointer;\n",
              "      display: none;\n",
              "      fill: #1967D2;\n",
              "      height: 32px;\n",
              "      padding: 0 0 0 0;\n",
              "      width: 32px;\n",
              "    }\n",
              "\n",
              "    .colab-df-convert:hover {\n",
              "      background-color: #E2EBFA;\n",
              "      box-shadow: 0px 1px 2px rgba(60, 64, 67, 0.3), 0px 1px 3px 1px rgba(60, 64, 67, 0.15);\n",
              "      fill: #174EA6;\n",
              "    }\n",
              "\n",
              "    [theme=dark] .colab-df-convert {\n",
              "      background-color: #3B4455;\n",
              "      fill: #D2E3FC;\n",
              "    }\n",
              "\n",
              "    [theme=dark] .colab-df-convert:hover {\n",
              "      background-color: #434B5C;\n",
              "      box-shadow: 0px 1px 3px 1px rgba(0, 0, 0, 0.15);\n",
              "      filter: drop-shadow(0px 1px 2px rgba(0, 0, 0, 0.3));\n",
              "      fill: #FFFFFF;\n",
              "    }\n",
              "  </style>\n",
              "\n",
              "      <script>\n",
              "        const buttonEl =\n",
              "          document.querySelector('#df-533ffa3b-6249-41ff-8934-b0268753b317 button.colab-df-convert');\n",
              "        buttonEl.style.display =\n",
              "          google.colab.kernel.accessAllowed ? 'block' : 'none';\n",
              "\n",
              "        async function convertToInteractive(key) {\n",
              "          const element = document.querySelector('#df-533ffa3b-6249-41ff-8934-b0268753b317');\n",
              "          const dataTable =\n",
              "            await google.colab.kernel.invokeFunction('convertToInteractive',\n",
              "                                                     [key], {});\n",
              "          if (!dataTable) return;\n",
              "\n",
              "          const docLinkHtml = 'Like what you see? Visit the ' +\n",
              "            '<a target=\"_blank\" href=https://colab.research.google.com/notebooks/data_table.ipynb>data table notebook</a>'\n",
              "            + ' to learn more about interactive tables.';\n",
              "          element.innerHTML = '';\n",
              "          dataTable['output_type'] = 'display_data';\n",
              "          await google.colab.output.renderOutput(dataTable, element);\n",
              "          const docLink = document.createElement('div');\n",
              "          docLink.innerHTML = docLinkHtml;\n",
              "          element.appendChild(docLink);\n",
              "        }\n",
              "      </script>\n",
              "    </div>\n",
              "  </div>\n",
              "  "
            ]
          },
          "metadata": {},
          "execution_count": 19
        }
      ],
      "source": [
        "df.head()"
      ]
    },
    {
      "cell_type": "markdown",
      "source": [
        " ### Обработка данных первая исследовательская позиция (Маштабирование взаимодействий и их силы)\n",
        " ---"
      ],
      "metadata": {
        "id": "CSHmR3FF8t1O"
      }
    },
    {
      "cell_type": "code",
      "execution_count": 39,
      "metadata": {
        "colab": {
          "base_uri": "https://localhost:8080/"
        },
        "id": "pOZldAxcrTjC",
        "outputId": "02a9bdb9-a88a-462b-d24a-bf55ca46451c"
      },
      "outputs": [
        {
          "output_type": "execute_result",
          "data": {
            "text/plain": [
              "show_vacancy              6164618\n",
              "preview_click_vacancy     4745522\n",
              "click_response             381819\n",
              "click_contacts             268029\n",
              "preview_click_response     189382\n",
              "click_favorite             155081\n",
              "preview_click_favorite     106279\n",
              "preview_click_contacts      92545\n",
              "click_phone                 73336\n",
              "preview_click_phone         12475\n",
              "Name: event_type, dtype: int64"
            ]
          },
          "metadata": {},
          "execution_count": 39
        }
      ],
      "source": [
        "# Вот тут мы посмотрим на количество определенного вида взаимодействий в данных\n",
        "df['event_type'].value_counts()"
      ]
    },
    {
      "cell_type": "markdown",
      "source": [
        "* 1 show_vacancy - просмотр вакансии\n",
        "* 2 preview_click_vacancy - клик по карточке вакансии\n",
        "* **3 click_response - отклик со страницы вакансии**\n",
        "* **4 preview_click_response - отклик с карточки вакансии**\n",
        "* 5 click_favorite - добавление вакансии в избранное  со страницы вакансии\n",
        "* 6 preview_click_favorite - добавление вакансии в избраное с карточки вакансии\n",
        "* **7 click_contacts - клик на контакты со страницы вакансии**\n",
        "* **8 preview_click_contacts - клик на контакты из карточки вакансии**\n",
        "* **9 click_phone - клик на номер телефона, указанный в вакансии**\n",
        "* **10 preview_click_phone - клик на номер телефона из карточки вакансии**\n",
        "\n",
        "Жирным выделены искомые \"\"откликнется\"\" и \"\"позвонит\"\"\"\n",
        "! Стоит обратить внимание на то, что позиции 3 и 4 по частоте идут выше чем позиции 5 и 6, которые нам в положительное взаимодействие не засчитываются. В свзи с этим необходимо проработать несколько вариантов маштабирования данных"
      ],
      "metadata": {
        "id": "6WKU2Jyp9LE_"
      }
    },
    {
      "cell_type": "code",
      "execution_count": 20,
      "metadata": {
        "id": "sV2ZnhqdxwWL"
      },
      "outputs": [],
      "source": [
        "# проверим если закодировать значимость взаимодейстивий по их количеству в выборке - при прочих стандартных параметрах этот\n",
        "# способ показал результат 0,041\n",
        "df['eventStrength'] = df['event_type'].map({'show_vacancy': 1.0,\n",
        "                                     'preview_click_vacancy': 2.0,\n",
        "                                     'click_response': 3.0,\n",
        "                                     'click_contacts': 4.0,\n",
        "                                     'preview_click_response': 5.0,\n",
        "                                     'click_favorite': 6.0,\n",
        "                                     'preview_click_favorite': 7.0,\n",
        "                                     'preview_click_contacts': 8.0,\n",
        "                                     'click_phone': 9.0,\n",
        "                                     'preview_click_phone': 10.0})"
      ]
    },
    {
      "cell_type": "code",
      "source": [
        "# проверим правильно ли мы закодировали взаимодействия\n",
        "df['eventStrength'].value_counts()"
      ],
      "metadata": {
        "colab": {
          "base_uri": "https://localhost:8080/"
        },
        "id": "g8_Aao2Bwxsj",
        "outputId": "16f1c9ba-556a-4fc1-e12f-1b13b67aadb6"
      },
      "execution_count": 41,
      "outputs": [
        {
          "output_type": "execute_result",
          "data": {
            "text/plain": [
              "1.0     6164618\n",
              "2.0     4745522\n",
              "3.0      381819\n",
              "4.0      268029\n",
              "5.0      189382\n",
              "6.0      155081\n",
              "7.0      106279\n",
              "8.0       92545\n",
              "9.0       73336\n",
              "10.0      12475\n",
              "Name: eventStrength, dtype: int64"
            ]
          },
          "metadata": {},
          "execution_count": 41
        }
      ]
    },
    {
      "cell_type": "markdown",
      "source": [
        "Далее несколько ячеек кода для различных вариаций оценки взаимодействия их стоит прогнать с базовыми значениями и посмотреть на результаты (возможны и другие предложения):"
      ],
      "metadata": {
        "id": "JwZsVThOBv9J"
      }
    },
    {
      "cell_type": "code",
      "execution_count": null,
      "metadata": {
        "id": "AYHwFB6eQr3Y"
      },
      "outputs": [],
      "source": [
        "# проверить потом - вот такая модель должна дать нам больший перекос в сторону искомых взаимодействий перед обычными\n",
        "df['eventStrength'] = df['event_type'].map({'show_vacancy': 1.0,\n",
        "                                     'preview_click_vacancy': 1.0,\n",
        "                                     'click_favorite': 1.0,\n",
        "                                     'preview_click_favorite': 1.0,\n",
        "                                     'click_response': 10.0,\n",
        "                                     'preview_click_response': 10.0,\n",
        "                                     'click_contacts': 10.0,\n",
        "                                     'preview_click_contacts': 10.0,\n",
        "                                     'click_phone': 10.0,\n",
        "                                     'preview_click_phone': 10.0})"
      ]
    },
    {
      "cell_type": "code",
      "execution_count": null,
      "metadata": {
        "id": "PlCq-UySxxI4"
      },
      "outputs": [],
      "source": [
        "# Вот это разбиение по нашему заданию, то есть первые 4 отрицательные взаимодействия остальные положительные\n",
        "df['eventStrength'] = df['event_type'].map({'show_vacancy': 1.0,\n",
        "                                     'preview_click_vacancy': 2.0,\n",
        "                                     'click_favorite': 3.0,\n",
        "                                     'preview_click_favorite': 4.0,\n",
        "                                     'click_response': 5.0,\n",
        "                                     'click_contacts': 6.0,\n",
        "                                     'preview_click_response': 7.0,\n",
        "                                     'preview_click_contacts': 8.0,\n",
        "                                     'click_phone': 9.0,\n",
        "                                     'preview_click_phone': 10.0})"
      ]
    },
    {
      "cell_type": "code",
      "source": [
        "# Вот это разбиение по нашему заданию, но незначимые мы закодируем нулями нужные единицами, но не знаю как это пойдет\n",
        "# Нули в матрице могут восприниматься как отсутсвие взаимодействия, а это неправда\n",
        "df['eventStrength'] = df['event_type'].map({'show_vacancy': 0.0,\n",
        "                                     'preview_click_vacancy': 0.0,\n",
        "                                     'click_favorite': 0.0,\n",
        "                                     'preview_click_favorite': 0.0,\n",
        "                                     'click_response': 1.0,\n",
        "                                     'click_contacts': 1.0,\n",
        "                                     'preview_click_response': 1.0,\n",
        "                                     'preview_click_contacts': 1.0,\n",
        "                                     'click_phone': 1.0,\n",
        "                                     'preview_click_phone': 1.0})"
      ],
      "metadata": {
        "id": "1qGhG3NHAJER"
      },
      "execution_count": null,
      "outputs": []
    },
    {
      "cell_type": "code",
      "source": [
        "# Вот это разбиение по нашему заданию, но незначимые мы закодируем 1 нужные 2\n",
        "df['eventStrength'] = df['event_type'].map({'show_vacancy': 1.0,\n",
        "                                     'preview_click_vacancy': 1.0,\n",
        "                                     'click_favorite': 1.0,\n",
        "                                     'preview_click_favorite': 1.0,\n",
        "                                     'click_response': 2.0,\n",
        "                                     'click_contacts': 2.0,\n",
        "                                     'preview_click_response': 2.0,\n",
        "                                     'preview_click_contacts': 2.0,\n",
        "                                     'click_phone': 2.0,\n",
        "                                     'preview_click_phone': 2.0})"
      ],
      "metadata": {
        "id": "kTzyM9oOBKce"
      },
      "execution_count": null,
      "outputs": []
    },
    {
      "cell_type": "code",
      "source": [
        "# Вот это разбиение по нашему заданию, ну и последний вариант это вот так:\n",
        "df['eventStrength'] = df['event_type'].map({'show_vacancy': 0.1,\n",
        "                                     'preview_click_vacancy': 0.1,\n",
        "                                     'click_favorite': 0.1,\n",
        "                                     'preview_click_favorite': 0.1,\n",
        "                                     'click_response': 1.0,\n",
        "                                     'click_contacts': 1.0,\n",
        "                                     'preview_click_response': 1.0,\n",
        "                                     'preview_click_contacts': 1.0,\n",
        "                                     'click_phone': 1.0,\n",
        "                                     'preview_click_phone': 1.0})"
      ],
      "metadata": {
        "id": "eZ3CIkd5BfaP"
      },
      "execution_count": null,
      "outputs": []
    },
    {
      "cell_type": "markdown",
      "source": [
        "Группировка данных:\n",
        "\n",
        "---"
      ],
      "metadata": {
        "id": "5LZzYv87CfCO"
      }
    },
    {
      "cell_type": "code",
      "execution_count": 21,
      "metadata": {
        "id": "JpGrm5NBQr3Y"
      },
      "outputs": [],
      "source": [
        "# сгруппируем сочетания ваканции и человека при этом суммируем историю из взаимодействия в числах, чем больще число\n",
        "# тем больше интерес человека к вакансии - а значит больше и сила взаимодействия\n",
        "\n",
        "grouped_df = df.groupby(['cookie_id', 'vacancy_id_']).sum('numeric_only').reset_index()"
      ]
    },
    {
      "cell_type": "code",
      "execution_count": 43,
      "metadata": {
        "colab": {
          "base_uri": "https://localhost:8080/"
        },
        "id": "2-4TgU95Qr3Z",
        "outputId": "7e84ebe3-0bbc-4b97-c9b2-66cb592ae7f1"
      },
      "outputs": [
        {
          "output_type": "stream",
          "name": "stdout",
          "text": [
            "<class 'pandas.core.frame.DataFrame'>\n",
            "RangeIndex: 4669635 entries, 0 to 4669634\n",
            "Data columns (total 3 columns):\n",
            " #   Column         Dtype  \n",
            "---  ------         -----  \n",
            " 0   cookie_id      object \n",
            " 1   vacancy_id_    int64  \n",
            " 2   eventStrength  float64\n",
            "dtypes: float64(1), int64(1), object(1)\n",
            "memory usage: 106.9+ MB\n"
          ]
        }
      ],
      "source": [
        "# с 12 000 000 + наши данные схлопнулись до 4 500 000 +\n",
        "grouped_df.info()"
      ]
    },
    {
      "cell_type": "code",
      "execution_count": 44,
      "metadata": {
        "colab": {
          "base_uri": "https://localhost:8080/",
          "height": 363
        },
        "id": "-dMzkH07Qr3Z",
        "outputId": "ec64f749-2be1-4e50-e0e6-c6b4a16a836d"
      },
      "outputs": [
        {
          "output_type": "execute_result",
          "data": {
            "text/plain": [
              "                                cookie_id  vacancy_id_  eventStrength\n",
              "2277046  7c39c78dfabc48448f0870ff0ece7789       254953            3.0\n",
              "4147850  e317232cc8b745f39610edb8e477e0e8       211848            3.0\n",
              "2787858  97e22f7923cd48a294b5dc0cdaec754f       198114            3.0\n",
              "405818   163fc7109a1740768257de20f294ce39       258441            3.0\n",
              "786190   2ad9c9a1fad9434dabdd67ce968989a6       216845            3.0\n",
              "2891362  9d924ea20dcf4833bec1418c27ae462e       107949           11.0\n",
              "3196979  aebb8f1407234a3391e75e6b9ce4d4a3       258114           25.0\n",
              "1309690  478d94b0ba8d4f9cb48347e69e1310e7       208788            3.0\n",
              "379347   14d1af21b11244d08fd854ec685610ef       200403            3.0\n",
              "2726829  948a8cec3fad4300b2126a6c5dcbc1be       141610            3.0"
            ],
            "text/html": [
              "\n",
              "  <div id=\"df-92dbc978-f508-420a-9144-deee1f3999ba\">\n",
              "    <div class=\"colab-df-container\">\n",
              "      <div>\n",
              "<style scoped>\n",
              "    .dataframe tbody tr th:only-of-type {\n",
              "        vertical-align: middle;\n",
              "    }\n",
              "\n",
              "    .dataframe tbody tr th {\n",
              "        vertical-align: top;\n",
              "    }\n",
              "\n",
              "    .dataframe thead th {\n",
              "        text-align: right;\n",
              "    }\n",
              "</style>\n",
              "<table border=\"1\" class=\"dataframe\">\n",
              "  <thead>\n",
              "    <tr style=\"text-align: right;\">\n",
              "      <th></th>\n",
              "      <th>cookie_id</th>\n",
              "      <th>vacancy_id_</th>\n",
              "      <th>eventStrength</th>\n",
              "    </tr>\n",
              "  </thead>\n",
              "  <tbody>\n",
              "    <tr>\n",
              "      <th>2277046</th>\n",
              "      <td>7c39c78dfabc48448f0870ff0ece7789</td>\n",
              "      <td>254953</td>\n",
              "      <td>3.0</td>\n",
              "    </tr>\n",
              "    <tr>\n",
              "      <th>4147850</th>\n",
              "      <td>e317232cc8b745f39610edb8e477e0e8</td>\n",
              "      <td>211848</td>\n",
              "      <td>3.0</td>\n",
              "    </tr>\n",
              "    <tr>\n",
              "      <th>2787858</th>\n",
              "      <td>97e22f7923cd48a294b5dc0cdaec754f</td>\n",
              "      <td>198114</td>\n",
              "      <td>3.0</td>\n",
              "    </tr>\n",
              "    <tr>\n",
              "      <th>405818</th>\n",
              "      <td>163fc7109a1740768257de20f294ce39</td>\n",
              "      <td>258441</td>\n",
              "      <td>3.0</td>\n",
              "    </tr>\n",
              "    <tr>\n",
              "      <th>786190</th>\n",
              "      <td>2ad9c9a1fad9434dabdd67ce968989a6</td>\n",
              "      <td>216845</td>\n",
              "      <td>3.0</td>\n",
              "    </tr>\n",
              "    <tr>\n",
              "      <th>2891362</th>\n",
              "      <td>9d924ea20dcf4833bec1418c27ae462e</td>\n",
              "      <td>107949</td>\n",
              "      <td>11.0</td>\n",
              "    </tr>\n",
              "    <tr>\n",
              "      <th>3196979</th>\n",
              "      <td>aebb8f1407234a3391e75e6b9ce4d4a3</td>\n",
              "      <td>258114</td>\n",
              "      <td>25.0</td>\n",
              "    </tr>\n",
              "    <tr>\n",
              "      <th>1309690</th>\n",
              "      <td>478d94b0ba8d4f9cb48347e69e1310e7</td>\n",
              "      <td>208788</td>\n",
              "      <td>3.0</td>\n",
              "    </tr>\n",
              "    <tr>\n",
              "      <th>379347</th>\n",
              "      <td>14d1af21b11244d08fd854ec685610ef</td>\n",
              "      <td>200403</td>\n",
              "      <td>3.0</td>\n",
              "    </tr>\n",
              "    <tr>\n",
              "      <th>2726829</th>\n",
              "      <td>948a8cec3fad4300b2126a6c5dcbc1be</td>\n",
              "      <td>141610</td>\n",
              "      <td>3.0</td>\n",
              "    </tr>\n",
              "  </tbody>\n",
              "</table>\n",
              "</div>\n",
              "      <button class=\"colab-df-convert\" onclick=\"convertToInteractive('df-92dbc978-f508-420a-9144-deee1f3999ba')\"\n",
              "              title=\"Convert this dataframe to an interactive table.\"\n",
              "              style=\"display:none;\">\n",
              "        \n",
              "  <svg xmlns=\"http://www.w3.org/2000/svg\" height=\"24px\"viewBox=\"0 0 24 24\"\n",
              "       width=\"24px\">\n",
              "    <path d=\"M0 0h24v24H0V0z\" fill=\"none\"/>\n",
              "    <path d=\"M18.56 5.44l.94 2.06.94-2.06 2.06-.94-2.06-.94-.94-2.06-.94 2.06-2.06.94zm-11 1L8.5 8.5l.94-2.06 2.06-.94-2.06-.94L8.5 2.5l-.94 2.06-2.06.94zm10 10l.94 2.06.94-2.06 2.06-.94-2.06-.94-.94-2.06-.94 2.06-2.06.94z\"/><path d=\"M17.41 7.96l-1.37-1.37c-.4-.4-.92-.59-1.43-.59-.52 0-1.04.2-1.43.59L10.3 9.45l-7.72 7.72c-.78.78-.78 2.05 0 2.83L4 21.41c.39.39.9.59 1.41.59.51 0 1.02-.2 1.41-.59l7.78-7.78 2.81-2.81c.8-.78.8-2.07 0-2.86zM5.41 20L4 18.59l7.72-7.72 1.47 1.35L5.41 20z\"/>\n",
              "  </svg>\n",
              "      </button>\n",
              "      \n",
              "  <style>\n",
              "    .colab-df-container {\n",
              "      display:flex;\n",
              "      flex-wrap:wrap;\n",
              "      gap: 12px;\n",
              "    }\n",
              "\n",
              "    .colab-df-convert {\n",
              "      background-color: #E8F0FE;\n",
              "      border: none;\n",
              "      border-radius: 50%;\n",
              "      cursor: pointer;\n",
              "      display: none;\n",
              "      fill: #1967D2;\n",
              "      height: 32px;\n",
              "      padding: 0 0 0 0;\n",
              "      width: 32px;\n",
              "    }\n",
              "\n",
              "    .colab-df-convert:hover {\n",
              "      background-color: #E2EBFA;\n",
              "      box-shadow: 0px 1px 2px rgba(60, 64, 67, 0.3), 0px 1px 3px 1px rgba(60, 64, 67, 0.15);\n",
              "      fill: #174EA6;\n",
              "    }\n",
              "\n",
              "    [theme=dark] .colab-df-convert {\n",
              "      background-color: #3B4455;\n",
              "      fill: #D2E3FC;\n",
              "    }\n",
              "\n",
              "    [theme=dark] .colab-df-convert:hover {\n",
              "      background-color: #434B5C;\n",
              "      box-shadow: 0px 1px 3px 1px rgba(0, 0, 0, 0.15);\n",
              "      filter: drop-shadow(0px 1px 2px rgba(0, 0, 0, 0.3));\n",
              "      fill: #FFFFFF;\n",
              "    }\n",
              "  </style>\n",
              "\n",
              "      <script>\n",
              "        const buttonEl =\n",
              "          document.querySelector('#df-92dbc978-f508-420a-9144-deee1f3999ba button.colab-df-convert');\n",
              "        buttonEl.style.display =\n",
              "          google.colab.kernel.accessAllowed ? 'block' : 'none';\n",
              "\n",
              "        async function convertToInteractive(key) {\n",
              "          const element = document.querySelector('#df-92dbc978-f508-420a-9144-deee1f3999ba');\n",
              "          const dataTable =\n",
              "            await google.colab.kernel.invokeFunction('convertToInteractive',\n",
              "                                                     [key], {});\n",
              "          if (!dataTable) return;\n",
              "\n",
              "          const docLinkHtml = 'Like what you see? Visit the ' +\n",
              "            '<a target=\"_blank\" href=https://colab.research.google.com/notebooks/data_table.ipynb>data table notebook</a>'\n",
              "            + ' to learn more about interactive tables.';\n",
              "          element.innerHTML = '';\n",
              "          dataTable['output_type'] = 'display_data';\n",
              "          await google.colab.output.renderOutput(dataTable, element);\n",
              "          const docLink = document.createElement('div');\n",
              "          docLink.innerHTML = docLinkHtml;\n",
              "          element.appendChild(docLink);\n",
              "        }\n",
              "      </script>\n",
              "    </div>\n",
              "  </div>\n",
              "  "
            ]
          },
          "metadata": {},
          "execution_count": 44
        }
      ],
      "source": [
        "# посмотрим как они выглядят теперь, далее можно будет сравнить как выглядит одно и тоже сравнение в контексте\n",
        "# других вариантов маштабирования силы взаимодействий \n",
        "grouped_df.sample(10)"
      ]
    },
    {
      "cell_type": "code",
      "source": [
        "# посмотрим на одну вакансию в ключе ее взаимодействия с пользователями\n",
        "grouped_df[grouped_df['vacancy_id_'] == 210068].sort_values('eventStrength', ascending=False).head(10)"
      ],
      "metadata": {
        "id": "lIcPy9MRnLrG",
        "colab": {
          "base_uri": "https://localhost:8080/",
          "height": 363
        },
        "outputId": "2cd5496f-0beb-4979-add9-11aaf89726b8"
      },
      "execution_count": 21,
      "outputs": [
        {
          "output_type": "execute_result",
          "data": {
            "text/plain": [
              "                                cookie_id  vacancy_id_  eventStrength\n",
              "869322   3c99e2dfbc75461fa99f9b81c1000735       210068          103.0\n",
              "395560   1e9223caa87c453da3a102f3020327f7       210068           27.0\n",
              "2344618  ac5710432b184069b1a4c0296fe3e41a       210068           12.0\n",
              "3348528  fb3eebb8cfc54a3085a07e7f47dbed4c       210068           10.0\n",
              "220791   110a687ec500431289aa6116974ffc36       210068            9.0\n",
              "1024863  45d92c30209a4ef0bf45166ca2a9d9ae       210068            9.0\n",
              "529116   2901a05b78a0471a9f5ad505ee70168d       210068            9.0\n",
              "999274   43de234dae2a41f98f394d8e1e615528       210068            9.0\n",
              "1464589  68165fd867784624880084ae3a8de2a5       210068            7.0\n",
              "2367617  ae48689ab98c4fc6acc9b848ac03a54c       210068            6.0"
            ],
            "text/html": [
              "\n",
              "  <div id=\"df-714f96cc-b408-41ef-ad02-eacbc2fc2edf\">\n",
              "    <div class=\"colab-df-container\">\n",
              "      <div>\n",
              "<style scoped>\n",
              "    .dataframe tbody tr th:only-of-type {\n",
              "        vertical-align: middle;\n",
              "    }\n",
              "\n",
              "    .dataframe tbody tr th {\n",
              "        vertical-align: top;\n",
              "    }\n",
              "\n",
              "    .dataframe thead th {\n",
              "        text-align: right;\n",
              "    }\n",
              "</style>\n",
              "<table border=\"1\" class=\"dataframe\">\n",
              "  <thead>\n",
              "    <tr style=\"text-align: right;\">\n",
              "      <th></th>\n",
              "      <th>cookie_id</th>\n",
              "      <th>vacancy_id_</th>\n",
              "      <th>eventStrength</th>\n",
              "    </tr>\n",
              "  </thead>\n",
              "  <tbody>\n",
              "    <tr>\n",
              "      <th>869322</th>\n",
              "      <td>3c99e2dfbc75461fa99f9b81c1000735</td>\n",
              "      <td>210068</td>\n",
              "      <td>103.0</td>\n",
              "    </tr>\n",
              "    <tr>\n",
              "      <th>395560</th>\n",
              "      <td>1e9223caa87c453da3a102f3020327f7</td>\n",
              "      <td>210068</td>\n",
              "      <td>27.0</td>\n",
              "    </tr>\n",
              "    <tr>\n",
              "      <th>2344618</th>\n",
              "      <td>ac5710432b184069b1a4c0296fe3e41a</td>\n",
              "      <td>210068</td>\n",
              "      <td>12.0</td>\n",
              "    </tr>\n",
              "    <tr>\n",
              "      <th>3348528</th>\n",
              "      <td>fb3eebb8cfc54a3085a07e7f47dbed4c</td>\n",
              "      <td>210068</td>\n",
              "      <td>10.0</td>\n",
              "    </tr>\n",
              "    <tr>\n",
              "      <th>220791</th>\n",
              "      <td>110a687ec500431289aa6116974ffc36</td>\n",
              "      <td>210068</td>\n",
              "      <td>9.0</td>\n",
              "    </tr>\n",
              "    <tr>\n",
              "      <th>1024863</th>\n",
              "      <td>45d92c30209a4ef0bf45166ca2a9d9ae</td>\n",
              "      <td>210068</td>\n",
              "      <td>9.0</td>\n",
              "    </tr>\n",
              "    <tr>\n",
              "      <th>529116</th>\n",
              "      <td>2901a05b78a0471a9f5ad505ee70168d</td>\n",
              "      <td>210068</td>\n",
              "      <td>9.0</td>\n",
              "    </tr>\n",
              "    <tr>\n",
              "      <th>999274</th>\n",
              "      <td>43de234dae2a41f98f394d8e1e615528</td>\n",
              "      <td>210068</td>\n",
              "      <td>9.0</td>\n",
              "    </tr>\n",
              "    <tr>\n",
              "      <th>1464589</th>\n",
              "      <td>68165fd867784624880084ae3a8de2a5</td>\n",
              "      <td>210068</td>\n",
              "      <td>7.0</td>\n",
              "    </tr>\n",
              "    <tr>\n",
              "      <th>2367617</th>\n",
              "      <td>ae48689ab98c4fc6acc9b848ac03a54c</td>\n",
              "      <td>210068</td>\n",
              "      <td>6.0</td>\n",
              "    </tr>\n",
              "  </tbody>\n",
              "</table>\n",
              "</div>\n",
              "      <button class=\"colab-df-convert\" onclick=\"convertToInteractive('df-714f96cc-b408-41ef-ad02-eacbc2fc2edf')\"\n",
              "              title=\"Convert this dataframe to an interactive table.\"\n",
              "              style=\"display:none;\">\n",
              "        \n",
              "  <svg xmlns=\"http://www.w3.org/2000/svg\" height=\"24px\"viewBox=\"0 0 24 24\"\n",
              "       width=\"24px\">\n",
              "    <path d=\"M0 0h24v24H0V0z\" fill=\"none\"/>\n",
              "    <path d=\"M18.56 5.44l.94 2.06.94-2.06 2.06-.94-2.06-.94-.94-2.06-.94 2.06-2.06.94zm-11 1L8.5 8.5l.94-2.06 2.06-.94-2.06-.94L8.5 2.5l-.94 2.06-2.06.94zm10 10l.94 2.06.94-2.06 2.06-.94-2.06-.94-.94-2.06-.94 2.06-2.06.94z\"/><path d=\"M17.41 7.96l-1.37-1.37c-.4-.4-.92-.59-1.43-.59-.52 0-1.04.2-1.43.59L10.3 9.45l-7.72 7.72c-.78.78-.78 2.05 0 2.83L4 21.41c.39.39.9.59 1.41.59.51 0 1.02-.2 1.41-.59l7.78-7.78 2.81-2.81c.8-.78.8-2.07 0-2.86zM5.41 20L4 18.59l7.72-7.72 1.47 1.35L5.41 20z\"/>\n",
              "  </svg>\n",
              "      </button>\n",
              "      \n",
              "  <style>\n",
              "    .colab-df-container {\n",
              "      display:flex;\n",
              "      flex-wrap:wrap;\n",
              "      gap: 12px;\n",
              "    }\n",
              "\n",
              "    .colab-df-convert {\n",
              "      background-color: #E8F0FE;\n",
              "      border: none;\n",
              "      border-radius: 50%;\n",
              "      cursor: pointer;\n",
              "      display: none;\n",
              "      fill: #1967D2;\n",
              "      height: 32px;\n",
              "      padding: 0 0 0 0;\n",
              "      width: 32px;\n",
              "    }\n",
              "\n",
              "    .colab-df-convert:hover {\n",
              "      background-color: #E2EBFA;\n",
              "      box-shadow: 0px 1px 2px rgba(60, 64, 67, 0.3), 0px 1px 3px 1px rgba(60, 64, 67, 0.15);\n",
              "      fill: #174EA6;\n",
              "    }\n",
              "\n",
              "    [theme=dark] .colab-df-convert {\n",
              "      background-color: #3B4455;\n",
              "      fill: #D2E3FC;\n",
              "    }\n",
              "\n",
              "    [theme=dark] .colab-df-convert:hover {\n",
              "      background-color: #434B5C;\n",
              "      box-shadow: 0px 1px 3px 1px rgba(0, 0, 0, 0.15);\n",
              "      filter: drop-shadow(0px 1px 2px rgba(0, 0, 0, 0.3));\n",
              "      fill: #FFFFFF;\n",
              "    }\n",
              "  </style>\n",
              "\n",
              "      <script>\n",
              "        const buttonEl =\n",
              "          document.querySelector('#df-714f96cc-b408-41ef-ad02-eacbc2fc2edf button.colab-df-convert');\n",
              "        buttonEl.style.display =\n",
              "          google.colab.kernel.accessAllowed ? 'block' : 'none';\n",
              "\n",
              "        async function convertToInteractive(key) {\n",
              "          const element = document.querySelector('#df-714f96cc-b408-41ef-ad02-eacbc2fc2edf');\n",
              "          const dataTable =\n",
              "            await google.colab.kernel.invokeFunction('convertToInteractive',\n",
              "                                                     [key], {});\n",
              "          if (!dataTable) return;\n",
              "\n",
              "          const docLinkHtml = 'Like what you see? Visit the ' +\n",
              "            '<a target=\"_blank\" href=https://colab.research.google.com/notebooks/data_table.ipynb>data table notebook</a>'\n",
              "            + ' to learn more about interactive tables.';\n",
              "          element.innerHTML = '';\n",
              "          dataTable['output_type'] = 'display_data';\n",
              "          await google.colab.output.renderOutput(dataTable, element);\n",
              "          const docLink = document.createElement('div');\n",
              "          docLink.innerHTML = docLinkHtml;\n",
              "          element.appendChild(docLink);\n",
              "        }\n",
              "      </script>\n",
              "    </div>\n",
              "  </div>\n",
              "  "
            ]
          },
          "metadata": {},
          "execution_count": 21
        }
      ]
    },
    {
      "cell_type": "code",
      "source": [
        "# посмотрим на одного пользователя в ключе его взаимодействия с вакансиями\n",
        "grouped_df[grouped_df['cookie_id'] == 'ac5710432b184069b1a4c0296fe3e41a'].sort_values('eventStrength', ascending=False).head(10)"
      ],
      "metadata": {
        "colab": {
          "base_uri": "https://localhost:8080/",
          "height": 363
        },
        "id": "t-A0s6DYzgwf",
        "outputId": "9d3b3337-0ae1-41fc-9a3b-97f960f7c2d8"
      },
      "execution_count": 22,
      "outputs": [
        {
          "output_type": "execute_result",
          "data": {
            "text/plain": [
              "                                cookie_id  vacancy_id_  eventStrength\n",
              "2344610  ac5710432b184069b1a4c0296fe3e41a       168822           23.0\n",
              "2344606  ac5710432b184069b1a4c0296fe3e41a       136830           21.0\n",
              "2344617  ac5710432b184069b1a4c0296fe3e41a       195789           20.0\n",
              "2344623  ac5710432b184069b1a4c0296fe3e41a       239208           13.0\n",
              "2344618  ac5710432b184069b1a4c0296fe3e41a       210068           12.0\n",
              "2344605  ac5710432b184069b1a4c0296fe3e41a       131067           11.0\n",
              "2344620  ac5710432b184069b1a4c0296fe3e41a       215541           10.0\n",
              "2344619  ac5710432b184069b1a4c0296fe3e41a       214215           10.0\n",
              "2344614  ac5710432b184069b1a4c0296fe3e41a       183452            9.0\n",
              "2344622  ac5710432b184069b1a4c0296fe3e41a       221544            9.0"
            ],
            "text/html": [
              "\n",
              "  <div id=\"df-364a3183-f187-417c-bc6b-e25c8991056a\">\n",
              "    <div class=\"colab-df-container\">\n",
              "      <div>\n",
              "<style scoped>\n",
              "    .dataframe tbody tr th:only-of-type {\n",
              "        vertical-align: middle;\n",
              "    }\n",
              "\n",
              "    .dataframe tbody tr th {\n",
              "        vertical-align: top;\n",
              "    }\n",
              "\n",
              "    .dataframe thead th {\n",
              "        text-align: right;\n",
              "    }\n",
              "</style>\n",
              "<table border=\"1\" class=\"dataframe\">\n",
              "  <thead>\n",
              "    <tr style=\"text-align: right;\">\n",
              "      <th></th>\n",
              "      <th>cookie_id</th>\n",
              "      <th>vacancy_id_</th>\n",
              "      <th>eventStrength</th>\n",
              "    </tr>\n",
              "  </thead>\n",
              "  <tbody>\n",
              "    <tr>\n",
              "      <th>2344610</th>\n",
              "      <td>ac5710432b184069b1a4c0296fe3e41a</td>\n",
              "      <td>168822</td>\n",
              "      <td>23.0</td>\n",
              "    </tr>\n",
              "    <tr>\n",
              "      <th>2344606</th>\n",
              "      <td>ac5710432b184069b1a4c0296fe3e41a</td>\n",
              "      <td>136830</td>\n",
              "      <td>21.0</td>\n",
              "    </tr>\n",
              "    <tr>\n",
              "      <th>2344617</th>\n",
              "      <td>ac5710432b184069b1a4c0296fe3e41a</td>\n",
              "      <td>195789</td>\n",
              "      <td>20.0</td>\n",
              "    </tr>\n",
              "    <tr>\n",
              "      <th>2344623</th>\n",
              "      <td>ac5710432b184069b1a4c0296fe3e41a</td>\n",
              "      <td>239208</td>\n",
              "      <td>13.0</td>\n",
              "    </tr>\n",
              "    <tr>\n",
              "      <th>2344618</th>\n",
              "      <td>ac5710432b184069b1a4c0296fe3e41a</td>\n",
              "      <td>210068</td>\n",
              "      <td>12.0</td>\n",
              "    </tr>\n",
              "    <tr>\n",
              "      <th>2344605</th>\n",
              "      <td>ac5710432b184069b1a4c0296fe3e41a</td>\n",
              "      <td>131067</td>\n",
              "      <td>11.0</td>\n",
              "    </tr>\n",
              "    <tr>\n",
              "      <th>2344620</th>\n",
              "      <td>ac5710432b184069b1a4c0296fe3e41a</td>\n",
              "      <td>215541</td>\n",
              "      <td>10.0</td>\n",
              "    </tr>\n",
              "    <tr>\n",
              "      <th>2344619</th>\n",
              "      <td>ac5710432b184069b1a4c0296fe3e41a</td>\n",
              "      <td>214215</td>\n",
              "      <td>10.0</td>\n",
              "    </tr>\n",
              "    <tr>\n",
              "      <th>2344614</th>\n",
              "      <td>ac5710432b184069b1a4c0296fe3e41a</td>\n",
              "      <td>183452</td>\n",
              "      <td>9.0</td>\n",
              "    </tr>\n",
              "    <tr>\n",
              "      <th>2344622</th>\n",
              "      <td>ac5710432b184069b1a4c0296fe3e41a</td>\n",
              "      <td>221544</td>\n",
              "      <td>9.0</td>\n",
              "    </tr>\n",
              "  </tbody>\n",
              "</table>\n",
              "</div>\n",
              "      <button class=\"colab-df-convert\" onclick=\"convertToInteractive('df-364a3183-f187-417c-bc6b-e25c8991056a')\"\n",
              "              title=\"Convert this dataframe to an interactive table.\"\n",
              "              style=\"display:none;\">\n",
              "        \n",
              "  <svg xmlns=\"http://www.w3.org/2000/svg\" height=\"24px\"viewBox=\"0 0 24 24\"\n",
              "       width=\"24px\">\n",
              "    <path d=\"M0 0h24v24H0V0z\" fill=\"none\"/>\n",
              "    <path d=\"M18.56 5.44l.94 2.06.94-2.06 2.06-.94-2.06-.94-.94-2.06-.94 2.06-2.06.94zm-11 1L8.5 8.5l.94-2.06 2.06-.94-2.06-.94L8.5 2.5l-.94 2.06-2.06.94zm10 10l.94 2.06.94-2.06 2.06-.94-2.06-.94-.94-2.06-.94 2.06-2.06.94z\"/><path d=\"M17.41 7.96l-1.37-1.37c-.4-.4-.92-.59-1.43-.59-.52 0-1.04.2-1.43.59L10.3 9.45l-7.72 7.72c-.78.78-.78 2.05 0 2.83L4 21.41c.39.39.9.59 1.41.59.51 0 1.02-.2 1.41-.59l7.78-7.78 2.81-2.81c.8-.78.8-2.07 0-2.86zM5.41 20L4 18.59l7.72-7.72 1.47 1.35L5.41 20z\"/>\n",
              "  </svg>\n",
              "      </button>\n",
              "      \n",
              "  <style>\n",
              "    .colab-df-container {\n",
              "      display:flex;\n",
              "      flex-wrap:wrap;\n",
              "      gap: 12px;\n",
              "    }\n",
              "\n",
              "    .colab-df-convert {\n",
              "      background-color: #E8F0FE;\n",
              "      border: none;\n",
              "      border-radius: 50%;\n",
              "      cursor: pointer;\n",
              "      display: none;\n",
              "      fill: #1967D2;\n",
              "      height: 32px;\n",
              "      padding: 0 0 0 0;\n",
              "      width: 32px;\n",
              "    }\n",
              "\n",
              "    .colab-df-convert:hover {\n",
              "      background-color: #E2EBFA;\n",
              "      box-shadow: 0px 1px 2px rgba(60, 64, 67, 0.3), 0px 1px 3px 1px rgba(60, 64, 67, 0.15);\n",
              "      fill: #174EA6;\n",
              "    }\n",
              "\n",
              "    [theme=dark] .colab-df-convert {\n",
              "      background-color: #3B4455;\n",
              "      fill: #D2E3FC;\n",
              "    }\n",
              "\n",
              "    [theme=dark] .colab-df-convert:hover {\n",
              "      background-color: #434B5C;\n",
              "      box-shadow: 0px 1px 3px 1px rgba(0, 0, 0, 0.15);\n",
              "      filter: drop-shadow(0px 1px 2px rgba(0, 0, 0, 0.3));\n",
              "      fill: #FFFFFF;\n",
              "    }\n",
              "  </style>\n",
              "\n",
              "      <script>\n",
              "        const buttonEl =\n",
              "          document.querySelector('#df-364a3183-f187-417c-bc6b-e25c8991056a button.colab-df-convert');\n",
              "        buttonEl.style.display =\n",
              "          google.colab.kernel.accessAllowed ? 'block' : 'none';\n",
              "\n",
              "        async function convertToInteractive(key) {\n",
              "          const element = document.querySelector('#df-364a3183-f187-417c-bc6b-e25c8991056a');\n",
              "          const dataTable =\n",
              "            await google.colab.kernel.invokeFunction('convertToInteractive',\n",
              "                                                     [key], {});\n",
              "          if (!dataTable) return;\n",
              "\n",
              "          const docLinkHtml = 'Like what you see? Visit the ' +\n",
              "            '<a target=\"_blank\" href=https://colab.research.google.com/notebooks/data_table.ipynb>data table notebook</a>'\n",
              "            + ' to learn more about interactive tables.';\n",
              "          element.innerHTML = '';\n",
              "          dataTable['output_type'] = 'display_data';\n",
              "          await google.colab.output.renderOutput(dataTable, element);\n",
              "          const docLink = document.createElement('div');\n",
              "          docLink.innerHTML = docLinkHtml;\n",
              "          element.appendChild(docLink);\n",
              "        }\n",
              "      </script>\n",
              "    </div>\n",
              "  </div>\n",
              "  "
            ]
          },
          "metadata": {},
          "execution_count": 22
        }
      ]
    },
    {
      "cell_type": "markdown",
      "source": [
        "Вот к этому блоку нужно подойти очень внимательно - это выделение категориальных и числовых столбцов, в первых прогонах мы обошлись вот таким вариантом, но можно будет посмотреть и выделение нумированных вакансий (у нас в матрице с 0 до 100 000 значений нет, а номера есть, но может этого и ничего страшного)\n",
        "\n",
        "---"
      ],
      "metadata": {
        "id": "d6HYg_5FysLz"
      }
    },
    {
      "cell_type": "code",
      "execution_count": 22,
      "metadata": {
        "id": "Hj8ItCotrTjI"
      },
      "outputs": [],
      "source": [
        "grouped_df['cookie_id'] = grouped_df['cookie_id'].astype(\"category\") # наименование вакансии в категорию\n",
        "#grouped_df['vacancy_id_'] = grouped_df['vacancy_id_'].astype(\"category\") # наименование вакансии в категорию"
      ]
    },
    {
      "cell_type": "code",
      "source": [
        "grouped_df['cookie_id_num'] = grouped_df['cookie_id'].cat.codes # вот тут выделяем числовые значения\n",
        "#grouped_df['vacancy_id_num'] = grouped_df['vacancy_id_'].cat.codes # и вот тут выделим"
      ],
      "metadata": {
        "id": "X0SCKJ88o_dv"
      },
      "execution_count": 23,
      "outputs": []
    },
    {
      "cell_type": "markdown",
      "metadata": {
        "id": "HmSEG1NnQr3a"
      },
      "source": [
        "Продолжаем готовить данные для разряженных матриц\n",
        "\n",
        "---"
      ]
    },
    {
      "cell_type": "code",
      "source": [
        "#grouped_df = grouped_df[['cookie_id', 'cookie_id_num', 'vacancy_id_', 'vacancy_id_num', 'eventStrength']]"
      ],
      "metadata": {
        "id": "oFGgBM8Dy7UM"
      },
      "execution_count": null,
      "outputs": []
    },
    {
      "cell_type": "code",
      "source": [
        "grouped_df = grouped_df[['cookie_id', 'cookie_id_num', 'vacancy_id_', 'eventStrength']]\n",
        "#grouped_df = grouped_df[['cookie_id_num', 'vacancy_id_num', 'eventStrength']]"
      ],
      "metadata": {
        "id": "L5qwt3uP0822"
      },
      "execution_count": 24,
      "outputs": []
    },
    {
      "cell_type": "code",
      "source": [
        "data = grouped_df[['cookie_id_num', 'vacancy_id_', 'eventStrength']]"
      ],
      "metadata": {
        "id": "tk6Zs1efpFjm"
      },
      "execution_count": 25,
      "outputs": []
    },
    {
      "cell_type": "code",
      "source": [
        "# В этом варианте кода мы пробуем запускать в матрицу номера вакансий которые нам дали изначально, что бы с ними потом не мучатся\n",
        "data = grouped_df[['cookie_id_num', 'vacancy_id_', 'eventStrength']]"
      ],
      "metadata": {
        "id": "dA3bGK1_1KHn"
      },
      "execution_count": 26,
      "outputs": []
    },
    {
      "cell_type": "markdown",
      "source": [
        "Вот тут стоит подумать о нормализации данных и вообще нужна ли она? Это второй исследовательский блок давайте пробовавать разную нормализацию"
      ],
      "metadata": {
        "id": "PpGQc_gEF4fw"
      }
    },
    {
      "cell_type": "code",
      "source": [
        "data['eventStrength_norm'] = (data['eventStrength'] - data['eventStrength'].mean()) / data['eventStrength'].std()"
      ],
      "metadata": {
        "id": "tgeFDHKcF5fQ"
      },
      "execution_count": null,
      "outputs": []
    },
    {
      "cell_type": "code",
      "source": [
        "data.head() # мне кажется минусы нам не нужны будут проверю другую"
      ],
      "metadata": {
        "id": "FpPIHeb_HV4u"
      },
      "execution_count": null,
      "outputs": []
    },
    {
      "cell_type": "code",
      "source": [
        "data['eventStrength_norm'] = (data['eventStrength'] - data['eventStrength'].min()) / (data['eventStrength'].max() - data['eventStrength'].min())"
      ],
      "metadata": {
        "id": "fYu3SD4yGUs4"
      },
      "execution_count": null,
      "outputs": []
    },
    {
      "cell_type": "code",
      "source": [
        "data.head() # мне кажется минусы нам не нужны будут проверю другую\n",
        "# Вот этот датафрейм пойдет в матрицы (в следующий прогон загоним с нормализацией)"
      ],
      "metadata": {
        "id": "hC_GLeS7GUqW",
        "colab": {
          "base_uri": "https://localhost:8080/",
          "height": 206
        },
        "outputId": "6045afb9-05b3-4bb4-fb85-1014fa294fcf"
      },
      "execution_count": 55,
      "outputs": [
        {
          "output_type": "execute_result",
          "data": {
            "text/plain": [
              "   cookie_id_num  vacancy_id_  eventStrength\n",
              "0              0       137659            3.0\n",
              "1              0       153975            3.0\n",
              "2              0       174953            9.0\n",
              "3              0       176171            3.0\n",
              "4              0       182445            6.0"
            ],
            "text/html": [
              "\n",
              "  <div id=\"df-418ad962-c0e9-411d-93cc-8dfef3584bfa\">\n",
              "    <div class=\"colab-df-container\">\n",
              "      <div>\n",
              "<style scoped>\n",
              "    .dataframe tbody tr th:only-of-type {\n",
              "        vertical-align: middle;\n",
              "    }\n",
              "\n",
              "    .dataframe tbody tr th {\n",
              "        vertical-align: top;\n",
              "    }\n",
              "\n",
              "    .dataframe thead th {\n",
              "        text-align: right;\n",
              "    }\n",
              "</style>\n",
              "<table border=\"1\" class=\"dataframe\">\n",
              "  <thead>\n",
              "    <tr style=\"text-align: right;\">\n",
              "      <th></th>\n",
              "      <th>cookie_id_num</th>\n",
              "      <th>vacancy_id_</th>\n",
              "      <th>eventStrength</th>\n",
              "    </tr>\n",
              "  </thead>\n",
              "  <tbody>\n",
              "    <tr>\n",
              "      <th>0</th>\n",
              "      <td>0</td>\n",
              "      <td>137659</td>\n",
              "      <td>3.0</td>\n",
              "    </tr>\n",
              "    <tr>\n",
              "      <th>1</th>\n",
              "      <td>0</td>\n",
              "      <td>153975</td>\n",
              "      <td>3.0</td>\n",
              "    </tr>\n",
              "    <tr>\n",
              "      <th>2</th>\n",
              "      <td>0</td>\n",
              "      <td>174953</td>\n",
              "      <td>9.0</td>\n",
              "    </tr>\n",
              "    <tr>\n",
              "      <th>3</th>\n",
              "      <td>0</td>\n",
              "      <td>176171</td>\n",
              "      <td>3.0</td>\n",
              "    </tr>\n",
              "    <tr>\n",
              "      <th>4</th>\n",
              "      <td>0</td>\n",
              "      <td>182445</td>\n",
              "      <td>6.0</td>\n",
              "    </tr>\n",
              "  </tbody>\n",
              "</table>\n",
              "</div>\n",
              "      <button class=\"colab-df-convert\" onclick=\"convertToInteractive('df-418ad962-c0e9-411d-93cc-8dfef3584bfa')\"\n",
              "              title=\"Convert this dataframe to an interactive table.\"\n",
              "              style=\"display:none;\">\n",
              "        \n",
              "  <svg xmlns=\"http://www.w3.org/2000/svg\" height=\"24px\"viewBox=\"0 0 24 24\"\n",
              "       width=\"24px\">\n",
              "    <path d=\"M0 0h24v24H0V0z\" fill=\"none\"/>\n",
              "    <path d=\"M18.56 5.44l.94 2.06.94-2.06 2.06-.94-2.06-.94-.94-2.06-.94 2.06-2.06.94zm-11 1L8.5 8.5l.94-2.06 2.06-.94-2.06-.94L8.5 2.5l-.94 2.06-2.06.94zm10 10l.94 2.06.94-2.06 2.06-.94-2.06-.94-.94-2.06-.94 2.06-2.06.94z\"/><path d=\"M17.41 7.96l-1.37-1.37c-.4-.4-.92-.59-1.43-.59-.52 0-1.04.2-1.43.59L10.3 9.45l-7.72 7.72c-.78.78-.78 2.05 0 2.83L4 21.41c.39.39.9.59 1.41.59.51 0 1.02-.2 1.41-.59l7.78-7.78 2.81-2.81c.8-.78.8-2.07 0-2.86zM5.41 20L4 18.59l7.72-7.72 1.47 1.35L5.41 20z\"/>\n",
              "  </svg>\n",
              "      </button>\n",
              "      \n",
              "  <style>\n",
              "    .colab-df-container {\n",
              "      display:flex;\n",
              "      flex-wrap:wrap;\n",
              "      gap: 12px;\n",
              "    }\n",
              "\n",
              "    .colab-df-convert {\n",
              "      background-color: #E8F0FE;\n",
              "      border: none;\n",
              "      border-radius: 50%;\n",
              "      cursor: pointer;\n",
              "      display: none;\n",
              "      fill: #1967D2;\n",
              "      height: 32px;\n",
              "      padding: 0 0 0 0;\n",
              "      width: 32px;\n",
              "    }\n",
              "\n",
              "    .colab-df-convert:hover {\n",
              "      background-color: #E2EBFA;\n",
              "      box-shadow: 0px 1px 2px rgba(60, 64, 67, 0.3), 0px 1px 3px 1px rgba(60, 64, 67, 0.15);\n",
              "      fill: #174EA6;\n",
              "    }\n",
              "\n",
              "    [theme=dark] .colab-df-convert {\n",
              "      background-color: #3B4455;\n",
              "      fill: #D2E3FC;\n",
              "    }\n",
              "\n",
              "    [theme=dark] .colab-df-convert:hover {\n",
              "      background-color: #434B5C;\n",
              "      box-shadow: 0px 1px 3px 1px rgba(0, 0, 0, 0.15);\n",
              "      filter: drop-shadow(0px 1px 2px rgba(0, 0, 0, 0.3));\n",
              "      fill: #FFFFFF;\n",
              "    }\n",
              "  </style>\n",
              "\n",
              "      <script>\n",
              "        const buttonEl =\n",
              "          document.querySelector('#df-418ad962-c0e9-411d-93cc-8dfef3584bfa button.colab-df-convert');\n",
              "        buttonEl.style.display =\n",
              "          google.colab.kernel.accessAllowed ? 'block' : 'none';\n",
              "\n",
              "        async function convertToInteractive(key) {\n",
              "          const element = document.querySelector('#df-418ad962-c0e9-411d-93cc-8dfef3584bfa');\n",
              "          const dataTable =\n",
              "            await google.colab.kernel.invokeFunction('convertToInteractive',\n",
              "                                                     [key], {});\n",
              "          if (!dataTable) return;\n",
              "\n",
              "          const docLinkHtml = 'Like what you see? Visit the ' +\n",
              "            '<a target=\"_blank\" href=https://colab.research.google.com/notebooks/data_table.ipynb>data table notebook</a>'\n",
              "            + ' to learn more about interactive tables.';\n",
              "          element.innerHTML = '';\n",
              "          dataTable['output_type'] = 'display_data';\n",
              "          await google.colab.output.renderOutput(dataTable, element);\n",
              "          const docLink = document.createElement('div');\n",
              "          docLink.innerHTML = docLinkHtml;\n",
              "          element.appendChild(docLink);\n",
              "        }\n",
              "      </script>\n",
              "    </div>\n",
              "  </div>\n",
              "  "
            ]
          },
          "metadata": {},
          "execution_count": 55
        }
      ]
    },
    {
      "cell_type": "code",
      "execution_count": 57,
      "metadata": {
        "id": "TOMAvk3brTjJ",
        "outputId": "96643f53-82b0-4379-80d3-a3cacad66c73",
        "colab": {
          "base_uri": "https://localhost:8080/",
          "height": 363
        }
      },
      "outputs": [
        {
          "output_type": "execute_result",
          "data": {
            "text/plain": [
              "                          cookie_id  cookie_id_num  vacancy_id_  eventStrength\n",
              "0  0000c4548c3944c08972bbdc1fa4eb85              0       137659            3.0\n",
              "1  0000c4548c3944c08972bbdc1fa4eb85              0       153975            3.0\n",
              "2  0000c4548c3944c08972bbdc1fa4eb85              0       174953            9.0\n",
              "3  0000c4548c3944c08972bbdc1fa4eb85              0       176171            3.0\n",
              "4  0000c4548c3944c08972bbdc1fa4eb85              0       182445            6.0\n",
              "5  0000c4548c3944c08972bbdc1fa4eb85              0       187529            3.0\n",
              "6  0000e63f423542fe8090575b611cea4d              1       122287           13.0\n",
              "7  0000e63f423542fe8090575b611cea4d              1       131966            6.0\n",
              "8  0000e63f423542fe8090575b611cea4d              1       137592            6.0\n",
              "9  0000e63f423542fe8090575b611cea4d              1       141592            7.0"
            ],
            "text/html": [
              "\n",
              "  <div id=\"df-71924138-5829-454b-a7f2-eadc20d37b40\">\n",
              "    <div class=\"colab-df-container\">\n",
              "      <div>\n",
              "<style scoped>\n",
              "    .dataframe tbody tr th:only-of-type {\n",
              "        vertical-align: middle;\n",
              "    }\n",
              "\n",
              "    .dataframe tbody tr th {\n",
              "        vertical-align: top;\n",
              "    }\n",
              "\n",
              "    .dataframe thead th {\n",
              "        text-align: right;\n",
              "    }\n",
              "</style>\n",
              "<table border=\"1\" class=\"dataframe\">\n",
              "  <thead>\n",
              "    <tr style=\"text-align: right;\">\n",
              "      <th></th>\n",
              "      <th>cookie_id</th>\n",
              "      <th>cookie_id_num</th>\n",
              "      <th>vacancy_id_</th>\n",
              "      <th>eventStrength</th>\n",
              "    </tr>\n",
              "  </thead>\n",
              "  <tbody>\n",
              "    <tr>\n",
              "      <th>0</th>\n",
              "      <td>0000c4548c3944c08972bbdc1fa4eb85</td>\n",
              "      <td>0</td>\n",
              "      <td>137659</td>\n",
              "      <td>3.0</td>\n",
              "    </tr>\n",
              "    <tr>\n",
              "      <th>1</th>\n",
              "      <td>0000c4548c3944c08972bbdc1fa4eb85</td>\n",
              "      <td>0</td>\n",
              "      <td>153975</td>\n",
              "      <td>3.0</td>\n",
              "    </tr>\n",
              "    <tr>\n",
              "      <th>2</th>\n",
              "      <td>0000c4548c3944c08972bbdc1fa4eb85</td>\n",
              "      <td>0</td>\n",
              "      <td>174953</td>\n",
              "      <td>9.0</td>\n",
              "    </tr>\n",
              "    <tr>\n",
              "      <th>3</th>\n",
              "      <td>0000c4548c3944c08972bbdc1fa4eb85</td>\n",
              "      <td>0</td>\n",
              "      <td>176171</td>\n",
              "      <td>3.0</td>\n",
              "    </tr>\n",
              "    <tr>\n",
              "      <th>4</th>\n",
              "      <td>0000c4548c3944c08972bbdc1fa4eb85</td>\n",
              "      <td>0</td>\n",
              "      <td>182445</td>\n",
              "      <td>6.0</td>\n",
              "    </tr>\n",
              "    <tr>\n",
              "      <th>5</th>\n",
              "      <td>0000c4548c3944c08972bbdc1fa4eb85</td>\n",
              "      <td>0</td>\n",
              "      <td>187529</td>\n",
              "      <td>3.0</td>\n",
              "    </tr>\n",
              "    <tr>\n",
              "      <th>6</th>\n",
              "      <td>0000e63f423542fe8090575b611cea4d</td>\n",
              "      <td>1</td>\n",
              "      <td>122287</td>\n",
              "      <td>13.0</td>\n",
              "    </tr>\n",
              "    <tr>\n",
              "      <th>7</th>\n",
              "      <td>0000e63f423542fe8090575b611cea4d</td>\n",
              "      <td>1</td>\n",
              "      <td>131966</td>\n",
              "      <td>6.0</td>\n",
              "    </tr>\n",
              "    <tr>\n",
              "      <th>8</th>\n",
              "      <td>0000e63f423542fe8090575b611cea4d</td>\n",
              "      <td>1</td>\n",
              "      <td>137592</td>\n",
              "      <td>6.0</td>\n",
              "    </tr>\n",
              "    <tr>\n",
              "      <th>9</th>\n",
              "      <td>0000e63f423542fe8090575b611cea4d</td>\n",
              "      <td>1</td>\n",
              "      <td>141592</td>\n",
              "      <td>7.0</td>\n",
              "    </tr>\n",
              "  </tbody>\n",
              "</table>\n",
              "</div>\n",
              "      <button class=\"colab-df-convert\" onclick=\"convertToInteractive('df-71924138-5829-454b-a7f2-eadc20d37b40')\"\n",
              "              title=\"Convert this dataframe to an interactive table.\"\n",
              "              style=\"display:none;\">\n",
              "        \n",
              "  <svg xmlns=\"http://www.w3.org/2000/svg\" height=\"24px\"viewBox=\"0 0 24 24\"\n",
              "       width=\"24px\">\n",
              "    <path d=\"M0 0h24v24H0V0z\" fill=\"none\"/>\n",
              "    <path d=\"M18.56 5.44l.94 2.06.94-2.06 2.06-.94-2.06-.94-.94-2.06-.94 2.06-2.06.94zm-11 1L8.5 8.5l.94-2.06 2.06-.94-2.06-.94L8.5 2.5l-.94 2.06-2.06.94zm10 10l.94 2.06.94-2.06 2.06-.94-2.06-.94-.94-2.06-.94 2.06-2.06.94z\"/><path d=\"M17.41 7.96l-1.37-1.37c-.4-.4-.92-.59-1.43-.59-.52 0-1.04.2-1.43.59L10.3 9.45l-7.72 7.72c-.78.78-.78 2.05 0 2.83L4 21.41c.39.39.9.59 1.41.59.51 0 1.02-.2 1.41-.59l7.78-7.78 2.81-2.81c.8-.78.8-2.07 0-2.86zM5.41 20L4 18.59l7.72-7.72 1.47 1.35L5.41 20z\"/>\n",
              "  </svg>\n",
              "      </button>\n",
              "      \n",
              "  <style>\n",
              "    .colab-df-container {\n",
              "      display:flex;\n",
              "      flex-wrap:wrap;\n",
              "      gap: 12px;\n",
              "    }\n",
              "\n",
              "    .colab-df-convert {\n",
              "      background-color: #E8F0FE;\n",
              "      border: none;\n",
              "      border-radius: 50%;\n",
              "      cursor: pointer;\n",
              "      display: none;\n",
              "      fill: #1967D2;\n",
              "      height: 32px;\n",
              "      padding: 0 0 0 0;\n",
              "      width: 32px;\n",
              "    }\n",
              "\n",
              "    .colab-df-convert:hover {\n",
              "      background-color: #E2EBFA;\n",
              "      box-shadow: 0px 1px 2px rgba(60, 64, 67, 0.3), 0px 1px 3px 1px rgba(60, 64, 67, 0.15);\n",
              "      fill: #174EA6;\n",
              "    }\n",
              "\n",
              "    [theme=dark] .colab-df-convert {\n",
              "      background-color: #3B4455;\n",
              "      fill: #D2E3FC;\n",
              "    }\n",
              "\n",
              "    [theme=dark] .colab-df-convert:hover {\n",
              "      background-color: #434B5C;\n",
              "      box-shadow: 0px 1px 3px 1px rgba(0, 0, 0, 0.15);\n",
              "      filter: drop-shadow(0px 1px 2px rgba(0, 0, 0, 0.3));\n",
              "      fill: #FFFFFF;\n",
              "    }\n",
              "  </style>\n",
              "\n",
              "      <script>\n",
              "        const buttonEl =\n",
              "          document.querySelector('#df-71924138-5829-454b-a7f2-eadc20d37b40 button.colab-df-convert');\n",
              "        buttonEl.style.display =\n",
              "          google.colab.kernel.accessAllowed ? 'block' : 'none';\n",
              "\n",
              "        async function convertToInteractive(key) {\n",
              "          const element = document.querySelector('#df-71924138-5829-454b-a7f2-eadc20d37b40');\n",
              "          const dataTable =\n",
              "            await google.colab.kernel.invokeFunction('convertToInteractive',\n",
              "                                                     [key], {});\n",
              "          if (!dataTable) return;\n",
              "\n",
              "          const docLinkHtml = 'Like what you see? Visit the ' +\n",
              "            '<a target=\"_blank\" href=https://colab.research.google.com/notebooks/data_table.ipynb>data table notebook</a>'\n",
              "            + ' to learn more about interactive tables.';\n",
              "          element.innerHTML = '';\n",
              "          dataTable['output_type'] = 'display_data';\n",
              "          await google.colab.output.renderOutput(dataTable, element);\n",
              "          const docLink = document.createElement('div');\n",
              "          docLink.innerHTML = docLinkHtml;\n",
              "          element.appendChild(docLink);\n",
              "        }\n",
              "      </script>\n",
              "    </div>\n",
              "  </div>\n",
              "  "
            ]
          },
          "metadata": {},
          "execution_count": 57
        }
      ],
      "source": [
        "# а вот это остается нашим базовым информационным датафреймом\n",
        "grouped_df.head(10)"
      ]
    },
    {
      "cell_type": "markdown",
      "source": [
        "Вот в этом блоке мы должны соотнести наш цифровой номер cookie со строчным, для вывода ответов\n",
        "\n",
        "---"
      ],
      "metadata": {
        "id": "C4PdXK49zweT"
      }
    },
    {
      "cell_type": "markdown",
      "source": [
        "Первый вариант работает на словарях"
      ],
      "metadata": {
        "id": "g8YThcNXABO2"
      }
    },
    {
      "cell_type": "code",
      "source": [
        "# кодируем числами все наши cookie_id\n",
        "codes = grouped_df.cookie_id.astype('category')\n",
        "# создаем словарик в котором ключ это код а значение текстовое поле cookie_id\n",
        "cookie_dic = dict(enumerate(codes.cat.categories))\n",
        "print (codes.cat.categories)"
      ],
      "metadata": {
        "colab": {
          "base_uri": "https://localhost:8080/"
        },
        "id": "-B8hptiR755e",
        "outputId": "ee135e1c-5fe7-4365-a7ff-4d85c2e8b495"
      },
      "execution_count": 27,
      "outputs": [
        {
          "output_type": "stream",
          "name": "stdout",
          "text": [
            "Index(['0000c4548c3944c08972bbdc1fa4eb85', '0000e63f423542fe8090575b611cea4d',\n",
            "       '00015019b0594984afc3fd9fa9557490', '0001a23eb7fa4b1db1e933484b03e668',\n",
            "       '00028e0b0d474748ac5a83688a4f8896', '0002cb657088464b99775a69ce83a2ef',\n",
            "       '000344ddc0664127b54f529eaf183e30', '000385da780542d5a2437cc416e4f063',\n",
            "       '00038b5200304d5d96a05a31ca94751a', '0003e60e0c684618baf363fcc19bc2a4',\n",
            "       ...\n",
            "       'fffd7799244e4e3d82ea3ed22268f67a', 'fffd83f9c6fb4d7fb899e133af17227c',\n",
            "       'fffdb1e5a85841eba7bce22e11e1e0bd', 'fffdc951d3b64eb5b1de9195f3df9920',\n",
            "       'fffe6d5c21f4400d97c826f2e61e9222', 'fffeba46c96a47f4a2ff364500757de3',\n",
            "       'fffeca6b3b8842d1b7582956e660d463', 'ffff3581b7e7405db25fac5c5dd1bff9',\n",
            "       'ffff8283d29644e69ad6d08cc3ca7fb7', 'ffffd6d4f2134dd6aa80ff71e942b508'],\n",
            "      dtype='object', length=208238)\n"
          ]
        }
      ]
    },
    {
      "cell_type": "code",
      "source": [
        "# и создадим обратный словарик\n",
        "cookie_to_code = dict(zip(cookie_dic.values(), cookie_dic.keys()))"
      ],
      "metadata": {
        "id": "DHTqf1eq_cwp"
      },
      "execution_count": 28,
      "outputs": []
    },
    {
      "cell_type": "code",
      "source": [
        "grouped_df"
      ],
      "metadata": {
        "colab": {
          "base_uri": "https://localhost:8080/",
          "height": 423
        },
        "id": "lc9KBlVc2R5x",
        "outputId": "4e36d418-35f8-4a33-8c5d-55b6fc800118"
      },
      "execution_count": 29,
      "outputs": [
        {
          "output_type": "execute_result",
          "data": {
            "text/plain": [
              "                                cookie_id  cookie_id_num  vacancy_id_  \\\n",
              "0        0000c4548c3944c08972bbdc1fa4eb85              0       137659   \n",
              "1        0000c4548c3944c08972bbdc1fa4eb85              0       153975   \n",
              "2        0000c4548c3944c08972bbdc1fa4eb85              0       174953   \n",
              "3        0000c4548c3944c08972bbdc1fa4eb85              0       176171   \n",
              "4        0000c4548c3944c08972bbdc1fa4eb85              0       182445   \n",
              "...                                   ...            ...          ...   \n",
              "3409002  ffffd6d4f2134dd6aa80ff71e942b508         208237       171308   \n",
              "3409003  ffffd6d4f2134dd6aa80ff71e942b508         208237       197828   \n",
              "3409004  ffffd6d4f2134dd6aa80ff71e942b508         208237       225522   \n",
              "3409005  ffffd6d4f2134dd6aa80ff71e942b508         208237       230870   \n",
              "3409006  ffffd6d4f2134dd6aa80ff71e942b508         208237       233452   \n",
              "\n",
              "         eventStrength  \n",
              "0                  3.0  \n",
              "1                  3.0  \n",
              "2                  9.0  \n",
              "3                  3.0  \n",
              "4                  6.0  \n",
              "...                ...  \n",
              "3409002            3.0  \n",
              "3409003            7.0  \n",
              "3409004            9.0  \n",
              "3409005            4.0  \n",
              "3409006            4.0  \n",
              "\n",
              "[3409007 rows x 4 columns]"
            ],
            "text/html": [
              "\n",
              "  <div id=\"df-fd6c9353-5b69-4c7e-8c55-d2dd2337c461\">\n",
              "    <div class=\"colab-df-container\">\n",
              "      <div>\n",
              "<style scoped>\n",
              "    .dataframe tbody tr th:only-of-type {\n",
              "        vertical-align: middle;\n",
              "    }\n",
              "\n",
              "    .dataframe tbody tr th {\n",
              "        vertical-align: top;\n",
              "    }\n",
              "\n",
              "    .dataframe thead th {\n",
              "        text-align: right;\n",
              "    }\n",
              "</style>\n",
              "<table border=\"1\" class=\"dataframe\">\n",
              "  <thead>\n",
              "    <tr style=\"text-align: right;\">\n",
              "      <th></th>\n",
              "      <th>cookie_id</th>\n",
              "      <th>cookie_id_num</th>\n",
              "      <th>vacancy_id_</th>\n",
              "      <th>eventStrength</th>\n",
              "    </tr>\n",
              "  </thead>\n",
              "  <tbody>\n",
              "    <tr>\n",
              "      <th>0</th>\n",
              "      <td>0000c4548c3944c08972bbdc1fa4eb85</td>\n",
              "      <td>0</td>\n",
              "      <td>137659</td>\n",
              "      <td>3.0</td>\n",
              "    </tr>\n",
              "    <tr>\n",
              "      <th>1</th>\n",
              "      <td>0000c4548c3944c08972bbdc1fa4eb85</td>\n",
              "      <td>0</td>\n",
              "      <td>153975</td>\n",
              "      <td>3.0</td>\n",
              "    </tr>\n",
              "    <tr>\n",
              "      <th>2</th>\n",
              "      <td>0000c4548c3944c08972bbdc1fa4eb85</td>\n",
              "      <td>0</td>\n",
              "      <td>174953</td>\n",
              "      <td>9.0</td>\n",
              "    </tr>\n",
              "    <tr>\n",
              "      <th>3</th>\n",
              "      <td>0000c4548c3944c08972bbdc1fa4eb85</td>\n",
              "      <td>0</td>\n",
              "      <td>176171</td>\n",
              "      <td>3.0</td>\n",
              "    </tr>\n",
              "    <tr>\n",
              "      <th>4</th>\n",
              "      <td>0000c4548c3944c08972bbdc1fa4eb85</td>\n",
              "      <td>0</td>\n",
              "      <td>182445</td>\n",
              "      <td>6.0</td>\n",
              "    </tr>\n",
              "    <tr>\n",
              "      <th>...</th>\n",
              "      <td>...</td>\n",
              "      <td>...</td>\n",
              "      <td>...</td>\n",
              "      <td>...</td>\n",
              "    </tr>\n",
              "    <tr>\n",
              "      <th>3409002</th>\n",
              "      <td>ffffd6d4f2134dd6aa80ff71e942b508</td>\n",
              "      <td>208237</td>\n",
              "      <td>171308</td>\n",
              "      <td>3.0</td>\n",
              "    </tr>\n",
              "    <tr>\n",
              "      <th>3409003</th>\n",
              "      <td>ffffd6d4f2134dd6aa80ff71e942b508</td>\n",
              "      <td>208237</td>\n",
              "      <td>197828</td>\n",
              "      <td>7.0</td>\n",
              "    </tr>\n",
              "    <tr>\n",
              "      <th>3409004</th>\n",
              "      <td>ffffd6d4f2134dd6aa80ff71e942b508</td>\n",
              "      <td>208237</td>\n",
              "      <td>225522</td>\n",
              "      <td>9.0</td>\n",
              "    </tr>\n",
              "    <tr>\n",
              "      <th>3409005</th>\n",
              "      <td>ffffd6d4f2134dd6aa80ff71e942b508</td>\n",
              "      <td>208237</td>\n",
              "      <td>230870</td>\n",
              "      <td>4.0</td>\n",
              "    </tr>\n",
              "    <tr>\n",
              "      <th>3409006</th>\n",
              "      <td>ffffd6d4f2134dd6aa80ff71e942b508</td>\n",
              "      <td>208237</td>\n",
              "      <td>233452</td>\n",
              "      <td>4.0</td>\n",
              "    </tr>\n",
              "  </tbody>\n",
              "</table>\n",
              "<p>3409007 rows × 4 columns</p>\n",
              "</div>\n",
              "      <button class=\"colab-df-convert\" onclick=\"convertToInteractive('df-fd6c9353-5b69-4c7e-8c55-d2dd2337c461')\"\n",
              "              title=\"Convert this dataframe to an interactive table.\"\n",
              "              style=\"display:none;\">\n",
              "        \n",
              "  <svg xmlns=\"http://www.w3.org/2000/svg\" height=\"24px\"viewBox=\"0 0 24 24\"\n",
              "       width=\"24px\">\n",
              "    <path d=\"M0 0h24v24H0V0z\" fill=\"none\"/>\n",
              "    <path d=\"M18.56 5.44l.94 2.06.94-2.06 2.06-.94-2.06-.94-.94-2.06-.94 2.06-2.06.94zm-11 1L8.5 8.5l.94-2.06 2.06-.94-2.06-.94L8.5 2.5l-.94 2.06-2.06.94zm10 10l.94 2.06.94-2.06 2.06-.94-2.06-.94-.94-2.06-.94 2.06-2.06.94z\"/><path d=\"M17.41 7.96l-1.37-1.37c-.4-.4-.92-.59-1.43-.59-.52 0-1.04.2-1.43.59L10.3 9.45l-7.72 7.72c-.78.78-.78 2.05 0 2.83L4 21.41c.39.39.9.59 1.41.59.51 0 1.02-.2 1.41-.59l7.78-7.78 2.81-2.81c.8-.78.8-2.07 0-2.86zM5.41 20L4 18.59l7.72-7.72 1.47 1.35L5.41 20z\"/>\n",
              "  </svg>\n",
              "      </button>\n",
              "      \n",
              "  <style>\n",
              "    .colab-df-container {\n",
              "      display:flex;\n",
              "      flex-wrap:wrap;\n",
              "      gap: 12px;\n",
              "    }\n",
              "\n",
              "    .colab-df-convert {\n",
              "      background-color: #E8F0FE;\n",
              "      border: none;\n",
              "      border-radius: 50%;\n",
              "      cursor: pointer;\n",
              "      display: none;\n",
              "      fill: #1967D2;\n",
              "      height: 32px;\n",
              "      padding: 0 0 0 0;\n",
              "      width: 32px;\n",
              "    }\n",
              "\n",
              "    .colab-df-convert:hover {\n",
              "      background-color: #E2EBFA;\n",
              "      box-shadow: 0px 1px 2px rgba(60, 64, 67, 0.3), 0px 1px 3px 1px rgba(60, 64, 67, 0.15);\n",
              "      fill: #174EA6;\n",
              "    }\n",
              "\n",
              "    [theme=dark] .colab-df-convert {\n",
              "      background-color: #3B4455;\n",
              "      fill: #D2E3FC;\n",
              "    }\n",
              "\n",
              "    [theme=dark] .colab-df-convert:hover {\n",
              "      background-color: #434B5C;\n",
              "      box-shadow: 0px 1px 3px 1px rgba(0, 0, 0, 0.15);\n",
              "      filter: drop-shadow(0px 1px 2px rgba(0, 0, 0, 0.3));\n",
              "      fill: #FFFFFF;\n",
              "    }\n",
              "  </style>\n",
              "\n",
              "      <script>\n",
              "        const buttonEl =\n",
              "          document.querySelector('#df-fd6c9353-5b69-4c7e-8c55-d2dd2337c461 button.colab-df-convert');\n",
              "        buttonEl.style.display =\n",
              "          google.colab.kernel.accessAllowed ? 'block' : 'none';\n",
              "\n",
              "        async function convertToInteractive(key) {\n",
              "          const element = document.querySelector('#df-fd6c9353-5b69-4c7e-8c55-d2dd2337c461');\n",
              "          const dataTable =\n",
              "            await google.colab.kernel.invokeFunction('convertToInteractive',\n",
              "                                                     [key], {});\n",
              "          if (!dataTable) return;\n",
              "\n",
              "          const docLinkHtml = 'Like what you see? Visit the ' +\n",
              "            '<a target=\"_blank\" href=https://colab.research.google.com/notebooks/data_table.ipynb>data table notebook</a>'\n",
              "            + ' to learn more about interactive tables.';\n",
              "          element.innerHTML = '';\n",
              "          dataTable['output_type'] = 'display_data';\n",
              "          await google.colab.output.renderOutput(dataTable, element);\n",
              "          const docLink = document.createElement('div');\n",
              "          docLink.innerHTML = docLinkHtml;\n",
              "          element.appendChild(docLink);\n",
              "        }\n",
              "      </script>\n",
              "    </div>\n",
              "  </div>\n",
              "  "
            ]
          },
          "metadata": {},
          "execution_count": 29
        }
      ]
    },
    {
      "cell_type": "code",
      "source": [
        "print(cookie_to_code['ffffd6d4f2134dd6aa80ff71e942b508'])"
      ],
      "metadata": {
        "colab": {
          "base_uri": "https://localhost:8080/"
        },
        "id": "IyTNzipJ_nwg",
        "outputId": "dd0aca0f-3466-4a91-bd65-67901aaf6ba4"
      },
      "execution_count": 30,
      "outputs": [
        {
          "output_type": "stream",
          "name": "stdout",
          "text": [
            "208237\n"
          ]
        }
      ]
    },
    {
      "cell_type": "markdown",
      "source": [
        "Другой способ через dataFrame пока заморозим"
      ],
      "metadata": {
        "id": "F1wiTzDL88Im"
      }
    },
    {
      "cell_type": "code",
      "execution_count": 31,
      "metadata": {
        "id": "eBCs5UEUQr3b"
      },
      "outputs": [],
      "source": [
        "cookie_dic_df = grouped_df.drop(columns = ['vacancy_id_','eventStrength'])"
      ]
    },
    {
      "cell_type": "code",
      "source": [
        "cookie_dic_df.drop_duplicates(inplace=True)"
      ],
      "metadata": {
        "id": "WjcsLmBEzhAs"
      },
      "execution_count": 32,
      "outputs": []
    },
    {
      "cell_type": "code",
      "execution_count": null,
      "metadata": {
        "colab": {
          "base_uri": "https://localhost:8080/",
          "height": 206
        },
        "id": "a4Rag09nQr3b",
        "outputId": "d506fd32-97fd-44d8-8043-2f9885f2a59a"
      },
      "outputs": [
        {
          "output_type": "execute_result",
          "data": {
            "text/plain": [
              "                           cookie_id  cookie_id_num\n",
              "0   0000c4548c3944c08972bbdc1fa4eb85              0\n",
              "6   0000d7508334414ca792c5ff66eb8c14              1\n",
              "18  0000e63f423542fe8090575b611cea4d              2\n",
              "26  00013bf3e58244b48d4dbdf43543c30c              3\n",
              "32  00015019b0594984afc3fd9fa9557490              4"
            ],
            "text/html": [
              "\n",
              "  <div id=\"df-5a1655fc-66b7-4447-b6e6-c76471812edf\">\n",
              "    <div class=\"colab-df-container\">\n",
              "      <div>\n",
              "<style scoped>\n",
              "    .dataframe tbody tr th:only-of-type {\n",
              "        vertical-align: middle;\n",
              "    }\n",
              "\n",
              "    .dataframe tbody tr th {\n",
              "        vertical-align: top;\n",
              "    }\n",
              "\n",
              "    .dataframe thead th {\n",
              "        text-align: right;\n",
              "    }\n",
              "</style>\n",
              "<table border=\"1\" class=\"dataframe\">\n",
              "  <thead>\n",
              "    <tr style=\"text-align: right;\">\n",
              "      <th></th>\n",
              "      <th>cookie_id</th>\n",
              "      <th>cookie_id_num</th>\n",
              "    </tr>\n",
              "  </thead>\n",
              "  <tbody>\n",
              "    <tr>\n",
              "      <th>0</th>\n",
              "      <td>0000c4548c3944c08972bbdc1fa4eb85</td>\n",
              "      <td>0</td>\n",
              "    </tr>\n",
              "    <tr>\n",
              "      <th>6</th>\n",
              "      <td>0000d7508334414ca792c5ff66eb8c14</td>\n",
              "      <td>1</td>\n",
              "    </tr>\n",
              "    <tr>\n",
              "      <th>18</th>\n",
              "      <td>0000e63f423542fe8090575b611cea4d</td>\n",
              "      <td>2</td>\n",
              "    </tr>\n",
              "    <tr>\n",
              "      <th>26</th>\n",
              "      <td>00013bf3e58244b48d4dbdf43543c30c</td>\n",
              "      <td>3</td>\n",
              "    </tr>\n",
              "    <tr>\n",
              "      <th>32</th>\n",
              "      <td>00015019b0594984afc3fd9fa9557490</td>\n",
              "      <td>4</td>\n",
              "    </tr>\n",
              "  </tbody>\n",
              "</table>\n",
              "</div>\n",
              "      <button class=\"colab-df-convert\" onclick=\"convertToInteractive('df-5a1655fc-66b7-4447-b6e6-c76471812edf')\"\n",
              "              title=\"Convert this dataframe to an interactive table.\"\n",
              "              style=\"display:none;\">\n",
              "        \n",
              "  <svg xmlns=\"http://www.w3.org/2000/svg\" height=\"24px\"viewBox=\"0 0 24 24\"\n",
              "       width=\"24px\">\n",
              "    <path d=\"M0 0h24v24H0V0z\" fill=\"none\"/>\n",
              "    <path d=\"M18.56 5.44l.94 2.06.94-2.06 2.06-.94-2.06-.94-.94-2.06-.94 2.06-2.06.94zm-11 1L8.5 8.5l.94-2.06 2.06-.94-2.06-.94L8.5 2.5l-.94 2.06-2.06.94zm10 10l.94 2.06.94-2.06 2.06-.94-2.06-.94-.94-2.06-.94 2.06-2.06.94z\"/><path d=\"M17.41 7.96l-1.37-1.37c-.4-.4-.92-.59-1.43-.59-.52 0-1.04.2-1.43.59L10.3 9.45l-7.72 7.72c-.78.78-.78 2.05 0 2.83L4 21.41c.39.39.9.59 1.41.59.51 0 1.02-.2 1.41-.59l7.78-7.78 2.81-2.81c.8-.78.8-2.07 0-2.86zM5.41 20L4 18.59l7.72-7.72 1.47 1.35L5.41 20z\"/>\n",
              "  </svg>\n",
              "      </button>\n",
              "      \n",
              "  <style>\n",
              "    .colab-df-container {\n",
              "      display:flex;\n",
              "      flex-wrap:wrap;\n",
              "      gap: 12px;\n",
              "    }\n",
              "\n",
              "    .colab-df-convert {\n",
              "      background-color: #E8F0FE;\n",
              "      border: none;\n",
              "      border-radius: 50%;\n",
              "      cursor: pointer;\n",
              "      display: none;\n",
              "      fill: #1967D2;\n",
              "      height: 32px;\n",
              "      padding: 0 0 0 0;\n",
              "      width: 32px;\n",
              "    }\n",
              "\n",
              "    .colab-df-convert:hover {\n",
              "      background-color: #E2EBFA;\n",
              "      box-shadow: 0px 1px 2px rgba(60, 64, 67, 0.3), 0px 1px 3px 1px rgba(60, 64, 67, 0.15);\n",
              "      fill: #174EA6;\n",
              "    }\n",
              "\n",
              "    [theme=dark] .colab-df-convert {\n",
              "      background-color: #3B4455;\n",
              "      fill: #D2E3FC;\n",
              "    }\n",
              "\n",
              "    [theme=dark] .colab-df-convert:hover {\n",
              "      background-color: #434B5C;\n",
              "      box-shadow: 0px 1px 3px 1px rgba(0, 0, 0, 0.15);\n",
              "      filter: drop-shadow(0px 1px 2px rgba(0, 0, 0, 0.3));\n",
              "      fill: #FFFFFF;\n",
              "    }\n",
              "  </style>\n",
              "\n",
              "      <script>\n",
              "        const buttonEl =\n",
              "          document.querySelector('#df-5a1655fc-66b7-4447-b6e6-c76471812edf button.colab-df-convert');\n",
              "        buttonEl.style.display =\n",
              "          google.colab.kernel.accessAllowed ? 'block' : 'none';\n",
              "\n",
              "        async function convertToInteractive(key) {\n",
              "          const element = document.querySelector('#df-5a1655fc-66b7-4447-b6e6-c76471812edf');\n",
              "          const dataTable =\n",
              "            await google.colab.kernel.invokeFunction('convertToInteractive',\n",
              "                                                     [key], {});\n",
              "          if (!dataTable) return;\n",
              "\n",
              "          const docLinkHtml = 'Like what you see? Visit the ' +\n",
              "            '<a target=\"_blank\" href=https://colab.research.google.com/notebooks/data_table.ipynb>data table notebook</a>'\n",
              "            + ' to learn more about interactive tables.';\n",
              "          element.innerHTML = '';\n",
              "          dataTable['output_type'] = 'display_data';\n",
              "          await google.colab.output.renderOutput(dataTable, element);\n",
              "          const docLink = document.createElement('div');\n",
              "          docLink.innerHTML = docLinkHtml;\n",
              "          element.appendChild(docLink);\n",
              "        }\n",
              "      </script>\n",
              "    </div>\n",
              "  </div>\n",
              "  "
            ]
          },
          "metadata": {},
          "execution_count": 42
        }
      ],
      "source": [
        "# вот у нас и справочник потом будем его мержить\n",
        "cookie_dic_df.head()"
      ]
    },
    {
      "cell_type": "code",
      "source": [
        "# проверим наш предыдущий метод и попробуем на cookie_dic_df крутить туда и сюда код в номер и обратно\n",
        "cookie_dic_df['cookie_id_back'] = cookie_dic_df['cookie_id_num'].map(cookie_dic)"
      ],
      "metadata": {
        "id": "MC8dnGIV9uqG"
      },
      "execution_count": 33,
      "outputs": []
    },
    {
      "cell_type": "code",
      "source": [
        "cookie_dic_df['cookie_id_to_code'] = cookie_dic_df['cookie_id'].map(cookie_to_code)"
      ],
      "metadata": {
        "id": "QQ2iBEA0A28P"
      },
      "execution_count": 34,
      "outputs": []
    },
    {
      "cell_type": "code",
      "source": [
        "# проверка пройдена\n",
        "cookie_dic_df.head()"
      ],
      "metadata": {
        "colab": {
          "base_uri": "https://localhost:8080/",
          "height": 206
        },
        "id": "13dFJWDv-HU2",
        "outputId": "abfd5707-3810-40b4-e2f8-576f32391a5a"
      },
      "execution_count": 35,
      "outputs": [
        {
          "output_type": "execute_result",
          "data": {
            "text/plain": [
              "                           cookie_id  cookie_id_num  \\\n",
              "0   0000c4548c3944c08972bbdc1fa4eb85              0   \n",
              "6   0000e63f423542fe8090575b611cea4d              1   \n",
              "14  00015019b0594984afc3fd9fa9557490              2   \n",
              "36  0001a23eb7fa4b1db1e933484b03e668              3   \n",
              "81  00028e0b0d474748ac5a83688a4f8896              4   \n",
              "\n",
              "                      cookie_id_back cookie_id_to_code  \n",
              "0   0000c4548c3944c08972bbdc1fa4eb85                 0  \n",
              "6   0000e63f423542fe8090575b611cea4d                 1  \n",
              "14  00015019b0594984afc3fd9fa9557490                 2  \n",
              "36  0001a23eb7fa4b1db1e933484b03e668                 3  \n",
              "81  00028e0b0d474748ac5a83688a4f8896                 4  "
            ],
            "text/html": [
              "\n",
              "  <div id=\"df-5dc90f24-91db-4aaa-bbf1-a604d2cdea1d\">\n",
              "    <div class=\"colab-df-container\">\n",
              "      <div>\n",
              "<style scoped>\n",
              "    .dataframe tbody tr th:only-of-type {\n",
              "        vertical-align: middle;\n",
              "    }\n",
              "\n",
              "    .dataframe tbody tr th {\n",
              "        vertical-align: top;\n",
              "    }\n",
              "\n",
              "    .dataframe thead th {\n",
              "        text-align: right;\n",
              "    }\n",
              "</style>\n",
              "<table border=\"1\" class=\"dataframe\">\n",
              "  <thead>\n",
              "    <tr style=\"text-align: right;\">\n",
              "      <th></th>\n",
              "      <th>cookie_id</th>\n",
              "      <th>cookie_id_num</th>\n",
              "      <th>cookie_id_back</th>\n",
              "      <th>cookie_id_to_code</th>\n",
              "    </tr>\n",
              "  </thead>\n",
              "  <tbody>\n",
              "    <tr>\n",
              "      <th>0</th>\n",
              "      <td>0000c4548c3944c08972bbdc1fa4eb85</td>\n",
              "      <td>0</td>\n",
              "      <td>0000c4548c3944c08972bbdc1fa4eb85</td>\n",
              "      <td>0</td>\n",
              "    </tr>\n",
              "    <tr>\n",
              "      <th>6</th>\n",
              "      <td>0000e63f423542fe8090575b611cea4d</td>\n",
              "      <td>1</td>\n",
              "      <td>0000e63f423542fe8090575b611cea4d</td>\n",
              "      <td>1</td>\n",
              "    </tr>\n",
              "    <tr>\n",
              "      <th>14</th>\n",
              "      <td>00015019b0594984afc3fd9fa9557490</td>\n",
              "      <td>2</td>\n",
              "      <td>00015019b0594984afc3fd9fa9557490</td>\n",
              "      <td>2</td>\n",
              "    </tr>\n",
              "    <tr>\n",
              "      <th>36</th>\n",
              "      <td>0001a23eb7fa4b1db1e933484b03e668</td>\n",
              "      <td>3</td>\n",
              "      <td>0001a23eb7fa4b1db1e933484b03e668</td>\n",
              "      <td>3</td>\n",
              "    </tr>\n",
              "    <tr>\n",
              "      <th>81</th>\n",
              "      <td>00028e0b0d474748ac5a83688a4f8896</td>\n",
              "      <td>4</td>\n",
              "      <td>00028e0b0d474748ac5a83688a4f8896</td>\n",
              "      <td>4</td>\n",
              "    </tr>\n",
              "  </tbody>\n",
              "</table>\n",
              "</div>\n",
              "      <button class=\"colab-df-convert\" onclick=\"convertToInteractive('df-5dc90f24-91db-4aaa-bbf1-a604d2cdea1d')\"\n",
              "              title=\"Convert this dataframe to an interactive table.\"\n",
              "              style=\"display:none;\">\n",
              "        \n",
              "  <svg xmlns=\"http://www.w3.org/2000/svg\" height=\"24px\"viewBox=\"0 0 24 24\"\n",
              "       width=\"24px\">\n",
              "    <path d=\"M0 0h24v24H0V0z\" fill=\"none\"/>\n",
              "    <path d=\"M18.56 5.44l.94 2.06.94-2.06 2.06-.94-2.06-.94-.94-2.06-.94 2.06-2.06.94zm-11 1L8.5 8.5l.94-2.06 2.06-.94-2.06-.94L8.5 2.5l-.94 2.06-2.06.94zm10 10l.94 2.06.94-2.06 2.06-.94-2.06-.94-.94-2.06-.94 2.06-2.06.94z\"/><path d=\"M17.41 7.96l-1.37-1.37c-.4-.4-.92-.59-1.43-.59-.52 0-1.04.2-1.43.59L10.3 9.45l-7.72 7.72c-.78.78-.78 2.05 0 2.83L4 21.41c.39.39.9.59 1.41.59.51 0 1.02-.2 1.41-.59l7.78-7.78 2.81-2.81c.8-.78.8-2.07 0-2.86zM5.41 20L4 18.59l7.72-7.72 1.47 1.35L5.41 20z\"/>\n",
              "  </svg>\n",
              "      </button>\n",
              "      \n",
              "  <style>\n",
              "    .colab-df-container {\n",
              "      display:flex;\n",
              "      flex-wrap:wrap;\n",
              "      gap: 12px;\n",
              "    }\n",
              "\n",
              "    .colab-df-convert {\n",
              "      background-color: #E8F0FE;\n",
              "      border: none;\n",
              "      border-radius: 50%;\n",
              "      cursor: pointer;\n",
              "      display: none;\n",
              "      fill: #1967D2;\n",
              "      height: 32px;\n",
              "      padding: 0 0 0 0;\n",
              "      width: 32px;\n",
              "    }\n",
              "\n",
              "    .colab-df-convert:hover {\n",
              "      background-color: #E2EBFA;\n",
              "      box-shadow: 0px 1px 2px rgba(60, 64, 67, 0.3), 0px 1px 3px 1px rgba(60, 64, 67, 0.15);\n",
              "      fill: #174EA6;\n",
              "    }\n",
              "\n",
              "    [theme=dark] .colab-df-convert {\n",
              "      background-color: #3B4455;\n",
              "      fill: #D2E3FC;\n",
              "    }\n",
              "\n",
              "    [theme=dark] .colab-df-convert:hover {\n",
              "      background-color: #434B5C;\n",
              "      box-shadow: 0px 1px 3px 1px rgba(0, 0, 0, 0.15);\n",
              "      filter: drop-shadow(0px 1px 2px rgba(0, 0, 0, 0.3));\n",
              "      fill: #FFFFFF;\n",
              "    }\n",
              "  </style>\n",
              "\n",
              "      <script>\n",
              "        const buttonEl =\n",
              "          document.querySelector('#df-5dc90f24-91db-4aaa-bbf1-a604d2cdea1d button.colab-df-convert');\n",
              "        buttonEl.style.display =\n",
              "          google.colab.kernel.accessAllowed ? 'block' : 'none';\n",
              "\n",
              "        async function convertToInteractive(key) {\n",
              "          const element = document.querySelector('#df-5dc90f24-91db-4aaa-bbf1-a604d2cdea1d');\n",
              "          const dataTable =\n",
              "            await google.colab.kernel.invokeFunction('convertToInteractive',\n",
              "                                                     [key], {});\n",
              "          if (!dataTable) return;\n",
              "\n",
              "          const docLinkHtml = 'Like what you see? Visit the ' +\n",
              "            '<a target=\"_blank\" href=https://colab.research.google.com/notebooks/data_table.ipynb>data table notebook</a>'\n",
              "            + ' to learn more about interactive tables.';\n",
              "          element.innerHTML = '';\n",
              "          dataTable['output_type'] = 'display_data';\n",
              "          await google.colab.output.renderOutput(dataTable, element);\n",
              "          const docLink = document.createElement('div');\n",
              "          docLink.innerHTML = docLinkHtml;\n",
              "          element.appendChild(docLink);\n",
              "        }\n",
              "      </script>\n",
              "    </div>\n",
              "  </div>\n",
              "  "
            ]
          },
          "metadata": {},
          "execution_count": 35
        }
      ]
    },
    {
      "cell_type": "code",
      "source": [
        "data['cookie_id_num'].head(5)\n",
        "data\n"
      ],
      "metadata": {
        "colab": {
          "base_uri": "https://localhost:8080/",
          "height": 423
        },
        "id": "qtM8l7qw1rGU",
        "outputId": "676cdc5b-8e43-47b5-92af-ba8103b257fb"
      },
      "execution_count": null,
      "outputs": [
        {
          "output_type": "execute_result",
          "data": {
            "text/plain": [
              "         cookie_id_num  vacancy_id_  eventStrength\n",
              "0                    0       137659            3.0\n",
              "1                    0       153975            3.0\n",
              "2                    0       174953            9.0\n",
              "3                    0       176171            3.0\n",
              "4                    0       182445            6.0\n",
              "...                ...          ...            ...\n",
              "4669630         330179       107125            7.0\n",
              "4669631         330179       107893           10.0\n",
              "4669632         330179       150843           10.0\n",
              "4669633         330179       160164           10.0\n",
              "4669634         330179       185412            7.0\n",
              "\n",
              "[4669635 rows x 3 columns]"
            ],
            "text/html": [
              "\n",
              "  <div id=\"df-a4c788f3-bb34-47d8-ad6c-bdfa9dd6c43c\">\n",
              "    <div class=\"colab-df-container\">\n",
              "      <div>\n",
              "<style scoped>\n",
              "    .dataframe tbody tr th:only-of-type {\n",
              "        vertical-align: middle;\n",
              "    }\n",
              "\n",
              "    .dataframe tbody tr th {\n",
              "        vertical-align: top;\n",
              "    }\n",
              "\n",
              "    .dataframe thead th {\n",
              "        text-align: right;\n",
              "    }\n",
              "</style>\n",
              "<table border=\"1\" class=\"dataframe\">\n",
              "  <thead>\n",
              "    <tr style=\"text-align: right;\">\n",
              "      <th></th>\n",
              "      <th>cookie_id_num</th>\n",
              "      <th>vacancy_id_</th>\n",
              "      <th>eventStrength</th>\n",
              "    </tr>\n",
              "  </thead>\n",
              "  <tbody>\n",
              "    <tr>\n",
              "      <th>0</th>\n",
              "      <td>0</td>\n",
              "      <td>137659</td>\n",
              "      <td>3.0</td>\n",
              "    </tr>\n",
              "    <tr>\n",
              "      <th>1</th>\n",
              "      <td>0</td>\n",
              "      <td>153975</td>\n",
              "      <td>3.0</td>\n",
              "    </tr>\n",
              "    <tr>\n",
              "      <th>2</th>\n",
              "      <td>0</td>\n",
              "      <td>174953</td>\n",
              "      <td>9.0</td>\n",
              "    </tr>\n",
              "    <tr>\n",
              "      <th>3</th>\n",
              "      <td>0</td>\n",
              "      <td>176171</td>\n",
              "      <td>3.0</td>\n",
              "    </tr>\n",
              "    <tr>\n",
              "      <th>4</th>\n",
              "      <td>0</td>\n",
              "      <td>182445</td>\n",
              "      <td>6.0</td>\n",
              "    </tr>\n",
              "    <tr>\n",
              "      <th>...</th>\n",
              "      <td>...</td>\n",
              "      <td>...</td>\n",
              "      <td>...</td>\n",
              "    </tr>\n",
              "    <tr>\n",
              "      <th>4669630</th>\n",
              "      <td>330179</td>\n",
              "      <td>107125</td>\n",
              "      <td>7.0</td>\n",
              "    </tr>\n",
              "    <tr>\n",
              "      <th>4669631</th>\n",
              "      <td>330179</td>\n",
              "      <td>107893</td>\n",
              "      <td>10.0</td>\n",
              "    </tr>\n",
              "    <tr>\n",
              "      <th>4669632</th>\n",
              "      <td>330179</td>\n",
              "      <td>150843</td>\n",
              "      <td>10.0</td>\n",
              "    </tr>\n",
              "    <tr>\n",
              "      <th>4669633</th>\n",
              "      <td>330179</td>\n",
              "      <td>160164</td>\n",
              "      <td>10.0</td>\n",
              "    </tr>\n",
              "    <tr>\n",
              "      <th>4669634</th>\n",
              "      <td>330179</td>\n",
              "      <td>185412</td>\n",
              "      <td>7.0</td>\n",
              "    </tr>\n",
              "  </tbody>\n",
              "</table>\n",
              "<p>4669635 rows × 3 columns</p>\n",
              "</div>\n",
              "      <button class=\"colab-df-convert\" onclick=\"convertToInteractive('df-a4c788f3-bb34-47d8-ad6c-bdfa9dd6c43c')\"\n",
              "              title=\"Convert this dataframe to an interactive table.\"\n",
              "              style=\"display:none;\">\n",
              "        \n",
              "  <svg xmlns=\"http://www.w3.org/2000/svg\" height=\"24px\"viewBox=\"0 0 24 24\"\n",
              "       width=\"24px\">\n",
              "    <path d=\"M0 0h24v24H0V0z\" fill=\"none\"/>\n",
              "    <path d=\"M18.56 5.44l.94 2.06.94-2.06 2.06-.94-2.06-.94-.94-2.06-.94 2.06-2.06.94zm-11 1L8.5 8.5l.94-2.06 2.06-.94-2.06-.94L8.5 2.5l-.94 2.06-2.06.94zm10 10l.94 2.06.94-2.06 2.06-.94-2.06-.94-.94-2.06-.94 2.06-2.06.94z\"/><path d=\"M17.41 7.96l-1.37-1.37c-.4-.4-.92-.59-1.43-.59-.52 0-1.04.2-1.43.59L10.3 9.45l-7.72 7.72c-.78.78-.78 2.05 0 2.83L4 21.41c.39.39.9.59 1.41.59.51 0 1.02-.2 1.41-.59l7.78-7.78 2.81-2.81c.8-.78.8-2.07 0-2.86zM5.41 20L4 18.59l7.72-7.72 1.47 1.35L5.41 20z\"/>\n",
              "  </svg>\n",
              "      </button>\n",
              "      \n",
              "  <style>\n",
              "    .colab-df-container {\n",
              "      display:flex;\n",
              "      flex-wrap:wrap;\n",
              "      gap: 12px;\n",
              "    }\n",
              "\n",
              "    .colab-df-convert {\n",
              "      background-color: #E8F0FE;\n",
              "      border: none;\n",
              "      border-radius: 50%;\n",
              "      cursor: pointer;\n",
              "      display: none;\n",
              "      fill: #1967D2;\n",
              "      height: 32px;\n",
              "      padding: 0 0 0 0;\n",
              "      width: 32px;\n",
              "    }\n",
              "\n",
              "    .colab-df-convert:hover {\n",
              "      background-color: #E2EBFA;\n",
              "      box-shadow: 0px 1px 2px rgba(60, 64, 67, 0.3), 0px 1px 3px 1px rgba(60, 64, 67, 0.15);\n",
              "      fill: #174EA6;\n",
              "    }\n",
              "\n",
              "    [theme=dark] .colab-df-convert {\n",
              "      background-color: #3B4455;\n",
              "      fill: #D2E3FC;\n",
              "    }\n",
              "\n",
              "    [theme=dark] .colab-df-convert:hover {\n",
              "      background-color: #434B5C;\n",
              "      box-shadow: 0px 1px 3px 1px rgba(0, 0, 0, 0.15);\n",
              "      filter: drop-shadow(0px 1px 2px rgba(0, 0, 0, 0.3));\n",
              "      fill: #FFFFFF;\n",
              "    }\n",
              "  </style>\n",
              "\n",
              "      <script>\n",
              "        const buttonEl =\n",
              "          document.querySelector('#df-a4c788f3-bb34-47d8-ad6c-bdfa9dd6c43c button.colab-df-convert');\n",
              "        buttonEl.style.display =\n",
              "          google.colab.kernel.accessAllowed ? 'block' : 'none';\n",
              "\n",
              "        async function convertToInteractive(key) {\n",
              "          const element = document.querySelector('#df-a4c788f3-bb34-47d8-ad6c-bdfa9dd6c43c');\n",
              "          const dataTable =\n",
              "            await google.colab.kernel.invokeFunction('convertToInteractive',\n",
              "                                                     [key], {});\n",
              "          if (!dataTable) return;\n",
              "\n",
              "          const docLinkHtml = 'Like what you see? Visit the ' +\n",
              "            '<a target=\"_blank\" href=https://colab.research.google.com/notebooks/data_table.ipynb>data table notebook</a>'\n",
              "            + ' to learn more about interactive tables.';\n",
              "          element.innerHTML = '';\n",
              "          dataTable['output_type'] = 'display_data';\n",
              "          await google.colab.output.renderOutput(dataTable, element);\n",
              "          const docLink = document.createElement('div');\n",
              "          docLink.innerHTML = docLinkHtml;\n",
              "          element.appendChild(docLink);\n",
              "        }\n",
              "      </script>\n",
              "    </div>\n",
              "  </div>\n",
              "  "
            ]
          },
          "metadata": {},
          "execution_count": 100
        }
      ]
    },
    {
      "cell_type": "markdown",
      "metadata": {
        "id": "Jc0UVS5ZQr3b"
      },
      "source": [
        "Создание разряженных матриц\n",
        "\n",
        "---"
      ]
    },
    {
      "cell_type": "code",
      "execution_count": null,
      "metadata": {
        "id": "ySbcLLGIrTjL"
      },
      "outputs": [],
      "source": [
        "# вот это уже проверенный код но он работает на кодированных номерах и cookie и vacancy_id - мы его отставили в сторону\n",
        "\n",
        "# item/user spare matrix\n",
        "sparse_item_user = sparse.csr_matrix((grouped_df['eventStrength'].astype(float), (grouped_df['vacancy_id_num'], grouped_df['cookie_id_num'])))\n",
        "# user/item spare matrix\n",
        "sparse_user_item = sparse.csr_matrix((grouped_df['eventStrength'].astype(float), (grouped_df['cookie_id_num'], grouped_df['vacancy_id_num'])))"
      ]
    },
    {
      "cell_type": "code",
      "source": [
        "# а вот эта ячейка экспериментальный, главный ее смысл понять что базовые данные vacancy_id_ работают, мы провели эксперимент\n",
        "# и они работают сейчас это базовые матрицы\n",
        "\n",
        "# item/user spare matrix\n",
        "sparse_item_user = sparse.csr_matrix((data['eventStrength'].astype(float), (data['vacancy_id_'], data['cookie_id_num'])))\n",
        "# user/item spare matrix\n",
        "sparse_user_item = sparse.csr_matrix((data['eventStrength'].astype(float), (data['cookie_id_num'], data['vacancy_id_'])))"
      ],
      "metadata": {
        "id": "1zL0_0gl2UtW"
      },
      "execution_count": 36,
      "outputs": []
    },
    {
      "cell_type": "code",
      "source": [
        "# предыдущий код но с нормализацией\n",
        "\n",
        "# item/user spare matrix\n",
        "sparse_item_user = sparse.csr_matrix((data['eventStrength_norm'].astype(float), (data['vacancy_id_'], data['cookie_id_num'])))\n",
        "# user/item spare matrix\n",
        "sparse_user_item = sparse.csr_matrix((data['eventStrength_norm'].astype(float), (data['cookie_id_num'], data['vacancy_id_'])))"
      ],
      "metadata": {
        "id": "vuhKLTh2LXSF"
      },
      "execution_count": null,
      "outputs": []
    },
    {
      "cell_type": "code",
      "source": [
        "# проверим размерности\n",
        "sparse_item_user.shape\n",
        "# стоит обратить внимание на то что размерность вакансий 260 168 - это потому что первых 100000 вакансий нет\n",
        "# если бы мы кодировали - то размерность бы была 160 000 что то такое"
      ],
      "metadata": {
        "colab": {
          "base_uri": "https://localhost:8080/"
        },
        "id": "HKPUacSfph2b",
        "outputId": "a4d416f7-3de8-412c-b0db-a01069c96284"
      },
      "execution_count": 37,
      "outputs": [
        {
          "output_type": "execute_result",
          "data": {
            "text/plain": [
              "(260168, 208238)"
            ]
          },
          "metadata": {},
          "execution_count": 37
        }
      ]
    },
    {
      "cell_type": "code",
      "source": [
        "# и тут проверим\n",
        "sparse_user_item.shape"
      ],
      "metadata": {
        "colab": {
          "base_uri": "https://localhost:8080/"
        },
        "id": "UXC0MInXpoDW",
        "outputId": "dc4855a8-070e-4a6d-905c-3be3a9c3688e"
      },
      "execution_count": 38,
      "outputs": [
        {
          "output_type": "execute_result",
          "data": {
            "text/plain": [
              "(208238, 260168)"
            ]
          },
          "metadata": {},
          "execution_count": 38
        }
      ]
    },
    {
      "cell_type": "code",
      "source": [
        "# ну и посмотрим что там внутри\n",
        "print(sparse_user_item[0])"
      ],
      "metadata": {
        "colab": {
          "base_uri": "https://localhost:8080/"
        },
        "id": "PoDQvuzqqCwm",
        "outputId": "a9c50892-076b-4b2d-f0e7-999f3bd7de00"
      },
      "execution_count": 39,
      "outputs": [
        {
          "output_type": "stream",
          "name": "stdout",
          "text": [
            "  (0, 137659)\t3.0\n",
            "  (0, 153975)\t3.0\n",
            "  (0, 174953)\t9.0\n",
            "  (0, 176171)\t3.0\n",
            "  (0, 182445)\t6.0\n",
            "  (0, 187529)\t3.0\n"
          ]
        }
      ]
    },
    {
      "cell_type": "code",
      "source": [
        "# и тут тоже посмотрим\n",
        "print(sparse_item_user[137659])"
      ],
      "metadata": {
        "colab": {
          "base_uri": "https://localhost:8080/"
        },
        "id": "5hLFQbyvq9z2",
        "outputId": "32ac6416-39cb-446d-df6b-85a49b7c25b9"
      },
      "execution_count": 40,
      "outputs": [
        {
          "output_type": "stream",
          "name": "stdout",
          "text": [
            "  (0, 0)\t3.0\n",
            "  (0, 86)\t3.0\n",
            "  (0, 164)\t2.0\n",
            "  (0, 319)\t1.0\n",
            "  (0, 376)\t3.0\n",
            "  (0, 428)\t6.0\n",
            "  (0, 506)\t3.0\n",
            "  (0, 708)\t1.0\n",
            "  (0, 836)\t3.0\n",
            "  (0, 849)\t3.0\n",
            "  (0, 1061)\t1.0\n",
            "  (0, 1406)\t3.0\n",
            "  (0, 1412)\t3.0\n",
            "  (0, 1548)\t3.0\n",
            "  (0, 1728)\t3.0\n",
            "  (0, 1895)\t6.0\n",
            "  (0, 2054)\t3.0\n",
            "  (0, 2199)\t3.0\n",
            "  (0, 2483)\t2.0\n",
            "  (0, 2711)\t3.0\n",
            "  (0, 3060)\t3.0\n",
            "  (0, 3124)\t4.0\n",
            "  (0, 3191)\t3.0\n",
            "  (0, 3374)\t1.0\n",
            "  (0, 3469)\t3.0\n",
            "  :\t:\n",
            "  (0, 205146)\t3.0\n",
            "  (0, 205295)\t1.0\n",
            "  (0, 205316)\t3.0\n",
            "  (0, 205511)\t3.0\n",
            "  (0, 205616)\t1.0\n",
            "  (0, 205708)\t3.0\n",
            "  (0, 205728)\t1.0\n",
            "  (0, 205743)\t3.0\n",
            "  (0, 205938)\t3.0\n",
            "  (0, 206111)\t3.0\n",
            "  (0, 206241)\t3.0\n",
            "  (0, 206689)\t3.0\n",
            "  (0, 206825)\t3.0\n",
            "  (0, 206893)\t3.0\n",
            "  (0, 206895)\t3.0\n",
            "  (0, 206999)\t3.0\n",
            "  (0, 207005)\t3.0\n",
            "  (0, 207133)\t3.0\n",
            "  (0, 207359)\t3.0\n",
            "  (0, 207397)\t14.0\n",
            "  (0, 207431)\t3.0\n",
            "  (0, 207498)\t17.0\n",
            "  (0, 207528)\t3.0\n",
            "  (0, 208024)\t3.0\n",
            "  (0, 208232)\t10.0\n"
          ]
        }
      ]
    },
    {
      "cell_type": "markdown",
      "metadata": {
        "id": "QLLdRhbEQr3c"
      },
      "source": [
        "# Обучение моделей\n",
        "Вот это третий исследовательский этап, мы должны много! очень много экспериментировать с:\n",
        " - factors = ?,\n",
        " - regularization = ?,\n",
        " - iterations = ?\n",
        "\n",
        "---"
      ]
    },
    {
      "cell_type": "code",
      "execution_count": 41,
      "metadata": {
        "id": "gCounVOSrTjM"
      },
      "outputs": [],
      "source": [
        "# Инициируем наши модели \n",
        "model_item = implicit.als.AlternatingLeastSquares(factors=50, regularization=0.1, iterations=50)"
      ]
    },
    {
      "cell_type": "code",
      "source": [
        "model_user = implicit.als.AlternatingLeastSquares(factors=50, regularization=0.1, iterations=50)"
      ],
      "metadata": {
        "id": "V8FjDsJGtgWP"
      },
      "execution_count": 42,
      "outputs": []
    },
    {
      "cell_type": "markdown",
      "source": [
        "Четвертый исследовательский блок связан с параметром альфа - он закомментирован в коде ниже. В тех статьях что я успел прочитать это чуть ли не главнй парметр, непонятно почему конечно, возможно он увеличивает и акцентирует отличие силе взаимодействия?, но тогда стоит задуматься нужна ли нам вообще нормализация? (в статьях встречались значения альфа в 15 и 50, надо пробовать)"
      ],
      "metadata": {
        "id": "7bboh57qMnZY"
      }
    },
    {
      "cell_type": "markdown",
      "source": [
        "Обучаем первую модель вакансия-пользователь (но мы ее скорее всего не будем использовать)"
      ],
      "metadata": {
        "id": "vqwG2R7nE8pV"
      }
    },
    {
      "cell_type": "code",
      "execution_count": 43,
      "metadata": {
        "id": "U7JaTAlZrTjN",
        "outputId": "fd11cd1b-e2b5-40fd-d6c3-b66614bcf199",
        "colab": {
          "base_uri": "https://localhost:8080/",
          "height": 49,
          "referenced_widgets": [
            "0893b0a27e3a4757b57db6b835a74bf8",
            "88784da80a554ac88f3b4ae426c7a8d2",
            "8d103194b3d74472be9e482a8c2e849e",
            "1341acde6ae44593a4918aef5aff1fd3",
            "aaa95ac0bcd9400cac5fcaef91ccd8a1",
            "7100190b24b74725aa676fc82e12ad0a",
            "b72bc0729d0d41c49c92b3da6b2c8cc8",
            "e361023a508a4d72be6146778845feaa",
            "41fb54498cf3450ea6f20c54ba4f5fd5",
            "dd68b69fc3544942934299ae22fdd1f2",
            "b5e12630412f46b6ab8af9f5db96575a"
          ]
        }
      },
      "outputs": [
        {
          "output_type": "display_data",
          "data": {
            "text/plain": [
              "  0%|          | 0/50 [00:00<?, ?it/s]"
            ],
            "application/vnd.jupyter.widget-view+json": {
              "version_major": 2,
              "version_minor": 0,
              "model_id": "0893b0a27e3a4757b57db6b835a74bf8"
            }
          },
          "metadata": {}
        }
      ],
      "source": [
        "# Вот эти параметры я подсмотрел, они не обязательные но наверное их лучше потом настраивать\n",
        "#alpha = 50\n",
        "#item_user_data = (sparse_item_user * alpha).astype('double')\n",
        "\n",
        "item_user_data = sparse_item_user\n",
        "# обучим модель на разряженной матрице  item/user/confidence weights - по русски вакансия/пользователь/веса заинтересованности\n",
        "model_item.fit(item_user_data)"
      ]
    },
    {
      "cell_type": "code",
      "source": [],
      "metadata": {
        "colab": {
          "base_uri": "https://localhost:8080/"
        },
        "id": "5tlURnTzy8sK",
        "outputId": "ad32141f-a912-43d2-ea2c-2c5ee6d47acc"
      },
      "execution_count": null,
      "outputs": [
        {
          "output_type": "execute_result",
          "data": {
            "text/plain": [
              "<260168x330180 sparse matrix of type '<class 'numpy.float64'>'\n",
              "\twith 4669635 stored elements in Compressed Sparse Row format>"
            ]
          },
          "metadata": {},
          "execution_count": 74
        }
      ]
    },
    {
      "cell_type": "markdown",
      "metadata": {
        "id": "Dq01uAzWQr3c"
      },
      "source": [
        "Обучаем первую модель пользователь - вакансия (вот ее в основном и принимают наши функции которые мы будем использовать)"
      ]
    },
    {
      "cell_type": "code",
      "source": [
        "# Вот эти параметры я подсмотрел, они не обязательные но наверное их лучше потом настраивать\n",
        "#alpha = 50\n",
        "#user_item_data = (sparse_user_item * alpha).astype('double')\n",
        "\n",
        "user_item_data = sparse_user_item\n",
        "# train the model on a sparse matrix of user/item confidence weights\n",
        "model_user.fit(user_item_data)"
      ],
      "metadata": {
        "colab": {
          "base_uri": "https://localhost:8080/",
          "height": 49,
          "referenced_widgets": [
            "983a3c1b4bd249979a61f53a272dfd27",
            "2206bf5a75a8438bb4e533a241fb3287",
            "a9b0ba2ed5ec4358b1d35facd55f31fd",
            "400206c2c83747629810329b27431aeb",
            "458215ee79654c0db2f81ea71722391d",
            "496ee0a82ed84ba08757381557f16760",
            "31660a95d0a54a85810a8a24c6bbda71",
            "ca8380b2a2d44ac5a8d2e01b9f4e3753",
            "780d3310061d4e21b5bb6f5868e7f80f",
            "c54bfea6465d4e748917347aa47ca6e5",
            "4e6c4de36403422f8d8f2a86529dea27"
          ]
        },
        "id": "3ciYenW7uFWu",
        "outputId": "e8aaab4a-6cb2-4fbe-fd30-736a8e6af072"
      },
      "execution_count": 44,
      "outputs": [
        {
          "output_type": "display_data",
          "data": {
            "text/plain": [
              "  0%|          | 0/50 [00:00<?, ?it/s]"
            ],
            "application/vnd.jupyter.widget-view+json": {
              "version_major": 2,
              "version_minor": 0,
              "model_id": "983a3c1b4bd249979a61f53a272dfd27"
            }
          },
          "metadata": {}
        }
      ]
    },
    {
      "cell_type": "markdown",
      "source": [
        "# Пробуем извечь пользу. То есть переходим к предсказаниям\n",
        "\n",
        "---\n",
        "(ниже собраны базовые функции библиотеки implicit)"
      ],
      "metadata": {
        "id": "UP2XKq3UwIW-"
      }
    },
    {
      "cell_type": "markdown",
      "source": [
        "## Создаем рекомендации для человека\n",
        "\n",
        "---"
      ],
      "metadata": {
        "id": "ozpEdIt-_wPn"
      }
    },
    {
      "cell_type": "markdown",
      "source": [
        "Функция : recommend( )\n",
        "\n",
        "Рекомендует элементы для пользователя\n",
        "Вычисляет N лучших рекомендаций для пользователя и возвращает список идентификаторов элементов, оценка.\n",
        "\n",
        "Параметры:\n",
        "\n",
        "- userid ( int ) — идентификатор пользователя для расчета рекомендаций для\n",
        "- user_items ( csr_matrix ) — разреженная матрица формы (number_users, number_items). Это позволяет нам искать понравившиеся предметы и их веса для пользователя. Это используется для фильтрации элементов, которые уже понравились, из выходных данных, а также для потенциального вычисления лучших элементов для этого пользователя.\n",
        "- N ( int , необязательный ) — количество возвращаемых результатов\n",
        "- filter_already_liked_items ( bool , необязательный ) — если установлено значение true, не возвращать элементы, присутствующие в обучающем наборе, которые были оценены указанным пользователем.\n",
        "- filter_items ( последовательность целых чисел , необязательный ) — список дополнительных идентификаторов элементов, которые нужно отфильтровать из вывода.\n",
        "- recalculate_user ( bool , необязательный ) — когда true, не полагайтесь на сохраненное состояние пользователя и вместо этого пересчитывайте из переданных в user_items\n",
        "\n",
        "Возвращает:\t\n",
        "Список кортежей (itemid, score)\n",
        "\n",
        "Тип возврата:\t\n",
        "список"
      ],
      "metadata": {
        "id": "S6ArZU5QC1_u"
      }
    },
    {
      "cell_type": "markdown",
      "source": [
        "Получим список рекомендаций для одного пользователя\n",
        "\n",
        "---"
      ],
      "metadata": {
        "id": "AJp6bBguFbuO"
      }
    },
    {
      "cell_type": "code",
      "source": [
        "# модель тренируется на sparse matrix of user/item/confidence weights - выполнено\n",
        "# model.fit(user_item_data) - выполнено\n",
        "\n",
        "# порекомендуем вакансии для одного пользователя из тех что он еще не видел\n",
        "userid = 0\n",
        "recommendations = model_user.recommend(userid, user_item_data[userid], N = 5 , filter_already_liked_items = True)\n",
        "print(recommendations) # уже отсортировано"
      ],
      "metadata": {
        "colab": {
          "base_uri": "https://localhost:8080/"
        },
        "id": "MonpM170wHHQ",
        "outputId": "ef49e77a-47ac-4ef7-9669-bddbad1bae61"
      },
      "execution_count": 45,
      "outputs": [
        {
          "output_type": "stream",
          "name": "stdout",
          "text": [
            "(array([116823, 182870, 169194, 207423, 158242], dtype=int32), array([0.43271327, 0.43194753, 0.3787542 , 0.30962843, 0.3051292 ],\n",
            "      dtype=float32))\n"
          ]
        }
      ]
    },
    {
      "cell_type": "code",
      "source": [
        "# или так мы можем сразу превращать их в список\n",
        "userid = 0\n",
        "ids, scores = model_user.recommend(userid, user_item_data[userid], N=5, filter_already_liked_items=True)\n",
        "print(list(ids))\n",
        "print(scores)"
      ],
      "metadata": {
        "colab": {
          "base_uri": "https://localhost:8080/"
        },
        "id": "gC2LP9piF0j-",
        "outputId": "db5dbfe4-c69c-4318-8bd8-6ea4d5dd91e7"
      },
      "execution_count": 46,
      "outputs": [
        {
          "output_type": "stream",
          "name": "stdout",
          "text": [
            "[116823, 182870, 169194, 207423, 158242]\n",
            "[0.43271327 0.43194753 0.3787542  0.30962843 0.3051292 ]\n"
          ]
        }
      ]
    },
    {
      "cell_type": "code",
      "source": [
        "# порекомендуем вакансии для одного пользователя из тех что он уже взаимодействовал\n",
        "userid = 0\n",
        "recommendations = model_user.recommend(userid, user_item_data[userid], N = 5, filter_already_liked_items = False)\n",
        "print(recommendations) # уже отсортировано"
      ],
      "metadata": {
        "colab": {
          "base_uri": "https://localhost:8080/"
        },
        "id": "_QA8XzLFD4Qe",
        "outputId": "f58fcddb-0265-4653-c16f-7678d9d15483"
      },
      "execution_count": null,
      "outputs": [
        {
          "output_type": "stream",
          "name": "stdout",
          "text": [
            "(array([174953, 116823, 182870, 169194, 162187], dtype=int32), array([0.70582664, 0.44180346, 0.4205275 , 0.37820446, 0.31708193],\n",
            "      dtype=float32))\n"
          ]
        }
      ]
    },
    {
      "cell_type": "markdown",
      "source": [
        "Получим списко рекомендаций для списка пользователей\n",
        "\n",
        "---"
      ],
      "metadata": {
        "id": "7aLeLGL-Fkv0"
      }
    },
    {
      "cell_type": "code",
      "source": [
        "# Такой код позволяет получать рекомендации для списка пользователей сразу!!!\n",
        "userids = np.arange(1000) # вот тут у нас список пользователей\n",
        "ids, scores = model_user.recommend(userids, user_item_data[userids], N=5, filter_already_liked_items=True)\n",
        "ids, ids.shape"
      ],
      "metadata": {
        "colab": {
          "base_uri": "https://localhost:8080/"
        },
        "id": "a6gnjm0-_4Hu",
        "outputId": "5e4389d0-2db4-4d6c-8784-6058f3d5c01c"
      },
      "execution_count": 47,
      "outputs": [
        {
          "output_type": "execute_result",
          "data": {
            "text/plain": [
              "(array([[116823, 182870, 169194, 207423, 158242],\n",
              "        [111505, 148714, 207423, 237341, 257631],\n",
              "        [113707, 153245, 148714, 258441, 116823],\n",
              "        ...,\n",
              "        [250327, 235614, 117897, 101396, 164236],\n",
              "        [230322, 230326, 200506, 221419, 195702],\n",
              "        [202608, 195702, 221419, 207108, 181745]], dtype=int32),\n",
              " (1000, 5))"
            ]
          },
          "metadata": {},
          "execution_count": 47
        }
      ]
    },
    {
      "cell_type": "code",
      "source": [
        "userids = np.arange(1000) # вот тут у нас список пользователей\n",
        "group_recommendations = model_user.recommend(userids, user_item_data[userids], N=5, filter_already_liked_items=True)\n"
      ],
      "metadata": {
        "id": "2pLSG-qZJYmP"
      },
      "execution_count": 48,
      "outputs": []
    },
    {
      "cell_type": "code",
      "source": [
        "# Вот тут нужно написать код который записывает данные в датафрейм\n",
        "result = pd.DataFrame({'пользователи' : userids, 'рекомендации' : list(ids)})"
      ],
      "metadata": {
        "id": "1VRU0zfjKf2d"
      },
      "execution_count": 49,
      "outputs": []
    },
    {
      "cell_type": "code",
      "source": [
        "result.head()"
      ],
      "metadata": {
        "colab": {
          "base_uri": "https://localhost:8080/",
          "height": 206
        },
        "id": "YxntZfYA6UCW",
        "outputId": "669b7506-3d94-41c1-bd6b-03abe7b8f928"
      },
      "execution_count": null,
      "outputs": [
        {
          "output_type": "execute_result",
          "data": {
            "text/plain": [
              "   пользователи                              рекомендации\n",
              "0             0  [116823, 182870, 169194, 162187, 180382]\n",
              "1             1  [217683, 260154, 163708, 210229, 115589]\n",
              "2             2  [148714, 112506, 258441, 110792, 113707]\n",
              "3             3  [242145, 153469, 126489, 197991, 207356]\n",
              "4             4  [113707, 153245, 148714, 149024, 116823]"
            ],
            "text/html": [
              "\n",
              "  <div id=\"df-3dcdbcc4-530f-47ce-bf92-576c455bac85\">\n",
              "    <div class=\"colab-df-container\">\n",
              "      <div>\n",
              "<style scoped>\n",
              "    .dataframe tbody tr th:only-of-type {\n",
              "        vertical-align: middle;\n",
              "    }\n",
              "\n",
              "    .dataframe tbody tr th {\n",
              "        vertical-align: top;\n",
              "    }\n",
              "\n",
              "    .dataframe thead th {\n",
              "        text-align: right;\n",
              "    }\n",
              "</style>\n",
              "<table border=\"1\" class=\"dataframe\">\n",
              "  <thead>\n",
              "    <tr style=\"text-align: right;\">\n",
              "      <th></th>\n",
              "      <th>пользователи</th>\n",
              "      <th>рекомендации</th>\n",
              "    </tr>\n",
              "  </thead>\n",
              "  <tbody>\n",
              "    <tr>\n",
              "      <th>0</th>\n",
              "      <td>0</td>\n",
              "      <td>[116823, 182870, 169194, 162187, 180382]</td>\n",
              "    </tr>\n",
              "    <tr>\n",
              "      <th>1</th>\n",
              "      <td>1</td>\n",
              "      <td>[217683, 260154, 163708, 210229, 115589]</td>\n",
              "    </tr>\n",
              "    <tr>\n",
              "      <th>2</th>\n",
              "      <td>2</td>\n",
              "      <td>[148714, 112506, 258441, 110792, 113707]</td>\n",
              "    </tr>\n",
              "    <tr>\n",
              "      <th>3</th>\n",
              "      <td>3</td>\n",
              "      <td>[242145, 153469, 126489, 197991, 207356]</td>\n",
              "    </tr>\n",
              "    <tr>\n",
              "      <th>4</th>\n",
              "      <td>4</td>\n",
              "      <td>[113707, 153245, 148714, 149024, 116823]</td>\n",
              "    </tr>\n",
              "  </tbody>\n",
              "</table>\n",
              "</div>\n",
              "      <button class=\"colab-df-convert\" onclick=\"convertToInteractive('df-3dcdbcc4-530f-47ce-bf92-576c455bac85')\"\n",
              "              title=\"Convert this dataframe to an interactive table.\"\n",
              "              style=\"display:none;\">\n",
              "        \n",
              "  <svg xmlns=\"http://www.w3.org/2000/svg\" height=\"24px\"viewBox=\"0 0 24 24\"\n",
              "       width=\"24px\">\n",
              "    <path d=\"M0 0h24v24H0V0z\" fill=\"none\"/>\n",
              "    <path d=\"M18.56 5.44l.94 2.06.94-2.06 2.06-.94-2.06-.94-.94-2.06-.94 2.06-2.06.94zm-11 1L8.5 8.5l.94-2.06 2.06-.94-2.06-.94L8.5 2.5l-.94 2.06-2.06.94zm10 10l.94 2.06.94-2.06 2.06-.94-2.06-.94-.94-2.06-.94 2.06-2.06.94z\"/><path d=\"M17.41 7.96l-1.37-1.37c-.4-.4-.92-.59-1.43-.59-.52 0-1.04.2-1.43.59L10.3 9.45l-7.72 7.72c-.78.78-.78 2.05 0 2.83L4 21.41c.39.39.9.59 1.41.59.51 0 1.02-.2 1.41-.59l7.78-7.78 2.81-2.81c.8-.78.8-2.07 0-2.86zM5.41 20L4 18.59l7.72-7.72 1.47 1.35L5.41 20z\"/>\n",
              "  </svg>\n",
              "      </button>\n",
              "      \n",
              "  <style>\n",
              "    .colab-df-container {\n",
              "      display:flex;\n",
              "      flex-wrap:wrap;\n",
              "      gap: 12px;\n",
              "    }\n",
              "\n",
              "    .colab-df-convert {\n",
              "      background-color: #E8F0FE;\n",
              "      border: none;\n",
              "      border-radius: 50%;\n",
              "      cursor: pointer;\n",
              "      display: none;\n",
              "      fill: #1967D2;\n",
              "      height: 32px;\n",
              "      padding: 0 0 0 0;\n",
              "      width: 32px;\n",
              "    }\n",
              "\n",
              "    .colab-df-convert:hover {\n",
              "      background-color: #E2EBFA;\n",
              "      box-shadow: 0px 1px 2px rgba(60, 64, 67, 0.3), 0px 1px 3px 1px rgba(60, 64, 67, 0.15);\n",
              "      fill: #174EA6;\n",
              "    }\n",
              "\n",
              "    [theme=dark] .colab-df-convert {\n",
              "      background-color: #3B4455;\n",
              "      fill: #D2E3FC;\n",
              "    }\n",
              "\n",
              "    [theme=dark] .colab-df-convert:hover {\n",
              "      background-color: #434B5C;\n",
              "      box-shadow: 0px 1px 3px 1px rgba(0, 0, 0, 0.15);\n",
              "      filter: drop-shadow(0px 1px 2px rgba(0, 0, 0, 0.3));\n",
              "      fill: #FFFFFF;\n",
              "    }\n",
              "  </style>\n",
              "\n",
              "      <script>\n",
              "        const buttonEl =\n",
              "          document.querySelector('#df-3dcdbcc4-530f-47ce-bf92-576c455bac85 button.colab-df-convert');\n",
              "        buttonEl.style.display =\n",
              "          google.colab.kernel.accessAllowed ? 'block' : 'none';\n",
              "\n",
              "        async function convertToInteractive(key) {\n",
              "          const element = document.querySelector('#df-3dcdbcc4-530f-47ce-bf92-576c455bac85');\n",
              "          const dataTable =\n",
              "            await google.colab.kernel.invokeFunction('convertToInteractive',\n",
              "                                                     [key], {});\n",
              "          if (!dataTable) return;\n",
              "\n",
              "          const docLinkHtml = 'Like what you see? Visit the ' +\n",
              "            '<a target=\"_blank\" href=https://colab.research.google.com/notebooks/data_table.ipynb>data table notebook</a>'\n",
              "            + ' to learn more about interactive tables.';\n",
              "          element.innerHTML = '';\n",
              "          dataTable['output_type'] = 'display_data';\n",
              "          await google.colab.output.renderOutput(dataTable, element);\n",
              "          const docLink = document.createElement('div');\n",
              "          docLink.innerHTML = docLinkHtml;\n",
              "          element.appendChild(docLink);\n",
              "        }\n",
              "      </script>\n",
              "    </div>\n",
              "  </div>\n",
              "  "
            ]
          },
          "metadata": {},
          "execution_count": 56
        }
      ]
    },
    {
      "cell_type": "markdown",
      "metadata": {
        "id": "Ds44fqAsQr3d"
      },
      "source": [
        "## Найдем похожие вакансии на вакансию №\n",
        "\n",
        "---"
      ]
    },
    {
      "cell_type": "markdown",
      "metadata": {
        "id": "CpTXvm_FQr3d"
      },
      "source": [
        "Функция: similar_items()\n",
        "\n",
        "Вычисляет список похожих элементов\n",
        "\n",
        "Параметры:\t\n",
        "- itemid (int) – идентификатор строки элемента, для которого извлекаются похожие элементы\n",
        "- N (int, необязательно) – количество похожих элементов для возврата.\n",
        "- react_users (csr_matrix, необязательно) – разреженная матрица формы (number_items, number_users). Это позволяет нам просмотреть откликнувшихся пользователей и их веса для элемента.\n",
        "- recallculate_item (bool, необязательно) – При значении true не полагайтесь на сохраненное состояние элемента и вместо этого пересчитывайте из переданного в react_users\n",
        "\n",
        "ВОЗВРАТ:\t\n",
        "Список кортежей (itemid, оценка)\n",
        "\n",
        "Возвращаемый тип:\t\n",
        "Список"
      ]
    },
    {
      "cell_type": "code",
      "source": [
        "# Найти похожую вакансию на вакансию №\n",
        "itemid = 100005\n",
        "related = model_user.similar_items(itemid)\n",
        "print(list(related[0])) # стоит обратить внимание на то, что первой выходит сама эта вакансия\n",
        "print(list(related[0][1:]))"
      ],
      "metadata": {
        "colab": {
          "base_uri": "https://localhost:8080/"
        },
        "id": "CTsZKeWzBNKy",
        "outputId": "ceb126d5-3dc2-4820-fe7f-c70b4a0c322e"
      },
      "execution_count": null,
      "outputs": [
        {
          "output_type": "stream",
          "name": "stdout",
          "text": [
            "[100005, 188746, 214051, 221652, 200167, 200319, 231082, 225737, 198021, 238321]\n",
            "[188746, 214051, 221652, 200167, 200319, 231082, 225737, 198021, 238321]\n"
          ]
        }
      ]
    },
    {
      "cell_type": "markdown",
      "metadata": {
        "id": "k1G3QkSzQr3e"
      },
      "source": [
        "## Найдем похожего пользователя"
      ]
    },
    {
      "cell_type": "markdown",
      "metadata": {
        "id": "y2XFIKJjQr3e"
      },
      "source": [
        "Функция: similar_users( )\n",
        "\n",
        "Вычисляет список похожих пользователей\n",
        "\n",
        "Параметры:\n",
        "\n",
        "- userid ( int ) — идентификатор строки пользователя для получения похожих пользователей для\n",
        "- N ( int , необязательный ) — количество похожих пользователей, которых необходимо вернуть.\n",
        "\n",
        "Возвращает:\t\n",
        "Список кортежей (userid, score)\n",
        "\n",
        "Тип возврата:\t\n",
        "список"
      ]
    },
    {
      "cell_type": "code",
      "source": [
        "userid = 100005\n",
        "related_users = model_user.similar_users(userid)\n",
        "print(list(related_users[0])) # стоит обратить внимание на то, что первой выходит этот самый пользователь\n",
        "print(list(related_users[0][1:]))"
      ],
      "metadata": {
        "id": "wTfe0GidIdaS",
        "colab": {
          "base_uri": "https://localhost:8080/"
        },
        "outputId": "1d277348-5c60-4a86-b47b-1527a81a4428"
      },
      "execution_count": null,
      "outputs": [
        {
          "output_type": "stream",
          "name": "stdout",
          "text": [
            "[100005, 113260, 281362, 58263, 131196, 6227, 143338, 66705, 140260, 307425]\n",
            "[113260, 281362, 58263, 131196, 6227, 143338, 66705, 140260, 307425]\n"
          ]
        }
      ]
    },
    {
      "cell_type": "markdown",
      "source": [
        "## Ранжируем элементы для пользователя\n",
        "\n",
        "---"
      ],
      "metadata": {
        "id": "VgugnPabBjn1"
      }
    },
    {
      "cell_type": "markdown",
      "source": [
        "Функция: rank_items()\n",
        "\n",
        "Ранжирует заданные элементы для пользователя и возвращает отсортированный список элементов.\n",
        "\n",
        "Параметры:\n",
        "\n",
        "- userid (int) – идентификатор пользователя для вычисления рекомендаций\n",
        "- user_items (csr_matrix) – разреженная матрица формы (number_users, number_items). Это позволяет нам (необязательно) пересчитывать пользовательские факторы (см. параметр reconculate_user) по мере необходимости\n",
        "- selected_items (List of itemids) – (список идентификаторов элементов)\n",
        "- recalculate_user (bool, необязательно) – При значении true не полагайтесь на сохраненное состояние пользователя и вместо этого пересчитывайте из переданных в user_items\n",
        "\n",
        "\n",
        "\n",
        "Возвращаемый тип:\t\n",
        "Список"
      ],
      "metadata": {
        "id": "TjNdKsrlBiKd"
      }
    },
    {
      "cell_type": "code",
      "source": [
        "userid = 100005\n",
        "rank_elements = model_user.rank_items(userid, user_item_data, selected_items = [100001, 100002, 100003, 100004])\n",
        "print(rank_elements) \n"
      ],
      "metadata": {
        "id": "MizoCM5oIdNe",
        "colab": {
          "base_uri": "https://localhost:8080/"
        },
        "outputId": "64452e9d-9784-4113-d54c-de342fdbe509"
      },
      "execution_count": null,
      "outputs": [
        {
          "output_type": "stream",
          "name": "stdout",
          "text": [
            "(array([100002, 100001, 100003, 100004]), array([1.981631e-03, 5.119864e-04, 5.209075e-05, 3.583861e-05],\n",
            "      dtype=float32))\n"
          ]
        },
        {
          "output_type": "stream",
          "name": "stderr",
          "text": [
            "<ipython-input-59-0aa5fe56e486>:2: DeprecationWarning: rank_items is deprecated. Use recommend with the 'items' parameter instead\n",
            "  rank_elements = model_user.rank_items(userid, user_item_data, selected_items = [100001, 100002, 100003, 100004])\n"
          ]
        }
      ]
    },
    {
      "cell_type": "markdown",
      "source": [
        "# Переходим к испытаниям на нашей ситуации\n",
        "\n",
        "---"
      ],
      "metadata": {
        "id": "cvy50ldHIbE3"
      }
    },
    {
      "cell_type": "markdown",
      "source": [
        "Загружаем данные"
      ],
      "metadata": {
        "id": "qoiaUX5WI9P2"
      }
    },
    {
      "cell_type": "code",
      "source": [
        "# Вот это данные от партнера, стоит отметить что там есть строки с 2 вакансиями и более 5\n",
        "test = pd.read_parquet('/content/drive/MyDrive/Hackaton 04.2023/test_public_mfti.parquet', engine='pyarrow')"
      ],
      "metadata": {
        "id": "EIoXD13QIik6"
      },
      "execution_count": 39,
      "outputs": []
    },
    {
      "cell_type": "code",
      "source": [
        "type(test['cookie_id'])"
      ],
      "metadata": {
        "colab": {
          "base_uri": "https://localhost:8080/"
        },
        "id": "foJRfkKclLEn",
        "outputId": "0e72bc4c-c741-46a6-c925-abe8914383a4"
      },
      "execution_count": null,
      "outputs": [
        {
          "output_type": "execute_result",
          "data": {
            "text/plain": [
              "pandas.core.series.Series"
            ]
          },
          "metadata": {},
          "execution_count": 55
        }
      ]
    },
    {
      "cell_type": "code",
      "source": [
        "test = pd.read_csv('/content/drive/MyDrive/Hackaton 04.2023/df_test_list_top.csv')\n",
        "test.columns=[['cookie_id','vacancy_id_']]\n"
      ],
      "metadata": {
        "id": "SsCjgWpBj-WE"
      },
      "execution_count": 50,
      "outputs": []
    },
    {
      "cell_type": "code",
      "source": [
        "test.head()\n"
      ],
      "metadata": {
        "colab": {
          "base_uri": "https://localhost:8080/",
          "height": 206
        },
        "id": "E858s3brKOym",
        "outputId": "0c869aa1-b605-4544-9d28-fb993ed7470d"
      },
      "execution_count": 73,
      "outputs": [
        {
          "output_type": "execute_result",
          "data": {
            "text/plain": [
              "                          cookie_id                               vacancy_id_\n",
              "0  00252da2760d4231b366d79eaf6a54a1  [139502, 133937, 153196, 166055, 168696]\n",
              "1  0052234b5356480f9dff207888135548  [108861, 134982, 141785, 146245, 153937]\n",
              "2  007090a8c8354b42bf538b93785303d3  [101396, 118250, 122614, 152485, 164067]\n",
              "3  00c15cb6e3c84464a0e538e46ced6c46  [139462, 101462, 108276, 108536, 111783]\n",
              "4  00d6baa0391e41628da60e2b4a37e19f  [117958, 157903, 159843, 164325, 164331]"
            ],
            "text/html": [
              "\n",
              "  <div id=\"df-c71f1567-9057-4a21-9e68-4dd8bd6f9657\">\n",
              "    <div class=\"colab-df-container\">\n",
              "      <div>\n",
              "<style scoped>\n",
              "    .dataframe tbody tr th:only-of-type {\n",
              "        vertical-align: middle;\n",
              "    }\n",
              "\n",
              "    .dataframe tbody tr th {\n",
              "        vertical-align: top;\n",
              "    }\n",
              "\n",
              "    .dataframe thead tr th {\n",
              "        text-align: left;\n",
              "    }\n",
              "</style>\n",
              "<table border=\"1\" class=\"dataframe\">\n",
              "  <thead>\n",
              "    <tr>\n",
              "      <th></th>\n",
              "      <th>cookie_id</th>\n",
              "      <th>vacancy_id_</th>\n",
              "    </tr>\n",
              "  </thead>\n",
              "  <tbody>\n",
              "    <tr>\n",
              "      <th>0</th>\n",
              "      <td>00252da2760d4231b366d79eaf6a54a1</td>\n",
              "      <td>[139502, 133937, 153196, 166055, 168696]</td>\n",
              "    </tr>\n",
              "    <tr>\n",
              "      <th>1</th>\n",
              "      <td>0052234b5356480f9dff207888135548</td>\n",
              "      <td>[108861, 134982, 141785, 146245, 153937]</td>\n",
              "    </tr>\n",
              "    <tr>\n",
              "      <th>2</th>\n",
              "      <td>007090a8c8354b42bf538b93785303d3</td>\n",
              "      <td>[101396, 118250, 122614, 152485, 164067]</td>\n",
              "    </tr>\n",
              "    <tr>\n",
              "      <th>3</th>\n",
              "      <td>00c15cb6e3c84464a0e538e46ced6c46</td>\n",
              "      <td>[139462, 101462, 108276, 108536, 111783]</td>\n",
              "    </tr>\n",
              "    <tr>\n",
              "      <th>4</th>\n",
              "      <td>00d6baa0391e41628da60e2b4a37e19f</td>\n",
              "      <td>[117958, 157903, 159843, 164325, 164331]</td>\n",
              "    </tr>\n",
              "  </tbody>\n",
              "</table>\n",
              "</div>\n",
              "      <button class=\"colab-df-convert\" onclick=\"convertToInteractive('df-c71f1567-9057-4a21-9e68-4dd8bd6f9657')\"\n",
              "              title=\"Convert this dataframe to an interactive table.\"\n",
              "              style=\"display:none;\">\n",
              "        \n",
              "  <svg xmlns=\"http://www.w3.org/2000/svg\" height=\"24px\"viewBox=\"0 0 24 24\"\n",
              "       width=\"24px\">\n",
              "    <path d=\"M0 0h24v24H0V0z\" fill=\"none\"/>\n",
              "    <path d=\"M18.56 5.44l.94 2.06.94-2.06 2.06-.94-2.06-.94-.94-2.06-.94 2.06-2.06.94zm-11 1L8.5 8.5l.94-2.06 2.06-.94-2.06-.94L8.5 2.5l-.94 2.06-2.06.94zm10 10l.94 2.06.94-2.06 2.06-.94-2.06-.94-.94-2.06-.94 2.06-2.06.94z\"/><path d=\"M17.41 7.96l-1.37-1.37c-.4-.4-.92-.59-1.43-.59-.52 0-1.04.2-1.43.59L10.3 9.45l-7.72 7.72c-.78.78-.78 2.05 0 2.83L4 21.41c.39.39.9.59 1.41.59.51 0 1.02-.2 1.41-.59l7.78-7.78 2.81-2.81c.8-.78.8-2.07 0-2.86zM5.41 20L4 18.59l7.72-7.72 1.47 1.35L5.41 20z\"/>\n",
              "  </svg>\n",
              "      </button>\n",
              "      \n",
              "  <style>\n",
              "    .colab-df-container {\n",
              "      display:flex;\n",
              "      flex-wrap:wrap;\n",
              "      gap: 12px;\n",
              "    }\n",
              "\n",
              "    .colab-df-convert {\n",
              "      background-color: #E8F0FE;\n",
              "      border: none;\n",
              "      border-radius: 50%;\n",
              "      cursor: pointer;\n",
              "      display: none;\n",
              "      fill: #1967D2;\n",
              "      height: 32px;\n",
              "      padding: 0 0 0 0;\n",
              "      width: 32px;\n",
              "    }\n",
              "\n",
              "    .colab-df-convert:hover {\n",
              "      background-color: #E2EBFA;\n",
              "      box-shadow: 0px 1px 2px rgba(60, 64, 67, 0.3), 0px 1px 3px 1px rgba(60, 64, 67, 0.15);\n",
              "      fill: #174EA6;\n",
              "    }\n",
              "\n",
              "    [theme=dark] .colab-df-convert {\n",
              "      background-color: #3B4455;\n",
              "      fill: #D2E3FC;\n",
              "    }\n",
              "\n",
              "    [theme=dark] .colab-df-convert:hover {\n",
              "      background-color: #434B5C;\n",
              "      box-shadow: 0px 1px 3px 1px rgba(0, 0, 0, 0.15);\n",
              "      filter: drop-shadow(0px 1px 2px rgba(0, 0, 0, 0.3));\n",
              "      fill: #FFFFFF;\n",
              "    }\n",
              "  </style>\n",
              "\n",
              "      <script>\n",
              "        const buttonEl =\n",
              "          document.querySelector('#df-c71f1567-9057-4a21-9e68-4dd8bd6f9657 button.colab-df-convert');\n",
              "        buttonEl.style.display =\n",
              "          google.colab.kernel.accessAllowed ? 'block' : 'none';\n",
              "\n",
              "        async function convertToInteractive(key) {\n",
              "          const element = document.querySelector('#df-c71f1567-9057-4a21-9e68-4dd8bd6f9657');\n",
              "          const dataTable =\n",
              "            await google.colab.kernel.invokeFunction('convertToInteractive',\n",
              "                                                     [key], {});\n",
              "          if (!dataTable) return;\n",
              "\n",
              "          const docLinkHtml = 'Like what you see? Visit the ' +\n",
              "            '<a target=\"_blank\" href=https://colab.research.google.com/notebooks/data_table.ipynb>data table notebook</a>'\n",
              "            + ' to learn more about interactive tables.';\n",
              "          element.innerHTML = '';\n",
              "          dataTable['output_type'] = 'display_data';\n",
              "          await google.colab.output.renderOutput(dataTable, element);\n",
              "          const docLink = document.createElement('div');\n",
              "          docLink.innerHTML = docLinkHtml;\n",
              "          element.appendChild(docLink);\n",
              "        }\n",
              "      </script>\n",
              "    </div>\n",
              "  </div>\n",
              "  "
            ]
          },
          "metadata": {},
          "execution_count": 73
        }
      ]
    },
    {
      "cell_type": "code",
      "source": [
        "# получаем для них столбец с номерными вариантами cookie как мы это закодировали ранее\n",
        "test['cookie_id_num'] = test['cookie_id'].squeeze().map(cookie_to_code)\n",
        "\n",
        "#test['cookie_id_num'] = test['cookie_id'].apply(cookie_to_code)\n"
      ],
      "metadata": {
        "id": "wMksKmWdIiiF"
      },
      "execution_count": 51,
      "outputs": []
    },
    {
      "cell_type": "code",
      "source": [
        "test = test.dropna()"
      ],
      "metadata": {
        "id": "nxwGjExbIifV"
      },
      "execution_count": 52,
      "outputs": []
    },
    {
      "cell_type": "code",
      "source": [
        "test.head()"
      ],
      "metadata": {
        "colab": {
          "base_uri": "https://localhost:8080/",
          "height": 206
        },
        "id": "nrj7bq3mFvWw",
        "outputId": "cc78c9c8-d268-49cb-ec24-84391272d274"
      },
      "execution_count": 53,
      "outputs": [
        {
          "output_type": "execute_result",
          "data": {
            "text/plain": [
              "                          cookie_id                               vacancy_id_  \\\n",
              "0  00252da2760d4231b366d79eaf6a54a1  [139502, 133937, 153196, 166055, 168696]   \n",
              "2  007090a8c8354b42bf538b93785303d3  [101396, 118250, 122614, 152485, 164067]   \n",
              "3  00c15cb6e3c84464a0e538e46ced6c46  [139462, 101462, 108276, 108536, 111783]   \n",
              "5  00e61f4a8a9f4b8c9fe2913bca7df8d2  [105265, 109573, 109891, 123183, 182957]   \n",
              "6  00fa030c79ec4fe5a7b806e6ba60d5ae  [167159, 211100, 127800, 179478, 189398]   \n",
              "\n",
              "  cookie_id_num  \n",
              "0         115.0  \n",
              "2         350.0  \n",
              "3         611.0  \n",
              "5         735.0  \n",
              "6         798.0  "
            ],
            "text/html": [
              "\n",
              "  <div id=\"df-011d7348-52f6-473d-914b-43179ae3f996\">\n",
              "    <div class=\"colab-df-container\">\n",
              "      <div>\n",
              "<style scoped>\n",
              "    .dataframe tbody tr th:only-of-type {\n",
              "        vertical-align: middle;\n",
              "    }\n",
              "\n",
              "    .dataframe tbody tr th {\n",
              "        vertical-align: top;\n",
              "    }\n",
              "\n",
              "    .dataframe thead tr th {\n",
              "        text-align: left;\n",
              "    }\n",
              "</style>\n",
              "<table border=\"1\" class=\"dataframe\">\n",
              "  <thead>\n",
              "    <tr>\n",
              "      <th></th>\n",
              "      <th>cookie_id</th>\n",
              "      <th>vacancy_id_</th>\n",
              "      <th>cookie_id_num</th>\n",
              "    </tr>\n",
              "  </thead>\n",
              "  <tbody>\n",
              "    <tr>\n",
              "      <th>0</th>\n",
              "      <td>00252da2760d4231b366d79eaf6a54a1</td>\n",
              "      <td>[139502, 133937, 153196, 166055, 168696]</td>\n",
              "      <td>115.0</td>\n",
              "    </tr>\n",
              "    <tr>\n",
              "      <th>2</th>\n",
              "      <td>007090a8c8354b42bf538b93785303d3</td>\n",
              "      <td>[101396, 118250, 122614, 152485, 164067]</td>\n",
              "      <td>350.0</td>\n",
              "    </tr>\n",
              "    <tr>\n",
              "      <th>3</th>\n",
              "      <td>00c15cb6e3c84464a0e538e46ced6c46</td>\n",
              "      <td>[139462, 101462, 108276, 108536, 111783]</td>\n",
              "      <td>611.0</td>\n",
              "    </tr>\n",
              "    <tr>\n",
              "      <th>5</th>\n",
              "      <td>00e61f4a8a9f4b8c9fe2913bca7df8d2</td>\n",
              "      <td>[105265, 109573, 109891, 123183, 182957]</td>\n",
              "      <td>735.0</td>\n",
              "    </tr>\n",
              "    <tr>\n",
              "      <th>6</th>\n",
              "      <td>00fa030c79ec4fe5a7b806e6ba60d5ae</td>\n",
              "      <td>[167159, 211100, 127800, 179478, 189398]</td>\n",
              "      <td>798.0</td>\n",
              "    </tr>\n",
              "  </tbody>\n",
              "</table>\n",
              "</div>\n",
              "      <button class=\"colab-df-convert\" onclick=\"convertToInteractive('df-011d7348-52f6-473d-914b-43179ae3f996')\"\n",
              "              title=\"Convert this dataframe to an interactive table.\"\n",
              "              style=\"display:none;\">\n",
              "        \n",
              "  <svg xmlns=\"http://www.w3.org/2000/svg\" height=\"24px\"viewBox=\"0 0 24 24\"\n",
              "       width=\"24px\">\n",
              "    <path d=\"M0 0h24v24H0V0z\" fill=\"none\"/>\n",
              "    <path d=\"M18.56 5.44l.94 2.06.94-2.06 2.06-.94-2.06-.94-.94-2.06-.94 2.06-2.06.94zm-11 1L8.5 8.5l.94-2.06 2.06-.94-2.06-.94L8.5 2.5l-.94 2.06-2.06.94zm10 10l.94 2.06.94-2.06 2.06-.94-2.06-.94-.94-2.06-.94 2.06-2.06.94z\"/><path d=\"M17.41 7.96l-1.37-1.37c-.4-.4-.92-.59-1.43-.59-.52 0-1.04.2-1.43.59L10.3 9.45l-7.72 7.72c-.78.78-.78 2.05 0 2.83L4 21.41c.39.39.9.59 1.41.59.51 0 1.02-.2 1.41-.59l7.78-7.78 2.81-2.81c.8-.78.8-2.07 0-2.86zM5.41 20L4 18.59l7.72-7.72 1.47 1.35L5.41 20z\"/>\n",
              "  </svg>\n",
              "      </button>\n",
              "      \n",
              "  <style>\n",
              "    .colab-df-container {\n",
              "      display:flex;\n",
              "      flex-wrap:wrap;\n",
              "      gap: 12px;\n",
              "    }\n",
              "\n",
              "    .colab-df-convert {\n",
              "      background-color: #E8F0FE;\n",
              "      border: none;\n",
              "      border-radius: 50%;\n",
              "      cursor: pointer;\n",
              "      display: none;\n",
              "      fill: #1967D2;\n",
              "      height: 32px;\n",
              "      padding: 0 0 0 0;\n",
              "      width: 32px;\n",
              "    }\n",
              "\n",
              "    .colab-df-convert:hover {\n",
              "      background-color: #E2EBFA;\n",
              "      box-shadow: 0px 1px 2px rgba(60, 64, 67, 0.3), 0px 1px 3px 1px rgba(60, 64, 67, 0.15);\n",
              "      fill: #174EA6;\n",
              "    }\n",
              "\n",
              "    [theme=dark] .colab-df-convert {\n",
              "      background-color: #3B4455;\n",
              "      fill: #D2E3FC;\n",
              "    }\n",
              "\n",
              "    [theme=dark] .colab-df-convert:hover {\n",
              "      background-color: #434B5C;\n",
              "      box-shadow: 0px 1px 3px 1px rgba(0, 0, 0, 0.15);\n",
              "      filter: drop-shadow(0px 1px 2px rgba(0, 0, 0, 0.3));\n",
              "      fill: #FFFFFF;\n",
              "    }\n",
              "  </style>\n",
              "\n",
              "      <script>\n",
              "        const buttonEl =\n",
              "          document.querySelector('#df-011d7348-52f6-473d-914b-43179ae3f996 button.colab-df-convert');\n",
              "        buttonEl.style.display =\n",
              "          google.colab.kernel.accessAllowed ? 'block' : 'none';\n",
              "\n",
              "        async function convertToInteractive(key) {\n",
              "          const element = document.querySelector('#df-011d7348-52f6-473d-914b-43179ae3f996');\n",
              "          const dataTable =\n",
              "            await google.colab.kernel.invokeFunction('convertToInteractive',\n",
              "                                                     [key], {});\n",
              "          if (!dataTable) return;\n",
              "\n",
              "          const docLinkHtml = 'Like what you see? Visit the ' +\n",
              "            '<a target=\"_blank\" href=https://colab.research.google.com/notebooks/data_table.ipynb>data table notebook</a>'\n",
              "            + ' to learn more about interactive tables.';\n",
              "          element.innerHTML = '';\n",
              "          dataTable['output_type'] = 'display_data';\n",
              "          await google.colab.output.renderOutput(dataTable, element);\n",
              "          const docLink = document.createElement('div');\n",
              "          docLink.innerHTML = docLinkHtml;\n",
              "          element.appendChild(docLink);\n",
              "        }\n",
              "      </script>\n",
              "    </div>\n",
              "  </div>\n",
              "  "
            ]
          },
          "metadata": {},
          "execution_count": 53
        }
      ]
    },
    {
      "cell_type": "code",
      "source": [
        "cookie_to_code['00fa030c79ec4fe5a7b806e6ba60d5ae']"
      ],
      "metadata": {
        "colab": {
          "base_uri": "https://localhost:8080/"
        },
        "id": "VLSE4XSGrY6s",
        "outputId": "382c2f0f-c551-4ae7-912b-31e55d4eca1e"
      },
      "execution_count": 54,
      "outputs": [
        {
          "output_type": "execute_result",
          "data": {
            "text/plain": [
              "798"
            ]
          },
          "metadata": {},
          "execution_count": 54
        }
      ]
    },
    {
      "cell_type": "code",
      "source": [
        "# проверим перевод в коды на правильность\n",
        "print(cookie_to_code['007090a8c8354b42bf538b93785303d3'])\n",
        "print(cookie_to_code['00c15cb6e3c84464a0e538e46ced6c46'])\n",
        "#print(cookie_to_code['00d6baa0391e41628da60e2b4a37e19f'])\n"
      ],
      "metadata": {
        "colab": {
          "base_uri": "https://localhost:8080/"
        },
        "id": "IFsX0PvXKuD-",
        "outputId": "7d013bd7-50fe-4951-a64f-783493420569"
      },
      "execution_count": 88,
      "outputs": [
        {
          "output_type": "stream",
          "name": "stdout",
          "text": [
            "350\n",
            "611\n"
          ]
        }
      ]
    },
    {
      "cell_type": "code",
      "source": [
        "# получаем из датафрейма список пользователей, которых мы загрузим в модель\n",
        "test_list = list(test['cookie_id_num'].squeeze())\n",
        "test_list_str = list(test['cookie_id'].squeeze())\n",
        "print(test_list[:5])\n",
        "print(test_list_str[:5])"
      ],
      "metadata": {
        "colab": {
          "base_uri": "https://localhost:8080/"
        },
        "id": "sKItjYCmKuA-",
        "outputId": "47021278-ebc9-419e-981f-17f5e6e395af"
      },
      "execution_count": 55,
      "outputs": [
        {
          "output_type": "stream",
          "name": "stdout",
          "text": [
            "[115.0, 350.0, 611.0, 735.0, 798.0]\n",
            "['00252da2760d4231b366d79eaf6a54a1', '007090a8c8354b42bf538b93785303d3', '00c15cb6e3c84464a0e538e46ced6c46', '00e61f4a8a9f4b8c9fe2913bca7df8d2', '00fa030c79ec4fe5a7b806e6ba60d5ae']\n"
          ]
        }
      ]
    },
    {
      "cell_type": "code",
      "source": [
        "# Ячейка поличения предсказаний, загружаем в модель полученный список кодов пользоватлей \n",
        "userids = test_list\n",
        "ids, scores = model_user.recommend(userids, user_item_data[userids], N=5, filter_already_liked_items=True)"
      ],
      "metadata": {
        "id": "LDMAaVmWLQeW"
      },
      "execution_count": 56,
      "outputs": []
    },
    {
      "cell_type": "code",
      "source": [
        "# а вот тут мы делаем хитро в первую колонку записываем строковые имена пользователей, а в список рекомендаций полученные предсказания\n",
        "test_prediction = pd.DataFrame({'cookie_id' : test_list_str, 'top_recommendations' : list(ids)})"
      ],
      "metadata": {
        "id": "zYB9e33yLk3H"
      },
      "execution_count": 57,
      "outputs": []
    },
    {
      "cell_type": "code",
      "source": [
        "test_prediction"
      ],
      "metadata": {
        "colab": {
          "base_uri": "https://localhost:8080/",
          "height": 423
        },
        "id": "HVpNgzaj4qeP",
        "outputId": "254c5803-5067-4f03-9e4e-80350a46e864"
      },
      "execution_count": 92,
      "outputs": [
        {
          "output_type": "execute_result",
          "data": {
            "text/plain": [
              "                             cookie_id  \\\n",
              "0     00252da2760d4231b366d79eaf6a54a1   \n",
              "1     007090a8c8354b42bf538b93785303d3   \n",
              "2     00c15cb6e3c84464a0e538e46ced6c46   \n",
              "3     00e61f4a8a9f4b8c9fe2913bca7df8d2   \n",
              "4     00fa030c79ec4fe5a7b806e6ba60d5ae   \n",
              "...                                ...   \n",
              "1220  ff2a45ffbc83417ea01633b48c644f23   \n",
              "1221  ff4ffd399268462db31c5ef22277c2bb   \n",
              "1222  ff7861c402e84f9fa78ff00f49eb83a1   \n",
              "1223  ffa618b6b94444239aee6356fc67af48   \n",
              "1224  ffa8eedc0bc44afd9e941bbdf55fb08e   \n",
              "\n",
              "                           top_recommendations  \n",
              "0     [253946, 117532, 253817, 122614, 209448]  \n",
              "1     [101396, 164246, 165274, 106729, 253678]  \n",
              "2     [260154, 171332, 253678, 217683, 154356]  \n",
              "3     [145455, 185354, 152160, 224389, 131755]  \n",
              "4     [260154, 117525, 101396, 185354, 190471]  \n",
              "...                                        ...  \n",
              "1220  [159332, 187740, 157476, 252102, 182870]  \n",
              "1221  [256132, 171332, 154356, 154248, 101462]  \n",
              "1222  [123363, 240927, 105974, 257474, 171543]  \n",
              "1223  [209422, 209448, 101136, 122614, 185355]  \n",
              "1224  [190928, 209422, 122614, 209448, 219770]  \n",
              "\n",
              "[1225 rows x 2 columns]"
            ],
            "text/html": [
              "\n",
              "  <div id=\"df-487ca216-8a4d-4265-9da1-298213677250\">\n",
              "    <div class=\"colab-df-container\">\n",
              "      <div>\n",
              "<style scoped>\n",
              "    .dataframe tbody tr th:only-of-type {\n",
              "        vertical-align: middle;\n",
              "    }\n",
              "\n",
              "    .dataframe tbody tr th {\n",
              "        vertical-align: top;\n",
              "    }\n",
              "\n",
              "    .dataframe thead th {\n",
              "        text-align: right;\n",
              "    }\n",
              "</style>\n",
              "<table border=\"1\" class=\"dataframe\">\n",
              "  <thead>\n",
              "    <tr style=\"text-align: right;\">\n",
              "      <th></th>\n",
              "      <th>cookie_id</th>\n",
              "      <th>top_recommendations</th>\n",
              "    </tr>\n",
              "  </thead>\n",
              "  <tbody>\n",
              "    <tr>\n",
              "      <th>0</th>\n",
              "      <td>00252da2760d4231b366d79eaf6a54a1</td>\n",
              "      <td>[253946, 117532, 253817, 122614, 209448]</td>\n",
              "    </tr>\n",
              "    <tr>\n",
              "      <th>1</th>\n",
              "      <td>007090a8c8354b42bf538b93785303d3</td>\n",
              "      <td>[101396, 164246, 165274, 106729, 253678]</td>\n",
              "    </tr>\n",
              "    <tr>\n",
              "      <th>2</th>\n",
              "      <td>00c15cb6e3c84464a0e538e46ced6c46</td>\n",
              "      <td>[260154, 171332, 253678, 217683, 154356]</td>\n",
              "    </tr>\n",
              "    <tr>\n",
              "      <th>3</th>\n",
              "      <td>00e61f4a8a9f4b8c9fe2913bca7df8d2</td>\n",
              "      <td>[145455, 185354, 152160, 224389, 131755]</td>\n",
              "    </tr>\n",
              "    <tr>\n",
              "      <th>4</th>\n",
              "      <td>00fa030c79ec4fe5a7b806e6ba60d5ae</td>\n",
              "      <td>[260154, 117525, 101396, 185354, 190471]</td>\n",
              "    </tr>\n",
              "    <tr>\n",
              "      <th>...</th>\n",
              "      <td>...</td>\n",
              "      <td>...</td>\n",
              "    </tr>\n",
              "    <tr>\n",
              "      <th>1220</th>\n",
              "      <td>ff2a45ffbc83417ea01633b48c644f23</td>\n",
              "      <td>[159332, 187740, 157476, 252102, 182870]</td>\n",
              "    </tr>\n",
              "    <tr>\n",
              "      <th>1221</th>\n",
              "      <td>ff4ffd399268462db31c5ef22277c2bb</td>\n",
              "      <td>[256132, 171332, 154356, 154248, 101462]</td>\n",
              "    </tr>\n",
              "    <tr>\n",
              "      <th>1222</th>\n",
              "      <td>ff7861c402e84f9fa78ff00f49eb83a1</td>\n",
              "      <td>[123363, 240927, 105974, 257474, 171543]</td>\n",
              "    </tr>\n",
              "    <tr>\n",
              "      <th>1223</th>\n",
              "      <td>ffa618b6b94444239aee6356fc67af48</td>\n",
              "      <td>[209422, 209448, 101136, 122614, 185355]</td>\n",
              "    </tr>\n",
              "    <tr>\n",
              "      <th>1224</th>\n",
              "      <td>ffa8eedc0bc44afd9e941bbdf55fb08e</td>\n",
              "      <td>[190928, 209422, 122614, 209448, 219770]</td>\n",
              "    </tr>\n",
              "  </tbody>\n",
              "</table>\n",
              "<p>1225 rows × 2 columns</p>\n",
              "</div>\n",
              "      <button class=\"colab-df-convert\" onclick=\"convertToInteractive('df-487ca216-8a4d-4265-9da1-298213677250')\"\n",
              "              title=\"Convert this dataframe to an interactive table.\"\n",
              "              style=\"display:none;\">\n",
              "        \n",
              "  <svg xmlns=\"http://www.w3.org/2000/svg\" height=\"24px\"viewBox=\"0 0 24 24\"\n",
              "       width=\"24px\">\n",
              "    <path d=\"M0 0h24v24H0V0z\" fill=\"none\"/>\n",
              "    <path d=\"M18.56 5.44l.94 2.06.94-2.06 2.06-.94-2.06-.94-.94-2.06-.94 2.06-2.06.94zm-11 1L8.5 8.5l.94-2.06 2.06-.94-2.06-.94L8.5 2.5l-.94 2.06-2.06.94zm10 10l.94 2.06.94-2.06 2.06-.94-2.06-.94-.94-2.06-.94 2.06-2.06.94z\"/><path d=\"M17.41 7.96l-1.37-1.37c-.4-.4-.92-.59-1.43-.59-.52 0-1.04.2-1.43.59L10.3 9.45l-7.72 7.72c-.78.78-.78 2.05 0 2.83L4 21.41c.39.39.9.59 1.41.59.51 0 1.02-.2 1.41-.59l7.78-7.78 2.81-2.81c.8-.78.8-2.07 0-2.86zM5.41 20L4 18.59l7.72-7.72 1.47 1.35L5.41 20z\"/>\n",
              "  </svg>\n",
              "      </button>\n",
              "      \n",
              "  <style>\n",
              "    .colab-df-container {\n",
              "      display:flex;\n",
              "      flex-wrap:wrap;\n",
              "      gap: 12px;\n",
              "    }\n",
              "\n",
              "    .colab-df-convert {\n",
              "      background-color: #E8F0FE;\n",
              "      border: none;\n",
              "      border-radius: 50%;\n",
              "      cursor: pointer;\n",
              "      display: none;\n",
              "      fill: #1967D2;\n",
              "      height: 32px;\n",
              "      padding: 0 0 0 0;\n",
              "      width: 32px;\n",
              "    }\n",
              "\n",
              "    .colab-df-convert:hover {\n",
              "      background-color: #E2EBFA;\n",
              "      box-shadow: 0px 1px 2px rgba(60, 64, 67, 0.3), 0px 1px 3px 1px rgba(60, 64, 67, 0.15);\n",
              "      fill: #174EA6;\n",
              "    }\n",
              "\n",
              "    [theme=dark] .colab-df-convert {\n",
              "      background-color: #3B4455;\n",
              "      fill: #D2E3FC;\n",
              "    }\n",
              "\n",
              "    [theme=dark] .colab-df-convert:hover {\n",
              "      background-color: #434B5C;\n",
              "      box-shadow: 0px 1px 3px 1px rgba(0, 0, 0, 0.15);\n",
              "      filter: drop-shadow(0px 1px 2px rgba(0, 0, 0, 0.3));\n",
              "      fill: #FFFFFF;\n",
              "    }\n",
              "  </style>\n",
              "\n",
              "      <script>\n",
              "        const buttonEl =\n",
              "          document.querySelector('#df-487ca216-8a4d-4265-9da1-298213677250 button.colab-df-convert');\n",
              "        buttonEl.style.display =\n",
              "          google.colab.kernel.accessAllowed ? 'block' : 'none';\n",
              "\n",
              "        async function convertToInteractive(key) {\n",
              "          const element = document.querySelector('#df-487ca216-8a4d-4265-9da1-298213677250');\n",
              "          const dataTable =\n",
              "            await google.colab.kernel.invokeFunction('convertToInteractive',\n",
              "                                                     [key], {});\n",
              "          if (!dataTable) return;\n",
              "\n",
              "          const docLinkHtml = 'Like what you see? Visit the ' +\n",
              "            '<a target=\"_blank\" href=https://colab.research.google.com/notebooks/data_table.ipynb>data table notebook</a>'\n",
              "            + ' to learn more about interactive tables.';\n",
              "          element.innerHTML = '';\n",
              "          dataTable['output_type'] = 'display_data';\n",
              "          await google.colab.output.renderOutput(dataTable, element);\n",
              "          const docLink = document.createElement('div');\n",
              "          docLink.innerHTML = docLinkHtml;\n",
              "          element.appendChild(docLink);\n",
              "        }\n",
              "      </script>\n",
              "    </div>\n",
              "  </div>\n",
              "  "
            ]
          },
          "metadata": {},
          "execution_count": 92
        }
      ]
    },
    {
      "cell_type": "code",
      "source": [
        "# вот эта наша функция получения метрики\n",
        "def precision_n(predictions, df_test_list_top, k=5):\n",
        "  #recommendations num:\n",
        "    n_rec_k = len(df_test_list_top)*k\n",
        "  #true reccomendations:\n",
        "    matches=0\n",
        "    for row in range(len(predictions)):\n",
        "      row_match = set(predictions['top_recommendations'][row]).intersection(set(df_test_list_top['vac'][row]))  \n",
        "      matches += len(row_match)\n",
        "  #Results:\n",
        "    precisions = matches / n_rec_k if n_rec_k != 0 else 0\n",
        "    return precisions"
      ],
      "metadata": {
        "id": "BRBu1HjUIicm"
      },
      "execution_count": 58,
      "outputs": []
    },
    {
      "cell_type": "code",
      "source": [
        "set(test['vacancy_id_'].iloc[1])\n",
        "type(test['vacancy_id_'])"
      ],
      "metadata": {
        "colab": {
          "base_uri": "https://localhost:8080/"
        },
        "id": "bCrIQA-w6BNi",
        "outputId": "cc8094d4-bcd8-4ec8-eca6-1a73362156bc"
      },
      "execution_count": 94,
      "outputs": [
        {
          "output_type": "execute_result",
          "data": {
            "text/plain": [
              "pandas.core.frame.DataFrame"
            ]
          },
          "metadata": {},
          "execution_count": 94
        }
      ]
    },
    {
      "cell_type": "code",
      "source": [
        "df_test_1 = test_prediction\n",
        "df_test_1['cook'] = test['cookie_id'].values[:,0]\n",
        "df_test_1['vac'] = test['vacancy_id_'].values[:,0]"
      ],
      "metadata": {
        "id": "2dpKfyI0B16b"
      },
      "execution_count": 59,
      "outputs": []
    },
    {
      "cell_type": "code",
      "source": [
        "type(df_test_1['vac'])"
      ],
      "metadata": {
        "colab": {
          "base_uri": "https://localhost:8080/"
        },
        "id": "WWP1M0BNHuBY",
        "outputId": "c543cdca-b9bb-4a15-ce49-01cd2244a8a9"
      },
      "execution_count": null,
      "outputs": [
        {
          "output_type": "execute_result",
          "data": {
            "text/plain": [
              "pandas.core.series.Series"
            ]
          },
          "metadata": {},
          "execution_count": 194
        }
      ]
    },
    {
      "cell_type": "code",
      "source": [
        "df_test_1"
      ],
      "metadata": {
        "colab": {
          "base_uri": "https://localhost:8080/",
          "height": 423
        },
        "id": "tiwenDq5C03O",
        "outputId": "c72b5d07-cf59-4e9e-f8c2-ca7427a5e104"
      },
      "execution_count": 64,
      "outputs": [
        {
          "output_type": "execute_result",
          "data": {
            "text/plain": [
              "                             cookie_id  \\\n",
              "0     00252da2760d4231b366d79eaf6a54a1   \n",
              "1     007090a8c8354b42bf538b93785303d3   \n",
              "2     00c15cb6e3c84464a0e538e46ced6c46   \n",
              "3     00e61f4a8a9f4b8c9fe2913bca7df8d2   \n",
              "4     00fa030c79ec4fe5a7b806e6ba60d5ae   \n",
              "...                                ...   \n",
              "1220  ff2a45ffbc83417ea01633b48c644f23   \n",
              "1221  ff4ffd399268462db31c5ef22277c2bb   \n",
              "1222  ff7861c402e84f9fa78ff00f49eb83a1   \n",
              "1223  ffa618b6b94444239aee6356fc67af48   \n",
              "1224  ffa8eedc0bc44afd9e941bbdf55fb08e   \n",
              "\n",
              "                           top_recommendations  \\\n",
              "0     [182870, 117532, 253946, 253817, 209448]   \n",
              "1     [101396, 164246, 165274, 106729, 257747]   \n",
              "2     [260154, 171332, 253678, 101462, 217683]   \n",
              "3     [152160, 224389, 185354, 145455, 114560]   \n",
              "4     [260154, 101396, 117525, 185354, 245356]   \n",
              "...                                        ...   \n",
              "1220  [198114, 159332, 187740, 157476, 252102]   \n",
              "1221  [256132, 171332, 154356, 154248, 101462]   \n",
              "1222  [123363, 240927, 257474, 171543, 105974]   \n",
              "1223  [209422, 209448, 101136, 185355, 122614]   \n",
              "1224  [190928, 209422, 122614, 209448, 219770]   \n",
              "\n",
              "                                  cook  \\\n",
              "0     00252da2760d4231b366d79eaf6a54a1   \n",
              "1     007090a8c8354b42bf538b93785303d3   \n",
              "2     00c15cb6e3c84464a0e538e46ced6c46   \n",
              "3     00e61f4a8a9f4b8c9fe2913bca7df8d2   \n",
              "4     00fa030c79ec4fe5a7b806e6ba60d5ae   \n",
              "...                                ...   \n",
              "1220  ff2a45ffbc83417ea01633b48c644f23   \n",
              "1221  ff4ffd399268462db31c5ef22277c2bb   \n",
              "1222  ff7861c402e84f9fa78ff00f49eb83a1   \n",
              "1223  ffa618b6b94444239aee6356fc67af48   \n",
              "1224  ffa8eedc0bc44afd9e941bbdf55fb08e   \n",
              "\n",
              "                                           vac  \n",
              "0     [139502, 133937, 153196, 166055, 168696]  \n",
              "1     [101396, 118250, 122614, 152485, 164067]  \n",
              "2     [139462, 101462, 108276, 108536, 111783]  \n",
              "3     [105265, 109573, 109891, 123183, 182957]  \n",
              "4     [167159, 211100, 127800, 179478, 189398]  \n",
              "...                                        ...  \n",
              "1220  [103615, 112537, 113449, 115446, 119825]  \n",
              "1221  [106033, 110884, 119161, 119227, 123306]  \n",
              "1222  [248949, 254085, 108510, 128900, 182528]  \n",
              "1223  [101136, 117182, 117525, 185355, 223343]  \n",
              "1224  [131720, 117525, 235529, 102702, 143665]  \n",
              "\n",
              "[1225 rows x 4 columns]"
            ],
            "text/html": [
              "\n",
              "  <div id=\"df-da1cc4ad-e457-4edc-859a-160d76f2b38d\">\n",
              "    <div class=\"colab-df-container\">\n",
              "      <div>\n",
              "<style scoped>\n",
              "    .dataframe tbody tr th:only-of-type {\n",
              "        vertical-align: middle;\n",
              "    }\n",
              "\n",
              "    .dataframe tbody tr th {\n",
              "        vertical-align: top;\n",
              "    }\n",
              "\n",
              "    .dataframe thead th {\n",
              "        text-align: right;\n",
              "    }\n",
              "</style>\n",
              "<table border=\"1\" class=\"dataframe\">\n",
              "  <thead>\n",
              "    <tr style=\"text-align: right;\">\n",
              "      <th></th>\n",
              "      <th>cookie_id</th>\n",
              "      <th>top_recommendations</th>\n",
              "      <th>cook</th>\n",
              "      <th>vac</th>\n",
              "    </tr>\n",
              "  </thead>\n",
              "  <tbody>\n",
              "    <tr>\n",
              "      <th>0</th>\n",
              "      <td>00252da2760d4231b366d79eaf6a54a1</td>\n",
              "      <td>[182870, 117532, 253946, 253817, 209448]</td>\n",
              "      <td>00252da2760d4231b366d79eaf6a54a1</td>\n",
              "      <td>[139502, 133937, 153196, 166055, 168696]</td>\n",
              "    </tr>\n",
              "    <tr>\n",
              "      <th>1</th>\n",
              "      <td>007090a8c8354b42bf538b93785303d3</td>\n",
              "      <td>[101396, 164246, 165274, 106729, 257747]</td>\n",
              "      <td>007090a8c8354b42bf538b93785303d3</td>\n",
              "      <td>[101396, 118250, 122614, 152485, 164067]</td>\n",
              "    </tr>\n",
              "    <tr>\n",
              "      <th>2</th>\n",
              "      <td>00c15cb6e3c84464a0e538e46ced6c46</td>\n",
              "      <td>[260154, 171332, 253678, 101462, 217683]</td>\n",
              "      <td>00c15cb6e3c84464a0e538e46ced6c46</td>\n",
              "      <td>[139462, 101462, 108276, 108536, 111783]</td>\n",
              "    </tr>\n",
              "    <tr>\n",
              "      <th>3</th>\n",
              "      <td>00e61f4a8a9f4b8c9fe2913bca7df8d2</td>\n",
              "      <td>[152160, 224389, 185354, 145455, 114560]</td>\n",
              "      <td>00e61f4a8a9f4b8c9fe2913bca7df8d2</td>\n",
              "      <td>[105265, 109573, 109891, 123183, 182957]</td>\n",
              "    </tr>\n",
              "    <tr>\n",
              "      <th>4</th>\n",
              "      <td>00fa030c79ec4fe5a7b806e6ba60d5ae</td>\n",
              "      <td>[260154, 101396, 117525, 185354, 245356]</td>\n",
              "      <td>00fa030c79ec4fe5a7b806e6ba60d5ae</td>\n",
              "      <td>[167159, 211100, 127800, 179478, 189398]</td>\n",
              "    </tr>\n",
              "    <tr>\n",
              "      <th>...</th>\n",
              "      <td>...</td>\n",
              "      <td>...</td>\n",
              "      <td>...</td>\n",
              "      <td>...</td>\n",
              "    </tr>\n",
              "    <tr>\n",
              "      <th>1220</th>\n",
              "      <td>ff2a45ffbc83417ea01633b48c644f23</td>\n",
              "      <td>[198114, 159332, 187740, 157476, 252102]</td>\n",
              "      <td>ff2a45ffbc83417ea01633b48c644f23</td>\n",
              "      <td>[103615, 112537, 113449, 115446, 119825]</td>\n",
              "    </tr>\n",
              "    <tr>\n",
              "      <th>1221</th>\n",
              "      <td>ff4ffd399268462db31c5ef22277c2bb</td>\n",
              "      <td>[256132, 171332, 154356, 154248, 101462]</td>\n",
              "      <td>ff4ffd399268462db31c5ef22277c2bb</td>\n",
              "      <td>[106033, 110884, 119161, 119227, 123306]</td>\n",
              "    </tr>\n",
              "    <tr>\n",
              "      <th>1222</th>\n",
              "      <td>ff7861c402e84f9fa78ff00f49eb83a1</td>\n",
              "      <td>[123363, 240927, 257474, 171543, 105974]</td>\n",
              "      <td>ff7861c402e84f9fa78ff00f49eb83a1</td>\n",
              "      <td>[248949, 254085, 108510, 128900, 182528]</td>\n",
              "    </tr>\n",
              "    <tr>\n",
              "      <th>1223</th>\n",
              "      <td>ffa618b6b94444239aee6356fc67af48</td>\n",
              "      <td>[209422, 209448, 101136, 185355, 122614]</td>\n",
              "      <td>ffa618b6b94444239aee6356fc67af48</td>\n",
              "      <td>[101136, 117182, 117525, 185355, 223343]</td>\n",
              "    </tr>\n",
              "    <tr>\n",
              "      <th>1224</th>\n",
              "      <td>ffa8eedc0bc44afd9e941bbdf55fb08e</td>\n",
              "      <td>[190928, 209422, 122614, 209448, 219770]</td>\n",
              "      <td>ffa8eedc0bc44afd9e941bbdf55fb08e</td>\n",
              "      <td>[131720, 117525, 235529, 102702, 143665]</td>\n",
              "    </tr>\n",
              "  </tbody>\n",
              "</table>\n",
              "<p>1225 rows × 4 columns</p>\n",
              "</div>\n",
              "      <button class=\"colab-df-convert\" onclick=\"convertToInteractive('df-da1cc4ad-e457-4edc-859a-160d76f2b38d')\"\n",
              "              title=\"Convert this dataframe to an interactive table.\"\n",
              "              style=\"display:none;\">\n",
              "        \n",
              "  <svg xmlns=\"http://www.w3.org/2000/svg\" height=\"24px\"viewBox=\"0 0 24 24\"\n",
              "       width=\"24px\">\n",
              "    <path d=\"M0 0h24v24H0V0z\" fill=\"none\"/>\n",
              "    <path d=\"M18.56 5.44l.94 2.06.94-2.06 2.06-.94-2.06-.94-.94-2.06-.94 2.06-2.06.94zm-11 1L8.5 8.5l.94-2.06 2.06-.94-2.06-.94L8.5 2.5l-.94 2.06-2.06.94zm10 10l.94 2.06.94-2.06 2.06-.94-2.06-.94-.94-2.06-.94 2.06-2.06.94z\"/><path d=\"M17.41 7.96l-1.37-1.37c-.4-.4-.92-.59-1.43-.59-.52 0-1.04.2-1.43.59L10.3 9.45l-7.72 7.72c-.78.78-.78 2.05 0 2.83L4 21.41c.39.39.9.59 1.41.59.51 0 1.02-.2 1.41-.59l7.78-7.78 2.81-2.81c.8-.78.8-2.07 0-2.86zM5.41 20L4 18.59l7.72-7.72 1.47 1.35L5.41 20z\"/>\n",
              "  </svg>\n",
              "      </button>\n",
              "      \n",
              "  <style>\n",
              "    .colab-df-container {\n",
              "      display:flex;\n",
              "      flex-wrap:wrap;\n",
              "      gap: 12px;\n",
              "    }\n",
              "\n",
              "    .colab-df-convert {\n",
              "      background-color: #E8F0FE;\n",
              "      border: none;\n",
              "      border-radius: 50%;\n",
              "      cursor: pointer;\n",
              "      display: none;\n",
              "      fill: #1967D2;\n",
              "      height: 32px;\n",
              "      padding: 0 0 0 0;\n",
              "      width: 32px;\n",
              "    }\n",
              "\n",
              "    .colab-df-convert:hover {\n",
              "      background-color: #E2EBFA;\n",
              "      box-shadow: 0px 1px 2px rgba(60, 64, 67, 0.3), 0px 1px 3px 1px rgba(60, 64, 67, 0.15);\n",
              "      fill: #174EA6;\n",
              "    }\n",
              "\n",
              "    [theme=dark] .colab-df-convert {\n",
              "      background-color: #3B4455;\n",
              "      fill: #D2E3FC;\n",
              "    }\n",
              "\n",
              "    [theme=dark] .colab-df-convert:hover {\n",
              "      background-color: #434B5C;\n",
              "      box-shadow: 0px 1px 3px 1px rgba(0, 0, 0, 0.15);\n",
              "      filter: drop-shadow(0px 1px 2px rgba(0, 0, 0, 0.3));\n",
              "      fill: #FFFFFF;\n",
              "    }\n",
              "  </style>\n",
              "\n",
              "      <script>\n",
              "        const buttonEl =\n",
              "          document.querySelector('#df-da1cc4ad-e457-4edc-859a-160d76f2b38d button.colab-df-convert');\n",
              "        buttonEl.style.display =\n",
              "          google.colab.kernel.accessAllowed ? 'block' : 'none';\n",
              "\n",
              "        async function convertToInteractive(key) {\n",
              "          const element = document.querySelector('#df-da1cc4ad-e457-4edc-859a-160d76f2b38d');\n",
              "          const dataTable =\n",
              "            await google.colab.kernel.invokeFunction('convertToInteractive',\n",
              "                                                     [key], {});\n",
              "          if (!dataTable) return;\n",
              "\n",
              "          const docLinkHtml = 'Like what you see? Visit the ' +\n",
              "            '<a target=\"_blank\" href=https://colab.research.google.com/notebooks/data_table.ipynb>data table notebook</a>'\n",
              "            + ' to learn more about interactive tables.';\n",
              "          element.innerHTML = '';\n",
              "          dataTable['output_type'] = 'display_data';\n",
              "          await google.colab.output.renderOutput(dataTable, element);\n",
              "          const docLink = document.createElement('div');\n",
              "          docLink.innerHTML = docLinkHtml;\n",
              "          element.appendChild(docLink);\n",
              "        }\n",
              "      </script>\n",
              "    </div>\n",
              "  </div>\n",
              "  "
            ]
          },
          "metadata": {},
          "execution_count": 64
        }
      ]
    },
    {
      "cell_type": "code",
      "source": [
        "#type(df_test_1['2'][0])\n",
        "df_test_1['vac'] = df_test_1['vac'].apply(lambda x: ast.literal_eval(x))\n"
      ],
      "metadata": {
        "id": "Jz0TWRzkEAGm"
      },
      "execution_count": 60,
      "outputs": []
    },
    {
      "cell_type": "code",
      "source": [
        " set(test_prediction['top_recommendations'][2]).intersection(set(df_test_1['vac'][2]))"
      ],
      "metadata": {
        "colab": {
          "base_uri": "https://localhost:8080/"
        },
        "id": "AGY9kOM0Dd_T",
        "outputId": "3008b4bb-91ae-4a9c-c26d-e09dcd6432cc"
      },
      "execution_count": 98,
      "outputs": [
        {
          "output_type": "execute_result",
          "data": {
            "text/plain": [
              "set()"
            ]
          },
          "metadata": {},
          "execution_count": 98
        }
      ]
    },
    {
      "cell_type": "code",
      "source": [
        "test_prediction"
      ],
      "metadata": {
        "colab": {
          "base_uri": "https://localhost:8080/",
          "height": 423
        },
        "id": "sxUFLpQB5djK",
        "outputId": "b1929975-c19d-41b0-a5c9-bb89ca9bfd69"
      },
      "execution_count": null,
      "outputs": [
        {
          "output_type": "execute_result",
          "data": {
            "text/plain": [
              "                             cookie_id  \\\n",
              "0     00252da2760d4231b366d79eaf6a54a1   \n",
              "1     0052234b5356480f9dff207888135548   \n",
              "2     007090a8c8354b42bf538b93785303d3   \n",
              "3     00c15cb6e3c84464a0e538e46ced6c46   \n",
              "4     00d6baa0391e41628da60e2b4a37e19f   \n",
              "...                                ...   \n",
              "1785  ff6aeeddb38847c59979efce29225e87   \n",
              "1786  ff7861c402e84f9fa78ff00f49eb83a1   \n",
              "1787  ff81d0fe535247ac9df2468f8e57a9e9   \n",
              "1788  ffa618b6b94444239aee6356fc67af48   \n",
              "1789  ffa8eedc0bc44afd9e941bbdf55fb08e   \n",
              "\n",
              "                           top_recommendations  \\\n",
              "0     [122614, 209448, 253946, 117532, 209422]   \n",
              "1     [230322, 230326, 127887, 182879, 133932]   \n",
              "2     [101396, 250327, 164246, 165274, 106729]   \n",
              "3     [171332, 253678, 217683, 101462, 154248]   \n",
              "4     [260154, 202608, 257631, 110421, 112506]   \n",
              "...                                        ...   \n",
              "1785  [101396, 106729, 201312, 257747, 207169]   \n",
              "1786  [123363, 197638, 240927, 106228, 241501]   \n",
              "1787  [113088, 150516, 258955, 256041, 103209]   \n",
              "1788  [209422, 101136, 209448, 185355, 219770]   \n",
              "1789  [190928, 209422, 209448, 219770, 122614]   \n",
              "\n",
              "                                  cook  \\\n",
              "0     00252da2760d4231b366d79eaf6a54a1   \n",
              "1     0052234b5356480f9dff207888135548   \n",
              "2     007090a8c8354b42bf538b93785303d3   \n",
              "3     00c15cb6e3c84464a0e538e46ced6c46   \n",
              "4     00d6baa0391e41628da60e2b4a37e19f   \n",
              "...                                ...   \n",
              "1785  ff6aeeddb38847c59979efce29225e87   \n",
              "1786  ff7861c402e84f9fa78ff00f49eb83a1   \n",
              "1787  ff81d0fe535247ac9df2468f8e57a9e9   \n",
              "1788  ffa618b6b94444239aee6356fc67af48   \n",
              "1789  ffa8eedc0bc44afd9e941bbdf55fb08e   \n",
              "\n",
              "                                           vac  \n",
              "0     [139502, 133937, 153196, 166055, 168696]  \n",
              "1     [108861, 134982, 141785, 146245, 153937]  \n",
              "2     [101396, 118250, 122614, 152485, 164067]  \n",
              "3     [139462, 101462, 108276, 108536, 111783]  \n",
              "4     [117958, 157903, 159843, 164325, 164331]  \n",
              "...                                        ...  \n",
              "1785  [112920, 126057, 126404, 127524, 130124]  \n",
              "1786  [248949, 254085, 108510, 128900, 182528]  \n",
              "1787  [107949, 104587, 134588, 136000, 143178]  \n",
              "1788  [101136, 117182, 117525, 185355, 223343]  \n",
              "1789  [131720, 117525, 235529, 102702, 143665]  \n",
              "\n",
              "[1790 rows x 4 columns]"
            ],
            "text/html": [
              "\n",
              "  <div id=\"df-3ee8e889-b4e7-44d1-97fc-abd79cc59026\">\n",
              "    <div class=\"colab-df-container\">\n",
              "      <div>\n",
              "<style scoped>\n",
              "    .dataframe tbody tr th:only-of-type {\n",
              "        vertical-align: middle;\n",
              "    }\n",
              "\n",
              "    .dataframe tbody tr th {\n",
              "        vertical-align: top;\n",
              "    }\n",
              "\n",
              "    .dataframe thead th {\n",
              "        text-align: right;\n",
              "    }\n",
              "</style>\n",
              "<table border=\"1\" class=\"dataframe\">\n",
              "  <thead>\n",
              "    <tr style=\"text-align: right;\">\n",
              "      <th></th>\n",
              "      <th>cookie_id</th>\n",
              "      <th>top_recommendations</th>\n",
              "      <th>cook</th>\n",
              "      <th>vac</th>\n",
              "    </tr>\n",
              "  </thead>\n",
              "  <tbody>\n",
              "    <tr>\n",
              "      <th>0</th>\n",
              "      <td>00252da2760d4231b366d79eaf6a54a1</td>\n",
              "      <td>[122614, 209448, 253946, 117532, 209422]</td>\n",
              "      <td>00252da2760d4231b366d79eaf6a54a1</td>\n",
              "      <td>[139502, 133937, 153196, 166055, 168696]</td>\n",
              "    </tr>\n",
              "    <tr>\n",
              "      <th>1</th>\n",
              "      <td>0052234b5356480f9dff207888135548</td>\n",
              "      <td>[230322, 230326, 127887, 182879, 133932]</td>\n",
              "      <td>0052234b5356480f9dff207888135548</td>\n",
              "      <td>[108861, 134982, 141785, 146245, 153937]</td>\n",
              "    </tr>\n",
              "    <tr>\n",
              "      <th>2</th>\n",
              "      <td>007090a8c8354b42bf538b93785303d3</td>\n",
              "      <td>[101396, 250327, 164246, 165274, 106729]</td>\n",
              "      <td>007090a8c8354b42bf538b93785303d3</td>\n",
              "      <td>[101396, 118250, 122614, 152485, 164067]</td>\n",
              "    </tr>\n",
              "    <tr>\n",
              "      <th>3</th>\n",
              "      <td>00c15cb6e3c84464a0e538e46ced6c46</td>\n",
              "      <td>[171332, 253678, 217683, 101462, 154248]</td>\n",
              "      <td>00c15cb6e3c84464a0e538e46ced6c46</td>\n",
              "      <td>[139462, 101462, 108276, 108536, 111783]</td>\n",
              "    </tr>\n",
              "    <tr>\n",
              "      <th>4</th>\n",
              "      <td>00d6baa0391e41628da60e2b4a37e19f</td>\n",
              "      <td>[260154, 202608, 257631, 110421, 112506]</td>\n",
              "      <td>00d6baa0391e41628da60e2b4a37e19f</td>\n",
              "      <td>[117958, 157903, 159843, 164325, 164331]</td>\n",
              "    </tr>\n",
              "    <tr>\n",
              "      <th>...</th>\n",
              "      <td>...</td>\n",
              "      <td>...</td>\n",
              "      <td>...</td>\n",
              "      <td>...</td>\n",
              "    </tr>\n",
              "    <tr>\n",
              "      <th>1785</th>\n",
              "      <td>ff6aeeddb38847c59979efce29225e87</td>\n",
              "      <td>[101396, 106729, 201312, 257747, 207169]</td>\n",
              "      <td>ff6aeeddb38847c59979efce29225e87</td>\n",
              "      <td>[112920, 126057, 126404, 127524, 130124]</td>\n",
              "    </tr>\n",
              "    <tr>\n",
              "      <th>1786</th>\n",
              "      <td>ff7861c402e84f9fa78ff00f49eb83a1</td>\n",
              "      <td>[123363, 197638, 240927, 106228, 241501]</td>\n",
              "      <td>ff7861c402e84f9fa78ff00f49eb83a1</td>\n",
              "      <td>[248949, 254085, 108510, 128900, 182528]</td>\n",
              "    </tr>\n",
              "    <tr>\n",
              "      <th>1787</th>\n",
              "      <td>ff81d0fe535247ac9df2468f8e57a9e9</td>\n",
              "      <td>[113088, 150516, 258955, 256041, 103209]</td>\n",
              "      <td>ff81d0fe535247ac9df2468f8e57a9e9</td>\n",
              "      <td>[107949, 104587, 134588, 136000, 143178]</td>\n",
              "    </tr>\n",
              "    <tr>\n",
              "      <th>1788</th>\n",
              "      <td>ffa618b6b94444239aee6356fc67af48</td>\n",
              "      <td>[209422, 101136, 209448, 185355, 219770]</td>\n",
              "      <td>ffa618b6b94444239aee6356fc67af48</td>\n",
              "      <td>[101136, 117182, 117525, 185355, 223343]</td>\n",
              "    </tr>\n",
              "    <tr>\n",
              "      <th>1789</th>\n",
              "      <td>ffa8eedc0bc44afd9e941bbdf55fb08e</td>\n",
              "      <td>[190928, 209422, 209448, 219770, 122614]</td>\n",
              "      <td>ffa8eedc0bc44afd9e941bbdf55fb08e</td>\n",
              "      <td>[131720, 117525, 235529, 102702, 143665]</td>\n",
              "    </tr>\n",
              "  </tbody>\n",
              "</table>\n",
              "<p>1790 rows × 4 columns</p>\n",
              "</div>\n",
              "      <button class=\"colab-df-convert\" onclick=\"convertToInteractive('df-3ee8e889-b4e7-44d1-97fc-abd79cc59026')\"\n",
              "              title=\"Convert this dataframe to an interactive table.\"\n",
              "              style=\"display:none;\">\n",
              "        \n",
              "  <svg xmlns=\"http://www.w3.org/2000/svg\" height=\"24px\"viewBox=\"0 0 24 24\"\n",
              "       width=\"24px\">\n",
              "    <path d=\"M0 0h24v24H0V0z\" fill=\"none\"/>\n",
              "    <path d=\"M18.56 5.44l.94 2.06.94-2.06 2.06-.94-2.06-.94-.94-2.06-.94 2.06-2.06.94zm-11 1L8.5 8.5l.94-2.06 2.06-.94-2.06-.94L8.5 2.5l-.94 2.06-2.06.94zm10 10l.94 2.06.94-2.06 2.06-.94-2.06-.94-.94-2.06-.94 2.06-2.06.94z\"/><path d=\"M17.41 7.96l-1.37-1.37c-.4-.4-.92-.59-1.43-.59-.52 0-1.04.2-1.43.59L10.3 9.45l-7.72 7.72c-.78.78-.78 2.05 0 2.83L4 21.41c.39.39.9.59 1.41.59.51 0 1.02-.2 1.41-.59l7.78-7.78 2.81-2.81c.8-.78.8-2.07 0-2.86zM5.41 20L4 18.59l7.72-7.72 1.47 1.35L5.41 20z\"/>\n",
              "  </svg>\n",
              "      </button>\n",
              "      \n",
              "  <style>\n",
              "    .colab-df-container {\n",
              "      display:flex;\n",
              "      flex-wrap:wrap;\n",
              "      gap: 12px;\n",
              "    }\n",
              "\n",
              "    .colab-df-convert {\n",
              "      background-color: #E8F0FE;\n",
              "      border: none;\n",
              "      border-radius: 50%;\n",
              "      cursor: pointer;\n",
              "      display: none;\n",
              "      fill: #1967D2;\n",
              "      height: 32px;\n",
              "      padding: 0 0 0 0;\n",
              "      width: 32px;\n",
              "    }\n",
              "\n",
              "    .colab-df-convert:hover {\n",
              "      background-color: #E2EBFA;\n",
              "      box-shadow: 0px 1px 2px rgba(60, 64, 67, 0.3), 0px 1px 3px 1px rgba(60, 64, 67, 0.15);\n",
              "      fill: #174EA6;\n",
              "    }\n",
              "\n",
              "    [theme=dark] .colab-df-convert {\n",
              "      background-color: #3B4455;\n",
              "      fill: #D2E3FC;\n",
              "    }\n",
              "\n",
              "    [theme=dark] .colab-df-convert:hover {\n",
              "      background-color: #434B5C;\n",
              "      box-shadow: 0px 1px 3px 1px rgba(0, 0, 0, 0.15);\n",
              "      filter: drop-shadow(0px 1px 2px rgba(0, 0, 0, 0.3));\n",
              "      fill: #FFFFFF;\n",
              "    }\n",
              "  </style>\n",
              "\n",
              "      <script>\n",
              "        const buttonEl =\n",
              "          document.querySelector('#df-3ee8e889-b4e7-44d1-97fc-abd79cc59026 button.colab-df-convert');\n",
              "        buttonEl.style.display =\n",
              "          google.colab.kernel.accessAllowed ? 'block' : 'none';\n",
              "\n",
              "        async function convertToInteractive(key) {\n",
              "          const element = document.querySelector('#df-3ee8e889-b4e7-44d1-97fc-abd79cc59026');\n",
              "          const dataTable =\n",
              "            await google.colab.kernel.invokeFunction('convertToInteractive',\n",
              "                                                     [key], {});\n",
              "          if (!dataTable) return;\n",
              "\n",
              "          const docLinkHtml = 'Like what you see? Visit the ' +\n",
              "            '<a target=\"_blank\" href=https://colab.research.google.com/notebooks/data_table.ipynb>data table notebook</a>'\n",
              "            + ' to learn more about interactive tables.';\n",
              "          element.innerHTML = '';\n",
              "          dataTable['output_type'] = 'display_data';\n",
              "          await google.colab.output.renderOutput(dataTable, element);\n",
              "          const docLink = document.createElement('div');\n",
              "          docLink.innerHTML = docLinkHtml;\n",
              "          element.appendChild(docLink);\n",
              "        }\n",
              "      </script>\n",
              "    </div>\n",
              "  </div>\n",
              "  "
            ]
          },
          "metadata": {},
          "execution_count": 216
        }
      ]
    },
    {
      "cell_type": "code",
      "source": [
        "df_test_1"
      ],
      "metadata": {
        "colab": {
          "base_uri": "https://localhost:8080/",
          "height": 423
        },
        "id": "ZaaZ5G-o5v6j",
        "outputId": "c3a2e84f-193f-41ad-8972-659a440cce10"
      },
      "execution_count": null,
      "outputs": [
        {
          "output_type": "execute_result",
          "data": {
            "text/plain": [
              "                             cookie_id  \\\n",
              "0     00252da2760d4231b366d79eaf6a54a1   \n",
              "1     0052234b5356480f9dff207888135548   \n",
              "2     007090a8c8354b42bf538b93785303d3   \n",
              "3     00c15cb6e3c84464a0e538e46ced6c46   \n",
              "4     00d6baa0391e41628da60e2b4a37e19f   \n",
              "...                                ...   \n",
              "1785  ff6aeeddb38847c59979efce29225e87   \n",
              "1786  ff7861c402e84f9fa78ff00f49eb83a1   \n",
              "1787  ff81d0fe535247ac9df2468f8e57a9e9   \n",
              "1788  ffa618b6b94444239aee6356fc67af48   \n",
              "1789  ffa8eedc0bc44afd9e941bbdf55fb08e   \n",
              "\n",
              "                           top_recommendations  \\\n",
              "0     [122614, 209448, 253946, 117532, 209422]   \n",
              "1     [230322, 230326, 127887, 182879, 133932]   \n",
              "2     [101396, 250327, 164246, 165274, 106729]   \n",
              "3     [171332, 253678, 217683, 101462, 154248]   \n",
              "4     [260154, 202608, 257631, 110421, 112506]   \n",
              "...                                        ...   \n",
              "1785  [101396, 106729, 201312, 257747, 207169]   \n",
              "1786  [123363, 197638, 240927, 106228, 241501]   \n",
              "1787  [113088, 150516, 258955, 256041, 103209]   \n",
              "1788  [209422, 101136, 209448, 185355, 219770]   \n",
              "1789  [190928, 209422, 209448, 219770, 122614]   \n",
              "\n",
              "                                  cook  \\\n",
              "0     00252da2760d4231b366d79eaf6a54a1   \n",
              "1     0052234b5356480f9dff207888135548   \n",
              "2     007090a8c8354b42bf538b93785303d3   \n",
              "3     00c15cb6e3c84464a0e538e46ced6c46   \n",
              "4     00d6baa0391e41628da60e2b4a37e19f   \n",
              "...                                ...   \n",
              "1785  ff6aeeddb38847c59979efce29225e87   \n",
              "1786  ff7861c402e84f9fa78ff00f49eb83a1   \n",
              "1787  ff81d0fe535247ac9df2468f8e57a9e9   \n",
              "1788  ffa618b6b94444239aee6356fc67af48   \n",
              "1789  ffa8eedc0bc44afd9e941bbdf55fb08e   \n",
              "\n",
              "                                           vac  \n",
              "0     [139502, 133937, 153196, 166055, 168696]  \n",
              "1     [108861, 134982, 141785, 146245, 153937]  \n",
              "2     [101396, 118250, 122614, 152485, 164067]  \n",
              "3     [139462, 101462, 108276, 108536, 111783]  \n",
              "4     [117958, 157903, 159843, 164325, 164331]  \n",
              "...                                        ...  \n",
              "1785  [112920, 126057, 126404, 127524, 130124]  \n",
              "1786  [248949, 254085, 108510, 128900, 182528]  \n",
              "1787  [107949, 104587, 134588, 136000, 143178]  \n",
              "1788  [101136, 117182, 117525, 185355, 223343]  \n",
              "1789  [131720, 117525, 235529, 102702, 143665]  \n",
              "\n",
              "[1790 rows x 4 columns]"
            ],
            "text/html": [
              "\n",
              "  <div id=\"df-01a7586d-9341-4032-9f53-e34e50982f5f\">\n",
              "    <div class=\"colab-df-container\">\n",
              "      <div>\n",
              "<style scoped>\n",
              "    .dataframe tbody tr th:only-of-type {\n",
              "        vertical-align: middle;\n",
              "    }\n",
              "\n",
              "    .dataframe tbody tr th {\n",
              "        vertical-align: top;\n",
              "    }\n",
              "\n",
              "    .dataframe thead th {\n",
              "        text-align: right;\n",
              "    }\n",
              "</style>\n",
              "<table border=\"1\" class=\"dataframe\">\n",
              "  <thead>\n",
              "    <tr style=\"text-align: right;\">\n",
              "      <th></th>\n",
              "      <th>cookie_id</th>\n",
              "      <th>top_recommendations</th>\n",
              "      <th>cook</th>\n",
              "      <th>vac</th>\n",
              "    </tr>\n",
              "  </thead>\n",
              "  <tbody>\n",
              "    <tr>\n",
              "      <th>0</th>\n",
              "      <td>00252da2760d4231b366d79eaf6a54a1</td>\n",
              "      <td>[122614, 209448, 253946, 117532, 209422]</td>\n",
              "      <td>00252da2760d4231b366d79eaf6a54a1</td>\n",
              "      <td>[139502, 133937, 153196, 166055, 168696]</td>\n",
              "    </tr>\n",
              "    <tr>\n",
              "      <th>1</th>\n",
              "      <td>0052234b5356480f9dff207888135548</td>\n",
              "      <td>[230322, 230326, 127887, 182879, 133932]</td>\n",
              "      <td>0052234b5356480f9dff207888135548</td>\n",
              "      <td>[108861, 134982, 141785, 146245, 153937]</td>\n",
              "    </tr>\n",
              "    <tr>\n",
              "      <th>2</th>\n",
              "      <td>007090a8c8354b42bf538b93785303d3</td>\n",
              "      <td>[101396, 250327, 164246, 165274, 106729]</td>\n",
              "      <td>007090a8c8354b42bf538b93785303d3</td>\n",
              "      <td>[101396, 118250, 122614, 152485, 164067]</td>\n",
              "    </tr>\n",
              "    <tr>\n",
              "      <th>3</th>\n",
              "      <td>00c15cb6e3c84464a0e538e46ced6c46</td>\n",
              "      <td>[171332, 253678, 217683, 101462, 154248]</td>\n",
              "      <td>00c15cb6e3c84464a0e538e46ced6c46</td>\n",
              "      <td>[139462, 101462, 108276, 108536, 111783]</td>\n",
              "    </tr>\n",
              "    <tr>\n",
              "      <th>4</th>\n",
              "      <td>00d6baa0391e41628da60e2b4a37e19f</td>\n",
              "      <td>[260154, 202608, 257631, 110421, 112506]</td>\n",
              "      <td>00d6baa0391e41628da60e2b4a37e19f</td>\n",
              "      <td>[117958, 157903, 159843, 164325, 164331]</td>\n",
              "    </tr>\n",
              "    <tr>\n",
              "      <th>...</th>\n",
              "      <td>...</td>\n",
              "      <td>...</td>\n",
              "      <td>...</td>\n",
              "      <td>...</td>\n",
              "    </tr>\n",
              "    <tr>\n",
              "      <th>1785</th>\n",
              "      <td>ff6aeeddb38847c59979efce29225e87</td>\n",
              "      <td>[101396, 106729, 201312, 257747, 207169]</td>\n",
              "      <td>ff6aeeddb38847c59979efce29225e87</td>\n",
              "      <td>[112920, 126057, 126404, 127524, 130124]</td>\n",
              "    </tr>\n",
              "    <tr>\n",
              "      <th>1786</th>\n",
              "      <td>ff7861c402e84f9fa78ff00f49eb83a1</td>\n",
              "      <td>[123363, 197638, 240927, 106228, 241501]</td>\n",
              "      <td>ff7861c402e84f9fa78ff00f49eb83a1</td>\n",
              "      <td>[248949, 254085, 108510, 128900, 182528]</td>\n",
              "    </tr>\n",
              "    <tr>\n",
              "      <th>1787</th>\n",
              "      <td>ff81d0fe535247ac9df2468f8e57a9e9</td>\n",
              "      <td>[113088, 150516, 258955, 256041, 103209]</td>\n",
              "      <td>ff81d0fe535247ac9df2468f8e57a9e9</td>\n",
              "      <td>[107949, 104587, 134588, 136000, 143178]</td>\n",
              "    </tr>\n",
              "    <tr>\n",
              "      <th>1788</th>\n",
              "      <td>ffa618b6b94444239aee6356fc67af48</td>\n",
              "      <td>[209422, 101136, 209448, 185355, 219770]</td>\n",
              "      <td>ffa618b6b94444239aee6356fc67af48</td>\n",
              "      <td>[101136, 117182, 117525, 185355, 223343]</td>\n",
              "    </tr>\n",
              "    <tr>\n",
              "      <th>1789</th>\n",
              "      <td>ffa8eedc0bc44afd9e941bbdf55fb08e</td>\n",
              "      <td>[190928, 209422, 209448, 219770, 122614]</td>\n",
              "      <td>ffa8eedc0bc44afd9e941bbdf55fb08e</td>\n",
              "      <td>[131720, 117525, 235529, 102702, 143665]</td>\n",
              "    </tr>\n",
              "  </tbody>\n",
              "</table>\n",
              "<p>1790 rows × 4 columns</p>\n",
              "</div>\n",
              "      <button class=\"colab-df-convert\" onclick=\"convertToInteractive('df-01a7586d-9341-4032-9f53-e34e50982f5f')\"\n",
              "              title=\"Convert this dataframe to an interactive table.\"\n",
              "              style=\"display:none;\">\n",
              "        \n",
              "  <svg xmlns=\"http://www.w3.org/2000/svg\" height=\"24px\"viewBox=\"0 0 24 24\"\n",
              "       width=\"24px\">\n",
              "    <path d=\"M0 0h24v24H0V0z\" fill=\"none\"/>\n",
              "    <path d=\"M18.56 5.44l.94 2.06.94-2.06 2.06-.94-2.06-.94-.94-2.06-.94 2.06-2.06.94zm-11 1L8.5 8.5l.94-2.06 2.06-.94-2.06-.94L8.5 2.5l-.94 2.06-2.06.94zm10 10l.94 2.06.94-2.06 2.06-.94-2.06-.94-.94-2.06-.94 2.06-2.06.94z\"/><path d=\"M17.41 7.96l-1.37-1.37c-.4-.4-.92-.59-1.43-.59-.52 0-1.04.2-1.43.59L10.3 9.45l-7.72 7.72c-.78.78-.78 2.05 0 2.83L4 21.41c.39.39.9.59 1.41.59.51 0 1.02-.2 1.41-.59l7.78-7.78 2.81-2.81c.8-.78.8-2.07 0-2.86zM5.41 20L4 18.59l7.72-7.72 1.47 1.35L5.41 20z\"/>\n",
              "  </svg>\n",
              "      </button>\n",
              "      \n",
              "  <style>\n",
              "    .colab-df-container {\n",
              "      display:flex;\n",
              "      flex-wrap:wrap;\n",
              "      gap: 12px;\n",
              "    }\n",
              "\n",
              "    .colab-df-convert {\n",
              "      background-color: #E8F0FE;\n",
              "      border: none;\n",
              "      border-radius: 50%;\n",
              "      cursor: pointer;\n",
              "      display: none;\n",
              "      fill: #1967D2;\n",
              "      height: 32px;\n",
              "      padding: 0 0 0 0;\n",
              "      width: 32px;\n",
              "    }\n",
              "\n",
              "    .colab-df-convert:hover {\n",
              "      background-color: #E2EBFA;\n",
              "      box-shadow: 0px 1px 2px rgba(60, 64, 67, 0.3), 0px 1px 3px 1px rgba(60, 64, 67, 0.15);\n",
              "      fill: #174EA6;\n",
              "    }\n",
              "\n",
              "    [theme=dark] .colab-df-convert {\n",
              "      background-color: #3B4455;\n",
              "      fill: #D2E3FC;\n",
              "    }\n",
              "\n",
              "    [theme=dark] .colab-df-convert:hover {\n",
              "      background-color: #434B5C;\n",
              "      box-shadow: 0px 1px 3px 1px rgba(0, 0, 0, 0.15);\n",
              "      filter: drop-shadow(0px 1px 2px rgba(0, 0, 0, 0.3));\n",
              "      fill: #FFFFFF;\n",
              "    }\n",
              "  </style>\n",
              "\n",
              "      <script>\n",
              "        const buttonEl =\n",
              "          document.querySelector('#df-01a7586d-9341-4032-9f53-e34e50982f5f button.colab-df-convert');\n",
              "        buttonEl.style.display =\n",
              "          google.colab.kernel.accessAllowed ? 'block' : 'none';\n",
              "\n",
              "        async function convertToInteractive(key) {\n",
              "          const element = document.querySelector('#df-01a7586d-9341-4032-9f53-e34e50982f5f');\n",
              "          const dataTable =\n",
              "            await google.colab.kernel.invokeFunction('convertToInteractive',\n",
              "                                                     [key], {});\n",
              "          if (!dataTable) return;\n",
              "\n",
              "          const docLinkHtml = 'Like what you see? Visit the ' +\n",
              "            '<a target=\"_blank\" href=https://colab.research.google.com/notebooks/data_table.ipynb>data table notebook</a>'\n",
              "            + ' to learn more about interactive tables.';\n",
              "          element.innerHTML = '';\n",
              "          dataTable['output_type'] = 'display_data';\n",
              "          await google.colab.output.renderOutput(dataTable, element);\n",
              "          const docLink = document.createElement('div');\n",
              "          docLink.innerHTML = docLinkHtml;\n",
              "          element.appendChild(docLink);\n",
              "        }\n",
              "      </script>\n",
              "    </div>\n",
              "  </div>\n",
              "  "
            ]
          },
          "metadata": {},
          "execution_count": 218
        }
      ]
    },
    {
      "cell_type": "code",
      "source": [
        "# Ну и собственно вот результат\n",
        "precision_n(test_prediction, df_test_1)"
      ],
      "metadata": {
        "colab": {
          "base_uri": "https://localhost:8080/"
        },
        "id": "JVZiqJF2IiZ4",
        "outputId": "215ee559-c7ba-4025-8d85-f021c14bfb13"
      },
      "execution_count": 63,
      "outputs": [
        {
          "output_type": "execute_result",
          "data": {
            "text/plain": [
              "0.05697959183673469"
            ]
          },
          "metadata": {},
          "execution_count": 63
        }
      ]
    }
  ],
  "metadata": {
    "colab": {
      "provenance": []
    },
    "kernelspec": {
      "display_name": "Python 3",
      "language": "python",
      "name": "python3"
    },
    "language_info": {
      "codemirror_mode": {
        "name": "ipython",
        "version": 3
      },
      "file_extension": ".py",
      "mimetype": "text/x-python",
      "name": "python",
      "nbconvert_exporter": "python",
      "pygments_lexer": "ipython3",
      "version": "3.10.7"
    },
    "widgets": {
      "application/vnd.jupyter.widget-state+json": {
        "0893b0a27e3a4757b57db6b835a74bf8": {
          "model_module": "@jupyter-widgets/controls",
          "model_name": "HBoxModel",
          "model_module_version": "1.5.0",
          "state": {
            "_dom_classes": [],
            "_model_module": "@jupyter-widgets/controls",
            "_model_module_version": "1.5.0",
            "_model_name": "HBoxModel",
            "_view_count": null,
            "_view_module": "@jupyter-widgets/controls",
            "_view_module_version": "1.5.0",
            "_view_name": "HBoxView",
            "box_style": "",
            "children": [
              "IPY_MODEL_88784da80a554ac88f3b4ae426c7a8d2",
              "IPY_MODEL_8d103194b3d74472be9e482a8c2e849e",
              "IPY_MODEL_1341acde6ae44593a4918aef5aff1fd3"
            ],
            "layout": "IPY_MODEL_aaa95ac0bcd9400cac5fcaef91ccd8a1"
          }
        },
        "88784da80a554ac88f3b4ae426c7a8d2": {
          "model_module": "@jupyter-widgets/controls",
          "model_name": "HTMLModel",
          "model_module_version": "1.5.0",
          "state": {
            "_dom_classes": [],
            "_model_module": "@jupyter-widgets/controls",
            "_model_module_version": "1.5.0",
            "_model_name": "HTMLModel",
            "_view_count": null,
            "_view_module": "@jupyter-widgets/controls",
            "_view_module_version": "1.5.0",
            "_view_name": "HTMLView",
            "description": "",
            "description_tooltip": null,
            "layout": "IPY_MODEL_7100190b24b74725aa676fc82e12ad0a",
            "placeholder": "​",
            "style": "IPY_MODEL_b72bc0729d0d41c49c92b3da6b2c8cc8",
            "value": "100%"
          }
        },
        "8d103194b3d74472be9e482a8c2e849e": {
          "model_module": "@jupyter-widgets/controls",
          "model_name": "FloatProgressModel",
          "model_module_version": "1.5.0",
          "state": {
            "_dom_classes": [],
            "_model_module": "@jupyter-widgets/controls",
            "_model_module_version": "1.5.0",
            "_model_name": "FloatProgressModel",
            "_view_count": null,
            "_view_module": "@jupyter-widgets/controls",
            "_view_module_version": "1.5.0",
            "_view_name": "ProgressView",
            "bar_style": "success",
            "description": "",
            "description_tooltip": null,
            "layout": "IPY_MODEL_e361023a508a4d72be6146778845feaa",
            "max": 50,
            "min": 0,
            "orientation": "horizontal",
            "style": "IPY_MODEL_41fb54498cf3450ea6f20c54ba4f5fd5",
            "value": 50
          }
        },
        "1341acde6ae44593a4918aef5aff1fd3": {
          "model_module": "@jupyter-widgets/controls",
          "model_name": "HTMLModel",
          "model_module_version": "1.5.0",
          "state": {
            "_dom_classes": [],
            "_model_module": "@jupyter-widgets/controls",
            "_model_module_version": "1.5.0",
            "_model_name": "HTMLModel",
            "_view_count": null,
            "_view_module": "@jupyter-widgets/controls",
            "_view_module_version": "1.5.0",
            "_view_name": "HTMLView",
            "description": "",
            "description_tooltip": null,
            "layout": "IPY_MODEL_dd68b69fc3544942934299ae22fdd1f2",
            "placeholder": "​",
            "style": "IPY_MODEL_b5e12630412f46b6ab8af9f5db96575a",
            "value": " 50/50 [00:26&lt;00:00,  2.19it/s]"
          }
        },
        "aaa95ac0bcd9400cac5fcaef91ccd8a1": {
          "model_module": "@jupyter-widgets/base",
          "model_name": "LayoutModel",
          "model_module_version": "1.2.0",
          "state": {
            "_model_module": "@jupyter-widgets/base",
            "_model_module_version": "1.2.0",
            "_model_name": "LayoutModel",
            "_view_count": null,
            "_view_module": "@jupyter-widgets/base",
            "_view_module_version": "1.2.0",
            "_view_name": "LayoutView",
            "align_content": null,
            "align_items": null,
            "align_self": null,
            "border": null,
            "bottom": null,
            "display": null,
            "flex": null,
            "flex_flow": null,
            "grid_area": null,
            "grid_auto_columns": null,
            "grid_auto_flow": null,
            "grid_auto_rows": null,
            "grid_column": null,
            "grid_gap": null,
            "grid_row": null,
            "grid_template_areas": null,
            "grid_template_columns": null,
            "grid_template_rows": null,
            "height": null,
            "justify_content": null,
            "justify_items": null,
            "left": null,
            "margin": null,
            "max_height": null,
            "max_width": null,
            "min_height": null,
            "min_width": null,
            "object_fit": null,
            "object_position": null,
            "order": null,
            "overflow": null,
            "overflow_x": null,
            "overflow_y": null,
            "padding": null,
            "right": null,
            "top": null,
            "visibility": null,
            "width": null
          }
        },
        "7100190b24b74725aa676fc82e12ad0a": {
          "model_module": "@jupyter-widgets/base",
          "model_name": "LayoutModel",
          "model_module_version": "1.2.0",
          "state": {
            "_model_module": "@jupyter-widgets/base",
            "_model_module_version": "1.2.0",
            "_model_name": "LayoutModel",
            "_view_count": null,
            "_view_module": "@jupyter-widgets/base",
            "_view_module_version": "1.2.0",
            "_view_name": "LayoutView",
            "align_content": null,
            "align_items": null,
            "align_self": null,
            "border": null,
            "bottom": null,
            "display": null,
            "flex": null,
            "flex_flow": null,
            "grid_area": null,
            "grid_auto_columns": null,
            "grid_auto_flow": null,
            "grid_auto_rows": null,
            "grid_column": null,
            "grid_gap": null,
            "grid_row": null,
            "grid_template_areas": null,
            "grid_template_columns": null,
            "grid_template_rows": null,
            "height": null,
            "justify_content": null,
            "justify_items": null,
            "left": null,
            "margin": null,
            "max_height": null,
            "max_width": null,
            "min_height": null,
            "min_width": null,
            "object_fit": null,
            "object_position": null,
            "order": null,
            "overflow": null,
            "overflow_x": null,
            "overflow_y": null,
            "padding": null,
            "right": null,
            "top": null,
            "visibility": null,
            "width": null
          }
        },
        "b72bc0729d0d41c49c92b3da6b2c8cc8": {
          "model_module": "@jupyter-widgets/controls",
          "model_name": "DescriptionStyleModel",
          "model_module_version": "1.5.0",
          "state": {
            "_model_module": "@jupyter-widgets/controls",
            "_model_module_version": "1.5.0",
            "_model_name": "DescriptionStyleModel",
            "_view_count": null,
            "_view_module": "@jupyter-widgets/base",
            "_view_module_version": "1.2.0",
            "_view_name": "StyleView",
            "description_width": ""
          }
        },
        "e361023a508a4d72be6146778845feaa": {
          "model_module": "@jupyter-widgets/base",
          "model_name": "LayoutModel",
          "model_module_version": "1.2.0",
          "state": {
            "_model_module": "@jupyter-widgets/base",
            "_model_module_version": "1.2.0",
            "_model_name": "LayoutModel",
            "_view_count": null,
            "_view_module": "@jupyter-widgets/base",
            "_view_module_version": "1.2.0",
            "_view_name": "LayoutView",
            "align_content": null,
            "align_items": null,
            "align_self": null,
            "border": null,
            "bottom": null,
            "display": null,
            "flex": null,
            "flex_flow": null,
            "grid_area": null,
            "grid_auto_columns": null,
            "grid_auto_flow": null,
            "grid_auto_rows": null,
            "grid_column": null,
            "grid_gap": null,
            "grid_row": null,
            "grid_template_areas": null,
            "grid_template_columns": null,
            "grid_template_rows": null,
            "height": null,
            "justify_content": null,
            "justify_items": null,
            "left": null,
            "margin": null,
            "max_height": null,
            "max_width": null,
            "min_height": null,
            "min_width": null,
            "object_fit": null,
            "object_position": null,
            "order": null,
            "overflow": null,
            "overflow_x": null,
            "overflow_y": null,
            "padding": null,
            "right": null,
            "top": null,
            "visibility": null,
            "width": null
          }
        },
        "41fb54498cf3450ea6f20c54ba4f5fd5": {
          "model_module": "@jupyter-widgets/controls",
          "model_name": "ProgressStyleModel",
          "model_module_version": "1.5.0",
          "state": {
            "_model_module": "@jupyter-widgets/controls",
            "_model_module_version": "1.5.0",
            "_model_name": "ProgressStyleModel",
            "_view_count": null,
            "_view_module": "@jupyter-widgets/base",
            "_view_module_version": "1.2.0",
            "_view_name": "StyleView",
            "bar_color": null,
            "description_width": ""
          }
        },
        "dd68b69fc3544942934299ae22fdd1f2": {
          "model_module": "@jupyter-widgets/base",
          "model_name": "LayoutModel",
          "model_module_version": "1.2.0",
          "state": {
            "_model_module": "@jupyter-widgets/base",
            "_model_module_version": "1.2.0",
            "_model_name": "LayoutModel",
            "_view_count": null,
            "_view_module": "@jupyter-widgets/base",
            "_view_module_version": "1.2.0",
            "_view_name": "LayoutView",
            "align_content": null,
            "align_items": null,
            "align_self": null,
            "border": null,
            "bottom": null,
            "display": null,
            "flex": null,
            "flex_flow": null,
            "grid_area": null,
            "grid_auto_columns": null,
            "grid_auto_flow": null,
            "grid_auto_rows": null,
            "grid_column": null,
            "grid_gap": null,
            "grid_row": null,
            "grid_template_areas": null,
            "grid_template_columns": null,
            "grid_template_rows": null,
            "height": null,
            "justify_content": null,
            "justify_items": null,
            "left": null,
            "margin": null,
            "max_height": null,
            "max_width": null,
            "min_height": null,
            "min_width": null,
            "object_fit": null,
            "object_position": null,
            "order": null,
            "overflow": null,
            "overflow_x": null,
            "overflow_y": null,
            "padding": null,
            "right": null,
            "top": null,
            "visibility": null,
            "width": null
          }
        },
        "b5e12630412f46b6ab8af9f5db96575a": {
          "model_module": "@jupyter-widgets/controls",
          "model_name": "DescriptionStyleModel",
          "model_module_version": "1.5.0",
          "state": {
            "_model_module": "@jupyter-widgets/controls",
            "_model_module_version": "1.5.0",
            "_model_name": "DescriptionStyleModel",
            "_view_count": null,
            "_view_module": "@jupyter-widgets/base",
            "_view_module_version": "1.2.0",
            "_view_name": "StyleView",
            "description_width": ""
          }
        },
        "983a3c1b4bd249979a61f53a272dfd27": {
          "model_module": "@jupyter-widgets/controls",
          "model_name": "HBoxModel",
          "model_module_version": "1.5.0",
          "state": {
            "_dom_classes": [],
            "_model_module": "@jupyter-widgets/controls",
            "_model_module_version": "1.5.0",
            "_model_name": "HBoxModel",
            "_view_count": null,
            "_view_module": "@jupyter-widgets/controls",
            "_view_module_version": "1.5.0",
            "_view_name": "HBoxView",
            "box_style": "",
            "children": [
              "IPY_MODEL_2206bf5a75a8438bb4e533a241fb3287",
              "IPY_MODEL_a9b0ba2ed5ec4358b1d35facd55f31fd",
              "IPY_MODEL_400206c2c83747629810329b27431aeb"
            ],
            "layout": "IPY_MODEL_458215ee79654c0db2f81ea71722391d"
          }
        },
        "2206bf5a75a8438bb4e533a241fb3287": {
          "model_module": "@jupyter-widgets/controls",
          "model_name": "HTMLModel",
          "model_module_version": "1.5.0",
          "state": {
            "_dom_classes": [],
            "_model_module": "@jupyter-widgets/controls",
            "_model_module_version": "1.5.0",
            "_model_name": "HTMLModel",
            "_view_count": null,
            "_view_module": "@jupyter-widgets/controls",
            "_view_module_version": "1.5.0",
            "_view_name": "HTMLView",
            "description": "",
            "description_tooltip": null,
            "layout": "IPY_MODEL_496ee0a82ed84ba08757381557f16760",
            "placeholder": "​",
            "style": "IPY_MODEL_31660a95d0a54a85810a8a24c6bbda71",
            "value": "100%"
          }
        },
        "a9b0ba2ed5ec4358b1d35facd55f31fd": {
          "model_module": "@jupyter-widgets/controls",
          "model_name": "FloatProgressModel",
          "model_module_version": "1.5.0",
          "state": {
            "_dom_classes": [],
            "_model_module": "@jupyter-widgets/controls",
            "_model_module_version": "1.5.0",
            "_model_name": "FloatProgressModel",
            "_view_count": null,
            "_view_module": "@jupyter-widgets/controls",
            "_view_module_version": "1.5.0",
            "_view_name": "ProgressView",
            "bar_style": "success",
            "description": "",
            "description_tooltip": null,
            "layout": "IPY_MODEL_ca8380b2a2d44ac5a8d2e01b9f4e3753",
            "max": 50,
            "min": 0,
            "orientation": "horizontal",
            "style": "IPY_MODEL_780d3310061d4e21b5bb6f5868e7f80f",
            "value": 50
          }
        },
        "400206c2c83747629810329b27431aeb": {
          "model_module": "@jupyter-widgets/controls",
          "model_name": "HTMLModel",
          "model_module_version": "1.5.0",
          "state": {
            "_dom_classes": [],
            "_model_module": "@jupyter-widgets/controls",
            "_model_module_version": "1.5.0",
            "_model_name": "HTMLModel",
            "_view_count": null,
            "_view_module": "@jupyter-widgets/controls",
            "_view_module_version": "1.5.0",
            "_view_name": "HTMLView",
            "description": "",
            "description_tooltip": null,
            "layout": "IPY_MODEL_c54bfea6465d4e748917347aa47ca6e5",
            "placeholder": "​",
            "style": "IPY_MODEL_4e6c4de36403422f8d8f2a86529dea27",
            "value": " 50/50 [00:22&lt;00:00,  2.19it/s]"
          }
        },
        "458215ee79654c0db2f81ea71722391d": {
          "model_module": "@jupyter-widgets/base",
          "model_name": "LayoutModel",
          "model_module_version": "1.2.0",
          "state": {
            "_model_module": "@jupyter-widgets/base",
            "_model_module_version": "1.2.0",
            "_model_name": "LayoutModel",
            "_view_count": null,
            "_view_module": "@jupyter-widgets/base",
            "_view_module_version": "1.2.0",
            "_view_name": "LayoutView",
            "align_content": null,
            "align_items": null,
            "align_self": null,
            "border": null,
            "bottom": null,
            "display": null,
            "flex": null,
            "flex_flow": null,
            "grid_area": null,
            "grid_auto_columns": null,
            "grid_auto_flow": null,
            "grid_auto_rows": null,
            "grid_column": null,
            "grid_gap": null,
            "grid_row": null,
            "grid_template_areas": null,
            "grid_template_columns": null,
            "grid_template_rows": null,
            "height": null,
            "justify_content": null,
            "justify_items": null,
            "left": null,
            "margin": null,
            "max_height": null,
            "max_width": null,
            "min_height": null,
            "min_width": null,
            "object_fit": null,
            "object_position": null,
            "order": null,
            "overflow": null,
            "overflow_x": null,
            "overflow_y": null,
            "padding": null,
            "right": null,
            "top": null,
            "visibility": null,
            "width": null
          }
        },
        "496ee0a82ed84ba08757381557f16760": {
          "model_module": "@jupyter-widgets/base",
          "model_name": "LayoutModel",
          "model_module_version": "1.2.0",
          "state": {
            "_model_module": "@jupyter-widgets/base",
            "_model_module_version": "1.2.0",
            "_model_name": "LayoutModel",
            "_view_count": null,
            "_view_module": "@jupyter-widgets/base",
            "_view_module_version": "1.2.0",
            "_view_name": "LayoutView",
            "align_content": null,
            "align_items": null,
            "align_self": null,
            "border": null,
            "bottom": null,
            "display": null,
            "flex": null,
            "flex_flow": null,
            "grid_area": null,
            "grid_auto_columns": null,
            "grid_auto_flow": null,
            "grid_auto_rows": null,
            "grid_column": null,
            "grid_gap": null,
            "grid_row": null,
            "grid_template_areas": null,
            "grid_template_columns": null,
            "grid_template_rows": null,
            "height": null,
            "justify_content": null,
            "justify_items": null,
            "left": null,
            "margin": null,
            "max_height": null,
            "max_width": null,
            "min_height": null,
            "min_width": null,
            "object_fit": null,
            "object_position": null,
            "order": null,
            "overflow": null,
            "overflow_x": null,
            "overflow_y": null,
            "padding": null,
            "right": null,
            "top": null,
            "visibility": null,
            "width": null
          }
        },
        "31660a95d0a54a85810a8a24c6bbda71": {
          "model_module": "@jupyter-widgets/controls",
          "model_name": "DescriptionStyleModel",
          "model_module_version": "1.5.0",
          "state": {
            "_model_module": "@jupyter-widgets/controls",
            "_model_module_version": "1.5.0",
            "_model_name": "DescriptionStyleModel",
            "_view_count": null,
            "_view_module": "@jupyter-widgets/base",
            "_view_module_version": "1.2.0",
            "_view_name": "StyleView",
            "description_width": ""
          }
        },
        "ca8380b2a2d44ac5a8d2e01b9f4e3753": {
          "model_module": "@jupyter-widgets/base",
          "model_name": "LayoutModel",
          "model_module_version": "1.2.0",
          "state": {
            "_model_module": "@jupyter-widgets/base",
            "_model_module_version": "1.2.0",
            "_model_name": "LayoutModel",
            "_view_count": null,
            "_view_module": "@jupyter-widgets/base",
            "_view_module_version": "1.2.0",
            "_view_name": "LayoutView",
            "align_content": null,
            "align_items": null,
            "align_self": null,
            "border": null,
            "bottom": null,
            "display": null,
            "flex": null,
            "flex_flow": null,
            "grid_area": null,
            "grid_auto_columns": null,
            "grid_auto_flow": null,
            "grid_auto_rows": null,
            "grid_column": null,
            "grid_gap": null,
            "grid_row": null,
            "grid_template_areas": null,
            "grid_template_columns": null,
            "grid_template_rows": null,
            "height": null,
            "justify_content": null,
            "justify_items": null,
            "left": null,
            "margin": null,
            "max_height": null,
            "max_width": null,
            "min_height": null,
            "min_width": null,
            "object_fit": null,
            "object_position": null,
            "order": null,
            "overflow": null,
            "overflow_x": null,
            "overflow_y": null,
            "padding": null,
            "right": null,
            "top": null,
            "visibility": null,
            "width": null
          }
        },
        "780d3310061d4e21b5bb6f5868e7f80f": {
          "model_module": "@jupyter-widgets/controls",
          "model_name": "ProgressStyleModel",
          "model_module_version": "1.5.0",
          "state": {
            "_model_module": "@jupyter-widgets/controls",
            "_model_module_version": "1.5.0",
            "_model_name": "ProgressStyleModel",
            "_view_count": null,
            "_view_module": "@jupyter-widgets/base",
            "_view_module_version": "1.2.0",
            "_view_name": "StyleView",
            "bar_color": null,
            "description_width": ""
          }
        },
        "c54bfea6465d4e748917347aa47ca6e5": {
          "model_module": "@jupyter-widgets/base",
          "model_name": "LayoutModel",
          "model_module_version": "1.2.0",
          "state": {
            "_model_module": "@jupyter-widgets/base",
            "_model_module_version": "1.2.0",
            "_model_name": "LayoutModel",
            "_view_count": null,
            "_view_module": "@jupyter-widgets/base",
            "_view_module_version": "1.2.0",
            "_view_name": "LayoutView",
            "align_content": null,
            "align_items": null,
            "align_self": null,
            "border": null,
            "bottom": null,
            "display": null,
            "flex": null,
            "flex_flow": null,
            "grid_area": null,
            "grid_auto_columns": null,
            "grid_auto_flow": null,
            "grid_auto_rows": null,
            "grid_column": null,
            "grid_gap": null,
            "grid_row": null,
            "grid_template_areas": null,
            "grid_template_columns": null,
            "grid_template_rows": null,
            "height": null,
            "justify_content": null,
            "justify_items": null,
            "left": null,
            "margin": null,
            "max_height": null,
            "max_width": null,
            "min_height": null,
            "min_width": null,
            "object_fit": null,
            "object_position": null,
            "order": null,
            "overflow": null,
            "overflow_x": null,
            "overflow_y": null,
            "padding": null,
            "right": null,
            "top": null,
            "visibility": null,
            "width": null
          }
        },
        "4e6c4de36403422f8d8f2a86529dea27": {
          "model_module": "@jupyter-widgets/controls",
          "model_name": "DescriptionStyleModel",
          "model_module_version": "1.5.0",
          "state": {
            "_model_module": "@jupyter-widgets/controls",
            "_model_module_version": "1.5.0",
            "_model_name": "DescriptionStyleModel",
            "_view_count": null,
            "_view_module": "@jupyter-widgets/base",
            "_view_module_version": "1.2.0",
            "_view_name": "StyleView",
            "description_width": ""
          }
        }
      }
    },
    "accelerator": "GPU",
    "gpuClass": "standard"
  },
  "nbformat": 4,
  "nbformat_minor": 0
}