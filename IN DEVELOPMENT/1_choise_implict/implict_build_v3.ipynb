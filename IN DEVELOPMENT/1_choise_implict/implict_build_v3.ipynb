{
  "cells": [
    {
      "cell_type": "markdown",
      "metadata": {
        "id": "e_ngVxWGQr3I"
      },
      "source": [
        "# Загружаем необходимые пакеты и импортируем библиотеки\n",
        "\n",
        "---"
      ]
    },
    {
      "cell_type": "code",
      "execution_count": null,
      "metadata": {
        "colab": {
          "base_uri": "https://localhost:8080/"
        },
        "id": "DQz2QHq6rTiv",
        "outputId": "5306f705-7b59-4cba-862a-cae12d5d24fa"
      },
      "outputs": [
        {
          "output_type": "stream",
          "name": "stdout",
          "text": [
            "Looking in indexes: https://pypi.org/simple, https://us-python.pkg.dev/colab-wheels/public/simple/\n",
            "Collecting implicit\n",
            "  Downloading implicit-0.6.2-cp39-cp39-manylinux2014_x86_64.whl (18.6 MB)\n",
            "\u001b[2K     \u001b[90m━━━━━━━━━━━━━━━━━━━━━━━━━━━━━━━━━━━━━━━━\u001b[0m \u001b[32m18.6/18.6 MB\u001b[0m \u001b[31m75.1 MB/s\u001b[0m eta \u001b[36m0:00:00\u001b[0m\n",
            "\u001b[?25hRequirement already satisfied: scipy>=0.16 in /usr/local/lib/python3.9/dist-packages (from implicit) (1.10.1)\n",
            "Requirement already satisfied: numpy in /usr/local/lib/python3.9/dist-packages (from implicit) (1.22.4)\n",
            "Requirement already satisfied: tqdm>=4.27 in /usr/local/lib/python3.9/dist-packages (from implicit) (4.65.0)\n",
            "Installing collected packages: implicit\n",
            "Successfully installed implicit-0.6.2\n"
          ]
        }
      ],
      "source": [
        "# устанавливаем библиотеку implicit \n",
        "%pip install implicit"
      ]
    },
    {
      "cell_type": "code",
      "execution_count": null,
      "metadata": {
        "id": "rg2m6XderTi1"
      },
      "outputs": [],
      "source": [
        "# загружаем библиотеки\n",
        "import pandas as pd\n",
        "import scipy.sparse as sparse\n",
        "import numpy as np\n",
        "import random\n",
        "import implicit\n",
        "import tensorflow as tf\n",
        "from sklearn import preprocessing"
      ]
    },
    {
      "cell_type": "code",
      "source": [
        "# Проверяем что у нас работает GPU\n",
        "tf.test.gpu_device_name()"
      ],
      "metadata": {
        "colab": {
          "base_uri": "https://localhost:8080/",
          "height": 36
        },
        "id": "O_9RapFj6TFw",
        "outputId": "ca3cbc48-2ea8-4dc3-aa9e-5edc7df10895"
      },
      "execution_count": null,
      "outputs": [
        {
          "output_type": "execute_result",
          "data": {
            "text/plain": [
              "'/device:GPU:0'"
            ],
            "application/vnd.google.colaboratory.intrinsic+json": {
              "type": "string"
            }
          },
          "metadata": {},
          "execution_count": 3
        }
      ]
    },
    {
      "cell_type": "code",
      "source": [
        "#GPU count and name\n",
        "!nvidia-smi -L"
      ],
      "metadata": {
        "colab": {
          "base_uri": "https://localhost:8080/"
        },
        "id": "ewGeQZaW6Vro",
        "outputId": "10fe7f68-21bd-4e59-dd3b-6a61bcc13e75"
      },
      "execution_count": null,
      "outputs": [
        {
          "output_type": "stream",
          "name": "stdout",
          "text": [
            "GPU 0: Tesla T4 (UUID: GPU-5bec47ce-e57f-9c3b-f90b-a138de8b0250)\n"
          ]
        }
      ]
    },
    {
      "cell_type": "code",
      "source": [
        "#use this command to see GPU activity while doing Deep Learning tasks, for this command 'nvidia-smi' and for above one to work, go to 'Runtime > change runtime type > Hardware Accelerator > GPU'\n",
        "!nvidia-smi"
      ],
      "metadata": {
        "colab": {
          "base_uri": "https://localhost:8080/"
        },
        "id": "CzqAoxQ06loO",
        "outputId": "aec726ac-939d-4fcb-94d0-2e1ab5539553"
      },
      "execution_count": null,
      "outputs": [
        {
          "output_type": "stream",
          "name": "stdout",
          "text": [
            "Sat Apr 22 07:50:49 2023       \n",
            "+-----------------------------------------------------------------------------+\n",
            "| NVIDIA-SMI 525.85.12    Driver Version: 525.85.12    CUDA Version: 12.0     |\n",
            "|-------------------------------+----------------------+----------------------+\n",
            "| GPU  Name        Persistence-M| Bus-Id        Disp.A | Volatile Uncorr. ECC |\n",
            "| Fan  Temp  Perf  Pwr:Usage/Cap|         Memory-Usage | GPU-Util  Compute M. |\n",
            "|                               |                      |               MIG M. |\n",
            "|===============================+======================+======================|\n",
            "|   0  Tesla T4            Off  | 00000000:00:04.0 Off |                    0 |\n",
            "| N/A   44C    P0    26W /  70W |    391MiB / 15360MiB |      0%      Default |\n",
            "|                               |                      |                  N/A |\n",
            "+-------------------------------+----------------------+----------------------+\n",
            "                                                                               \n",
            "+-----------------------------------------------------------------------------+\n",
            "| Processes:                                                                  |\n",
            "|  GPU   GI   CI        PID   Type   Process name                  GPU Memory |\n",
            "|        ID   ID                                                   Usage      |\n",
            "|=============================================================================|\n",
            "+-----------------------------------------------------------------------------+\n"
          ]
        }
      ]
    },
    {
      "cell_type": "markdown",
      "metadata": {
        "id": "S8zD3-0gQr3T"
      },
      "source": [
        "# Подготовка и обработка данных\n",
        "\n",
        "---"
      ]
    },
    {
      "cell_type": "code",
      "execution_count": null,
      "metadata": {
        "id": "xcQyVkaZxF93"
      },
      "outputs": [],
      "source": [
        "# загружаем данные из источника\n",
        "data = pd.read_parquet('train_mfti.parquet', engine='pyarrow')"
      ]
    },
    {
      "cell_type": "code",
      "execution_count": null,
      "metadata": {
        "id": "1VI7xf1oxGyA"
      },
      "outputs": [],
      "source": [
        "# создаем копию\n",
        "df = data.copy()"
      ]
    },
    {
      "cell_type": "code",
      "execution_count": null,
      "metadata": {
        "colab": {
          "base_uri": "https://localhost:8080/",
          "height": 206
        },
        "id": "NIoRaFJrzejz",
        "outputId": "5a053e9b-538d-430a-efa6-68e704e93ce8"
      },
      "outputs": [
        {
          "output_type": "execute_result",
          "data": {
            "text/plain": [
              "   event_date  event_timestamp  vacancy_id_                         cookie_id  \\\n",
              "0  2022-08-01       1659323026       129850  97990f1a021d4be19aa3f955b7eacab4   \n",
              "1  2022-08-01       1659377255       108347  03bf8c511fa949c79845a5d81b09aa1d   \n",
              "2  2022-08-01       1659376695       109069  03bf8c511fa949c79845a5d81b09aa1d   \n",
              "3  2022-08-01       1659376722       171425  03bf8c511fa949c79845a5d81b09aa1d   \n",
              "4  2022-08-01       1659374929       252384  03bf8c511fa949c79845a5d81b09aa1d   \n",
              "\n",
              "                            user_id    event_type  \n",
              "0  951f53de61764ea0b51317200a0dbbfc  show_vacancy  \n",
              "1  f5a2326a17484330aa8cb4019f1b1960  show_vacancy  \n",
              "2  f5a2326a17484330aa8cb4019f1b1960  show_vacancy  \n",
              "3  f5a2326a17484330aa8cb4019f1b1960  show_vacancy  \n",
              "4  f5a2326a17484330aa8cb4019f1b1960  show_vacancy  "
            ],
            "text/html": [
              "\n",
              "  <div id=\"df-14ad6d04-0354-4b09-8dc7-56a6052a6676\">\n",
              "    <div class=\"colab-df-container\">\n",
              "      <div>\n",
              "<style scoped>\n",
              "    .dataframe tbody tr th:only-of-type {\n",
              "        vertical-align: middle;\n",
              "    }\n",
              "\n",
              "    .dataframe tbody tr th {\n",
              "        vertical-align: top;\n",
              "    }\n",
              "\n",
              "    .dataframe thead th {\n",
              "        text-align: right;\n",
              "    }\n",
              "</style>\n",
              "<table border=\"1\" class=\"dataframe\">\n",
              "  <thead>\n",
              "    <tr style=\"text-align: right;\">\n",
              "      <th></th>\n",
              "      <th>event_date</th>\n",
              "      <th>event_timestamp</th>\n",
              "      <th>vacancy_id_</th>\n",
              "      <th>cookie_id</th>\n",
              "      <th>user_id</th>\n",
              "      <th>event_type</th>\n",
              "    </tr>\n",
              "  </thead>\n",
              "  <tbody>\n",
              "    <tr>\n",
              "      <th>0</th>\n",
              "      <td>2022-08-01</td>\n",
              "      <td>1659323026</td>\n",
              "      <td>129850</td>\n",
              "      <td>97990f1a021d4be19aa3f955b7eacab4</td>\n",
              "      <td>951f53de61764ea0b51317200a0dbbfc</td>\n",
              "      <td>show_vacancy</td>\n",
              "    </tr>\n",
              "    <tr>\n",
              "      <th>1</th>\n",
              "      <td>2022-08-01</td>\n",
              "      <td>1659377255</td>\n",
              "      <td>108347</td>\n",
              "      <td>03bf8c511fa949c79845a5d81b09aa1d</td>\n",
              "      <td>f5a2326a17484330aa8cb4019f1b1960</td>\n",
              "      <td>show_vacancy</td>\n",
              "    </tr>\n",
              "    <tr>\n",
              "      <th>2</th>\n",
              "      <td>2022-08-01</td>\n",
              "      <td>1659376695</td>\n",
              "      <td>109069</td>\n",
              "      <td>03bf8c511fa949c79845a5d81b09aa1d</td>\n",
              "      <td>f5a2326a17484330aa8cb4019f1b1960</td>\n",
              "      <td>show_vacancy</td>\n",
              "    </tr>\n",
              "    <tr>\n",
              "      <th>3</th>\n",
              "      <td>2022-08-01</td>\n",
              "      <td>1659376722</td>\n",
              "      <td>171425</td>\n",
              "      <td>03bf8c511fa949c79845a5d81b09aa1d</td>\n",
              "      <td>f5a2326a17484330aa8cb4019f1b1960</td>\n",
              "      <td>show_vacancy</td>\n",
              "    </tr>\n",
              "    <tr>\n",
              "      <th>4</th>\n",
              "      <td>2022-08-01</td>\n",
              "      <td>1659374929</td>\n",
              "      <td>252384</td>\n",
              "      <td>03bf8c511fa949c79845a5d81b09aa1d</td>\n",
              "      <td>f5a2326a17484330aa8cb4019f1b1960</td>\n",
              "      <td>show_vacancy</td>\n",
              "    </tr>\n",
              "  </tbody>\n",
              "</table>\n",
              "</div>\n",
              "      <button class=\"colab-df-convert\" onclick=\"convertToInteractive('df-14ad6d04-0354-4b09-8dc7-56a6052a6676')\"\n",
              "              title=\"Convert this dataframe to an interactive table.\"\n",
              "              style=\"display:none;\">\n",
              "        \n",
              "  <svg xmlns=\"http://www.w3.org/2000/svg\" height=\"24px\"viewBox=\"0 0 24 24\"\n",
              "       width=\"24px\">\n",
              "    <path d=\"M0 0h24v24H0V0z\" fill=\"none\"/>\n",
              "    <path d=\"M18.56 5.44l.94 2.06.94-2.06 2.06-.94-2.06-.94-.94-2.06-.94 2.06-2.06.94zm-11 1L8.5 8.5l.94-2.06 2.06-.94-2.06-.94L8.5 2.5l-.94 2.06-2.06.94zm10 10l.94 2.06.94-2.06 2.06-.94-2.06-.94-.94-2.06-.94 2.06-2.06.94z\"/><path d=\"M17.41 7.96l-1.37-1.37c-.4-.4-.92-.59-1.43-.59-.52 0-1.04.2-1.43.59L10.3 9.45l-7.72 7.72c-.78.78-.78 2.05 0 2.83L4 21.41c.39.39.9.59 1.41.59.51 0 1.02-.2 1.41-.59l7.78-7.78 2.81-2.81c.8-.78.8-2.07 0-2.86zM5.41 20L4 18.59l7.72-7.72 1.47 1.35L5.41 20z\"/>\n",
              "  </svg>\n",
              "      </button>\n",
              "      \n",
              "  <style>\n",
              "    .colab-df-container {\n",
              "      display:flex;\n",
              "      flex-wrap:wrap;\n",
              "      gap: 12px;\n",
              "    }\n",
              "\n",
              "    .colab-df-convert {\n",
              "      background-color: #E8F0FE;\n",
              "      border: none;\n",
              "      border-radius: 50%;\n",
              "      cursor: pointer;\n",
              "      display: none;\n",
              "      fill: #1967D2;\n",
              "      height: 32px;\n",
              "      padding: 0 0 0 0;\n",
              "      width: 32px;\n",
              "    }\n",
              "\n",
              "    .colab-df-convert:hover {\n",
              "      background-color: #E2EBFA;\n",
              "      box-shadow: 0px 1px 2px rgba(60, 64, 67, 0.3), 0px 1px 3px 1px rgba(60, 64, 67, 0.15);\n",
              "      fill: #174EA6;\n",
              "    }\n",
              "\n",
              "    [theme=dark] .colab-df-convert {\n",
              "      background-color: #3B4455;\n",
              "      fill: #D2E3FC;\n",
              "    }\n",
              "\n",
              "    [theme=dark] .colab-df-convert:hover {\n",
              "      background-color: #434B5C;\n",
              "      box-shadow: 0px 1px 3px 1px rgba(0, 0, 0, 0.15);\n",
              "      filter: drop-shadow(0px 1px 2px rgba(0, 0, 0, 0.3));\n",
              "      fill: #FFFFFF;\n",
              "    }\n",
              "  </style>\n",
              "\n",
              "      <script>\n",
              "        const buttonEl =\n",
              "          document.querySelector('#df-14ad6d04-0354-4b09-8dc7-56a6052a6676 button.colab-df-convert');\n",
              "        buttonEl.style.display =\n",
              "          google.colab.kernel.accessAllowed ? 'block' : 'none';\n",
              "\n",
              "        async function convertToInteractive(key) {\n",
              "          const element = document.querySelector('#df-14ad6d04-0354-4b09-8dc7-56a6052a6676');\n",
              "          const dataTable =\n",
              "            await google.colab.kernel.invokeFunction('convertToInteractive',\n",
              "                                                     [key], {});\n",
              "          if (!dataTable) return;\n",
              "\n",
              "          const docLinkHtml = 'Like what you see? Visit the ' +\n",
              "            '<a target=\"_blank\" href=https://colab.research.google.com/notebooks/data_table.ipynb>data table notebook</a>'\n",
              "            + ' to learn more about interactive tables.';\n",
              "          element.innerHTML = '';\n",
              "          dataTable['output_type'] = 'display_data';\n",
              "          await google.colab.output.renderOutput(dataTable, element);\n",
              "          const docLink = document.createElement('div');\n",
              "          docLink.innerHTML = docLinkHtml;\n",
              "          element.appendChild(docLink);\n",
              "        }\n",
              "      </script>\n",
              "    </div>\n",
              "  </div>\n",
              "  "
            ]
          },
          "metadata": {},
          "execution_count": 8
        }
      ],
      "source": [
        "# посмотрим на данные \n",
        "df.head()"
      ]
    },
    {
      "cell_type": "code",
      "execution_count": null,
      "metadata": {
        "colab": {
          "base_uri": "https://localhost:8080/"
        },
        "id": "IXjk12kNQr3V",
        "outputId": "aeddb302-6322-42ce-d1ba-31c4545b72c5"
      },
      "outputs": [
        {
          "output_type": "stream",
          "name": "stdout",
          "text": [
            "<class 'pandas.core.frame.DataFrame'>\n",
            "RangeIndex: 12292588 entries, 0 to 12292587\n",
            "Data columns (total 6 columns):\n",
            " #   Column           Dtype \n",
            "---  ------           ----- \n",
            " 0   event_date       object\n",
            " 1   event_timestamp  int64 \n",
            " 2   vacancy_id_      int64 \n",
            " 3   cookie_id        object\n",
            " 4   user_id          object\n",
            " 5   event_type       object\n",
            "dtypes: int64(2), object(4)\n",
            "memory usage: 562.7+ MB\n"
          ]
        }
      ],
      "source": [
        "# и так тоже посмотрим\n",
        "df.info()"
      ]
    },
    {
      "cell_type": "code",
      "execution_count": null,
      "metadata": {
        "id": "9HUDd07hQr3W"
      },
      "outputs": [],
      "source": [
        "# Дубликатов нет в данных - но на всякий случай\n",
        "df = df.drop_duplicates()"
      ]
    },
    {
      "cell_type": "code",
      "execution_count": null,
      "metadata": {
        "id": "B11zly9zrTi_"
      },
      "outputs": [],
      "source": [
        "# удаляем колонки, которые не будут принимать участия в обучении\n",
        "df.drop(columns=['event_date', 'event_timestamp', 'user_id'], axis=1, inplace=True)"
      ]
    },
    {
      "cell_type": "code",
      "execution_count": null,
      "metadata": {
        "id": "vfSiJUIY1r_n"
      },
      "outputs": [],
      "source": [
        "# для удобства немного выравняем данные\n",
        "df = df[['cookie_id', 'vacancy_id_', 'event_type']]"
      ]
    },
    {
      "cell_type": "code",
      "execution_count": null,
      "metadata": {
        "colab": {
          "base_uri": "https://localhost:8080/",
          "height": 206
        },
        "id": "vUcQ3yAs2n1m",
        "outputId": "fdf5625b-8776-4ef7-dd8e-b78e7df54b86"
      },
      "outputs": [
        {
          "output_type": "execute_result",
          "data": {
            "text/plain": [
              "                          cookie_id  vacancy_id_    event_type\n",
              "0  97990f1a021d4be19aa3f955b7eacab4       129850  show_vacancy\n",
              "1  03bf8c511fa949c79845a5d81b09aa1d       108347  show_vacancy\n",
              "2  03bf8c511fa949c79845a5d81b09aa1d       109069  show_vacancy\n",
              "3  03bf8c511fa949c79845a5d81b09aa1d       171425  show_vacancy\n",
              "4  03bf8c511fa949c79845a5d81b09aa1d       252384  show_vacancy"
            ],
            "text/html": [
              "\n",
              "  <div id=\"df-8b5a5791-75b2-496f-ae17-4b0379c76dd0\">\n",
              "    <div class=\"colab-df-container\">\n",
              "      <div>\n",
              "<style scoped>\n",
              "    .dataframe tbody tr th:only-of-type {\n",
              "        vertical-align: middle;\n",
              "    }\n",
              "\n",
              "    .dataframe tbody tr th {\n",
              "        vertical-align: top;\n",
              "    }\n",
              "\n",
              "    .dataframe thead th {\n",
              "        text-align: right;\n",
              "    }\n",
              "</style>\n",
              "<table border=\"1\" class=\"dataframe\">\n",
              "  <thead>\n",
              "    <tr style=\"text-align: right;\">\n",
              "      <th></th>\n",
              "      <th>cookie_id</th>\n",
              "      <th>vacancy_id_</th>\n",
              "      <th>event_type</th>\n",
              "    </tr>\n",
              "  </thead>\n",
              "  <tbody>\n",
              "    <tr>\n",
              "      <th>0</th>\n",
              "      <td>97990f1a021d4be19aa3f955b7eacab4</td>\n",
              "      <td>129850</td>\n",
              "      <td>show_vacancy</td>\n",
              "    </tr>\n",
              "    <tr>\n",
              "      <th>1</th>\n",
              "      <td>03bf8c511fa949c79845a5d81b09aa1d</td>\n",
              "      <td>108347</td>\n",
              "      <td>show_vacancy</td>\n",
              "    </tr>\n",
              "    <tr>\n",
              "      <th>2</th>\n",
              "      <td>03bf8c511fa949c79845a5d81b09aa1d</td>\n",
              "      <td>109069</td>\n",
              "      <td>show_vacancy</td>\n",
              "    </tr>\n",
              "    <tr>\n",
              "      <th>3</th>\n",
              "      <td>03bf8c511fa949c79845a5d81b09aa1d</td>\n",
              "      <td>171425</td>\n",
              "      <td>show_vacancy</td>\n",
              "    </tr>\n",
              "    <tr>\n",
              "      <th>4</th>\n",
              "      <td>03bf8c511fa949c79845a5d81b09aa1d</td>\n",
              "      <td>252384</td>\n",
              "      <td>show_vacancy</td>\n",
              "    </tr>\n",
              "  </tbody>\n",
              "</table>\n",
              "</div>\n",
              "      <button class=\"colab-df-convert\" onclick=\"convertToInteractive('df-8b5a5791-75b2-496f-ae17-4b0379c76dd0')\"\n",
              "              title=\"Convert this dataframe to an interactive table.\"\n",
              "              style=\"display:none;\">\n",
              "        \n",
              "  <svg xmlns=\"http://www.w3.org/2000/svg\" height=\"24px\"viewBox=\"0 0 24 24\"\n",
              "       width=\"24px\">\n",
              "    <path d=\"M0 0h24v24H0V0z\" fill=\"none\"/>\n",
              "    <path d=\"M18.56 5.44l.94 2.06.94-2.06 2.06-.94-2.06-.94-.94-2.06-.94 2.06-2.06.94zm-11 1L8.5 8.5l.94-2.06 2.06-.94-2.06-.94L8.5 2.5l-.94 2.06-2.06.94zm10 10l.94 2.06.94-2.06 2.06-.94-2.06-.94-.94-2.06-.94 2.06-2.06.94z\"/><path d=\"M17.41 7.96l-1.37-1.37c-.4-.4-.92-.59-1.43-.59-.52 0-1.04.2-1.43.59L10.3 9.45l-7.72 7.72c-.78.78-.78 2.05 0 2.83L4 21.41c.39.39.9.59 1.41.59.51 0 1.02-.2 1.41-.59l7.78-7.78 2.81-2.81c.8-.78.8-2.07 0-2.86zM5.41 20L4 18.59l7.72-7.72 1.47 1.35L5.41 20z\"/>\n",
              "  </svg>\n",
              "      </button>\n",
              "      \n",
              "  <style>\n",
              "    .colab-df-container {\n",
              "      display:flex;\n",
              "      flex-wrap:wrap;\n",
              "      gap: 12px;\n",
              "    }\n",
              "\n",
              "    .colab-df-convert {\n",
              "      background-color: #E8F0FE;\n",
              "      border: none;\n",
              "      border-radius: 50%;\n",
              "      cursor: pointer;\n",
              "      display: none;\n",
              "      fill: #1967D2;\n",
              "      height: 32px;\n",
              "      padding: 0 0 0 0;\n",
              "      width: 32px;\n",
              "    }\n",
              "\n",
              "    .colab-df-convert:hover {\n",
              "      background-color: #E2EBFA;\n",
              "      box-shadow: 0px 1px 2px rgba(60, 64, 67, 0.3), 0px 1px 3px 1px rgba(60, 64, 67, 0.15);\n",
              "      fill: #174EA6;\n",
              "    }\n",
              "\n",
              "    [theme=dark] .colab-df-convert {\n",
              "      background-color: #3B4455;\n",
              "      fill: #D2E3FC;\n",
              "    }\n",
              "\n",
              "    [theme=dark] .colab-df-convert:hover {\n",
              "      background-color: #434B5C;\n",
              "      box-shadow: 0px 1px 3px 1px rgba(0, 0, 0, 0.15);\n",
              "      filter: drop-shadow(0px 1px 2px rgba(0, 0, 0, 0.3));\n",
              "      fill: #FFFFFF;\n",
              "    }\n",
              "  </style>\n",
              "\n",
              "      <script>\n",
              "        const buttonEl =\n",
              "          document.querySelector('#df-8b5a5791-75b2-496f-ae17-4b0379c76dd0 button.colab-df-convert');\n",
              "        buttonEl.style.display =\n",
              "          google.colab.kernel.accessAllowed ? 'block' : 'none';\n",
              "\n",
              "        async function convertToInteractive(key) {\n",
              "          const element = document.querySelector('#df-8b5a5791-75b2-496f-ae17-4b0379c76dd0');\n",
              "          const dataTable =\n",
              "            await google.colab.kernel.invokeFunction('convertToInteractive',\n",
              "                                                     [key], {});\n",
              "          if (!dataTable) return;\n",
              "\n",
              "          const docLinkHtml = 'Like what you see? Visit the ' +\n",
              "            '<a target=\"_blank\" href=https://colab.research.google.com/notebooks/data_table.ipynb>data table notebook</a>'\n",
              "            + ' to learn more about interactive tables.';\n",
              "          element.innerHTML = '';\n",
              "          dataTable['output_type'] = 'display_data';\n",
              "          await google.colab.output.renderOutput(dataTable, element);\n",
              "          const docLink = document.createElement('div');\n",
              "          docLink.innerHTML = docLinkHtml;\n",
              "          element.appendChild(docLink);\n",
              "        }\n",
              "      </script>\n",
              "    </div>\n",
              "  </div>\n",
              "  "
            ]
          },
          "metadata": {},
          "execution_count": 13
        }
      ],
      "source": [
        "df.head()"
      ]
    },
    {
      "cell_type": "markdown",
      "source": [
        " ### Обработка данных первая исследовательская позиция (Маштабирование взаимодействий и их силы)\n",
        " ---"
      ],
      "metadata": {
        "id": "CSHmR3FF8t1O"
      }
    },
    {
      "cell_type": "code",
      "execution_count": null,
      "metadata": {
        "colab": {
          "base_uri": "https://localhost:8080/"
        },
        "id": "pOZldAxcrTjC",
        "outputId": "a72162bb-75ed-481e-babc-f422b13a6884"
      },
      "outputs": [
        {
          "output_type": "execute_result",
          "data": {
            "text/plain": [
              "show_vacancy              6180832\n",
              "preview_click_vacancy     4758461\n",
              "click_response             382828\n",
              "click_contacts             276819\n",
              "preview_click_response     190130\n",
              "click_favorite             155472\n",
              "preview_click_favorite     106622\n",
              "preview_click_contacts     101231\n",
              "click_phone                 78667\n",
              "preview_click_phone         15927\n",
              "Name: event_type, dtype: int64"
            ]
          },
          "metadata": {},
          "execution_count": 14
        }
      ],
      "source": [
        "# Вот тут мы посмотрим на количество определенного вида взаимодействий в данных\n",
        "df['event_type'].value_counts()"
      ]
    },
    {
      "cell_type": "markdown",
      "source": [
        "* 1 show_vacancy - просмотр вакансии\n",
        "* 2 preview_click_vacancy - клик по карточке вакансии\n",
        "* **3 click_response - отклик со страницы вакансии**\n",
        "* **4 preview_click_response - отклик с карточки вакансии**\n",
        "* 5 click_favorite - добавление вакансии в избранное  со страницы вакансии\n",
        "* 6 preview_click_favorite - добавление вакансии в избраное с карточки вакансии\n",
        "* **7 click_contacts - клик на контакты со страницы вакансии**\n",
        "* **8 preview_click_contacts - клик на контакты из карточки вакансии**\n",
        "* **9 click_phone - клик на номер телефона, указанный в вакансии**\n",
        "* **10 preview_click_phone - клик на номер телефона из карточки вакансии**\n",
        "\n",
        "Жирным выделены искомые \"\"откликнется\"\" и \"\"позвонит\"\"\"\n",
        "! Стоит обратить внимание на то, что позиции 3 и 4 по частоте идут выше чем позиции 5 и 6, которые нам в положительное взаимодействие не засчитываются. В свзи с этим необходимо проработать несколько вариантов маштабирования данных"
      ],
      "metadata": {
        "id": "6WKU2Jyp9LE_"
      }
    },
    {
      "cell_type": "code",
      "execution_count": null,
      "metadata": {
        "id": "sV2ZnhqdxwWL"
      },
      "outputs": [],
      "source": [
        "# проверим если закодировать значимость взаимодейстивий по их количеству в выборке - при прочих стандартных параметрах этот\n",
        "# способ показал результат 0,041\n",
        "df['eventStrength'] = df['event_type'].map({'show_vacancy': 1.0,\n",
        "                                     'preview_click_vacancy': 2.0,\n",
        "                                     'click_response': 3.0,\n",
        "                                     'click_contacts': 4.0,\n",
        "                                     'preview_click_response': 5.0,\n",
        "                                     'click_favorite': 6.0,\n",
        "                                     'preview_click_favorite': 7.0,\n",
        "                                     'preview_click_contacts': 8.0,\n",
        "                                     'click_phone': 9.0,\n",
        "                                     'preview_click_phone': 10.0})"
      ]
    },
    {
      "cell_type": "code",
      "source": [
        "# проверим правильно ли мы закодировали взаимодействия\n",
        "df['eventStrength'].value_counts()"
      ],
      "metadata": {
        "colab": {
          "base_uri": "https://localhost:8080/"
        },
        "id": "g8_Aao2Bwxsj",
        "outputId": "cdc16177-d9c8-400d-b9d0-1bf48b981cbb"
      },
      "execution_count": null,
      "outputs": [
        {
          "output_type": "execute_result",
          "data": {
            "text/plain": [
              "1.0     6180832\n",
              "2.0     4758461\n",
              "3.0      382828\n",
              "4.0      276819\n",
              "5.0      190130\n",
              "6.0      155472\n",
              "7.0      106622\n",
              "8.0      101231\n",
              "9.0       78667\n",
              "10.0      15927\n",
              "Name: eventStrength, dtype: int64"
            ]
          },
          "metadata": {},
          "execution_count": 16
        }
      ]
    },
    {
      "cell_type": "markdown",
      "source": [
        "Далее несколько ячеек кода для различных вариаций оценки взаимодействия их стоит прогнать с базовыми значениями и посмотреть на результаты (возможны и другие предложения):"
      ],
      "metadata": {
        "id": "JwZsVThOBv9J"
      }
    },
    {
      "cell_type": "code",
      "execution_count": null,
      "metadata": {
        "id": "AYHwFB6eQr3Y"
      },
      "outputs": [],
      "source": [
        "# проверить потом - вот такая модель должна дать нам больший перекос в сторону искомых взаимодействий перед обычными\n",
        "df['eventStrength'] = df['event_type'].map({'show_vacancy': 1.0,\n",
        "                                     'preview_click_vacancy': 1.0,\n",
        "                                     'click_favorite': 1.0,\n",
        "                                     'preview_click_favorite': 1.0,\n",
        "                                     'click_response': 10.0,\n",
        "                                     'preview_click_response': 10.0,\n",
        "                                     'click_contacts': 10.0,\n",
        "                                     'preview_click_contacts': 10.0,\n",
        "                                     'click_phone': 10.0,\n",
        "                                     'preview_click_phone': 10.0})"
      ]
    },
    {
      "cell_type": "code",
      "execution_count": null,
      "metadata": {
        "id": "PlCq-UySxxI4"
      },
      "outputs": [],
      "source": [
        "# Вот это разбиение по нашему заданию, то есть первые 4 отрицательные взаимодействия остальные положительные\n",
        "df['eventStrength'] = df['event_type'].map({'show_vacancy': 1.0,\n",
        "                                     'preview_click_vacancy': 2.0,\n",
        "                                     'click_favorite': 3.0,\n",
        "                                     'preview_click_favorite': 4.0,\n",
        "                                     'click_response': 5.0,\n",
        "                                     'click_contacts': 6.0,\n",
        "                                     'preview_click_response': 7.0,\n",
        "                                     'preview_click_contacts': 8.0,\n",
        "                                     'click_phone': 9.0,\n",
        "                                     'preview_click_phone': 10.0})"
      ]
    },
    {
      "cell_type": "code",
      "source": [
        "# Вот это разбиение по нашему заданию, но незначимые мы закодируем нулями нужные единицами, но не знаю как это пойдет\n",
        "# Нули в матрице могут восприниматься как отсутсвие взаимодействия, а это неправда\n",
        "df['eventStrength'] = df['event_type'].map({'show_vacancy': 0.0,\n",
        "                                     'preview_click_vacancy': 0.0,\n",
        "                                     'click_favorite': 0.0,\n",
        "                                     'preview_click_favorite': 0.0,\n",
        "                                     'click_response': 1.0,\n",
        "                                     'click_contacts': 1.0,\n",
        "                                     'preview_click_response': 1.0,\n",
        "                                     'preview_click_contacts': 1.0,\n",
        "                                     'click_phone': 1.0,\n",
        "                                     'preview_click_phone': 1.0})"
      ],
      "metadata": {
        "id": "1qGhG3NHAJER"
      },
      "execution_count": null,
      "outputs": []
    },
    {
      "cell_type": "code",
      "source": [
        "# Вот это разбиение по нашему заданию, но незначимые мы закодируем 1 нужные 2\n",
        "df['eventStrength'] = df['event_type'].map({'show_vacancy': 1.0,\n",
        "                                     'preview_click_vacancy': 1.0,\n",
        "                                     'click_favorite': 1.0,\n",
        "                                     'preview_click_favorite': 1.0,\n",
        "                                     'click_response': 2.0,\n",
        "                                     'click_contacts': 2.0,\n",
        "                                     'preview_click_response': 2.0,\n",
        "                                     'preview_click_contacts': 2.0,\n",
        "                                     'click_phone': 2.0,\n",
        "                                     'preview_click_phone': 2.0})"
      ],
      "metadata": {
        "id": "kTzyM9oOBKce"
      },
      "execution_count": null,
      "outputs": []
    },
    {
      "cell_type": "code",
      "source": [
        "# Вот это разбиение по нашему заданию, ну и последний вариант это вот так:\n",
        "df['eventStrength'] = df['event_type'].map({'show_vacancy': 0.1,\n",
        "                                     'preview_click_vacancy': 0.1,\n",
        "                                     'click_favorite': 0.1,\n",
        "                                     'preview_click_favorite': 0.1,\n",
        "                                     'click_response': 1.0,\n",
        "                                     'click_contacts': 1.0,\n",
        "                                     'preview_click_response': 1.0,\n",
        "                                     'preview_click_contacts': 1.0,\n",
        "                                     'click_phone': 1.0,\n",
        "                                     'preview_click_phone': 1.0})"
      ],
      "metadata": {
        "id": "eZ3CIkd5BfaP"
      },
      "execution_count": null,
      "outputs": []
    },
    {
      "cell_type": "markdown",
      "source": [
        "Группировка данных:\n",
        "\n",
        "Еще один point по которому стоит провести исследование. Группировка схлопывает взаимодействия и выдает результат в виде силы взаимодействия\n",
        "\n",
        "---"
      ],
      "metadata": {
        "id": "5LZzYv87CfCO"
      }
    },
    {
      "cell_type": "code",
      "execution_count": null,
      "metadata": {
        "id": "JpGrm5NBQr3Y"
      },
      "outputs": [],
      "source": [
        "# сгруппируем сочетания ваканции и человека при этом суммируем историю из взаимодействия в числах, чем больще число\n",
        "# тем больше интерес человека к вакансии - а значит больше и сила взаимодействия\n",
        "\n",
        "grouped_df = df.groupby(['cookie_id', 'vacancy_id_']).sum('numeric_only').reset_index()"
      ]
    },
    {
      "cell_type": "code",
      "source": [
        "# попробуем еще 2 варината группировки - по максимуму\n",
        "\n",
        "#grouped_df = df.groupby(['cookie_id', 'vacancy_id_']).max('numeric_only').reset_index()"
      ],
      "metadata": {
        "id": "JwnQutFyaGn0"
      },
      "execution_count": null,
      "outputs": []
    },
    {
      "cell_type": "code",
      "source": [
        "# попробуем еще 2 варината группировки - по максимуму\n",
        "\n",
        "# grouped_df = df.groupby(['cookie_id', 'vacancy_id_']).mean('numeric_only').reset_index()"
      ],
      "metadata": {
        "id": "tvinY58XaTAT"
      },
      "execution_count": null,
      "outputs": []
    },
    {
      "cell_type": "code",
      "execution_count": null,
      "metadata": {
        "colab": {
          "base_uri": "https://localhost:8080/"
        },
        "id": "2-4TgU95Qr3Z",
        "outputId": "e59221a5-2f22-4c3c-fdc5-eae306a01e1d"
      },
      "outputs": [
        {
          "output_type": "stream",
          "name": "stdout",
          "text": [
            "<class 'pandas.core.frame.DataFrame'>\n",
            "RangeIndex: 4678585 entries, 0 to 4678584\n",
            "Data columns (total 3 columns):\n",
            " #   Column         Dtype  \n",
            "---  ------         -----  \n",
            " 0   cookie_id      object \n",
            " 1   vacancy_id_    int64  \n",
            " 2   eventStrength  float64\n",
            "dtypes: float64(1), int64(1), object(1)\n",
            "memory usage: 107.1+ MB\n"
          ]
        }
      ],
      "source": [
        "# с 12 000 000 + наши данные схлопнулись до 4 500 000 +\n",
        "grouped_df.info()"
      ]
    },
    {
      "cell_type": "code",
      "execution_count": null,
      "metadata": {
        "colab": {
          "base_uri": "https://localhost:8080/",
          "height": 363
        },
        "id": "-dMzkH07Qr3Z",
        "outputId": "34670a03-a8d2-40a3-827e-299f5ed47518"
      },
      "outputs": [
        {
          "output_type": "execute_result",
          "data": {
            "text/plain": [
              "                                cookie_id  vacancy_id_  eventStrength\n",
              "1497123  518d0e5102c840faae32e7752f4f8c8a       251440            3.0\n",
              "1193186  41038cebcd234a98abb8f72181ba477c       123518            3.0\n",
              "2243228  7a3fdebf27474128adc38284117b5f8d       134968            2.0\n",
              "3319807  b537d6ffa804460084474376a9719486       259380            3.0\n",
              "1799644  62271f47a70744afb584f1f8bbf307d9       179871           12.0\n",
              "3810251  d011a7852f8d4fa190e3c5715b8c61ff       258441            1.0\n",
              "3627240  c614a48bd60a4ca29af681fbfba7d97a       140813            3.0\n",
              "841798   2dd611e5c31f462ea52412e64b6395e3       145961            3.0\n",
              "4130590  e1abd9b66f5f433ea1113521f8330bd4       176141            3.0\n",
              "2736797  94cc2af99b5646569a2f4056ead85970       135363            3.0"
            ],
            "text/html": [
              "\n",
              "  <div id=\"df-44e35e87-57dd-4a21-9269-26bcbe3c61ad\">\n",
              "    <div class=\"colab-df-container\">\n",
              "      <div>\n",
              "<style scoped>\n",
              "    .dataframe tbody tr th:only-of-type {\n",
              "        vertical-align: middle;\n",
              "    }\n",
              "\n",
              "    .dataframe tbody tr th {\n",
              "        vertical-align: top;\n",
              "    }\n",
              "\n",
              "    .dataframe thead th {\n",
              "        text-align: right;\n",
              "    }\n",
              "</style>\n",
              "<table border=\"1\" class=\"dataframe\">\n",
              "  <thead>\n",
              "    <tr style=\"text-align: right;\">\n",
              "      <th></th>\n",
              "      <th>cookie_id</th>\n",
              "      <th>vacancy_id_</th>\n",
              "      <th>eventStrength</th>\n",
              "    </tr>\n",
              "  </thead>\n",
              "  <tbody>\n",
              "    <tr>\n",
              "      <th>1497123</th>\n",
              "      <td>518d0e5102c840faae32e7752f4f8c8a</td>\n",
              "      <td>251440</td>\n",
              "      <td>3.0</td>\n",
              "    </tr>\n",
              "    <tr>\n",
              "      <th>1193186</th>\n",
              "      <td>41038cebcd234a98abb8f72181ba477c</td>\n",
              "      <td>123518</td>\n",
              "      <td>3.0</td>\n",
              "    </tr>\n",
              "    <tr>\n",
              "      <th>2243228</th>\n",
              "      <td>7a3fdebf27474128adc38284117b5f8d</td>\n",
              "      <td>134968</td>\n",
              "      <td>2.0</td>\n",
              "    </tr>\n",
              "    <tr>\n",
              "      <th>3319807</th>\n",
              "      <td>b537d6ffa804460084474376a9719486</td>\n",
              "      <td>259380</td>\n",
              "      <td>3.0</td>\n",
              "    </tr>\n",
              "    <tr>\n",
              "      <th>1799644</th>\n",
              "      <td>62271f47a70744afb584f1f8bbf307d9</td>\n",
              "      <td>179871</td>\n",
              "      <td>12.0</td>\n",
              "    </tr>\n",
              "    <tr>\n",
              "      <th>3810251</th>\n",
              "      <td>d011a7852f8d4fa190e3c5715b8c61ff</td>\n",
              "      <td>258441</td>\n",
              "      <td>1.0</td>\n",
              "    </tr>\n",
              "    <tr>\n",
              "      <th>3627240</th>\n",
              "      <td>c614a48bd60a4ca29af681fbfba7d97a</td>\n",
              "      <td>140813</td>\n",
              "      <td>3.0</td>\n",
              "    </tr>\n",
              "    <tr>\n",
              "      <th>841798</th>\n",
              "      <td>2dd611e5c31f462ea52412e64b6395e3</td>\n",
              "      <td>145961</td>\n",
              "      <td>3.0</td>\n",
              "    </tr>\n",
              "    <tr>\n",
              "      <th>4130590</th>\n",
              "      <td>e1abd9b66f5f433ea1113521f8330bd4</td>\n",
              "      <td>176141</td>\n",
              "      <td>3.0</td>\n",
              "    </tr>\n",
              "    <tr>\n",
              "      <th>2736797</th>\n",
              "      <td>94cc2af99b5646569a2f4056ead85970</td>\n",
              "      <td>135363</td>\n",
              "      <td>3.0</td>\n",
              "    </tr>\n",
              "  </tbody>\n",
              "</table>\n",
              "</div>\n",
              "      <button class=\"colab-df-convert\" onclick=\"convertToInteractive('df-44e35e87-57dd-4a21-9269-26bcbe3c61ad')\"\n",
              "              title=\"Convert this dataframe to an interactive table.\"\n",
              "              style=\"display:none;\">\n",
              "        \n",
              "  <svg xmlns=\"http://www.w3.org/2000/svg\" height=\"24px\"viewBox=\"0 0 24 24\"\n",
              "       width=\"24px\">\n",
              "    <path d=\"M0 0h24v24H0V0z\" fill=\"none\"/>\n",
              "    <path d=\"M18.56 5.44l.94 2.06.94-2.06 2.06-.94-2.06-.94-.94-2.06-.94 2.06-2.06.94zm-11 1L8.5 8.5l.94-2.06 2.06-.94-2.06-.94L8.5 2.5l-.94 2.06-2.06.94zm10 10l.94 2.06.94-2.06 2.06-.94-2.06-.94-.94-2.06-.94 2.06-2.06.94z\"/><path d=\"M17.41 7.96l-1.37-1.37c-.4-.4-.92-.59-1.43-.59-.52 0-1.04.2-1.43.59L10.3 9.45l-7.72 7.72c-.78.78-.78 2.05 0 2.83L4 21.41c.39.39.9.59 1.41.59.51 0 1.02-.2 1.41-.59l7.78-7.78 2.81-2.81c.8-.78.8-2.07 0-2.86zM5.41 20L4 18.59l7.72-7.72 1.47 1.35L5.41 20z\"/>\n",
              "  </svg>\n",
              "      </button>\n",
              "      \n",
              "  <style>\n",
              "    .colab-df-container {\n",
              "      display:flex;\n",
              "      flex-wrap:wrap;\n",
              "      gap: 12px;\n",
              "    }\n",
              "\n",
              "    .colab-df-convert {\n",
              "      background-color: #E8F0FE;\n",
              "      border: none;\n",
              "      border-radius: 50%;\n",
              "      cursor: pointer;\n",
              "      display: none;\n",
              "      fill: #1967D2;\n",
              "      height: 32px;\n",
              "      padding: 0 0 0 0;\n",
              "      width: 32px;\n",
              "    }\n",
              "\n",
              "    .colab-df-convert:hover {\n",
              "      background-color: #E2EBFA;\n",
              "      box-shadow: 0px 1px 2px rgba(60, 64, 67, 0.3), 0px 1px 3px 1px rgba(60, 64, 67, 0.15);\n",
              "      fill: #174EA6;\n",
              "    }\n",
              "\n",
              "    [theme=dark] .colab-df-convert {\n",
              "      background-color: #3B4455;\n",
              "      fill: #D2E3FC;\n",
              "    }\n",
              "\n",
              "    [theme=dark] .colab-df-convert:hover {\n",
              "      background-color: #434B5C;\n",
              "      box-shadow: 0px 1px 3px 1px rgba(0, 0, 0, 0.15);\n",
              "      filter: drop-shadow(0px 1px 2px rgba(0, 0, 0, 0.3));\n",
              "      fill: #FFFFFF;\n",
              "    }\n",
              "  </style>\n",
              "\n",
              "      <script>\n",
              "        const buttonEl =\n",
              "          document.querySelector('#df-44e35e87-57dd-4a21-9269-26bcbe3c61ad button.colab-df-convert');\n",
              "        buttonEl.style.display =\n",
              "          google.colab.kernel.accessAllowed ? 'block' : 'none';\n",
              "\n",
              "        async function convertToInteractive(key) {\n",
              "          const element = document.querySelector('#df-44e35e87-57dd-4a21-9269-26bcbe3c61ad');\n",
              "          const dataTable =\n",
              "            await google.colab.kernel.invokeFunction('convertToInteractive',\n",
              "                                                     [key], {});\n",
              "          if (!dataTable) return;\n",
              "\n",
              "          const docLinkHtml = 'Like what you see? Visit the ' +\n",
              "            '<a target=\"_blank\" href=https://colab.research.google.com/notebooks/data_table.ipynb>data table notebook</a>'\n",
              "            + ' to learn more about interactive tables.';\n",
              "          element.innerHTML = '';\n",
              "          dataTable['output_type'] = 'display_data';\n",
              "          await google.colab.output.renderOutput(dataTable, element);\n",
              "          const docLink = document.createElement('div');\n",
              "          docLink.innerHTML = docLinkHtml;\n",
              "          element.appendChild(docLink);\n",
              "        }\n",
              "      </script>\n",
              "    </div>\n",
              "  </div>\n",
              "  "
            ]
          },
          "metadata": {},
          "execution_count": 22
        }
      ],
      "source": [
        "# посмотрим как они выглядят теперь, далее можно будет сравнить как выглядит одно и тоже сравнение в контексте\n",
        "# других вариантов маштабирования силы взаимодействий \n",
        "grouped_df.sample(10)"
      ]
    },
    {
      "cell_type": "code",
      "source": [
        "# посмотрим на одну вакансию в ключе ее взаимодействия с пользователями\n",
        "grouped_df[grouped_df['vacancy_id_'] == 210068].sort_values('eventStrength', ascending=False).head(10)"
      ],
      "metadata": {
        "id": "lIcPy9MRnLrG",
        "colab": {
          "base_uri": "https://localhost:8080/",
          "height": 363
        },
        "outputId": "e7c68122-ecf3-4b1d-e4ac-179c3e360e7a"
      },
      "execution_count": null,
      "outputs": [
        {
          "output_type": "execute_result",
          "data": {
            "text/plain": [
              "                                cookie_id  vacancy_id_  eventStrength\n",
              "4271237  e9647deb68d6489c8f23fd7ff250f18c       210068           33.0\n",
              "562580   1e9223caa87c453da3a102f3020327f7       210068           27.0\n",
              "3160724  ac5710432b184069b1a4c0296fe3e41a       210068           12.0\n",
              "4590495  fb3eebb8cfc54a3085a07e7f47dbed4c       210068           10.0\n",
              "1243846  43de234dae2a41f98f394d8e1e615528       210068            9.0\n",
              "2413147  83572d892cbd4fffbeecc28577eac17a       210068            9.0\n",
              "754056   2901a05b78a0471a9f5ad505ee70168d       210068            9.0\n",
              "1089404  3b435bddcb2c4ab4bb27d22a7c8d488e       210068            9.0\n",
              "312745   110a687ec500431289aa6116974ffc36       210068            9.0\n",
              "3234089  b08259ccb54a4e9b8fe4c5bf2dc0d180       210068            7.0"
            ],
            "text/html": [
              "\n",
              "  <div id=\"df-93d70834-754e-46b6-b6db-b0940277f3e1\">\n",
              "    <div class=\"colab-df-container\">\n",
              "      <div>\n",
              "<style scoped>\n",
              "    .dataframe tbody tr th:only-of-type {\n",
              "        vertical-align: middle;\n",
              "    }\n",
              "\n",
              "    .dataframe tbody tr th {\n",
              "        vertical-align: top;\n",
              "    }\n",
              "\n",
              "    .dataframe thead th {\n",
              "        text-align: right;\n",
              "    }\n",
              "</style>\n",
              "<table border=\"1\" class=\"dataframe\">\n",
              "  <thead>\n",
              "    <tr style=\"text-align: right;\">\n",
              "      <th></th>\n",
              "      <th>cookie_id</th>\n",
              "      <th>vacancy_id_</th>\n",
              "      <th>eventStrength</th>\n",
              "    </tr>\n",
              "  </thead>\n",
              "  <tbody>\n",
              "    <tr>\n",
              "      <th>4271237</th>\n",
              "      <td>e9647deb68d6489c8f23fd7ff250f18c</td>\n",
              "      <td>210068</td>\n",
              "      <td>33.0</td>\n",
              "    </tr>\n",
              "    <tr>\n",
              "      <th>562580</th>\n",
              "      <td>1e9223caa87c453da3a102f3020327f7</td>\n",
              "      <td>210068</td>\n",
              "      <td>27.0</td>\n",
              "    </tr>\n",
              "    <tr>\n",
              "      <th>3160724</th>\n",
              "      <td>ac5710432b184069b1a4c0296fe3e41a</td>\n",
              "      <td>210068</td>\n",
              "      <td>12.0</td>\n",
              "    </tr>\n",
              "    <tr>\n",
              "      <th>4590495</th>\n",
              "      <td>fb3eebb8cfc54a3085a07e7f47dbed4c</td>\n",
              "      <td>210068</td>\n",
              "      <td>10.0</td>\n",
              "    </tr>\n",
              "    <tr>\n",
              "      <th>1243846</th>\n",
              "      <td>43de234dae2a41f98f394d8e1e615528</td>\n",
              "      <td>210068</td>\n",
              "      <td>9.0</td>\n",
              "    </tr>\n",
              "    <tr>\n",
              "      <th>2413147</th>\n",
              "      <td>83572d892cbd4fffbeecc28577eac17a</td>\n",
              "      <td>210068</td>\n",
              "      <td>9.0</td>\n",
              "    </tr>\n",
              "    <tr>\n",
              "      <th>754056</th>\n",
              "      <td>2901a05b78a0471a9f5ad505ee70168d</td>\n",
              "      <td>210068</td>\n",
              "      <td>9.0</td>\n",
              "    </tr>\n",
              "    <tr>\n",
              "      <th>1089404</th>\n",
              "      <td>3b435bddcb2c4ab4bb27d22a7c8d488e</td>\n",
              "      <td>210068</td>\n",
              "      <td>9.0</td>\n",
              "    </tr>\n",
              "    <tr>\n",
              "      <th>312745</th>\n",
              "      <td>110a687ec500431289aa6116974ffc36</td>\n",
              "      <td>210068</td>\n",
              "      <td>9.0</td>\n",
              "    </tr>\n",
              "    <tr>\n",
              "      <th>3234089</th>\n",
              "      <td>b08259ccb54a4e9b8fe4c5bf2dc0d180</td>\n",
              "      <td>210068</td>\n",
              "      <td>7.0</td>\n",
              "    </tr>\n",
              "  </tbody>\n",
              "</table>\n",
              "</div>\n",
              "      <button class=\"colab-df-convert\" onclick=\"convertToInteractive('df-93d70834-754e-46b6-b6db-b0940277f3e1')\"\n",
              "              title=\"Convert this dataframe to an interactive table.\"\n",
              "              style=\"display:none;\">\n",
              "        \n",
              "  <svg xmlns=\"http://www.w3.org/2000/svg\" height=\"24px\"viewBox=\"0 0 24 24\"\n",
              "       width=\"24px\">\n",
              "    <path d=\"M0 0h24v24H0V0z\" fill=\"none\"/>\n",
              "    <path d=\"M18.56 5.44l.94 2.06.94-2.06 2.06-.94-2.06-.94-.94-2.06-.94 2.06-2.06.94zm-11 1L8.5 8.5l.94-2.06 2.06-.94-2.06-.94L8.5 2.5l-.94 2.06-2.06.94zm10 10l.94 2.06.94-2.06 2.06-.94-2.06-.94-.94-2.06-.94 2.06-2.06.94z\"/><path d=\"M17.41 7.96l-1.37-1.37c-.4-.4-.92-.59-1.43-.59-.52 0-1.04.2-1.43.59L10.3 9.45l-7.72 7.72c-.78.78-.78 2.05 0 2.83L4 21.41c.39.39.9.59 1.41.59.51 0 1.02-.2 1.41-.59l7.78-7.78 2.81-2.81c.8-.78.8-2.07 0-2.86zM5.41 20L4 18.59l7.72-7.72 1.47 1.35L5.41 20z\"/>\n",
              "  </svg>\n",
              "      </button>\n",
              "      \n",
              "  <style>\n",
              "    .colab-df-container {\n",
              "      display:flex;\n",
              "      flex-wrap:wrap;\n",
              "      gap: 12px;\n",
              "    }\n",
              "\n",
              "    .colab-df-convert {\n",
              "      background-color: #E8F0FE;\n",
              "      border: none;\n",
              "      border-radius: 50%;\n",
              "      cursor: pointer;\n",
              "      display: none;\n",
              "      fill: #1967D2;\n",
              "      height: 32px;\n",
              "      padding: 0 0 0 0;\n",
              "      width: 32px;\n",
              "    }\n",
              "\n",
              "    .colab-df-convert:hover {\n",
              "      background-color: #E2EBFA;\n",
              "      box-shadow: 0px 1px 2px rgba(60, 64, 67, 0.3), 0px 1px 3px 1px rgba(60, 64, 67, 0.15);\n",
              "      fill: #174EA6;\n",
              "    }\n",
              "\n",
              "    [theme=dark] .colab-df-convert {\n",
              "      background-color: #3B4455;\n",
              "      fill: #D2E3FC;\n",
              "    }\n",
              "\n",
              "    [theme=dark] .colab-df-convert:hover {\n",
              "      background-color: #434B5C;\n",
              "      box-shadow: 0px 1px 3px 1px rgba(0, 0, 0, 0.15);\n",
              "      filter: drop-shadow(0px 1px 2px rgba(0, 0, 0, 0.3));\n",
              "      fill: #FFFFFF;\n",
              "    }\n",
              "  </style>\n",
              "\n",
              "      <script>\n",
              "        const buttonEl =\n",
              "          document.querySelector('#df-93d70834-754e-46b6-b6db-b0940277f3e1 button.colab-df-convert');\n",
              "        buttonEl.style.display =\n",
              "          google.colab.kernel.accessAllowed ? 'block' : 'none';\n",
              "\n",
              "        async function convertToInteractive(key) {\n",
              "          const element = document.querySelector('#df-93d70834-754e-46b6-b6db-b0940277f3e1');\n",
              "          const dataTable =\n",
              "            await google.colab.kernel.invokeFunction('convertToInteractive',\n",
              "                                                     [key], {});\n",
              "          if (!dataTable) return;\n",
              "\n",
              "          const docLinkHtml = 'Like what you see? Visit the ' +\n",
              "            '<a target=\"_blank\" href=https://colab.research.google.com/notebooks/data_table.ipynb>data table notebook</a>'\n",
              "            + ' to learn more about interactive tables.';\n",
              "          element.innerHTML = '';\n",
              "          dataTable['output_type'] = 'display_data';\n",
              "          await google.colab.output.renderOutput(dataTable, element);\n",
              "          const docLink = document.createElement('div');\n",
              "          docLink.innerHTML = docLinkHtml;\n",
              "          element.appendChild(docLink);\n",
              "        }\n",
              "      </script>\n",
              "    </div>\n",
              "  </div>\n",
              "  "
            ]
          },
          "metadata": {},
          "execution_count": 23
        }
      ]
    },
    {
      "cell_type": "code",
      "source": [
        "# посмотрим на одного пользователя в ключе его взаимодействия с вакансиями\n",
        "grouped_df[grouped_df['cookie_id'] == 'ac5710432b184069b1a4c0296fe3e41a'].sort_values('eventStrength', ascending=False).head(10)"
      ],
      "metadata": {
        "colab": {
          "base_uri": "https://localhost:8080/",
          "height": 363
        },
        "id": "t-A0s6DYzgwf",
        "outputId": "59ee23d4-9ef5-4d12-bb48-1d266a6aee99"
      },
      "execution_count": null,
      "outputs": [
        {
          "output_type": "execute_result",
          "data": {
            "text/plain": [
              "                                cookie_id  vacancy_id_  eventStrength\n",
              "3160729  ac5710432b184069b1a4c0296fe3e41a       221774           38.0\n",
              "3160734  ac5710432b184069b1a4c0296fe3e41a       250491           23.0\n",
              "3160709  ac5710432b184069b1a4c0296fe3e41a       114808           23.0\n",
              "3160716  ac5710432b184069b1a4c0296fe3e41a       168822           23.0\n",
              "3160712  ac5710432b184069b1a4c0296fe3e41a       136830           21.0\n",
              "3160733  ac5710432b184069b1a4c0296fe3e41a       249034           20.0\n",
              "3160723  ac5710432b184069b1a4c0296fe3e41a       195789           20.0\n",
              "3160732  ac5710432b184069b1a4c0296fe3e41a       248398           20.0\n",
              "3160730  ac5710432b184069b1a4c0296fe3e41a       239208           13.0\n",
              "3160724  ac5710432b184069b1a4c0296fe3e41a       210068           12.0"
            ],
            "text/html": [
              "\n",
              "  <div id=\"df-489e26d8-9385-4628-bfea-a0026d6cab9f\">\n",
              "    <div class=\"colab-df-container\">\n",
              "      <div>\n",
              "<style scoped>\n",
              "    .dataframe tbody tr th:only-of-type {\n",
              "        vertical-align: middle;\n",
              "    }\n",
              "\n",
              "    .dataframe tbody tr th {\n",
              "        vertical-align: top;\n",
              "    }\n",
              "\n",
              "    .dataframe thead th {\n",
              "        text-align: right;\n",
              "    }\n",
              "</style>\n",
              "<table border=\"1\" class=\"dataframe\">\n",
              "  <thead>\n",
              "    <tr style=\"text-align: right;\">\n",
              "      <th></th>\n",
              "      <th>cookie_id</th>\n",
              "      <th>vacancy_id_</th>\n",
              "      <th>eventStrength</th>\n",
              "    </tr>\n",
              "  </thead>\n",
              "  <tbody>\n",
              "    <tr>\n",
              "      <th>3160729</th>\n",
              "      <td>ac5710432b184069b1a4c0296fe3e41a</td>\n",
              "      <td>221774</td>\n",
              "      <td>38.0</td>\n",
              "    </tr>\n",
              "    <tr>\n",
              "      <th>3160734</th>\n",
              "      <td>ac5710432b184069b1a4c0296fe3e41a</td>\n",
              "      <td>250491</td>\n",
              "      <td>23.0</td>\n",
              "    </tr>\n",
              "    <tr>\n",
              "      <th>3160709</th>\n",
              "      <td>ac5710432b184069b1a4c0296fe3e41a</td>\n",
              "      <td>114808</td>\n",
              "      <td>23.0</td>\n",
              "    </tr>\n",
              "    <tr>\n",
              "      <th>3160716</th>\n",
              "      <td>ac5710432b184069b1a4c0296fe3e41a</td>\n",
              "      <td>168822</td>\n",
              "      <td>23.0</td>\n",
              "    </tr>\n",
              "    <tr>\n",
              "      <th>3160712</th>\n",
              "      <td>ac5710432b184069b1a4c0296fe3e41a</td>\n",
              "      <td>136830</td>\n",
              "      <td>21.0</td>\n",
              "    </tr>\n",
              "    <tr>\n",
              "      <th>3160733</th>\n",
              "      <td>ac5710432b184069b1a4c0296fe3e41a</td>\n",
              "      <td>249034</td>\n",
              "      <td>20.0</td>\n",
              "    </tr>\n",
              "    <tr>\n",
              "      <th>3160723</th>\n",
              "      <td>ac5710432b184069b1a4c0296fe3e41a</td>\n",
              "      <td>195789</td>\n",
              "      <td>20.0</td>\n",
              "    </tr>\n",
              "    <tr>\n",
              "      <th>3160732</th>\n",
              "      <td>ac5710432b184069b1a4c0296fe3e41a</td>\n",
              "      <td>248398</td>\n",
              "      <td>20.0</td>\n",
              "    </tr>\n",
              "    <tr>\n",
              "      <th>3160730</th>\n",
              "      <td>ac5710432b184069b1a4c0296fe3e41a</td>\n",
              "      <td>239208</td>\n",
              "      <td>13.0</td>\n",
              "    </tr>\n",
              "    <tr>\n",
              "      <th>3160724</th>\n",
              "      <td>ac5710432b184069b1a4c0296fe3e41a</td>\n",
              "      <td>210068</td>\n",
              "      <td>12.0</td>\n",
              "    </tr>\n",
              "  </tbody>\n",
              "</table>\n",
              "</div>\n",
              "      <button class=\"colab-df-convert\" onclick=\"convertToInteractive('df-489e26d8-9385-4628-bfea-a0026d6cab9f')\"\n",
              "              title=\"Convert this dataframe to an interactive table.\"\n",
              "              style=\"display:none;\">\n",
              "        \n",
              "  <svg xmlns=\"http://www.w3.org/2000/svg\" height=\"24px\"viewBox=\"0 0 24 24\"\n",
              "       width=\"24px\">\n",
              "    <path d=\"M0 0h24v24H0V0z\" fill=\"none\"/>\n",
              "    <path d=\"M18.56 5.44l.94 2.06.94-2.06 2.06-.94-2.06-.94-.94-2.06-.94 2.06-2.06.94zm-11 1L8.5 8.5l.94-2.06 2.06-.94-2.06-.94L8.5 2.5l-.94 2.06-2.06.94zm10 10l.94 2.06.94-2.06 2.06-.94-2.06-.94-.94-2.06-.94 2.06-2.06.94z\"/><path d=\"M17.41 7.96l-1.37-1.37c-.4-.4-.92-.59-1.43-.59-.52 0-1.04.2-1.43.59L10.3 9.45l-7.72 7.72c-.78.78-.78 2.05 0 2.83L4 21.41c.39.39.9.59 1.41.59.51 0 1.02-.2 1.41-.59l7.78-7.78 2.81-2.81c.8-.78.8-2.07 0-2.86zM5.41 20L4 18.59l7.72-7.72 1.47 1.35L5.41 20z\"/>\n",
              "  </svg>\n",
              "      </button>\n",
              "      \n",
              "  <style>\n",
              "    .colab-df-container {\n",
              "      display:flex;\n",
              "      flex-wrap:wrap;\n",
              "      gap: 12px;\n",
              "    }\n",
              "\n",
              "    .colab-df-convert {\n",
              "      background-color: #E8F0FE;\n",
              "      border: none;\n",
              "      border-radius: 50%;\n",
              "      cursor: pointer;\n",
              "      display: none;\n",
              "      fill: #1967D2;\n",
              "      height: 32px;\n",
              "      padding: 0 0 0 0;\n",
              "      width: 32px;\n",
              "    }\n",
              "\n",
              "    .colab-df-convert:hover {\n",
              "      background-color: #E2EBFA;\n",
              "      box-shadow: 0px 1px 2px rgba(60, 64, 67, 0.3), 0px 1px 3px 1px rgba(60, 64, 67, 0.15);\n",
              "      fill: #174EA6;\n",
              "    }\n",
              "\n",
              "    [theme=dark] .colab-df-convert {\n",
              "      background-color: #3B4455;\n",
              "      fill: #D2E3FC;\n",
              "    }\n",
              "\n",
              "    [theme=dark] .colab-df-convert:hover {\n",
              "      background-color: #434B5C;\n",
              "      box-shadow: 0px 1px 3px 1px rgba(0, 0, 0, 0.15);\n",
              "      filter: drop-shadow(0px 1px 2px rgba(0, 0, 0, 0.3));\n",
              "      fill: #FFFFFF;\n",
              "    }\n",
              "  </style>\n",
              "\n",
              "      <script>\n",
              "        const buttonEl =\n",
              "          document.querySelector('#df-489e26d8-9385-4628-bfea-a0026d6cab9f button.colab-df-convert');\n",
              "        buttonEl.style.display =\n",
              "          google.colab.kernel.accessAllowed ? 'block' : 'none';\n",
              "\n",
              "        async function convertToInteractive(key) {\n",
              "          const element = document.querySelector('#df-489e26d8-9385-4628-bfea-a0026d6cab9f');\n",
              "          const dataTable =\n",
              "            await google.colab.kernel.invokeFunction('convertToInteractive',\n",
              "                                                     [key], {});\n",
              "          if (!dataTable) return;\n",
              "\n",
              "          const docLinkHtml = 'Like what you see? Visit the ' +\n",
              "            '<a target=\"_blank\" href=https://colab.research.google.com/notebooks/data_table.ipynb>data table notebook</a>'\n",
              "            + ' to learn more about interactive tables.';\n",
              "          element.innerHTML = '';\n",
              "          dataTable['output_type'] = 'display_data';\n",
              "          await google.colab.output.renderOutput(dataTable, element);\n",
              "          const docLink = document.createElement('div');\n",
              "          docLink.innerHTML = docLinkHtml;\n",
              "          element.appendChild(docLink);\n",
              "        }\n",
              "      </script>\n",
              "    </div>\n",
              "  </div>\n",
              "  "
            ]
          },
          "metadata": {},
          "execution_count": 24
        }
      ]
    },
    {
      "cell_type": "markdown",
      "source": [
        "Вот к этому блоку нужно подойти очень внимательно - это выделение категориальных и числовых столбцов, в первых прогонах мы обошлись вот таким вариантом, но можно будет посмотреть и выделение нумированных вакансий (у нас в матрице с 0 до 100 000 значений нет, а номера есть, но может этого и ничего страшного)\n",
        "\n",
        "---"
      ],
      "metadata": {
        "id": "d6HYg_5FysLz"
      }
    },
    {
      "cell_type": "code",
      "execution_count": null,
      "metadata": {
        "id": "Hj8ItCotrTjI"
      },
      "outputs": [],
      "source": [
        "grouped_df['cookie_id'] = grouped_df['cookie_id'].astype(\"category\") # наименование вакансии в категорию\n",
        "#grouped_df['vacancy_id_'] = grouped_df['vacancy_id_'].astype(\"category\") # наименование вакансии в категорию"
      ]
    },
    {
      "cell_type": "code",
      "source": [
        "grouped_df['cookie_id_num'] = grouped_df['cookie_id'].cat.codes # вот тут выделяем числовые значения\n",
        "#grouped_df['vacancy_id_num'] = grouped_df['vacancy_id_'].cat.codes # и вот тут выделим"
      ],
      "metadata": {
        "id": "X0SCKJ88o_dv"
      },
      "execution_count": null,
      "outputs": []
    },
    {
      "cell_type": "markdown",
      "metadata": {
        "id": "HmSEG1NnQr3a"
      },
      "source": [
        "Продолжаем готовить данные для разряженных матриц\n",
        "\n",
        "---"
      ]
    },
    {
      "cell_type": "code",
      "source": [
        "#grouped_df = grouped_df[['cookie_id', 'cookie_id_num', 'vacancy_id_', 'vacancy_id_num', 'eventStrength']]"
      ],
      "metadata": {
        "id": "oFGgBM8Dy7UM"
      },
      "execution_count": null,
      "outputs": []
    },
    {
      "cell_type": "code",
      "source": [
        "grouped_df = grouped_df[['cookie_id', 'cookie_id_num', 'vacancy_id_', 'eventStrength']]"
      ],
      "metadata": {
        "id": "L5qwt3uP0822"
      },
      "execution_count": null,
      "outputs": []
    },
    {
      "cell_type": "code",
      "source": [
        "#data = grouped_df[['cookie_id_num', 'vacancy_id_num', 'eventStrength']]"
      ],
      "metadata": {
        "id": "tk6Zs1efpFjm"
      },
      "execution_count": null,
      "outputs": []
    },
    {
      "cell_type": "code",
      "source": [
        "# В этом варианте кода мы пробуем запускать в матрицу номера вакансий которые нам дали изначально, что бы с ними потом не мучатся\n",
        "data = grouped_df[['cookie_id_num', 'vacancy_id_', 'eventStrength']]"
      ],
      "metadata": {
        "id": "dA3bGK1_1KHn"
      },
      "execution_count": null,
      "outputs": []
    },
    {
      "cell_type": "markdown",
      "source": [
        "Вот тут стоит подумать о нормализации данных и вообще нужна ли она? Это второй исследовательский блок давайте пробовавать разную нормализацию"
      ],
      "metadata": {
        "id": "PpGQc_gEF4fw"
      }
    },
    {
      "cell_type": "code",
      "source": [
        "data['eventStrength_norm'] = (data['eventStrength'] - data['eventStrength'].mean()) / data['eventStrength'].std()"
      ],
      "metadata": {
        "id": "tgeFDHKcF5fQ"
      },
      "execution_count": null,
      "outputs": []
    },
    {
      "cell_type": "code",
      "source": [
        "data.head() # мне кажется минусы нам не нужны будут проверю другую"
      ],
      "metadata": {
        "colab": {
          "base_uri": "https://localhost:8080/",
          "height": 206
        },
        "id": "FpPIHeb_HV4u",
        "outputId": "ac522361-09ae-43f5-dc74-09390b5e012d"
      },
      "execution_count": null,
      "outputs": [
        {
          "output_type": "execute_result",
          "data": {
            "text/plain": [
              "   cookie_id_num  vacancy_id_  eventStrength  eventStrength_norm\n",
              "0              0       137659            3.0           -0.319517\n",
              "1              0       153975            3.0           -0.319517\n",
              "2              0       174953            9.0            0.771015\n",
              "3              0       176171            3.0           -0.319517\n",
              "4              0       182445            6.0            0.225749"
            ],
            "text/html": [
              "\n",
              "  <div id=\"df-d9a9e7e2-556c-404b-91fa-4a41d75b1651\">\n",
              "    <div class=\"colab-df-container\">\n",
              "      <div>\n",
              "<style scoped>\n",
              "    .dataframe tbody tr th:only-of-type {\n",
              "        vertical-align: middle;\n",
              "    }\n",
              "\n",
              "    .dataframe tbody tr th {\n",
              "        vertical-align: top;\n",
              "    }\n",
              "\n",
              "    .dataframe thead th {\n",
              "        text-align: right;\n",
              "    }\n",
              "</style>\n",
              "<table border=\"1\" class=\"dataframe\">\n",
              "  <thead>\n",
              "    <tr style=\"text-align: right;\">\n",
              "      <th></th>\n",
              "      <th>cookie_id_num</th>\n",
              "      <th>vacancy_id_</th>\n",
              "      <th>eventStrength</th>\n",
              "      <th>eventStrength_norm</th>\n",
              "    </tr>\n",
              "  </thead>\n",
              "  <tbody>\n",
              "    <tr>\n",
              "      <th>0</th>\n",
              "      <td>0</td>\n",
              "      <td>137659</td>\n",
              "      <td>3.0</td>\n",
              "      <td>-0.319517</td>\n",
              "    </tr>\n",
              "    <tr>\n",
              "      <th>1</th>\n",
              "      <td>0</td>\n",
              "      <td>153975</td>\n",
              "      <td>3.0</td>\n",
              "      <td>-0.319517</td>\n",
              "    </tr>\n",
              "    <tr>\n",
              "      <th>2</th>\n",
              "      <td>0</td>\n",
              "      <td>174953</td>\n",
              "      <td>9.0</td>\n",
              "      <td>0.771015</td>\n",
              "    </tr>\n",
              "    <tr>\n",
              "      <th>3</th>\n",
              "      <td>0</td>\n",
              "      <td>176171</td>\n",
              "      <td>3.0</td>\n",
              "      <td>-0.319517</td>\n",
              "    </tr>\n",
              "    <tr>\n",
              "      <th>4</th>\n",
              "      <td>0</td>\n",
              "      <td>182445</td>\n",
              "      <td>6.0</td>\n",
              "      <td>0.225749</td>\n",
              "    </tr>\n",
              "  </tbody>\n",
              "</table>\n",
              "</div>\n",
              "      <button class=\"colab-df-convert\" onclick=\"convertToInteractive('df-d9a9e7e2-556c-404b-91fa-4a41d75b1651')\"\n",
              "              title=\"Convert this dataframe to an interactive table.\"\n",
              "              style=\"display:none;\">\n",
              "        \n",
              "  <svg xmlns=\"http://www.w3.org/2000/svg\" height=\"24px\"viewBox=\"0 0 24 24\"\n",
              "       width=\"24px\">\n",
              "    <path d=\"M0 0h24v24H0V0z\" fill=\"none\"/>\n",
              "    <path d=\"M18.56 5.44l.94 2.06.94-2.06 2.06-.94-2.06-.94-.94-2.06-.94 2.06-2.06.94zm-11 1L8.5 8.5l.94-2.06 2.06-.94-2.06-.94L8.5 2.5l-.94 2.06-2.06.94zm10 10l.94 2.06.94-2.06 2.06-.94-2.06-.94-.94-2.06-.94 2.06-2.06.94z\"/><path d=\"M17.41 7.96l-1.37-1.37c-.4-.4-.92-.59-1.43-.59-.52 0-1.04.2-1.43.59L10.3 9.45l-7.72 7.72c-.78.78-.78 2.05 0 2.83L4 21.41c.39.39.9.59 1.41.59.51 0 1.02-.2 1.41-.59l7.78-7.78 2.81-2.81c.8-.78.8-2.07 0-2.86zM5.41 20L4 18.59l7.72-7.72 1.47 1.35L5.41 20z\"/>\n",
              "  </svg>\n",
              "      </button>\n",
              "      \n",
              "  <style>\n",
              "    .colab-df-container {\n",
              "      display:flex;\n",
              "      flex-wrap:wrap;\n",
              "      gap: 12px;\n",
              "    }\n",
              "\n",
              "    .colab-df-convert {\n",
              "      background-color: #E8F0FE;\n",
              "      border: none;\n",
              "      border-radius: 50%;\n",
              "      cursor: pointer;\n",
              "      display: none;\n",
              "      fill: #1967D2;\n",
              "      height: 32px;\n",
              "      padding: 0 0 0 0;\n",
              "      width: 32px;\n",
              "    }\n",
              "\n",
              "    .colab-df-convert:hover {\n",
              "      background-color: #E2EBFA;\n",
              "      box-shadow: 0px 1px 2px rgba(60, 64, 67, 0.3), 0px 1px 3px 1px rgba(60, 64, 67, 0.15);\n",
              "      fill: #174EA6;\n",
              "    }\n",
              "\n",
              "    [theme=dark] .colab-df-convert {\n",
              "      background-color: #3B4455;\n",
              "      fill: #D2E3FC;\n",
              "    }\n",
              "\n",
              "    [theme=dark] .colab-df-convert:hover {\n",
              "      background-color: #434B5C;\n",
              "      box-shadow: 0px 1px 3px 1px rgba(0, 0, 0, 0.15);\n",
              "      filter: drop-shadow(0px 1px 2px rgba(0, 0, 0, 0.3));\n",
              "      fill: #FFFFFF;\n",
              "    }\n",
              "  </style>\n",
              "\n",
              "      <script>\n",
              "        const buttonEl =\n",
              "          document.querySelector('#df-d9a9e7e2-556c-404b-91fa-4a41d75b1651 button.colab-df-convert');\n",
              "        buttonEl.style.display =\n",
              "          google.colab.kernel.accessAllowed ? 'block' : 'none';\n",
              "\n",
              "        async function convertToInteractive(key) {\n",
              "          const element = document.querySelector('#df-d9a9e7e2-556c-404b-91fa-4a41d75b1651');\n",
              "          const dataTable =\n",
              "            await google.colab.kernel.invokeFunction('convertToInteractive',\n",
              "                                                     [key], {});\n",
              "          if (!dataTable) return;\n",
              "\n",
              "          const docLinkHtml = 'Like what you see? Visit the ' +\n",
              "            '<a target=\"_blank\" href=https://colab.research.google.com/notebooks/data_table.ipynb>data table notebook</a>'\n",
              "            + ' to learn more about interactive tables.';\n",
              "          element.innerHTML = '';\n",
              "          dataTable['output_type'] = 'display_data';\n",
              "          await google.colab.output.renderOutput(dataTable, element);\n",
              "          const docLink = document.createElement('div');\n",
              "          docLink.innerHTML = docLinkHtml;\n",
              "          element.appendChild(docLink);\n",
              "        }\n",
              "      </script>\n",
              "    </div>\n",
              "  </div>\n",
              "  "
            ]
          },
          "metadata": {},
          "execution_count": 34
        }
      ]
    },
    {
      "cell_type": "code",
      "source": [
        "data['eventStrength_norm'] = (data['eventStrength'] - data['eventStrength'].min()) / (data['eventStrength'].max() - data['eventStrength'].min())"
      ],
      "metadata": {
        "id": "fYu3SD4yGUs4"
      },
      "execution_count": null,
      "outputs": []
    },
    {
      "cell_type": "code",
      "source": [
        "data.head() # мне кажется минусы нам не нужны будут проверю другую\n",
        "# Вот этот датафрейм пойдет в матрицы (в следующий прогон загоним с нормализацией)"
      ],
      "metadata": {
        "colab": {
          "base_uri": "https://localhost:8080/",
          "height": 206
        },
        "id": "hC_GLeS7GUqW",
        "outputId": "790c86c5-d50d-44c5-e2c0-2e542eda988d"
      },
      "execution_count": null,
      "outputs": [
        {
          "output_type": "execute_result",
          "data": {
            "text/plain": [
              "   cookie_id_num  vacancy_id_  eventStrength  eventStrength_norm\n",
              "0              0       137659            3.0            0.002714\n",
              "1              0       153975            3.0            0.002714\n",
              "2              0       174953            9.0            0.010855\n",
              "3              0       176171            3.0            0.002714\n",
              "4              0       182445            6.0            0.006784"
            ],
            "text/html": [
              "\n",
              "  <div id=\"df-5df2ad08-0244-461a-ac3d-eac1fc6d37a6\">\n",
              "    <div class=\"colab-df-container\">\n",
              "      <div>\n",
              "<style scoped>\n",
              "    .dataframe tbody tr th:only-of-type {\n",
              "        vertical-align: middle;\n",
              "    }\n",
              "\n",
              "    .dataframe tbody tr th {\n",
              "        vertical-align: top;\n",
              "    }\n",
              "\n",
              "    .dataframe thead th {\n",
              "        text-align: right;\n",
              "    }\n",
              "</style>\n",
              "<table border=\"1\" class=\"dataframe\">\n",
              "  <thead>\n",
              "    <tr style=\"text-align: right;\">\n",
              "      <th></th>\n",
              "      <th>cookie_id_num</th>\n",
              "      <th>vacancy_id_</th>\n",
              "      <th>eventStrength</th>\n",
              "      <th>eventStrength_norm</th>\n",
              "    </tr>\n",
              "  </thead>\n",
              "  <tbody>\n",
              "    <tr>\n",
              "      <th>0</th>\n",
              "      <td>0</td>\n",
              "      <td>137659</td>\n",
              "      <td>3.0</td>\n",
              "      <td>0.002714</td>\n",
              "    </tr>\n",
              "    <tr>\n",
              "      <th>1</th>\n",
              "      <td>0</td>\n",
              "      <td>153975</td>\n",
              "      <td>3.0</td>\n",
              "      <td>0.002714</td>\n",
              "    </tr>\n",
              "    <tr>\n",
              "      <th>2</th>\n",
              "      <td>0</td>\n",
              "      <td>174953</td>\n",
              "      <td>9.0</td>\n",
              "      <td>0.010855</td>\n",
              "    </tr>\n",
              "    <tr>\n",
              "      <th>3</th>\n",
              "      <td>0</td>\n",
              "      <td>176171</td>\n",
              "      <td>3.0</td>\n",
              "      <td>0.002714</td>\n",
              "    </tr>\n",
              "    <tr>\n",
              "      <th>4</th>\n",
              "      <td>0</td>\n",
              "      <td>182445</td>\n",
              "      <td>6.0</td>\n",
              "      <td>0.006784</td>\n",
              "    </tr>\n",
              "  </tbody>\n",
              "</table>\n",
              "</div>\n",
              "      <button class=\"colab-df-convert\" onclick=\"convertToInteractive('df-5df2ad08-0244-461a-ac3d-eac1fc6d37a6')\"\n",
              "              title=\"Convert this dataframe to an interactive table.\"\n",
              "              style=\"display:none;\">\n",
              "        \n",
              "  <svg xmlns=\"http://www.w3.org/2000/svg\" height=\"24px\"viewBox=\"0 0 24 24\"\n",
              "       width=\"24px\">\n",
              "    <path d=\"M0 0h24v24H0V0z\" fill=\"none\"/>\n",
              "    <path d=\"M18.56 5.44l.94 2.06.94-2.06 2.06-.94-2.06-.94-.94-2.06-.94 2.06-2.06.94zm-11 1L8.5 8.5l.94-2.06 2.06-.94-2.06-.94L8.5 2.5l-.94 2.06-2.06.94zm10 10l.94 2.06.94-2.06 2.06-.94-2.06-.94-.94-2.06-.94 2.06-2.06.94z\"/><path d=\"M17.41 7.96l-1.37-1.37c-.4-.4-.92-.59-1.43-.59-.52 0-1.04.2-1.43.59L10.3 9.45l-7.72 7.72c-.78.78-.78 2.05 0 2.83L4 21.41c.39.39.9.59 1.41.59.51 0 1.02-.2 1.41-.59l7.78-7.78 2.81-2.81c.8-.78.8-2.07 0-2.86zM5.41 20L4 18.59l7.72-7.72 1.47 1.35L5.41 20z\"/>\n",
              "  </svg>\n",
              "      </button>\n",
              "      \n",
              "  <style>\n",
              "    .colab-df-container {\n",
              "      display:flex;\n",
              "      flex-wrap:wrap;\n",
              "      gap: 12px;\n",
              "    }\n",
              "\n",
              "    .colab-df-convert {\n",
              "      background-color: #E8F0FE;\n",
              "      border: none;\n",
              "      border-radius: 50%;\n",
              "      cursor: pointer;\n",
              "      display: none;\n",
              "      fill: #1967D2;\n",
              "      height: 32px;\n",
              "      padding: 0 0 0 0;\n",
              "      width: 32px;\n",
              "    }\n",
              "\n",
              "    .colab-df-convert:hover {\n",
              "      background-color: #E2EBFA;\n",
              "      box-shadow: 0px 1px 2px rgba(60, 64, 67, 0.3), 0px 1px 3px 1px rgba(60, 64, 67, 0.15);\n",
              "      fill: #174EA6;\n",
              "    }\n",
              "\n",
              "    [theme=dark] .colab-df-convert {\n",
              "      background-color: #3B4455;\n",
              "      fill: #D2E3FC;\n",
              "    }\n",
              "\n",
              "    [theme=dark] .colab-df-convert:hover {\n",
              "      background-color: #434B5C;\n",
              "      box-shadow: 0px 1px 3px 1px rgba(0, 0, 0, 0.15);\n",
              "      filter: drop-shadow(0px 1px 2px rgba(0, 0, 0, 0.3));\n",
              "      fill: #FFFFFF;\n",
              "    }\n",
              "  </style>\n",
              "\n",
              "      <script>\n",
              "        const buttonEl =\n",
              "          document.querySelector('#df-5df2ad08-0244-461a-ac3d-eac1fc6d37a6 button.colab-df-convert');\n",
              "        buttonEl.style.display =\n",
              "          google.colab.kernel.accessAllowed ? 'block' : 'none';\n",
              "\n",
              "        async function convertToInteractive(key) {\n",
              "          const element = document.querySelector('#df-5df2ad08-0244-461a-ac3d-eac1fc6d37a6');\n",
              "          const dataTable =\n",
              "            await google.colab.kernel.invokeFunction('convertToInteractive',\n",
              "                                                     [key], {});\n",
              "          if (!dataTable) return;\n",
              "\n",
              "          const docLinkHtml = 'Like what you see? Visit the ' +\n",
              "            '<a target=\"_blank\" href=https://colab.research.google.com/notebooks/data_table.ipynb>data table notebook</a>'\n",
              "            + ' to learn more about interactive tables.';\n",
              "          element.innerHTML = '';\n",
              "          dataTable['output_type'] = 'display_data';\n",
              "          await google.colab.output.renderOutput(dataTable, element);\n",
              "          const docLink = document.createElement('div');\n",
              "          docLink.innerHTML = docLinkHtml;\n",
              "          element.appendChild(docLink);\n",
              "        }\n",
              "      </script>\n",
              "    </div>\n",
              "  </div>\n",
              "  "
            ]
          },
          "metadata": {},
          "execution_count": 36
        }
      ]
    },
    {
      "cell_type": "code",
      "execution_count": null,
      "metadata": {
        "id": "TOMAvk3brTjJ",
        "outputId": "f00d9180-5812-4e71-c339-e2ca2c0c359f",
        "colab": {
          "base_uri": "https://localhost:8080/",
          "height": 363
        }
      },
      "outputs": [
        {
          "output_type": "execute_result",
          "data": {
            "text/plain": [
              "                          cookie_id  cookie_id_num  vacancy_id_  eventStrength\n",
              "0  0000c4548c3944c08972bbdc1fa4eb85              0       137659            3.0\n",
              "1  0000c4548c3944c08972bbdc1fa4eb85              0       153975            3.0\n",
              "2  0000c4548c3944c08972bbdc1fa4eb85              0       174953            9.0\n",
              "3  0000c4548c3944c08972bbdc1fa4eb85              0       176171            3.0\n",
              "4  0000c4548c3944c08972bbdc1fa4eb85              0       182445            6.0\n",
              "5  0000c4548c3944c08972bbdc1fa4eb85              0       187529            3.0\n",
              "6  0000d7508334414ca792c5ff66eb8c14              1       106676            3.0\n",
              "7  0000d7508334414ca792c5ff66eb8c14              1       108690            3.0\n",
              "8  0000d7508334414ca792c5ff66eb8c14              1       115744            3.0\n",
              "9  0000d7508334414ca792c5ff66eb8c14              1       169615            3.0"
            ],
            "text/html": [
              "\n",
              "  <div id=\"df-b6e78c66-a7ef-4db4-97ec-4b27859ff0e6\">\n",
              "    <div class=\"colab-df-container\">\n",
              "      <div>\n",
              "<style scoped>\n",
              "    .dataframe tbody tr th:only-of-type {\n",
              "        vertical-align: middle;\n",
              "    }\n",
              "\n",
              "    .dataframe tbody tr th {\n",
              "        vertical-align: top;\n",
              "    }\n",
              "\n",
              "    .dataframe thead th {\n",
              "        text-align: right;\n",
              "    }\n",
              "</style>\n",
              "<table border=\"1\" class=\"dataframe\">\n",
              "  <thead>\n",
              "    <tr style=\"text-align: right;\">\n",
              "      <th></th>\n",
              "      <th>cookie_id</th>\n",
              "      <th>cookie_id_num</th>\n",
              "      <th>vacancy_id_</th>\n",
              "      <th>eventStrength</th>\n",
              "    </tr>\n",
              "  </thead>\n",
              "  <tbody>\n",
              "    <tr>\n",
              "      <th>0</th>\n",
              "      <td>0000c4548c3944c08972bbdc1fa4eb85</td>\n",
              "      <td>0</td>\n",
              "      <td>137659</td>\n",
              "      <td>3.0</td>\n",
              "    </tr>\n",
              "    <tr>\n",
              "      <th>1</th>\n",
              "      <td>0000c4548c3944c08972bbdc1fa4eb85</td>\n",
              "      <td>0</td>\n",
              "      <td>153975</td>\n",
              "      <td>3.0</td>\n",
              "    </tr>\n",
              "    <tr>\n",
              "      <th>2</th>\n",
              "      <td>0000c4548c3944c08972bbdc1fa4eb85</td>\n",
              "      <td>0</td>\n",
              "      <td>174953</td>\n",
              "      <td>9.0</td>\n",
              "    </tr>\n",
              "    <tr>\n",
              "      <th>3</th>\n",
              "      <td>0000c4548c3944c08972bbdc1fa4eb85</td>\n",
              "      <td>0</td>\n",
              "      <td>176171</td>\n",
              "      <td>3.0</td>\n",
              "    </tr>\n",
              "    <tr>\n",
              "      <th>4</th>\n",
              "      <td>0000c4548c3944c08972bbdc1fa4eb85</td>\n",
              "      <td>0</td>\n",
              "      <td>182445</td>\n",
              "      <td>6.0</td>\n",
              "    </tr>\n",
              "    <tr>\n",
              "      <th>5</th>\n",
              "      <td>0000c4548c3944c08972bbdc1fa4eb85</td>\n",
              "      <td>0</td>\n",
              "      <td>187529</td>\n",
              "      <td>3.0</td>\n",
              "    </tr>\n",
              "    <tr>\n",
              "      <th>6</th>\n",
              "      <td>0000d7508334414ca792c5ff66eb8c14</td>\n",
              "      <td>1</td>\n",
              "      <td>106676</td>\n",
              "      <td>3.0</td>\n",
              "    </tr>\n",
              "    <tr>\n",
              "      <th>7</th>\n",
              "      <td>0000d7508334414ca792c5ff66eb8c14</td>\n",
              "      <td>1</td>\n",
              "      <td>108690</td>\n",
              "      <td>3.0</td>\n",
              "    </tr>\n",
              "    <tr>\n",
              "      <th>8</th>\n",
              "      <td>0000d7508334414ca792c5ff66eb8c14</td>\n",
              "      <td>1</td>\n",
              "      <td>115744</td>\n",
              "      <td>3.0</td>\n",
              "    </tr>\n",
              "    <tr>\n",
              "      <th>9</th>\n",
              "      <td>0000d7508334414ca792c5ff66eb8c14</td>\n",
              "      <td>1</td>\n",
              "      <td>169615</td>\n",
              "      <td>3.0</td>\n",
              "    </tr>\n",
              "  </tbody>\n",
              "</table>\n",
              "</div>\n",
              "      <button class=\"colab-df-convert\" onclick=\"convertToInteractive('df-b6e78c66-a7ef-4db4-97ec-4b27859ff0e6')\"\n",
              "              title=\"Convert this dataframe to an interactive table.\"\n",
              "              style=\"display:none;\">\n",
              "        \n",
              "  <svg xmlns=\"http://www.w3.org/2000/svg\" height=\"24px\"viewBox=\"0 0 24 24\"\n",
              "       width=\"24px\">\n",
              "    <path d=\"M0 0h24v24H0V0z\" fill=\"none\"/>\n",
              "    <path d=\"M18.56 5.44l.94 2.06.94-2.06 2.06-.94-2.06-.94-.94-2.06-.94 2.06-2.06.94zm-11 1L8.5 8.5l.94-2.06 2.06-.94-2.06-.94L8.5 2.5l-.94 2.06-2.06.94zm10 10l.94 2.06.94-2.06 2.06-.94-2.06-.94-.94-2.06-.94 2.06-2.06.94z\"/><path d=\"M17.41 7.96l-1.37-1.37c-.4-.4-.92-.59-1.43-.59-.52 0-1.04.2-1.43.59L10.3 9.45l-7.72 7.72c-.78.78-.78 2.05 0 2.83L4 21.41c.39.39.9.59 1.41.59.51 0 1.02-.2 1.41-.59l7.78-7.78 2.81-2.81c.8-.78.8-2.07 0-2.86zM5.41 20L4 18.59l7.72-7.72 1.47 1.35L5.41 20z\"/>\n",
              "  </svg>\n",
              "      </button>\n",
              "      \n",
              "  <style>\n",
              "    .colab-df-container {\n",
              "      display:flex;\n",
              "      flex-wrap:wrap;\n",
              "      gap: 12px;\n",
              "    }\n",
              "\n",
              "    .colab-df-convert {\n",
              "      background-color: #E8F0FE;\n",
              "      border: none;\n",
              "      border-radius: 50%;\n",
              "      cursor: pointer;\n",
              "      display: none;\n",
              "      fill: #1967D2;\n",
              "      height: 32px;\n",
              "      padding: 0 0 0 0;\n",
              "      width: 32px;\n",
              "    }\n",
              "\n",
              "    .colab-df-convert:hover {\n",
              "      background-color: #E2EBFA;\n",
              "      box-shadow: 0px 1px 2px rgba(60, 64, 67, 0.3), 0px 1px 3px 1px rgba(60, 64, 67, 0.15);\n",
              "      fill: #174EA6;\n",
              "    }\n",
              "\n",
              "    [theme=dark] .colab-df-convert {\n",
              "      background-color: #3B4455;\n",
              "      fill: #D2E3FC;\n",
              "    }\n",
              "\n",
              "    [theme=dark] .colab-df-convert:hover {\n",
              "      background-color: #434B5C;\n",
              "      box-shadow: 0px 1px 3px 1px rgba(0, 0, 0, 0.15);\n",
              "      filter: drop-shadow(0px 1px 2px rgba(0, 0, 0, 0.3));\n",
              "      fill: #FFFFFF;\n",
              "    }\n",
              "  </style>\n",
              "\n",
              "      <script>\n",
              "        const buttonEl =\n",
              "          document.querySelector('#df-b6e78c66-a7ef-4db4-97ec-4b27859ff0e6 button.colab-df-convert');\n",
              "        buttonEl.style.display =\n",
              "          google.colab.kernel.accessAllowed ? 'block' : 'none';\n",
              "\n",
              "        async function convertToInteractive(key) {\n",
              "          const element = document.querySelector('#df-b6e78c66-a7ef-4db4-97ec-4b27859ff0e6');\n",
              "          const dataTable =\n",
              "            await google.colab.kernel.invokeFunction('convertToInteractive',\n",
              "                                                     [key], {});\n",
              "          if (!dataTable) return;\n",
              "\n",
              "          const docLinkHtml = 'Like what you see? Visit the ' +\n",
              "            '<a target=\"_blank\" href=https://colab.research.google.com/notebooks/data_table.ipynb>data table notebook</a>'\n",
              "            + ' to learn more about interactive tables.';\n",
              "          element.innerHTML = '';\n",
              "          dataTable['output_type'] = 'display_data';\n",
              "          await google.colab.output.renderOutput(dataTable, element);\n",
              "          const docLink = document.createElement('div');\n",
              "          docLink.innerHTML = docLinkHtml;\n",
              "          element.appendChild(docLink);\n",
              "        }\n",
              "      </script>\n",
              "    </div>\n",
              "  </div>\n",
              "  "
            ]
          },
          "metadata": {},
          "execution_count": 29
        }
      ],
      "source": [
        "# а вот это остается нашим базовым информационным датафреймом\n",
        "grouped_df.head(10)"
      ]
    },
    {
      "cell_type": "markdown",
      "source": [
        "Вот в этом блоке мы должны соотнести наш цифровой номер cookie со строчным, для вывода ответов\n",
        "\n",
        "---"
      ],
      "metadata": {
        "id": "C4PdXK49zweT"
      }
    },
    {
      "cell_type": "markdown",
      "source": [
        "Первый вариант работает на словарях"
      ],
      "metadata": {
        "id": "g8YThcNXABO2"
      }
    },
    {
      "cell_type": "code",
      "source": [
        "# кодируем числами все наши cookie_id\n",
        "codes = grouped_df.cookie_id.astype('category')\n",
        "# создаем словарик в котором ключ это код а значение текстовое поле cookie_id\n",
        "cookie_dic = dict(enumerate(codes.cat.categories))\n",
        "print (cookie_dic[4])"
      ],
      "metadata": {
        "colab": {
          "base_uri": "https://localhost:8080/"
        },
        "id": "-B8hptiR755e",
        "outputId": "829e17f6-9d7b-45ee-d195-de527eed8111"
      },
      "execution_count": null,
      "outputs": [
        {
          "output_type": "stream",
          "name": "stdout",
          "text": [
            "00015019b0594984afc3fd9fa9557490\n"
          ]
        }
      ]
    },
    {
      "cell_type": "code",
      "source": [
        "# и создадим обратный словарик\n",
        "cookie_to_code = dict(zip(cookie_dic.values(), cookie_dic.keys()))"
      ],
      "metadata": {
        "id": "DHTqf1eq_cwp"
      },
      "execution_count": null,
      "outputs": []
    },
    {
      "cell_type": "code",
      "source": [
        "print(cookie_to_code['00015019b0594984afc3fd9fa9557490'])"
      ],
      "metadata": {
        "colab": {
          "base_uri": "https://localhost:8080/"
        },
        "id": "IyTNzipJ_nwg",
        "outputId": "25d6cec5-d8e3-45c5-c139-6278c8c90fba"
      },
      "execution_count": null,
      "outputs": [
        {
          "output_type": "stream",
          "name": "stdout",
          "text": [
            "4\n"
          ]
        }
      ]
    },
    {
      "cell_type": "markdown",
      "source": [
        "Другой способ через dataFrame пока заморозим"
      ],
      "metadata": {
        "id": "F1wiTzDL88Im"
      }
    },
    {
      "cell_type": "code",
      "execution_count": null,
      "metadata": {
        "id": "eBCs5UEUQr3b"
      },
      "outputs": [],
      "source": [
        "cookie_dic_df = grouped_df.drop(columns = ['vacancy_id_','eventStrength'])"
      ]
    },
    {
      "cell_type": "code",
      "source": [
        "cookie_dic_df.drop_duplicates(inplace=True)"
      ],
      "metadata": {
        "id": "WjcsLmBEzhAs"
      },
      "execution_count": null,
      "outputs": []
    },
    {
      "cell_type": "code",
      "execution_count": null,
      "metadata": {
        "colab": {
          "base_uri": "https://localhost:8080/",
          "height": 206
        },
        "id": "a4Rag09nQr3b",
        "outputId": "0b498eac-eb41-4bd4-eab9-f73d8cbdbb3d"
      },
      "outputs": [
        {
          "output_type": "execute_result",
          "data": {
            "text/plain": [
              "                           cookie_id  cookie_id_num\n",
              "0   0000c4548c3944c08972bbdc1fa4eb85              0\n",
              "6   0000d7508334414ca792c5ff66eb8c14              1\n",
              "18  0000e63f423542fe8090575b611cea4d              2\n",
              "26  00013bf3e58244b48d4dbdf43543c30c              3\n",
              "32  00015019b0594984afc3fd9fa9557490              4"
            ],
            "text/html": [
              "\n",
              "  <div id=\"df-fa64eb23-7c66-4116-ad33-c17ba751b1e9\">\n",
              "    <div class=\"colab-df-container\">\n",
              "      <div>\n",
              "<style scoped>\n",
              "    .dataframe tbody tr th:only-of-type {\n",
              "        vertical-align: middle;\n",
              "    }\n",
              "\n",
              "    .dataframe tbody tr th {\n",
              "        vertical-align: top;\n",
              "    }\n",
              "\n",
              "    .dataframe thead th {\n",
              "        text-align: right;\n",
              "    }\n",
              "</style>\n",
              "<table border=\"1\" class=\"dataframe\">\n",
              "  <thead>\n",
              "    <tr style=\"text-align: right;\">\n",
              "      <th></th>\n",
              "      <th>cookie_id</th>\n",
              "      <th>cookie_id_num</th>\n",
              "    </tr>\n",
              "  </thead>\n",
              "  <tbody>\n",
              "    <tr>\n",
              "      <th>0</th>\n",
              "      <td>0000c4548c3944c08972bbdc1fa4eb85</td>\n",
              "      <td>0</td>\n",
              "    </tr>\n",
              "    <tr>\n",
              "      <th>6</th>\n",
              "      <td>0000d7508334414ca792c5ff66eb8c14</td>\n",
              "      <td>1</td>\n",
              "    </tr>\n",
              "    <tr>\n",
              "      <th>18</th>\n",
              "      <td>0000e63f423542fe8090575b611cea4d</td>\n",
              "      <td>2</td>\n",
              "    </tr>\n",
              "    <tr>\n",
              "      <th>26</th>\n",
              "      <td>00013bf3e58244b48d4dbdf43543c30c</td>\n",
              "      <td>3</td>\n",
              "    </tr>\n",
              "    <tr>\n",
              "      <th>32</th>\n",
              "      <td>00015019b0594984afc3fd9fa9557490</td>\n",
              "      <td>4</td>\n",
              "    </tr>\n",
              "  </tbody>\n",
              "</table>\n",
              "</div>\n",
              "      <button class=\"colab-df-convert\" onclick=\"convertToInteractive('df-fa64eb23-7c66-4116-ad33-c17ba751b1e9')\"\n",
              "              title=\"Convert this dataframe to an interactive table.\"\n",
              "              style=\"display:none;\">\n",
              "        \n",
              "  <svg xmlns=\"http://www.w3.org/2000/svg\" height=\"24px\"viewBox=\"0 0 24 24\"\n",
              "       width=\"24px\">\n",
              "    <path d=\"M0 0h24v24H0V0z\" fill=\"none\"/>\n",
              "    <path d=\"M18.56 5.44l.94 2.06.94-2.06 2.06-.94-2.06-.94-.94-2.06-.94 2.06-2.06.94zm-11 1L8.5 8.5l.94-2.06 2.06-.94-2.06-.94L8.5 2.5l-.94 2.06-2.06.94zm10 10l.94 2.06.94-2.06 2.06-.94-2.06-.94-.94-2.06-.94 2.06-2.06.94z\"/><path d=\"M17.41 7.96l-1.37-1.37c-.4-.4-.92-.59-1.43-.59-.52 0-1.04.2-1.43.59L10.3 9.45l-7.72 7.72c-.78.78-.78 2.05 0 2.83L4 21.41c.39.39.9.59 1.41.59.51 0 1.02-.2 1.41-.59l7.78-7.78 2.81-2.81c.8-.78.8-2.07 0-2.86zM5.41 20L4 18.59l7.72-7.72 1.47 1.35L5.41 20z\"/>\n",
              "  </svg>\n",
              "      </button>\n",
              "      \n",
              "  <style>\n",
              "    .colab-df-container {\n",
              "      display:flex;\n",
              "      flex-wrap:wrap;\n",
              "      gap: 12px;\n",
              "    }\n",
              "\n",
              "    .colab-df-convert {\n",
              "      background-color: #E8F0FE;\n",
              "      border: none;\n",
              "      border-radius: 50%;\n",
              "      cursor: pointer;\n",
              "      display: none;\n",
              "      fill: #1967D2;\n",
              "      height: 32px;\n",
              "      padding: 0 0 0 0;\n",
              "      width: 32px;\n",
              "    }\n",
              "\n",
              "    .colab-df-convert:hover {\n",
              "      background-color: #E2EBFA;\n",
              "      box-shadow: 0px 1px 2px rgba(60, 64, 67, 0.3), 0px 1px 3px 1px rgba(60, 64, 67, 0.15);\n",
              "      fill: #174EA6;\n",
              "    }\n",
              "\n",
              "    [theme=dark] .colab-df-convert {\n",
              "      background-color: #3B4455;\n",
              "      fill: #D2E3FC;\n",
              "    }\n",
              "\n",
              "    [theme=dark] .colab-df-convert:hover {\n",
              "      background-color: #434B5C;\n",
              "      box-shadow: 0px 1px 3px 1px rgba(0, 0, 0, 0.15);\n",
              "      filter: drop-shadow(0px 1px 2px rgba(0, 0, 0, 0.3));\n",
              "      fill: #FFFFFF;\n",
              "    }\n",
              "  </style>\n",
              "\n",
              "      <script>\n",
              "        const buttonEl =\n",
              "          document.querySelector('#df-fa64eb23-7c66-4116-ad33-c17ba751b1e9 button.colab-df-convert');\n",
              "        buttonEl.style.display =\n",
              "          google.colab.kernel.accessAllowed ? 'block' : 'none';\n",
              "\n",
              "        async function convertToInteractive(key) {\n",
              "          const element = document.querySelector('#df-fa64eb23-7c66-4116-ad33-c17ba751b1e9');\n",
              "          const dataTable =\n",
              "            await google.colab.kernel.invokeFunction('convertToInteractive',\n",
              "                                                     [key], {});\n",
              "          if (!dataTable) return;\n",
              "\n",
              "          const docLinkHtml = 'Like what you see? Visit the ' +\n",
              "            '<a target=\"_blank\" href=https://colab.research.google.com/notebooks/data_table.ipynb>data table notebook</a>'\n",
              "            + ' to learn more about interactive tables.';\n",
              "          element.innerHTML = '';\n",
              "          dataTable['output_type'] = 'display_data';\n",
              "          await google.colab.output.renderOutput(dataTable, element);\n",
              "          const docLink = document.createElement('div');\n",
              "          docLink.innerHTML = docLinkHtml;\n",
              "          element.appendChild(docLink);\n",
              "        }\n",
              "      </script>\n",
              "    </div>\n",
              "  </div>\n",
              "  "
            ]
          },
          "metadata": {},
          "execution_count": 44
        }
      ],
      "source": [
        "# вот у нас и справочник потом будем его мержить\n",
        "cookie_dic_df.head()"
      ]
    },
    {
      "cell_type": "code",
      "source": [
        "# проверим наш предыдущий метод и попробуем на cookie_dic_df крутить туда и сюда код в номер и обратно\n",
        "cookie_dic_df['cookie_id_back'] = cookie_dic_df['cookie_id_num'].map(cookie_dic)"
      ],
      "metadata": {
        "id": "MC8dnGIV9uqG"
      },
      "execution_count": null,
      "outputs": []
    },
    {
      "cell_type": "code",
      "source": [
        "cookie_dic_df['cookie_id_to_code'] = cookie_dic_df['cookie_id'].map(cookie_to_code)"
      ],
      "metadata": {
        "id": "QQ2iBEA0A28P"
      },
      "execution_count": null,
      "outputs": []
    },
    {
      "cell_type": "code",
      "source": [
        "# проверка пройдена\n",
        "cookie_dic_df.head()"
      ],
      "metadata": {
        "colab": {
          "base_uri": "https://localhost:8080/",
          "height": 206
        },
        "id": "13dFJWDv-HU2",
        "outputId": "1081b3c4-00a6-4da8-f0b1-422834a7d05e"
      },
      "execution_count": null,
      "outputs": [
        {
          "output_type": "execute_result",
          "data": {
            "text/plain": [
              "                           cookie_id  cookie_id_num  \\\n",
              "0   0000c4548c3944c08972bbdc1fa4eb85              0   \n",
              "6   0000d7508334414ca792c5ff66eb8c14              1   \n",
              "18  0000e63f423542fe8090575b611cea4d              2   \n",
              "26  00013bf3e58244b48d4dbdf43543c30c              3   \n",
              "32  00015019b0594984afc3fd9fa9557490              4   \n",
              "\n",
              "                      cookie_id_back cookie_id_to_code  \n",
              "0   0000c4548c3944c08972bbdc1fa4eb85                 0  \n",
              "6   0000d7508334414ca792c5ff66eb8c14                 1  \n",
              "18  0000e63f423542fe8090575b611cea4d                 2  \n",
              "26  00013bf3e58244b48d4dbdf43543c30c                 3  \n",
              "32  00015019b0594984afc3fd9fa9557490                 4  "
            ],
            "text/html": [
              "\n",
              "  <div id=\"df-b207a089-b6b1-437a-8a17-10ab0c493c15\">\n",
              "    <div class=\"colab-df-container\">\n",
              "      <div>\n",
              "<style scoped>\n",
              "    .dataframe tbody tr th:only-of-type {\n",
              "        vertical-align: middle;\n",
              "    }\n",
              "\n",
              "    .dataframe tbody tr th {\n",
              "        vertical-align: top;\n",
              "    }\n",
              "\n",
              "    .dataframe thead th {\n",
              "        text-align: right;\n",
              "    }\n",
              "</style>\n",
              "<table border=\"1\" class=\"dataframe\">\n",
              "  <thead>\n",
              "    <tr style=\"text-align: right;\">\n",
              "      <th></th>\n",
              "      <th>cookie_id</th>\n",
              "      <th>cookie_id_num</th>\n",
              "      <th>cookie_id_back</th>\n",
              "      <th>cookie_id_to_code</th>\n",
              "    </tr>\n",
              "  </thead>\n",
              "  <tbody>\n",
              "    <tr>\n",
              "      <th>0</th>\n",
              "      <td>0000c4548c3944c08972bbdc1fa4eb85</td>\n",
              "      <td>0</td>\n",
              "      <td>0000c4548c3944c08972bbdc1fa4eb85</td>\n",
              "      <td>0</td>\n",
              "    </tr>\n",
              "    <tr>\n",
              "      <th>6</th>\n",
              "      <td>0000d7508334414ca792c5ff66eb8c14</td>\n",
              "      <td>1</td>\n",
              "      <td>0000d7508334414ca792c5ff66eb8c14</td>\n",
              "      <td>1</td>\n",
              "    </tr>\n",
              "    <tr>\n",
              "      <th>18</th>\n",
              "      <td>0000e63f423542fe8090575b611cea4d</td>\n",
              "      <td>2</td>\n",
              "      <td>0000e63f423542fe8090575b611cea4d</td>\n",
              "      <td>2</td>\n",
              "    </tr>\n",
              "    <tr>\n",
              "      <th>26</th>\n",
              "      <td>00013bf3e58244b48d4dbdf43543c30c</td>\n",
              "      <td>3</td>\n",
              "      <td>00013bf3e58244b48d4dbdf43543c30c</td>\n",
              "      <td>3</td>\n",
              "    </tr>\n",
              "    <tr>\n",
              "      <th>32</th>\n",
              "      <td>00015019b0594984afc3fd9fa9557490</td>\n",
              "      <td>4</td>\n",
              "      <td>00015019b0594984afc3fd9fa9557490</td>\n",
              "      <td>4</td>\n",
              "    </tr>\n",
              "  </tbody>\n",
              "</table>\n",
              "</div>\n",
              "      <button class=\"colab-df-convert\" onclick=\"convertToInteractive('df-b207a089-b6b1-437a-8a17-10ab0c493c15')\"\n",
              "              title=\"Convert this dataframe to an interactive table.\"\n",
              "              style=\"display:none;\">\n",
              "        \n",
              "  <svg xmlns=\"http://www.w3.org/2000/svg\" height=\"24px\"viewBox=\"0 0 24 24\"\n",
              "       width=\"24px\">\n",
              "    <path d=\"M0 0h24v24H0V0z\" fill=\"none\"/>\n",
              "    <path d=\"M18.56 5.44l.94 2.06.94-2.06 2.06-.94-2.06-.94-.94-2.06-.94 2.06-2.06.94zm-11 1L8.5 8.5l.94-2.06 2.06-.94-2.06-.94L8.5 2.5l-.94 2.06-2.06.94zm10 10l.94 2.06.94-2.06 2.06-.94-2.06-.94-.94-2.06-.94 2.06-2.06.94z\"/><path d=\"M17.41 7.96l-1.37-1.37c-.4-.4-.92-.59-1.43-.59-.52 0-1.04.2-1.43.59L10.3 9.45l-7.72 7.72c-.78.78-.78 2.05 0 2.83L4 21.41c.39.39.9.59 1.41.59.51 0 1.02-.2 1.41-.59l7.78-7.78 2.81-2.81c.8-.78.8-2.07 0-2.86zM5.41 20L4 18.59l7.72-7.72 1.47 1.35L5.41 20z\"/>\n",
              "  </svg>\n",
              "      </button>\n",
              "      \n",
              "  <style>\n",
              "    .colab-df-container {\n",
              "      display:flex;\n",
              "      flex-wrap:wrap;\n",
              "      gap: 12px;\n",
              "    }\n",
              "\n",
              "    .colab-df-convert {\n",
              "      background-color: #E8F0FE;\n",
              "      border: none;\n",
              "      border-radius: 50%;\n",
              "      cursor: pointer;\n",
              "      display: none;\n",
              "      fill: #1967D2;\n",
              "      height: 32px;\n",
              "      padding: 0 0 0 0;\n",
              "      width: 32px;\n",
              "    }\n",
              "\n",
              "    .colab-df-convert:hover {\n",
              "      background-color: #E2EBFA;\n",
              "      box-shadow: 0px 1px 2px rgba(60, 64, 67, 0.3), 0px 1px 3px 1px rgba(60, 64, 67, 0.15);\n",
              "      fill: #174EA6;\n",
              "    }\n",
              "\n",
              "    [theme=dark] .colab-df-convert {\n",
              "      background-color: #3B4455;\n",
              "      fill: #D2E3FC;\n",
              "    }\n",
              "\n",
              "    [theme=dark] .colab-df-convert:hover {\n",
              "      background-color: #434B5C;\n",
              "      box-shadow: 0px 1px 3px 1px rgba(0, 0, 0, 0.15);\n",
              "      filter: drop-shadow(0px 1px 2px rgba(0, 0, 0, 0.3));\n",
              "      fill: #FFFFFF;\n",
              "    }\n",
              "  </style>\n",
              "\n",
              "      <script>\n",
              "        const buttonEl =\n",
              "          document.querySelector('#df-b207a089-b6b1-437a-8a17-10ab0c493c15 button.colab-df-convert');\n",
              "        buttonEl.style.display =\n",
              "          google.colab.kernel.accessAllowed ? 'block' : 'none';\n",
              "\n",
              "        async function convertToInteractive(key) {\n",
              "          const element = document.querySelector('#df-b207a089-b6b1-437a-8a17-10ab0c493c15');\n",
              "          const dataTable =\n",
              "            await google.colab.kernel.invokeFunction('convertToInteractive',\n",
              "                                                     [key], {});\n",
              "          if (!dataTable) return;\n",
              "\n",
              "          const docLinkHtml = 'Like what you see? Visit the ' +\n",
              "            '<a target=\"_blank\" href=https://colab.research.google.com/notebooks/data_table.ipynb>data table notebook</a>'\n",
              "            + ' to learn more about interactive tables.';\n",
              "          element.innerHTML = '';\n",
              "          dataTable['output_type'] = 'display_data';\n",
              "          await google.colab.output.renderOutput(dataTable, element);\n",
              "          const docLink = document.createElement('div');\n",
              "          docLink.innerHTML = docLinkHtml;\n",
              "          element.appendChild(docLink);\n",
              "        }\n",
              "      </script>\n",
              "    </div>\n",
              "  </div>\n",
              "  "
            ]
          },
          "metadata": {},
          "execution_count": 47
        }
      ]
    },
    {
      "cell_type": "markdown",
      "metadata": {
        "id": "Jc0UVS5ZQr3b"
      },
      "source": [
        "Создание разряженных матриц\n",
        "\n",
        "---"
      ]
    },
    {
      "cell_type": "code",
      "execution_count": null,
      "metadata": {
        "id": "ySbcLLGIrTjL"
      },
      "outputs": [],
      "source": [
        "# вот это уже проверенный код но он работает на кодированных номерах и cookie и vacancy_id - мы его отставили в сторону\n",
        "\n",
        "# item/user spare matrix\n",
        "sparse_item_user = sparse.csr_matrix((grouped_df['eventStrength'].astype(float), (grouped_df['vacancy_id_num'], grouped_df['cookie_id_num'])))\n",
        "# user/item spare matrix\n",
        "sparse_user_item = sparse.csr_matrix((grouped_df['eventStrength'].astype(float), (grouped_df['cookie_id_num'], grouped_df['vacancy_id_num'])))"
      ]
    },
    {
      "cell_type": "code",
      "source": [
        "# а вот эта ячейка экспериментальный, главный ее смысл понять что базовые данные vacancy_id_ работают, мы провели эксперимент\n",
        "# и они работают сейчас это базовые матрицы\n",
        "\n",
        "# item/user spare matrix\n",
        "sparse_item_user = sparse.csr_matrix((data['eventStrength'].astype(float), (data['vacancy_id_'], data['cookie_id_num'])))\n",
        "# user/item spare matrix\n",
        "sparse_user_item = sparse.csr_matrix((data['eventStrength'].astype(float), (data['cookie_id_num'], data['vacancy_id_'])))"
      ],
      "metadata": {
        "id": "1zL0_0gl2UtW"
      },
      "execution_count": null,
      "outputs": []
    },
    {
      "cell_type": "code",
      "source": [
        "# предыдущий код но с нормализацией\n",
        "\n",
        "# item/user spare matrix\n",
        "sparse_item_user = sparse.csr_matrix((data['eventStrength_norm'].astype(float), (data['vacancy_id_'], data['cookie_id_num'])))\n",
        "# user/item spare matrix\n",
        "sparse_user_item = sparse.csr_matrix((data['eventStrength_norm'].astype(float), (data['cookie_id_num'], data['vacancy_id_'])))"
      ],
      "metadata": {
        "id": "vuhKLTh2LXSF"
      },
      "execution_count": null,
      "outputs": []
    },
    {
      "cell_type": "code",
      "source": [
        "# проверим размерности\n",
        "sparse_item_user.shape\n",
        "# стоит обратить внимание на то что размерность вакансий 260 168 - это потому что первых 100000 вакансий нет\n",
        "# если бы мы кодировали - то размерность бы была 160 000 что то такое"
      ],
      "metadata": {
        "colab": {
          "base_uri": "https://localhost:8080/"
        },
        "id": "HKPUacSfph2b",
        "outputId": "3cdb1e23-99a8-43f9-dcd9-6188e977cc17"
      },
      "execution_count": null,
      "outputs": [
        {
          "output_type": "execute_result",
          "data": {
            "text/plain": [
              "(260168, 330180)"
            ]
          },
          "metadata": {},
          "execution_count": 49
        }
      ]
    },
    {
      "cell_type": "code",
      "source": [
        "# и тут проверим\n",
        "sparse_user_item.shape"
      ],
      "metadata": {
        "colab": {
          "base_uri": "https://localhost:8080/"
        },
        "id": "UXC0MInXpoDW",
        "outputId": "a10d9ca4-ba60-4ce0-c5ad-c9506e2bae3e"
      },
      "execution_count": null,
      "outputs": [
        {
          "output_type": "execute_result",
          "data": {
            "text/plain": [
              "(330180, 260168)"
            ]
          },
          "metadata": {},
          "execution_count": 50
        }
      ]
    },
    {
      "cell_type": "code",
      "source": [
        "# ну и посмотрим что там внутри\n",
        "print(sparse_user_item[0])"
      ],
      "metadata": {
        "colab": {
          "base_uri": "https://localhost:8080/"
        },
        "id": "PoDQvuzqqCwm",
        "outputId": "d4939e31-ab06-4ae5-e93c-d569bd445dfb"
      },
      "execution_count": null,
      "outputs": [
        {
          "output_type": "stream",
          "name": "stdout",
          "text": [
            "  (0, 137659)\t3.0\n",
            "  (0, 153975)\t3.0\n",
            "  (0, 174953)\t9.0\n",
            "  (0, 176171)\t3.0\n",
            "  (0, 182445)\t6.0\n",
            "  (0, 187529)\t3.0\n"
          ]
        }
      ]
    },
    {
      "cell_type": "code",
      "source": [
        "# и тут тоже посмотрим\n",
        "print(sparse_item_user[200001])"
      ],
      "metadata": {
        "colab": {
          "base_uri": "https://localhost:8080/"
        },
        "id": "5hLFQbyvq9z2",
        "outputId": "b40003fd-dde0-4dd7-fbaa-013914ddf4e6"
      },
      "execution_count": null,
      "outputs": [
        {
          "output_type": "stream",
          "name": "stdout",
          "text": [
            "  (0, 3607)\t3.0\n",
            "  (0, 37610)\t3.0\n",
            "  (0, 61744)\t6.0\n",
            "  (0, 68283)\t1.0\n",
            "  (0, 79418)\t3.0\n",
            "  (0, 82207)\t7.0\n",
            "  (0, 235945)\t3.0\n",
            "  (0, 293518)\t9.0\n",
            "  (0, 295951)\t7.0\n"
          ]
        }
      ]
    },
    {
      "cell_type": "markdown",
      "metadata": {
        "id": "QLLdRhbEQr3c"
      },
      "source": [
        "# Обучение моделей\n",
        "Вот это третий исследовательский этап, мы должны много! очень много экспериментировать с:\n",
        " - factors = ?,\n",
        " - regularization = ?,\n",
        " - iterations = ?\n",
        "\n",
        "---"
      ]
    },
    {
      "cell_type": "code",
      "execution_count": null,
      "metadata": {
        "id": "gCounVOSrTjM"
      },
      "outputs": [],
      "source": [
        "# Инициируем наши модели \n",
        "model_item = implicit.als.AlternatingLeastSquares(factors=50, regularization=0.1, iterations=50)"
      ]
    },
    {
      "cell_type": "code",
      "source": [
        "model_user = implicit.als.AlternatingLeastSquares(factors=50, regularization=0.1, iterations=50)"
      ],
      "metadata": {
        "id": "V8FjDsJGtgWP"
      },
      "execution_count": null,
      "outputs": []
    },
    {
      "cell_type": "markdown",
      "source": [
        "Четвертый исследовательский блок связан с параметром альфа - он закомментирован в коде ниже. В тех статьях что я успел прочитать это чуть ли не главнй парметр, непонятно почему конечно, возможно он увеличивает и акцентирует отличие силе взаимодействия?, но тогда стоит задуматься нужна ли нам вообще нормализация? (в статьях встречались значения альфа в 15 и 50, надо пробовать)"
      ],
      "metadata": {
        "id": "7bboh57qMnZY"
      }
    },
    {
      "cell_type": "markdown",
      "source": [
        "Обучаем первую модель вакансия-пользователь (но мы ее скорее всего не будем использовать)"
      ],
      "metadata": {
        "id": "vqwG2R7nE8pV"
      }
    },
    {
      "cell_type": "code",
      "execution_count": null,
      "metadata": {
        "id": "U7JaTAlZrTjN",
        "outputId": "5de299e4-ae67-41f0-b4ee-09a6048f0a40",
        "colab": {
          "base_uri": "https://localhost:8080/",
          "height": 49,
          "referenced_widgets": [
            "306c33c511b74d139924cf75e210cac6",
            "7cd8f366b47c471da60dc3a7818d48a6",
            "99198e36edf94111b6d67f0965298292",
            "b511c333635e40d0aca01378ab3c54ae",
            "57123ec1468d4844940aaa401c37fb11",
            "3b36828aea104a4b9b7d66616ed24504",
            "3bd5a18f0fe54d8ea51f0ab29213cb9d",
            "e26b69fec1024cbe953ef736155d0e43",
            "bcf1a3be3a5545d68d52039c4ca9fe98",
            "1815dd1de99e4b289799dfffed5be58d",
            "98e11f91cc6f4f9b9827f31068f6cb45"
          ]
        }
      },
      "outputs": [
        {
          "output_type": "display_data",
          "data": {
            "text/plain": [
              "  0%|          | 0/50 [00:00<?, ?it/s]"
            ],
            "application/vnd.jupyter.widget-view+json": {
              "version_major": 2,
              "version_minor": 0,
              "model_id": "306c33c511b74d139924cf75e210cac6"
            }
          },
          "metadata": {}
        }
      ],
      "source": [
        "# Вот эти параметры я подсмотрел, они не обязательные но наверное их лучше потом настраивать\n",
        "#alpha = 50\n",
        "#item_user_data = (sparse_item_user * alpha).astype('double')\n",
        "\n",
        "item_user_data = sparse_item_user\n",
        "# обучим модель на разряженной матрице  item/user/confidence weights - по русски вакансия/пользователь/веса заинтересованности\n",
        "model_item.fit(item_user_data)"
      ]
    },
    {
      "cell_type": "markdown",
      "metadata": {
        "id": "Dq01uAzWQr3c"
      },
      "source": [
        "Обучаем первую модель пользователь - вакансия (вот ее в основном и принимают наши функции которые мы будем использовать)"
      ]
    },
    {
      "cell_type": "code",
      "source": [
        "# Вот эти параметры я подсмотрел, они не обязательные но наверное их лучше потом настраивать\n",
        "#alpha = 50\n",
        "#user_item_data = (sparse_user_item * alpha).astype('double')\n",
        "\n",
        "user_item_data = sparse_user_item\n",
        "# train the model on a sparse matrix of user/item confidence weights\n",
        "model_user.fit(user_item_data)"
      ],
      "metadata": {
        "colab": {
          "base_uri": "https://localhost:8080/",
          "height": 49,
          "referenced_widgets": [
            "2b80b65602d74789b83d47efcc5cfe91",
            "3d88e16be6864fc4852d1f4148c195f6",
            "92004e499c334214828178aa2acb2039",
            "d3eb8ffa51d243658851b2cba4f67d24",
            "6763942b22f644bb88db2d87a3f3736b",
            "003e08cf5ad14a76b3be4491e22a6fbc",
            "7780fcadafdd4df6a9ef9e51f874ae14",
            "d31a3cfa55094c639705f477af29418a",
            "0c6530b061734d9e8d66221d2c942b60",
            "c9cfd49eb97047518007c237836aed39",
            "f4fd562599cb47a89d51c9b368ec99d9"
          ]
        },
        "id": "3ciYenW7uFWu",
        "outputId": "eaa173e6-4553-4f7e-c1c2-4fd1d8f227bd"
      },
      "execution_count": null,
      "outputs": [
        {
          "output_type": "display_data",
          "data": {
            "text/plain": [
              "  0%|          | 0/50 [00:00<?, ?it/s]"
            ],
            "application/vnd.jupyter.widget-view+json": {
              "version_major": 2,
              "version_minor": 0,
              "model_id": "2b80b65602d74789b83d47efcc5cfe91"
            }
          },
          "metadata": {}
        }
      ]
    },
    {
      "cell_type": "markdown",
      "source": [
        "# Пробуем извечь пользу. То есть переходим к предсказаниям\n",
        "\n",
        "---\n",
        "(ниже собраны базовые функции библиотеки implicit)"
      ],
      "metadata": {
        "id": "UP2XKq3UwIW-"
      }
    },
    {
      "cell_type": "markdown",
      "source": [
        "## Создаем рекомендации для человека\n",
        "\n",
        "---"
      ],
      "metadata": {
        "id": "ozpEdIt-_wPn"
      }
    },
    {
      "cell_type": "markdown",
      "source": [
        "Функция : recommend( )\n",
        "\n",
        "Рекомендует элементы для пользователя\n",
        "Вычисляет N лучших рекомендаций для пользователя и возвращает список идентификаторов элементов, оценка.\n",
        "\n",
        "Параметры:\n",
        "\n",
        "- userid ( int ) — идентификатор пользователя для расчета рекомендаций для\n",
        "- user_items ( csr_matrix ) — разреженная матрица формы (number_users, number_items). Это позволяет нам искать понравившиеся предметы и их веса для пользователя. Это используется для фильтрации элементов, которые уже понравились, из выходных данных, а также для потенциального вычисления лучших элементов для этого пользователя.\n",
        "- N ( int , необязательный ) — количество возвращаемых результатов\n",
        "- filter_already_liked_items ( bool , необязательный ) — если установлено значение true, не возвращать элементы, присутствующие в обучающем наборе, которые были оценены указанным пользователем.\n",
        "- filter_items ( последовательность целых чисел , необязательный ) — список дополнительных идентификаторов элементов, которые нужно отфильтровать из вывода.\n",
        "- recalculate_user ( bool , необязательный ) — когда true, не полагайтесь на сохраненное состояние пользователя и вместо этого пересчитывайте из переданных в user_items\n",
        "\n",
        "Возвращает:\t\n",
        "Список кортежей (itemid, score)\n",
        "\n",
        "Тип возврата:\t\n",
        "список"
      ],
      "metadata": {
        "id": "S6ArZU5QC1_u"
      }
    },
    {
      "cell_type": "markdown",
      "source": [
        "Получим список рекомендаций для одного пользователя\n",
        "\n",
        "---"
      ],
      "metadata": {
        "id": "AJp6bBguFbuO"
      }
    },
    {
      "cell_type": "code",
      "source": [
        "# модель тренируется на sparse matrix of user/item/confidence weights - выполнено\n",
        "# model.fit(user_item_data) - выполнено\n",
        "\n",
        "# порекомендуем вакансии для одного пользователя из тех что он еще не видел\n",
        "userid = 0\n",
        "recommendations = model_user.recommend(userid, user_item_data[userid], N = 5 , filter_already_liked_items = True)\n",
        "print(recommendations) # уже отсортировано"
      ],
      "metadata": {
        "colab": {
          "base_uri": "https://localhost:8080/"
        },
        "id": "MonpM170wHHQ",
        "outputId": "a363e1ce-c4a5-4e6c-eac6-78780a06114b"
      },
      "execution_count": null,
      "outputs": [
        {
          "output_type": "stream",
          "name": "stdout",
          "text": [
            "(array([116823, 182870, 169194, 180382, 207423], dtype=int32), array([0.46656507, 0.41793132, 0.37318325, 0.3208992 , 0.30675507],\n",
            "      dtype=float32))\n"
          ]
        }
      ]
    },
    {
      "cell_type": "code",
      "source": [
        "# или так мы можем сразу превращать их в список\n",
        "userid = 0\n",
        "ids, scores = model_user.recommend(userid, user_item_data[userid], N=5, filter_already_liked_items=True)\n",
        "print(list(ids))\n",
        "print(scores)"
      ],
      "metadata": {
        "colab": {
          "base_uri": "https://localhost:8080/"
        },
        "id": "gC2LP9piF0j-",
        "outputId": "a9d933c9-1b2f-4d30-840e-b76594ddc50f"
      },
      "execution_count": null,
      "outputs": [
        {
          "output_type": "stream",
          "name": "stdout",
          "text": [
            "[116823, 182870, 169194, 180382, 207423]\n",
            "[0.46656507 0.41793132 0.37318325 0.3208992  0.30675507]\n"
          ]
        }
      ]
    },
    {
      "cell_type": "code",
      "source": [
        "# порекомендуем вакансии для одного пользователя из тех что он уже взаимодействовал\n",
        "userid = 0\n",
        "recommendations = model_user.recommend(userid, user_item_data[userid], N = 5, filter_already_liked_items = False)\n",
        "print(recommendations) # уже отсортировано"
      ],
      "metadata": {
        "colab": {
          "base_uri": "https://localhost:8080/"
        },
        "id": "_QA8XzLFD4Qe",
        "outputId": "42d0da4b-5978-4509-f5f9-10d1d2124492"
      },
      "execution_count": null,
      "outputs": [
        {
          "output_type": "stream",
          "name": "stdout",
          "text": [
            "(array([174953, 116823, 182870, 169194, 180382], dtype=int32), array([0.6994151 , 0.46656507, 0.41793132, 0.37318325, 0.3208992 ],\n",
            "      dtype=float32))\n"
          ]
        }
      ]
    },
    {
      "cell_type": "markdown",
      "source": [
        "Получим списко рекомендаций для списка пользователей\n",
        "\n",
        "---"
      ],
      "metadata": {
        "id": "7aLeLGL-Fkv0"
      }
    },
    {
      "cell_type": "code",
      "source": [
        "# Такой код позволяет получать рекомендации для списка пользователей сразу!!!\n",
        "userids = np.arange(1000) # вот тут у нас список пользователей\n",
        "ids, scores = model_user.recommend(userids, user_item_data[userids], N=5, filter_already_liked_items=True)\n",
        "ids, ids.shape"
      ],
      "metadata": {
        "colab": {
          "base_uri": "https://localhost:8080/"
        },
        "id": "a6gnjm0-_4Hu",
        "outputId": "f7dca463-ce34-40f3-a3ba-9bc06379b2d6"
      },
      "execution_count": null,
      "outputs": [
        {
          "output_type": "execute_result",
          "data": {
            "text/plain": [
              "(array([[116823, 182870, 169194, 180382, 207423],\n",
              "        [217683, 260154, 163708, 115589, 210229],\n",
              "        [110792, 148714, 258441, 113707, 244077],\n",
              "        ...,\n",
              "        [230322, 230326, 127887, 133932, 182879],\n",
              "        [253946, 253817, 208761, 122122, 104528],\n",
              "        [164602, 260154, 110421, 116823, 164481]], dtype=int32),\n",
              " (1000, 5))"
            ]
          },
          "metadata": {},
          "execution_count": 48
        }
      ]
    },
    {
      "cell_type": "code",
      "source": [
        "userids = np.arange(1000) # вот тут у нас список пользователей\n",
        "group_recommendations = model_user.recommend(userids, user_item_data[userids], N=5, filter_already_liked_items=True)\n"
      ],
      "metadata": {
        "id": "2pLSG-qZJYmP"
      },
      "execution_count": null,
      "outputs": []
    },
    {
      "cell_type": "code",
      "source": [
        "# Вот тут нужно написать код который записывает данные в датафрейм\n",
        "result = pd.DataFrame({'пользователи' : userids, 'рекомендации' : list(ids)})"
      ],
      "metadata": {
        "id": "1VRU0zfjKf2d"
      },
      "execution_count": null,
      "outputs": []
    },
    {
      "cell_type": "code",
      "source": [
        "result.head()"
      ],
      "metadata": {
        "colab": {
          "base_uri": "https://localhost:8080/",
          "height": 206
        },
        "id": "YxntZfYA6UCW",
        "outputId": "84b66a4c-461a-4d02-be73-473ba4faef4a"
      },
      "execution_count": null,
      "outputs": [
        {
          "output_type": "execute_result",
          "data": {
            "text/plain": [
              "   пользователи                              рекомендации\n",
              "0             0  [116823, 182870, 169194, 180382, 207423]\n",
              "1             1  [217683, 260154, 163708, 115589, 210229]\n",
              "2             2  [110792, 148714, 258441, 113707, 244077]\n",
              "3             3  [242145, 153469, 126489, 197991, 207356]\n",
              "4             4  [113707, 153245, 148714, 149024, 116823]"
            ],
            "text/html": [
              "\n",
              "  <div id=\"df-23fefe7d-5141-4d27-8579-c5339e05c6c5\">\n",
              "    <div class=\"colab-df-container\">\n",
              "      <div>\n",
              "<style scoped>\n",
              "    .dataframe tbody tr th:only-of-type {\n",
              "        vertical-align: middle;\n",
              "    }\n",
              "\n",
              "    .dataframe tbody tr th {\n",
              "        vertical-align: top;\n",
              "    }\n",
              "\n",
              "    .dataframe thead th {\n",
              "        text-align: right;\n",
              "    }\n",
              "</style>\n",
              "<table border=\"1\" class=\"dataframe\">\n",
              "  <thead>\n",
              "    <tr style=\"text-align: right;\">\n",
              "      <th></th>\n",
              "      <th>пользователи</th>\n",
              "      <th>рекомендации</th>\n",
              "    </tr>\n",
              "  </thead>\n",
              "  <tbody>\n",
              "    <tr>\n",
              "      <th>0</th>\n",
              "      <td>0</td>\n",
              "      <td>[116823, 182870, 169194, 180382, 207423]</td>\n",
              "    </tr>\n",
              "    <tr>\n",
              "      <th>1</th>\n",
              "      <td>1</td>\n",
              "      <td>[217683, 260154, 163708, 115589, 210229]</td>\n",
              "    </tr>\n",
              "    <tr>\n",
              "      <th>2</th>\n",
              "      <td>2</td>\n",
              "      <td>[110792, 148714, 258441, 113707, 244077]</td>\n",
              "    </tr>\n",
              "    <tr>\n",
              "      <th>3</th>\n",
              "      <td>3</td>\n",
              "      <td>[242145, 153469, 126489, 197991, 207356]</td>\n",
              "    </tr>\n",
              "    <tr>\n",
              "      <th>4</th>\n",
              "      <td>4</td>\n",
              "      <td>[113707, 153245, 148714, 149024, 116823]</td>\n",
              "    </tr>\n",
              "  </tbody>\n",
              "</table>\n",
              "</div>\n",
              "      <button class=\"colab-df-convert\" onclick=\"convertToInteractive('df-23fefe7d-5141-4d27-8579-c5339e05c6c5')\"\n",
              "              title=\"Convert this dataframe to an interactive table.\"\n",
              "              style=\"display:none;\">\n",
              "        \n",
              "  <svg xmlns=\"http://www.w3.org/2000/svg\" height=\"24px\"viewBox=\"0 0 24 24\"\n",
              "       width=\"24px\">\n",
              "    <path d=\"M0 0h24v24H0V0z\" fill=\"none\"/>\n",
              "    <path d=\"M18.56 5.44l.94 2.06.94-2.06 2.06-.94-2.06-.94-.94-2.06-.94 2.06-2.06.94zm-11 1L8.5 8.5l.94-2.06 2.06-.94-2.06-.94L8.5 2.5l-.94 2.06-2.06.94zm10 10l.94 2.06.94-2.06 2.06-.94-2.06-.94-.94-2.06-.94 2.06-2.06.94z\"/><path d=\"M17.41 7.96l-1.37-1.37c-.4-.4-.92-.59-1.43-.59-.52 0-1.04.2-1.43.59L10.3 9.45l-7.72 7.72c-.78.78-.78 2.05 0 2.83L4 21.41c.39.39.9.59 1.41.59.51 0 1.02-.2 1.41-.59l7.78-7.78 2.81-2.81c.8-.78.8-2.07 0-2.86zM5.41 20L4 18.59l7.72-7.72 1.47 1.35L5.41 20z\"/>\n",
              "  </svg>\n",
              "      </button>\n",
              "      \n",
              "  <style>\n",
              "    .colab-df-container {\n",
              "      display:flex;\n",
              "      flex-wrap:wrap;\n",
              "      gap: 12px;\n",
              "    }\n",
              "\n",
              "    .colab-df-convert {\n",
              "      background-color: #E8F0FE;\n",
              "      border: none;\n",
              "      border-radius: 50%;\n",
              "      cursor: pointer;\n",
              "      display: none;\n",
              "      fill: #1967D2;\n",
              "      height: 32px;\n",
              "      padding: 0 0 0 0;\n",
              "      width: 32px;\n",
              "    }\n",
              "\n",
              "    .colab-df-convert:hover {\n",
              "      background-color: #E2EBFA;\n",
              "      box-shadow: 0px 1px 2px rgba(60, 64, 67, 0.3), 0px 1px 3px 1px rgba(60, 64, 67, 0.15);\n",
              "      fill: #174EA6;\n",
              "    }\n",
              "\n",
              "    [theme=dark] .colab-df-convert {\n",
              "      background-color: #3B4455;\n",
              "      fill: #D2E3FC;\n",
              "    }\n",
              "\n",
              "    [theme=dark] .colab-df-convert:hover {\n",
              "      background-color: #434B5C;\n",
              "      box-shadow: 0px 1px 3px 1px rgba(0, 0, 0, 0.15);\n",
              "      filter: drop-shadow(0px 1px 2px rgba(0, 0, 0, 0.3));\n",
              "      fill: #FFFFFF;\n",
              "    }\n",
              "  </style>\n",
              "\n",
              "      <script>\n",
              "        const buttonEl =\n",
              "          document.querySelector('#df-23fefe7d-5141-4d27-8579-c5339e05c6c5 button.colab-df-convert');\n",
              "        buttonEl.style.display =\n",
              "          google.colab.kernel.accessAllowed ? 'block' : 'none';\n",
              "\n",
              "        async function convertToInteractive(key) {\n",
              "          const element = document.querySelector('#df-23fefe7d-5141-4d27-8579-c5339e05c6c5');\n",
              "          const dataTable =\n",
              "            await google.colab.kernel.invokeFunction('convertToInteractive',\n",
              "                                                     [key], {});\n",
              "          if (!dataTable) return;\n",
              "\n",
              "          const docLinkHtml = 'Like what you see? Visit the ' +\n",
              "            '<a target=\"_blank\" href=https://colab.research.google.com/notebooks/data_table.ipynb>data table notebook</a>'\n",
              "            + ' to learn more about interactive tables.';\n",
              "          element.innerHTML = '';\n",
              "          dataTable['output_type'] = 'display_data';\n",
              "          await google.colab.output.renderOutput(dataTable, element);\n",
              "          const docLink = document.createElement('div');\n",
              "          docLink.innerHTML = docLinkHtml;\n",
              "          element.appendChild(docLink);\n",
              "        }\n",
              "      </script>\n",
              "    </div>\n",
              "  </div>\n",
              "  "
            ]
          },
          "metadata": {},
          "execution_count": 55
        }
      ]
    },
    {
      "cell_type": "markdown",
      "metadata": {
        "id": "Ds44fqAsQr3d"
      },
      "source": [
        "## Найдем похожие вакансии на вакансию №\n",
        "\n",
        "---"
      ]
    },
    {
      "cell_type": "markdown",
      "metadata": {
        "id": "CpTXvm_FQr3d"
      },
      "source": [
        "Функция: similar_items()\n",
        "\n",
        "Вычисляет список похожих элементов\n",
        "\n",
        "Параметры:\t\n",
        "- itemid (int) – идентификатор строки элемента, для которого извлекаются похожие элементы\n",
        "- N (int, необязательно) – количество похожих элементов для возврата.\n",
        "- react_users (csr_matrix, необязательно) – разреженная матрица формы (number_items, number_users). Это позволяет нам просмотреть откликнувшихся пользователей и их веса для элемента.\n",
        "- recallculate_item (bool, необязательно) – При значении true не полагайтесь на сохраненное состояние элемента и вместо этого пересчитывайте из переданного в react_users\n",
        "\n",
        "ВОЗВРАТ:\t\n",
        "Список кортежей (itemid, оценка)\n",
        "\n",
        "Возвращаемый тип:\t\n",
        "Список"
      ]
    },
    {
      "cell_type": "code",
      "source": [
        "# Найти похожую вакансию на вакансию №\n",
        "itemid = 100005\n",
        "related = model_user.similar_items(itemid)\n",
        "print(list(related[0])) # стоит обратить внимание на то, что первой выходит сама эта вакансия\n",
        "print(list(related[0][1:]))"
      ],
      "metadata": {
        "colab": {
          "base_uri": "https://localhost:8080/"
        },
        "id": "CTsZKeWzBNKy",
        "outputId": "69fae1d7-3aee-4ead-cdf4-f146d375fc72"
      },
      "execution_count": null,
      "outputs": [
        {
          "output_type": "stream",
          "name": "stdout",
          "text": [
            "[100005, 188746, 221652, 189497, 180201, 201215, 181059, 223080, 143875, 189711]\n",
            "[188746, 221652, 189497, 180201, 201215, 181059, 223080, 143875, 189711]\n"
          ]
        }
      ]
    },
    {
      "cell_type": "markdown",
      "metadata": {
        "id": "k1G3QkSzQr3e"
      },
      "source": [
        "## Найдем похожего пользователя"
      ]
    },
    {
      "cell_type": "markdown",
      "metadata": {
        "id": "y2XFIKJjQr3e"
      },
      "source": [
        "Функция: similar_users( )\n",
        "\n",
        "Вычисляет список похожих пользователей\n",
        "\n",
        "Параметры:\n",
        "\n",
        "- userid ( int ) — идентификатор строки пользователя для получения похожих пользователей для\n",
        "- N ( int , необязательный ) — количество похожих пользователей, которых необходимо вернуть.\n",
        "\n",
        "Возвращает:\t\n",
        "Список кортежей (userid, score)\n",
        "\n",
        "Тип возврата:\t\n",
        "список"
      ]
    },
    {
      "cell_type": "code",
      "source": [
        "userid = 100005\n",
        "related_users = model_user.similar_users(userid)\n",
        "print(list(related_users[0])) # стоит обратить внимание на то, что первой выходит этот самый пользователь\n",
        "print(list(related_users[0][1:]))"
      ],
      "metadata": {
        "id": "wTfe0GidIdaS",
        "colab": {
          "base_uri": "https://localhost:8080/"
        },
        "outputId": "45a9a137-14a4-4d46-a33c-60a75e16481e"
      },
      "execution_count": null,
      "outputs": [
        {
          "output_type": "stream",
          "name": "stdout",
          "text": [
            "[100005, 113260, 192092, 143338, 307425, 281362, 81256, 58263, 131196, 66705]\n",
            "[113260, 192092, 143338, 307425, 281362, 81256, 58263, 131196, 66705]\n"
          ]
        }
      ]
    },
    {
      "cell_type": "markdown",
      "source": [
        "## Ранжируем элементы для пользователя\n",
        "\n",
        "---"
      ],
      "metadata": {
        "id": "VgugnPabBjn1"
      }
    },
    {
      "cell_type": "markdown",
      "source": [
        "Функция: rank_items()\n",
        "\n",
        "Ранжирует заданные элементы для пользователя и возвращает отсортированный список элементов.\n",
        "\n",
        "Параметры:\n",
        "\n",
        "- userid (int) – идентификатор пользователя для вычисления рекомендаций\n",
        "- user_items (csr_matrix) – разреженная матрица формы (number_users, number_items). Это позволяет нам (необязательно) пересчитывать пользовательские факторы (см. параметр reconculate_user) по мере необходимости\n",
        "- selected_items (List of itemids) – (список идентификаторов элементов)\n",
        "- recalculate_user (bool, необязательно) – При значении true не полагайтесь на сохраненное состояние пользователя и вместо этого пересчитывайте из переданных в user_items\n",
        "\n",
        "\n",
        "\n",
        "Возвращаемый тип:\t\n",
        "Список"
      ],
      "metadata": {
        "id": "TjNdKsrlBiKd"
      }
    },
    {
      "cell_type": "code",
      "source": [
        "userid = 100005\n",
        "rank_elements = model_user.rank_items(userid, user_item_data, selected_items = [100001, 100002, 100003, 100004])\n",
        "print(rank_elements) \n"
      ],
      "metadata": {
        "id": "MizoCM5oIdNe",
        "colab": {
          "base_uri": "https://localhost:8080/"
        },
        "outputId": "b8db753f-994a-460e-e55b-091e14c5e6ed"
      },
      "execution_count": null,
      "outputs": [
        {
          "output_type": "stream",
          "name": "stdout",
          "text": [
            "(array([100002, 100001, 100004, 100003]), array([4.0011927e-03, 4.6750274e-04, 3.4725224e-05, 1.9556945e-05],\n",
            "      dtype=float32))\n"
          ]
        },
        {
          "output_type": "stream",
          "name": "stderr",
          "text": [
            "<ipython-input-82-0aa5fe56e486>:2: DeprecationWarning: rank_items is deprecated. Use recommend with the 'items' parameter instead\n",
            "  rank_elements = model_user.rank_items(userid, user_item_data, selected_items = [100001, 100002, 100003, 100004])\n"
          ]
        }
      ]
    },
    {
      "cell_type": "markdown",
      "source": [
        "# Переходим к испытаниям на нашей ситуации\n",
        "\n",
        "---"
      ],
      "metadata": {
        "id": "cvy50ldHIbE3"
      }
    },
    {
      "cell_type": "markdown",
      "source": [
        "Загружаем данные"
      ],
      "metadata": {
        "id": "qoiaUX5WI9P2"
      }
    },
    {
      "cell_type": "code",
      "source": [
        "# Вот это данные от партнера, стоит отметить что там есть строки с 2 вакансиями и более 5\n",
        "test = pd.read_parquet('test_public_mfti.parquet', engine='pyarrow')"
      ],
      "metadata": {
        "id": "EIoXD13QIik6"
      },
      "execution_count": null,
      "outputs": []
    },
    {
      "cell_type": "code",
      "source": [
        "test.head()"
      ],
      "metadata": {
        "colab": {
          "base_uri": "https://localhost:8080/",
          "height": 206
        },
        "id": "E858s3brKOym",
        "outputId": "df002759-d9cc-4916-8c3f-ce4bfbdc1033"
      },
      "execution_count": null,
      "outputs": [
        {
          "output_type": "execute_result",
          "data": {
            "text/plain": [
              "                          cookie_id  \\\n",
              "0  000cd76cd33f43d4a1ac1d16d10f8bf7   \n",
              "1  0034bc7f404341ba8412665453e7825a   \n",
              "2  00a6c5a64a274c55a836402bdeb3b2c4   \n",
              "3  015937a125b14e74bdff1cddc49f9172   \n",
              "4  01de50c280794cec8804f16f45f847b7   \n",
              "\n",
              "                                         vacancy_id_  \n",
              "0  [222177, 222173, 222163, 238874, 238878, 22812...  \n",
              "1  [102794, 137587, 257319, 237756, 240744, 11348...  \n",
              "2  [254292, 164602, 116438, 228634, 218819, 24065...  \n",
              "3   [246685, 138123, 115420, 210628, 212325, 235196]  \n",
              "4           [219070, 251469, 166899, 212703, 214561]  "
            ],
            "text/html": [
              "\n",
              "  <div id=\"df-41790a47-db8c-4dbf-b066-2169c16f6b2d\">\n",
              "    <div class=\"colab-df-container\">\n",
              "      <div>\n",
              "<style scoped>\n",
              "    .dataframe tbody tr th:only-of-type {\n",
              "        vertical-align: middle;\n",
              "    }\n",
              "\n",
              "    .dataframe tbody tr th {\n",
              "        vertical-align: top;\n",
              "    }\n",
              "\n",
              "    .dataframe thead th {\n",
              "        text-align: right;\n",
              "    }\n",
              "</style>\n",
              "<table border=\"1\" class=\"dataframe\">\n",
              "  <thead>\n",
              "    <tr style=\"text-align: right;\">\n",
              "      <th></th>\n",
              "      <th>cookie_id</th>\n",
              "      <th>vacancy_id_</th>\n",
              "    </tr>\n",
              "  </thead>\n",
              "  <tbody>\n",
              "    <tr>\n",
              "      <th>0</th>\n",
              "      <td>000cd76cd33f43d4a1ac1d16d10f8bf7</td>\n",
              "      <td>[222177, 222173, 222163, 238874, 238878, 22812...</td>\n",
              "    </tr>\n",
              "    <tr>\n",
              "      <th>1</th>\n",
              "      <td>0034bc7f404341ba8412665453e7825a</td>\n",
              "      <td>[102794, 137587, 257319, 237756, 240744, 11348...</td>\n",
              "    </tr>\n",
              "    <tr>\n",
              "      <th>2</th>\n",
              "      <td>00a6c5a64a274c55a836402bdeb3b2c4</td>\n",
              "      <td>[254292, 164602, 116438, 228634, 218819, 24065...</td>\n",
              "    </tr>\n",
              "    <tr>\n",
              "      <th>3</th>\n",
              "      <td>015937a125b14e74bdff1cddc49f9172</td>\n",
              "      <td>[246685, 138123, 115420, 210628, 212325, 235196]</td>\n",
              "    </tr>\n",
              "    <tr>\n",
              "      <th>4</th>\n",
              "      <td>01de50c280794cec8804f16f45f847b7</td>\n",
              "      <td>[219070, 251469, 166899, 212703, 214561]</td>\n",
              "    </tr>\n",
              "  </tbody>\n",
              "</table>\n",
              "</div>\n",
              "      <button class=\"colab-df-convert\" onclick=\"convertToInteractive('df-41790a47-db8c-4dbf-b066-2169c16f6b2d')\"\n",
              "              title=\"Convert this dataframe to an interactive table.\"\n",
              "              style=\"display:none;\">\n",
              "        \n",
              "  <svg xmlns=\"http://www.w3.org/2000/svg\" height=\"24px\"viewBox=\"0 0 24 24\"\n",
              "       width=\"24px\">\n",
              "    <path d=\"M0 0h24v24H0V0z\" fill=\"none\"/>\n",
              "    <path d=\"M18.56 5.44l.94 2.06.94-2.06 2.06-.94-2.06-.94-.94-2.06-.94 2.06-2.06.94zm-11 1L8.5 8.5l.94-2.06 2.06-.94-2.06-.94L8.5 2.5l-.94 2.06-2.06.94zm10 10l.94 2.06.94-2.06 2.06-.94-2.06-.94-.94-2.06-.94 2.06-2.06.94z\"/><path d=\"M17.41 7.96l-1.37-1.37c-.4-.4-.92-.59-1.43-.59-.52 0-1.04.2-1.43.59L10.3 9.45l-7.72 7.72c-.78.78-.78 2.05 0 2.83L4 21.41c.39.39.9.59 1.41.59.51 0 1.02-.2 1.41-.59l7.78-7.78 2.81-2.81c.8-.78.8-2.07 0-2.86zM5.41 20L4 18.59l7.72-7.72 1.47 1.35L5.41 20z\"/>\n",
              "  </svg>\n",
              "      </button>\n",
              "      \n",
              "  <style>\n",
              "    .colab-df-container {\n",
              "      display:flex;\n",
              "      flex-wrap:wrap;\n",
              "      gap: 12px;\n",
              "    }\n",
              "\n",
              "    .colab-df-convert {\n",
              "      background-color: #E8F0FE;\n",
              "      border: none;\n",
              "      border-radius: 50%;\n",
              "      cursor: pointer;\n",
              "      display: none;\n",
              "      fill: #1967D2;\n",
              "      height: 32px;\n",
              "      padding: 0 0 0 0;\n",
              "      width: 32px;\n",
              "    }\n",
              "\n",
              "    .colab-df-convert:hover {\n",
              "      background-color: #E2EBFA;\n",
              "      box-shadow: 0px 1px 2px rgba(60, 64, 67, 0.3), 0px 1px 3px 1px rgba(60, 64, 67, 0.15);\n",
              "      fill: #174EA6;\n",
              "    }\n",
              "\n",
              "    [theme=dark] .colab-df-convert {\n",
              "      background-color: #3B4455;\n",
              "      fill: #D2E3FC;\n",
              "    }\n",
              "\n",
              "    [theme=dark] .colab-df-convert:hover {\n",
              "      background-color: #434B5C;\n",
              "      box-shadow: 0px 1px 3px 1px rgba(0, 0, 0, 0.15);\n",
              "      filter: drop-shadow(0px 1px 2px rgba(0, 0, 0, 0.3));\n",
              "      fill: #FFFFFF;\n",
              "    }\n",
              "  </style>\n",
              "\n",
              "      <script>\n",
              "        const buttonEl =\n",
              "          document.querySelector('#df-41790a47-db8c-4dbf-b066-2169c16f6b2d button.colab-df-convert');\n",
              "        buttonEl.style.display =\n",
              "          google.colab.kernel.accessAllowed ? 'block' : 'none';\n",
              "\n",
              "        async function convertToInteractive(key) {\n",
              "          const element = document.querySelector('#df-41790a47-db8c-4dbf-b066-2169c16f6b2d');\n",
              "          const dataTable =\n",
              "            await google.colab.kernel.invokeFunction('convertToInteractive',\n",
              "                                                     [key], {});\n",
              "          if (!dataTable) return;\n",
              "\n",
              "          const docLinkHtml = 'Like what you see? Visit the ' +\n",
              "            '<a target=\"_blank\" href=https://colab.research.google.com/notebooks/data_table.ipynb>data table notebook</a>'\n",
              "            + ' to learn more about interactive tables.';\n",
              "          element.innerHTML = '';\n",
              "          dataTable['output_type'] = 'display_data';\n",
              "          await google.colab.output.renderOutput(dataTable, element);\n",
              "          const docLink = document.createElement('div');\n",
              "          docLink.innerHTML = docLinkHtml;\n",
              "          element.appendChild(docLink);\n",
              "        }\n",
              "      </script>\n",
              "    </div>\n",
              "  </div>\n",
              "  "
            ]
          },
          "metadata": {},
          "execution_count": 84
        }
      ]
    },
    {
      "cell_type": "code",
      "source": [
        "# получаем для них столбец с номерными вариантами cookie как мы это закодировали ранее\n",
        "test['cookie_id_num'] = test['cookie_id'].map(cookie_to_code)"
      ],
      "metadata": {
        "id": "wMksKmWdIiiF"
      },
      "execution_count": null,
      "outputs": []
    },
    {
      "cell_type": "code",
      "source": [
        "test.head()"
      ],
      "metadata": {
        "colab": {
          "base_uri": "https://localhost:8080/",
          "height": 206
        },
        "id": "nxwGjExbIifV",
        "outputId": "4221f4b1-0822-4d68-c620-f9d897f28df9"
      },
      "execution_count": null,
      "outputs": [
        {
          "output_type": "execute_result",
          "data": {
            "text/plain": [
              "                          cookie_id  \\\n",
              "0  000cd76cd33f43d4a1ac1d16d10f8bf7   \n",
              "1  0034bc7f404341ba8412665453e7825a   \n",
              "2  00a6c5a64a274c55a836402bdeb3b2c4   \n",
              "3  015937a125b14e74bdff1cddc49f9172   \n",
              "4  01de50c280794cec8804f16f45f847b7   \n",
              "\n",
              "                                         vacancy_id_  cookie_id_num  \n",
              "0  [222177, 222173, 222163, 238874, 238878, 22812...             54  \n",
              "1  [102794, 137587, 257319, 237756, 240744, 11348...            266  \n",
              "2  [254292, 164602, 116438, 228634, 218819, 24065...            810  \n",
              "3   [246685, 138123, 115420, 210628, 212325, 235196]           1727  \n",
              "4           [219070, 251469, 166899, 212703, 214561]           2395  "
            ],
            "text/html": [
              "\n",
              "  <div id=\"df-dcc826a8-8e03-44ab-8079-6f1b21cbeb04\">\n",
              "    <div class=\"colab-df-container\">\n",
              "      <div>\n",
              "<style scoped>\n",
              "    .dataframe tbody tr th:only-of-type {\n",
              "        vertical-align: middle;\n",
              "    }\n",
              "\n",
              "    .dataframe tbody tr th {\n",
              "        vertical-align: top;\n",
              "    }\n",
              "\n",
              "    .dataframe thead th {\n",
              "        text-align: right;\n",
              "    }\n",
              "</style>\n",
              "<table border=\"1\" class=\"dataframe\">\n",
              "  <thead>\n",
              "    <tr style=\"text-align: right;\">\n",
              "      <th></th>\n",
              "      <th>cookie_id</th>\n",
              "      <th>vacancy_id_</th>\n",
              "      <th>cookie_id_num</th>\n",
              "    </tr>\n",
              "  </thead>\n",
              "  <tbody>\n",
              "    <tr>\n",
              "      <th>0</th>\n",
              "      <td>000cd76cd33f43d4a1ac1d16d10f8bf7</td>\n",
              "      <td>[222177, 222173, 222163, 238874, 238878, 22812...</td>\n",
              "      <td>54</td>\n",
              "    </tr>\n",
              "    <tr>\n",
              "      <th>1</th>\n",
              "      <td>0034bc7f404341ba8412665453e7825a</td>\n",
              "      <td>[102794, 137587, 257319, 237756, 240744, 11348...</td>\n",
              "      <td>266</td>\n",
              "    </tr>\n",
              "    <tr>\n",
              "      <th>2</th>\n",
              "      <td>00a6c5a64a274c55a836402bdeb3b2c4</td>\n",
              "      <td>[254292, 164602, 116438, 228634, 218819, 24065...</td>\n",
              "      <td>810</td>\n",
              "    </tr>\n",
              "    <tr>\n",
              "      <th>3</th>\n",
              "      <td>015937a125b14e74bdff1cddc49f9172</td>\n",
              "      <td>[246685, 138123, 115420, 210628, 212325, 235196]</td>\n",
              "      <td>1727</td>\n",
              "    </tr>\n",
              "    <tr>\n",
              "      <th>4</th>\n",
              "      <td>01de50c280794cec8804f16f45f847b7</td>\n",
              "      <td>[219070, 251469, 166899, 212703, 214561]</td>\n",
              "      <td>2395</td>\n",
              "    </tr>\n",
              "  </tbody>\n",
              "</table>\n",
              "</div>\n",
              "      <button class=\"colab-df-convert\" onclick=\"convertToInteractive('df-dcc826a8-8e03-44ab-8079-6f1b21cbeb04')\"\n",
              "              title=\"Convert this dataframe to an interactive table.\"\n",
              "              style=\"display:none;\">\n",
              "        \n",
              "  <svg xmlns=\"http://www.w3.org/2000/svg\" height=\"24px\"viewBox=\"0 0 24 24\"\n",
              "       width=\"24px\">\n",
              "    <path d=\"M0 0h24v24H0V0z\" fill=\"none\"/>\n",
              "    <path d=\"M18.56 5.44l.94 2.06.94-2.06 2.06-.94-2.06-.94-.94-2.06-.94 2.06-2.06.94zm-11 1L8.5 8.5l.94-2.06 2.06-.94-2.06-.94L8.5 2.5l-.94 2.06-2.06.94zm10 10l.94 2.06.94-2.06 2.06-.94-2.06-.94-.94-2.06-.94 2.06-2.06.94z\"/><path d=\"M17.41 7.96l-1.37-1.37c-.4-.4-.92-.59-1.43-.59-.52 0-1.04.2-1.43.59L10.3 9.45l-7.72 7.72c-.78.78-.78 2.05 0 2.83L4 21.41c.39.39.9.59 1.41.59.51 0 1.02-.2 1.41-.59l7.78-7.78 2.81-2.81c.8-.78.8-2.07 0-2.86zM5.41 20L4 18.59l7.72-7.72 1.47 1.35L5.41 20z\"/>\n",
              "  </svg>\n",
              "      </button>\n",
              "      \n",
              "  <style>\n",
              "    .colab-df-container {\n",
              "      display:flex;\n",
              "      flex-wrap:wrap;\n",
              "      gap: 12px;\n",
              "    }\n",
              "\n",
              "    .colab-df-convert {\n",
              "      background-color: #E8F0FE;\n",
              "      border: none;\n",
              "      border-radius: 50%;\n",
              "      cursor: pointer;\n",
              "      display: none;\n",
              "      fill: #1967D2;\n",
              "      height: 32px;\n",
              "      padding: 0 0 0 0;\n",
              "      width: 32px;\n",
              "    }\n",
              "\n",
              "    .colab-df-convert:hover {\n",
              "      background-color: #E2EBFA;\n",
              "      box-shadow: 0px 1px 2px rgba(60, 64, 67, 0.3), 0px 1px 3px 1px rgba(60, 64, 67, 0.15);\n",
              "      fill: #174EA6;\n",
              "    }\n",
              "\n",
              "    [theme=dark] .colab-df-convert {\n",
              "      background-color: #3B4455;\n",
              "      fill: #D2E3FC;\n",
              "    }\n",
              "\n",
              "    [theme=dark] .colab-df-convert:hover {\n",
              "      background-color: #434B5C;\n",
              "      box-shadow: 0px 1px 3px 1px rgba(0, 0, 0, 0.15);\n",
              "      filter: drop-shadow(0px 1px 2px rgba(0, 0, 0, 0.3));\n",
              "      fill: #FFFFFF;\n",
              "    }\n",
              "  </style>\n",
              "\n",
              "      <script>\n",
              "        const buttonEl =\n",
              "          document.querySelector('#df-dcc826a8-8e03-44ab-8079-6f1b21cbeb04 button.colab-df-convert');\n",
              "        buttonEl.style.display =\n",
              "          google.colab.kernel.accessAllowed ? 'block' : 'none';\n",
              "\n",
              "        async function convertToInteractive(key) {\n",
              "          const element = document.querySelector('#df-dcc826a8-8e03-44ab-8079-6f1b21cbeb04');\n",
              "          const dataTable =\n",
              "            await google.colab.kernel.invokeFunction('convertToInteractive',\n",
              "                                                     [key], {});\n",
              "          if (!dataTable) return;\n",
              "\n",
              "          const docLinkHtml = 'Like what you see? Visit the ' +\n",
              "            '<a target=\"_blank\" href=https://colab.research.google.com/notebooks/data_table.ipynb>data table notebook</a>'\n",
              "            + ' to learn more about interactive tables.';\n",
              "          element.innerHTML = '';\n",
              "          dataTable['output_type'] = 'display_data';\n",
              "          await google.colab.output.renderOutput(dataTable, element);\n",
              "          const docLink = document.createElement('div');\n",
              "          docLink.innerHTML = docLinkHtml;\n",
              "          element.appendChild(docLink);\n",
              "        }\n",
              "      </script>\n",
              "    </div>\n",
              "  </div>\n",
              "  "
            ]
          },
          "metadata": {},
          "execution_count": 86
        }
      ]
    },
    {
      "cell_type": "code",
      "source": [
        "# проверим перевод в коды на правильность\n",
        "print(cookie_to_code['000cd76cd33f43d4a1ac1d16d10f8bf7'])\n",
        "print(cookie_to_code['0034bc7f404341ba8412665453e7825a'])\n",
        "print(cookie_to_code['00a6c5a64a274c55a836402bdeb3b2c4'])"
      ],
      "metadata": {
        "colab": {
          "base_uri": "https://localhost:8080/"
        },
        "id": "IFsX0PvXKuD-",
        "outputId": "e3ca352c-f4aa-40fe-f1a0-e13d4bd3e0e7"
      },
      "execution_count": null,
      "outputs": [
        {
          "output_type": "stream",
          "name": "stdout",
          "text": [
            "54\n",
            "266\n",
            "810\n"
          ]
        }
      ]
    },
    {
      "cell_type": "code",
      "source": [
        "# получаем из датафрейма список пользователей, которых мы загрузим в модель\n",
        "test_list = list(test['cookie_id_num'])\n",
        "test_list_str = list(test['cookie_id'])\n",
        "print(test_list[:5])\n",
        "print(test_list_str[:5])"
      ],
      "metadata": {
        "colab": {
          "base_uri": "https://localhost:8080/"
        },
        "id": "sKItjYCmKuA-",
        "outputId": "ce533490-9e75-4e89-fa5d-0ec19a92423b"
      },
      "execution_count": null,
      "outputs": [
        {
          "output_type": "stream",
          "name": "stdout",
          "text": [
            "[54, 266, 810, 1727, 2395]\n",
            "['000cd76cd33f43d4a1ac1d16d10f8bf7', '0034bc7f404341ba8412665453e7825a', '00a6c5a64a274c55a836402bdeb3b2c4', '015937a125b14e74bdff1cddc49f9172', '01de50c280794cec8804f16f45f847b7']\n"
          ]
        }
      ]
    },
    {
      "cell_type": "code",
      "source": [
        "# Ячейка поличения предсказаний, загружаем в модель полученный список кодов пользоватлей \n",
        "userids = test_list\n",
        "ids, scores = model_user.recommend(userids, user_item_data[userids], N=5, filter_already_liked_items=True)"
      ],
      "metadata": {
        "id": "LDMAaVmWLQeW"
      },
      "execution_count": null,
      "outputs": []
    },
    {
      "cell_type": "code",
      "source": [
        "# а вот тут мы делаем хитро в первую колонку записываем строковые имена пользователей, а в список рекомендаций полученные предсказания\n",
        "test_prediction = pd.DataFrame({'cookie_id' : test_list_str, 'top_recommendations' : list(ids)})"
      ],
      "metadata": {
        "id": "zYB9e33yLk3H"
      },
      "execution_count": null,
      "outputs": []
    },
    {
      "cell_type": "code",
      "source": [
        "# посмотрим что получилось (выглядит красиво как и требуется)\n",
        "test_prediction.head()"
      ],
      "metadata": {
        "colab": {
          "base_uri": "https://localhost:8080/",
          "height": 206
        },
        "id": "r8kvDbkzMntu",
        "outputId": "43ebe431-8052-4430-e948-f67fa675e0f0"
      },
      "execution_count": null,
      "outputs": [
        {
          "output_type": "execute_result",
          "data": {
            "text/plain": [
              "                          cookie_id                       top_recommendations\n",
              "0  000cd76cd33f43d4a1ac1d16d10f8bf7  [146630, 260154, 215620, 164698, 182870]\n",
              "1  0034bc7f404341ba8412665453e7825a  [253678, 171332, 138634, 190928, 246285]\n",
              "2  00a6c5a64a274c55a836402bdeb3b2c4  [227708, 113305, 242642, 109079, 148714]\n",
              "3  015937a125b14e74bdff1cddc49f9172  [114583, 193331, 164588, 192565, 205606]\n",
              "4  01de50c280794cec8804f16f45f847b7  [203404, 128278, 173337, 138634, 137702]"
            ],
            "text/html": [
              "\n",
              "  <div id=\"df-f3b931f6-fc1e-4f60-96be-cf45eb16dea7\">\n",
              "    <div class=\"colab-df-container\">\n",
              "      <div>\n",
              "<style scoped>\n",
              "    .dataframe tbody tr th:only-of-type {\n",
              "        vertical-align: middle;\n",
              "    }\n",
              "\n",
              "    .dataframe tbody tr th {\n",
              "        vertical-align: top;\n",
              "    }\n",
              "\n",
              "    .dataframe thead th {\n",
              "        text-align: right;\n",
              "    }\n",
              "</style>\n",
              "<table border=\"1\" class=\"dataframe\">\n",
              "  <thead>\n",
              "    <tr style=\"text-align: right;\">\n",
              "      <th></th>\n",
              "      <th>cookie_id</th>\n",
              "      <th>top_recommendations</th>\n",
              "    </tr>\n",
              "  </thead>\n",
              "  <tbody>\n",
              "    <tr>\n",
              "      <th>0</th>\n",
              "      <td>000cd76cd33f43d4a1ac1d16d10f8bf7</td>\n",
              "      <td>[146630, 260154, 215620, 164698, 182870]</td>\n",
              "    </tr>\n",
              "    <tr>\n",
              "      <th>1</th>\n",
              "      <td>0034bc7f404341ba8412665453e7825a</td>\n",
              "      <td>[253678, 171332, 138634, 190928, 246285]</td>\n",
              "    </tr>\n",
              "    <tr>\n",
              "      <th>2</th>\n",
              "      <td>00a6c5a64a274c55a836402bdeb3b2c4</td>\n",
              "      <td>[227708, 113305, 242642, 109079, 148714]</td>\n",
              "    </tr>\n",
              "    <tr>\n",
              "      <th>3</th>\n",
              "      <td>015937a125b14e74bdff1cddc49f9172</td>\n",
              "      <td>[114583, 193331, 164588, 192565, 205606]</td>\n",
              "    </tr>\n",
              "    <tr>\n",
              "      <th>4</th>\n",
              "      <td>01de50c280794cec8804f16f45f847b7</td>\n",
              "      <td>[203404, 128278, 173337, 138634, 137702]</td>\n",
              "    </tr>\n",
              "  </tbody>\n",
              "</table>\n",
              "</div>\n",
              "      <button class=\"colab-df-convert\" onclick=\"convertToInteractive('df-f3b931f6-fc1e-4f60-96be-cf45eb16dea7')\"\n",
              "              title=\"Convert this dataframe to an interactive table.\"\n",
              "              style=\"display:none;\">\n",
              "        \n",
              "  <svg xmlns=\"http://www.w3.org/2000/svg\" height=\"24px\"viewBox=\"0 0 24 24\"\n",
              "       width=\"24px\">\n",
              "    <path d=\"M0 0h24v24H0V0z\" fill=\"none\"/>\n",
              "    <path d=\"M18.56 5.44l.94 2.06.94-2.06 2.06-.94-2.06-.94-.94-2.06-.94 2.06-2.06.94zm-11 1L8.5 8.5l.94-2.06 2.06-.94-2.06-.94L8.5 2.5l-.94 2.06-2.06.94zm10 10l.94 2.06.94-2.06 2.06-.94-2.06-.94-.94-2.06-.94 2.06-2.06.94z\"/><path d=\"M17.41 7.96l-1.37-1.37c-.4-.4-.92-.59-1.43-.59-.52 0-1.04.2-1.43.59L10.3 9.45l-7.72 7.72c-.78.78-.78 2.05 0 2.83L4 21.41c.39.39.9.59 1.41.59.51 0 1.02-.2 1.41-.59l7.78-7.78 2.81-2.81c.8-.78.8-2.07 0-2.86zM5.41 20L4 18.59l7.72-7.72 1.47 1.35L5.41 20z\"/>\n",
              "  </svg>\n",
              "      </button>\n",
              "      \n",
              "  <style>\n",
              "    .colab-df-container {\n",
              "      display:flex;\n",
              "      flex-wrap:wrap;\n",
              "      gap: 12px;\n",
              "    }\n",
              "\n",
              "    .colab-df-convert {\n",
              "      background-color: #E8F0FE;\n",
              "      border: none;\n",
              "      border-radius: 50%;\n",
              "      cursor: pointer;\n",
              "      display: none;\n",
              "      fill: #1967D2;\n",
              "      height: 32px;\n",
              "      padding: 0 0 0 0;\n",
              "      width: 32px;\n",
              "    }\n",
              "\n",
              "    .colab-df-convert:hover {\n",
              "      background-color: #E2EBFA;\n",
              "      box-shadow: 0px 1px 2px rgba(60, 64, 67, 0.3), 0px 1px 3px 1px rgba(60, 64, 67, 0.15);\n",
              "      fill: #174EA6;\n",
              "    }\n",
              "\n",
              "    [theme=dark] .colab-df-convert {\n",
              "      background-color: #3B4455;\n",
              "      fill: #D2E3FC;\n",
              "    }\n",
              "\n",
              "    [theme=dark] .colab-df-convert:hover {\n",
              "      background-color: #434B5C;\n",
              "      box-shadow: 0px 1px 3px 1px rgba(0, 0, 0, 0.15);\n",
              "      filter: drop-shadow(0px 1px 2px rgba(0, 0, 0, 0.3));\n",
              "      fill: #FFFFFF;\n",
              "    }\n",
              "  </style>\n",
              "\n",
              "      <script>\n",
              "        const buttonEl =\n",
              "          document.querySelector('#df-f3b931f6-fc1e-4f60-96be-cf45eb16dea7 button.colab-df-convert');\n",
              "        buttonEl.style.display =\n",
              "          google.colab.kernel.accessAllowed ? 'block' : 'none';\n",
              "\n",
              "        async function convertToInteractive(key) {\n",
              "          const element = document.querySelector('#df-f3b931f6-fc1e-4f60-96be-cf45eb16dea7');\n",
              "          const dataTable =\n",
              "            await google.colab.kernel.invokeFunction('convertToInteractive',\n",
              "                                                     [key], {});\n",
              "          if (!dataTable) return;\n",
              "\n",
              "          const docLinkHtml = 'Like what you see? Visit the ' +\n",
              "            '<a target=\"_blank\" href=https://colab.research.google.com/notebooks/data_table.ipynb>data table notebook</a>'\n",
              "            + ' to learn more about interactive tables.';\n",
              "          element.innerHTML = '';\n",
              "          dataTable['output_type'] = 'display_data';\n",
              "          await google.colab.output.renderOutput(dataTable, element);\n",
              "          const docLink = document.createElement('div');\n",
              "          docLink.innerHTML = docLinkHtml;\n",
              "          element.appendChild(docLink);\n",
              "        }\n",
              "      </script>\n",
              "    </div>\n",
              "  </div>\n",
              "  "
            ]
          },
          "metadata": {},
          "execution_count": 93
        }
      ]
    },
    {
      "cell_type": "code",
      "source": [
        "# вот эта наша функция получения метрики\n",
        "def precision_n(predictions, df_test_list_top, k=5):\n",
        "  #recommendations num:\n",
        "    n_rec_k = len(df_test_list_top)*k\n",
        "  #true reccomendations:\n",
        "    matches=0\n",
        "    for row in range(len(predictions)):\n",
        "      row_match = set(predictions['top_recommendations'][row]).intersection(set(df_test_list_top['vacancy_id_'][row]))  \n",
        "      matches += len(row_match)\n",
        "  #Results:\n",
        "    precisions = matches / n_rec_k if n_rec_k != 0 else 0\n",
        "    return precisions"
      ],
      "metadata": {
        "id": "BRBu1HjUIicm"
      },
      "execution_count": null,
      "outputs": []
    },
    {
      "cell_type": "code",
      "source": [
        "# Ну и собственно вот результат\n",
        "precision_n(test_prediction, test)"
      ],
      "metadata": {
        "colab": {
          "base_uri": "https://localhost:8080/"
        },
        "id": "JVZiqJF2IiZ4",
        "outputId": "e3afad0b-146f-4799-fa66-c833cf4eff4a"
      },
      "execution_count": null,
      "outputs": [
        {
          "output_type": "execute_result",
          "data": {
            "text/plain": [
              "0.04196891191709844"
            ]
          },
          "metadata": {},
          "execution_count": 100
        }
      ]
    }
  ],
  "metadata": {
    "colab": {
      "provenance": []
    },
    "kernelspec": {
      "display_name": "Python 3",
      "language": "python",
      "name": "python3"
    },
    "language_info": {
      "codemirror_mode": {
        "name": "ipython",
        "version": 3
      },
      "file_extension": ".py",
      "mimetype": "text/x-python",
      "name": "python",
      "nbconvert_exporter": "python",
      "pygments_lexer": "ipython3",
      "version": "3.10.7"
    },
    "widgets": {
      "application/vnd.jupyter.widget-state+json": {
        "306c33c511b74d139924cf75e210cac6": {
          "model_module": "@jupyter-widgets/controls",
          "model_name": "HBoxModel",
          "model_module_version": "1.5.0",
          "state": {
            "_dom_classes": [],
            "_model_module": "@jupyter-widgets/controls",
            "_model_module_version": "1.5.0",
            "_model_name": "HBoxModel",
            "_view_count": null,
            "_view_module": "@jupyter-widgets/controls",
            "_view_module_version": "1.5.0",
            "_view_name": "HBoxView",
            "box_style": "",
            "children": [
              "IPY_MODEL_7cd8f366b47c471da60dc3a7818d48a6",
              "IPY_MODEL_99198e36edf94111b6d67f0965298292",
              "IPY_MODEL_b511c333635e40d0aca01378ab3c54ae"
            ],
            "layout": "IPY_MODEL_57123ec1468d4844940aaa401c37fb11"
          }
        },
        "7cd8f366b47c471da60dc3a7818d48a6": {
          "model_module": "@jupyter-widgets/controls",
          "model_name": "HTMLModel",
          "model_module_version": "1.5.0",
          "state": {
            "_dom_classes": [],
            "_model_module": "@jupyter-widgets/controls",
            "_model_module_version": "1.5.0",
            "_model_name": "HTMLModel",
            "_view_count": null,
            "_view_module": "@jupyter-widgets/controls",
            "_view_module_version": "1.5.0",
            "_view_name": "HTMLView",
            "description": "",
            "description_tooltip": null,
            "layout": "IPY_MODEL_3b36828aea104a4b9b7d66616ed24504",
            "placeholder": "​",
            "style": "IPY_MODEL_3bd5a18f0fe54d8ea51f0ab29213cb9d",
            "value": "100%"
          }
        },
        "99198e36edf94111b6d67f0965298292": {
          "model_module": "@jupyter-widgets/controls",
          "model_name": "FloatProgressModel",
          "model_module_version": "1.5.0",
          "state": {
            "_dom_classes": [],
            "_model_module": "@jupyter-widgets/controls",
            "_model_module_version": "1.5.0",
            "_model_name": "FloatProgressModel",
            "_view_count": null,
            "_view_module": "@jupyter-widgets/controls",
            "_view_module_version": "1.5.0",
            "_view_name": "ProgressView",
            "bar_style": "success",
            "description": "",
            "description_tooltip": null,
            "layout": "IPY_MODEL_e26b69fec1024cbe953ef736155d0e43",
            "max": 50,
            "min": 0,
            "orientation": "horizontal",
            "style": "IPY_MODEL_bcf1a3be3a5545d68d52039c4ca9fe98",
            "value": 50
          }
        },
        "b511c333635e40d0aca01378ab3c54ae": {
          "model_module": "@jupyter-widgets/controls",
          "model_name": "HTMLModel",
          "model_module_version": "1.5.0",
          "state": {
            "_dom_classes": [],
            "_model_module": "@jupyter-widgets/controls",
            "_model_module_version": "1.5.0",
            "_model_name": "HTMLModel",
            "_view_count": null,
            "_view_module": "@jupyter-widgets/controls",
            "_view_module_version": "1.5.0",
            "_view_name": "HTMLView",
            "description": "",
            "description_tooltip": null,
            "layout": "IPY_MODEL_1815dd1de99e4b289799dfffed5be58d",
            "placeholder": "​",
            "style": "IPY_MODEL_98e11f91cc6f4f9b9827f31068f6cb45",
            "value": " 50/50 [00:09&lt;00:00,  7.70it/s]"
          }
        },
        "57123ec1468d4844940aaa401c37fb11": {
          "model_module": "@jupyter-widgets/base",
          "model_name": "LayoutModel",
          "model_module_version": "1.2.0",
          "state": {
            "_model_module": "@jupyter-widgets/base",
            "_model_module_version": "1.2.0",
            "_model_name": "LayoutModel",
            "_view_count": null,
            "_view_module": "@jupyter-widgets/base",
            "_view_module_version": "1.2.0",
            "_view_name": "LayoutView",
            "align_content": null,
            "align_items": null,
            "align_self": null,
            "border": null,
            "bottom": null,
            "display": null,
            "flex": null,
            "flex_flow": null,
            "grid_area": null,
            "grid_auto_columns": null,
            "grid_auto_flow": null,
            "grid_auto_rows": null,
            "grid_column": null,
            "grid_gap": null,
            "grid_row": null,
            "grid_template_areas": null,
            "grid_template_columns": null,
            "grid_template_rows": null,
            "height": null,
            "justify_content": null,
            "justify_items": null,
            "left": null,
            "margin": null,
            "max_height": null,
            "max_width": null,
            "min_height": null,
            "min_width": null,
            "object_fit": null,
            "object_position": null,
            "order": null,
            "overflow": null,
            "overflow_x": null,
            "overflow_y": null,
            "padding": null,
            "right": null,
            "top": null,
            "visibility": null,
            "width": null
          }
        },
        "3b36828aea104a4b9b7d66616ed24504": {
          "model_module": "@jupyter-widgets/base",
          "model_name": "LayoutModel",
          "model_module_version": "1.2.0",
          "state": {
            "_model_module": "@jupyter-widgets/base",
            "_model_module_version": "1.2.0",
            "_model_name": "LayoutModel",
            "_view_count": null,
            "_view_module": "@jupyter-widgets/base",
            "_view_module_version": "1.2.0",
            "_view_name": "LayoutView",
            "align_content": null,
            "align_items": null,
            "align_self": null,
            "border": null,
            "bottom": null,
            "display": null,
            "flex": null,
            "flex_flow": null,
            "grid_area": null,
            "grid_auto_columns": null,
            "grid_auto_flow": null,
            "grid_auto_rows": null,
            "grid_column": null,
            "grid_gap": null,
            "grid_row": null,
            "grid_template_areas": null,
            "grid_template_columns": null,
            "grid_template_rows": null,
            "height": null,
            "justify_content": null,
            "justify_items": null,
            "left": null,
            "margin": null,
            "max_height": null,
            "max_width": null,
            "min_height": null,
            "min_width": null,
            "object_fit": null,
            "object_position": null,
            "order": null,
            "overflow": null,
            "overflow_x": null,
            "overflow_y": null,
            "padding": null,
            "right": null,
            "top": null,
            "visibility": null,
            "width": null
          }
        },
        "3bd5a18f0fe54d8ea51f0ab29213cb9d": {
          "model_module": "@jupyter-widgets/controls",
          "model_name": "DescriptionStyleModel",
          "model_module_version": "1.5.0",
          "state": {
            "_model_module": "@jupyter-widgets/controls",
            "_model_module_version": "1.5.0",
            "_model_name": "DescriptionStyleModel",
            "_view_count": null,
            "_view_module": "@jupyter-widgets/base",
            "_view_module_version": "1.2.0",
            "_view_name": "StyleView",
            "description_width": ""
          }
        },
        "e26b69fec1024cbe953ef736155d0e43": {
          "model_module": "@jupyter-widgets/base",
          "model_name": "LayoutModel",
          "model_module_version": "1.2.0",
          "state": {
            "_model_module": "@jupyter-widgets/base",
            "_model_module_version": "1.2.0",
            "_model_name": "LayoutModel",
            "_view_count": null,
            "_view_module": "@jupyter-widgets/base",
            "_view_module_version": "1.2.0",
            "_view_name": "LayoutView",
            "align_content": null,
            "align_items": null,
            "align_self": null,
            "border": null,
            "bottom": null,
            "display": null,
            "flex": null,
            "flex_flow": null,
            "grid_area": null,
            "grid_auto_columns": null,
            "grid_auto_flow": null,
            "grid_auto_rows": null,
            "grid_column": null,
            "grid_gap": null,
            "grid_row": null,
            "grid_template_areas": null,
            "grid_template_columns": null,
            "grid_template_rows": null,
            "height": null,
            "justify_content": null,
            "justify_items": null,
            "left": null,
            "margin": null,
            "max_height": null,
            "max_width": null,
            "min_height": null,
            "min_width": null,
            "object_fit": null,
            "object_position": null,
            "order": null,
            "overflow": null,
            "overflow_x": null,
            "overflow_y": null,
            "padding": null,
            "right": null,
            "top": null,
            "visibility": null,
            "width": null
          }
        },
        "bcf1a3be3a5545d68d52039c4ca9fe98": {
          "model_module": "@jupyter-widgets/controls",
          "model_name": "ProgressStyleModel",
          "model_module_version": "1.5.0",
          "state": {
            "_model_module": "@jupyter-widgets/controls",
            "_model_module_version": "1.5.0",
            "_model_name": "ProgressStyleModel",
            "_view_count": null,
            "_view_module": "@jupyter-widgets/base",
            "_view_module_version": "1.2.0",
            "_view_name": "StyleView",
            "bar_color": null,
            "description_width": ""
          }
        },
        "1815dd1de99e4b289799dfffed5be58d": {
          "model_module": "@jupyter-widgets/base",
          "model_name": "LayoutModel",
          "model_module_version": "1.2.0",
          "state": {
            "_model_module": "@jupyter-widgets/base",
            "_model_module_version": "1.2.0",
            "_model_name": "LayoutModel",
            "_view_count": null,
            "_view_module": "@jupyter-widgets/base",
            "_view_module_version": "1.2.0",
            "_view_name": "LayoutView",
            "align_content": null,
            "align_items": null,
            "align_self": null,
            "border": null,
            "bottom": null,
            "display": null,
            "flex": null,
            "flex_flow": null,
            "grid_area": null,
            "grid_auto_columns": null,
            "grid_auto_flow": null,
            "grid_auto_rows": null,
            "grid_column": null,
            "grid_gap": null,
            "grid_row": null,
            "grid_template_areas": null,
            "grid_template_columns": null,
            "grid_template_rows": null,
            "height": null,
            "justify_content": null,
            "justify_items": null,
            "left": null,
            "margin": null,
            "max_height": null,
            "max_width": null,
            "min_height": null,
            "min_width": null,
            "object_fit": null,
            "object_position": null,
            "order": null,
            "overflow": null,
            "overflow_x": null,
            "overflow_y": null,
            "padding": null,
            "right": null,
            "top": null,
            "visibility": null,
            "width": null
          }
        },
        "98e11f91cc6f4f9b9827f31068f6cb45": {
          "model_module": "@jupyter-widgets/controls",
          "model_name": "DescriptionStyleModel",
          "model_module_version": "1.5.0",
          "state": {
            "_model_module": "@jupyter-widgets/controls",
            "_model_module_version": "1.5.0",
            "_model_name": "DescriptionStyleModel",
            "_view_count": null,
            "_view_module": "@jupyter-widgets/base",
            "_view_module_version": "1.2.0",
            "_view_name": "StyleView",
            "description_width": ""
          }
        },
        "2b80b65602d74789b83d47efcc5cfe91": {
          "model_module": "@jupyter-widgets/controls",
          "model_name": "HBoxModel",
          "model_module_version": "1.5.0",
          "state": {
            "_dom_classes": [],
            "_model_module": "@jupyter-widgets/controls",
            "_model_module_version": "1.5.0",
            "_model_name": "HBoxModel",
            "_view_count": null,
            "_view_module": "@jupyter-widgets/controls",
            "_view_module_version": "1.5.0",
            "_view_name": "HBoxView",
            "box_style": "",
            "children": [
              "IPY_MODEL_3d88e16be6864fc4852d1f4148c195f6",
              "IPY_MODEL_92004e499c334214828178aa2acb2039",
              "IPY_MODEL_d3eb8ffa51d243658851b2cba4f67d24"
            ],
            "layout": "IPY_MODEL_6763942b22f644bb88db2d87a3f3736b"
          }
        },
        "3d88e16be6864fc4852d1f4148c195f6": {
          "model_module": "@jupyter-widgets/controls",
          "model_name": "HTMLModel",
          "model_module_version": "1.5.0",
          "state": {
            "_dom_classes": [],
            "_model_module": "@jupyter-widgets/controls",
            "_model_module_version": "1.5.0",
            "_model_name": "HTMLModel",
            "_view_count": null,
            "_view_module": "@jupyter-widgets/controls",
            "_view_module_version": "1.5.0",
            "_view_name": "HTMLView",
            "description": "",
            "description_tooltip": null,
            "layout": "IPY_MODEL_003e08cf5ad14a76b3be4491e22a6fbc",
            "placeholder": "​",
            "style": "IPY_MODEL_7780fcadafdd4df6a9ef9e51f874ae14",
            "value": "100%"
          }
        },
        "92004e499c334214828178aa2acb2039": {
          "model_module": "@jupyter-widgets/controls",
          "model_name": "FloatProgressModel",
          "model_module_version": "1.5.0",
          "state": {
            "_dom_classes": [],
            "_model_module": "@jupyter-widgets/controls",
            "_model_module_version": "1.5.0",
            "_model_name": "FloatProgressModel",
            "_view_count": null,
            "_view_module": "@jupyter-widgets/controls",
            "_view_module_version": "1.5.0",
            "_view_name": "ProgressView",
            "bar_style": "success",
            "description": "",
            "description_tooltip": null,
            "layout": "IPY_MODEL_d31a3cfa55094c639705f477af29418a",
            "max": 50,
            "min": 0,
            "orientation": "horizontal",
            "style": "IPY_MODEL_0c6530b061734d9e8d66221d2c942b60",
            "value": 50
          }
        },
        "d3eb8ffa51d243658851b2cba4f67d24": {
          "model_module": "@jupyter-widgets/controls",
          "model_name": "HTMLModel",
          "model_module_version": "1.5.0",
          "state": {
            "_dom_classes": [],
            "_model_module": "@jupyter-widgets/controls",
            "_model_module_version": "1.5.0",
            "_model_name": "HTMLModel",
            "_view_count": null,
            "_view_module": "@jupyter-widgets/controls",
            "_view_module_version": "1.5.0",
            "_view_name": "HTMLView",
            "description": "",
            "description_tooltip": null,
            "layout": "IPY_MODEL_c9cfd49eb97047518007c237836aed39",
            "placeholder": "​",
            "style": "IPY_MODEL_f4fd562599cb47a89d51c9b368ec99d9",
            "value": " 50/50 [00:06&lt;00:00,  7.52it/s]"
          }
        },
        "6763942b22f644bb88db2d87a3f3736b": {
          "model_module": "@jupyter-widgets/base",
          "model_name": "LayoutModel",
          "model_module_version": "1.2.0",
          "state": {
            "_model_module": "@jupyter-widgets/base",
            "_model_module_version": "1.2.0",
            "_model_name": "LayoutModel",
            "_view_count": null,
            "_view_module": "@jupyter-widgets/base",
            "_view_module_version": "1.2.0",
            "_view_name": "LayoutView",
            "align_content": null,
            "align_items": null,
            "align_self": null,
            "border": null,
            "bottom": null,
            "display": null,
            "flex": null,
            "flex_flow": null,
            "grid_area": null,
            "grid_auto_columns": null,
            "grid_auto_flow": null,
            "grid_auto_rows": null,
            "grid_column": null,
            "grid_gap": null,
            "grid_row": null,
            "grid_template_areas": null,
            "grid_template_columns": null,
            "grid_template_rows": null,
            "height": null,
            "justify_content": null,
            "justify_items": null,
            "left": null,
            "margin": null,
            "max_height": null,
            "max_width": null,
            "min_height": null,
            "min_width": null,
            "object_fit": null,
            "object_position": null,
            "order": null,
            "overflow": null,
            "overflow_x": null,
            "overflow_y": null,
            "padding": null,
            "right": null,
            "top": null,
            "visibility": null,
            "width": null
          }
        },
        "003e08cf5ad14a76b3be4491e22a6fbc": {
          "model_module": "@jupyter-widgets/base",
          "model_name": "LayoutModel",
          "model_module_version": "1.2.0",
          "state": {
            "_model_module": "@jupyter-widgets/base",
            "_model_module_version": "1.2.0",
            "_model_name": "LayoutModel",
            "_view_count": null,
            "_view_module": "@jupyter-widgets/base",
            "_view_module_version": "1.2.0",
            "_view_name": "LayoutView",
            "align_content": null,
            "align_items": null,
            "align_self": null,
            "border": null,
            "bottom": null,
            "display": null,
            "flex": null,
            "flex_flow": null,
            "grid_area": null,
            "grid_auto_columns": null,
            "grid_auto_flow": null,
            "grid_auto_rows": null,
            "grid_column": null,
            "grid_gap": null,
            "grid_row": null,
            "grid_template_areas": null,
            "grid_template_columns": null,
            "grid_template_rows": null,
            "height": null,
            "justify_content": null,
            "justify_items": null,
            "left": null,
            "margin": null,
            "max_height": null,
            "max_width": null,
            "min_height": null,
            "min_width": null,
            "object_fit": null,
            "object_position": null,
            "order": null,
            "overflow": null,
            "overflow_x": null,
            "overflow_y": null,
            "padding": null,
            "right": null,
            "top": null,
            "visibility": null,
            "width": null
          }
        },
        "7780fcadafdd4df6a9ef9e51f874ae14": {
          "model_module": "@jupyter-widgets/controls",
          "model_name": "DescriptionStyleModel",
          "model_module_version": "1.5.0",
          "state": {
            "_model_module": "@jupyter-widgets/controls",
            "_model_module_version": "1.5.0",
            "_model_name": "DescriptionStyleModel",
            "_view_count": null,
            "_view_module": "@jupyter-widgets/base",
            "_view_module_version": "1.2.0",
            "_view_name": "StyleView",
            "description_width": ""
          }
        },
        "d31a3cfa55094c639705f477af29418a": {
          "model_module": "@jupyter-widgets/base",
          "model_name": "LayoutModel",
          "model_module_version": "1.2.0",
          "state": {
            "_model_module": "@jupyter-widgets/base",
            "_model_module_version": "1.2.0",
            "_model_name": "LayoutModel",
            "_view_count": null,
            "_view_module": "@jupyter-widgets/base",
            "_view_module_version": "1.2.0",
            "_view_name": "LayoutView",
            "align_content": null,
            "align_items": null,
            "align_self": null,
            "border": null,
            "bottom": null,
            "display": null,
            "flex": null,
            "flex_flow": null,
            "grid_area": null,
            "grid_auto_columns": null,
            "grid_auto_flow": null,
            "grid_auto_rows": null,
            "grid_column": null,
            "grid_gap": null,
            "grid_row": null,
            "grid_template_areas": null,
            "grid_template_columns": null,
            "grid_template_rows": null,
            "height": null,
            "justify_content": null,
            "justify_items": null,
            "left": null,
            "margin": null,
            "max_height": null,
            "max_width": null,
            "min_height": null,
            "min_width": null,
            "object_fit": null,
            "object_position": null,
            "order": null,
            "overflow": null,
            "overflow_x": null,
            "overflow_y": null,
            "padding": null,
            "right": null,
            "top": null,
            "visibility": null,
            "width": null
          }
        },
        "0c6530b061734d9e8d66221d2c942b60": {
          "model_module": "@jupyter-widgets/controls",
          "model_name": "ProgressStyleModel",
          "model_module_version": "1.5.0",
          "state": {
            "_model_module": "@jupyter-widgets/controls",
            "_model_module_version": "1.5.0",
            "_model_name": "ProgressStyleModel",
            "_view_count": null,
            "_view_module": "@jupyter-widgets/base",
            "_view_module_version": "1.2.0",
            "_view_name": "StyleView",
            "bar_color": null,
            "description_width": ""
          }
        },
        "c9cfd49eb97047518007c237836aed39": {
          "model_module": "@jupyter-widgets/base",
          "model_name": "LayoutModel",
          "model_module_version": "1.2.0",
          "state": {
            "_model_module": "@jupyter-widgets/base",
            "_model_module_version": "1.2.0",
            "_model_name": "LayoutModel",
            "_view_count": null,
            "_view_module": "@jupyter-widgets/base",
            "_view_module_version": "1.2.0",
            "_view_name": "LayoutView",
            "align_content": null,
            "align_items": null,
            "align_self": null,
            "border": null,
            "bottom": null,
            "display": null,
            "flex": null,
            "flex_flow": null,
            "grid_area": null,
            "grid_auto_columns": null,
            "grid_auto_flow": null,
            "grid_auto_rows": null,
            "grid_column": null,
            "grid_gap": null,
            "grid_row": null,
            "grid_template_areas": null,
            "grid_template_columns": null,
            "grid_template_rows": null,
            "height": null,
            "justify_content": null,
            "justify_items": null,
            "left": null,
            "margin": null,
            "max_height": null,
            "max_width": null,
            "min_height": null,
            "min_width": null,
            "object_fit": null,
            "object_position": null,
            "order": null,
            "overflow": null,
            "overflow_x": null,
            "overflow_y": null,
            "padding": null,
            "right": null,
            "top": null,
            "visibility": null,
            "width": null
          }
        },
        "f4fd562599cb47a89d51c9b368ec99d9": {
          "model_module": "@jupyter-widgets/controls",
          "model_name": "DescriptionStyleModel",
          "model_module_version": "1.5.0",
          "state": {
            "_model_module": "@jupyter-widgets/controls",
            "_model_module_version": "1.5.0",
            "_model_name": "DescriptionStyleModel",
            "_view_count": null,
            "_view_module": "@jupyter-widgets/base",
            "_view_module_version": "1.2.0",
            "_view_name": "StyleView",
            "description_width": ""
          }
        }
      }
    },
    "accelerator": "GPU",
    "gpuClass": "standard"
  },
  "nbformat": 4,
  "nbformat_minor": 0
}