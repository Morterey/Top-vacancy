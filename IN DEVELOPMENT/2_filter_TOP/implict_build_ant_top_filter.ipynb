{
  "cells": [
    {
      "cell_type": "markdown",
      "metadata": {
        "id": "e_ngVxWGQr3I"
      },
      "source": [
        "# Загружаем необходимые пакеты и импортируем библиотеки\n",
        "\n",
        "---"
      ]
    },
    {
      "cell_type": "code",
      "execution_count": null,
      "metadata": {
        "colab": {
          "base_uri": "https://localhost:8080/"
        },
        "id": "DQz2QHq6rTiv",
        "outputId": "fd078114-0129-4003-b6e4-c0fa84a8176a"
      },
      "outputs": [
        {
          "output_type": "stream",
          "name": "stdout",
          "text": [
            "Looking in indexes: https://pypi.org/simple, https://us-python.pkg.dev/colab-wheels/public/simple/\n",
            "Collecting implicit\n",
            "  Downloading implicit-0.6.2-cp310-cp310-manylinux2014_x86_64.whl (18.6 MB)\n",
            "\u001b[2K     \u001b[90m━━━━━━━━━━━━━━━━━━━━━━━━━━━━━━━━━━━━━━━━\u001b[0m \u001b[32m18.6/18.6 MB\u001b[0m \u001b[31m58.8 MB/s\u001b[0m eta \u001b[36m0:00:00\u001b[0m\n",
            "\u001b[?25hRequirement already satisfied: numpy in /usr/local/lib/python3.10/dist-packages (from implicit) (1.22.4)\n",
            "Requirement already satisfied: scipy>=0.16 in /usr/local/lib/python3.10/dist-packages (from implicit) (1.10.1)\n",
            "Requirement already satisfied: tqdm>=4.27 in /usr/local/lib/python3.10/dist-packages (from implicit) (4.65.0)\n",
            "Installing collected packages: implicit\n",
            "Successfully installed implicit-0.6.2\n"
          ]
        }
      ],
      "source": [
        "# Устанавливаем библиотеку implicit \n",
        "%pip install implicit"
      ]
    },
    {
      "cell_type": "code",
      "execution_count": null,
      "metadata": {
        "id": "rg2m6XderTi1"
      },
      "outputs": [],
      "source": [
        "# Загружаем библиотеки\n",
        "import pandas as pd\n",
        "import scipy.sparse as sparse\n",
        "import numpy as np\n",
        "import random\n",
        "import implicit\n",
        "import tensorflow as tf\n",
        "from sklearn import preprocessing"
      ]
    },
    {
      "cell_type": "code",
      "source": [
        "# Проверяем что у нас работает GPU\n",
        "tf.test.gpu_device_name()"
      ],
      "metadata": {
        "colab": {
          "base_uri": "https://localhost:8080/",
          "height": 36
        },
        "id": "O_9RapFj6TFw",
        "outputId": "1eb936d8-25f8-4cf2-d1f7-aca3a6c3d0a1"
      },
      "execution_count": null,
      "outputs": [
        {
          "output_type": "execute_result",
          "data": {
            "text/plain": [
              "'/device:GPU:0'"
            ],
            "application/vnd.google.colaboratory.intrinsic+json": {
              "type": "string"
            }
          },
          "metadata": {},
          "execution_count": 3
        }
      ]
    },
    {
      "cell_type": "code",
      "source": [
        "# GPU count and name\n",
        "!nvidia-smi -L"
      ],
      "metadata": {
        "colab": {
          "base_uri": "https://localhost:8080/"
        },
        "id": "ewGeQZaW6Vro",
        "outputId": "4f52d87c-8b2f-4806-afeb-e6d6497af993"
      },
      "execution_count": null,
      "outputs": [
        {
          "output_type": "stream",
          "name": "stdout",
          "text": [
            "GPU 0: Tesla T4 (UUID: GPU-73980e94-5e28-2608-3b68-855667e2a9ed)\n"
          ]
        }
      ]
    },
    {
      "cell_type": "code",
      "source": [
        "# use this command to see GPU activity while doing Deep Learning tasks, for this command 'nvidia-smi' and for above one to work, go to 'Runtime > change runtime type > Hardware Accelerator > GPU'\n",
        "!nvidia-smi"
      ],
      "metadata": {
        "colab": {
          "base_uri": "https://localhost:8080/"
        },
        "id": "CzqAoxQ06loO",
        "outputId": "2a93b7cf-d769-4980-c582-887a0b2b6bc0"
      },
      "execution_count": null,
      "outputs": [
        {
          "output_type": "stream",
          "name": "stdout",
          "text": [
            "Sat Apr 29 08:38:50 2023       \n",
            "+-----------------------------------------------------------------------------+\n",
            "| NVIDIA-SMI 525.85.12    Driver Version: 525.85.12    CUDA Version: 12.0     |\n",
            "|-------------------------------+----------------------+----------------------+\n",
            "| GPU  Name        Persistence-M| Bus-Id        Disp.A | Volatile Uncorr. ECC |\n",
            "| Fan  Temp  Perf  Pwr:Usage/Cap|         Memory-Usage | GPU-Util  Compute M. |\n",
            "|                               |                      |               MIG M. |\n",
            "|===============================+======================+======================|\n",
            "|   0  Tesla T4            Off  | 00000000:00:04.0 Off |                    0 |\n",
            "| N/A   68C    P0    31W /  70W |    391MiB / 15360MiB |      0%      Default |\n",
            "|                               |                      |                  N/A |\n",
            "+-------------------------------+----------------------+----------------------+\n",
            "                                                                               \n",
            "+-----------------------------------------------------------------------------+\n",
            "| Processes:                                                                  |\n",
            "|  GPU   GI   CI        PID   Type   Process name                  GPU Memory |\n",
            "|        ID   ID                                                   Usage      |\n",
            "|=============================================================================|\n",
            "+-----------------------------------------------------------------------------+\n"
          ]
        }
      ]
    },
    {
      "cell_type": "markdown",
      "metadata": {
        "id": "S8zD3-0gQr3T"
      },
      "source": [
        "# Подготовка и обработка данных\n",
        "\n",
        "---"
      ]
    },
    {
      "cell_type": "code",
      "execution_count": null,
      "metadata": {
        "id": "xcQyVkaZxF93"
      },
      "outputs": [],
      "source": [
        "# Загружаем данные из источника\n",
        "#data = pd.read_parquet('train_mfti.parquet', engine='pyarrow')\n",
        "data = pd.read_parquet('/content/drive/MyDrive/Colab Notebooks/hackathon/train_mfti.parquet', engine='pyarrow')"
      ]
    },
    {
      "cell_type": "code",
      "execution_count": null,
      "metadata": {
        "id": "1VI7xf1oxGyA"
      },
      "outputs": [],
      "source": [
        "# Создаем копию\n",
        "df = data.copy()"
      ]
    },
    {
      "cell_type": "code",
      "execution_count": null,
      "metadata": {
        "colab": {
          "base_uri": "https://localhost:8080/",
          "height": 206
        },
        "id": "NIoRaFJrzejz",
        "outputId": "3c665ef4-03e0-485d-a137-5263b436e375"
      },
      "outputs": [
        {
          "output_type": "execute_result",
          "data": {
            "text/plain": [
              "   event_date  event_timestamp  vacancy_id_                         cookie_id  \\\n",
              "0  2022-08-01       1659323026       129850  97990f1a021d4be19aa3f955b7eacab4   \n",
              "1  2022-08-01       1659377255       108347  03bf8c511fa949c79845a5d81b09aa1d   \n",
              "2  2022-08-01       1659376695       109069  03bf8c511fa949c79845a5d81b09aa1d   \n",
              "3  2022-08-01       1659376722       171425  03bf8c511fa949c79845a5d81b09aa1d   \n",
              "4  2022-08-01       1659374929       252384  03bf8c511fa949c79845a5d81b09aa1d   \n",
              "\n",
              "                            user_id    event_type  \n",
              "0  951f53de61764ea0b51317200a0dbbfc  show_vacancy  \n",
              "1  f5a2326a17484330aa8cb4019f1b1960  show_vacancy  \n",
              "2  f5a2326a17484330aa8cb4019f1b1960  show_vacancy  \n",
              "3  f5a2326a17484330aa8cb4019f1b1960  show_vacancy  \n",
              "4  f5a2326a17484330aa8cb4019f1b1960  show_vacancy  "
            ],
            "text/html": [
              "\n",
              "  <div id=\"df-11a6cd4a-c871-4323-9601-e34903c18f1a\">\n",
              "    <div class=\"colab-df-container\">\n",
              "      <div>\n",
              "<style scoped>\n",
              "    .dataframe tbody tr th:only-of-type {\n",
              "        vertical-align: middle;\n",
              "    }\n",
              "\n",
              "    .dataframe tbody tr th {\n",
              "        vertical-align: top;\n",
              "    }\n",
              "\n",
              "    .dataframe thead th {\n",
              "        text-align: right;\n",
              "    }\n",
              "</style>\n",
              "<table border=\"1\" class=\"dataframe\">\n",
              "  <thead>\n",
              "    <tr style=\"text-align: right;\">\n",
              "      <th></th>\n",
              "      <th>event_date</th>\n",
              "      <th>event_timestamp</th>\n",
              "      <th>vacancy_id_</th>\n",
              "      <th>cookie_id</th>\n",
              "      <th>user_id</th>\n",
              "      <th>event_type</th>\n",
              "    </tr>\n",
              "  </thead>\n",
              "  <tbody>\n",
              "    <tr>\n",
              "      <th>0</th>\n",
              "      <td>2022-08-01</td>\n",
              "      <td>1659323026</td>\n",
              "      <td>129850</td>\n",
              "      <td>97990f1a021d4be19aa3f955b7eacab4</td>\n",
              "      <td>951f53de61764ea0b51317200a0dbbfc</td>\n",
              "      <td>show_vacancy</td>\n",
              "    </tr>\n",
              "    <tr>\n",
              "      <th>1</th>\n",
              "      <td>2022-08-01</td>\n",
              "      <td>1659377255</td>\n",
              "      <td>108347</td>\n",
              "      <td>03bf8c511fa949c79845a5d81b09aa1d</td>\n",
              "      <td>f5a2326a17484330aa8cb4019f1b1960</td>\n",
              "      <td>show_vacancy</td>\n",
              "    </tr>\n",
              "    <tr>\n",
              "      <th>2</th>\n",
              "      <td>2022-08-01</td>\n",
              "      <td>1659376695</td>\n",
              "      <td>109069</td>\n",
              "      <td>03bf8c511fa949c79845a5d81b09aa1d</td>\n",
              "      <td>f5a2326a17484330aa8cb4019f1b1960</td>\n",
              "      <td>show_vacancy</td>\n",
              "    </tr>\n",
              "    <tr>\n",
              "      <th>3</th>\n",
              "      <td>2022-08-01</td>\n",
              "      <td>1659376722</td>\n",
              "      <td>171425</td>\n",
              "      <td>03bf8c511fa949c79845a5d81b09aa1d</td>\n",
              "      <td>f5a2326a17484330aa8cb4019f1b1960</td>\n",
              "      <td>show_vacancy</td>\n",
              "    </tr>\n",
              "    <tr>\n",
              "      <th>4</th>\n",
              "      <td>2022-08-01</td>\n",
              "      <td>1659374929</td>\n",
              "      <td>252384</td>\n",
              "      <td>03bf8c511fa949c79845a5d81b09aa1d</td>\n",
              "      <td>f5a2326a17484330aa8cb4019f1b1960</td>\n",
              "      <td>show_vacancy</td>\n",
              "    </tr>\n",
              "  </tbody>\n",
              "</table>\n",
              "</div>\n",
              "      <button class=\"colab-df-convert\" onclick=\"convertToInteractive('df-11a6cd4a-c871-4323-9601-e34903c18f1a')\"\n",
              "              title=\"Convert this dataframe to an interactive table.\"\n",
              "              style=\"display:none;\">\n",
              "        \n",
              "  <svg xmlns=\"http://www.w3.org/2000/svg\" height=\"24px\"viewBox=\"0 0 24 24\"\n",
              "       width=\"24px\">\n",
              "    <path d=\"M0 0h24v24H0V0z\" fill=\"none\"/>\n",
              "    <path d=\"M18.56 5.44l.94 2.06.94-2.06 2.06-.94-2.06-.94-.94-2.06-.94 2.06-2.06.94zm-11 1L8.5 8.5l.94-2.06 2.06-.94-2.06-.94L8.5 2.5l-.94 2.06-2.06.94zm10 10l.94 2.06.94-2.06 2.06-.94-2.06-.94-.94-2.06-.94 2.06-2.06.94z\"/><path d=\"M17.41 7.96l-1.37-1.37c-.4-.4-.92-.59-1.43-.59-.52 0-1.04.2-1.43.59L10.3 9.45l-7.72 7.72c-.78.78-.78 2.05 0 2.83L4 21.41c.39.39.9.59 1.41.59.51 0 1.02-.2 1.41-.59l7.78-7.78 2.81-2.81c.8-.78.8-2.07 0-2.86zM5.41 20L4 18.59l7.72-7.72 1.47 1.35L5.41 20z\"/>\n",
              "  </svg>\n",
              "      </button>\n",
              "      \n",
              "  <style>\n",
              "    .colab-df-container {\n",
              "      display:flex;\n",
              "      flex-wrap:wrap;\n",
              "      gap: 12px;\n",
              "    }\n",
              "\n",
              "    .colab-df-convert {\n",
              "      background-color: #E8F0FE;\n",
              "      border: none;\n",
              "      border-radius: 50%;\n",
              "      cursor: pointer;\n",
              "      display: none;\n",
              "      fill: #1967D2;\n",
              "      height: 32px;\n",
              "      padding: 0 0 0 0;\n",
              "      width: 32px;\n",
              "    }\n",
              "\n",
              "    .colab-df-convert:hover {\n",
              "      background-color: #E2EBFA;\n",
              "      box-shadow: 0px 1px 2px rgba(60, 64, 67, 0.3), 0px 1px 3px 1px rgba(60, 64, 67, 0.15);\n",
              "      fill: #174EA6;\n",
              "    }\n",
              "\n",
              "    [theme=dark] .colab-df-convert {\n",
              "      background-color: #3B4455;\n",
              "      fill: #D2E3FC;\n",
              "    }\n",
              "\n",
              "    [theme=dark] .colab-df-convert:hover {\n",
              "      background-color: #434B5C;\n",
              "      box-shadow: 0px 1px 3px 1px rgba(0, 0, 0, 0.15);\n",
              "      filter: drop-shadow(0px 1px 2px rgba(0, 0, 0, 0.3));\n",
              "      fill: #FFFFFF;\n",
              "    }\n",
              "  </style>\n",
              "\n",
              "      <script>\n",
              "        const buttonEl =\n",
              "          document.querySelector('#df-11a6cd4a-c871-4323-9601-e34903c18f1a button.colab-df-convert');\n",
              "        buttonEl.style.display =\n",
              "          google.colab.kernel.accessAllowed ? 'block' : 'none';\n",
              "\n",
              "        async function convertToInteractive(key) {\n",
              "          const element = document.querySelector('#df-11a6cd4a-c871-4323-9601-e34903c18f1a');\n",
              "          const dataTable =\n",
              "            await google.colab.kernel.invokeFunction('convertToInteractive',\n",
              "                                                     [key], {});\n",
              "          if (!dataTable) return;\n",
              "\n",
              "          const docLinkHtml = 'Like what you see? Visit the ' +\n",
              "            '<a target=\"_blank\" href=https://colab.research.google.com/notebooks/data_table.ipynb>data table notebook</a>'\n",
              "            + ' to learn more about interactive tables.';\n",
              "          element.innerHTML = '';\n",
              "          dataTable['output_type'] = 'display_data';\n",
              "          await google.colab.output.renderOutput(dataTable, element);\n",
              "          const docLink = document.createElement('div');\n",
              "          docLink.innerHTML = docLinkHtml;\n",
              "          element.appendChild(docLink);\n",
              "        }\n",
              "      </script>\n",
              "    </div>\n",
              "  </div>\n",
              "  "
            ]
          },
          "metadata": {},
          "execution_count": 9
        }
      ],
      "source": [
        "# Посмотрим на данные \n",
        "df.head()"
      ]
    },
    {
      "cell_type": "code",
      "execution_count": null,
      "metadata": {
        "colab": {
          "base_uri": "https://localhost:8080/"
        },
        "id": "IXjk12kNQr3V",
        "outputId": "6d8b7c9b-f46f-422d-9164-e19bd5f8eb78"
      },
      "outputs": [
        {
          "output_type": "stream",
          "name": "stdout",
          "text": [
            "<class 'pandas.core.frame.DataFrame'>\n",
            "RangeIndex: 12292588 entries, 0 to 12292587\n",
            "Data columns (total 6 columns):\n",
            " #   Column           Non-Null Count     Dtype \n",
            "---  ------           --------------     ----- \n",
            " 0   event_date       12292588 non-null  object\n",
            " 1   event_timestamp  12292588 non-null  int64 \n",
            " 2   vacancy_id_      12292588 non-null  int64 \n",
            " 3   cookie_id        12292588 non-null  object\n",
            " 4   user_id          8711177 non-null   object\n",
            " 5   event_type       12292588 non-null  object\n",
            "dtypes: int64(2), object(4)\n",
            "memory usage: 562.7+ MB\n"
          ]
        }
      ],
      "source": [
        "# и так тоже посмотрим\n",
        "df.info(show_counts=True)"
      ]
    },
    {
      "cell_type": "code",
      "execution_count": null,
      "metadata": {
        "id": "9HUDd07hQr3W"
      },
      "outputs": [],
      "source": [
        "# Дубликатов нет в данных - но на всякий случай\n",
        "df = df.drop_duplicates()"
      ]
    },
    {
      "cell_type": "code",
      "execution_count": null,
      "metadata": {
        "id": "B11zly9zrTi_"
      },
      "outputs": [],
      "source": [
        "# Удаляем колонки, которые не будут принимать участия в обучении\n",
        "df.drop(columns=['event_date', 'event_timestamp', 'user_id'], axis=1, inplace=True)"
      ]
    },
    {
      "cell_type": "code",
      "execution_count": null,
      "metadata": {
        "id": "vfSiJUIY1r_n"
      },
      "outputs": [],
      "source": [
        "# Для удобства немного выравняем данные\n",
        "df = df[['cookie_id', 'vacancy_id_', 'event_type']]"
      ]
    },
    {
      "cell_type": "code",
      "execution_count": null,
      "metadata": {
        "colab": {
          "base_uri": "https://localhost:8080/",
          "height": 206
        },
        "id": "vUcQ3yAs2n1m",
        "outputId": "ef9f08a0-ac95-48d8-b7fe-c04541a8fb35"
      },
      "outputs": [
        {
          "output_type": "execute_result",
          "data": {
            "text/plain": [
              "                          cookie_id  vacancy_id_    event_type\n",
              "0  97990f1a021d4be19aa3f955b7eacab4       129850  show_vacancy\n",
              "1  03bf8c511fa949c79845a5d81b09aa1d       108347  show_vacancy\n",
              "2  03bf8c511fa949c79845a5d81b09aa1d       109069  show_vacancy\n",
              "3  03bf8c511fa949c79845a5d81b09aa1d       171425  show_vacancy\n",
              "4  03bf8c511fa949c79845a5d81b09aa1d       252384  show_vacancy"
            ],
            "text/html": [
              "\n",
              "  <div id=\"df-69ecc1b4-37ea-4ad4-a9c0-b09b5088a196\">\n",
              "    <div class=\"colab-df-container\">\n",
              "      <div>\n",
              "<style scoped>\n",
              "    .dataframe tbody tr th:only-of-type {\n",
              "        vertical-align: middle;\n",
              "    }\n",
              "\n",
              "    .dataframe tbody tr th {\n",
              "        vertical-align: top;\n",
              "    }\n",
              "\n",
              "    .dataframe thead th {\n",
              "        text-align: right;\n",
              "    }\n",
              "</style>\n",
              "<table border=\"1\" class=\"dataframe\">\n",
              "  <thead>\n",
              "    <tr style=\"text-align: right;\">\n",
              "      <th></th>\n",
              "      <th>cookie_id</th>\n",
              "      <th>vacancy_id_</th>\n",
              "      <th>event_type</th>\n",
              "    </tr>\n",
              "  </thead>\n",
              "  <tbody>\n",
              "    <tr>\n",
              "      <th>0</th>\n",
              "      <td>97990f1a021d4be19aa3f955b7eacab4</td>\n",
              "      <td>129850</td>\n",
              "      <td>show_vacancy</td>\n",
              "    </tr>\n",
              "    <tr>\n",
              "      <th>1</th>\n",
              "      <td>03bf8c511fa949c79845a5d81b09aa1d</td>\n",
              "      <td>108347</td>\n",
              "      <td>show_vacancy</td>\n",
              "    </tr>\n",
              "    <tr>\n",
              "      <th>2</th>\n",
              "      <td>03bf8c511fa949c79845a5d81b09aa1d</td>\n",
              "      <td>109069</td>\n",
              "      <td>show_vacancy</td>\n",
              "    </tr>\n",
              "    <tr>\n",
              "      <th>3</th>\n",
              "      <td>03bf8c511fa949c79845a5d81b09aa1d</td>\n",
              "      <td>171425</td>\n",
              "      <td>show_vacancy</td>\n",
              "    </tr>\n",
              "    <tr>\n",
              "      <th>4</th>\n",
              "      <td>03bf8c511fa949c79845a5d81b09aa1d</td>\n",
              "      <td>252384</td>\n",
              "      <td>show_vacancy</td>\n",
              "    </tr>\n",
              "  </tbody>\n",
              "</table>\n",
              "</div>\n",
              "      <button class=\"colab-df-convert\" onclick=\"convertToInteractive('df-69ecc1b4-37ea-4ad4-a9c0-b09b5088a196')\"\n",
              "              title=\"Convert this dataframe to an interactive table.\"\n",
              "              style=\"display:none;\">\n",
              "        \n",
              "  <svg xmlns=\"http://www.w3.org/2000/svg\" height=\"24px\"viewBox=\"0 0 24 24\"\n",
              "       width=\"24px\">\n",
              "    <path d=\"M0 0h24v24H0V0z\" fill=\"none\"/>\n",
              "    <path d=\"M18.56 5.44l.94 2.06.94-2.06 2.06-.94-2.06-.94-.94-2.06-.94 2.06-2.06.94zm-11 1L8.5 8.5l.94-2.06 2.06-.94-2.06-.94L8.5 2.5l-.94 2.06-2.06.94zm10 10l.94 2.06.94-2.06 2.06-.94-2.06-.94-.94-2.06-.94 2.06-2.06.94z\"/><path d=\"M17.41 7.96l-1.37-1.37c-.4-.4-.92-.59-1.43-.59-.52 0-1.04.2-1.43.59L10.3 9.45l-7.72 7.72c-.78.78-.78 2.05 0 2.83L4 21.41c.39.39.9.59 1.41.59.51 0 1.02-.2 1.41-.59l7.78-7.78 2.81-2.81c.8-.78.8-2.07 0-2.86zM5.41 20L4 18.59l7.72-7.72 1.47 1.35L5.41 20z\"/>\n",
              "  </svg>\n",
              "      </button>\n",
              "      \n",
              "  <style>\n",
              "    .colab-df-container {\n",
              "      display:flex;\n",
              "      flex-wrap:wrap;\n",
              "      gap: 12px;\n",
              "    }\n",
              "\n",
              "    .colab-df-convert {\n",
              "      background-color: #E8F0FE;\n",
              "      border: none;\n",
              "      border-radius: 50%;\n",
              "      cursor: pointer;\n",
              "      display: none;\n",
              "      fill: #1967D2;\n",
              "      height: 32px;\n",
              "      padding: 0 0 0 0;\n",
              "      width: 32px;\n",
              "    }\n",
              "\n",
              "    .colab-df-convert:hover {\n",
              "      background-color: #E2EBFA;\n",
              "      box-shadow: 0px 1px 2px rgba(60, 64, 67, 0.3), 0px 1px 3px 1px rgba(60, 64, 67, 0.15);\n",
              "      fill: #174EA6;\n",
              "    }\n",
              "\n",
              "    [theme=dark] .colab-df-convert {\n",
              "      background-color: #3B4455;\n",
              "      fill: #D2E3FC;\n",
              "    }\n",
              "\n",
              "    [theme=dark] .colab-df-convert:hover {\n",
              "      background-color: #434B5C;\n",
              "      box-shadow: 0px 1px 3px 1px rgba(0, 0, 0, 0.15);\n",
              "      filter: drop-shadow(0px 1px 2px rgba(0, 0, 0, 0.3));\n",
              "      fill: #FFFFFF;\n",
              "    }\n",
              "  </style>\n",
              "\n",
              "      <script>\n",
              "        const buttonEl =\n",
              "          document.querySelector('#df-69ecc1b4-37ea-4ad4-a9c0-b09b5088a196 button.colab-df-convert');\n",
              "        buttonEl.style.display =\n",
              "          google.colab.kernel.accessAllowed ? 'block' : 'none';\n",
              "\n",
              "        async function convertToInteractive(key) {\n",
              "          const element = document.querySelector('#df-69ecc1b4-37ea-4ad4-a9c0-b09b5088a196');\n",
              "          const dataTable =\n",
              "            await google.colab.kernel.invokeFunction('convertToInteractive',\n",
              "                                                     [key], {});\n",
              "          if (!dataTable) return;\n",
              "\n",
              "          const docLinkHtml = 'Like what you see? Visit the ' +\n",
              "            '<a target=\"_blank\" href=https://colab.research.google.com/notebooks/data_table.ipynb>data table notebook</a>'\n",
              "            + ' to learn more about interactive tables.';\n",
              "          element.innerHTML = '';\n",
              "          dataTable['output_type'] = 'display_data';\n",
              "          await google.colab.output.renderOutput(dataTable, element);\n",
              "          const docLink = document.createElement('div');\n",
              "          docLink.innerHTML = docLinkHtml;\n",
              "          element.appendChild(docLink);\n",
              "        }\n",
              "      </script>\n",
              "    </div>\n",
              "  </div>\n",
              "  "
            ]
          },
          "metadata": {},
          "execution_count": 15
        }
      ],
      "source": [
        "df.head()"
      ]
    },
    {
      "cell_type": "markdown",
      "source": [
        " ### Обработка данных первая исследовательская позиция (Маштабирование взаимодействий и их силы)\n",
        " ---"
      ],
      "metadata": {
        "id": "CSHmR3FF8t1O"
      }
    },
    {
      "cell_type": "code",
      "execution_count": null,
      "metadata": {
        "colab": {
          "base_uri": "https://localhost:8080/"
        },
        "id": "pOZldAxcrTjC",
        "outputId": "6e6b9bdd-a332-42d7-b626-5286400fa4e8"
      },
      "outputs": [
        {
          "output_type": "execute_result",
          "data": {
            "text/plain": [
              "show_vacancy              6180832\n",
              "preview_click_vacancy     4758461\n",
              "click_response             382828\n",
              "click_contacts             276819\n",
              "preview_click_response     190130\n",
              "click_favorite             155472\n",
              "preview_click_favorite     106622\n",
              "preview_click_contacts     101231\n",
              "click_phone                 78667\n",
              "preview_click_phone         15927\n",
              "Name: event_type, dtype: int64"
            ]
          },
          "metadata": {},
          "execution_count": 16
        }
      ],
      "source": [
        "# Вот тут мы посмотрим на количество определенного вида взаимодействий в данных\n",
        "df['event_type'].value_counts()"
      ]
    },
    {
      "cell_type": "markdown",
      "source": [
        "* 1 show_vacancy - просмотр вакансии\n",
        "* 2 preview_click_vacancy - клик по карточке вакансии\n",
        "* **3 click_response - отклик со страницы вакансии**\n",
        "* **4 preview_click_response - отклик с карточки вакансии**\n",
        "* 5 click_favorite - добавление вакансии в избранное  со страницы вакансии\n",
        "* 6 preview_click_favorite - добавление вакансии в избраное с карточки вакансии\n",
        "* **7 click_contacts - клик на контакты со страницы вакансии**\n",
        "* **8 preview_click_contacts - клик на контакты из карточки вакансии**\n",
        "* **9 click_phone - клик на номер телефона, указанный в вакансии**\n",
        "* **10 preview_click_phone - клик на номер телефона из карточки вакансии**\n",
        "\n",
        "Жирным выделены искомые \"\"откликнется\"\" и \"\"позвонит\"\"\"\n",
        "! Стоит обратить внимание на то, что позиции 3 и 4 по частоте идут выше чем позиции 5 и 6, которые нам в положительное взаимодействие не засчитываются. В свзи с этим необходимо проработать несколько вариантов маштабирования данных"
      ],
      "metadata": {
        "id": "6WKU2Jyp9LE_"
      }
    },
    {
      "cell_type": "code",
      "execution_count": null,
      "metadata": {
        "id": "sV2ZnhqdxwWL"
      },
      "outputs": [],
      "source": [
        "# проверим если закодировать значимость взаимодейстивий по их количеству в выборке - при прочих стандартных параметрах этот\n",
        "# способ показал результат 0,041\n",
        "df['eventStrength'] = df['event_type'].map({'show_vacancy': 1.0,\n",
        "                                     'preview_click_vacancy': 2.0,\n",
        "                                     'click_response': 3.0,\n",
        "                                     'click_contacts': 4.0,\n",
        "                                     'preview_click_response': 5.0,\n",
        "                                     'click_favorite': 6.0,\n",
        "                                     'preview_click_favorite': 7.0,\n",
        "                                     'preview_click_contacts': 8.0,\n",
        "                                     'click_phone': 9.0,\n",
        "                                     'preview_click_phone': 10.0})"
      ]
    },
    {
      "cell_type": "code",
      "source": [
        "# проверим правильно ли мы закодировали взаимодействия\n",
        "df['eventStrength'].value_counts()"
      ],
      "metadata": {
        "colab": {
          "base_uri": "https://localhost:8080/"
        },
        "id": "g8_Aao2Bwxsj",
        "outputId": "f44e658d-e6ab-4180-87ec-d28bf57d1072"
      },
      "execution_count": null,
      "outputs": [
        {
          "output_type": "execute_result",
          "data": {
            "text/plain": [
              "1.0     6180832\n",
              "2.0     4758461\n",
              "3.0      382828\n",
              "4.0      276819\n",
              "5.0      190130\n",
              "6.0      155472\n",
              "7.0      106622\n",
              "8.0      101231\n",
              "9.0       78667\n",
              "10.0      15927\n",
              "Name: eventStrength, dtype: int64"
            ]
          },
          "metadata": {},
          "execution_count": 18
        }
      ]
    },
    {
      "cell_type": "markdown",
      "source": [
        "Далее несколько ячеек кода для различных вариаций оценки взаимодействия их стоит прогнать с базовыми значениями и посмотреть на результаты (возможны и другие предложения):"
      ],
      "metadata": {
        "id": "JwZsVThOBv9J"
      }
    },
    {
      "cell_type": "code",
      "execution_count": null,
      "metadata": {
        "id": "AYHwFB6eQr3Y"
      },
      "outputs": [],
      "source": [
        "# проверить потом - вот такая модель должна дать нам больший перекос в сторону искомых взаимодействий перед обычными\n",
        "df['eventStrength'] = df['event_type'].map({'show_vacancy': 1.0,\n",
        "                                     'preview_click_vacancy': 1.0,\n",
        "                                     'click_favorite': 1.0,\n",
        "                                     'preview_click_favorite': 1.0,\n",
        "                                     'click_response': 10.0,\n",
        "                                     'preview_click_response': 10.0,\n",
        "                                     'click_contacts': 10.0,\n",
        "                                     'preview_click_contacts': 10.0,\n",
        "                                     'click_phone': 10.0,\n",
        "                                     'preview_click_phone': 10.0})"
      ]
    },
    {
      "cell_type": "code",
      "execution_count": null,
      "metadata": {
        "id": "PlCq-UySxxI4"
      },
      "outputs": [],
      "source": [
        "# Вот это разбиение по нашему заданию, то есть первые 4 отрицательные взаимодействия остальные положительные\n",
        "df['eventStrength'] = df['event_type'].map({'show_vacancy': 1.0,\n",
        "                                     'preview_click_vacancy': 2.0,\n",
        "                                     'click_favorite': 3.0,\n",
        "                                     'preview_click_favorite': 4.0,\n",
        "                                     'click_response': 5.0,\n",
        "                                     'click_contacts': 6.0,\n",
        "                                     'preview_click_response': 7.0,\n",
        "                                     'preview_click_contacts': 8.0,\n",
        "                                     'click_phone': 9.0,\n",
        "                                     'preview_click_phone': 10.0})"
      ]
    },
    {
      "cell_type": "code",
      "source": [
        "# Вот это разбиение по нашему заданию, но незначимые мы закодируем нулями нужные единицами, но не знаю как это пойдет\n",
        "# Нули в матрице могут восприниматься как отсутсвие взаимодействия, а это неправда\n",
        "df['eventStrength'] = df['event_type'].map({'show_vacancy': 0.0,\n",
        "                                     'preview_click_vacancy': 0.0,\n",
        "                                     'click_favorite': 0.0,\n",
        "                                     'preview_click_favorite': 0.0,\n",
        "                                     'click_response': 1.0,\n",
        "                                     'click_contacts': 1.0,\n",
        "                                     'preview_click_response': 1.0,\n",
        "                                     'preview_click_contacts': 1.0,\n",
        "                                     'click_phone': 1.0,\n",
        "                                     'preview_click_phone': 1.0})"
      ],
      "metadata": {
        "id": "1qGhG3NHAJER"
      },
      "execution_count": null,
      "outputs": []
    },
    {
      "cell_type": "code",
      "source": [
        "# Вот это разбиение по нашему заданию, но незначимые мы закодируем 1 нужные 2\n",
        "df['eventStrength'] = df['event_type'].map({'show_vacancy': 1.0,\n",
        "                                     'preview_click_vacancy': 1.0,\n",
        "                                     'click_favorite': 1.0,\n",
        "                                     'preview_click_favorite': 1.0,\n",
        "                                     'click_response': 2.0,\n",
        "                                     'click_contacts': 2.0,\n",
        "                                     'preview_click_response': 2.0,\n",
        "                                     'preview_click_contacts': 2.0,\n",
        "                                     'click_phone': 2.0,\n",
        "                                     'preview_click_phone': 2.0})"
      ],
      "metadata": {
        "id": "kTzyM9oOBKce"
      },
      "execution_count": null,
      "outputs": []
    },
    {
      "cell_type": "code",
      "source": [
        "# Вот это разбиение по нашему заданию, ну и последний вариант это вот так:\n",
        "df['eventStrength'] = df['event_type'].map({'show_vacancy': 0.1,\n",
        "                                     'preview_click_vacancy': 0.1,\n",
        "                                     'click_favorite': 0.1,\n",
        "                                     'preview_click_favorite': 0.1,\n",
        "                                     'click_response': 1.0,\n",
        "                                     'click_contacts': 1.0,\n",
        "                                     'preview_click_response': 1.0,\n",
        "                                     'preview_click_contacts': 1.0,\n",
        "                                     'click_phone': 1.0,\n",
        "                                     'preview_click_phone': 1.0})"
      ],
      "metadata": {
        "id": "eZ3CIkd5BfaP"
      },
      "execution_count": null,
      "outputs": []
    },
    {
      "cell_type": "markdown",
      "source": [
        "Группировка данных:\n",
        "\n",
        "Еще один point по которому стоит провести исследование. Группировка схлопывает взаимодействия и выдает результат в виде силы взаимодействия\n",
        "\n",
        "---"
      ],
      "metadata": {
        "id": "5LZzYv87CfCO"
      }
    },
    {
      "cell_type": "code",
      "execution_count": null,
      "metadata": {
        "id": "JpGrm5NBQr3Y"
      },
      "outputs": [],
      "source": [
        "# Сгруппируем сочетания вакансий и человека при этом суммируем историю из взаимодействия в числах, чем больще число\n",
        "# тем больше интерес человека к вакансии - а значит больше и сила взаимодействия\n",
        "\n",
        "grouped_df = df.groupby(['cookie_id', 'vacancy_id_']).sum('numeric_only').reset_index()"
      ]
    },
    {
      "cell_type": "code",
      "source": [
        "# попробуем еще 2 варината группировки - по максимуму\n",
        "\n",
        "#grouped_df = df.groupby(['cookie_id', 'vacancy_id_']).max('numeric_only').reset_index()"
      ],
      "metadata": {
        "id": "JwnQutFyaGn0"
      },
      "execution_count": null,
      "outputs": []
    },
    {
      "cell_type": "code",
      "source": [
        "# попробуем еще 2 варината группировки - по максимуму\n",
        "\n",
        "# grouped_df = df.groupby(['cookie_id', 'vacancy_id_']).mean('numeric_only').reset_index()"
      ],
      "metadata": {
        "id": "tvinY58XaTAT"
      },
      "execution_count": null,
      "outputs": []
    },
    {
      "cell_type": "code",
      "execution_count": null,
      "metadata": {
        "colab": {
          "base_uri": "https://localhost:8080/"
        },
        "id": "2-4TgU95Qr3Z",
        "outputId": "41baedbc-762a-47fd-a8be-27dd5d0cd8ea"
      },
      "outputs": [
        {
          "output_type": "stream",
          "name": "stdout",
          "text": [
            "<class 'pandas.core.frame.DataFrame'>\n",
            "RangeIndex: 4678585 entries, 0 to 4678584\n",
            "Data columns (total 3 columns):\n",
            " #   Column         Dtype  \n",
            "---  ------         -----  \n",
            " 0   cookie_id      object \n",
            " 1   vacancy_id_    int64  \n",
            " 2   eventStrength  float64\n",
            "dtypes: float64(1), int64(1), object(1)\n",
            "memory usage: 107.1+ MB\n"
          ]
        }
      ],
      "source": [
        "# с 12 000 000 + наши данные схлопнулись до 4 500 000 +\n",
        "grouped_df.info()"
      ]
    },
    {
      "cell_type": "code",
      "execution_count": null,
      "metadata": {
        "colab": {
          "base_uri": "https://localhost:8080/",
          "height": 363
        },
        "id": "-dMzkH07Qr3Z",
        "outputId": "645f982a-1a96-4600-d126-556f44501f5f"
      },
      "outputs": [
        {
          "output_type": "execute_result",
          "data": {
            "text/plain": [
              "                                cookie_id  vacancy_id_  eventStrength\n",
              "3128229  aa93a69ba0584959bf16825453a30854       154013            3.0\n",
              "2553670  8ae80782814e4bd5ae87f8cafcb31c23       214846           21.0\n",
              "2750647  9580a8653ec249c59d1192fa1d33256c       242367            3.0\n",
              "3076418  a7b66199f16245dfa45f47f9b8c1d595       102794            6.0\n",
              "3233136  b071dd1f94b948f8a146f2907f09089d       174801           20.0\n",
              "2000682  6d4c14cee5264db9b415be3552280d38       183980            3.0\n",
              "3629415  c62e74a1bc9e42fe84be1c0ce3dff283       212664            3.0\n",
              "3473346  bd93938711284e0289a03d18586068ae       181667            3.0\n",
              "3600106  c4a121dc6e994a83ace195d86d428b0b       218223            6.0\n",
              "3097029  a8e316f9c36a4e6aa33415183669ed5d       207916            3.0"
            ],
            "text/html": [
              "\n",
              "  <div id=\"df-f5a4ae68-3c9c-46bb-8f48-644bcd79ca47\">\n",
              "    <div class=\"colab-df-container\">\n",
              "      <div>\n",
              "<style scoped>\n",
              "    .dataframe tbody tr th:only-of-type {\n",
              "        vertical-align: middle;\n",
              "    }\n",
              "\n",
              "    .dataframe tbody tr th {\n",
              "        vertical-align: top;\n",
              "    }\n",
              "\n",
              "    .dataframe thead th {\n",
              "        text-align: right;\n",
              "    }\n",
              "</style>\n",
              "<table border=\"1\" class=\"dataframe\">\n",
              "  <thead>\n",
              "    <tr style=\"text-align: right;\">\n",
              "      <th></th>\n",
              "      <th>cookie_id</th>\n",
              "      <th>vacancy_id_</th>\n",
              "      <th>eventStrength</th>\n",
              "    </tr>\n",
              "  </thead>\n",
              "  <tbody>\n",
              "    <tr>\n",
              "      <th>3128229</th>\n",
              "      <td>aa93a69ba0584959bf16825453a30854</td>\n",
              "      <td>154013</td>\n",
              "      <td>3.0</td>\n",
              "    </tr>\n",
              "    <tr>\n",
              "      <th>2553670</th>\n",
              "      <td>8ae80782814e4bd5ae87f8cafcb31c23</td>\n",
              "      <td>214846</td>\n",
              "      <td>21.0</td>\n",
              "    </tr>\n",
              "    <tr>\n",
              "      <th>2750647</th>\n",
              "      <td>9580a8653ec249c59d1192fa1d33256c</td>\n",
              "      <td>242367</td>\n",
              "      <td>3.0</td>\n",
              "    </tr>\n",
              "    <tr>\n",
              "      <th>3076418</th>\n",
              "      <td>a7b66199f16245dfa45f47f9b8c1d595</td>\n",
              "      <td>102794</td>\n",
              "      <td>6.0</td>\n",
              "    </tr>\n",
              "    <tr>\n",
              "      <th>3233136</th>\n",
              "      <td>b071dd1f94b948f8a146f2907f09089d</td>\n",
              "      <td>174801</td>\n",
              "      <td>20.0</td>\n",
              "    </tr>\n",
              "    <tr>\n",
              "      <th>2000682</th>\n",
              "      <td>6d4c14cee5264db9b415be3552280d38</td>\n",
              "      <td>183980</td>\n",
              "      <td>3.0</td>\n",
              "    </tr>\n",
              "    <tr>\n",
              "      <th>3629415</th>\n",
              "      <td>c62e74a1bc9e42fe84be1c0ce3dff283</td>\n",
              "      <td>212664</td>\n",
              "      <td>3.0</td>\n",
              "    </tr>\n",
              "    <tr>\n",
              "      <th>3473346</th>\n",
              "      <td>bd93938711284e0289a03d18586068ae</td>\n",
              "      <td>181667</td>\n",
              "      <td>3.0</td>\n",
              "    </tr>\n",
              "    <tr>\n",
              "      <th>3600106</th>\n",
              "      <td>c4a121dc6e994a83ace195d86d428b0b</td>\n",
              "      <td>218223</td>\n",
              "      <td>6.0</td>\n",
              "    </tr>\n",
              "    <tr>\n",
              "      <th>3097029</th>\n",
              "      <td>a8e316f9c36a4e6aa33415183669ed5d</td>\n",
              "      <td>207916</td>\n",
              "      <td>3.0</td>\n",
              "    </tr>\n",
              "  </tbody>\n",
              "</table>\n",
              "</div>\n",
              "      <button class=\"colab-df-convert\" onclick=\"convertToInteractive('df-f5a4ae68-3c9c-46bb-8f48-644bcd79ca47')\"\n",
              "              title=\"Convert this dataframe to an interactive table.\"\n",
              "              style=\"display:none;\">\n",
              "        \n",
              "  <svg xmlns=\"http://www.w3.org/2000/svg\" height=\"24px\"viewBox=\"0 0 24 24\"\n",
              "       width=\"24px\">\n",
              "    <path d=\"M0 0h24v24H0V0z\" fill=\"none\"/>\n",
              "    <path d=\"M18.56 5.44l.94 2.06.94-2.06 2.06-.94-2.06-.94-.94-2.06-.94 2.06-2.06.94zm-11 1L8.5 8.5l.94-2.06 2.06-.94-2.06-.94L8.5 2.5l-.94 2.06-2.06.94zm10 10l.94 2.06.94-2.06 2.06-.94-2.06-.94-.94-2.06-.94 2.06-2.06.94z\"/><path d=\"M17.41 7.96l-1.37-1.37c-.4-.4-.92-.59-1.43-.59-.52 0-1.04.2-1.43.59L10.3 9.45l-7.72 7.72c-.78.78-.78 2.05 0 2.83L4 21.41c.39.39.9.59 1.41.59.51 0 1.02-.2 1.41-.59l7.78-7.78 2.81-2.81c.8-.78.8-2.07 0-2.86zM5.41 20L4 18.59l7.72-7.72 1.47 1.35L5.41 20z\"/>\n",
              "  </svg>\n",
              "      </button>\n",
              "      \n",
              "  <style>\n",
              "    .colab-df-container {\n",
              "      display:flex;\n",
              "      flex-wrap:wrap;\n",
              "      gap: 12px;\n",
              "    }\n",
              "\n",
              "    .colab-df-convert {\n",
              "      background-color: #E8F0FE;\n",
              "      border: none;\n",
              "      border-radius: 50%;\n",
              "      cursor: pointer;\n",
              "      display: none;\n",
              "      fill: #1967D2;\n",
              "      height: 32px;\n",
              "      padding: 0 0 0 0;\n",
              "      width: 32px;\n",
              "    }\n",
              "\n",
              "    .colab-df-convert:hover {\n",
              "      background-color: #E2EBFA;\n",
              "      box-shadow: 0px 1px 2px rgba(60, 64, 67, 0.3), 0px 1px 3px 1px rgba(60, 64, 67, 0.15);\n",
              "      fill: #174EA6;\n",
              "    }\n",
              "\n",
              "    [theme=dark] .colab-df-convert {\n",
              "      background-color: #3B4455;\n",
              "      fill: #D2E3FC;\n",
              "    }\n",
              "\n",
              "    [theme=dark] .colab-df-convert:hover {\n",
              "      background-color: #434B5C;\n",
              "      box-shadow: 0px 1px 3px 1px rgba(0, 0, 0, 0.15);\n",
              "      filter: drop-shadow(0px 1px 2px rgba(0, 0, 0, 0.3));\n",
              "      fill: #FFFFFF;\n",
              "    }\n",
              "  </style>\n",
              "\n",
              "      <script>\n",
              "        const buttonEl =\n",
              "          document.querySelector('#df-f5a4ae68-3c9c-46bb-8f48-644bcd79ca47 button.colab-df-convert');\n",
              "        buttonEl.style.display =\n",
              "          google.colab.kernel.accessAllowed ? 'block' : 'none';\n",
              "\n",
              "        async function convertToInteractive(key) {\n",
              "          const element = document.querySelector('#df-f5a4ae68-3c9c-46bb-8f48-644bcd79ca47');\n",
              "          const dataTable =\n",
              "            await google.colab.kernel.invokeFunction('convertToInteractive',\n",
              "                                                     [key], {});\n",
              "          if (!dataTable) return;\n",
              "\n",
              "          const docLinkHtml = 'Like what you see? Visit the ' +\n",
              "            '<a target=\"_blank\" href=https://colab.research.google.com/notebooks/data_table.ipynb>data table notebook</a>'\n",
              "            + ' to learn more about interactive tables.';\n",
              "          element.innerHTML = '';\n",
              "          dataTable['output_type'] = 'display_data';\n",
              "          await google.colab.output.renderOutput(dataTable, element);\n",
              "          const docLink = document.createElement('div');\n",
              "          docLink.innerHTML = docLinkHtml;\n",
              "          element.appendChild(docLink);\n",
              "        }\n",
              "      </script>\n",
              "    </div>\n",
              "  </div>\n",
              "  "
            ]
          },
          "metadata": {},
          "execution_count": 21
        }
      ],
      "source": [
        "# посмотрим как они выглядят теперь, далее можно будет сравнить как выглядит одно и тоже сравнение в контексте\n",
        "# других вариантов маштабирования силы взаимодействий \n",
        "grouped_df.sample(10)"
      ]
    },
    {
      "cell_type": "code",
      "source": [
        "# посмотрим на одну вакансию в ключе ее взаимодействия с пользователями\n",
        "grouped_df[grouped_df['vacancy_id_'] == 210068].sort_values('eventStrength', ascending=False).head(10)"
      ],
      "metadata": {
        "id": "lIcPy9MRnLrG",
        "colab": {
          "base_uri": "https://localhost:8080/",
          "height": 363
        },
        "outputId": "dd864f56-c7b6-4396-a97e-b871fade0bc5"
      },
      "execution_count": null,
      "outputs": [
        {
          "output_type": "execute_result",
          "data": {
            "text/plain": [
              "                                cookie_id  vacancy_id_  eventStrength\n",
              "4271237  e9647deb68d6489c8f23fd7ff250f18c       210068           33.0\n",
              "562580   1e9223caa87c453da3a102f3020327f7       210068           27.0\n",
              "3160724  ac5710432b184069b1a4c0296fe3e41a       210068           12.0\n",
              "4590495  fb3eebb8cfc54a3085a07e7f47dbed4c       210068           10.0\n",
              "1243846  43de234dae2a41f98f394d8e1e615528       210068            9.0\n",
              "2413147  83572d892cbd4fffbeecc28577eac17a       210068            9.0\n",
              "754056   2901a05b78a0471a9f5ad505ee70168d       210068            9.0\n",
              "1089404  3b435bddcb2c4ab4bb27d22a7c8d488e       210068            9.0\n",
              "312745   110a687ec500431289aa6116974ffc36       210068            9.0\n",
              "3234089  b08259ccb54a4e9b8fe4c5bf2dc0d180       210068            7.0"
            ],
            "text/html": [
              "\n",
              "  <div id=\"df-81d0e9e9-086c-4031-b767-124321e5c47a\">\n",
              "    <div class=\"colab-df-container\">\n",
              "      <div>\n",
              "<style scoped>\n",
              "    .dataframe tbody tr th:only-of-type {\n",
              "        vertical-align: middle;\n",
              "    }\n",
              "\n",
              "    .dataframe tbody tr th {\n",
              "        vertical-align: top;\n",
              "    }\n",
              "\n",
              "    .dataframe thead th {\n",
              "        text-align: right;\n",
              "    }\n",
              "</style>\n",
              "<table border=\"1\" class=\"dataframe\">\n",
              "  <thead>\n",
              "    <tr style=\"text-align: right;\">\n",
              "      <th></th>\n",
              "      <th>cookie_id</th>\n",
              "      <th>vacancy_id_</th>\n",
              "      <th>eventStrength</th>\n",
              "    </tr>\n",
              "  </thead>\n",
              "  <tbody>\n",
              "    <tr>\n",
              "      <th>4271237</th>\n",
              "      <td>e9647deb68d6489c8f23fd7ff250f18c</td>\n",
              "      <td>210068</td>\n",
              "      <td>33.0</td>\n",
              "    </tr>\n",
              "    <tr>\n",
              "      <th>562580</th>\n",
              "      <td>1e9223caa87c453da3a102f3020327f7</td>\n",
              "      <td>210068</td>\n",
              "      <td>27.0</td>\n",
              "    </tr>\n",
              "    <tr>\n",
              "      <th>3160724</th>\n",
              "      <td>ac5710432b184069b1a4c0296fe3e41a</td>\n",
              "      <td>210068</td>\n",
              "      <td>12.0</td>\n",
              "    </tr>\n",
              "    <tr>\n",
              "      <th>4590495</th>\n",
              "      <td>fb3eebb8cfc54a3085a07e7f47dbed4c</td>\n",
              "      <td>210068</td>\n",
              "      <td>10.0</td>\n",
              "    </tr>\n",
              "    <tr>\n",
              "      <th>1243846</th>\n",
              "      <td>43de234dae2a41f98f394d8e1e615528</td>\n",
              "      <td>210068</td>\n",
              "      <td>9.0</td>\n",
              "    </tr>\n",
              "    <tr>\n",
              "      <th>2413147</th>\n",
              "      <td>83572d892cbd4fffbeecc28577eac17a</td>\n",
              "      <td>210068</td>\n",
              "      <td>9.0</td>\n",
              "    </tr>\n",
              "    <tr>\n",
              "      <th>754056</th>\n",
              "      <td>2901a05b78a0471a9f5ad505ee70168d</td>\n",
              "      <td>210068</td>\n",
              "      <td>9.0</td>\n",
              "    </tr>\n",
              "    <tr>\n",
              "      <th>1089404</th>\n",
              "      <td>3b435bddcb2c4ab4bb27d22a7c8d488e</td>\n",
              "      <td>210068</td>\n",
              "      <td>9.0</td>\n",
              "    </tr>\n",
              "    <tr>\n",
              "      <th>312745</th>\n",
              "      <td>110a687ec500431289aa6116974ffc36</td>\n",
              "      <td>210068</td>\n",
              "      <td>9.0</td>\n",
              "    </tr>\n",
              "    <tr>\n",
              "      <th>3234089</th>\n",
              "      <td>b08259ccb54a4e9b8fe4c5bf2dc0d180</td>\n",
              "      <td>210068</td>\n",
              "      <td>7.0</td>\n",
              "    </tr>\n",
              "  </tbody>\n",
              "</table>\n",
              "</div>\n",
              "      <button class=\"colab-df-convert\" onclick=\"convertToInteractive('df-81d0e9e9-086c-4031-b767-124321e5c47a')\"\n",
              "              title=\"Convert this dataframe to an interactive table.\"\n",
              "              style=\"display:none;\">\n",
              "        \n",
              "  <svg xmlns=\"http://www.w3.org/2000/svg\" height=\"24px\"viewBox=\"0 0 24 24\"\n",
              "       width=\"24px\">\n",
              "    <path d=\"M0 0h24v24H0V0z\" fill=\"none\"/>\n",
              "    <path d=\"M18.56 5.44l.94 2.06.94-2.06 2.06-.94-2.06-.94-.94-2.06-.94 2.06-2.06.94zm-11 1L8.5 8.5l.94-2.06 2.06-.94-2.06-.94L8.5 2.5l-.94 2.06-2.06.94zm10 10l.94 2.06.94-2.06 2.06-.94-2.06-.94-.94-2.06-.94 2.06-2.06.94z\"/><path d=\"M17.41 7.96l-1.37-1.37c-.4-.4-.92-.59-1.43-.59-.52 0-1.04.2-1.43.59L10.3 9.45l-7.72 7.72c-.78.78-.78 2.05 0 2.83L4 21.41c.39.39.9.59 1.41.59.51 0 1.02-.2 1.41-.59l7.78-7.78 2.81-2.81c.8-.78.8-2.07 0-2.86zM5.41 20L4 18.59l7.72-7.72 1.47 1.35L5.41 20z\"/>\n",
              "  </svg>\n",
              "      </button>\n",
              "      \n",
              "  <style>\n",
              "    .colab-df-container {\n",
              "      display:flex;\n",
              "      flex-wrap:wrap;\n",
              "      gap: 12px;\n",
              "    }\n",
              "\n",
              "    .colab-df-convert {\n",
              "      background-color: #E8F0FE;\n",
              "      border: none;\n",
              "      border-radius: 50%;\n",
              "      cursor: pointer;\n",
              "      display: none;\n",
              "      fill: #1967D2;\n",
              "      height: 32px;\n",
              "      padding: 0 0 0 0;\n",
              "      width: 32px;\n",
              "    }\n",
              "\n",
              "    .colab-df-convert:hover {\n",
              "      background-color: #E2EBFA;\n",
              "      box-shadow: 0px 1px 2px rgba(60, 64, 67, 0.3), 0px 1px 3px 1px rgba(60, 64, 67, 0.15);\n",
              "      fill: #174EA6;\n",
              "    }\n",
              "\n",
              "    [theme=dark] .colab-df-convert {\n",
              "      background-color: #3B4455;\n",
              "      fill: #D2E3FC;\n",
              "    }\n",
              "\n",
              "    [theme=dark] .colab-df-convert:hover {\n",
              "      background-color: #434B5C;\n",
              "      box-shadow: 0px 1px 3px 1px rgba(0, 0, 0, 0.15);\n",
              "      filter: drop-shadow(0px 1px 2px rgba(0, 0, 0, 0.3));\n",
              "      fill: #FFFFFF;\n",
              "    }\n",
              "  </style>\n",
              "\n",
              "      <script>\n",
              "        const buttonEl =\n",
              "          document.querySelector('#df-81d0e9e9-086c-4031-b767-124321e5c47a button.colab-df-convert');\n",
              "        buttonEl.style.display =\n",
              "          google.colab.kernel.accessAllowed ? 'block' : 'none';\n",
              "\n",
              "        async function convertToInteractive(key) {\n",
              "          const element = document.querySelector('#df-81d0e9e9-086c-4031-b767-124321e5c47a');\n",
              "          const dataTable =\n",
              "            await google.colab.kernel.invokeFunction('convertToInteractive',\n",
              "                                                     [key], {});\n",
              "          if (!dataTable) return;\n",
              "\n",
              "          const docLinkHtml = 'Like what you see? Visit the ' +\n",
              "            '<a target=\"_blank\" href=https://colab.research.google.com/notebooks/data_table.ipynb>data table notebook</a>'\n",
              "            + ' to learn more about interactive tables.';\n",
              "          element.innerHTML = '';\n",
              "          dataTable['output_type'] = 'display_data';\n",
              "          await google.colab.output.renderOutput(dataTable, element);\n",
              "          const docLink = document.createElement('div');\n",
              "          docLink.innerHTML = docLinkHtml;\n",
              "          element.appendChild(docLink);\n",
              "        }\n",
              "      </script>\n",
              "    </div>\n",
              "  </div>\n",
              "  "
            ]
          },
          "metadata": {},
          "execution_count": 22
        }
      ]
    },
    {
      "cell_type": "code",
      "source": [
        "# посмотрим на одного пользователя в ключе его взаимодействия с вакансиями\n",
        "grouped_df[grouped_df['cookie_id'] == 'ac5710432b184069b1a4c0296fe3e41a'].sort_values('eventStrength', ascending=False).head(10)"
      ],
      "metadata": {
        "colab": {
          "base_uri": "https://localhost:8080/",
          "height": 363
        },
        "id": "t-A0s6DYzgwf",
        "outputId": "c950ffa3-6254-48bf-8980-f72bc128db04"
      },
      "execution_count": null,
      "outputs": [
        {
          "output_type": "execute_result",
          "data": {
            "text/plain": [
              "                                cookie_id  vacancy_id_  eventStrength\n",
              "3160729  ac5710432b184069b1a4c0296fe3e41a       221774           38.0\n",
              "3160734  ac5710432b184069b1a4c0296fe3e41a       250491           23.0\n",
              "3160709  ac5710432b184069b1a4c0296fe3e41a       114808           23.0\n",
              "3160716  ac5710432b184069b1a4c0296fe3e41a       168822           23.0\n",
              "3160712  ac5710432b184069b1a4c0296fe3e41a       136830           21.0\n",
              "3160733  ac5710432b184069b1a4c0296fe3e41a       249034           20.0\n",
              "3160723  ac5710432b184069b1a4c0296fe3e41a       195789           20.0\n",
              "3160732  ac5710432b184069b1a4c0296fe3e41a       248398           20.0\n",
              "3160730  ac5710432b184069b1a4c0296fe3e41a       239208           13.0\n",
              "3160724  ac5710432b184069b1a4c0296fe3e41a       210068           12.0"
            ],
            "text/html": [
              "\n",
              "  <div id=\"df-adf6954c-ae24-47be-a341-a9716dc2ff73\">\n",
              "    <div class=\"colab-df-container\">\n",
              "      <div>\n",
              "<style scoped>\n",
              "    .dataframe tbody tr th:only-of-type {\n",
              "        vertical-align: middle;\n",
              "    }\n",
              "\n",
              "    .dataframe tbody tr th {\n",
              "        vertical-align: top;\n",
              "    }\n",
              "\n",
              "    .dataframe thead th {\n",
              "        text-align: right;\n",
              "    }\n",
              "</style>\n",
              "<table border=\"1\" class=\"dataframe\">\n",
              "  <thead>\n",
              "    <tr style=\"text-align: right;\">\n",
              "      <th></th>\n",
              "      <th>cookie_id</th>\n",
              "      <th>vacancy_id_</th>\n",
              "      <th>eventStrength</th>\n",
              "    </tr>\n",
              "  </thead>\n",
              "  <tbody>\n",
              "    <tr>\n",
              "      <th>3160729</th>\n",
              "      <td>ac5710432b184069b1a4c0296fe3e41a</td>\n",
              "      <td>221774</td>\n",
              "      <td>38.0</td>\n",
              "    </tr>\n",
              "    <tr>\n",
              "      <th>3160734</th>\n",
              "      <td>ac5710432b184069b1a4c0296fe3e41a</td>\n",
              "      <td>250491</td>\n",
              "      <td>23.0</td>\n",
              "    </tr>\n",
              "    <tr>\n",
              "      <th>3160709</th>\n",
              "      <td>ac5710432b184069b1a4c0296fe3e41a</td>\n",
              "      <td>114808</td>\n",
              "      <td>23.0</td>\n",
              "    </tr>\n",
              "    <tr>\n",
              "      <th>3160716</th>\n",
              "      <td>ac5710432b184069b1a4c0296fe3e41a</td>\n",
              "      <td>168822</td>\n",
              "      <td>23.0</td>\n",
              "    </tr>\n",
              "    <tr>\n",
              "      <th>3160712</th>\n",
              "      <td>ac5710432b184069b1a4c0296fe3e41a</td>\n",
              "      <td>136830</td>\n",
              "      <td>21.0</td>\n",
              "    </tr>\n",
              "    <tr>\n",
              "      <th>3160733</th>\n",
              "      <td>ac5710432b184069b1a4c0296fe3e41a</td>\n",
              "      <td>249034</td>\n",
              "      <td>20.0</td>\n",
              "    </tr>\n",
              "    <tr>\n",
              "      <th>3160723</th>\n",
              "      <td>ac5710432b184069b1a4c0296fe3e41a</td>\n",
              "      <td>195789</td>\n",
              "      <td>20.0</td>\n",
              "    </tr>\n",
              "    <tr>\n",
              "      <th>3160732</th>\n",
              "      <td>ac5710432b184069b1a4c0296fe3e41a</td>\n",
              "      <td>248398</td>\n",
              "      <td>20.0</td>\n",
              "    </tr>\n",
              "    <tr>\n",
              "      <th>3160730</th>\n",
              "      <td>ac5710432b184069b1a4c0296fe3e41a</td>\n",
              "      <td>239208</td>\n",
              "      <td>13.0</td>\n",
              "    </tr>\n",
              "    <tr>\n",
              "      <th>3160724</th>\n",
              "      <td>ac5710432b184069b1a4c0296fe3e41a</td>\n",
              "      <td>210068</td>\n",
              "      <td>12.0</td>\n",
              "    </tr>\n",
              "  </tbody>\n",
              "</table>\n",
              "</div>\n",
              "      <button class=\"colab-df-convert\" onclick=\"convertToInteractive('df-adf6954c-ae24-47be-a341-a9716dc2ff73')\"\n",
              "              title=\"Convert this dataframe to an interactive table.\"\n",
              "              style=\"display:none;\">\n",
              "        \n",
              "  <svg xmlns=\"http://www.w3.org/2000/svg\" height=\"24px\"viewBox=\"0 0 24 24\"\n",
              "       width=\"24px\">\n",
              "    <path d=\"M0 0h24v24H0V0z\" fill=\"none\"/>\n",
              "    <path d=\"M18.56 5.44l.94 2.06.94-2.06 2.06-.94-2.06-.94-.94-2.06-.94 2.06-2.06.94zm-11 1L8.5 8.5l.94-2.06 2.06-.94-2.06-.94L8.5 2.5l-.94 2.06-2.06.94zm10 10l.94 2.06.94-2.06 2.06-.94-2.06-.94-.94-2.06-.94 2.06-2.06.94z\"/><path d=\"M17.41 7.96l-1.37-1.37c-.4-.4-.92-.59-1.43-.59-.52 0-1.04.2-1.43.59L10.3 9.45l-7.72 7.72c-.78.78-.78 2.05 0 2.83L4 21.41c.39.39.9.59 1.41.59.51 0 1.02-.2 1.41-.59l7.78-7.78 2.81-2.81c.8-.78.8-2.07 0-2.86zM5.41 20L4 18.59l7.72-7.72 1.47 1.35L5.41 20z\"/>\n",
              "  </svg>\n",
              "      </button>\n",
              "      \n",
              "  <style>\n",
              "    .colab-df-container {\n",
              "      display:flex;\n",
              "      flex-wrap:wrap;\n",
              "      gap: 12px;\n",
              "    }\n",
              "\n",
              "    .colab-df-convert {\n",
              "      background-color: #E8F0FE;\n",
              "      border: none;\n",
              "      border-radius: 50%;\n",
              "      cursor: pointer;\n",
              "      display: none;\n",
              "      fill: #1967D2;\n",
              "      height: 32px;\n",
              "      padding: 0 0 0 0;\n",
              "      width: 32px;\n",
              "    }\n",
              "\n",
              "    .colab-df-convert:hover {\n",
              "      background-color: #E2EBFA;\n",
              "      box-shadow: 0px 1px 2px rgba(60, 64, 67, 0.3), 0px 1px 3px 1px rgba(60, 64, 67, 0.15);\n",
              "      fill: #174EA6;\n",
              "    }\n",
              "\n",
              "    [theme=dark] .colab-df-convert {\n",
              "      background-color: #3B4455;\n",
              "      fill: #D2E3FC;\n",
              "    }\n",
              "\n",
              "    [theme=dark] .colab-df-convert:hover {\n",
              "      background-color: #434B5C;\n",
              "      box-shadow: 0px 1px 3px 1px rgba(0, 0, 0, 0.15);\n",
              "      filter: drop-shadow(0px 1px 2px rgba(0, 0, 0, 0.3));\n",
              "      fill: #FFFFFF;\n",
              "    }\n",
              "  </style>\n",
              "\n",
              "      <script>\n",
              "        const buttonEl =\n",
              "          document.querySelector('#df-adf6954c-ae24-47be-a341-a9716dc2ff73 button.colab-df-convert');\n",
              "        buttonEl.style.display =\n",
              "          google.colab.kernel.accessAllowed ? 'block' : 'none';\n",
              "\n",
              "        async function convertToInteractive(key) {\n",
              "          const element = document.querySelector('#df-adf6954c-ae24-47be-a341-a9716dc2ff73');\n",
              "          const dataTable =\n",
              "            await google.colab.kernel.invokeFunction('convertToInteractive',\n",
              "                                                     [key], {});\n",
              "          if (!dataTable) return;\n",
              "\n",
              "          const docLinkHtml = 'Like what you see? Visit the ' +\n",
              "            '<a target=\"_blank\" href=https://colab.research.google.com/notebooks/data_table.ipynb>data table notebook</a>'\n",
              "            + ' to learn more about interactive tables.';\n",
              "          element.innerHTML = '';\n",
              "          dataTable['output_type'] = 'display_data';\n",
              "          await google.colab.output.renderOutput(dataTable, element);\n",
              "          const docLink = document.createElement('div');\n",
              "          docLink.innerHTML = docLinkHtml;\n",
              "          element.appendChild(docLink);\n",
              "        }\n",
              "      </script>\n",
              "    </div>\n",
              "  </div>\n",
              "  "
            ]
          },
          "metadata": {},
          "execution_count": 23
        }
      ]
    },
    {
      "cell_type": "markdown",
      "source": [
        "Вот к этому блоку нужно подойти очень внимательно - это выделение категориальных и числовых столбцов, в первых прогонах мы обошлись вот таким вариантом, но можно будет посмотреть и выделение нумированных вакансий (у нас в матрице с 0 до 100 000 значений нет, а номера есть, но может этого и ничего страшного)\n",
        "\n",
        "---"
      ],
      "metadata": {
        "id": "d6HYg_5FysLz"
      }
    },
    {
      "cell_type": "code",
      "execution_count": null,
      "metadata": {
        "id": "Hj8ItCotrTjI"
      },
      "outputs": [],
      "source": [
        "grouped_df['cookie_id'] = grouped_df['cookie_id'].astype(\"category\") # наименование вакансии в категорию\n",
        "#grouped_df['vacancy_id_'] = grouped_df['vacancy_id_'].astype(\"category\") # наименование вакансии в категорию"
      ]
    },
    {
      "cell_type": "code",
      "source": [
        "grouped_df['cookie_id_num'] = grouped_df['cookie_id'].cat.codes # вот тут выделяем числовые значения\n",
        "#grouped_df['vacancy_id_num'] = grouped_df['vacancy_id_'].cat.codes # и вот тут выделим"
      ],
      "metadata": {
        "id": "X0SCKJ88o_dv"
      },
      "execution_count": null,
      "outputs": []
    },
    {
      "cell_type": "markdown",
      "metadata": {
        "id": "HmSEG1NnQr3a"
      },
      "source": [
        "Продолжаем готовить данные для разряженных матриц\n",
        "\n",
        "---"
      ]
    },
    {
      "cell_type": "code",
      "source": [
        "#grouped_df = grouped_df[['cookie_id', 'cookie_id_num', 'vacancy_id_', 'vacancy_id_num', 'eventStrength']]"
      ],
      "metadata": {
        "id": "oFGgBM8Dy7UM"
      },
      "execution_count": null,
      "outputs": []
    },
    {
      "cell_type": "code",
      "source": [
        "grouped_df = grouped_df[['cookie_id', 'cookie_id_num', 'vacancy_id_', 'eventStrength']]"
      ],
      "metadata": {
        "id": "L5qwt3uP0822"
      },
      "execution_count": null,
      "outputs": []
    },
    {
      "cell_type": "code",
      "source": [
        "#data = grouped_df[['cookie_id_num', 'vacancy_id_num', 'eventStrength']]"
      ],
      "metadata": {
        "id": "tk6Zs1efpFjm"
      },
      "execution_count": null,
      "outputs": []
    },
    {
      "cell_type": "code",
      "source": [
        "# В этом варианте кода мы пробуем запускать в матрицу номера вакансий которые нам дали изначально, что бы с ними потом не мучатся\n",
        "data = grouped_df[['cookie_id_num', 'vacancy_id_', 'eventStrength']]"
      ],
      "metadata": {
        "id": "dA3bGK1_1KHn"
      },
      "execution_count": null,
      "outputs": []
    },
    {
      "cell_type": "markdown",
      "source": [
        "Вот тут стоит подумать о нормализации данных и вообще нужна ли она? Это второй исследовательский блок давайте пробовавать разную нормализацию"
      ],
      "metadata": {
        "id": "PpGQc_gEF4fw"
      }
    },
    {
      "cell_type": "code",
      "source": [
        "data['eventStrength_norm'] = (data['eventStrength'] - data['eventStrength'].mean()) / data['eventStrength'].std()"
      ],
      "metadata": {
        "id": "tgeFDHKcF5fQ"
      },
      "execution_count": null,
      "outputs": []
    },
    {
      "cell_type": "code",
      "source": [
        "data.head() # мне кажется минусы нам не нужны будут проверю другую"
      ],
      "metadata": {
        "colab": {
          "base_uri": "https://localhost:8080/",
          "height": 206
        },
        "id": "FpPIHeb_HV4u",
        "outputId": "b34e1f41-18a6-49d0-dd5a-d97d15f7f386"
      },
      "execution_count": null,
      "outputs": [
        {
          "output_type": "execute_result",
          "data": {
            "text/plain": [
              "   cookie_id_num  vacancy_id_  eventStrength  eventStrength_norm\n",
              "0              0       137659            3.0           -0.319517\n",
              "1              0       153975            3.0           -0.319517\n",
              "2              0       174953            9.0            0.771015\n",
              "3              0       176171            3.0           -0.319517\n",
              "4              0       182445            6.0            0.225749"
            ],
            "text/html": [
              "\n",
              "  <div id=\"df-e82a7385-e29f-4b1e-a9cb-54dcc4a305fc\">\n",
              "    <div class=\"colab-df-container\">\n",
              "      <div>\n",
              "<style scoped>\n",
              "    .dataframe tbody tr th:only-of-type {\n",
              "        vertical-align: middle;\n",
              "    }\n",
              "\n",
              "    .dataframe tbody tr th {\n",
              "        vertical-align: top;\n",
              "    }\n",
              "\n",
              "    .dataframe thead th {\n",
              "        text-align: right;\n",
              "    }\n",
              "</style>\n",
              "<table border=\"1\" class=\"dataframe\">\n",
              "  <thead>\n",
              "    <tr style=\"text-align: right;\">\n",
              "      <th></th>\n",
              "      <th>cookie_id_num</th>\n",
              "      <th>vacancy_id_</th>\n",
              "      <th>eventStrength</th>\n",
              "      <th>eventStrength_norm</th>\n",
              "    </tr>\n",
              "  </thead>\n",
              "  <tbody>\n",
              "    <tr>\n",
              "      <th>0</th>\n",
              "      <td>0</td>\n",
              "      <td>137659</td>\n",
              "      <td>3.0</td>\n",
              "      <td>-0.319517</td>\n",
              "    </tr>\n",
              "    <tr>\n",
              "      <th>1</th>\n",
              "      <td>0</td>\n",
              "      <td>153975</td>\n",
              "      <td>3.0</td>\n",
              "      <td>-0.319517</td>\n",
              "    </tr>\n",
              "    <tr>\n",
              "      <th>2</th>\n",
              "      <td>0</td>\n",
              "      <td>174953</td>\n",
              "      <td>9.0</td>\n",
              "      <td>0.771015</td>\n",
              "    </tr>\n",
              "    <tr>\n",
              "      <th>3</th>\n",
              "      <td>0</td>\n",
              "      <td>176171</td>\n",
              "      <td>3.0</td>\n",
              "      <td>-0.319517</td>\n",
              "    </tr>\n",
              "    <tr>\n",
              "      <th>4</th>\n",
              "      <td>0</td>\n",
              "      <td>182445</td>\n",
              "      <td>6.0</td>\n",
              "      <td>0.225749</td>\n",
              "    </tr>\n",
              "  </tbody>\n",
              "</table>\n",
              "</div>\n",
              "      <button class=\"colab-df-convert\" onclick=\"convertToInteractive('df-e82a7385-e29f-4b1e-a9cb-54dcc4a305fc')\"\n",
              "              title=\"Convert this dataframe to an interactive table.\"\n",
              "              style=\"display:none;\">\n",
              "        \n",
              "  <svg xmlns=\"http://www.w3.org/2000/svg\" height=\"24px\"viewBox=\"0 0 24 24\"\n",
              "       width=\"24px\">\n",
              "    <path d=\"M0 0h24v24H0V0z\" fill=\"none\"/>\n",
              "    <path d=\"M18.56 5.44l.94 2.06.94-2.06 2.06-.94-2.06-.94-.94-2.06-.94 2.06-2.06.94zm-11 1L8.5 8.5l.94-2.06 2.06-.94-2.06-.94L8.5 2.5l-.94 2.06-2.06.94zm10 10l.94 2.06.94-2.06 2.06-.94-2.06-.94-.94-2.06-.94 2.06-2.06.94z\"/><path d=\"M17.41 7.96l-1.37-1.37c-.4-.4-.92-.59-1.43-.59-.52 0-1.04.2-1.43.59L10.3 9.45l-7.72 7.72c-.78.78-.78 2.05 0 2.83L4 21.41c.39.39.9.59 1.41.59.51 0 1.02-.2 1.41-.59l7.78-7.78 2.81-2.81c.8-.78.8-2.07 0-2.86zM5.41 20L4 18.59l7.72-7.72 1.47 1.35L5.41 20z\"/>\n",
              "  </svg>\n",
              "      </button>\n",
              "      \n",
              "  <style>\n",
              "    .colab-df-container {\n",
              "      display:flex;\n",
              "      flex-wrap:wrap;\n",
              "      gap: 12px;\n",
              "    }\n",
              "\n",
              "    .colab-df-convert {\n",
              "      background-color: #E8F0FE;\n",
              "      border: none;\n",
              "      border-radius: 50%;\n",
              "      cursor: pointer;\n",
              "      display: none;\n",
              "      fill: #1967D2;\n",
              "      height: 32px;\n",
              "      padding: 0 0 0 0;\n",
              "      width: 32px;\n",
              "    }\n",
              "\n",
              "    .colab-df-convert:hover {\n",
              "      background-color: #E2EBFA;\n",
              "      box-shadow: 0px 1px 2px rgba(60, 64, 67, 0.3), 0px 1px 3px 1px rgba(60, 64, 67, 0.15);\n",
              "      fill: #174EA6;\n",
              "    }\n",
              "\n",
              "    [theme=dark] .colab-df-convert {\n",
              "      background-color: #3B4455;\n",
              "      fill: #D2E3FC;\n",
              "    }\n",
              "\n",
              "    [theme=dark] .colab-df-convert:hover {\n",
              "      background-color: #434B5C;\n",
              "      box-shadow: 0px 1px 3px 1px rgba(0, 0, 0, 0.15);\n",
              "      filter: drop-shadow(0px 1px 2px rgba(0, 0, 0, 0.3));\n",
              "      fill: #FFFFFF;\n",
              "    }\n",
              "  </style>\n",
              "\n",
              "      <script>\n",
              "        const buttonEl =\n",
              "          document.querySelector('#df-e82a7385-e29f-4b1e-a9cb-54dcc4a305fc button.colab-df-convert');\n",
              "        buttonEl.style.display =\n",
              "          google.colab.kernel.accessAllowed ? 'block' : 'none';\n",
              "\n",
              "        async function convertToInteractive(key) {\n",
              "          const element = document.querySelector('#df-e82a7385-e29f-4b1e-a9cb-54dcc4a305fc');\n",
              "          const dataTable =\n",
              "            await google.colab.kernel.invokeFunction('convertToInteractive',\n",
              "                                                     [key], {});\n",
              "          if (!dataTable) return;\n",
              "\n",
              "          const docLinkHtml = 'Like what you see? Visit the ' +\n",
              "            '<a target=\"_blank\" href=https://colab.research.google.com/notebooks/data_table.ipynb>data table notebook</a>'\n",
              "            + ' to learn more about interactive tables.';\n",
              "          element.innerHTML = '';\n",
              "          dataTable['output_type'] = 'display_data';\n",
              "          await google.colab.output.renderOutput(dataTable, element);\n",
              "          const docLink = document.createElement('div');\n",
              "          docLink.innerHTML = docLinkHtml;\n",
              "          element.appendChild(docLink);\n",
              "        }\n",
              "      </script>\n",
              "    </div>\n",
              "  </div>\n",
              "  "
            ]
          },
          "metadata": {},
          "execution_count": 33
        }
      ]
    },
    {
      "cell_type": "code",
      "source": [
        "data['eventStrength_norm'] = (data['eventStrength'] - data['eventStrength'].min()) / (data['eventStrength'].max() - data['eventStrength'].min())"
      ],
      "metadata": {
        "id": "fYu3SD4yGUs4"
      },
      "execution_count": null,
      "outputs": []
    },
    {
      "cell_type": "code",
      "source": [
        "data.head() # мне кажется минусы нам не нужны будут проверю другую\n",
        "# Вот этот датафрейм пойдет в матрицы (в следующий прогон загоним с нормализацией)"
      ],
      "metadata": {
        "colab": {
          "base_uri": "https://localhost:8080/",
          "height": 206
        },
        "id": "hC_GLeS7GUqW",
        "outputId": "dc3549e2-368d-4c25-ba6d-37aaaf160fbc"
      },
      "execution_count": null,
      "outputs": [
        {
          "output_type": "execute_result",
          "data": {
            "text/plain": [
              "   cookie_id_num  vacancy_id_  eventStrength  eventStrength_norm\n",
              "0              0       137659            3.0            0.002714\n",
              "1              0       153975            3.0            0.002714\n",
              "2              0       174953            9.0            0.010855\n",
              "3              0       176171            3.0            0.002714\n",
              "4              0       182445            6.0            0.006784"
            ],
            "text/html": [
              "\n",
              "  <div id=\"df-c745b88c-e78c-4601-a901-84453412eb6f\">\n",
              "    <div class=\"colab-df-container\">\n",
              "      <div>\n",
              "<style scoped>\n",
              "    .dataframe tbody tr th:only-of-type {\n",
              "        vertical-align: middle;\n",
              "    }\n",
              "\n",
              "    .dataframe tbody tr th {\n",
              "        vertical-align: top;\n",
              "    }\n",
              "\n",
              "    .dataframe thead th {\n",
              "        text-align: right;\n",
              "    }\n",
              "</style>\n",
              "<table border=\"1\" class=\"dataframe\">\n",
              "  <thead>\n",
              "    <tr style=\"text-align: right;\">\n",
              "      <th></th>\n",
              "      <th>cookie_id_num</th>\n",
              "      <th>vacancy_id_</th>\n",
              "      <th>eventStrength</th>\n",
              "      <th>eventStrength_norm</th>\n",
              "    </tr>\n",
              "  </thead>\n",
              "  <tbody>\n",
              "    <tr>\n",
              "      <th>0</th>\n",
              "      <td>0</td>\n",
              "      <td>137659</td>\n",
              "      <td>3.0</td>\n",
              "      <td>0.002714</td>\n",
              "    </tr>\n",
              "    <tr>\n",
              "      <th>1</th>\n",
              "      <td>0</td>\n",
              "      <td>153975</td>\n",
              "      <td>3.0</td>\n",
              "      <td>0.002714</td>\n",
              "    </tr>\n",
              "    <tr>\n",
              "      <th>2</th>\n",
              "      <td>0</td>\n",
              "      <td>174953</td>\n",
              "      <td>9.0</td>\n",
              "      <td>0.010855</td>\n",
              "    </tr>\n",
              "    <tr>\n",
              "      <th>3</th>\n",
              "      <td>0</td>\n",
              "      <td>176171</td>\n",
              "      <td>3.0</td>\n",
              "      <td>0.002714</td>\n",
              "    </tr>\n",
              "    <tr>\n",
              "      <th>4</th>\n",
              "      <td>0</td>\n",
              "      <td>182445</td>\n",
              "      <td>6.0</td>\n",
              "      <td>0.006784</td>\n",
              "    </tr>\n",
              "  </tbody>\n",
              "</table>\n",
              "</div>\n",
              "      <button class=\"colab-df-convert\" onclick=\"convertToInteractive('df-c745b88c-e78c-4601-a901-84453412eb6f')\"\n",
              "              title=\"Convert this dataframe to an interactive table.\"\n",
              "              style=\"display:none;\">\n",
              "        \n",
              "  <svg xmlns=\"http://www.w3.org/2000/svg\" height=\"24px\"viewBox=\"0 0 24 24\"\n",
              "       width=\"24px\">\n",
              "    <path d=\"M0 0h24v24H0V0z\" fill=\"none\"/>\n",
              "    <path d=\"M18.56 5.44l.94 2.06.94-2.06 2.06-.94-2.06-.94-.94-2.06-.94 2.06-2.06.94zm-11 1L8.5 8.5l.94-2.06 2.06-.94-2.06-.94L8.5 2.5l-.94 2.06-2.06.94zm10 10l.94 2.06.94-2.06 2.06-.94-2.06-.94-.94-2.06-.94 2.06-2.06.94z\"/><path d=\"M17.41 7.96l-1.37-1.37c-.4-.4-.92-.59-1.43-.59-.52 0-1.04.2-1.43.59L10.3 9.45l-7.72 7.72c-.78.78-.78 2.05 0 2.83L4 21.41c.39.39.9.59 1.41.59.51 0 1.02-.2 1.41-.59l7.78-7.78 2.81-2.81c.8-.78.8-2.07 0-2.86zM5.41 20L4 18.59l7.72-7.72 1.47 1.35L5.41 20z\"/>\n",
              "  </svg>\n",
              "      </button>\n",
              "      \n",
              "  <style>\n",
              "    .colab-df-container {\n",
              "      display:flex;\n",
              "      flex-wrap:wrap;\n",
              "      gap: 12px;\n",
              "    }\n",
              "\n",
              "    .colab-df-convert {\n",
              "      background-color: #E8F0FE;\n",
              "      border: none;\n",
              "      border-radius: 50%;\n",
              "      cursor: pointer;\n",
              "      display: none;\n",
              "      fill: #1967D2;\n",
              "      height: 32px;\n",
              "      padding: 0 0 0 0;\n",
              "      width: 32px;\n",
              "    }\n",
              "\n",
              "    .colab-df-convert:hover {\n",
              "      background-color: #E2EBFA;\n",
              "      box-shadow: 0px 1px 2px rgba(60, 64, 67, 0.3), 0px 1px 3px 1px rgba(60, 64, 67, 0.15);\n",
              "      fill: #174EA6;\n",
              "    }\n",
              "\n",
              "    [theme=dark] .colab-df-convert {\n",
              "      background-color: #3B4455;\n",
              "      fill: #D2E3FC;\n",
              "    }\n",
              "\n",
              "    [theme=dark] .colab-df-convert:hover {\n",
              "      background-color: #434B5C;\n",
              "      box-shadow: 0px 1px 3px 1px rgba(0, 0, 0, 0.15);\n",
              "      filter: drop-shadow(0px 1px 2px rgba(0, 0, 0, 0.3));\n",
              "      fill: #FFFFFF;\n",
              "    }\n",
              "  </style>\n",
              "\n",
              "      <script>\n",
              "        const buttonEl =\n",
              "          document.querySelector('#df-c745b88c-e78c-4601-a901-84453412eb6f button.colab-df-convert');\n",
              "        buttonEl.style.display =\n",
              "          google.colab.kernel.accessAllowed ? 'block' : 'none';\n",
              "\n",
              "        async function convertToInteractive(key) {\n",
              "          const element = document.querySelector('#df-c745b88c-e78c-4601-a901-84453412eb6f');\n",
              "          const dataTable =\n",
              "            await google.colab.kernel.invokeFunction('convertToInteractive',\n",
              "                                                     [key], {});\n",
              "          if (!dataTable) return;\n",
              "\n",
              "          const docLinkHtml = 'Like what you see? Visit the ' +\n",
              "            '<a target=\"_blank\" href=https://colab.research.google.com/notebooks/data_table.ipynb>data table notebook</a>'\n",
              "            + ' to learn more about interactive tables.';\n",
              "          element.innerHTML = '';\n",
              "          dataTable['output_type'] = 'display_data';\n",
              "          await google.colab.output.renderOutput(dataTable, element);\n",
              "          const docLink = document.createElement('div');\n",
              "          docLink.innerHTML = docLinkHtml;\n",
              "          element.appendChild(docLink);\n",
              "        }\n",
              "      </script>\n",
              "    </div>\n",
              "  </div>\n",
              "  "
            ]
          },
          "metadata": {},
          "execution_count": 35
        }
      ]
    },
    {
      "cell_type": "code",
      "execution_count": null,
      "metadata": {
        "id": "TOMAvk3brTjJ",
        "outputId": "9d4b1787-54a2-4368-e851-ef7cc5a1894f",
        "colab": {
          "base_uri": "https://localhost:8080/",
          "height": 363
        }
      },
      "outputs": [
        {
          "output_type": "execute_result",
          "data": {
            "text/plain": [
              "                          cookie_id  cookie_id_num  vacancy_id_  eventStrength\n",
              "0  0000c4548c3944c08972bbdc1fa4eb85              0       137659            3.0\n",
              "1  0000c4548c3944c08972bbdc1fa4eb85              0       153975            3.0\n",
              "2  0000c4548c3944c08972bbdc1fa4eb85              0       174953            9.0\n",
              "3  0000c4548c3944c08972bbdc1fa4eb85              0       176171            3.0\n",
              "4  0000c4548c3944c08972bbdc1fa4eb85              0       182445            6.0\n",
              "5  0000c4548c3944c08972bbdc1fa4eb85              0       187529            3.0\n",
              "6  0000d7508334414ca792c5ff66eb8c14              1       106676            3.0\n",
              "7  0000d7508334414ca792c5ff66eb8c14              1       108690            3.0\n",
              "8  0000d7508334414ca792c5ff66eb8c14              1       115744            3.0\n",
              "9  0000d7508334414ca792c5ff66eb8c14              1       169615            3.0"
            ],
            "text/html": [
              "\n",
              "  <div id=\"df-991ce4c9-fe74-46aa-93c9-67d25ee3524c\">\n",
              "    <div class=\"colab-df-container\">\n",
              "      <div>\n",
              "<style scoped>\n",
              "    .dataframe tbody tr th:only-of-type {\n",
              "        vertical-align: middle;\n",
              "    }\n",
              "\n",
              "    .dataframe tbody tr th {\n",
              "        vertical-align: top;\n",
              "    }\n",
              "\n",
              "    .dataframe thead th {\n",
              "        text-align: right;\n",
              "    }\n",
              "</style>\n",
              "<table border=\"1\" class=\"dataframe\">\n",
              "  <thead>\n",
              "    <tr style=\"text-align: right;\">\n",
              "      <th></th>\n",
              "      <th>cookie_id</th>\n",
              "      <th>cookie_id_num</th>\n",
              "      <th>vacancy_id_</th>\n",
              "      <th>eventStrength</th>\n",
              "    </tr>\n",
              "  </thead>\n",
              "  <tbody>\n",
              "    <tr>\n",
              "      <th>0</th>\n",
              "      <td>0000c4548c3944c08972bbdc1fa4eb85</td>\n",
              "      <td>0</td>\n",
              "      <td>137659</td>\n",
              "      <td>3.0</td>\n",
              "    </tr>\n",
              "    <tr>\n",
              "      <th>1</th>\n",
              "      <td>0000c4548c3944c08972bbdc1fa4eb85</td>\n",
              "      <td>0</td>\n",
              "      <td>153975</td>\n",
              "      <td>3.0</td>\n",
              "    </tr>\n",
              "    <tr>\n",
              "      <th>2</th>\n",
              "      <td>0000c4548c3944c08972bbdc1fa4eb85</td>\n",
              "      <td>0</td>\n",
              "      <td>174953</td>\n",
              "      <td>9.0</td>\n",
              "    </tr>\n",
              "    <tr>\n",
              "      <th>3</th>\n",
              "      <td>0000c4548c3944c08972bbdc1fa4eb85</td>\n",
              "      <td>0</td>\n",
              "      <td>176171</td>\n",
              "      <td>3.0</td>\n",
              "    </tr>\n",
              "    <tr>\n",
              "      <th>4</th>\n",
              "      <td>0000c4548c3944c08972bbdc1fa4eb85</td>\n",
              "      <td>0</td>\n",
              "      <td>182445</td>\n",
              "      <td>6.0</td>\n",
              "    </tr>\n",
              "    <tr>\n",
              "      <th>5</th>\n",
              "      <td>0000c4548c3944c08972bbdc1fa4eb85</td>\n",
              "      <td>0</td>\n",
              "      <td>187529</td>\n",
              "      <td>3.0</td>\n",
              "    </tr>\n",
              "    <tr>\n",
              "      <th>6</th>\n",
              "      <td>0000d7508334414ca792c5ff66eb8c14</td>\n",
              "      <td>1</td>\n",
              "      <td>106676</td>\n",
              "      <td>3.0</td>\n",
              "    </tr>\n",
              "    <tr>\n",
              "      <th>7</th>\n",
              "      <td>0000d7508334414ca792c5ff66eb8c14</td>\n",
              "      <td>1</td>\n",
              "      <td>108690</td>\n",
              "      <td>3.0</td>\n",
              "    </tr>\n",
              "    <tr>\n",
              "      <th>8</th>\n",
              "      <td>0000d7508334414ca792c5ff66eb8c14</td>\n",
              "      <td>1</td>\n",
              "      <td>115744</td>\n",
              "      <td>3.0</td>\n",
              "    </tr>\n",
              "    <tr>\n",
              "      <th>9</th>\n",
              "      <td>0000d7508334414ca792c5ff66eb8c14</td>\n",
              "      <td>1</td>\n",
              "      <td>169615</td>\n",
              "      <td>3.0</td>\n",
              "    </tr>\n",
              "  </tbody>\n",
              "</table>\n",
              "</div>\n",
              "      <button class=\"colab-df-convert\" onclick=\"convertToInteractive('df-991ce4c9-fe74-46aa-93c9-67d25ee3524c')\"\n",
              "              title=\"Convert this dataframe to an interactive table.\"\n",
              "              style=\"display:none;\">\n",
              "        \n",
              "  <svg xmlns=\"http://www.w3.org/2000/svg\" height=\"24px\"viewBox=\"0 0 24 24\"\n",
              "       width=\"24px\">\n",
              "    <path d=\"M0 0h24v24H0V0z\" fill=\"none\"/>\n",
              "    <path d=\"M18.56 5.44l.94 2.06.94-2.06 2.06-.94-2.06-.94-.94-2.06-.94 2.06-2.06.94zm-11 1L8.5 8.5l.94-2.06 2.06-.94-2.06-.94L8.5 2.5l-.94 2.06-2.06.94zm10 10l.94 2.06.94-2.06 2.06-.94-2.06-.94-.94-2.06-.94 2.06-2.06.94z\"/><path d=\"M17.41 7.96l-1.37-1.37c-.4-.4-.92-.59-1.43-.59-.52 0-1.04.2-1.43.59L10.3 9.45l-7.72 7.72c-.78.78-.78 2.05 0 2.83L4 21.41c.39.39.9.59 1.41.59.51 0 1.02-.2 1.41-.59l7.78-7.78 2.81-2.81c.8-.78.8-2.07 0-2.86zM5.41 20L4 18.59l7.72-7.72 1.47 1.35L5.41 20z\"/>\n",
              "  </svg>\n",
              "      </button>\n",
              "      \n",
              "  <style>\n",
              "    .colab-df-container {\n",
              "      display:flex;\n",
              "      flex-wrap:wrap;\n",
              "      gap: 12px;\n",
              "    }\n",
              "\n",
              "    .colab-df-convert {\n",
              "      background-color: #E8F0FE;\n",
              "      border: none;\n",
              "      border-radius: 50%;\n",
              "      cursor: pointer;\n",
              "      display: none;\n",
              "      fill: #1967D2;\n",
              "      height: 32px;\n",
              "      padding: 0 0 0 0;\n",
              "      width: 32px;\n",
              "    }\n",
              "\n",
              "    .colab-df-convert:hover {\n",
              "      background-color: #E2EBFA;\n",
              "      box-shadow: 0px 1px 2px rgba(60, 64, 67, 0.3), 0px 1px 3px 1px rgba(60, 64, 67, 0.15);\n",
              "      fill: #174EA6;\n",
              "    }\n",
              "\n",
              "    [theme=dark] .colab-df-convert {\n",
              "      background-color: #3B4455;\n",
              "      fill: #D2E3FC;\n",
              "    }\n",
              "\n",
              "    [theme=dark] .colab-df-convert:hover {\n",
              "      background-color: #434B5C;\n",
              "      box-shadow: 0px 1px 3px 1px rgba(0, 0, 0, 0.15);\n",
              "      filter: drop-shadow(0px 1px 2px rgba(0, 0, 0, 0.3));\n",
              "      fill: #FFFFFF;\n",
              "    }\n",
              "  </style>\n",
              "\n",
              "      <script>\n",
              "        const buttonEl =\n",
              "          document.querySelector('#df-991ce4c9-fe74-46aa-93c9-67d25ee3524c button.colab-df-convert');\n",
              "        buttonEl.style.display =\n",
              "          google.colab.kernel.accessAllowed ? 'block' : 'none';\n",
              "\n",
              "        async function convertToInteractive(key) {\n",
              "          const element = document.querySelector('#df-991ce4c9-fe74-46aa-93c9-67d25ee3524c');\n",
              "          const dataTable =\n",
              "            await google.colab.kernel.invokeFunction('convertToInteractive',\n",
              "                                                     [key], {});\n",
              "          if (!dataTable) return;\n",
              "\n",
              "          const docLinkHtml = 'Like what you see? Visit the ' +\n",
              "            '<a target=\"_blank\" href=https://colab.research.google.com/notebooks/data_table.ipynb>data table notebook</a>'\n",
              "            + ' to learn more about interactive tables.';\n",
              "          element.innerHTML = '';\n",
              "          dataTable['output_type'] = 'display_data';\n",
              "          await google.colab.output.renderOutput(dataTable, element);\n",
              "          const docLink = document.createElement('div');\n",
              "          docLink.innerHTML = docLinkHtml;\n",
              "          element.appendChild(docLink);\n",
              "        }\n",
              "      </script>\n",
              "    </div>\n",
              "  </div>\n",
              "  "
            ]
          },
          "metadata": {},
          "execution_count": 36
        }
      ],
      "source": [
        "# а вот это остается нашим базовым информационным датафреймом\n",
        "grouped_df.head(10)"
      ]
    },
    {
      "cell_type": "markdown",
      "source": [
        "Вот в этом блоке мы должны соотнести наш цифровой номер cookie со строчным, для вывода ответов\n",
        "\n",
        "---"
      ],
      "metadata": {
        "id": "C4PdXK49zweT"
      }
    },
    {
      "cell_type": "markdown",
      "source": [
        "Первый вариант работает на словарях"
      ],
      "metadata": {
        "id": "g8YThcNXABO2"
      }
    },
    {
      "cell_type": "code",
      "source": [
        "# кодируем числами все наши cookie_id\n",
        "codes = grouped_df.cookie_id.astype('category')\n",
        "# создаем словарик в котором ключ это код а значение текстовое поле cookie_id\n",
        "cookie_dic = dict(enumerate(codes.cat.categories))\n",
        "print (cookie_dic[4])"
      ],
      "metadata": {
        "colab": {
          "base_uri": "https://localhost:8080/"
        },
        "id": "-B8hptiR755e",
        "outputId": "3bbc27b3-c447-40c0-d6d4-9049b350a5b6"
      },
      "execution_count": null,
      "outputs": [
        {
          "output_type": "stream",
          "name": "stdout",
          "text": [
            "00015019b0594984afc3fd9fa9557490\n"
          ]
        }
      ]
    },
    {
      "cell_type": "code",
      "source": [
        "# и создадим обратный словарик\n",
        "cookie_to_code = dict(zip(cookie_dic.values(), cookie_dic.keys()))"
      ],
      "metadata": {
        "id": "DHTqf1eq_cwp"
      },
      "execution_count": null,
      "outputs": []
    },
    {
      "cell_type": "code",
      "source": [
        "print(cookie_to_code['00015019b0594984afc3fd9fa9557490'])"
      ],
      "metadata": {
        "colab": {
          "base_uri": "https://localhost:8080/"
        },
        "id": "IyTNzipJ_nwg",
        "outputId": "97b1c02d-0b23-4995-c255-f4235f078e85"
      },
      "execution_count": null,
      "outputs": [
        {
          "output_type": "stream",
          "name": "stdout",
          "text": [
            "4\n"
          ]
        }
      ]
    },
    {
      "cell_type": "markdown",
      "source": [
        "Другой способ через dataFrame пока заморозим"
      ],
      "metadata": {
        "id": "F1wiTzDL88Im"
      }
    },
    {
      "cell_type": "code",
      "execution_count": null,
      "metadata": {
        "id": "eBCs5UEUQr3b"
      },
      "outputs": [],
      "source": [
        "cookie_dic_df = grouped_df.drop(columns = ['vacancy_id_','eventStrength'])"
      ]
    },
    {
      "cell_type": "code",
      "source": [
        "cookie_dic_df.drop_duplicates(inplace=True)"
      ],
      "metadata": {
        "id": "WjcsLmBEzhAs"
      },
      "execution_count": null,
      "outputs": []
    },
    {
      "cell_type": "code",
      "execution_count": null,
      "metadata": {
        "colab": {
          "base_uri": "https://localhost:8080/",
          "height": 206
        },
        "id": "a4Rag09nQr3b",
        "outputId": "65a26370-4ebd-44b2-da90-028586f353be"
      },
      "outputs": [
        {
          "output_type": "execute_result",
          "data": {
            "text/plain": [
              "                           cookie_id  cookie_id_num\n",
              "0   0000c4548c3944c08972bbdc1fa4eb85              0\n",
              "6   0000d7508334414ca792c5ff66eb8c14              1\n",
              "18  0000e63f423542fe8090575b611cea4d              2\n",
              "26  00013bf3e58244b48d4dbdf43543c30c              3\n",
              "32  00015019b0594984afc3fd9fa9557490              4"
            ],
            "text/html": [
              "\n",
              "  <div id=\"df-c036fe95-baab-4791-81ab-3536a3d542ed\">\n",
              "    <div class=\"colab-df-container\">\n",
              "      <div>\n",
              "<style scoped>\n",
              "    .dataframe tbody tr th:only-of-type {\n",
              "        vertical-align: middle;\n",
              "    }\n",
              "\n",
              "    .dataframe tbody tr th {\n",
              "        vertical-align: top;\n",
              "    }\n",
              "\n",
              "    .dataframe thead th {\n",
              "        text-align: right;\n",
              "    }\n",
              "</style>\n",
              "<table border=\"1\" class=\"dataframe\">\n",
              "  <thead>\n",
              "    <tr style=\"text-align: right;\">\n",
              "      <th></th>\n",
              "      <th>cookie_id</th>\n",
              "      <th>cookie_id_num</th>\n",
              "    </tr>\n",
              "  </thead>\n",
              "  <tbody>\n",
              "    <tr>\n",
              "      <th>0</th>\n",
              "      <td>0000c4548c3944c08972bbdc1fa4eb85</td>\n",
              "      <td>0</td>\n",
              "    </tr>\n",
              "    <tr>\n",
              "      <th>6</th>\n",
              "      <td>0000d7508334414ca792c5ff66eb8c14</td>\n",
              "      <td>1</td>\n",
              "    </tr>\n",
              "    <tr>\n",
              "      <th>18</th>\n",
              "      <td>0000e63f423542fe8090575b611cea4d</td>\n",
              "      <td>2</td>\n",
              "    </tr>\n",
              "    <tr>\n",
              "      <th>26</th>\n",
              "      <td>00013bf3e58244b48d4dbdf43543c30c</td>\n",
              "      <td>3</td>\n",
              "    </tr>\n",
              "    <tr>\n",
              "      <th>32</th>\n",
              "      <td>00015019b0594984afc3fd9fa9557490</td>\n",
              "      <td>4</td>\n",
              "    </tr>\n",
              "  </tbody>\n",
              "</table>\n",
              "</div>\n",
              "      <button class=\"colab-df-convert\" onclick=\"convertToInteractive('df-c036fe95-baab-4791-81ab-3536a3d542ed')\"\n",
              "              title=\"Convert this dataframe to an interactive table.\"\n",
              "              style=\"display:none;\">\n",
              "        \n",
              "  <svg xmlns=\"http://www.w3.org/2000/svg\" height=\"24px\"viewBox=\"0 0 24 24\"\n",
              "       width=\"24px\">\n",
              "    <path d=\"M0 0h24v24H0V0z\" fill=\"none\"/>\n",
              "    <path d=\"M18.56 5.44l.94 2.06.94-2.06 2.06-.94-2.06-.94-.94-2.06-.94 2.06-2.06.94zm-11 1L8.5 8.5l.94-2.06 2.06-.94-2.06-.94L8.5 2.5l-.94 2.06-2.06.94zm10 10l.94 2.06.94-2.06 2.06-.94-2.06-.94-.94-2.06-.94 2.06-2.06.94z\"/><path d=\"M17.41 7.96l-1.37-1.37c-.4-.4-.92-.59-1.43-.59-.52 0-1.04.2-1.43.59L10.3 9.45l-7.72 7.72c-.78.78-.78 2.05 0 2.83L4 21.41c.39.39.9.59 1.41.59.51 0 1.02-.2 1.41-.59l7.78-7.78 2.81-2.81c.8-.78.8-2.07 0-2.86zM5.41 20L4 18.59l7.72-7.72 1.47 1.35L5.41 20z\"/>\n",
              "  </svg>\n",
              "      </button>\n",
              "      \n",
              "  <style>\n",
              "    .colab-df-container {\n",
              "      display:flex;\n",
              "      flex-wrap:wrap;\n",
              "      gap: 12px;\n",
              "    }\n",
              "\n",
              "    .colab-df-convert {\n",
              "      background-color: #E8F0FE;\n",
              "      border: none;\n",
              "      border-radius: 50%;\n",
              "      cursor: pointer;\n",
              "      display: none;\n",
              "      fill: #1967D2;\n",
              "      height: 32px;\n",
              "      padding: 0 0 0 0;\n",
              "      width: 32px;\n",
              "    }\n",
              "\n",
              "    .colab-df-convert:hover {\n",
              "      background-color: #E2EBFA;\n",
              "      box-shadow: 0px 1px 2px rgba(60, 64, 67, 0.3), 0px 1px 3px 1px rgba(60, 64, 67, 0.15);\n",
              "      fill: #174EA6;\n",
              "    }\n",
              "\n",
              "    [theme=dark] .colab-df-convert {\n",
              "      background-color: #3B4455;\n",
              "      fill: #D2E3FC;\n",
              "    }\n",
              "\n",
              "    [theme=dark] .colab-df-convert:hover {\n",
              "      background-color: #434B5C;\n",
              "      box-shadow: 0px 1px 3px 1px rgba(0, 0, 0, 0.15);\n",
              "      filter: drop-shadow(0px 1px 2px rgba(0, 0, 0, 0.3));\n",
              "      fill: #FFFFFF;\n",
              "    }\n",
              "  </style>\n",
              "\n",
              "      <script>\n",
              "        const buttonEl =\n",
              "          document.querySelector('#df-c036fe95-baab-4791-81ab-3536a3d542ed button.colab-df-convert');\n",
              "        buttonEl.style.display =\n",
              "          google.colab.kernel.accessAllowed ? 'block' : 'none';\n",
              "\n",
              "        async function convertToInteractive(key) {\n",
              "          const element = document.querySelector('#df-c036fe95-baab-4791-81ab-3536a3d542ed');\n",
              "          const dataTable =\n",
              "            await google.colab.kernel.invokeFunction('convertToInteractive',\n",
              "                                                     [key], {});\n",
              "          if (!dataTable) return;\n",
              "\n",
              "          const docLinkHtml = 'Like what you see? Visit the ' +\n",
              "            '<a target=\"_blank\" href=https://colab.research.google.com/notebooks/data_table.ipynb>data table notebook</a>'\n",
              "            + ' to learn more about interactive tables.';\n",
              "          element.innerHTML = '';\n",
              "          dataTable['output_type'] = 'display_data';\n",
              "          await google.colab.output.renderOutput(dataTable, element);\n",
              "          const docLink = document.createElement('div');\n",
              "          docLink.innerHTML = docLinkHtml;\n",
              "          element.appendChild(docLink);\n",
              "        }\n",
              "      </script>\n",
              "    </div>\n",
              "  </div>\n",
              "  "
            ]
          },
          "metadata": {},
          "execution_count": 42
        }
      ],
      "source": [
        "# вот у нас и справочник потом будем его мержить\n",
        "cookie_dic_df.head()"
      ]
    },
    {
      "cell_type": "code",
      "source": [
        "# проверим наш предыдущий метод и попробуем на cookie_dic_df крутить туда и сюда код в номер и обратно\n",
        "cookie_dic_df['cookie_id_back'] = cookie_dic_df['cookie_id_num'].map(cookie_dic)"
      ],
      "metadata": {
        "id": "MC8dnGIV9uqG"
      },
      "execution_count": null,
      "outputs": []
    },
    {
      "cell_type": "code",
      "source": [
        "cookie_dic_df['cookie_id_to_code'] = cookie_dic_df['cookie_id'].map(cookie_to_code)"
      ],
      "metadata": {
        "id": "QQ2iBEA0A28P"
      },
      "execution_count": null,
      "outputs": []
    },
    {
      "cell_type": "code",
      "source": [
        "# проверка пройдена\n",
        "cookie_dic_df.head()"
      ],
      "metadata": {
        "colab": {
          "base_uri": "https://localhost:8080/",
          "height": 206
        },
        "id": "13dFJWDv-HU2",
        "outputId": "0785e107-5109-4a37-b8e9-f1a4f38574e1"
      },
      "execution_count": null,
      "outputs": [
        {
          "output_type": "execute_result",
          "data": {
            "text/plain": [
              "                           cookie_id  cookie_id_num  \\\n",
              "0   0000c4548c3944c08972bbdc1fa4eb85              0   \n",
              "6   0000d7508334414ca792c5ff66eb8c14              1   \n",
              "18  0000e63f423542fe8090575b611cea4d              2   \n",
              "26  00013bf3e58244b48d4dbdf43543c30c              3   \n",
              "32  00015019b0594984afc3fd9fa9557490              4   \n",
              "\n",
              "                      cookie_id_back cookie_id_to_code  \n",
              "0   0000c4548c3944c08972bbdc1fa4eb85                 0  \n",
              "6   0000d7508334414ca792c5ff66eb8c14                 1  \n",
              "18  0000e63f423542fe8090575b611cea4d                 2  \n",
              "26  00013bf3e58244b48d4dbdf43543c30c                 3  \n",
              "32  00015019b0594984afc3fd9fa9557490                 4  "
            ],
            "text/html": [
              "\n",
              "  <div id=\"df-0d4e8a15-bda7-474e-bff4-b02b5156c8d4\">\n",
              "    <div class=\"colab-df-container\">\n",
              "      <div>\n",
              "<style scoped>\n",
              "    .dataframe tbody tr th:only-of-type {\n",
              "        vertical-align: middle;\n",
              "    }\n",
              "\n",
              "    .dataframe tbody tr th {\n",
              "        vertical-align: top;\n",
              "    }\n",
              "\n",
              "    .dataframe thead th {\n",
              "        text-align: right;\n",
              "    }\n",
              "</style>\n",
              "<table border=\"1\" class=\"dataframe\">\n",
              "  <thead>\n",
              "    <tr style=\"text-align: right;\">\n",
              "      <th></th>\n",
              "      <th>cookie_id</th>\n",
              "      <th>cookie_id_num</th>\n",
              "      <th>cookie_id_back</th>\n",
              "      <th>cookie_id_to_code</th>\n",
              "    </tr>\n",
              "  </thead>\n",
              "  <tbody>\n",
              "    <tr>\n",
              "      <th>0</th>\n",
              "      <td>0000c4548c3944c08972bbdc1fa4eb85</td>\n",
              "      <td>0</td>\n",
              "      <td>0000c4548c3944c08972bbdc1fa4eb85</td>\n",
              "      <td>0</td>\n",
              "    </tr>\n",
              "    <tr>\n",
              "      <th>6</th>\n",
              "      <td>0000d7508334414ca792c5ff66eb8c14</td>\n",
              "      <td>1</td>\n",
              "      <td>0000d7508334414ca792c5ff66eb8c14</td>\n",
              "      <td>1</td>\n",
              "    </tr>\n",
              "    <tr>\n",
              "      <th>18</th>\n",
              "      <td>0000e63f423542fe8090575b611cea4d</td>\n",
              "      <td>2</td>\n",
              "      <td>0000e63f423542fe8090575b611cea4d</td>\n",
              "      <td>2</td>\n",
              "    </tr>\n",
              "    <tr>\n",
              "      <th>26</th>\n",
              "      <td>00013bf3e58244b48d4dbdf43543c30c</td>\n",
              "      <td>3</td>\n",
              "      <td>00013bf3e58244b48d4dbdf43543c30c</td>\n",
              "      <td>3</td>\n",
              "    </tr>\n",
              "    <tr>\n",
              "      <th>32</th>\n",
              "      <td>00015019b0594984afc3fd9fa9557490</td>\n",
              "      <td>4</td>\n",
              "      <td>00015019b0594984afc3fd9fa9557490</td>\n",
              "      <td>4</td>\n",
              "    </tr>\n",
              "  </tbody>\n",
              "</table>\n",
              "</div>\n",
              "      <button class=\"colab-df-convert\" onclick=\"convertToInteractive('df-0d4e8a15-bda7-474e-bff4-b02b5156c8d4')\"\n",
              "              title=\"Convert this dataframe to an interactive table.\"\n",
              "              style=\"display:none;\">\n",
              "        \n",
              "  <svg xmlns=\"http://www.w3.org/2000/svg\" height=\"24px\"viewBox=\"0 0 24 24\"\n",
              "       width=\"24px\">\n",
              "    <path d=\"M0 0h24v24H0V0z\" fill=\"none\"/>\n",
              "    <path d=\"M18.56 5.44l.94 2.06.94-2.06 2.06-.94-2.06-.94-.94-2.06-.94 2.06-2.06.94zm-11 1L8.5 8.5l.94-2.06 2.06-.94-2.06-.94L8.5 2.5l-.94 2.06-2.06.94zm10 10l.94 2.06.94-2.06 2.06-.94-2.06-.94-.94-2.06-.94 2.06-2.06.94z\"/><path d=\"M17.41 7.96l-1.37-1.37c-.4-.4-.92-.59-1.43-.59-.52 0-1.04.2-1.43.59L10.3 9.45l-7.72 7.72c-.78.78-.78 2.05 0 2.83L4 21.41c.39.39.9.59 1.41.59.51 0 1.02-.2 1.41-.59l7.78-7.78 2.81-2.81c.8-.78.8-2.07 0-2.86zM5.41 20L4 18.59l7.72-7.72 1.47 1.35L5.41 20z\"/>\n",
              "  </svg>\n",
              "      </button>\n",
              "      \n",
              "  <style>\n",
              "    .colab-df-container {\n",
              "      display:flex;\n",
              "      flex-wrap:wrap;\n",
              "      gap: 12px;\n",
              "    }\n",
              "\n",
              "    .colab-df-convert {\n",
              "      background-color: #E8F0FE;\n",
              "      border: none;\n",
              "      border-radius: 50%;\n",
              "      cursor: pointer;\n",
              "      display: none;\n",
              "      fill: #1967D2;\n",
              "      height: 32px;\n",
              "      padding: 0 0 0 0;\n",
              "      width: 32px;\n",
              "    }\n",
              "\n",
              "    .colab-df-convert:hover {\n",
              "      background-color: #E2EBFA;\n",
              "      box-shadow: 0px 1px 2px rgba(60, 64, 67, 0.3), 0px 1px 3px 1px rgba(60, 64, 67, 0.15);\n",
              "      fill: #174EA6;\n",
              "    }\n",
              "\n",
              "    [theme=dark] .colab-df-convert {\n",
              "      background-color: #3B4455;\n",
              "      fill: #D2E3FC;\n",
              "    }\n",
              "\n",
              "    [theme=dark] .colab-df-convert:hover {\n",
              "      background-color: #434B5C;\n",
              "      box-shadow: 0px 1px 3px 1px rgba(0, 0, 0, 0.15);\n",
              "      filter: drop-shadow(0px 1px 2px rgba(0, 0, 0, 0.3));\n",
              "      fill: #FFFFFF;\n",
              "    }\n",
              "  </style>\n",
              "\n",
              "      <script>\n",
              "        const buttonEl =\n",
              "          document.querySelector('#df-0d4e8a15-bda7-474e-bff4-b02b5156c8d4 button.colab-df-convert');\n",
              "        buttonEl.style.display =\n",
              "          google.colab.kernel.accessAllowed ? 'block' : 'none';\n",
              "\n",
              "        async function convertToInteractive(key) {\n",
              "          const element = document.querySelector('#df-0d4e8a15-bda7-474e-bff4-b02b5156c8d4');\n",
              "          const dataTable =\n",
              "            await google.colab.kernel.invokeFunction('convertToInteractive',\n",
              "                                                     [key], {});\n",
              "          if (!dataTable) return;\n",
              "\n",
              "          const docLinkHtml = 'Like what you see? Visit the ' +\n",
              "            '<a target=\"_blank\" href=https://colab.research.google.com/notebooks/data_table.ipynb>data table notebook</a>'\n",
              "            + ' to learn more about interactive tables.';\n",
              "          element.innerHTML = '';\n",
              "          dataTable['output_type'] = 'display_data';\n",
              "          await google.colab.output.renderOutput(dataTable, element);\n",
              "          const docLink = document.createElement('div');\n",
              "          docLink.innerHTML = docLinkHtml;\n",
              "          element.appendChild(docLink);\n",
              "        }\n",
              "      </script>\n",
              "    </div>\n",
              "  </div>\n",
              "  "
            ]
          },
          "metadata": {},
          "execution_count": 45
        }
      ]
    },
    {
      "cell_type": "markdown",
      "metadata": {
        "id": "Jc0UVS5ZQr3b"
      },
      "source": [
        "Создание разряженных матриц\n",
        "\n",
        "---"
      ]
    },
    {
      "cell_type": "code",
      "source": [
        "grouped_df"
      ],
      "metadata": {
        "colab": {
          "base_uri": "https://localhost:8080/",
          "height": 423
        },
        "id": "wgETCbARN1L8",
        "outputId": "2313e7f0-b1cd-4844-de6f-3f599d65ca4d"
      },
      "execution_count": null,
      "outputs": [
        {
          "output_type": "execute_result",
          "data": {
            "text/plain": [
              "                                cookie_id  cookie_id_num  vacancy_id_  \\\n",
              "0        0000c4548c3944c08972bbdc1fa4eb85              0       137659   \n",
              "1        0000c4548c3944c08972bbdc1fa4eb85              0       153975   \n",
              "2        0000c4548c3944c08972bbdc1fa4eb85              0       174953   \n",
              "3        0000c4548c3944c08972bbdc1fa4eb85              0       176171   \n",
              "4        0000c4548c3944c08972bbdc1fa4eb85              0       182445   \n",
              "...                                   ...            ...          ...   \n",
              "4678580  ffffdb17f45b4032b386d691d52e6c00         330179       107125   \n",
              "4678581  ffffdb17f45b4032b386d691d52e6c00         330179       107893   \n",
              "4678582  ffffdb17f45b4032b386d691d52e6c00         330179       150843   \n",
              "4678583  ffffdb17f45b4032b386d691d52e6c00         330179       160164   \n",
              "4678584  ffffdb17f45b4032b386d691d52e6c00         330179       185412   \n",
              "\n",
              "         eventStrength  \n",
              "0                  3.0  \n",
              "1                  3.0  \n",
              "2                  9.0  \n",
              "3                  3.0  \n",
              "4                  6.0  \n",
              "...                ...  \n",
              "4678580            7.0  \n",
              "4678581           10.0  \n",
              "4678582           10.0  \n",
              "4678583           10.0  \n",
              "4678584            7.0  \n",
              "\n",
              "[4678585 rows x 4 columns]"
            ],
            "text/html": [
              "\n",
              "  <div id=\"df-31d2968d-c29b-4785-ab9a-e90a7413aea5\">\n",
              "    <div class=\"colab-df-container\">\n",
              "      <div>\n",
              "<style scoped>\n",
              "    .dataframe tbody tr th:only-of-type {\n",
              "        vertical-align: middle;\n",
              "    }\n",
              "\n",
              "    .dataframe tbody tr th {\n",
              "        vertical-align: top;\n",
              "    }\n",
              "\n",
              "    .dataframe thead th {\n",
              "        text-align: right;\n",
              "    }\n",
              "</style>\n",
              "<table border=\"1\" class=\"dataframe\">\n",
              "  <thead>\n",
              "    <tr style=\"text-align: right;\">\n",
              "      <th></th>\n",
              "      <th>cookie_id</th>\n",
              "      <th>cookie_id_num</th>\n",
              "      <th>vacancy_id_</th>\n",
              "      <th>eventStrength</th>\n",
              "    </tr>\n",
              "  </thead>\n",
              "  <tbody>\n",
              "    <tr>\n",
              "      <th>0</th>\n",
              "      <td>0000c4548c3944c08972bbdc1fa4eb85</td>\n",
              "      <td>0</td>\n",
              "      <td>137659</td>\n",
              "      <td>3.0</td>\n",
              "    </tr>\n",
              "    <tr>\n",
              "      <th>1</th>\n",
              "      <td>0000c4548c3944c08972bbdc1fa4eb85</td>\n",
              "      <td>0</td>\n",
              "      <td>153975</td>\n",
              "      <td>3.0</td>\n",
              "    </tr>\n",
              "    <tr>\n",
              "      <th>2</th>\n",
              "      <td>0000c4548c3944c08972bbdc1fa4eb85</td>\n",
              "      <td>0</td>\n",
              "      <td>174953</td>\n",
              "      <td>9.0</td>\n",
              "    </tr>\n",
              "    <tr>\n",
              "      <th>3</th>\n",
              "      <td>0000c4548c3944c08972bbdc1fa4eb85</td>\n",
              "      <td>0</td>\n",
              "      <td>176171</td>\n",
              "      <td>3.0</td>\n",
              "    </tr>\n",
              "    <tr>\n",
              "      <th>4</th>\n",
              "      <td>0000c4548c3944c08972bbdc1fa4eb85</td>\n",
              "      <td>0</td>\n",
              "      <td>182445</td>\n",
              "      <td>6.0</td>\n",
              "    </tr>\n",
              "    <tr>\n",
              "      <th>...</th>\n",
              "      <td>...</td>\n",
              "      <td>...</td>\n",
              "      <td>...</td>\n",
              "      <td>...</td>\n",
              "    </tr>\n",
              "    <tr>\n",
              "      <th>4678580</th>\n",
              "      <td>ffffdb17f45b4032b386d691d52e6c00</td>\n",
              "      <td>330179</td>\n",
              "      <td>107125</td>\n",
              "      <td>7.0</td>\n",
              "    </tr>\n",
              "    <tr>\n",
              "      <th>4678581</th>\n",
              "      <td>ffffdb17f45b4032b386d691d52e6c00</td>\n",
              "      <td>330179</td>\n",
              "      <td>107893</td>\n",
              "      <td>10.0</td>\n",
              "    </tr>\n",
              "    <tr>\n",
              "      <th>4678582</th>\n",
              "      <td>ffffdb17f45b4032b386d691d52e6c00</td>\n",
              "      <td>330179</td>\n",
              "      <td>150843</td>\n",
              "      <td>10.0</td>\n",
              "    </tr>\n",
              "    <tr>\n",
              "      <th>4678583</th>\n",
              "      <td>ffffdb17f45b4032b386d691d52e6c00</td>\n",
              "      <td>330179</td>\n",
              "      <td>160164</td>\n",
              "      <td>10.0</td>\n",
              "    </tr>\n",
              "    <tr>\n",
              "      <th>4678584</th>\n",
              "      <td>ffffdb17f45b4032b386d691d52e6c00</td>\n",
              "      <td>330179</td>\n",
              "      <td>185412</td>\n",
              "      <td>7.0</td>\n",
              "    </tr>\n",
              "  </tbody>\n",
              "</table>\n",
              "<p>4678585 rows × 4 columns</p>\n",
              "</div>\n",
              "      <button class=\"colab-df-convert\" onclick=\"convertToInteractive('df-31d2968d-c29b-4785-ab9a-e90a7413aea5')\"\n",
              "              title=\"Convert this dataframe to an interactive table.\"\n",
              "              style=\"display:none;\">\n",
              "        \n",
              "  <svg xmlns=\"http://www.w3.org/2000/svg\" height=\"24px\"viewBox=\"0 0 24 24\"\n",
              "       width=\"24px\">\n",
              "    <path d=\"M0 0h24v24H0V0z\" fill=\"none\"/>\n",
              "    <path d=\"M18.56 5.44l.94 2.06.94-2.06 2.06-.94-2.06-.94-.94-2.06-.94 2.06-2.06.94zm-11 1L8.5 8.5l.94-2.06 2.06-.94-2.06-.94L8.5 2.5l-.94 2.06-2.06.94zm10 10l.94 2.06.94-2.06 2.06-.94-2.06-.94-.94-2.06-.94 2.06-2.06.94z\"/><path d=\"M17.41 7.96l-1.37-1.37c-.4-.4-.92-.59-1.43-.59-.52 0-1.04.2-1.43.59L10.3 9.45l-7.72 7.72c-.78.78-.78 2.05 0 2.83L4 21.41c.39.39.9.59 1.41.59.51 0 1.02-.2 1.41-.59l7.78-7.78 2.81-2.81c.8-.78.8-2.07 0-2.86zM5.41 20L4 18.59l7.72-7.72 1.47 1.35L5.41 20z\"/>\n",
              "  </svg>\n",
              "      </button>\n",
              "      \n",
              "  <style>\n",
              "    .colab-df-container {\n",
              "      display:flex;\n",
              "      flex-wrap:wrap;\n",
              "      gap: 12px;\n",
              "    }\n",
              "\n",
              "    .colab-df-convert {\n",
              "      background-color: #E8F0FE;\n",
              "      border: none;\n",
              "      border-radius: 50%;\n",
              "      cursor: pointer;\n",
              "      display: none;\n",
              "      fill: #1967D2;\n",
              "      height: 32px;\n",
              "      padding: 0 0 0 0;\n",
              "      width: 32px;\n",
              "    }\n",
              "\n",
              "    .colab-df-convert:hover {\n",
              "      background-color: #E2EBFA;\n",
              "      box-shadow: 0px 1px 2px rgba(60, 64, 67, 0.3), 0px 1px 3px 1px rgba(60, 64, 67, 0.15);\n",
              "      fill: #174EA6;\n",
              "    }\n",
              "\n",
              "    [theme=dark] .colab-df-convert {\n",
              "      background-color: #3B4455;\n",
              "      fill: #D2E3FC;\n",
              "    }\n",
              "\n",
              "    [theme=dark] .colab-df-convert:hover {\n",
              "      background-color: #434B5C;\n",
              "      box-shadow: 0px 1px 3px 1px rgba(0, 0, 0, 0.15);\n",
              "      filter: drop-shadow(0px 1px 2px rgba(0, 0, 0, 0.3));\n",
              "      fill: #FFFFFF;\n",
              "    }\n",
              "  </style>\n",
              "\n",
              "      <script>\n",
              "        const buttonEl =\n",
              "          document.querySelector('#df-31d2968d-c29b-4785-ab9a-e90a7413aea5 button.colab-df-convert');\n",
              "        buttonEl.style.display =\n",
              "          google.colab.kernel.accessAllowed ? 'block' : 'none';\n",
              "\n",
              "        async function convertToInteractive(key) {\n",
              "          const element = document.querySelector('#df-31d2968d-c29b-4785-ab9a-e90a7413aea5');\n",
              "          const dataTable =\n",
              "            await google.colab.kernel.invokeFunction('convertToInteractive',\n",
              "                                                     [key], {});\n",
              "          if (!dataTable) return;\n",
              "\n",
              "          const docLinkHtml = 'Like what you see? Visit the ' +\n",
              "            '<a target=\"_blank\" href=https://colab.research.google.com/notebooks/data_table.ipynb>data table notebook</a>'\n",
              "            + ' to learn more about interactive tables.';\n",
              "          element.innerHTML = '';\n",
              "          dataTable['output_type'] = 'display_data';\n",
              "          await google.colab.output.renderOutput(dataTable, element);\n",
              "          const docLink = document.createElement('div');\n",
              "          docLink.innerHTML = docLinkHtml;\n",
              "          element.appendChild(docLink);\n",
              "        }\n",
              "      </script>\n",
              "    </div>\n",
              "  </div>\n",
              "  "
            ]
          },
          "metadata": {},
          "execution_count": 47
        }
      ]
    },
    {
      "cell_type": "code",
      "execution_count": null,
      "metadata": {
        "id": "ySbcLLGIrTjL"
      },
      "outputs": [],
      "source": [
        "# вот это уже проверенный код но он работает на кодированных номерах и cookie и vacancy_id - мы его отставили в сторону\n",
        "\n",
        "# item/user spare matrix\n",
        "sparse_item_user = sparse.csr_matrix((grouped_df['eventStrength'].astype(float), (grouped_df['vacancy_id_num'], grouped_df['cookie_id_num'])))\n",
        "# user/item spare matrix\n",
        "sparse_user_item = sparse.csr_matrix((grouped_df['eventStrength'].astype(float), (grouped_df['cookie_id_num'], grouped_df['vacancy_id_num'])))"
      ]
    },
    {
      "cell_type": "code",
      "source": [
        "# а вот эта ячейка экспериментальный, главный ее смысл понять что базовые данные vacancy_id_ работают, мы провели эксперимент\n",
        "# и они работают сейчас это базовые матрицы\n",
        "\n",
        "# item/user spare matrix\n",
        "sparse_item_user = sparse.csr_matrix((data['eventStrength'].astype(float), (data['vacancy_id_'], data['cookie_id_num'])))\n",
        "# user/item spare matrix\n",
        "sparse_user_item = sparse.csr_matrix((data['eventStrength'].astype(float), (data['cookie_id_num'], data['vacancy_id_'])))"
      ],
      "metadata": {
        "id": "1zL0_0gl2UtW"
      },
      "execution_count": null,
      "outputs": []
    },
    {
      "cell_type": "code",
      "source": [
        "# предыдущий код но с нормализацией\n",
        "\n",
        "# item/user spare matrix\n",
        "sparse_item_user = sparse.csr_matrix((data['eventStrength_norm'].astype(float), (data['vacancy_id_'], data['cookie_id_num'])))\n",
        "# user/item spare matrix\n",
        "sparse_user_item = sparse.csr_matrix((data['eventStrength_norm'].astype(float), (data['cookie_id_num'], data['vacancy_id_'])))"
      ],
      "metadata": {
        "id": "vuhKLTh2LXSF"
      },
      "execution_count": null,
      "outputs": []
    },
    {
      "cell_type": "code",
      "source": [
        "# проверим размерности\n",
        "sparse_item_user.shape\n",
        "# стоит обратить внимание на то что размерность вакансий 260 168 - это потому что первых 100000 вакансий нет\n",
        "# если бы мы кодировали - то размерность бы была 160 000 что то такое"
      ],
      "metadata": {
        "colab": {
          "base_uri": "https://localhost:8080/"
        },
        "id": "HKPUacSfph2b",
        "outputId": "bb9b61d0-42cb-4f2c-a482-13e64d0a8c87"
      },
      "execution_count": null,
      "outputs": [
        {
          "output_type": "execute_result",
          "data": {
            "text/plain": [
              "(260168, 330180)"
            ]
          },
          "metadata": {},
          "execution_count": 50
        }
      ]
    },
    {
      "cell_type": "code",
      "source": [
        "# и тут проверим\n",
        "sparse_user_item.shape"
      ],
      "metadata": {
        "colab": {
          "base_uri": "https://localhost:8080/"
        },
        "id": "UXC0MInXpoDW",
        "outputId": "dae929c7-c2ef-4409-aafa-3732e6b984bc"
      },
      "execution_count": null,
      "outputs": [
        {
          "output_type": "execute_result",
          "data": {
            "text/plain": [
              "(330180, 260168)"
            ]
          },
          "metadata": {},
          "execution_count": 51
        }
      ]
    },
    {
      "cell_type": "code",
      "source": [
        "# ну и посмотрим что там внутри\n",
        "print(sparse_user_item[0])"
      ],
      "metadata": {
        "colab": {
          "base_uri": "https://localhost:8080/"
        },
        "id": "PoDQvuzqqCwm",
        "outputId": "86f87449-0ba2-49ac-f82f-60201a4510c8"
      },
      "execution_count": null,
      "outputs": [
        {
          "output_type": "stream",
          "name": "stdout",
          "text": [
            "  (0, 137659)\t0.0027137042062415195\n",
            "  (0, 153975)\t0.0027137042062415195\n",
            "  (0, 174953)\t0.010854816824966078\n",
            "  (0, 176171)\t0.0027137042062415195\n",
            "  (0, 182445)\t0.0067842605156037995\n",
            "  (0, 187529)\t0.0027137042062415195\n"
          ]
        }
      ]
    },
    {
      "cell_type": "code",
      "source": [
        "# и тут тоже посмотрим\n",
        "print(sparse_item_user[200001])"
      ],
      "metadata": {
        "colab": {
          "base_uri": "https://localhost:8080/"
        },
        "id": "5hLFQbyvq9z2",
        "outputId": "60cd8e39-b289-4ec7-a1c8-01a6fd9a5d3f"
      },
      "execution_count": null,
      "outputs": [
        {
          "output_type": "stream",
          "name": "stdout",
          "text": [
            "  (0, 3607)\t0.0027137042062415195\n",
            "  (0, 37610)\t0.0027137042062415195\n",
            "  (0, 61744)\t0.0067842605156037995\n",
            "  (0, 68283)\t0.0\n",
            "  (0, 79418)\t0.0027137042062415195\n",
            "  (0, 82207)\t0.008141112618724558\n",
            "  (0, 235945)\t0.0027137042062415195\n",
            "  (0, 293518)\t0.010854816824966078\n",
            "  (0, 295951)\t0.008141112618724558\n"
          ]
        }
      ]
    },
    {
      "cell_type": "markdown",
      "metadata": {
        "id": "QLLdRhbEQr3c"
      },
      "source": [
        "# Обучение моделей\n",
        "Вот это третий исследовательский этап, мы должны много! очень много экспериментировать с:\n",
        " - factors = ?,\n",
        " - regularization = ?,\n",
        " - iterations = ?\n",
        "\n",
        "---"
      ]
    },
    {
      "cell_type": "code",
      "source": [
        "# Инициируем модель\n",
        "model_user = implicit.als.AlternatingLeastSquares(factors=500, regularization=0.1, iterations=100)"
      ],
      "metadata": {
        "id": "V8FjDsJGtgWP"
      },
      "execution_count": null,
      "outputs": []
    },
    {
      "cell_type": "markdown",
      "source": [
        "Четвертый исследовательский блок связан с параметром альфа - он закомментирован в коде ниже. В тех статьях что я успел прочитать это чуть ли не главнй парметр, непонятно почему конечно, возможно он увеличивает и акцентирует отличие силе взаимодействия?, но тогда стоит задуматься нужна ли нам вообще нормализация? (в статьях встречались значения альфа в 15 и 50, надо пробовать)"
      ],
      "metadata": {
        "id": "7bboh57qMnZY"
      }
    },
    {
      "cell_type": "markdown",
      "metadata": {
        "id": "Dq01uAzWQr3c"
      },
      "source": [
        "Обучаем первую модель пользователь - вакансия (вот ее в основном и принимают наши функции которые мы будем использовать)"
      ]
    },
    {
      "cell_type": "code",
      "source": [
        "# Вот эти параметры я подсмотрел, они не обязательные но наверное их лучше потом настраивать\n",
        "#alpha = 50\n",
        "#user_item_data = (sparse_user_item * alpha).astype('double')\n",
        "\n",
        "user_item_data = sparse_user_item\n",
        "# train the model on a sparse matrix of user/item confidence weights\n",
        "model_user.fit(user_item_data)"
      ],
      "metadata": {
        "colab": {
          "base_uri": "https://localhost:8080/",
          "height": 49,
          "referenced_widgets": [
            "567fa13651614deba9f9b644396cd841",
            "b2a17a21eaf34d91b815176cc0330782",
            "02189c5bc9bd43989e74aeb4f4c9d34d",
            "ebfd20a2f50444eeba55f3b35475455f",
            "2243ee47c5c64eb7860e9bef1353c9fb",
            "e9ec0781a4d2402f8a2664df3d559e44",
            "bd9a9d1b88754b878cf8c543434192a9",
            "dd49727c04c04c848d85a52f92d2f7b6",
            "156b2b30cc024c609e62df60dbd39b2b",
            "6b014d2e8d9243bc82a5067143093814",
            "2f5f7c966b1146148f86d4b58da6bf3d"
          ]
        },
        "id": "3ciYenW7uFWu",
        "outputId": "21d4b3f9-be6c-48b3-a919-893fafd692b1"
      },
      "execution_count": null,
      "outputs": [
        {
          "output_type": "display_data",
          "data": {
            "text/plain": [
              "  0%|          | 0/100 [00:00<?, ?it/s]"
            ],
            "application/vnd.jupyter.widget-view+json": {
              "version_major": 2,
              "version_minor": 0,
              "model_id": "567fa13651614deba9f9b644396cd841"
            }
          },
          "metadata": {}
        }
      ]
    },
    {
      "cell_type": "markdown",
      "source": [
        "# Пробуем извечь пользу. То есть переходим к предсказаниям\n",
        "\n",
        "---\n",
        "(ниже собраны базовые функции библиотеки implicit)"
      ],
      "metadata": {
        "id": "UP2XKq3UwIW-"
      }
    },
    {
      "cell_type": "markdown",
      "source": [
        "## Создаем рекомендации для человека\n",
        "\n",
        "---"
      ],
      "metadata": {
        "id": "ozpEdIt-_wPn"
      }
    },
    {
      "cell_type": "markdown",
      "source": [
        "Функция : recommend( )\n",
        "\n",
        "Рекомендует элементы для пользователя\n",
        "Вычисляет N лучших рекомендаций для пользователя и возвращает список идентификаторов элементов, оценка.\n",
        "\n",
        "Параметры:\n",
        "\n",
        "- userid ( int ) — идентификатор пользователя для расчета рекомендаций для\n",
        "- user_items ( csr_matrix ) — разреженная матрица формы (number_users, number_items). Это позволяет нам искать понравившиеся предметы и их веса для пользователя. Это используется для фильтрации элементов, которые уже понравились, из выходных данных, а также для потенциального вычисления лучших элементов для этого пользователя.\n",
        "- N ( int , необязательный ) — количество возвращаемых результатов\n",
        "- filter_already_liked_items ( bool , необязательный ) — если установлено значение true, не возвращать элементы, присутствующие в обучающем наборе, которые были оценены указанным пользователем.\n",
        "- filter_items ( последовательность целых чисел , необязательный ) — список дополнительных идентификаторов элементов, которые нужно отфильтровать из вывода.\n",
        "- recalculate_user ( bool , необязательный ) — когда true, не полагайтесь на сохраненное состояние пользователя и вместо этого пересчитывайте из переданных в user_items\n",
        "\n",
        "Возвращает:\t\n",
        "Список кортежей (itemid, score)\n",
        "\n",
        "Тип возврата:\t\n",
        "список"
      ],
      "metadata": {
        "id": "S6ArZU5QC1_u"
      }
    },
    {
      "cell_type": "markdown",
      "source": [
        "Получим список рекомендаций для одного пользователя\n",
        "\n",
        "---"
      ],
      "metadata": {
        "id": "AJp6bBguFbuO"
      }
    },
    {
      "cell_type": "code",
      "source": [
        "# модель тренируется на sparse matrix of user/item/confidence weights - выполнено\n",
        "# model.fit(user_item_data) - выполнено\n",
        "\n",
        "# Рекомендуем вакансии для одного пользователя из тех что он еще не видел\n",
        "userid = 0\n",
        "recommendations = model_user.recommend(userid, user_item_data[userid], N=5, filter_already_liked_items=True)\n",
        "print(recommendations) # уже отсортировано"
      ],
      "metadata": {
        "colab": {
          "base_uri": "https://localhost:8080/"
        },
        "id": "MonpM170wHHQ",
        "outputId": "9fb72bdc-7f11-454e-b5cb-ddaed27bb414"
      },
      "execution_count": null,
      "outputs": [
        {
          "output_type": "stream",
          "name": "stdout",
          "text": [
            "(array([140813, 209568, 143721, 111837, 140917], dtype=int32), array([0.00044274, 0.00025598, 0.00025458, 0.00024373, 0.0002327 ],\n",
            "      dtype=float32))\n"
          ]
        }
      ]
    },
    {
      "cell_type": "markdown",
      "metadata": {
        "id": "Ds44fqAsQr3d"
      },
      "source": [
        "## Найдем похожие вакансии на вакансию №\n",
        "\n",
        "---"
      ]
    },
    {
      "cell_type": "markdown",
      "metadata": {
        "id": "CpTXvm_FQr3d"
      },
      "source": [
        "Функция: similar_items()\n",
        "\n",
        "Вычисляет список похожих элементов\n",
        "\n",
        "Параметры:\t\n",
        "- itemid (int) – идентификатор строки элемента, для которого извлекаются похожие элементы\n",
        "- N (int, необязательно) – количество похожих элементов для возврата.\n",
        "- react_users (csr_matrix, необязательно) – разреженная матрица формы (number_items, number_users). Это позволяет нам просмотреть откликнувшихся пользователей и их веса для элемента.\n",
        "- recallculate_item (bool, необязательно) – При значении true не полагайтесь на сохраненное состояние элемента и вместо этого пересчитывайте из переданного в react_users\n",
        "\n",
        "ВОЗВРАТ:\t\n",
        "Список кортежей (itemid, оценка)\n",
        "\n",
        "Возвращаемый тип:\t\n",
        "Список"
      ]
    },
    {
      "cell_type": "code",
      "source": [
        "# Найти похожую вакансию на вакансию №\n",
        "itemid = 100005\n",
        "related = model_user.similar_items(itemid)\n",
        "print(list(related[0])) # стоит обратить внимание на то, что первой выходит сама эта вакансия\n",
        "print(list(related[0][1:]))"
      ],
      "metadata": {
        "colab": {
          "base_uri": "https://localhost:8080/"
        },
        "id": "CTsZKeWzBNKy",
        "outputId": "14a464d0-078f-4a30-be71-f57079bf5d4b"
      },
      "execution_count": null,
      "outputs": [
        {
          "output_type": "stream",
          "name": "stdout",
          "text": [
            "[100005, 200167, 188746, 221652, 180212, 214051, 153487, 217263, 188922, 185690]\n",
            "[200167, 188746, 221652, 180212, 214051, 153487, 217263, 188922, 185690]\n"
          ]
        }
      ]
    },
    {
      "cell_type": "markdown",
      "metadata": {
        "id": "k1G3QkSzQr3e"
      },
      "source": [
        "## Найдем похожего пользователя"
      ]
    },
    {
      "cell_type": "markdown",
      "metadata": {
        "id": "y2XFIKJjQr3e"
      },
      "source": [
        "Функция: similar_users( )\n",
        "\n",
        "Вычисляет список похожих пользователей\n",
        "\n",
        "Параметры:\n",
        "\n",
        "- userid ( int ) — идентификатор строки пользователя для получения похожих пользователей для\n",
        "- N ( int , необязательный ) — количество похожих пользователей, которых необходимо вернуть.\n",
        "\n",
        "Возвращает:\t\n",
        "Список кортежей (userid, score)\n",
        "\n",
        "Тип возврата:\t\n",
        "список"
      ]
    },
    {
      "cell_type": "code",
      "source": [
        "userid = 100005\n",
        "related_users = model_user.similar_users(userid)\n",
        "print(list(related_users[0])) # стоит обратить внимание на то, что первой выходит этот самый пользователь\n",
        "print(list(related_users[0][1:]))"
      ],
      "metadata": {
        "id": "wTfe0GidIdaS",
        "colab": {
          "base_uri": "https://localhost:8080/"
        },
        "outputId": "bb7af6c1-8543-47fb-f659-3f95ba9467c8"
      },
      "execution_count": null,
      "outputs": [
        {
          "output_type": "stream",
          "name": "stdout",
          "text": [
            "[100005, 25757, 218717, 28034, 93019, 161506, 314856, 27762, 97018, 72372]\n",
            "[25757, 218717, 28034, 93019, 161506, 314856, 27762, 97018, 72372]\n"
          ]
        }
      ]
    },
    {
      "cell_type": "markdown",
      "source": [
        "## Ранжируем элементы для пользователя\n",
        "\n",
        "---"
      ],
      "metadata": {
        "id": "VgugnPabBjn1"
      }
    },
    {
      "cell_type": "markdown",
      "source": [
        "Функция: rank_items()\n",
        "\n",
        "Ранжирует заданные элементы для пользователя и возвращает отсортированный список элементов.\n",
        "\n",
        "Параметры:\n",
        "\n",
        "- userid (int) – идентификатор пользователя для вычисления рекомендаций\n",
        "- user_items (csr_matrix) – разреженная матрица формы (number_users, number_items). Это позволяет нам (необязательно) пересчитывать пользовательские факторы (см. параметр reconculate_user) по мере необходимости\n",
        "- selected_items (List of itemids) – (список идентификаторов элементов)\n",
        "- recalculate_user (bool, необязательно) – При значении true не полагайтесь на сохраненное состояние пользователя и вместо этого пересчитывайте из переданных в user_items\n",
        "\n",
        "\n",
        "\n",
        "Возвращаемый тип:\t\n",
        "Список"
      ],
      "metadata": {
        "id": "TjNdKsrlBiKd"
      }
    },
    {
      "cell_type": "code",
      "source": [
        "userid = 100005\n",
        "rank_elements = model_user.rank_items(userid, user_item_data, selected_items = [100001, 100002, 100003, 100004])\n",
        "print(rank_elements) \n"
      ],
      "metadata": {
        "id": "MizoCM5oIdNe",
        "colab": {
          "base_uri": "https://localhost:8080/"
        },
        "outputId": "98953baf-6e4c-4554-c383-0f8924317904"
      },
      "execution_count": null,
      "outputs": [
        {
          "output_type": "stream",
          "name": "stdout",
          "text": [
            "(array([100002, 100001, 100004, 100003]), array([ 3.332802e-05,  3.842422e-07,  2.501141e-11, -5.121616e-07],\n",
            "      dtype=float32))\n"
          ]
        },
        {
          "output_type": "stream",
          "name": "stderr",
          "text": [
            "<ipython-input-88-0aa5fe56e486>:2: DeprecationWarning: rank_items is deprecated. Use recommend with the 'items' parameter instead\n",
            "  rank_elements = model_user.rank_items(userid, user_item_data, selected_items = [100001, 100002, 100003, 100004])\n"
          ]
        }
      ]
    },
    {
      "cell_type": "markdown",
      "source": [
        "# Переходим к испытаниям на нашей ситуации\n",
        "\n",
        "---"
      ],
      "metadata": {
        "id": "cvy50ldHIbE3"
      }
    },
    {
      "cell_type": "markdown",
      "source": [
        "Загружаем данные"
      ],
      "metadata": {
        "id": "qoiaUX5WI9P2"
      }
    },
    {
      "cell_type": "code",
      "source": [
        "# Вот это данные от партнера, стоит отметить что там есть строки с 2 вакансиями и более 5\n",
        "#test = pd.read_parquet('test_public_mfti.parquet', engine='pyarrow')\n",
        "test = pd.read_parquet('/content/drive/MyDrive/Colab Notebooks/hackathon/test_public_mfti.parquet', engine='pyarrow')"
      ],
      "metadata": {
        "id": "EIoXD13QIik6"
      },
      "execution_count": null,
      "outputs": []
    },
    {
      "cell_type": "code",
      "source": [
        "# получаем для них столбец с номерными вариантами cookie как мы это закодировали ранее\n",
        "test['cookie_id_num'] = test['cookie_id'].map(cookie_to_code)"
      ],
      "metadata": {
        "id": "wMksKmWdIiiF"
      },
      "execution_count": null,
      "outputs": []
    },
    {
      "cell_type": "code",
      "source": [
        "test.head()"
      ],
      "metadata": {
        "colab": {
          "base_uri": "https://localhost:8080/",
          "height": 206
        },
        "id": "nxwGjExbIifV",
        "outputId": "223c3e60-0aff-4915-efca-bd6cf7c6fe63"
      },
      "execution_count": null,
      "outputs": [
        {
          "output_type": "execute_result",
          "data": {
            "text/plain": [
              "                          cookie_id  \\\n",
              "0  000cd76cd33f43d4a1ac1d16d10f8bf7   \n",
              "1  0034bc7f404341ba8412665453e7825a   \n",
              "2  00a6c5a64a274c55a836402bdeb3b2c4   \n",
              "3  015937a125b14e74bdff1cddc49f9172   \n",
              "4  01de50c280794cec8804f16f45f847b7   \n",
              "\n",
              "                                         vacancy_id_  cookie_id_num  \n",
              "0  [222177, 222173, 222163, 238874, 238878, 22812...             54  \n",
              "1  [102794, 137587, 257319, 237756, 240744, 11348...            266  \n",
              "2  [254292, 164602, 116438, 228634, 218819, 24065...            810  \n",
              "3   [246685, 138123, 115420, 210628, 212325, 235196]           1727  \n",
              "4           [219070, 251469, 166899, 212703, 214561]           2395  "
            ],
            "text/html": [
              "\n",
              "  <div id=\"df-231f5f0a-6856-4ae0-bc52-d3cfa728dc37\">\n",
              "    <div class=\"colab-df-container\">\n",
              "      <div>\n",
              "<style scoped>\n",
              "    .dataframe tbody tr th:only-of-type {\n",
              "        vertical-align: middle;\n",
              "    }\n",
              "\n",
              "    .dataframe tbody tr th {\n",
              "        vertical-align: top;\n",
              "    }\n",
              "\n",
              "    .dataframe thead th {\n",
              "        text-align: right;\n",
              "    }\n",
              "</style>\n",
              "<table border=\"1\" class=\"dataframe\">\n",
              "  <thead>\n",
              "    <tr style=\"text-align: right;\">\n",
              "      <th></th>\n",
              "      <th>cookie_id</th>\n",
              "      <th>vacancy_id_</th>\n",
              "      <th>cookie_id_num</th>\n",
              "    </tr>\n",
              "  </thead>\n",
              "  <tbody>\n",
              "    <tr>\n",
              "      <th>0</th>\n",
              "      <td>000cd76cd33f43d4a1ac1d16d10f8bf7</td>\n",
              "      <td>[222177, 222173, 222163, 238874, 238878, 22812...</td>\n",
              "      <td>54</td>\n",
              "    </tr>\n",
              "    <tr>\n",
              "      <th>1</th>\n",
              "      <td>0034bc7f404341ba8412665453e7825a</td>\n",
              "      <td>[102794, 137587, 257319, 237756, 240744, 11348...</td>\n",
              "      <td>266</td>\n",
              "    </tr>\n",
              "    <tr>\n",
              "      <th>2</th>\n",
              "      <td>00a6c5a64a274c55a836402bdeb3b2c4</td>\n",
              "      <td>[254292, 164602, 116438, 228634, 218819, 24065...</td>\n",
              "      <td>810</td>\n",
              "    </tr>\n",
              "    <tr>\n",
              "      <th>3</th>\n",
              "      <td>015937a125b14e74bdff1cddc49f9172</td>\n",
              "      <td>[246685, 138123, 115420, 210628, 212325, 235196]</td>\n",
              "      <td>1727</td>\n",
              "    </tr>\n",
              "    <tr>\n",
              "      <th>4</th>\n",
              "      <td>01de50c280794cec8804f16f45f847b7</td>\n",
              "      <td>[219070, 251469, 166899, 212703, 214561]</td>\n",
              "      <td>2395</td>\n",
              "    </tr>\n",
              "  </tbody>\n",
              "</table>\n",
              "</div>\n",
              "      <button class=\"colab-df-convert\" onclick=\"convertToInteractive('df-231f5f0a-6856-4ae0-bc52-d3cfa728dc37')\"\n",
              "              title=\"Convert this dataframe to an interactive table.\"\n",
              "              style=\"display:none;\">\n",
              "        \n",
              "  <svg xmlns=\"http://www.w3.org/2000/svg\" height=\"24px\"viewBox=\"0 0 24 24\"\n",
              "       width=\"24px\">\n",
              "    <path d=\"M0 0h24v24H0V0z\" fill=\"none\"/>\n",
              "    <path d=\"M18.56 5.44l.94 2.06.94-2.06 2.06-.94-2.06-.94-.94-2.06-.94 2.06-2.06.94zm-11 1L8.5 8.5l.94-2.06 2.06-.94-2.06-.94L8.5 2.5l-.94 2.06-2.06.94zm10 10l.94 2.06.94-2.06 2.06-.94-2.06-.94-.94-2.06-.94 2.06-2.06.94z\"/><path d=\"M17.41 7.96l-1.37-1.37c-.4-.4-.92-.59-1.43-.59-.52 0-1.04.2-1.43.59L10.3 9.45l-7.72 7.72c-.78.78-.78 2.05 0 2.83L4 21.41c.39.39.9.59 1.41.59.51 0 1.02-.2 1.41-.59l7.78-7.78 2.81-2.81c.8-.78.8-2.07 0-2.86zM5.41 20L4 18.59l7.72-7.72 1.47 1.35L5.41 20z\"/>\n",
              "  </svg>\n",
              "      </button>\n",
              "      \n",
              "  <style>\n",
              "    .colab-df-container {\n",
              "      display:flex;\n",
              "      flex-wrap:wrap;\n",
              "      gap: 12px;\n",
              "    }\n",
              "\n",
              "    .colab-df-convert {\n",
              "      background-color: #E8F0FE;\n",
              "      border: none;\n",
              "      border-radius: 50%;\n",
              "      cursor: pointer;\n",
              "      display: none;\n",
              "      fill: #1967D2;\n",
              "      height: 32px;\n",
              "      padding: 0 0 0 0;\n",
              "      width: 32px;\n",
              "    }\n",
              "\n",
              "    .colab-df-convert:hover {\n",
              "      background-color: #E2EBFA;\n",
              "      box-shadow: 0px 1px 2px rgba(60, 64, 67, 0.3), 0px 1px 3px 1px rgba(60, 64, 67, 0.15);\n",
              "      fill: #174EA6;\n",
              "    }\n",
              "\n",
              "    [theme=dark] .colab-df-convert {\n",
              "      background-color: #3B4455;\n",
              "      fill: #D2E3FC;\n",
              "    }\n",
              "\n",
              "    [theme=dark] .colab-df-convert:hover {\n",
              "      background-color: #434B5C;\n",
              "      box-shadow: 0px 1px 3px 1px rgba(0, 0, 0, 0.15);\n",
              "      filter: drop-shadow(0px 1px 2px rgba(0, 0, 0, 0.3));\n",
              "      fill: #FFFFFF;\n",
              "    }\n",
              "  </style>\n",
              "\n",
              "      <script>\n",
              "        const buttonEl =\n",
              "          document.querySelector('#df-231f5f0a-6856-4ae0-bc52-d3cfa728dc37 button.colab-df-convert');\n",
              "        buttonEl.style.display =\n",
              "          google.colab.kernel.accessAllowed ? 'block' : 'none';\n",
              "\n",
              "        async function convertToInteractive(key) {\n",
              "          const element = document.querySelector('#df-231f5f0a-6856-4ae0-bc52-d3cfa728dc37');\n",
              "          const dataTable =\n",
              "            await google.colab.kernel.invokeFunction('convertToInteractive',\n",
              "                                                     [key], {});\n",
              "          if (!dataTable) return;\n",
              "\n",
              "          const docLinkHtml = 'Like what you see? Visit the ' +\n",
              "            '<a target=\"_blank\" href=https://colab.research.google.com/notebooks/data_table.ipynb>data table notebook</a>'\n",
              "            + ' to learn more about interactive tables.';\n",
              "          element.innerHTML = '';\n",
              "          dataTable['output_type'] = 'display_data';\n",
              "          await google.colab.output.renderOutput(dataTable, element);\n",
              "          const docLink = document.createElement('div');\n",
              "          docLink.innerHTML = docLinkHtml;\n",
              "          element.appendChild(docLink);\n",
              "        }\n",
              "      </script>\n",
              "    </div>\n",
              "  </div>\n",
              "  "
            ]
          },
          "metadata": {},
          "execution_count": 91
        }
      ]
    },
    {
      "cell_type": "code",
      "source": [
        "# Получаем из датафрейма список пользователей, которых мы загрузим в модель\n",
        "test_list = list(test['cookie_id_num'])\n",
        "test_list_str = list(test['cookie_id'])\n",
        "print(test_list[:5])\n",
        "print(test_list_str[:5])"
      ],
      "metadata": {
        "colab": {
          "base_uri": "https://localhost:8080/"
        },
        "id": "z0jUf1jRWhJk",
        "outputId": "d67bd07b-f284-4679-d37f-27198ab2537a"
      },
      "execution_count": null,
      "outputs": [
        {
          "output_type": "stream",
          "name": "stdout",
          "text": [
            "[54, 266, 810, 1727, 2395]\n",
            "['000cd76cd33f43d4a1ac1d16d10f8bf7', '0034bc7f404341ba8412665453e7825a', '00a6c5a64a274c55a836402bdeb3b2c4', '015937a125b14e74bdff1cddc49f9172', '01de50c280794cec8804f16f45f847b7']\n"
          ]
        }
      ]
    },
    {
      "cell_type": "code",
      "source": [
        "# Ячейка полчения предсказаний, загружаем в модель полученный список кодов пользоватлей \n",
        "userids = test_list\n",
        "ids, scores = model_user.recommend(userids, user_item_data[userids], N=10, filter_already_liked_items=True)"
      ],
      "metadata": {
        "id": "LDMAaVmWLQeW"
      },
      "execution_count": null,
      "outputs": []
    },
    {
      "cell_type": "code",
      "source": [
        "ids"
      ],
      "metadata": {
        "colab": {
          "base_uri": "https://localhost:8080/"
        },
        "id": "VQwVYB9kSiwc",
        "outputId": "2642943c-5465-470d-bbf1-e5bc81c77cc9"
      },
      "execution_count": null,
      "outputs": [
        {
          "output_type": "execute_result",
          "data": {
            "text/plain": [
              "array([[171734, 218716, 220400, ..., 223230, 232979, 214668],\n",
              "       [209448, 176963, 108536, ..., 101462, 189925, 240744],\n",
              "       [109079, 140917, 209448, ..., 229689, 212987, 193250],\n",
              "       ...,\n",
              "       [146630, 164698, 104898, ..., 195985, 103713, 108201],\n",
              "       [209840, 100002, 259901, ..., 178853, 136558, 217683],\n",
              "       [100336, 244721, 225095, ..., 179690, 128860, 256719]], dtype=int32)"
            ]
          },
          "metadata": {},
          "execution_count": 185
        }
      ]
    },
    {
      "cell_type": "code",
      "source": [],
      "metadata": {
        "id": "rPSJoyHNpdeU"
      },
      "execution_count": null,
      "outputs": []
    },
    {
      "cell_type": "code",
      "source": [],
      "metadata": {
        "id": "l2XGBzyFpdcb"
      },
      "execution_count": null,
      "outputs": []
    },
    {
      "cell_type": "markdown",
      "source": [
        "# Прикручиваю baseline "
      ],
      "metadata": {
        "id": "OFieHj21phcG"
      }
    },
    {
      "cell_type": "code",
      "source": [
        "# Таблица из baseline \n",
        "bl_df = pd.read_parquet('/content/drive/MyDrive/Colab Notebooks/hackathon/vacancy_metrics.parquet', engine='pyarrow')"
      ],
      "metadata": {
        "id": "I4lLq4Ukd4U0"
      },
      "execution_count": null,
      "outputs": []
    },
    {
      "cell_type": "code",
      "source": [
        "bl_df.head(3)"
      ],
      "metadata": {
        "colab": {
          "base_uri": "https://localhost:8080/",
          "height": 237
        },
        "id": "OCxyOjUIeP5L",
        "outputId": "047e04c3-5732-4ea9-de59-2d9292288e88"
      },
      "execution_count": null,
      "outputs": [
        {
          "output_type": "execute_result",
          "data": {
            "text/plain": [
              "   vacancy_id  reach  interactions  sum_total_score  avg_total_score  \\\n",
              "0      100001     20            49               50         1.020408   \n",
              "1      100002    224           847              866         1.022432   \n",
              "2      100003     29            60               40         0.666667   \n",
              "\n",
              "        ERR  uinteractions  sum_max_score  avg_max_score  sum_total_uscore  \\\n",
              "0  2.500000             43             39       1.950000                49   \n",
              "1  3.866071            497            458       2.044643               609   \n",
              "2  1.379310             54             35       1.206897                37   \n",
              "\n",
              "   ...  avg_total_score_rank  ERR_rank  uinteractions_rank  \\\n",
              "0  ...                 60627     64703               42648   \n",
              "1  ...                 60480     31957                1899   \n",
              "2  ...                111285    123826               34039   \n",
              "\n",
              "   sum_max_score_rank  avg_max_score_rank  sum_total_uscore_rank  \\\n",
              "0               38776               57427                  37713   \n",
              "1                1574               48695                   1416   \n",
              "2               42179              119492                  47658   \n",
              "\n",
              "   avg_total_uscore_rank  uERR_rank  ultra_rank  ultra_log_rank  \n",
              "0                  60539      53352       31587           46520  \n",
              "1                  52869      45105        1581            1035  \n",
              "2                 120498     121846       71527           77342  \n",
              "\n",
              "[3 rows x 31 columns]"
            ],
            "text/html": [
              "\n",
              "  <div id=\"df-c9e44b8a-7993-4c21-8109-3c1cdd28334f\">\n",
              "    <div class=\"colab-df-container\">\n",
              "      <div>\n",
              "<style scoped>\n",
              "    .dataframe tbody tr th:only-of-type {\n",
              "        vertical-align: middle;\n",
              "    }\n",
              "\n",
              "    .dataframe tbody tr th {\n",
              "        vertical-align: top;\n",
              "    }\n",
              "\n",
              "    .dataframe thead th {\n",
              "        text-align: right;\n",
              "    }\n",
              "</style>\n",
              "<table border=\"1\" class=\"dataframe\">\n",
              "  <thead>\n",
              "    <tr style=\"text-align: right;\">\n",
              "      <th></th>\n",
              "      <th>vacancy_id</th>\n",
              "      <th>reach</th>\n",
              "      <th>interactions</th>\n",
              "      <th>sum_total_score</th>\n",
              "      <th>avg_total_score</th>\n",
              "      <th>ERR</th>\n",
              "      <th>uinteractions</th>\n",
              "      <th>sum_max_score</th>\n",
              "      <th>avg_max_score</th>\n",
              "      <th>sum_total_uscore</th>\n",
              "      <th>...</th>\n",
              "      <th>avg_total_score_rank</th>\n",
              "      <th>ERR_rank</th>\n",
              "      <th>uinteractions_rank</th>\n",
              "      <th>sum_max_score_rank</th>\n",
              "      <th>avg_max_score_rank</th>\n",
              "      <th>sum_total_uscore_rank</th>\n",
              "      <th>avg_total_uscore_rank</th>\n",
              "      <th>uERR_rank</th>\n",
              "      <th>ultra_rank</th>\n",
              "      <th>ultra_log_rank</th>\n",
              "    </tr>\n",
              "  </thead>\n",
              "  <tbody>\n",
              "    <tr>\n",
              "      <th>0</th>\n",
              "      <td>100001</td>\n",
              "      <td>20</td>\n",
              "      <td>49</td>\n",
              "      <td>50</td>\n",
              "      <td>1.020408</td>\n",
              "      <td>2.500000</td>\n",
              "      <td>43</td>\n",
              "      <td>39</td>\n",
              "      <td>1.950000</td>\n",
              "      <td>49</td>\n",
              "      <td>...</td>\n",
              "      <td>60627</td>\n",
              "      <td>64703</td>\n",
              "      <td>42648</td>\n",
              "      <td>38776</td>\n",
              "      <td>57427</td>\n",
              "      <td>37713</td>\n",
              "      <td>60539</td>\n",
              "      <td>53352</td>\n",
              "      <td>31587</td>\n",
              "      <td>46520</td>\n",
              "    </tr>\n",
              "    <tr>\n",
              "      <th>1</th>\n",
              "      <td>100002</td>\n",
              "      <td>224</td>\n",
              "      <td>847</td>\n",
              "      <td>866</td>\n",
              "      <td>1.022432</td>\n",
              "      <td>3.866071</td>\n",
              "      <td>497</td>\n",
              "      <td>458</td>\n",
              "      <td>2.044643</td>\n",
              "      <td>609</td>\n",
              "      <td>...</td>\n",
              "      <td>60480</td>\n",
              "      <td>31957</td>\n",
              "      <td>1899</td>\n",
              "      <td>1574</td>\n",
              "      <td>48695</td>\n",
              "      <td>1416</td>\n",
              "      <td>52869</td>\n",
              "      <td>45105</td>\n",
              "      <td>1581</td>\n",
              "      <td>1035</td>\n",
              "    </tr>\n",
              "    <tr>\n",
              "      <th>2</th>\n",
              "      <td>100003</td>\n",
              "      <td>29</td>\n",
              "      <td>60</td>\n",
              "      <td>40</td>\n",
              "      <td>0.666667</td>\n",
              "      <td>1.379310</td>\n",
              "      <td>54</td>\n",
              "      <td>35</td>\n",
              "      <td>1.206897</td>\n",
              "      <td>37</td>\n",
              "      <td>...</td>\n",
              "      <td>111285</td>\n",
              "      <td>123826</td>\n",
              "      <td>34039</td>\n",
              "      <td>42179</td>\n",
              "      <td>119492</td>\n",
              "      <td>47658</td>\n",
              "      <td>120498</td>\n",
              "      <td>121846</td>\n",
              "      <td>71527</td>\n",
              "      <td>77342</td>\n",
              "    </tr>\n",
              "  </tbody>\n",
              "</table>\n",
              "<p>3 rows × 31 columns</p>\n",
              "</div>\n",
              "      <button class=\"colab-df-convert\" onclick=\"convertToInteractive('df-c9e44b8a-7993-4c21-8109-3c1cdd28334f')\"\n",
              "              title=\"Convert this dataframe to an interactive table.\"\n",
              "              style=\"display:none;\">\n",
              "        \n",
              "  <svg xmlns=\"http://www.w3.org/2000/svg\" height=\"24px\"viewBox=\"0 0 24 24\"\n",
              "       width=\"24px\">\n",
              "    <path d=\"M0 0h24v24H0V0z\" fill=\"none\"/>\n",
              "    <path d=\"M18.56 5.44l.94 2.06.94-2.06 2.06-.94-2.06-.94-.94-2.06-.94 2.06-2.06.94zm-11 1L8.5 8.5l.94-2.06 2.06-.94-2.06-.94L8.5 2.5l-.94 2.06-2.06.94zm10 10l.94 2.06.94-2.06 2.06-.94-2.06-.94-.94-2.06-.94 2.06-2.06.94z\"/><path d=\"M17.41 7.96l-1.37-1.37c-.4-.4-.92-.59-1.43-.59-.52 0-1.04.2-1.43.59L10.3 9.45l-7.72 7.72c-.78.78-.78 2.05 0 2.83L4 21.41c.39.39.9.59 1.41.59.51 0 1.02-.2 1.41-.59l7.78-7.78 2.81-2.81c.8-.78.8-2.07 0-2.86zM5.41 20L4 18.59l7.72-7.72 1.47 1.35L5.41 20z\"/>\n",
              "  </svg>\n",
              "      </button>\n",
              "      \n",
              "  <style>\n",
              "    .colab-df-container {\n",
              "      display:flex;\n",
              "      flex-wrap:wrap;\n",
              "      gap: 12px;\n",
              "    }\n",
              "\n",
              "    .colab-df-convert {\n",
              "      background-color: #E8F0FE;\n",
              "      border: none;\n",
              "      border-radius: 50%;\n",
              "      cursor: pointer;\n",
              "      display: none;\n",
              "      fill: #1967D2;\n",
              "      height: 32px;\n",
              "      padding: 0 0 0 0;\n",
              "      width: 32px;\n",
              "    }\n",
              "\n",
              "    .colab-df-convert:hover {\n",
              "      background-color: #E2EBFA;\n",
              "      box-shadow: 0px 1px 2px rgba(60, 64, 67, 0.3), 0px 1px 3px 1px rgba(60, 64, 67, 0.15);\n",
              "      fill: #174EA6;\n",
              "    }\n",
              "\n",
              "    [theme=dark] .colab-df-convert {\n",
              "      background-color: #3B4455;\n",
              "      fill: #D2E3FC;\n",
              "    }\n",
              "\n",
              "    [theme=dark] .colab-df-convert:hover {\n",
              "      background-color: #434B5C;\n",
              "      box-shadow: 0px 1px 3px 1px rgba(0, 0, 0, 0.15);\n",
              "      filter: drop-shadow(0px 1px 2px rgba(0, 0, 0, 0.3));\n",
              "      fill: #FFFFFF;\n",
              "    }\n",
              "  </style>\n",
              "\n",
              "      <script>\n",
              "        const buttonEl =\n",
              "          document.querySelector('#df-c9e44b8a-7993-4c21-8109-3c1cdd28334f button.colab-df-convert');\n",
              "        buttonEl.style.display =\n",
              "          google.colab.kernel.accessAllowed ? 'block' : 'none';\n",
              "\n",
              "        async function convertToInteractive(key) {\n",
              "          const element = document.querySelector('#df-c9e44b8a-7993-4c21-8109-3c1cdd28334f');\n",
              "          const dataTable =\n",
              "            await google.colab.kernel.invokeFunction('convertToInteractive',\n",
              "                                                     [key], {});\n",
              "          if (!dataTable) return;\n",
              "\n",
              "          const docLinkHtml = 'Like what you see? Visit the ' +\n",
              "            '<a target=\"_blank\" href=https://colab.research.google.com/notebooks/data_table.ipynb>data table notebook</a>'\n",
              "            + ' to learn more about interactive tables.';\n",
              "          element.innerHTML = '';\n",
              "          dataTable['output_type'] = 'display_data';\n",
              "          await google.colab.output.renderOutput(dataTable, element);\n",
              "          const docLink = document.createElement('div');\n",
              "          docLink.innerHTML = docLinkHtml;\n",
              "          element.appendChild(docLink);\n",
              "        }\n",
              "      </script>\n",
              "    </div>\n",
              "  </div>\n",
              "  "
            ]
          },
          "metadata": {},
          "execution_count": 178
        }
      ]
    },
    {
      "cell_type": "code",
      "source": [
        "new_recomend = []\n",
        "for items in ids:\n",
        "    new_recomend.append(bl_df[bl_df['vacancy_id'].isin(items)].sort_values(by='sum_total_uscore_rank', ascending=True)['vacancy_id'][:5].tolist())"
      ],
      "metadata": {
        "id": "WwgX_Gmnavaq"
      },
      "execution_count": null,
      "outputs": []
    },
    {
      "cell_type": "code",
      "source": [
        "test_prediction = pd.DataFrame({'cookie_id' : test_list_str, 'top_recommendations' : new_recomend})"
      ],
      "metadata": {
        "id": "dds5gYC-hQXv"
      },
      "execution_count": null,
      "outputs": []
    },
    {
      "cell_type": "code",
      "source": [
        "1/0\n",
        "test_prediction1 = pd.DataFrame({'cookie_id' : test_list_str, 'top_recommendations' : list(ids)})"
      ],
      "metadata": {
        "id": "W0VMu5EbjVyJ"
      },
      "execution_count": null,
      "outputs": []
    },
    {
      "cell_type": "code",
      "source": [
        "# посмотрим что получилось (выглядит красиво как и требуется)\n",
        "test_prediction.head()"
      ],
      "metadata": {
        "colab": {
          "base_uri": "https://localhost:8080/",
          "height": 206
        },
        "id": "r8kvDbkzMntu",
        "outputId": "7c25d6e5-bbb4-4103-b8ed-143f3df941b0"
      },
      "execution_count": null,
      "outputs": [
        {
          "output_type": "execute_result",
          "data": {
            "text/plain": [
              "                          cookie_id                       top_recommendations\n",
              "0  000cd76cd33f43d4a1ac1d16d10f8bf7  [171734, 223230, 195901, 210282, 218716]\n",
              "1  0034bc7f404341ba8412665453e7825a  [240744, 101462, 209448, 259050, 166835]\n",
              "2  00a6c5a64a274c55a836402bdeb3b2c4  [110793, 143721, 115924, 109079, 140917]\n",
              "3  015937a125b14e74bdff1cddc49f9172  [164588, 184440, 182439, 154423, 176171]\n",
              "4  01de50c280794cec8804f16f45f847b7  [248720, 176398, 248723, 182682, 241598]"
            ],
            "text/html": [
              "\n",
              "  <div id=\"df-0e74ac78-0618-4421-b8ad-15b18906504e\">\n",
              "    <div class=\"colab-df-container\">\n",
              "      <div>\n",
              "<style scoped>\n",
              "    .dataframe tbody tr th:only-of-type {\n",
              "        vertical-align: middle;\n",
              "    }\n",
              "\n",
              "    .dataframe tbody tr th {\n",
              "        vertical-align: top;\n",
              "    }\n",
              "\n",
              "    .dataframe thead th {\n",
              "        text-align: right;\n",
              "    }\n",
              "</style>\n",
              "<table border=\"1\" class=\"dataframe\">\n",
              "  <thead>\n",
              "    <tr style=\"text-align: right;\">\n",
              "      <th></th>\n",
              "      <th>cookie_id</th>\n",
              "      <th>top_recommendations</th>\n",
              "    </tr>\n",
              "  </thead>\n",
              "  <tbody>\n",
              "    <tr>\n",
              "      <th>0</th>\n",
              "      <td>000cd76cd33f43d4a1ac1d16d10f8bf7</td>\n",
              "      <td>[171734, 223230, 195901, 210282, 218716]</td>\n",
              "    </tr>\n",
              "    <tr>\n",
              "      <th>1</th>\n",
              "      <td>0034bc7f404341ba8412665453e7825a</td>\n",
              "      <td>[240744, 101462, 209448, 259050, 166835]</td>\n",
              "    </tr>\n",
              "    <tr>\n",
              "      <th>2</th>\n",
              "      <td>00a6c5a64a274c55a836402bdeb3b2c4</td>\n",
              "      <td>[110793, 143721, 115924, 109079, 140917]</td>\n",
              "    </tr>\n",
              "    <tr>\n",
              "      <th>3</th>\n",
              "      <td>015937a125b14e74bdff1cddc49f9172</td>\n",
              "      <td>[164588, 184440, 182439, 154423, 176171]</td>\n",
              "    </tr>\n",
              "    <tr>\n",
              "      <th>4</th>\n",
              "      <td>01de50c280794cec8804f16f45f847b7</td>\n",
              "      <td>[248720, 176398, 248723, 182682, 241598]</td>\n",
              "    </tr>\n",
              "  </tbody>\n",
              "</table>\n",
              "</div>\n",
              "      <button class=\"colab-df-convert\" onclick=\"convertToInteractive('df-0e74ac78-0618-4421-b8ad-15b18906504e')\"\n",
              "              title=\"Convert this dataframe to an interactive table.\"\n",
              "              style=\"display:none;\">\n",
              "        \n",
              "  <svg xmlns=\"http://www.w3.org/2000/svg\" height=\"24px\"viewBox=\"0 0 24 24\"\n",
              "       width=\"24px\">\n",
              "    <path d=\"M0 0h24v24H0V0z\" fill=\"none\"/>\n",
              "    <path d=\"M18.56 5.44l.94 2.06.94-2.06 2.06-.94-2.06-.94-.94-2.06-.94 2.06-2.06.94zm-11 1L8.5 8.5l.94-2.06 2.06-.94-2.06-.94L8.5 2.5l-.94 2.06-2.06.94zm10 10l.94 2.06.94-2.06 2.06-.94-2.06-.94-.94-2.06-.94 2.06-2.06.94z\"/><path d=\"M17.41 7.96l-1.37-1.37c-.4-.4-.92-.59-1.43-.59-.52 0-1.04.2-1.43.59L10.3 9.45l-7.72 7.72c-.78.78-.78 2.05 0 2.83L4 21.41c.39.39.9.59 1.41.59.51 0 1.02-.2 1.41-.59l7.78-7.78 2.81-2.81c.8-.78.8-2.07 0-2.86zM5.41 20L4 18.59l7.72-7.72 1.47 1.35L5.41 20z\"/>\n",
              "  </svg>\n",
              "      </button>\n",
              "      \n",
              "  <style>\n",
              "    .colab-df-container {\n",
              "      display:flex;\n",
              "      flex-wrap:wrap;\n",
              "      gap: 12px;\n",
              "    }\n",
              "\n",
              "    .colab-df-convert {\n",
              "      background-color: #E8F0FE;\n",
              "      border: none;\n",
              "      border-radius: 50%;\n",
              "      cursor: pointer;\n",
              "      display: none;\n",
              "      fill: #1967D2;\n",
              "      height: 32px;\n",
              "      padding: 0 0 0 0;\n",
              "      width: 32px;\n",
              "    }\n",
              "\n",
              "    .colab-df-convert:hover {\n",
              "      background-color: #E2EBFA;\n",
              "      box-shadow: 0px 1px 2px rgba(60, 64, 67, 0.3), 0px 1px 3px 1px rgba(60, 64, 67, 0.15);\n",
              "      fill: #174EA6;\n",
              "    }\n",
              "\n",
              "    [theme=dark] .colab-df-convert {\n",
              "      background-color: #3B4455;\n",
              "      fill: #D2E3FC;\n",
              "    }\n",
              "\n",
              "    [theme=dark] .colab-df-convert:hover {\n",
              "      background-color: #434B5C;\n",
              "      box-shadow: 0px 1px 3px 1px rgba(0, 0, 0, 0.15);\n",
              "      filter: drop-shadow(0px 1px 2px rgba(0, 0, 0, 0.3));\n",
              "      fill: #FFFFFF;\n",
              "    }\n",
              "  </style>\n",
              "\n",
              "      <script>\n",
              "        const buttonEl =\n",
              "          document.querySelector('#df-0e74ac78-0618-4421-b8ad-15b18906504e button.colab-df-convert');\n",
              "        buttonEl.style.display =\n",
              "          google.colab.kernel.accessAllowed ? 'block' : 'none';\n",
              "\n",
              "        async function convertToInteractive(key) {\n",
              "          const element = document.querySelector('#df-0e74ac78-0618-4421-b8ad-15b18906504e');\n",
              "          const dataTable =\n",
              "            await google.colab.kernel.invokeFunction('convertToInteractive',\n",
              "                                                     [key], {});\n",
              "          if (!dataTable) return;\n",
              "\n",
              "          const docLinkHtml = 'Like what you see? Visit the ' +\n",
              "            '<a target=\"_blank\" href=https://colab.research.google.com/notebooks/data_table.ipynb>data table notebook</a>'\n",
              "            + ' to learn more about interactive tables.';\n",
              "          element.innerHTML = '';\n",
              "          dataTable['output_type'] = 'display_data';\n",
              "          await google.colab.output.renderOutput(dataTable, element);\n",
              "          const docLink = document.createElement('div');\n",
              "          docLink.innerHTML = docLinkHtml;\n",
              "          element.appendChild(docLink);\n",
              "        }\n",
              "      </script>\n",
              "    </div>\n",
              "  </div>\n",
              "  "
            ]
          },
          "metadata": {},
          "execution_count": 197
        }
      ]
    },
    {
      "cell_type": "code",
      "source": [
        "test_prediction1.head()"
      ],
      "metadata": {
        "colab": {
          "base_uri": "https://localhost:8080/",
          "height": 206
        },
        "id": "Xg4cyiaWjheF",
        "outputId": "99874714-50ca-46bb-c12f-390c43e75088"
      },
      "execution_count": null,
      "outputs": [
        {
          "output_type": "execute_result",
          "data": {
            "text/plain": [
              "                          cookie_id                       top_recommendations\n",
              "0  000cd76cd33f43d4a1ac1d16d10f8bf7  [171734, 218716, 220400, 195901, 223230]\n",
              "1  0034bc7f404341ba8412665453e7825a  [209448, 176963, 108536, 206154, 101462]\n",
              "2  00a6c5a64a274c55a836402bdeb3b2c4  [109079, 140917, 209448, 115924, 229689]\n",
              "3  015937a125b14e74bdff1cddc49f9172  [119363, 192565, 184440, 164588, 182439]\n",
              "4  01de50c280794cec8804f16f45f847b7  [243731, 205961, 248720, 182682, 248723]"
            ],
            "text/html": [
              "\n",
              "  <div id=\"df-822768d2-2358-4c4a-9a91-db08beaa1f14\">\n",
              "    <div class=\"colab-df-container\">\n",
              "      <div>\n",
              "<style scoped>\n",
              "    .dataframe tbody tr th:only-of-type {\n",
              "        vertical-align: middle;\n",
              "    }\n",
              "\n",
              "    .dataframe tbody tr th {\n",
              "        vertical-align: top;\n",
              "    }\n",
              "\n",
              "    .dataframe thead th {\n",
              "        text-align: right;\n",
              "    }\n",
              "</style>\n",
              "<table border=\"1\" class=\"dataframe\">\n",
              "  <thead>\n",
              "    <tr style=\"text-align: right;\">\n",
              "      <th></th>\n",
              "      <th>cookie_id</th>\n",
              "      <th>top_recommendations</th>\n",
              "    </tr>\n",
              "  </thead>\n",
              "  <tbody>\n",
              "    <tr>\n",
              "      <th>0</th>\n",
              "      <td>000cd76cd33f43d4a1ac1d16d10f8bf7</td>\n",
              "      <td>[171734, 218716, 220400, 195901, 223230]</td>\n",
              "    </tr>\n",
              "    <tr>\n",
              "      <th>1</th>\n",
              "      <td>0034bc7f404341ba8412665453e7825a</td>\n",
              "      <td>[209448, 176963, 108536, 206154, 101462]</td>\n",
              "    </tr>\n",
              "    <tr>\n",
              "      <th>2</th>\n",
              "      <td>00a6c5a64a274c55a836402bdeb3b2c4</td>\n",
              "      <td>[109079, 140917, 209448, 115924, 229689]</td>\n",
              "    </tr>\n",
              "    <tr>\n",
              "      <th>3</th>\n",
              "      <td>015937a125b14e74bdff1cddc49f9172</td>\n",
              "      <td>[119363, 192565, 184440, 164588, 182439]</td>\n",
              "    </tr>\n",
              "    <tr>\n",
              "      <th>4</th>\n",
              "      <td>01de50c280794cec8804f16f45f847b7</td>\n",
              "      <td>[243731, 205961, 248720, 182682, 248723]</td>\n",
              "    </tr>\n",
              "  </tbody>\n",
              "</table>\n",
              "</div>\n",
              "      <button class=\"colab-df-convert\" onclick=\"convertToInteractive('df-822768d2-2358-4c4a-9a91-db08beaa1f14')\"\n",
              "              title=\"Convert this dataframe to an interactive table.\"\n",
              "              style=\"display:none;\">\n",
              "        \n",
              "  <svg xmlns=\"http://www.w3.org/2000/svg\" height=\"24px\"viewBox=\"0 0 24 24\"\n",
              "       width=\"24px\">\n",
              "    <path d=\"M0 0h24v24H0V0z\" fill=\"none\"/>\n",
              "    <path d=\"M18.56 5.44l.94 2.06.94-2.06 2.06-.94-2.06-.94-.94-2.06-.94 2.06-2.06.94zm-11 1L8.5 8.5l.94-2.06 2.06-.94-2.06-.94L8.5 2.5l-.94 2.06-2.06.94zm10 10l.94 2.06.94-2.06 2.06-.94-2.06-.94-.94-2.06-.94 2.06-2.06.94z\"/><path d=\"M17.41 7.96l-1.37-1.37c-.4-.4-.92-.59-1.43-.59-.52 0-1.04.2-1.43.59L10.3 9.45l-7.72 7.72c-.78.78-.78 2.05 0 2.83L4 21.41c.39.39.9.59 1.41.59.51 0 1.02-.2 1.41-.59l7.78-7.78 2.81-2.81c.8-.78.8-2.07 0-2.86zM5.41 20L4 18.59l7.72-7.72 1.47 1.35L5.41 20z\"/>\n",
              "  </svg>\n",
              "      </button>\n",
              "      \n",
              "  <style>\n",
              "    .colab-df-container {\n",
              "      display:flex;\n",
              "      flex-wrap:wrap;\n",
              "      gap: 12px;\n",
              "    }\n",
              "\n",
              "    .colab-df-convert {\n",
              "      background-color: #E8F0FE;\n",
              "      border: none;\n",
              "      border-radius: 50%;\n",
              "      cursor: pointer;\n",
              "      display: none;\n",
              "      fill: #1967D2;\n",
              "      height: 32px;\n",
              "      padding: 0 0 0 0;\n",
              "      width: 32px;\n",
              "    }\n",
              "\n",
              "    .colab-df-convert:hover {\n",
              "      background-color: #E2EBFA;\n",
              "      box-shadow: 0px 1px 2px rgba(60, 64, 67, 0.3), 0px 1px 3px 1px rgba(60, 64, 67, 0.15);\n",
              "      fill: #174EA6;\n",
              "    }\n",
              "\n",
              "    [theme=dark] .colab-df-convert {\n",
              "      background-color: #3B4455;\n",
              "      fill: #D2E3FC;\n",
              "    }\n",
              "\n",
              "    [theme=dark] .colab-df-convert:hover {\n",
              "      background-color: #434B5C;\n",
              "      box-shadow: 0px 1px 3px 1px rgba(0, 0, 0, 0.15);\n",
              "      filter: drop-shadow(0px 1px 2px rgba(0, 0, 0, 0.3));\n",
              "      fill: #FFFFFF;\n",
              "    }\n",
              "  </style>\n",
              "\n",
              "      <script>\n",
              "        const buttonEl =\n",
              "          document.querySelector('#df-822768d2-2358-4c4a-9a91-db08beaa1f14 button.colab-df-convert');\n",
              "        buttonEl.style.display =\n",
              "          google.colab.kernel.accessAllowed ? 'block' : 'none';\n",
              "\n",
              "        async function convertToInteractive(key) {\n",
              "          const element = document.querySelector('#df-822768d2-2358-4c4a-9a91-db08beaa1f14');\n",
              "          const dataTable =\n",
              "            await google.colab.kernel.invokeFunction('convertToInteractive',\n",
              "                                                     [key], {});\n",
              "          if (!dataTable) return;\n",
              "\n",
              "          const docLinkHtml = 'Like what you see? Visit the ' +\n",
              "            '<a target=\"_blank\" href=https://colab.research.google.com/notebooks/data_table.ipynb>data table notebook</a>'\n",
              "            + ' to learn more about interactive tables.';\n",
              "          element.innerHTML = '';\n",
              "          dataTable['output_type'] = 'display_data';\n",
              "          await google.colab.output.renderOutput(dataTable, element);\n",
              "          const docLink = document.createElement('div');\n",
              "          docLink.innerHTML = docLinkHtml;\n",
              "          element.appendChild(docLink);\n",
              "        }\n",
              "      </script>\n",
              "    </div>\n",
              "  </div>\n",
              "  "
            ]
          },
          "metadata": {},
          "execution_count": 137
        }
      ]
    },
    {
      "cell_type": "code",
      "source": [
        "# Вот эта наша функция получения метрики\n",
        "def precision_n(predictions, df_test_list_top, k=5):\n",
        "    \n",
        "    # Количество рекомендаций по k вакансий:\n",
        "    n_rec_k = len(df_test_list_top)*k\n",
        "    \n",
        "    # Подсчет валидных вакансий:\n",
        "    matches = 0\n",
        "    for row in range(len(predictions)):\n",
        "        row_match = set(predictions['top_recommendations'][row]).intersection(set(df_test_list_top['vacancy_id_'][row]))  \n",
        "        matches += len(row_match)\n",
        "    \n",
        "    try: \n",
        "        precisions = matches / n_rec_k\n",
        "    except:\n",
        "        precisions = 0\n",
        "\n",
        "    return precisions"
      ],
      "metadata": {
        "id": "BRBu1HjUIicm"
      },
      "execution_count": null,
      "outputs": []
    },
    {
      "cell_type": "code",
      "source": [
        "# Ну и собственно вот результат\n",
        "precision_n(test_prediction, test)"
      ],
      "metadata": {
        "colab": {
          "base_uri": "https://localhost:8080/"
        },
        "id": "JVZiqJF2IiZ4",
        "outputId": "5513f748-c320-4fca-f38e-870d8466a2b9"
      },
      "execution_count": null,
      "outputs": [
        {
          "output_type": "execute_result",
          "data": {
            "text/plain": [
              "0.028238341968911916"
            ]
          },
          "metadata": {},
          "execution_count": 199
        }
      ]
    },
    {
      "cell_type": "code",
      "source": [
        "precision_n(test_prediction1, test)"
      ],
      "metadata": {
        "colab": {
          "base_uri": "https://localhost:8080/"
        },
        "id": "LJwXwHZ7jqjY",
        "outputId": "24f9af15-6809-4e4e-95ec-e85e4e4c538b"
      },
      "execution_count": null,
      "outputs": [
        {
          "output_type": "execute_result",
          "data": {
            "text/plain": [
              "0.03212435233160622"
            ]
          },
          "metadata": {},
          "execution_count": 200
        }
      ]
    },
    {
      "cell_type": "code",
      "source": [],
      "metadata": {
        "id": "BCY1ulXIQMPI"
      },
      "execution_count": null,
      "outputs": []
    }
  ],
  "metadata": {
    "colab": {
      "provenance": []
    },
    "kernelspec": {
      "display_name": "Python 3",
      "language": "python",
      "name": "python3"
    },
    "language_info": {
      "codemirror_mode": {
        "name": "ipython",
        "version": 3
      },
      "file_extension": ".py",
      "mimetype": "text/x-python",
      "name": "python",
      "nbconvert_exporter": "python",
      "pygments_lexer": "ipython3",
      "version": "3.10.7"
    },
    "widgets": {
      "application/vnd.jupyter.widget-state+json": {
        "567fa13651614deba9f9b644396cd841": {
          "model_module": "@jupyter-widgets/controls",
          "model_name": "HBoxModel",
          "model_module_version": "1.5.0",
          "state": {
            "_dom_classes": [],
            "_model_module": "@jupyter-widgets/controls",
            "_model_module_version": "1.5.0",
            "_model_name": "HBoxModel",
            "_view_count": null,
            "_view_module": "@jupyter-widgets/controls",
            "_view_module_version": "1.5.0",
            "_view_name": "HBoxView",
            "box_style": "",
            "children": [
              "IPY_MODEL_b2a17a21eaf34d91b815176cc0330782",
              "IPY_MODEL_02189c5bc9bd43989e74aeb4f4c9d34d",
              "IPY_MODEL_ebfd20a2f50444eeba55f3b35475455f"
            ],
            "layout": "IPY_MODEL_2243ee47c5c64eb7860e9bef1353c9fb"
          }
        },
        "b2a17a21eaf34d91b815176cc0330782": {
          "model_module": "@jupyter-widgets/controls",
          "model_name": "HTMLModel",
          "model_module_version": "1.5.0",
          "state": {
            "_dom_classes": [],
            "_model_module": "@jupyter-widgets/controls",
            "_model_module_version": "1.5.0",
            "_model_name": "HTMLModel",
            "_view_count": null,
            "_view_module": "@jupyter-widgets/controls",
            "_view_module_version": "1.5.0",
            "_view_name": "HTMLView",
            "description": "",
            "description_tooltip": null,
            "layout": "IPY_MODEL_e9ec0781a4d2402f8a2664df3d559e44",
            "placeholder": "​",
            "style": "IPY_MODEL_bd9a9d1b88754b878cf8c543434192a9",
            "value": "100%"
          }
        },
        "02189c5bc9bd43989e74aeb4f4c9d34d": {
          "model_module": "@jupyter-widgets/controls",
          "model_name": "FloatProgressModel",
          "model_module_version": "1.5.0",
          "state": {
            "_dom_classes": [],
            "_model_module": "@jupyter-widgets/controls",
            "_model_module_version": "1.5.0",
            "_model_name": "FloatProgressModel",
            "_view_count": null,
            "_view_module": "@jupyter-widgets/controls",
            "_view_module_version": "1.5.0",
            "_view_name": "ProgressView",
            "bar_style": "success",
            "description": "",
            "description_tooltip": null,
            "layout": "IPY_MODEL_dd49727c04c04c848d85a52f92d2f7b6",
            "max": 100,
            "min": 0,
            "orientation": "horizontal",
            "style": "IPY_MODEL_156b2b30cc024c609e62df60dbd39b2b",
            "value": 100
          }
        },
        "ebfd20a2f50444eeba55f3b35475455f": {
          "model_module": "@jupyter-widgets/controls",
          "model_name": "HTMLModel",
          "model_module_version": "1.5.0",
          "state": {
            "_dom_classes": [],
            "_model_module": "@jupyter-widgets/controls",
            "_model_module_version": "1.5.0",
            "_model_name": "HTMLModel",
            "_view_count": null,
            "_view_module": "@jupyter-widgets/controls",
            "_view_module_version": "1.5.0",
            "_view_name": "HTMLView",
            "description": "",
            "description_tooltip": null,
            "layout": "IPY_MODEL_6b014d2e8d9243bc82a5067143093814",
            "placeholder": "​",
            "style": "IPY_MODEL_2f5f7c966b1146148f86d4b58da6bf3d",
            "value": " 100/100 [04:36&lt;00:00,  2.76s/it]"
          }
        },
        "2243ee47c5c64eb7860e9bef1353c9fb": {
          "model_module": "@jupyter-widgets/base",
          "model_name": "LayoutModel",
          "model_module_version": "1.2.0",
          "state": {
            "_model_module": "@jupyter-widgets/base",
            "_model_module_version": "1.2.0",
            "_model_name": "LayoutModel",
            "_view_count": null,
            "_view_module": "@jupyter-widgets/base",
            "_view_module_version": "1.2.0",
            "_view_name": "LayoutView",
            "align_content": null,
            "align_items": null,
            "align_self": null,
            "border": null,
            "bottom": null,
            "display": null,
            "flex": null,
            "flex_flow": null,
            "grid_area": null,
            "grid_auto_columns": null,
            "grid_auto_flow": null,
            "grid_auto_rows": null,
            "grid_column": null,
            "grid_gap": null,
            "grid_row": null,
            "grid_template_areas": null,
            "grid_template_columns": null,
            "grid_template_rows": null,
            "height": null,
            "justify_content": null,
            "justify_items": null,
            "left": null,
            "margin": null,
            "max_height": null,
            "max_width": null,
            "min_height": null,
            "min_width": null,
            "object_fit": null,
            "object_position": null,
            "order": null,
            "overflow": null,
            "overflow_x": null,
            "overflow_y": null,
            "padding": null,
            "right": null,
            "top": null,
            "visibility": null,
            "width": null
          }
        },
        "e9ec0781a4d2402f8a2664df3d559e44": {
          "model_module": "@jupyter-widgets/base",
          "model_name": "LayoutModel",
          "model_module_version": "1.2.0",
          "state": {
            "_model_module": "@jupyter-widgets/base",
            "_model_module_version": "1.2.0",
            "_model_name": "LayoutModel",
            "_view_count": null,
            "_view_module": "@jupyter-widgets/base",
            "_view_module_version": "1.2.0",
            "_view_name": "LayoutView",
            "align_content": null,
            "align_items": null,
            "align_self": null,
            "border": null,
            "bottom": null,
            "display": null,
            "flex": null,
            "flex_flow": null,
            "grid_area": null,
            "grid_auto_columns": null,
            "grid_auto_flow": null,
            "grid_auto_rows": null,
            "grid_column": null,
            "grid_gap": null,
            "grid_row": null,
            "grid_template_areas": null,
            "grid_template_columns": null,
            "grid_template_rows": null,
            "height": null,
            "justify_content": null,
            "justify_items": null,
            "left": null,
            "margin": null,
            "max_height": null,
            "max_width": null,
            "min_height": null,
            "min_width": null,
            "object_fit": null,
            "object_position": null,
            "order": null,
            "overflow": null,
            "overflow_x": null,
            "overflow_y": null,
            "padding": null,
            "right": null,
            "top": null,
            "visibility": null,
            "width": null
          }
        },
        "bd9a9d1b88754b878cf8c543434192a9": {
          "model_module": "@jupyter-widgets/controls",
          "model_name": "DescriptionStyleModel",
          "model_module_version": "1.5.0",
          "state": {
            "_model_module": "@jupyter-widgets/controls",
            "_model_module_version": "1.5.0",
            "_model_name": "DescriptionStyleModel",
            "_view_count": null,
            "_view_module": "@jupyter-widgets/base",
            "_view_module_version": "1.2.0",
            "_view_name": "StyleView",
            "description_width": ""
          }
        },
        "dd49727c04c04c848d85a52f92d2f7b6": {
          "model_module": "@jupyter-widgets/base",
          "model_name": "LayoutModel",
          "model_module_version": "1.2.0",
          "state": {
            "_model_module": "@jupyter-widgets/base",
            "_model_module_version": "1.2.0",
            "_model_name": "LayoutModel",
            "_view_count": null,
            "_view_module": "@jupyter-widgets/base",
            "_view_module_version": "1.2.0",
            "_view_name": "LayoutView",
            "align_content": null,
            "align_items": null,
            "align_self": null,
            "border": null,
            "bottom": null,
            "display": null,
            "flex": null,
            "flex_flow": null,
            "grid_area": null,
            "grid_auto_columns": null,
            "grid_auto_flow": null,
            "grid_auto_rows": null,
            "grid_column": null,
            "grid_gap": null,
            "grid_row": null,
            "grid_template_areas": null,
            "grid_template_columns": null,
            "grid_template_rows": null,
            "height": null,
            "justify_content": null,
            "justify_items": null,
            "left": null,
            "margin": null,
            "max_height": null,
            "max_width": null,
            "min_height": null,
            "min_width": null,
            "object_fit": null,
            "object_position": null,
            "order": null,
            "overflow": null,
            "overflow_x": null,
            "overflow_y": null,
            "padding": null,
            "right": null,
            "top": null,
            "visibility": null,
            "width": null
          }
        },
        "156b2b30cc024c609e62df60dbd39b2b": {
          "model_module": "@jupyter-widgets/controls",
          "model_name": "ProgressStyleModel",
          "model_module_version": "1.5.0",
          "state": {
            "_model_module": "@jupyter-widgets/controls",
            "_model_module_version": "1.5.0",
            "_model_name": "ProgressStyleModel",
            "_view_count": null,
            "_view_module": "@jupyter-widgets/base",
            "_view_module_version": "1.2.0",
            "_view_name": "StyleView",
            "bar_color": null,
            "description_width": ""
          }
        },
        "6b014d2e8d9243bc82a5067143093814": {
          "model_module": "@jupyter-widgets/base",
          "model_name": "LayoutModel",
          "model_module_version": "1.2.0",
          "state": {
            "_model_module": "@jupyter-widgets/base",
            "_model_module_version": "1.2.0",
            "_model_name": "LayoutModel",
            "_view_count": null,
            "_view_module": "@jupyter-widgets/base",
            "_view_module_version": "1.2.0",
            "_view_name": "LayoutView",
            "align_content": null,
            "align_items": null,
            "align_self": null,
            "border": null,
            "bottom": null,
            "display": null,
            "flex": null,
            "flex_flow": null,
            "grid_area": null,
            "grid_auto_columns": null,
            "grid_auto_flow": null,
            "grid_auto_rows": null,
            "grid_column": null,
            "grid_gap": null,
            "grid_row": null,
            "grid_template_areas": null,
            "grid_template_columns": null,
            "grid_template_rows": null,
            "height": null,
            "justify_content": null,
            "justify_items": null,
            "left": null,
            "margin": null,
            "max_height": null,
            "max_width": null,
            "min_height": null,
            "min_width": null,
            "object_fit": null,
            "object_position": null,
            "order": null,
            "overflow": null,
            "overflow_x": null,
            "overflow_y": null,
            "padding": null,
            "right": null,
            "top": null,
            "visibility": null,
            "width": null
          }
        },
        "2f5f7c966b1146148f86d4b58da6bf3d": {
          "model_module": "@jupyter-widgets/controls",
          "model_name": "DescriptionStyleModel",
          "model_module_version": "1.5.0",
          "state": {
            "_model_module": "@jupyter-widgets/controls",
            "_model_module_version": "1.5.0",
            "_model_name": "DescriptionStyleModel",
            "_view_count": null,
            "_view_module": "@jupyter-widgets/base",
            "_view_module_version": "1.2.0",
            "_view_name": "StyleView",
            "description_width": ""
          }
        }
      }
    },
    "accelerator": "GPU",
    "gpuClass": "standard"
  },
  "nbformat": 4,
  "nbformat_minor": 0
}