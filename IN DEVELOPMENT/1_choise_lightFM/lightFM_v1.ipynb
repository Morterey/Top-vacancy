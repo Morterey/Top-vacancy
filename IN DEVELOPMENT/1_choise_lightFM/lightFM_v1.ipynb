{
  "nbformat": 4,
  "nbformat_minor": 0,
  "metadata": {
    "colab": {
      "provenance": [],
      "gpuType": "T4"
    },
    "kernelspec": {
      "name": "python3",
      "display_name": "Python 3"
    },
    "language_info": {
      "name": "python"
    },
    "accelerator": "GPU",
    "gpuClass": "standard"
  },
  "cells": [
    {
      "cell_type": "code",
      "execution_count": null,
      "metadata": {
        "colab": {
          "base_uri": "https://localhost:8080/"
        },
        "id": "vYg7fsrAcW-i",
        "outputId": "67046164-3520-436c-de01-f26de2f942b8"
      },
      "outputs": [
        {
          "output_type": "stream",
          "name": "stdout",
          "text": [
            "Drive already mounted at /content/drive; to attempt to forcibly remount, call drive.mount(\"/content/drive\", force_remount=True).\n"
          ]
        }
      ],
      "source": [
        "from google.colab import drive\n",
        "drive.mount('/content/drive')"
      ]
    },
    {
      "cell_type": "code",
      "source": [
        "!pip install lightfm"
      ],
      "metadata": {
        "colab": {
          "base_uri": "https://localhost:8080/"
        },
        "id": "wQOM0VmvmPuH",
        "outputId": "6c5995bc-39ba-48d2-f13a-4b15537e5b5b"
      },
      "execution_count": null,
      "outputs": [
        {
          "output_type": "stream",
          "name": "stdout",
          "text": [
            "Looking in indexes: https://pypi.org/simple, https://us-python.pkg.dev/colab-wheels/public/simple/\n",
            "Collecting lightfm\n",
            "  Downloading lightfm-1.17.tar.gz (316 kB)\n",
            "\u001b[2K     \u001b[90m━━━━━━━━━━━━━━━━━━━━━━━━━━━━━━━━━━━━━━━\u001b[0m \u001b[32m316.4/316.4 kB\u001b[0m \u001b[31m6.4 MB/s\u001b[0m eta \u001b[36m0:00:00\u001b[0m\n",
            "\u001b[?25h  Preparing metadata (setup.py) ... \u001b[?25l\u001b[?25hdone\n",
            "Requirement already satisfied: numpy in /usr/local/lib/python3.9/dist-packages (from lightfm) (1.22.4)\n",
            "Requirement already satisfied: scipy>=0.17.0 in /usr/local/lib/python3.9/dist-packages (from lightfm) (1.10.1)\n",
            "Requirement already satisfied: requests in /usr/local/lib/python3.9/dist-packages (from lightfm) (2.27.1)\n",
            "Requirement already satisfied: scikit-learn in /usr/local/lib/python3.9/dist-packages (from lightfm) (1.2.2)\n",
            "Requirement already satisfied: certifi>=2017.4.17 in /usr/local/lib/python3.9/dist-packages (from requests->lightfm) (2022.12.7)\n",
            "Requirement already satisfied: charset-normalizer~=2.0.0 in /usr/local/lib/python3.9/dist-packages (from requests->lightfm) (2.0.12)\n",
            "Requirement already satisfied: urllib3<1.27,>=1.21.1 in /usr/local/lib/python3.9/dist-packages (from requests->lightfm) (1.26.15)\n",
            "Requirement already satisfied: idna<4,>=2.5 in /usr/local/lib/python3.9/dist-packages (from requests->lightfm) (3.4)\n",
            "Requirement already satisfied: joblib>=1.1.1 in /usr/local/lib/python3.9/dist-packages (from scikit-learn->lightfm) (1.2.0)\n",
            "Requirement already satisfied: threadpoolctl>=2.0.0 in /usr/local/lib/python3.9/dist-packages (from scikit-learn->lightfm) (3.1.0)\n",
            "Building wheels for collected packages: lightfm\n",
            "  Building wheel for lightfm (setup.py) ... \u001b[?25l\u001b[?25hdone\n",
            "  Created wheel for lightfm: filename=lightfm-1.17-cp39-cp39-linux_x86_64.whl size=889512 sha256=650633dbf9178fd324703b959998bf956dec1e96b9d5451c4a092df8ef2f2a4d\n",
            "  Stored in directory: /root/.cache/pip/wheels/d8/65/93/6ac8180274dc2e8f86ff326be62da1dfa55dc158fd45faba7d\n",
            "Successfully built lightfm\n",
            "Installing collected packages: lightfm\n",
            "Successfully installed lightfm-1.17\n"
          ]
        }
      ]
    },
    {
      "cell_type": "code",
      "source": [
        "import pandas as pd\n",
        "import numpy as np\n",
        "from lightfm import LightFM\n",
        "from lightfm.data import Dataset\n",
        "from lightfm.evaluation import precision_at_k\n",
        "import pyarrow.parquet as pq\n",
        "from itertools import chain\n",
        "import random"
      ],
      "metadata": {
        "id": "PrUJCsqbtvrD"
      },
      "execution_count": 75,
      "outputs": []
    },
    {
      "cell_type": "markdown",
      "source": [
        "**Обучение на разделенном train 80/20**  \n",
        "_____"
      ],
      "metadata": {
        "id": "DS4laQohsi-_"
      }
    },
    {
      "cell_type": "code",
      "source": [
        "train_data = pd.read_csv('/content/drive/MyDrive/train_data.csv')"
      ],
      "metadata": {
        "id": "UPdK6x6mm4QJ"
      },
      "execution_count": null,
      "outputs": []
    },
    {
      "cell_type": "code",
      "source": [
        "test_data = pd.read_csv('/content/drive/MyDrive/test_data.csv')"
      ],
      "metadata": {
        "id": "ZGx9SwWSm5bT"
      },
      "execution_count": null,
      "outputs": []
    },
    {
      "cell_type": "code",
      "source": [
        "train_data.head()"
      ],
      "metadata": {
        "colab": {
          "base_uri": "https://localhost:8080/",
          "height": 206
        },
        "id": "myIWZ4oaeBpX",
        "outputId": "0db44a7b-d516-4421-d5b9-1a305da6e25f"
      },
      "execution_count": null,
      "outputs": [
        {
          "output_type": "execute_result",
          "data": {
            "text/plain": [
              "                          cookie_id  vacancy_id_  event_type\n",
              "0  abaec81fdf5e41b98ba70562cf1ee12b       102993         0.5\n",
              "1  87b9efa7623340c2bc1c30d93a4c5663       158179         0.5\n",
              "2  eac6f3b6a4bb4c1396d127cb48202bea       103209         0.5\n",
              "3  f4fd2cbde7bb47f3bf9156480b81f05a       112356         0.5\n",
              "4  fe17b1e0df57474d91b363d609e46d9b       113707         0.5"
            ],
            "text/html": [
              "\n",
              "  <div id=\"df-7a42addd-0212-4cf0-a214-0dc9236a4d03\">\n",
              "    <div class=\"colab-df-container\">\n",
              "      <div>\n",
              "<style scoped>\n",
              "    .dataframe tbody tr th:only-of-type {\n",
              "        vertical-align: middle;\n",
              "    }\n",
              "\n",
              "    .dataframe tbody tr th {\n",
              "        vertical-align: top;\n",
              "    }\n",
              "\n",
              "    .dataframe thead th {\n",
              "        text-align: right;\n",
              "    }\n",
              "</style>\n",
              "<table border=\"1\" class=\"dataframe\">\n",
              "  <thead>\n",
              "    <tr style=\"text-align: right;\">\n",
              "      <th></th>\n",
              "      <th>cookie_id</th>\n",
              "      <th>vacancy_id_</th>\n",
              "      <th>event_type</th>\n",
              "    </tr>\n",
              "  </thead>\n",
              "  <tbody>\n",
              "    <tr>\n",
              "      <th>0</th>\n",
              "      <td>abaec81fdf5e41b98ba70562cf1ee12b</td>\n",
              "      <td>102993</td>\n",
              "      <td>0.5</td>\n",
              "    </tr>\n",
              "    <tr>\n",
              "      <th>1</th>\n",
              "      <td>87b9efa7623340c2bc1c30d93a4c5663</td>\n",
              "      <td>158179</td>\n",
              "      <td>0.5</td>\n",
              "    </tr>\n",
              "    <tr>\n",
              "      <th>2</th>\n",
              "      <td>eac6f3b6a4bb4c1396d127cb48202bea</td>\n",
              "      <td>103209</td>\n",
              "      <td>0.5</td>\n",
              "    </tr>\n",
              "    <tr>\n",
              "      <th>3</th>\n",
              "      <td>f4fd2cbde7bb47f3bf9156480b81f05a</td>\n",
              "      <td>112356</td>\n",
              "      <td>0.5</td>\n",
              "    </tr>\n",
              "    <tr>\n",
              "      <th>4</th>\n",
              "      <td>fe17b1e0df57474d91b363d609e46d9b</td>\n",
              "      <td>113707</td>\n",
              "      <td>0.5</td>\n",
              "    </tr>\n",
              "  </tbody>\n",
              "</table>\n",
              "</div>\n",
              "      <button class=\"colab-df-convert\" onclick=\"convertToInteractive('df-7a42addd-0212-4cf0-a214-0dc9236a4d03')\"\n",
              "              title=\"Convert this dataframe to an interactive table.\"\n",
              "              style=\"display:none;\">\n",
              "        \n",
              "  <svg xmlns=\"http://www.w3.org/2000/svg\" height=\"24px\"viewBox=\"0 0 24 24\"\n",
              "       width=\"24px\">\n",
              "    <path d=\"M0 0h24v24H0V0z\" fill=\"none\"/>\n",
              "    <path d=\"M18.56 5.44l.94 2.06.94-2.06 2.06-.94-2.06-.94-.94-2.06-.94 2.06-2.06.94zm-11 1L8.5 8.5l.94-2.06 2.06-.94-2.06-.94L8.5 2.5l-.94 2.06-2.06.94zm10 10l.94 2.06.94-2.06 2.06-.94-2.06-.94-.94-2.06-.94 2.06-2.06.94z\"/><path d=\"M17.41 7.96l-1.37-1.37c-.4-.4-.92-.59-1.43-.59-.52 0-1.04.2-1.43.59L10.3 9.45l-7.72 7.72c-.78.78-.78 2.05 0 2.83L4 21.41c.39.39.9.59 1.41.59.51 0 1.02-.2 1.41-.59l7.78-7.78 2.81-2.81c.8-.78.8-2.07 0-2.86zM5.41 20L4 18.59l7.72-7.72 1.47 1.35L5.41 20z\"/>\n",
              "  </svg>\n",
              "      </button>\n",
              "      \n",
              "  <style>\n",
              "    .colab-df-container {\n",
              "      display:flex;\n",
              "      flex-wrap:wrap;\n",
              "      gap: 12px;\n",
              "    }\n",
              "\n",
              "    .colab-df-convert {\n",
              "      background-color: #E8F0FE;\n",
              "      border: none;\n",
              "      border-radius: 50%;\n",
              "      cursor: pointer;\n",
              "      display: none;\n",
              "      fill: #1967D2;\n",
              "      height: 32px;\n",
              "      padding: 0 0 0 0;\n",
              "      width: 32px;\n",
              "    }\n",
              "\n",
              "    .colab-df-convert:hover {\n",
              "      background-color: #E2EBFA;\n",
              "      box-shadow: 0px 1px 2px rgba(60, 64, 67, 0.3), 0px 1px 3px 1px rgba(60, 64, 67, 0.15);\n",
              "      fill: #174EA6;\n",
              "    }\n",
              "\n",
              "    [theme=dark] .colab-df-convert {\n",
              "      background-color: #3B4455;\n",
              "      fill: #D2E3FC;\n",
              "    }\n",
              "\n",
              "    [theme=dark] .colab-df-convert:hover {\n",
              "      background-color: #434B5C;\n",
              "      box-shadow: 0px 1px 3px 1px rgba(0, 0, 0, 0.15);\n",
              "      filter: drop-shadow(0px 1px 2px rgba(0, 0, 0, 0.3));\n",
              "      fill: #FFFFFF;\n",
              "    }\n",
              "  </style>\n",
              "\n",
              "      <script>\n",
              "        const buttonEl =\n",
              "          document.querySelector('#df-7a42addd-0212-4cf0-a214-0dc9236a4d03 button.colab-df-convert');\n",
              "        buttonEl.style.display =\n",
              "          google.colab.kernel.accessAllowed ? 'block' : 'none';\n",
              "\n",
              "        async function convertToInteractive(key) {\n",
              "          const element = document.querySelector('#df-7a42addd-0212-4cf0-a214-0dc9236a4d03');\n",
              "          const dataTable =\n",
              "            await google.colab.kernel.invokeFunction('convertToInteractive',\n",
              "                                                     [key], {});\n",
              "          if (!dataTable) return;\n",
              "\n",
              "          const docLinkHtml = 'Like what you see? Visit the ' +\n",
              "            '<a target=\"_blank\" href=https://colab.research.google.com/notebooks/data_table.ipynb>data table notebook</a>'\n",
              "            + ' to learn more about interactive tables.';\n",
              "          element.innerHTML = '';\n",
              "          dataTable['output_type'] = 'display_data';\n",
              "          await google.colab.output.renderOutput(dataTable, element);\n",
              "          const docLink = document.createElement('div');\n",
              "          docLink.innerHTML = docLinkHtml;\n",
              "          element.appendChild(docLink);\n",
              "        }\n",
              "      </script>\n",
              "    </div>\n",
              "  </div>\n",
              "  "
            ]
          },
          "metadata": {},
          "execution_count": 6
        }
      ]
    },
    {
      "cell_type": "code",
      "source": [
        "test_data.head()"
      ],
      "metadata": {
        "id": "a4x4juJKi3_P",
        "colab": {
          "base_uri": "https://localhost:8080/",
          "height": 206
        },
        "outputId": "f3c72289-cd12-4eea-bdd4-12c2d504d909"
      },
      "execution_count": null,
      "outputs": [
        {
          "output_type": "execute_result",
          "data": {
            "text/plain": [
              "                          cookie_id  vacancy_id_  event_type\n",
              "0  69495070cb644e79b6fe2343c08f16d7       174682         0.5\n",
              "1  cdbaf308bd234abfbe2e5ccd6daca8db       107882         0.5\n",
              "2  ba3677792be945cd8ffa62569370c967       195702         0.5\n",
              "3  43abb0d1606745348e99cf7f4d57bf17       258441         0.5\n",
              "4  5fd84198b3374c9297bd8e314daae571       203404         0.5"
            ],
            "text/html": [
              "\n",
              "  <div id=\"df-803bd1a7-1d35-44f1-8712-e8e3574b5664\">\n",
              "    <div class=\"colab-df-container\">\n",
              "      <div>\n",
              "<style scoped>\n",
              "    .dataframe tbody tr th:only-of-type {\n",
              "        vertical-align: middle;\n",
              "    }\n",
              "\n",
              "    .dataframe tbody tr th {\n",
              "        vertical-align: top;\n",
              "    }\n",
              "\n",
              "    .dataframe thead th {\n",
              "        text-align: right;\n",
              "    }\n",
              "</style>\n",
              "<table border=\"1\" class=\"dataframe\">\n",
              "  <thead>\n",
              "    <tr style=\"text-align: right;\">\n",
              "      <th></th>\n",
              "      <th>cookie_id</th>\n",
              "      <th>vacancy_id_</th>\n",
              "      <th>event_type</th>\n",
              "    </tr>\n",
              "  </thead>\n",
              "  <tbody>\n",
              "    <tr>\n",
              "      <th>0</th>\n",
              "      <td>69495070cb644e79b6fe2343c08f16d7</td>\n",
              "      <td>174682</td>\n",
              "      <td>0.5</td>\n",
              "    </tr>\n",
              "    <tr>\n",
              "      <th>1</th>\n",
              "      <td>cdbaf308bd234abfbe2e5ccd6daca8db</td>\n",
              "      <td>107882</td>\n",
              "      <td>0.5</td>\n",
              "    </tr>\n",
              "    <tr>\n",
              "      <th>2</th>\n",
              "      <td>ba3677792be945cd8ffa62569370c967</td>\n",
              "      <td>195702</td>\n",
              "      <td>0.5</td>\n",
              "    </tr>\n",
              "    <tr>\n",
              "      <th>3</th>\n",
              "      <td>43abb0d1606745348e99cf7f4d57bf17</td>\n",
              "      <td>258441</td>\n",
              "      <td>0.5</td>\n",
              "    </tr>\n",
              "    <tr>\n",
              "      <th>4</th>\n",
              "      <td>5fd84198b3374c9297bd8e314daae571</td>\n",
              "      <td>203404</td>\n",
              "      <td>0.5</td>\n",
              "    </tr>\n",
              "  </tbody>\n",
              "</table>\n",
              "</div>\n",
              "      <button class=\"colab-df-convert\" onclick=\"convertToInteractive('df-803bd1a7-1d35-44f1-8712-e8e3574b5664')\"\n",
              "              title=\"Convert this dataframe to an interactive table.\"\n",
              "              style=\"display:none;\">\n",
              "        \n",
              "  <svg xmlns=\"http://www.w3.org/2000/svg\" height=\"24px\"viewBox=\"0 0 24 24\"\n",
              "       width=\"24px\">\n",
              "    <path d=\"M0 0h24v24H0V0z\" fill=\"none\"/>\n",
              "    <path d=\"M18.56 5.44l.94 2.06.94-2.06 2.06-.94-2.06-.94-.94-2.06-.94 2.06-2.06.94zm-11 1L8.5 8.5l.94-2.06 2.06-.94-2.06-.94L8.5 2.5l-.94 2.06-2.06.94zm10 10l.94 2.06.94-2.06 2.06-.94-2.06-.94-.94-2.06-.94 2.06-2.06.94z\"/><path d=\"M17.41 7.96l-1.37-1.37c-.4-.4-.92-.59-1.43-.59-.52 0-1.04.2-1.43.59L10.3 9.45l-7.72 7.72c-.78.78-.78 2.05 0 2.83L4 21.41c.39.39.9.59 1.41.59.51 0 1.02-.2 1.41-.59l7.78-7.78 2.81-2.81c.8-.78.8-2.07 0-2.86zM5.41 20L4 18.59l7.72-7.72 1.47 1.35L5.41 20z\"/>\n",
              "  </svg>\n",
              "      </button>\n",
              "      \n",
              "  <style>\n",
              "    .colab-df-container {\n",
              "      display:flex;\n",
              "      flex-wrap:wrap;\n",
              "      gap: 12px;\n",
              "    }\n",
              "\n",
              "    .colab-df-convert {\n",
              "      background-color: #E8F0FE;\n",
              "      border: none;\n",
              "      border-radius: 50%;\n",
              "      cursor: pointer;\n",
              "      display: none;\n",
              "      fill: #1967D2;\n",
              "      height: 32px;\n",
              "      padding: 0 0 0 0;\n",
              "      width: 32px;\n",
              "    }\n",
              "\n",
              "    .colab-df-convert:hover {\n",
              "      background-color: #E2EBFA;\n",
              "      box-shadow: 0px 1px 2px rgba(60, 64, 67, 0.3), 0px 1px 3px 1px rgba(60, 64, 67, 0.15);\n",
              "      fill: #174EA6;\n",
              "    }\n",
              "\n",
              "    [theme=dark] .colab-df-convert {\n",
              "      background-color: #3B4455;\n",
              "      fill: #D2E3FC;\n",
              "    }\n",
              "\n",
              "    [theme=dark] .colab-df-convert:hover {\n",
              "      background-color: #434B5C;\n",
              "      box-shadow: 0px 1px 3px 1px rgba(0, 0, 0, 0.15);\n",
              "      filter: drop-shadow(0px 1px 2px rgba(0, 0, 0, 0.3));\n",
              "      fill: #FFFFFF;\n",
              "    }\n",
              "  </style>\n",
              "\n",
              "      <script>\n",
              "        const buttonEl =\n",
              "          document.querySelector('#df-803bd1a7-1d35-44f1-8712-e8e3574b5664 button.colab-df-convert');\n",
              "        buttonEl.style.display =\n",
              "          google.colab.kernel.accessAllowed ? 'block' : 'none';\n",
              "\n",
              "        async function convertToInteractive(key) {\n",
              "          const element = document.querySelector('#df-803bd1a7-1d35-44f1-8712-e8e3574b5664');\n",
              "          const dataTable =\n",
              "            await google.colab.kernel.invokeFunction('convertToInteractive',\n",
              "                                                     [key], {});\n",
              "          if (!dataTable) return;\n",
              "\n",
              "          const docLinkHtml = 'Like what you see? Visit the ' +\n",
              "            '<a target=\"_blank\" href=https://colab.research.google.com/notebooks/data_table.ipynb>data table notebook</a>'\n",
              "            + ' to learn more about interactive tables.';\n",
              "          element.innerHTML = '';\n",
              "          dataTable['output_type'] = 'display_data';\n",
              "          await google.colab.output.renderOutput(dataTable, element);\n",
              "          const docLink = document.createElement('div');\n",
              "          docLink.innerHTML = docLinkHtml;\n",
              "          element.appendChild(docLink);\n",
              "        }\n",
              "      </script>\n",
              "    </div>\n",
              "  </div>\n",
              "  "
            ]
          },
          "metadata": {},
          "execution_count": 7
        }
      ]
    },
    {
      "cell_type": "code",
      "source": [
        "pd.concat([train_data['vacancy_id_'], test_data['vacancy_id_']]).unique()"
      ],
      "metadata": {
        "id": "o6h1GCSU1Ysk",
        "colab": {
          "base_uri": "https://localhost:8080/"
        },
        "outputId": "8196ed21-8f64-4f31-87c3-1551ae646cca"
      },
      "execution_count": null,
      "outputs": [
        {
          "output_type": "execute_result",
          "data": {
            "text/plain": [
              "array([102993, 158179, 103209, ..., 208174, 242128, 113710])"
            ]
          },
          "metadata": {},
          "execution_count": 8
        }
      ]
    },
    {
      "cell_type": "code",
      "source": [
        "# Подготовка данных для LightFM\n",
        "dataset = Dataset()\n",
        "dataset.fit(pd.concat([train_data['cookie_id'], test_data['cookie_id']]).unique(),\\\n",
        "            pd.concat([train_data['vacancy_id_'], test_data['vacancy_id_']]).unique())\n",
        "num_users, num_items = dataset.interactions_shape()\n",
        "num_users, num_items"
      ],
      "metadata": {
        "colab": {
          "base_uri": "https://localhost:8080/"
        },
        "id": "BNCqgzBUmo8s",
        "outputId": "769964a3-738f-4887-e729-59010eb3d14d"
      },
      "execution_count": null,
      "outputs": [
        {
          "output_type": "execute_result",
          "data": {
            "text/plain": [
              "(330180, 160167)"
            ]
          },
          "metadata": {},
          "execution_count": 9
        }
      ]
    },
    {
      "cell_type": "code",
      "source": [
        "# Создание словаря вакансий из dataset\n",
        "dict_vacancy = {v: k for k, v in dataset.mapping()[2].items()}"
      ],
      "metadata": {
        "id": "shNoreNgx6hO"
      },
      "execution_count": null,
      "outputs": []
    },
    {
      "cell_type": "code",
      "source": [
        "# Создание матрицы взаимодействий\n",
        "train_interactions, train_weights = dataset.build_interactions([(x['cookie_id'], x['vacancy_id_'], x['event_type']) for idx, x in train_data.iterrows()])\n",
        "test_interactions, test_weights = dataset.build_interactions([(x['cookie_id'], x['vacancy_id_'], x['event_type']) for idx, x in test_data.iterrows()])"
      ],
      "metadata": {
        "id": "Ng4lcxjRKRxR"
      },
      "execution_count": null,
      "outputs": []
    },
    {
      "cell_type": "code",
      "source": [
        "train_interactions"
      ],
      "metadata": {
        "colab": {
          "base_uri": "https://localhost:8080/"
        },
        "id": "IFp0qMFG3npp",
        "outputId": "bc830d70-fc8c-45ea-83a0-2068a9e106c3"
      },
      "execution_count": null,
      "outputs": [
        {
          "data": {
            "text/plain": [
              "<330180x160167 sparse matrix of type '<class 'numpy.int32'>'\n",
              "\twith 3780406 stored elements in COOrdinate format>"
            ]
          },
          "execution_count": 24,
          "metadata": {},
          "output_type": "execute_result"
        }
      ]
    },
    {
      "cell_type": "code",
      "source": [
        "test_interactions"
      ],
      "metadata": {
        "colab": {
          "base_uri": "https://localhost:8080/"
        },
        "id": "RiftizG7NwW1",
        "outputId": "2d06e7bb-2ac0-4a74-8f1b-caa297d42e19"
      },
      "execution_count": null,
      "outputs": [
        {
          "data": {
            "text/plain": [
              "<330180x160167 sparse matrix of type '<class 'numpy.int32'>'\n",
              "\twith 898179 stored elements in COOrdinate format>"
            ]
          },
          "execution_count": 25,
          "metadata": {},
          "output_type": "execute_result"
        }
      ]
    },
    {
      "cell_type": "code",
      "source": [
        "# Обучение модели LightFM\n",
        "model = LightFM(loss='warp')\n",
        "model.fit(train_interactions, epochs=15)"
      ],
      "metadata": {
        "colab": {
          "base_uri": "https://localhost:8080/"
        },
        "id": "jWmx-W5_mo29",
        "outputId": "f45880c1-eee3-4c5e-9a52-a6b313183d35"
      },
      "execution_count": null,
      "outputs": [
        {
          "output_type": "execute_result",
          "data": {
            "text/plain": [
              "<lightfm.lightfm.LightFM at 0x7fab3efcebe0>"
            ]
          },
          "metadata": {},
          "execution_count": 24
        }
      ]
    },
    {
      "cell_type": "code",
      "source": [
        "# Оценка модели с использованием метрики precision@5 на test\n",
        "# check_intesection=True (train_interactions are supplied)\n",
        "test_precision = precision_at_k(model, test_interactions, train_interactions = train_interactions, k=5).mean()\n",
        "print('Test precision@5:', test_precision)\n",
        "# w/o features: Test precision@5: 0.058370296"
      ],
      "metadata": {
        "colab": {
          "base_uri": "https://localhost:8080/"
        },
        "id": "zzUNdmRRBuVb",
        "outputId": "b8325ac0-36e4-4f3a-c368-1863d154ad0a"
      },
      "execution_count": null,
      "outputs": [
        {
          "output_type": "stream",
          "name": "stdout",
          "text": [
            "Test precision@5: 0.058370296\n"
          ]
        }
      ]
    },
    {
      "cell_type": "markdown",
      "source": [
        "**Добавление признаков в item**  \n",
        "___"
      ],
      "metadata": {
        "id": "COC7EFFG9wT0"
      }
    },
    {
      "cell_type": "code",
      "source": [
        "item_features_df = pd.read_csv('/content/drive/MyDrive/item_feature_conv.csv')"
      ],
      "metadata": {
        "id": "IhBffrSl-Dqp"
      },
      "execution_count": 89,
      "outputs": []
    },
    {
      "cell_type": "code",
      "source": [
        "#item_features_df_decay = pd.read_csv('/content/drive/MyDrive/item_feature_decay.csv')"
      ],
      "metadata": {
        "id": "Uf7fXXEqxgyu"
      },
      "execution_count": null,
      "outputs": []
    },
    {
      "cell_type": "code",
      "source": [
        "item_features_df"
      ],
      "metadata": {
        "colab": {
          "base_uri": "https://localhost:8080/",
          "height": 423
        },
        "id": "zaVSFaUD_QzE",
        "outputId": "93011267-2489-40f0-d220-033edbab64ce"
      },
      "execution_count": 90,
      "outputs": [
        {
          "output_type": "execute_result",
          "data": {
            "text/plain": [
              "        vacancy_id_ cat_conv\n",
              "0            100001       c1\n",
              "1            100002       c1\n",
              "2            100003       c1\n",
              "3            100004       c1\n",
              "4            100005       c1\n",
              "...             ...      ...\n",
              "160162       260163       c1\n",
              "160163       260164       c3\n",
              "160164       260165       c1\n",
              "160165       260166       c1\n",
              "160166       260167       c1\n",
              "\n",
              "[160167 rows x 2 columns]"
            ],
            "text/html": [
              "\n",
              "  <div id=\"df-facfe3db-10bc-49a0-ae7b-08fe21476c75\">\n",
              "    <div class=\"colab-df-container\">\n",
              "      <div>\n",
              "<style scoped>\n",
              "    .dataframe tbody tr th:only-of-type {\n",
              "        vertical-align: middle;\n",
              "    }\n",
              "\n",
              "    .dataframe tbody tr th {\n",
              "        vertical-align: top;\n",
              "    }\n",
              "\n",
              "    .dataframe thead th {\n",
              "        text-align: right;\n",
              "    }\n",
              "</style>\n",
              "<table border=\"1\" class=\"dataframe\">\n",
              "  <thead>\n",
              "    <tr style=\"text-align: right;\">\n",
              "      <th></th>\n",
              "      <th>vacancy_id_</th>\n",
              "      <th>cat_conv</th>\n",
              "    </tr>\n",
              "  </thead>\n",
              "  <tbody>\n",
              "    <tr>\n",
              "      <th>0</th>\n",
              "      <td>100001</td>\n",
              "      <td>c1</td>\n",
              "    </tr>\n",
              "    <tr>\n",
              "      <th>1</th>\n",
              "      <td>100002</td>\n",
              "      <td>c1</td>\n",
              "    </tr>\n",
              "    <tr>\n",
              "      <th>2</th>\n",
              "      <td>100003</td>\n",
              "      <td>c1</td>\n",
              "    </tr>\n",
              "    <tr>\n",
              "      <th>3</th>\n",
              "      <td>100004</td>\n",
              "      <td>c1</td>\n",
              "    </tr>\n",
              "    <tr>\n",
              "      <th>4</th>\n",
              "      <td>100005</td>\n",
              "      <td>c1</td>\n",
              "    </tr>\n",
              "    <tr>\n",
              "      <th>...</th>\n",
              "      <td>...</td>\n",
              "      <td>...</td>\n",
              "    </tr>\n",
              "    <tr>\n",
              "      <th>160162</th>\n",
              "      <td>260163</td>\n",
              "      <td>c1</td>\n",
              "    </tr>\n",
              "    <tr>\n",
              "      <th>160163</th>\n",
              "      <td>260164</td>\n",
              "      <td>c3</td>\n",
              "    </tr>\n",
              "    <tr>\n",
              "      <th>160164</th>\n",
              "      <td>260165</td>\n",
              "      <td>c1</td>\n",
              "    </tr>\n",
              "    <tr>\n",
              "      <th>160165</th>\n",
              "      <td>260166</td>\n",
              "      <td>c1</td>\n",
              "    </tr>\n",
              "    <tr>\n",
              "      <th>160166</th>\n",
              "      <td>260167</td>\n",
              "      <td>c1</td>\n",
              "    </tr>\n",
              "  </tbody>\n",
              "</table>\n",
              "<p>160167 rows × 2 columns</p>\n",
              "</div>\n",
              "      <button class=\"colab-df-convert\" onclick=\"convertToInteractive('df-facfe3db-10bc-49a0-ae7b-08fe21476c75')\"\n",
              "              title=\"Convert this dataframe to an interactive table.\"\n",
              "              style=\"display:none;\">\n",
              "        \n",
              "  <svg xmlns=\"http://www.w3.org/2000/svg\" height=\"24px\"viewBox=\"0 0 24 24\"\n",
              "       width=\"24px\">\n",
              "    <path d=\"M0 0h24v24H0V0z\" fill=\"none\"/>\n",
              "    <path d=\"M18.56 5.44l.94 2.06.94-2.06 2.06-.94-2.06-.94-.94-2.06-.94 2.06-2.06.94zm-11 1L8.5 8.5l.94-2.06 2.06-.94-2.06-.94L8.5 2.5l-.94 2.06-2.06.94zm10 10l.94 2.06.94-2.06 2.06-.94-2.06-.94-.94-2.06-.94 2.06-2.06.94z\"/><path d=\"M17.41 7.96l-1.37-1.37c-.4-.4-.92-.59-1.43-.59-.52 0-1.04.2-1.43.59L10.3 9.45l-7.72 7.72c-.78.78-.78 2.05 0 2.83L4 21.41c.39.39.9.59 1.41.59.51 0 1.02-.2 1.41-.59l7.78-7.78 2.81-2.81c.8-.78.8-2.07 0-2.86zM5.41 20L4 18.59l7.72-7.72 1.47 1.35L5.41 20z\"/>\n",
              "  </svg>\n",
              "      </button>\n",
              "      \n",
              "  <style>\n",
              "    .colab-df-container {\n",
              "      display:flex;\n",
              "      flex-wrap:wrap;\n",
              "      gap: 12px;\n",
              "    }\n",
              "\n",
              "    .colab-df-convert {\n",
              "      background-color: #E8F0FE;\n",
              "      border: none;\n",
              "      border-radius: 50%;\n",
              "      cursor: pointer;\n",
              "      display: none;\n",
              "      fill: #1967D2;\n",
              "      height: 32px;\n",
              "      padding: 0 0 0 0;\n",
              "      width: 32px;\n",
              "    }\n",
              "\n",
              "    .colab-df-convert:hover {\n",
              "      background-color: #E2EBFA;\n",
              "      box-shadow: 0px 1px 2px rgba(60, 64, 67, 0.3), 0px 1px 3px 1px rgba(60, 64, 67, 0.15);\n",
              "      fill: #174EA6;\n",
              "    }\n",
              "\n",
              "    [theme=dark] .colab-df-convert {\n",
              "      background-color: #3B4455;\n",
              "      fill: #D2E3FC;\n",
              "    }\n",
              "\n",
              "    [theme=dark] .colab-df-convert:hover {\n",
              "      background-color: #434B5C;\n",
              "      box-shadow: 0px 1px 3px 1px rgba(0, 0, 0, 0.15);\n",
              "      filter: drop-shadow(0px 1px 2px rgba(0, 0, 0, 0.3));\n",
              "      fill: #FFFFFF;\n",
              "    }\n",
              "  </style>\n",
              "\n",
              "      <script>\n",
              "        const buttonEl =\n",
              "          document.querySelector('#df-facfe3db-10bc-49a0-ae7b-08fe21476c75 button.colab-df-convert');\n",
              "        buttonEl.style.display =\n",
              "          google.colab.kernel.accessAllowed ? 'block' : 'none';\n",
              "\n",
              "        async function convertToInteractive(key) {\n",
              "          const element = document.querySelector('#df-facfe3db-10bc-49a0-ae7b-08fe21476c75');\n",
              "          const dataTable =\n",
              "            await google.colab.kernel.invokeFunction('convertToInteractive',\n",
              "                                                     [key], {});\n",
              "          if (!dataTable) return;\n",
              "\n",
              "          const docLinkHtml = 'Like what you see? Visit the ' +\n",
              "            '<a target=\"_blank\" href=https://colab.research.google.com/notebooks/data_table.ipynb>data table notebook</a>'\n",
              "            + ' to learn more about interactive tables.';\n",
              "          element.innerHTML = '';\n",
              "          dataTable['output_type'] = 'display_data';\n",
              "          await google.colab.output.renderOutput(dataTable, element);\n",
              "          const docLink = document.createElement('div');\n",
              "          docLink.innerHTML = docLinkHtml;\n",
              "          element.appendChild(docLink);\n",
              "        }\n",
              "      </script>\n",
              "    </div>\n",
              "  </div>\n",
              "  "
            ]
          },
          "metadata": {},
          "execution_count": 90
        }
      ]
    },
    {
      "cell_type": "code",
      "source": [
        "#item_features_df_decay"
      ],
      "metadata": {
        "colab": {
          "base_uri": "https://localhost:8080/",
          "height": 423
        },
        "id": "WHEn7pWuxotq",
        "outputId": "128d95eb-63c0-44cf-e1f2-dcd816e39f7d"
      },
      "execution_count": null,
      "outputs": [
        {
          "output_type": "execute_result",
          "data": {
            "text/plain": [
              "        vacancy_id_    time_decay\n",
              "0            100001  1.353353e-01\n",
              "1            100002  1.000000e+00\n",
              "2            100003  5.749522e-19\n",
              "3            100004  1.425164e-21\n",
              "4            100005  3.354626e-04\n",
              "...             ...           ...\n",
              "160162       260163  9.118820e-04\n",
              "160163       260164  8.756511e-27\n",
              "160164       260165  9.118820e-04\n",
              "160165       260166  2.115131e-19\n",
              "160166       260167  1.000000e+00\n",
              "\n",
              "[160167 rows x 2 columns]"
            ],
            "text/html": [
              "\n",
              "  <div id=\"df-00a959eb-f993-47a4-b5f3-dded381223f6\">\n",
              "    <div class=\"colab-df-container\">\n",
              "      <div>\n",
              "<style scoped>\n",
              "    .dataframe tbody tr th:only-of-type {\n",
              "        vertical-align: middle;\n",
              "    }\n",
              "\n",
              "    .dataframe tbody tr th {\n",
              "        vertical-align: top;\n",
              "    }\n",
              "\n",
              "    .dataframe thead th {\n",
              "        text-align: right;\n",
              "    }\n",
              "</style>\n",
              "<table border=\"1\" class=\"dataframe\">\n",
              "  <thead>\n",
              "    <tr style=\"text-align: right;\">\n",
              "      <th></th>\n",
              "      <th>vacancy_id_</th>\n",
              "      <th>time_decay</th>\n",
              "    </tr>\n",
              "  </thead>\n",
              "  <tbody>\n",
              "    <tr>\n",
              "      <th>0</th>\n",
              "      <td>100001</td>\n",
              "      <td>1.353353e-01</td>\n",
              "    </tr>\n",
              "    <tr>\n",
              "      <th>1</th>\n",
              "      <td>100002</td>\n",
              "      <td>1.000000e+00</td>\n",
              "    </tr>\n",
              "    <tr>\n",
              "      <th>2</th>\n",
              "      <td>100003</td>\n",
              "      <td>5.749522e-19</td>\n",
              "    </tr>\n",
              "    <tr>\n",
              "      <th>3</th>\n",
              "      <td>100004</td>\n",
              "      <td>1.425164e-21</td>\n",
              "    </tr>\n",
              "    <tr>\n",
              "      <th>4</th>\n",
              "      <td>100005</td>\n",
              "      <td>3.354626e-04</td>\n",
              "    </tr>\n",
              "    <tr>\n",
              "      <th>...</th>\n",
              "      <td>...</td>\n",
              "      <td>...</td>\n",
              "    </tr>\n",
              "    <tr>\n",
              "      <th>160162</th>\n",
              "      <td>260163</td>\n",
              "      <td>9.118820e-04</td>\n",
              "    </tr>\n",
              "    <tr>\n",
              "      <th>160163</th>\n",
              "      <td>260164</td>\n",
              "      <td>8.756511e-27</td>\n",
              "    </tr>\n",
              "    <tr>\n",
              "      <th>160164</th>\n",
              "      <td>260165</td>\n",
              "      <td>9.118820e-04</td>\n",
              "    </tr>\n",
              "    <tr>\n",
              "      <th>160165</th>\n",
              "      <td>260166</td>\n",
              "      <td>2.115131e-19</td>\n",
              "    </tr>\n",
              "    <tr>\n",
              "      <th>160166</th>\n",
              "      <td>260167</td>\n",
              "      <td>1.000000e+00</td>\n",
              "    </tr>\n",
              "  </tbody>\n",
              "</table>\n",
              "<p>160167 rows × 2 columns</p>\n",
              "</div>\n",
              "      <button class=\"colab-df-convert\" onclick=\"convertToInteractive('df-00a959eb-f993-47a4-b5f3-dded381223f6')\"\n",
              "              title=\"Convert this dataframe to an interactive table.\"\n",
              "              style=\"display:none;\">\n",
              "        \n",
              "  <svg xmlns=\"http://www.w3.org/2000/svg\" height=\"24px\"viewBox=\"0 0 24 24\"\n",
              "       width=\"24px\">\n",
              "    <path d=\"M0 0h24v24H0V0z\" fill=\"none\"/>\n",
              "    <path d=\"M18.56 5.44l.94 2.06.94-2.06 2.06-.94-2.06-.94-.94-2.06-.94 2.06-2.06.94zm-11 1L8.5 8.5l.94-2.06 2.06-.94-2.06-.94L8.5 2.5l-.94 2.06-2.06.94zm10 10l.94 2.06.94-2.06 2.06-.94-2.06-.94-.94-2.06-.94 2.06-2.06.94z\"/><path d=\"M17.41 7.96l-1.37-1.37c-.4-.4-.92-.59-1.43-.59-.52 0-1.04.2-1.43.59L10.3 9.45l-7.72 7.72c-.78.78-.78 2.05 0 2.83L4 21.41c.39.39.9.59 1.41.59.51 0 1.02-.2 1.41-.59l7.78-7.78 2.81-2.81c.8-.78.8-2.07 0-2.86zM5.41 20L4 18.59l7.72-7.72 1.47 1.35L5.41 20z\"/>\n",
              "  </svg>\n",
              "      </button>\n",
              "      \n",
              "  <style>\n",
              "    .colab-df-container {\n",
              "      display:flex;\n",
              "      flex-wrap:wrap;\n",
              "      gap: 12px;\n",
              "    }\n",
              "\n",
              "    .colab-df-convert {\n",
              "      background-color: #E8F0FE;\n",
              "      border: none;\n",
              "      border-radius: 50%;\n",
              "      cursor: pointer;\n",
              "      display: none;\n",
              "      fill: #1967D2;\n",
              "      height: 32px;\n",
              "      padding: 0 0 0 0;\n",
              "      width: 32px;\n",
              "    }\n",
              "\n",
              "    .colab-df-convert:hover {\n",
              "      background-color: #E2EBFA;\n",
              "      box-shadow: 0px 1px 2px rgba(60, 64, 67, 0.3), 0px 1px 3px 1px rgba(60, 64, 67, 0.15);\n",
              "      fill: #174EA6;\n",
              "    }\n",
              "\n",
              "    [theme=dark] .colab-df-convert {\n",
              "      background-color: #3B4455;\n",
              "      fill: #D2E3FC;\n",
              "    }\n",
              "\n",
              "    [theme=dark] .colab-df-convert:hover {\n",
              "      background-color: #434B5C;\n",
              "      box-shadow: 0px 1px 3px 1px rgba(0, 0, 0, 0.15);\n",
              "      filter: drop-shadow(0px 1px 2px rgba(0, 0, 0, 0.3));\n",
              "      fill: #FFFFFF;\n",
              "    }\n",
              "  </style>\n",
              "\n",
              "      <script>\n",
              "        const buttonEl =\n",
              "          document.querySelector('#df-00a959eb-f993-47a4-b5f3-dded381223f6 button.colab-df-convert');\n",
              "        buttonEl.style.display =\n",
              "          google.colab.kernel.accessAllowed ? 'block' : 'none';\n",
              "\n",
              "        async function convertToInteractive(key) {\n",
              "          const element = document.querySelector('#df-00a959eb-f993-47a4-b5f3-dded381223f6');\n",
              "          const dataTable =\n",
              "            await google.colab.kernel.invokeFunction('convertToInteractive',\n",
              "                                                     [key], {});\n",
              "          if (!dataTable) return;\n",
              "\n",
              "          const docLinkHtml = 'Like what you see? Visit the ' +\n",
              "            '<a target=\"_blank\" href=https://colab.research.google.com/notebooks/data_table.ipynb>data table notebook</a>'\n",
              "            + ' to learn more about interactive tables.';\n",
              "          element.innerHTML = '';\n",
              "          dataTable['output_type'] = 'display_data';\n",
              "          await google.colab.output.renderOutput(dataTable, element);\n",
              "          const docLink = document.createElement('div');\n",
              "          docLink.innerHTML = docLinkHtml;\n",
              "          element.appendChild(docLink);\n",
              "        }\n",
              "      </script>\n",
              "    </div>\n",
              "  </div>\n",
              "  "
            ]
          },
          "metadata": {},
          "execution_count": 12
        }
      ]
    },
    {
      "cell_type": "code",
      "source": [
        "#item_feature_data = pd.merge(item_features_df, item_features_df_decay, on = 'vacancy_id_')\n",
        "#item_feature_data"
      ],
      "metadata": {
        "colab": {
          "base_uri": "https://localhost:8080/",
          "height": 423
        },
        "id": "3V4S6hc3rOtQ",
        "outputId": "6be90842-74ea-44b6-f1ae-2ae1bcf89dcb"
      },
      "execution_count": null,
      "outputs": [
        {
          "output_type": "execute_result",
          "data": {
            "text/plain": [
              "        vacancy_id_  avg_day_conv    time_decay\n",
              "0            100001          0.06  1.353353e-01\n",
              "1            100002          0.13  1.000000e+00\n",
              "2            100003          0.12  5.749522e-19\n",
              "3            100004          0.00  1.425164e-21\n",
              "4            100005          0.09  3.354626e-04\n",
              "...             ...           ...           ...\n",
              "160162       260163          0.00  9.118820e-04\n",
              "160163       260164          1.00  8.756511e-27\n",
              "160164       260165          0.07  9.118820e-04\n",
              "160165       260166          0.07  2.115131e-19\n",
              "160166       260167          0.05  1.000000e+00\n",
              "\n",
              "[160167 rows x 3 columns]"
            ],
            "text/html": [
              "\n",
              "  <div id=\"df-3aa3ad94-1603-4fd6-9491-d5a6a39f2ea8\">\n",
              "    <div class=\"colab-df-container\">\n",
              "      <div>\n",
              "<style scoped>\n",
              "    .dataframe tbody tr th:only-of-type {\n",
              "        vertical-align: middle;\n",
              "    }\n",
              "\n",
              "    .dataframe tbody tr th {\n",
              "        vertical-align: top;\n",
              "    }\n",
              "\n",
              "    .dataframe thead th {\n",
              "        text-align: right;\n",
              "    }\n",
              "</style>\n",
              "<table border=\"1\" class=\"dataframe\">\n",
              "  <thead>\n",
              "    <tr style=\"text-align: right;\">\n",
              "      <th></th>\n",
              "      <th>vacancy_id_</th>\n",
              "      <th>avg_day_conv</th>\n",
              "      <th>time_decay</th>\n",
              "    </tr>\n",
              "  </thead>\n",
              "  <tbody>\n",
              "    <tr>\n",
              "      <th>0</th>\n",
              "      <td>100001</td>\n",
              "      <td>0.06</td>\n",
              "      <td>1.353353e-01</td>\n",
              "    </tr>\n",
              "    <tr>\n",
              "      <th>1</th>\n",
              "      <td>100002</td>\n",
              "      <td>0.13</td>\n",
              "      <td>1.000000e+00</td>\n",
              "    </tr>\n",
              "    <tr>\n",
              "      <th>2</th>\n",
              "      <td>100003</td>\n",
              "      <td>0.12</td>\n",
              "      <td>5.749522e-19</td>\n",
              "    </tr>\n",
              "    <tr>\n",
              "      <th>3</th>\n",
              "      <td>100004</td>\n",
              "      <td>0.00</td>\n",
              "      <td>1.425164e-21</td>\n",
              "    </tr>\n",
              "    <tr>\n",
              "      <th>4</th>\n",
              "      <td>100005</td>\n",
              "      <td>0.09</td>\n",
              "      <td>3.354626e-04</td>\n",
              "    </tr>\n",
              "    <tr>\n",
              "      <th>...</th>\n",
              "      <td>...</td>\n",
              "      <td>...</td>\n",
              "      <td>...</td>\n",
              "    </tr>\n",
              "    <tr>\n",
              "      <th>160162</th>\n",
              "      <td>260163</td>\n",
              "      <td>0.00</td>\n",
              "      <td>9.118820e-04</td>\n",
              "    </tr>\n",
              "    <tr>\n",
              "      <th>160163</th>\n",
              "      <td>260164</td>\n",
              "      <td>1.00</td>\n",
              "      <td>8.756511e-27</td>\n",
              "    </tr>\n",
              "    <tr>\n",
              "      <th>160164</th>\n",
              "      <td>260165</td>\n",
              "      <td>0.07</td>\n",
              "      <td>9.118820e-04</td>\n",
              "    </tr>\n",
              "    <tr>\n",
              "      <th>160165</th>\n",
              "      <td>260166</td>\n",
              "      <td>0.07</td>\n",
              "      <td>2.115131e-19</td>\n",
              "    </tr>\n",
              "    <tr>\n",
              "      <th>160166</th>\n",
              "      <td>260167</td>\n",
              "      <td>0.05</td>\n",
              "      <td>1.000000e+00</td>\n",
              "    </tr>\n",
              "  </tbody>\n",
              "</table>\n",
              "<p>160167 rows × 3 columns</p>\n",
              "</div>\n",
              "      <button class=\"colab-df-convert\" onclick=\"convertToInteractive('df-3aa3ad94-1603-4fd6-9491-d5a6a39f2ea8')\"\n",
              "              title=\"Convert this dataframe to an interactive table.\"\n",
              "              style=\"display:none;\">\n",
              "        \n",
              "  <svg xmlns=\"http://www.w3.org/2000/svg\" height=\"24px\"viewBox=\"0 0 24 24\"\n",
              "       width=\"24px\">\n",
              "    <path d=\"M0 0h24v24H0V0z\" fill=\"none\"/>\n",
              "    <path d=\"M18.56 5.44l.94 2.06.94-2.06 2.06-.94-2.06-.94-.94-2.06-.94 2.06-2.06.94zm-11 1L8.5 8.5l.94-2.06 2.06-.94-2.06-.94L8.5 2.5l-.94 2.06-2.06.94zm10 10l.94 2.06.94-2.06 2.06-.94-2.06-.94-.94-2.06-.94 2.06-2.06.94z\"/><path d=\"M17.41 7.96l-1.37-1.37c-.4-.4-.92-.59-1.43-.59-.52 0-1.04.2-1.43.59L10.3 9.45l-7.72 7.72c-.78.78-.78 2.05 0 2.83L4 21.41c.39.39.9.59 1.41.59.51 0 1.02-.2 1.41-.59l7.78-7.78 2.81-2.81c.8-.78.8-2.07 0-2.86zM5.41 20L4 18.59l7.72-7.72 1.47 1.35L5.41 20z\"/>\n",
              "  </svg>\n",
              "      </button>\n",
              "      \n",
              "  <style>\n",
              "    .colab-df-container {\n",
              "      display:flex;\n",
              "      flex-wrap:wrap;\n",
              "      gap: 12px;\n",
              "    }\n",
              "\n",
              "    .colab-df-convert {\n",
              "      background-color: #E8F0FE;\n",
              "      border: none;\n",
              "      border-radius: 50%;\n",
              "      cursor: pointer;\n",
              "      display: none;\n",
              "      fill: #1967D2;\n",
              "      height: 32px;\n",
              "      padding: 0 0 0 0;\n",
              "      width: 32px;\n",
              "    }\n",
              "\n",
              "    .colab-df-convert:hover {\n",
              "      background-color: #E2EBFA;\n",
              "      box-shadow: 0px 1px 2px rgba(60, 64, 67, 0.3), 0px 1px 3px 1px rgba(60, 64, 67, 0.15);\n",
              "      fill: #174EA6;\n",
              "    }\n",
              "\n",
              "    [theme=dark] .colab-df-convert {\n",
              "      background-color: #3B4455;\n",
              "      fill: #D2E3FC;\n",
              "    }\n",
              "\n",
              "    [theme=dark] .colab-df-convert:hover {\n",
              "      background-color: #434B5C;\n",
              "      box-shadow: 0px 1px 3px 1px rgba(0, 0, 0, 0.15);\n",
              "      filter: drop-shadow(0px 1px 2px rgba(0, 0, 0, 0.3));\n",
              "      fill: #FFFFFF;\n",
              "    }\n",
              "  </style>\n",
              "\n",
              "      <script>\n",
              "        const buttonEl =\n",
              "          document.querySelector('#df-3aa3ad94-1603-4fd6-9491-d5a6a39f2ea8 button.colab-df-convert');\n",
              "        buttonEl.style.display =\n",
              "          google.colab.kernel.accessAllowed ? 'block' : 'none';\n",
              "\n",
              "        async function convertToInteractive(key) {\n",
              "          const element = document.querySelector('#df-3aa3ad94-1603-4fd6-9491-d5a6a39f2ea8');\n",
              "          const dataTable =\n",
              "            await google.colab.kernel.invokeFunction('convertToInteractive',\n",
              "                                                     [key], {});\n",
              "          if (!dataTable) return;\n",
              "\n",
              "          const docLinkHtml = 'Like what you see? Visit the ' +\n",
              "            '<a target=\"_blank\" href=https://colab.research.google.com/notebooks/data_table.ipynb>data table notebook</a>'\n",
              "            + ' to learn more about interactive tables.';\n",
              "          element.innerHTML = '';\n",
              "          dataTable['output_type'] = 'display_data';\n",
              "          await google.colab.output.renderOutput(dataTable, element);\n",
              "          const docLink = document.createElement('div');\n",
              "          docLink.innerHTML = docLinkHtml;\n",
              "          element.appendChild(docLink);\n",
              "        }\n",
              "      </script>\n",
              "    </div>\n",
              "  </div>\n",
              "  "
            ]
          },
          "metadata": {},
          "execution_count": 13
        }
      ]
    },
    {
      "cell_type": "code",
      "source": [
        "# Подготовка данных для LightFM via item_feature\n",
        "dataset_item = Dataset()\n",
        "dataset_item.fit(pd.concat([train_data['cookie_id'], test_data['cookie_id']]).unique(),\\\n",
        "            pd.concat([train_data['vacancy_id_'], test_data['vacancy_id_']]).unique(),\\\n",
        "            item_features=['c1', 'c2', 'c3', 'c4', 'c5'])"
      ],
      "metadata": {
        "id": "JETanYX7B1p0"
      },
      "execution_count": 91,
      "outputs": []
    },
    {
      "cell_type": "code",
      "source": [
        "# Создание словаря вакансий из dataset_item\n",
        "dict_vac_item = {v: k for k, v in dataset_item.mapping()[2].items()}"
      ],
      "metadata": {
        "id": "if2ENmrPPLHE"
      },
      "execution_count": 92,
      "outputs": []
    },
    {
      "cell_type": "code",
      "source": [
        "train_interactions_item, train_weights_item = dataset_item.build_interactions([(x['cookie_id'], x['vacancy_id_'], x['event_type']) for idx, x in train_data.iterrows()])"
      ],
      "metadata": {
        "id": "rWrKydWvXL08"
      },
      "execution_count": 102,
      "outputs": []
    },
    {
      "cell_type": "code",
      "source": [
        "train_interactions_item"
      ],
      "metadata": {
        "colab": {
          "base_uri": "https://localhost:8080/"
        },
        "id": "_TWyejcuXcIz",
        "outputId": "469a56ad-171e-45ed-9b07-55ec60f70be6"
      },
      "execution_count": 103,
      "outputs": [
        {
          "output_type": "execute_result",
          "data": {
            "text/plain": [
              "<330180x160167 sparse matrix of type '<class 'numpy.int32'>'\n",
              "\twith 3780406 stored elements in COOrdinate format>"
            ]
          },
          "metadata": {},
          "execution_count": 103
        }
      ]
    },
    {
      "cell_type": "code",
      "source": [
        "test_interactions_item, test_weights_item = dataset_item.build_interactions([(x['cookie_id'], x['vacancy_id_'], x['event_type']) for idx, x in test_data.iterrows()])"
      ],
      "metadata": {
        "id": "H2o4df94Xr10"
      },
      "execution_count": 106,
      "outputs": []
    },
    {
      "cell_type": "code",
      "source": [
        "# Создание матрицы item_feature\n",
        "item_features = dataset_item.build_item_features([(x['vacancy_id_'], [x['cat_conv']]) for idx, x in item_features_df.iterrows()])"
      ],
      "metadata": {
        "id": "Q2fjfFZb9w5m"
      },
      "execution_count": 94,
      "outputs": []
    },
    {
      "cell_type": "code",
      "source": [
        "item_features"
      ],
      "metadata": {
        "colab": {
          "base_uri": "https://localhost:8080/"
        },
        "id": "J_5AZXYHQt9I",
        "outputId": "11f1e65d-57e2-4470-858f-7d2150c49cf9"
      },
      "execution_count": 95,
      "outputs": [
        {
          "output_type": "execute_result",
          "data": {
            "text/plain": [
              "<160167x160172 sparse matrix of type '<class 'numpy.float32'>'\n",
              "\twith 320334 stored elements in Compressed Sparse Row format>"
            ]
          },
          "metadata": {},
          "execution_count": 95
        }
      ]
    },
    {
      "cell_type": "code",
      "source": [
        "# Создаем модель\n",
        "model_item = LightFM(loss='warp')"
      ],
      "metadata": {
        "id": "HjFZJCd49xlo"
      },
      "execution_count": 107,
      "outputs": []
    },
    {
      "cell_type": "code",
      "source": [
        "# Обучаем модель на train данных via item_feature\n",
        "model_item.fit(train_interactions_item, item_features=item_features, epochs=15)"
      ],
      "metadata": {
        "colab": {
          "base_uri": "https://localhost:8080/"
        },
        "id": "aryOPRI--UsH",
        "outputId": "64ba654a-c748-4e51-8612-c4dfe0035d3a"
      },
      "execution_count": 108,
      "outputs": [
        {
          "output_type": "execute_result",
          "data": {
            "text/plain": [
              "<lightfm.lightfm.LightFM at 0x7f0de88f6250>"
            ]
          },
          "metadata": {},
          "execution_count": 108
        }
      ]
    },
    {
      "cell_type": "code",
      "source": [
        "# Оценка модели с использованием метрики precision@5 на test\n",
        "# check_intesection=True (train_interactions are supplied)\n",
        "test_precision_item = precision_at_k(model_item, test_interactions_item, train_interactions = train_interactions_item, item_features=item_features, k=5).mean()\n",
        "print('Test precision@5:', test_precision_item)\n",
        "# item_features(conversion category) Test precision@5: 0.055422664"
      ],
      "metadata": {
        "colab": {
          "base_uri": "https://localhost:8080/"
        },
        "id": "YvTEAn46-VEa",
        "outputId": "9c481d90-b66b-4888-8f7e-7396b539264e"
      },
      "execution_count": 110,
      "outputs": [
        {
          "output_type": "stream",
          "name": "stdout",
          "text": [
            "Test precision@5: 0.055422664\n"
          ]
        }
      ]
    },
    {
      "cell_type": "markdown",
      "source": [
        "___  \n",
        "**Обучение на полном train**"
      ],
      "metadata": {
        "id": "gWpxrRw8xiIX"
      }
    },
    {
      "cell_type": "code",
      "source": [
        "data_full = pd.concat([train_data, test_data])\n",
        "data_full"
      ],
      "metadata": {
        "colab": {
          "base_uri": "https://localhost:8080/",
          "height": 423
        },
        "id": "ZHpYCATN1NOF",
        "outputId": "63c77dcf-47ca-4973-a1aa-22b4bcb4f8cf"
      },
      "execution_count": null,
      "outputs": [
        {
          "output_type": "execute_result",
          "data": {
            "text/plain": [
              "                               cookie_id  vacancy_id_  event_type\n",
              "0       abaec81fdf5e41b98ba70562cf1ee12b       102993         0.5\n",
              "1       87b9efa7623340c2bc1c30d93a4c5663       158179         0.5\n",
              "2       eac6f3b6a4bb4c1396d127cb48202bea       103209         0.5\n",
              "3       f4fd2cbde7bb47f3bf9156480b81f05a       112356         0.5\n",
              "4       fe17b1e0df57474d91b363d609e46d9b       113707         0.5\n",
              "...                                  ...          ...         ...\n",
              "898174  9332e51a085349408a7b11232d46be53       191382         0.5\n",
              "898175  b07eb084be574ba69461d98734261d71       163292         0.5\n",
              "898176  4ceef9ac78884d99aa68894230050fd1       130608         0.5\n",
              "898177  513c75bcbdd94bedbd65ec10152d35e4       105890         0.5\n",
              "898178  34e9de41e35b441a848e35bbc5438e92       246583         0.5\n",
              "\n",
              "[4678585 rows x 3 columns]"
            ],
            "text/html": [
              "\n",
              "  <div id=\"df-0d65d38a-cf1e-4495-9085-9ea44e3611b0\">\n",
              "    <div class=\"colab-df-container\">\n",
              "      <div>\n",
              "<style scoped>\n",
              "    .dataframe tbody tr th:only-of-type {\n",
              "        vertical-align: middle;\n",
              "    }\n",
              "\n",
              "    .dataframe tbody tr th {\n",
              "        vertical-align: top;\n",
              "    }\n",
              "\n",
              "    .dataframe thead th {\n",
              "        text-align: right;\n",
              "    }\n",
              "</style>\n",
              "<table border=\"1\" class=\"dataframe\">\n",
              "  <thead>\n",
              "    <tr style=\"text-align: right;\">\n",
              "      <th></th>\n",
              "      <th>cookie_id</th>\n",
              "      <th>vacancy_id_</th>\n",
              "      <th>event_type</th>\n",
              "    </tr>\n",
              "  </thead>\n",
              "  <tbody>\n",
              "    <tr>\n",
              "      <th>0</th>\n",
              "      <td>abaec81fdf5e41b98ba70562cf1ee12b</td>\n",
              "      <td>102993</td>\n",
              "      <td>0.5</td>\n",
              "    </tr>\n",
              "    <tr>\n",
              "      <th>1</th>\n",
              "      <td>87b9efa7623340c2bc1c30d93a4c5663</td>\n",
              "      <td>158179</td>\n",
              "      <td>0.5</td>\n",
              "    </tr>\n",
              "    <tr>\n",
              "      <th>2</th>\n",
              "      <td>eac6f3b6a4bb4c1396d127cb48202bea</td>\n",
              "      <td>103209</td>\n",
              "      <td>0.5</td>\n",
              "    </tr>\n",
              "    <tr>\n",
              "      <th>3</th>\n",
              "      <td>f4fd2cbde7bb47f3bf9156480b81f05a</td>\n",
              "      <td>112356</td>\n",
              "      <td>0.5</td>\n",
              "    </tr>\n",
              "    <tr>\n",
              "      <th>4</th>\n",
              "      <td>fe17b1e0df57474d91b363d609e46d9b</td>\n",
              "      <td>113707</td>\n",
              "      <td>0.5</td>\n",
              "    </tr>\n",
              "    <tr>\n",
              "      <th>...</th>\n",
              "      <td>...</td>\n",
              "      <td>...</td>\n",
              "      <td>...</td>\n",
              "    </tr>\n",
              "    <tr>\n",
              "      <th>898174</th>\n",
              "      <td>9332e51a085349408a7b11232d46be53</td>\n",
              "      <td>191382</td>\n",
              "      <td>0.5</td>\n",
              "    </tr>\n",
              "    <tr>\n",
              "      <th>898175</th>\n",
              "      <td>b07eb084be574ba69461d98734261d71</td>\n",
              "      <td>163292</td>\n",
              "      <td>0.5</td>\n",
              "    </tr>\n",
              "    <tr>\n",
              "      <th>898176</th>\n",
              "      <td>4ceef9ac78884d99aa68894230050fd1</td>\n",
              "      <td>130608</td>\n",
              "      <td>0.5</td>\n",
              "    </tr>\n",
              "    <tr>\n",
              "      <th>898177</th>\n",
              "      <td>513c75bcbdd94bedbd65ec10152d35e4</td>\n",
              "      <td>105890</td>\n",
              "      <td>0.5</td>\n",
              "    </tr>\n",
              "    <tr>\n",
              "      <th>898178</th>\n",
              "      <td>34e9de41e35b441a848e35bbc5438e92</td>\n",
              "      <td>246583</td>\n",
              "      <td>0.5</td>\n",
              "    </tr>\n",
              "  </tbody>\n",
              "</table>\n",
              "<p>4678585 rows × 3 columns</p>\n",
              "</div>\n",
              "      <button class=\"colab-df-convert\" onclick=\"convertToInteractive('df-0d65d38a-cf1e-4495-9085-9ea44e3611b0')\"\n",
              "              title=\"Convert this dataframe to an interactive table.\"\n",
              "              style=\"display:none;\">\n",
              "        \n",
              "  <svg xmlns=\"http://www.w3.org/2000/svg\" height=\"24px\"viewBox=\"0 0 24 24\"\n",
              "       width=\"24px\">\n",
              "    <path d=\"M0 0h24v24H0V0z\" fill=\"none\"/>\n",
              "    <path d=\"M18.56 5.44l.94 2.06.94-2.06 2.06-.94-2.06-.94-.94-2.06-.94 2.06-2.06.94zm-11 1L8.5 8.5l.94-2.06 2.06-.94-2.06-.94L8.5 2.5l-.94 2.06-2.06.94zm10 10l.94 2.06.94-2.06 2.06-.94-2.06-.94-.94-2.06-.94 2.06-2.06.94z\"/><path d=\"M17.41 7.96l-1.37-1.37c-.4-.4-.92-.59-1.43-.59-.52 0-1.04.2-1.43.59L10.3 9.45l-7.72 7.72c-.78.78-.78 2.05 0 2.83L4 21.41c.39.39.9.59 1.41.59.51 0 1.02-.2 1.41-.59l7.78-7.78 2.81-2.81c.8-.78.8-2.07 0-2.86zM5.41 20L4 18.59l7.72-7.72 1.47 1.35L5.41 20z\"/>\n",
              "  </svg>\n",
              "      </button>\n",
              "      \n",
              "  <style>\n",
              "    .colab-df-container {\n",
              "      display:flex;\n",
              "      flex-wrap:wrap;\n",
              "      gap: 12px;\n",
              "    }\n",
              "\n",
              "    .colab-df-convert {\n",
              "      background-color: #E8F0FE;\n",
              "      border: none;\n",
              "      border-radius: 50%;\n",
              "      cursor: pointer;\n",
              "      display: none;\n",
              "      fill: #1967D2;\n",
              "      height: 32px;\n",
              "      padding: 0 0 0 0;\n",
              "      width: 32px;\n",
              "    }\n",
              "\n",
              "    .colab-df-convert:hover {\n",
              "      background-color: #E2EBFA;\n",
              "      box-shadow: 0px 1px 2px rgba(60, 64, 67, 0.3), 0px 1px 3px 1px rgba(60, 64, 67, 0.15);\n",
              "      fill: #174EA6;\n",
              "    }\n",
              "\n",
              "    [theme=dark] .colab-df-convert {\n",
              "      background-color: #3B4455;\n",
              "      fill: #D2E3FC;\n",
              "    }\n",
              "\n",
              "    [theme=dark] .colab-df-convert:hover {\n",
              "      background-color: #434B5C;\n",
              "      box-shadow: 0px 1px 3px 1px rgba(0, 0, 0, 0.15);\n",
              "      filter: drop-shadow(0px 1px 2px rgba(0, 0, 0, 0.3));\n",
              "      fill: #FFFFFF;\n",
              "    }\n",
              "  </style>\n",
              "\n",
              "      <script>\n",
              "        const buttonEl =\n",
              "          document.querySelector('#df-0d65d38a-cf1e-4495-9085-9ea44e3611b0 button.colab-df-convert');\n",
              "        buttonEl.style.display =\n",
              "          google.colab.kernel.accessAllowed ? 'block' : 'none';\n",
              "\n",
              "        async function convertToInteractive(key) {\n",
              "          const element = document.querySelector('#df-0d65d38a-cf1e-4495-9085-9ea44e3611b0');\n",
              "          const dataTable =\n",
              "            await google.colab.kernel.invokeFunction('convertToInteractive',\n",
              "                                                     [key], {});\n",
              "          if (!dataTable) return;\n",
              "\n",
              "          const docLinkHtml = 'Like what you see? Visit the ' +\n",
              "            '<a target=\"_blank\" href=https://colab.research.google.com/notebooks/data_table.ipynb>data table notebook</a>'\n",
              "            + ' to learn more about interactive tables.';\n",
              "          element.innerHTML = '';\n",
              "          dataTable['output_type'] = 'display_data';\n",
              "          await google.colab.output.renderOutput(dataTable, element);\n",
              "          const docLink = document.createElement('div');\n",
              "          docLink.innerHTML = docLinkHtml;\n",
              "          element.appendChild(docLink);\n",
              "        }\n",
              "      </script>\n",
              "    </div>\n",
              "  </div>\n",
              "  "
            ]
          },
          "metadata": {},
          "execution_count": 22
        }
      ]
    },
    {
      "cell_type": "code",
      "source": [
        "# Создание матрицы взаимодействий\n",
        "train_interactions_full, train_weights_full = dataset.build_interactions([(x['cookie_id'], x['vacancy_id_'], x['event_type']) for idx, x in data_full.iterrows()])"
      ],
      "metadata": {
        "id": "J7RQSXzZGsSG"
      },
      "execution_count": null,
      "outputs": []
    },
    {
      "cell_type": "code",
      "source": [
        "train_interactions_full"
      ],
      "metadata": {
        "colab": {
          "base_uri": "https://localhost:8080/"
        },
        "id": "Hkta2E12G8yS",
        "outputId": "c84c5bad-5e9d-45fb-a1d1-9e494ea7e648"
      },
      "execution_count": null,
      "outputs": [
        {
          "output_type": "execute_result",
          "data": {
            "text/plain": [
              "<330180x160167 sparse matrix of type '<class 'numpy.int32'>'\n",
              "\twith 4678585 stored elements in COOrdinate format>"
            ]
          },
          "metadata": {},
          "execution_count": 24
        }
      ]
    },
    {
      "cell_type": "code",
      "source": [
        "# Обучение модели LightFM на полном train w/o features\n",
        "model_full = LightFM(loss='warp')\n",
        "model_full.fit(train_interactions_full, epochs=15)"
      ],
      "metadata": {
        "id": "j_2uJCPhG_mO"
      },
      "execution_count": null,
      "outputs": []
    },
    {
      "cell_type": "markdown",
      "source": [
        "**Валидация на test_public**  \n",
        "___"
      ],
      "metadata": {
        "id": "CpV0LR0M0ZeK"
      }
    },
    {
      "cell_type": "code",
      "source": [
        "# Чтение файла\n",
        "table_test = pq.read_table('/content/drive/MyDrive/test_public_mfti.parquet')\n",
        "\n",
        "# Запись в датафрейм\n",
        "df_test_public = table_test.to_pandas()\n",
        "df_test_public"
      ],
      "metadata": {
        "colab": {
          "base_uri": "https://localhost:8080/",
          "height": 423
        },
        "id": "RNgESZa8wdUf",
        "outputId": "30f9c3aa-d87b-491d-c9c7-1de2db3a16b7"
      },
      "execution_count": null,
      "outputs": [
        {
          "output_type": "execute_result",
          "data": {
            "text/plain": [
              "                            cookie_id  \\\n",
              "0    000cd76cd33f43d4a1ac1d16d10f8bf7   \n",
              "1    0034bc7f404341ba8412665453e7825a   \n",
              "2    00a6c5a64a274c55a836402bdeb3b2c4   \n",
              "3    015937a125b14e74bdff1cddc49f9172   \n",
              "4    01de50c280794cec8804f16f45f847b7   \n",
              "..                                ...   \n",
              "767  fdbcda17f22f406486837059e76c7fed   \n",
              "768  fe6193ab26494ace9be5aae36e507618   \n",
              "769  fe95b2826ee1452b81201ed3f4c3294d   \n",
              "770  ff1aef256a49481698bb2e938510ff36   \n",
              "771  ff40591f76e34013a61b8af400002a07   \n",
              "\n",
              "                                           vacancy_id_  \n",
              "0    [222177, 222173, 222163, 238874, 238878, 22812...  \n",
              "1    [102794, 137587, 257319, 237756, 240744, 11348...  \n",
              "2    [254292, 164602, 116438, 228634, 218819, 24065...  \n",
              "3     [246685, 138123, 115420, 210628, 212325, 235196]  \n",
              "4             [219070, 251469, 166899, 212703, 214561]  \n",
              "..                                                 ...  \n",
              "767           [207851, 254989, 213344, 214180, 222146]  \n",
              "768  [115352, 230546, 225527, 120188, 109360, 23212...  \n",
              "769   [240362, 114852, 253946, 251081, 127546, 244688]  \n",
              "770  [231194, 236363, 220747, 244688, 100094, 24052...  \n",
              "771           [100336, 116442, 244721, 256719, 230803]  \n",
              "\n",
              "[772 rows x 2 columns]"
            ],
            "text/html": [
              "\n",
              "  <div id=\"df-c5b351f7-9468-437c-9db4-e5447c41cc66\">\n",
              "    <div class=\"colab-df-container\">\n",
              "      <div>\n",
              "<style scoped>\n",
              "    .dataframe tbody tr th:only-of-type {\n",
              "        vertical-align: middle;\n",
              "    }\n",
              "\n",
              "    .dataframe tbody tr th {\n",
              "        vertical-align: top;\n",
              "    }\n",
              "\n",
              "    .dataframe thead th {\n",
              "        text-align: right;\n",
              "    }\n",
              "</style>\n",
              "<table border=\"1\" class=\"dataframe\">\n",
              "  <thead>\n",
              "    <tr style=\"text-align: right;\">\n",
              "      <th></th>\n",
              "      <th>cookie_id</th>\n",
              "      <th>vacancy_id_</th>\n",
              "    </tr>\n",
              "  </thead>\n",
              "  <tbody>\n",
              "    <tr>\n",
              "      <th>0</th>\n",
              "      <td>000cd76cd33f43d4a1ac1d16d10f8bf7</td>\n",
              "      <td>[222177, 222173, 222163, 238874, 238878, 22812...</td>\n",
              "    </tr>\n",
              "    <tr>\n",
              "      <th>1</th>\n",
              "      <td>0034bc7f404341ba8412665453e7825a</td>\n",
              "      <td>[102794, 137587, 257319, 237756, 240744, 11348...</td>\n",
              "    </tr>\n",
              "    <tr>\n",
              "      <th>2</th>\n",
              "      <td>00a6c5a64a274c55a836402bdeb3b2c4</td>\n",
              "      <td>[254292, 164602, 116438, 228634, 218819, 24065...</td>\n",
              "    </tr>\n",
              "    <tr>\n",
              "      <th>3</th>\n",
              "      <td>015937a125b14e74bdff1cddc49f9172</td>\n",
              "      <td>[246685, 138123, 115420, 210628, 212325, 235196]</td>\n",
              "    </tr>\n",
              "    <tr>\n",
              "      <th>4</th>\n",
              "      <td>01de50c280794cec8804f16f45f847b7</td>\n",
              "      <td>[219070, 251469, 166899, 212703, 214561]</td>\n",
              "    </tr>\n",
              "    <tr>\n",
              "      <th>...</th>\n",
              "      <td>...</td>\n",
              "      <td>...</td>\n",
              "    </tr>\n",
              "    <tr>\n",
              "      <th>767</th>\n",
              "      <td>fdbcda17f22f406486837059e76c7fed</td>\n",
              "      <td>[207851, 254989, 213344, 214180, 222146]</td>\n",
              "    </tr>\n",
              "    <tr>\n",
              "      <th>768</th>\n",
              "      <td>fe6193ab26494ace9be5aae36e507618</td>\n",
              "      <td>[115352, 230546, 225527, 120188, 109360, 23212...</td>\n",
              "    </tr>\n",
              "    <tr>\n",
              "      <th>769</th>\n",
              "      <td>fe95b2826ee1452b81201ed3f4c3294d</td>\n",
              "      <td>[240362, 114852, 253946, 251081, 127546, 244688]</td>\n",
              "    </tr>\n",
              "    <tr>\n",
              "      <th>770</th>\n",
              "      <td>ff1aef256a49481698bb2e938510ff36</td>\n",
              "      <td>[231194, 236363, 220747, 244688, 100094, 24052...</td>\n",
              "    </tr>\n",
              "    <tr>\n",
              "      <th>771</th>\n",
              "      <td>ff40591f76e34013a61b8af400002a07</td>\n",
              "      <td>[100336, 116442, 244721, 256719, 230803]</td>\n",
              "    </tr>\n",
              "  </tbody>\n",
              "</table>\n",
              "<p>772 rows × 2 columns</p>\n",
              "</div>\n",
              "      <button class=\"colab-df-convert\" onclick=\"convertToInteractive('df-c5b351f7-9468-437c-9db4-e5447c41cc66')\"\n",
              "              title=\"Convert this dataframe to an interactive table.\"\n",
              "              style=\"display:none;\">\n",
              "        \n",
              "  <svg xmlns=\"http://www.w3.org/2000/svg\" height=\"24px\"viewBox=\"0 0 24 24\"\n",
              "       width=\"24px\">\n",
              "    <path d=\"M0 0h24v24H0V0z\" fill=\"none\"/>\n",
              "    <path d=\"M18.56 5.44l.94 2.06.94-2.06 2.06-.94-2.06-.94-.94-2.06-.94 2.06-2.06.94zm-11 1L8.5 8.5l.94-2.06 2.06-.94-2.06-.94L8.5 2.5l-.94 2.06-2.06.94zm10 10l.94 2.06.94-2.06 2.06-.94-2.06-.94-.94-2.06-.94 2.06-2.06.94z\"/><path d=\"M17.41 7.96l-1.37-1.37c-.4-.4-.92-.59-1.43-.59-.52 0-1.04.2-1.43.59L10.3 9.45l-7.72 7.72c-.78.78-.78 2.05 0 2.83L4 21.41c.39.39.9.59 1.41.59.51 0 1.02-.2 1.41-.59l7.78-7.78 2.81-2.81c.8-.78.8-2.07 0-2.86zM5.41 20L4 18.59l7.72-7.72 1.47 1.35L5.41 20z\"/>\n",
              "  </svg>\n",
              "      </button>\n",
              "      \n",
              "  <style>\n",
              "    .colab-df-container {\n",
              "      display:flex;\n",
              "      flex-wrap:wrap;\n",
              "      gap: 12px;\n",
              "    }\n",
              "\n",
              "    .colab-df-convert {\n",
              "      background-color: #E8F0FE;\n",
              "      border: none;\n",
              "      border-radius: 50%;\n",
              "      cursor: pointer;\n",
              "      display: none;\n",
              "      fill: #1967D2;\n",
              "      height: 32px;\n",
              "      padding: 0 0 0 0;\n",
              "      width: 32px;\n",
              "    }\n",
              "\n",
              "    .colab-df-convert:hover {\n",
              "      background-color: #E2EBFA;\n",
              "      box-shadow: 0px 1px 2px rgba(60, 64, 67, 0.3), 0px 1px 3px 1px rgba(60, 64, 67, 0.15);\n",
              "      fill: #174EA6;\n",
              "    }\n",
              "\n",
              "    [theme=dark] .colab-df-convert {\n",
              "      background-color: #3B4455;\n",
              "      fill: #D2E3FC;\n",
              "    }\n",
              "\n",
              "    [theme=dark] .colab-df-convert:hover {\n",
              "      background-color: #434B5C;\n",
              "      box-shadow: 0px 1px 3px 1px rgba(0, 0, 0, 0.15);\n",
              "      filter: drop-shadow(0px 1px 2px rgba(0, 0, 0, 0.3));\n",
              "      fill: #FFFFFF;\n",
              "    }\n",
              "  </style>\n",
              "\n",
              "      <script>\n",
              "        const buttonEl =\n",
              "          document.querySelector('#df-c5b351f7-9468-437c-9db4-e5447c41cc66 button.colab-df-convert');\n",
              "        buttonEl.style.display =\n",
              "          google.colab.kernel.accessAllowed ? 'block' : 'none';\n",
              "\n",
              "        async function convertToInteractive(key) {\n",
              "          const element = document.querySelector('#df-c5b351f7-9468-437c-9db4-e5447c41cc66');\n",
              "          const dataTable =\n",
              "            await google.colab.kernel.invokeFunction('convertToInteractive',\n",
              "                                                     [key], {});\n",
              "          if (!dataTable) return;\n",
              "\n",
              "          const docLinkHtml = 'Like what you see? Visit the ' +\n",
              "            '<a target=\"_blank\" href=https://colab.research.google.com/notebooks/data_table.ipynb>data table notebook</a>'\n",
              "            + ' to learn more about interactive tables.';\n",
              "          element.innerHTML = '';\n",
              "          dataTable['output_type'] = 'display_data';\n",
              "          await google.colab.output.renderOutput(dataTable, element);\n",
              "          const docLink = document.createElement('div');\n",
              "          docLink.innerHTML = docLinkHtml;\n",
              "          element.appendChild(docLink);\n",
              "        }\n",
              "      </script>\n",
              "    </div>\n",
              "  </div>\n",
              "  "
            ]
          },
          "metadata": {},
          "execution_count": 23
        }
      ]
    },
    {
      "cell_type": "code",
      "source": [
        "# Функция для вычисления Precision@k для LightFM\n",
        "def evaluate_precision_at_k(model_ev, test_data_df, dataset_ev, dict_ev, k=5):\n",
        "    test_users = test_data_df['cookie_id'].unique()\n",
        "    precision = 0\n",
        "    \n",
        "    for user_cookie_id in test_users:\n",
        "        known_positives = data_full[data_full['cookie_id'] == user_cookie_id]['vacancy_id_'].unique()\n",
        "        true_positives = chain.from_iterable(test_data_df[test_data_df['cookie_id'] == user_cookie_id]['vacancy_id_'])\n",
        "\n",
        "        user_idx = dataset_ev.mapping()[0][user_cookie_id] # Доступ к словарю user-item\n",
        "        scores = model_ev.predict(user_idx, np.arange(dataset_ev.item_features_shape()[0]))\n",
        "        top_items = np.argsort(-scores)\n",
        "        top_items_ = [dict_ev[idx] for idx in top_items]\n",
        "        \n",
        "        # Фильтруем уже просмотренные вакансии\n",
        "        new_top_items = [x for x in top_items_ if x not in known_positives][:k]\n",
        "\n",
        "        precision += len(set(new_top_items) & set(true_positives)) / k\n",
        "\n",
        "    return precision / len(test_users)"
      ],
      "metadata": {
        "id": "F7iG4zW6zMG4"
      },
      "execution_count": 100,
      "outputs": []
    },
    {
      "cell_type": "code",
      "source": [
        "lightfm_precision = evaluate_precision_at_k(model, df_test_public, dataset, dict_vacancy, k=5)\n",
        "print(f\"LightFM Precision@5: {lightfm_precision}\")\n",
        "# w/o features train 80/20 - LightFM Precision@5: 0.036010362694300455"
      ],
      "metadata": {
        "colab": {
          "base_uri": "https://localhost:8080/"
        },
        "id": "7XnC-paUzQIv",
        "outputId": "6a54eb35-3269-4b79-acfa-0f866aa2bbbd"
      },
      "execution_count": null,
      "outputs": [
        {
          "output_type": "stream",
          "name": "stdout",
          "text": [
            "LightFM Precision@5: 0.036010362694300455\n"
          ]
        }
      ]
    },
    {
      "cell_type": "code",
      "source": [
        "lightfm_precision_full = evaluate_precision_at_k(model_full, df_test_public, dataset, dict_vacancy, k=5)\n",
        "print(f\"LightFM Precision@5: {lightfm_precision_full}\")\n",
        "# w/o features full train - LightFM Precision@5: 0.03419689119170978"
      ],
      "metadata": {
        "colab": {
          "base_uri": "https://localhost:8080/"
        },
        "id": "ikhdZ6WOHgFl",
        "outputId": "5175bf4a-7070-4d31-c613-4a1c0000a2b9"
      },
      "execution_count": null,
      "outputs": [
        {
          "output_type": "stream",
          "name": "stdout",
          "text": [
            "LightFM Precision@5: 0.03419689119170978\n"
          ]
        }
      ]
    },
    {
      "cell_type": "code",
      "source": [
        "lightfm_precision_item = evaluate_precision_at_k(model_item, df_test_public, dataset_item, dict_vac_item, k=5)\n",
        "print(f\"LightFM Precision@5: {lightfm_precision_item}\")\n",
        "# item_features(conversion category) train 80/20 - LightFM Precision@5: 0.03911917098445587"
      ],
      "metadata": {
        "colab": {
          "base_uri": "https://localhost:8080/"
        },
        "id": "U3HyIPojUIPW",
        "outputId": "34855f45-30fd-4130-e6b8-57b1c25aa1db"
      },
      "execution_count": 109,
      "outputs": [
        {
          "output_type": "stream",
          "name": "stdout",
          "text": [
            "LightFM Precision@5: 0.03911917098445587\n"
          ]
        }
      ]
    },
    {
      "cell_type": "markdown",
      "source": [
        "**Рекомендации**  \n",
        "___"
      ],
      "metadata": {
        "id": "xPQGYhVHyMjI"
      }
    },
    {
      "cell_type": "code",
      "source": [
        "# df_test_private\n",
        "# Чтение файла\n",
        "table_test_pr = pq.read_table('/content/drive/MyDrive/test_private_users_mfti.parquet')\n",
        "\n",
        "# Запись в датафрейм\n",
        "df_test_private = table_test_pr.to_pandas()"
      ],
      "metadata": {
        "id": "uTuDhOfJk2v9"
      },
      "execution_count": null,
      "outputs": []
    },
    {
      "cell_type": "code",
      "source": [
        "def recommend_user(model_rec, test_data_proba, dataset_rec, dict_vacancy_rec, k=5):\n",
        "    test_users = test_data_proba['cookie_id'].unique()\n",
        "    df = pd.Dataframe(columns=['cookie_id', 'vacancy_id_'])\n",
        "   \n",
        "    for user_cookie_id in test_users:\n",
        "        known_positives = data_full[data_full['cookie_id'] == user_cookie_id]['vacancy_id_'].unique()\n",
        "\n",
        "        user_idx = dataset_rec.mapping()[0][user_cookie_id] # Доступ к словарю user-item\n",
        "        scores = model_rec.predict(user_idx, np.arange(dataset_rec.item_features_shape()[0]))\n",
        "        top_items = np.argsort(-scores)\n",
        "        top_items_ = [dict_vacancy_rec[idx] for idx in top_items]\n",
        "        \n",
        "        # Фильтруем уже просмотренные вакансии\n",
        "        new_top_items = [x for x in top_items_ if x not in known_positives][:k]\n",
        "        \n",
        "        df.loc[len(df)] = [user_cookie_id, new_top_items]\n",
        "        \n",
        "    return df"
      ],
      "metadata": {
        "id": "ITVWyI97HTPF"
      },
      "execution_count": null,
      "outputs": []
    },
    {
      "cell_type": "code",
      "source": [
        "rec_df = recommend_user(model, df_test_private, dataset, dict_vacancy, k=5)"
      ],
      "metadata": {
        "id": "g45uy4QTHTSM"
      },
      "execution_count": null,
      "outputs": []
    },
    {
      "cell_type": "code",
      "source": [
        "rec_df.to_csv('test_private_rec.csv', index=False)"
      ],
      "metadata": {
        "id": "_aqj0Gg8HTWG"
      },
      "execution_count": null,
      "outputs": []
    },
    {
      "cell_type": "markdown",
      "source": [
        "**Baseline**  \n",
        "____________________"
      ],
      "metadata": {
        "id": "9ihKgiTYy58w"
      }
    },
    {
      "cell_type": "code",
      "source": [
        "# Топ-100 вакансий из train (80%)\n",
        "top_100_vacancies_80 = train_data.groupby(['vacancy_id_']).agg({'event_type': 'sum'}).reset_index()\\\n",
        ".sort_values(by='event_type', ascending=False).head(100)['vacancy_id_'].values"
      ],
      "metadata": {
        "id": "U2l-f4Zd7imx"
      },
      "execution_count": null,
      "outputs": []
    },
    {
      "cell_type": "code",
      "source": [
        "top_100_vacancies_80"
      ],
      "metadata": {
        "colab": {
          "base_uri": "https://localhost:8080/"
        },
        "id": "P7WCXayAh0JO",
        "outputId": "2bdf4980-a9e5-4383-9a59-666099537bdb"
      },
      "execution_count": null,
      "outputs": [
        {
          "output_type": "execute_result",
          "data": {
            "text/plain": [
              "array([260154, 198114, 203404, 202608, 164602, 111505, 116823, 148714,\n",
              "       207423, 258441, 108242, 242642, 158242, 182870, 111867, 110421,\n",
              "       162187, 250327, 174953, 176141, 207108, 247535, 217683, 110792,\n",
              "       113305, 240744, 237341, 149024, 113482, 244077, 114583, 105907,\n",
              "       182100, 110793, 247276, 180382, 227708, 210628, 193331, 113707,\n",
              "       246509, 190030, 169194, 153245, 164481, 164588, 115924, 126251,\n",
              "       138634, 230707, 120252, 239021, 214513, 106944, 182084, 184440,\n",
              "       154411, 206350, 136266, 127352, 181745, 112506, 111592, 249571,\n",
              "       168935, 150283, 109079, 151616, 155539, 111837, 220718, 207156,\n",
              "       111941, 143721, 257631, 243868, 248852, 140917, 111890, 182439,\n",
              "       212325, 128183, 187360, 129787, 212141, 258378, 117532, 176131,\n",
              "       239624, 106293, 209568, 117525, 176171, 205606, 229689, 171602,\n",
              "       154423, 114328, 197930, 248720])"
            ]
          },
          "metadata": {},
          "execution_count": 17
        }
      ]
    },
    {
      "cell_type": "code",
      "source": [
        "# Топ-100 вакансий из всего train\n",
        "top_100_vacancies = data_full.groupby(['vacancy_id_']).agg({'event_type': 'sum'}).reset_index()\\\n",
        ".sort_values(by='event_type', ascending=False).head(100)['vacancy_id_'].values"
      ],
      "metadata": {
        "id": "6M4_kGWKfUF3"
      },
      "execution_count": 73,
      "outputs": []
    },
    {
      "cell_type": "code",
      "source": [
        "top_100_vacancies"
      ],
      "metadata": {
        "colab": {
          "base_uri": "https://localhost:8080/"
        },
        "id": "twe1zBdM3wGn",
        "outputId": "7d5629fd-7afd-469b-9e98-c435cb36940b"
      },
      "execution_count": 74,
      "outputs": [
        {
          "output_type": "execute_result",
          "data": {
            "text/plain": [
              "array([260154, 198114, 203404, 202608, 164602, 111505, 116823, 207423,\n",
              "       148714, 108242, 158242, 258441, 182870, 242642, 111867, 110421,\n",
              "       162187, 250327, 174953, 176141, 207108, 247535, 217683, 110792,\n",
              "       113305, 149024, 240744, 237341, 113482, 114583, 244077, 105907,\n",
              "       182100, 210628, 180382, 247276, 110793, 193331, 227708, 113707,\n",
              "       169194, 164588, 190030, 246509, 153245, 115924, 138634, 126251,\n",
              "       230707, 164481, 120252, 214513, 239021, 106944, 182084, 127352,\n",
              "       184440, 154411, 136266, 206350, 249571, 112506, 111592, 181745,\n",
              "       220718, 151616, 111837, 150283, 109079, 168935, 155539, 111941,\n",
              "       143721, 248852, 212325, 257631, 243868, 207156, 182439, 140917,\n",
              "       111890, 212141, 117532, 129787, 258378, 117525, 239624, 128183,\n",
              "       106293, 176131, 187360, 209568, 176171, 205606, 171602, 154423,\n",
              "       114328, 253678, 248720, 197930])"
            ]
          },
          "metadata": {},
          "execution_count": 74
        }
      ]
    },
    {
      "cell_type": "code",
      "source": [
        "# baseline модель, которая возвращает топ-k вакансий для всех пользователей\n",
        "def baseline_model(known_positives, top_100, k=5):\n",
        "    top_items = random.sample([x for x in top_100 if x not in known_positives], k=k)\n",
        "    return top_items"
      ],
      "metadata": {
        "id": "B3Kx7yZ3KfIF"
      },
      "execution_count": 76,
      "outputs": []
    },
    {
      "cell_type": "code",
      "source": [
        "# Вычисление Precision@k для baseline модели\n",
        "def evaluate_precision_at_k_baseline(data_df, test_df, top):\n",
        "  baseline_precision = 0\n",
        "\n",
        "  test_users = test_df['cookie_id'].unique()\n",
        "  for user_cookie_id in test_users:\n",
        "      known_positives = data_df[data_df['cookie_id'] == user_cookie_id]['vacancy_id_'].unique()\n",
        "      true_positives = chain.from_iterable(test_df[test_df['cookie_id'] == user_cookie_id]['vacancy_id_'])\n",
        "\n",
        "      top_items = baseline_model(known_positives, top, k=5)\n",
        "      baseline_precision += len(set(top_items) & set(true_positives)) / 5\n",
        "\n",
        "  baseline_precision /= len(test_users)\n",
        "  print(f'Baseline Precision@5: {baseline_precision}')"
      ],
      "metadata": {
        "id": "HDoOcEYg34gV"
      },
      "execution_count": 87,
      "outputs": []
    },
    {
      "cell_type": "code",
      "source": [
        "evaluate_precision_at_k_baseline(train_data, test_data, top_100_vacancies_80)\n",
        "# Local validate - Baseline Precision@5 для test - train (20%): 0.005814435554081406 ?"
      ],
      "metadata": {
        "id": "Y57ILWbD6NgM"
      },
      "execution_count": null,
      "outputs": []
    },
    {
      "cell_type": "code",
      "source": [
        "evaluate_precision_at_k_baseline(data_full, df_test_public, top_100_vacancies)\n",
        "# Baseline Precision@5 для test public: 0.011139896373056997"
      ],
      "metadata": {
        "colab": {
          "base_uri": "https://localhost:8080/"
        },
        "id": "a-K2qPJk9nAs",
        "outputId": "7eae8df9-7483-4d55-e9ba-4fe946ed1dc7"
      },
      "execution_count": 88,
      "outputs": [
        {
          "output_type": "stream",
          "name": "stdout",
          "text": [
            "Baseline Precision@5: 0.011139896373056997\n"
          ]
        }
      ]
    },
    {
      "cell_type": "markdown",
      "source": [
        "_______________"
      ],
      "metadata": {
        "id": "RMuwW8Ago6Wh"
      }
    }
  ]
}