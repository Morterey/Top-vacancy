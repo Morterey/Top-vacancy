{
  "nbformat": 4,
  "nbformat_minor": 0,
  "metadata": {
    "colab": {
      "provenance": []
    },
    "kernelspec": {
      "name": "python3",
      "display_name": "Python 3"
    },
    "language_info": {
      "name": "python"
    }
  },
  "cells": [
    {
      "cell_type": "code",
      "source": [
        "import pandas as pd\n",
        "import numpy as np"
      ],
      "metadata": {
        "id": "NgTHcxqfRq2M"
      },
      "execution_count": null,
      "outputs": []
    },
    {
      "cell_type": "code",
      "source": [
        "data = pd.read_parquet('train_mfti.parquet', engine='pyarrow')"
      ],
      "metadata": {
        "id": "QVuywi2ERYYH"
      },
      "execution_count": null,
      "outputs": []
    },
    {
      "cell_type": "code",
      "source": [
        "df = data.copy()"
      ],
      "metadata": {
        "id": "-75BA-OVSCKb"
      },
      "execution_count": null,
      "outputs": []
    },
    {
      "cell_type": "code",
      "source": [
        "df.head()"
      ],
      "metadata": {
        "colab": {
          "base_uri": "https://localhost:8080/",
          "height": 206
        },
        "id": "NITbosGAUjNU",
        "outputId": "eb700018-72cc-4421-b954-706b5d449310"
      },
      "execution_count": null,
      "outputs": [
        {
          "output_type": "execute_result",
          "data": {
            "text/plain": [
              "   event_date  event_timestamp  vacancy_id_                         cookie_id  \\\n",
              "0  2022-08-01       1659323026       129850  97990f1a021d4be19aa3f955b7eacab4   \n",
              "1  2022-08-01       1659377255       108347  03bf8c511fa949c79845a5d81b09aa1d   \n",
              "2  2022-08-01       1659376695       109069  03bf8c511fa949c79845a5d81b09aa1d   \n",
              "3  2022-08-01       1659376722       171425  03bf8c511fa949c79845a5d81b09aa1d   \n",
              "4  2022-08-01       1659374929       252384  03bf8c511fa949c79845a5d81b09aa1d   \n",
              "\n",
              "                            user_id    event_type  \n",
              "0  951f53de61764ea0b51317200a0dbbfc  show_vacancy  \n",
              "1  f5a2326a17484330aa8cb4019f1b1960  show_vacancy  \n",
              "2  f5a2326a17484330aa8cb4019f1b1960  show_vacancy  \n",
              "3  f5a2326a17484330aa8cb4019f1b1960  show_vacancy  \n",
              "4  f5a2326a17484330aa8cb4019f1b1960  show_vacancy  "
            ],
            "text/html": [
              "\n",
              "  <div id=\"df-4f61d5d2-ee5d-42cd-8868-a928c92fd98a\">\n",
              "    <div class=\"colab-df-container\">\n",
              "      <div>\n",
              "<style scoped>\n",
              "    .dataframe tbody tr th:only-of-type {\n",
              "        vertical-align: middle;\n",
              "    }\n",
              "\n",
              "    .dataframe tbody tr th {\n",
              "        vertical-align: top;\n",
              "    }\n",
              "\n",
              "    .dataframe thead th {\n",
              "        text-align: right;\n",
              "    }\n",
              "</style>\n",
              "<table border=\"1\" class=\"dataframe\">\n",
              "  <thead>\n",
              "    <tr style=\"text-align: right;\">\n",
              "      <th></th>\n",
              "      <th>event_date</th>\n",
              "      <th>event_timestamp</th>\n",
              "      <th>vacancy_id_</th>\n",
              "      <th>cookie_id</th>\n",
              "      <th>user_id</th>\n",
              "      <th>event_type</th>\n",
              "    </tr>\n",
              "  </thead>\n",
              "  <tbody>\n",
              "    <tr>\n",
              "      <th>0</th>\n",
              "      <td>2022-08-01</td>\n",
              "      <td>1659323026</td>\n",
              "      <td>129850</td>\n",
              "      <td>97990f1a021d4be19aa3f955b7eacab4</td>\n",
              "      <td>951f53de61764ea0b51317200a0dbbfc</td>\n",
              "      <td>show_vacancy</td>\n",
              "    </tr>\n",
              "    <tr>\n",
              "      <th>1</th>\n",
              "      <td>2022-08-01</td>\n",
              "      <td>1659377255</td>\n",
              "      <td>108347</td>\n",
              "      <td>03bf8c511fa949c79845a5d81b09aa1d</td>\n",
              "      <td>f5a2326a17484330aa8cb4019f1b1960</td>\n",
              "      <td>show_vacancy</td>\n",
              "    </tr>\n",
              "    <tr>\n",
              "      <th>2</th>\n",
              "      <td>2022-08-01</td>\n",
              "      <td>1659376695</td>\n",
              "      <td>109069</td>\n",
              "      <td>03bf8c511fa949c79845a5d81b09aa1d</td>\n",
              "      <td>f5a2326a17484330aa8cb4019f1b1960</td>\n",
              "      <td>show_vacancy</td>\n",
              "    </tr>\n",
              "    <tr>\n",
              "      <th>3</th>\n",
              "      <td>2022-08-01</td>\n",
              "      <td>1659376722</td>\n",
              "      <td>171425</td>\n",
              "      <td>03bf8c511fa949c79845a5d81b09aa1d</td>\n",
              "      <td>f5a2326a17484330aa8cb4019f1b1960</td>\n",
              "      <td>show_vacancy</td>\n",
              "    </tr>\n",
              "    <tr>\n",
              "      <th>4</th>\n",
              "      <td>2022-08-01</td>\n",
              "      <td>1659374929</td>\n",
              "      <td>252384</td>\n",
              "      <td>03bf8c511fa949c79845a5d81b09aa1d</td>\n",
              "      <td>f5a2326a17484330aa8cb4019f1b1960</td>\n",
              "      <td>show_vacancy</td>\n",
              "    </tr>\n",
              "  </tbody>\n",
              "</table>\n",
              "</div>\n",
              "      <button class=\"colab-df-convert\" onclick=\"convertToInteractive('df-4f61d5d2-ee5d-42cd-8868-a928c92fd98a')\"\n",
              "              title=\"Convert this dataframe to an interactive table.\"\n",
              "              style=\"display:none;\">\n",
              "        \n",
              "  <svg xmlns=\"http://www.w3.org/2000/svg\" height=\"24px\"viewBox=\"0 0 24 24\"\n",
              "       width=\"24px\">\n",
              "    <path d=\"M0 0h24v24H0V0z\" fill=\"none\"/>\n",
              "    <path d=\"M18.56 5.44l.94 2.06.94-2.06 2.06-.94-2.06-.94-.94-2.06-.94 2.06-2.06.94zm-11 1L8.5 8.5l.94-2.06 2.06-.94-2.06-.94L8.5 2.5l-.94 2.06-2.06.94zm10 10l.94 2.06.94-2.06 2.06-.94-2.06-.94-.94-2.06-.94 2.06-2.06.94z\"/><path d=\"M17.41 7.96l-1.37-1.37c-.4-.4-.92-.59-1.43-.59-.52 0-1.04.2-1.43.59L10.3 9.45l-7.72 7.72c-.78.78-.78 2.05 0 2.83L4 21.41c.39.39.9.59 1.41.59.51 0 1.02-.2 1.41-.59l7.78-7.78 2.81-2.81c.8-.78.8-2.07 0-2.86zM5.41 20L4 18.59l7.72-7.72 1.47 1.35L5.41 20z\"/>\n",
              "  </svg>\n",
              "      </button>\n",
              "      \n",
              "  <style>\n",
              "    .colab-df-container {\n",
              "      display:flex;\n",
              "      flex-wrap:wrap;\n",
              "      gap: 12px;\n",
              "    }\n",
              "\n",
              "    .colab-df-convert {\n",
              "      background-color: #E8F0FE;\n",
              "      border: none;\n",
              "      border-radius: 50%;\n",
              "      cursor: pointer;\n",
              "      display: none;\n",
              "      fill: #1967D2;\n",
              "      height: 32px;\n",
              "      padding: 0 0 0 0;\n",
              "      width: 32px;\n",
              "    }\n",
              "\n",
              "    .colab-df-convert:hover {\n",
              "      background-color: #E2EBFA;\n",
              "      box-shadow: 0px 1px 2px rgba(60, 64, 67, 0.3), 0px 1px 3px 1px rgba(60, 64, 67, 0.15);\n",
              "      fill: #174EA6;\n",
              "    }\n",
              "\n",
              "    [theme=dark] .colab-df-convert {\n",
              "      background-color: #3B4455;\n",
              "      fill: #D2E3FC;\n",
              "    }\n",
              "\n",
              "    [theme=dark] .colab-df-convert:hover {\n",
              "      background-color: #434B5C;\n",
              "      box-shadow: 0px 1px 3px 1px rgba(0, 0, 0, 0.15);\n",
              "      filter: drop-shadow(0px 1px 2px rgba(0, 0, 0, 0.3));\n",
              "      fill: #FFFFFF;\n",
              "    }\n",
              "  </style>\n",
              "\n",
              "      <script>\n",
              "        const buttonEl =\n",
              "          document.querySelector('#df-4f61d5d2-ee5d-42cd-8868-a928c92fd98a button.colab-df-convert');\n",
              "        buttonEl.style.display =\n",
              "          google.colab.kernel.accessAllowed ? 'block' : 'none';\n",
              "\n",
              "        async function convertToInteractive(key) {\n",
              "          const element = document.querySelector('#df-4f61d5d2-ee5d-42cd-8868-a928c92fd98a');\n",
              "          const dataTable =\n",
              "            await google.colab.kernel.invokeFunction('convertToInteractive',\n",
              "                                                     [key], {});\n",
              "          if (!dataTable) return;\n",
              "\n",
              "          const docLinkHtml = 'Like what you see? Visit the ' +\n",
              "            '<a target=\"_blank\" href=https://colab.research.google.com/notebooks/data_table.ipynb>data table notebook</a>'\n",
              "            + ' to learn more about interactive tables.';\n",
              "          element.innerHTML = '';\n",
              "          dataTable['output_type'] = 'display_data';\n",
              "          await google.colab.output.renderOutput(dataTable, element);\n",
              "          const docLink = document.createElement('div');\n",
              "          docLink.innerHTML = docLinkHtml;\n",
              "          element.appendChild(docLink);\n",
              "        }\n",
              "      </script>\n",
              "    </div>\n",
              "  </div>\n",
              "  "
            ]
          },
          "metadata": {},
          "execution_count": 19
        }
      ]
    },
    {
      "cell_type": "code",
      "source": [
        "def filter_vacancies(df, start_hour, end_hour, min_rating):\n",
        "    filtered_df = df.query(\"hour >= @start_hour and hour < @end_hour and rating >= @min_rating\")\n",
        "    vacancies = filtered_df.groupby(\"id_vacancy\")[\"rating\"].mean().sort_values(ascending=False).index.tolist()\n",
        "    return vacancies\n"
      ],
      "metadata": {
        "id": "IJlxwdA7S0nF"
      },
      "execution_count": null,
      "outputs": []
    },
    {
      "cell_type": "code",
      "source": [
        "import pandas as pd\n",
        "import numpy as np\n",
        "\n",
        "# Данные с рейтингом в столбце 'rating'\n",
        "df = pd.read_csv('data.csv')\n",
        "\n",
        "# Максимальное значение рейтинга\n",
        "max_rating = df['rating'].max()\n",
        "\n",
        "# Стандартное отклонение рейтинга\n",
        "std_rating = df['rating'].std()\n",
        "\n",
        "# Интервал рейтинга от (max_rating - std_rating) до max_rating\n",
        "rating_filter = f'rating >= {max_rating - std_rating} and rating <= {max_rating}'\n",
        "\n",
        "# Фильтр по интервалу часов и рейтинга\n",
        "hour_filter = 'hour >= 9 and hour <= 17'\n",
        "filtered_df = df.query(f'{hour_filter} and {rating_filter}')\n",
        "\n",
        "# Результат\n",
        "print(filtered_df)\n"
      ],
      "metadata": {
        "id": "BYhBnXp6S0kR"
      },
      "execution_count": null,
      "outputs": []
    },
    {
      "cell_type": "code",
      "source": [
        "import pandas as pd\n",
        "\n",
        "# предположим, что у нас есть два списка рекомендаций - df1 и df2\n",
        "# каждый из них содержит столбцы 'id вакансии' и 'рейтинг'\n",
        "\n",
        "# объединяем списки по столбцу 'id вакансии'\n",
        "merged_df = pd.merge(df1, df2, on='id вакансии', how='outer', suffixes=('_1', '_2'))\n",
        "\n",
        "# сортируем по столбцу 'рейтинг' в порядке убывания\n",
        "sorted_df = merged_df.sort_values(by='рейтинг_1', ascending=False)\n",
        "\n",
        "# фильтруем список так, чтобы в топ-5 попали те вакансии,\n",
        "# которые есть в обоих списках, сохраняя приоритет за первым списком\n",
        "top_5 = sorted_df[sorted_df['id вакансии'].isin(df1['id вакансии'])].head(5)\n"
      ],
      "metadata": {
        "id": "p_EWqMLceHwW"
      },
      "execution_count": null,
      "outputs": []
    },
    {
      "cell_type": "code",
      "source": [
        "job_id_to_title = dict(zip(df['job_id'], df['job_title']))\n",
        "\n",
        "job_title = job_id_to_title[job_id]\n"
      ],
      "metadata": {
        "id": "rdmTG-ADeHt0"
      },
      "execution_count": null,
      "outputs": []
    },
    {
      "cell_type": "code",
      "source": [
        "from sklearn.metrics.pairwise import cosine_similarity, euclidean_distances\n",
        "\n",
        "# Расчет косинусного расстояния\n",
        "cosine_sim = cosine_similarity(user_params, job_params)\n",
        "\n",
        "# Расчет евклидова расстояния\n",
        "euclidean_dist = euclidean_distances(user_params, job_params)\n",
        "\n",
        "# Вывод результатов\n",
        "print(\"Cosine similarity:\\n\", cosine_sim)\n",
        "print(\"\\nEuclidean distance:\\n\", euclidean_dist)\n"
      ],
      "metadata": {
        "id": "QXGEUAC8eHop"
      },
      "execution_count": null,
      "outputs": []
    },
    {
      "cell_type": "code",
      "source": [
        "import pandas as pd\n",
        "import numpy as np\n",
        "\n",
        "# Load data into a DataFrame\n",
        "data = pd.read_csv('data.csv')\n",
        "\n",
        "# Convert timestamp to datetime\n",
        "data['timestamp'] = pd.to_datetime(data['timestamp'], unit='s')\n",
        "\n",
        "# Add columns for hour, day of week, month, and weekday/weekend\n",
        "data['hour'] = data['timestamp'].dt.hour\n",
        "data['day_of_week'] = data['timestamp'].dt.day_name()\n",
        "data['month'] = data['timestamp'].dt.month_name()\n",
        "data['is_weekend'] = np.where(data['timestamp'].dt.dayofweek < 5, 0, 1)\n",
        "\n",
        "# Add column for whether user is registered\n",
        "data['is_registered'] = np.where(data['user_id'].isnull(), 0, 1)\n",
        "\n",
        "# Group by device ID\n",
        "grouped_by_device = data.groupby('device_id').agg({\n",
        "    'hour': lambda x: x.mode()[0],\n",
        "    'day_of_week': lambda x: x.mode()[0],\n",
        "    'month': lambda x: x.mode()[0],\n",
        "    'is_weekend': lambda x: x.mode()[0],\n",
        "    'rating': 'mean'\n",
        "})\n",
        "\n",
        "# Group by vacancy ID\n",
        "grouped_by_vacancy = data.groupby('vacancy_id').agg({\n",
        "    'hour': lambda x: x.mode()[0],\n",
        "    'day_of_week': lambda x: x.mode()[0],\n",
        "    'month': lambda x: x.mode()[0],\n",
        "    'is_weekend': lambda x: x.mode()[0],\n",
        "    'rating': 'mean'\n",
        "})\n",
        "\n",
        "# Set the automatic rating range\n",
        "max_rating = grouped_by_vacancy['rating'].max()\n",
        "min_rating = grouped_by_vacancy['rating'].max() - np.sqrt(grouped_by_vacancy['rating'].var())\n",
        "\n",
        "# Filter by time and rating\n",
        "time_start = '2023-04-01 09:00:00'\n",
        "time_end = '2023-04-01 17:00:00'\n",
        "filtered_data = data.query('timestamp >= @time_start & timestamp <= @time_end')\n",
        "filtered_data = filtered_data.query('@min_rating <= rating <= @max_rating')\n",
        "\n",
        "# Get the recommended vacancies\n",
        "recommended_vacancies = filtered_data.groupby('vacancy_id')['rating'].mean().sort_values(ascending=False).index.tolist()\n",
        "print(recommended_vacancies)\n"
      ],
      "metadata": {
        "id": "YFFcn9nRS0Wm"
      },
      "execution_count": null,
      "outputs": []
    },
    {
      "cell_type": "code",
      "execution_count": null,
      "metadata": {
        "id": "axxsyeVmeGGs"
      },
      "outputs": [],
      "source": [
        "import pandas as pd\n",
        "\n",
        "# загрузить данные из таблицы\n",
        "data = pd.read_table('имя_таблицы.txt', sep='\\t')\n",
        "\n",
        "# группировка по столбцам устройства и вакансии с выбором максимального значения рейтинга\n",
        "grouped_data = data.groupby(['device_id', 'vacancy_id']).agg({'rating': 'max'})\n",
        "\n",
        "# объединение с оригинальной таблицей по столбцам устройства, вакансии и рейтингу\n",
        "result = pd.merge(data, grouped_data, on=['device_id', 'vacancy_id', 'rating'], how='inner')\n",
        "\n",
        "# сохранить результат в файл\n",
        "result.to_csv('результат.txt', sep='\\t', index=False)\n"
      ]
    },
    {
      "cell_type": "code",
      "source": [
        "import pandas as pd\n",
        "\n",
        "# загрузить данные из таблицы\n",
        "data = pd.read_table('имя_таблицы.txt', sep='\\t')\n",
        "\n",
        "# группировка по столбцу user_id с выбором максимального значения рейтинга для каждой пары vacancy_id и ip_address\n",
        "grouped_data = data.groupby(['user_id', 'vacancy_id', 'ip_address']).agg({'rating': 'max'})\n",
        "\n",
        "# сбросить индексы\n",
        "grouped_data = grouped_data.reset_index()\n",
        "\n",
        "# объединение с оригинальной таблицей по столбцам user_id, vacancy_id, ip_address и рейтингу\n",
        "result = pd.merge(data, grouped_data, on=['user_id', 'vacancy_id', 'ip_address', 'rating'], how='inner')\n",
        "\n",
        "# сохранить результат в файл\n",
        "result.to_csv('результат.txt', sep='\\t', index=False)\n"
      ],
      "metadata": {
        "id": "HWPpke40eHAb"
      },
      "execution_count": null,
      "outputs": []
    },
    {
      "cell_type": "code",
      "source": [
        "import pandas as pd\n",
        "\n",
        "# загрузка данных из файла\n",
        "df = pd.read_csv('data.csv')\n",
        "\n",
        "# добавление столбца с часом взаимодействия\n",
        "df['interaction_hour'] = df['timestamp'].dt.hour\n",
        "\n",
        "# добавление столбца с днем недели взаимодействия\n",
        "df['interaction_weekday'] = df['timestamp'].dt.weekday\n",
        "\n",
        "# добавление столбца с месяцем взаимодействия\n",
        "df['interaction_month'] = df['timestamp'].dt.month\n",
        "\n",
        "# добавление столбца, указывающего, является ли день взаимодействия выходным\n",
        "df['is_weekend'] = df['timestamp'].dt.weekday.isin([5, 6])\n",
        "\n",
        "# добавление столбца, указывающего, зарегистрирован ли пользователь\n",
        "df['is_registered'] = df['user_id'].fillna(False).astype(bool)\n",
        "\n",
        "# сохранение данных в файл\n",
        "df.to_csv('processed_data.csv', index=False)\n"
      ],
      "metadata": {
        "id": "-MqLGKlffKcd"
      },
      "execution_count": null,
      "outputs": []
    },
    {
      "cell_type": "code",
      "source": [
        "device_grouped = df.groupby('id устройства').agg({\n",
        "    'час': lambda x: x.mode()[0],\n",
        "    'день недели': lambda x: x.mode()[0],\n",
        "    'месяц': lambda x: x.mode()[0],\n",
        "    'рейтинг': 'mean'\n",
        "}).reset_index()\n",
        "\n",
        "job_grouped = df.groupby('id вакансии').agg({\n",
        "    'час': lambda x: x.mode()[0],\n",
        "    'день недели': lambda x: x.mode()[0],\n",
        "    'месяц': lambda x: x.mode()[0],\n",
        "    'рейтинг': 'mean'\n",
        "}).reset_index()\n"
      ],
      "metadata": {
        "id": "IEZI0br8gQU7"
      },
      "execution_count": null,
      "outputs": []
    }
  ]
}