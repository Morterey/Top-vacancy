{
  "cells": [
    {
      "cell_type": "code",
      "execution_count": null,
      "metadata": {
        "id": "R3qg2GYELY2J"
      },
      "outputs": [],
      "source": [
        "import numpy as np\n",
        "import pandas as pd\n",
        "pd.set_option('display.max_columns', None)\n",
        "\n",
        "from pandasql import sqldf\n",
        "\n",
        "import matplotlib.pyplot as plt\n",
        "import seaborn as sns"
      ]
    },
    {
      "cell_type": "markdown",
      "metadata": {
        "id": "YURRocdPLY2L"
      },
      "source": [
        "# **Задача**\n",
        "\n",
        "По поведению пользователей на площадке rabota.ru предсказать, на какие вакансии пользователь в дальнейшем откликнется или позвонит.\n",
        "\n",
        "В рамках задачи вам будет необходимо разработать модель, которая будет опираться на взаимодействия пользователей (соискателей) с вакансией. На выходе модель должна отдавать список из n рекомендованных вакансий, отсортированных по релевантности.\n"
      ]
    },
    {
      "cell_type": "markdown",
      "metadata": {
        "id": "uon20gJtLY2N"
      },
      "source": [
        "# **Данные**"
      ]
    },
    {
      "cell_type": "markdown",
      "metadata": {
        "id": "7Z6QMfgQLY2O"
      },
      "source": [
        "## ***train_mfti.parquet*** – сырые данные, которые можно использовать для обучения модели\n",
        "* event_date – дата взаимодейтсвия\n",
        "* event_timestamp – timestamp взаимодействия в секундах \n",
        "* vacancy_id_ - id вакансии, с которой было взаимодействие\n",
        "* cookie_id – id пользователя по его браузеру/ip/устройству\n",
        "* user_id – id пользователя на сайте rabota.ru (есть только для зарегистрированных пользователей)\n",
        "* event_type – тип взаимодействия\n"
      ]
    },
    {
      "cell_type": "code",
      "execution_count": null,
      "metadata": {
        "id": "Tn7ptAhBLY2O",
        "outputId": "e91ebdfd-60b3-41dd-c51a-d77b3419aecd"
      },
      "outputs": [
        {
          "data": {
            "text/html": [
              "<div>\n",
              "<style scoped>\n",
              "    .dataframe tbody tr th:only-of-type {\n",
              "        vertical-align: middle;\n",
              "    }\n",
              "\n",
              "    .dataframe tbody tr th {\n",
              "        vertical-align: top;\n",
              "    }\n",
              "\n",
              "    .dataframe thead th {\n",
              "        text-align: right;\n",
              "    }\n",
              "</style>\n",
              "<table border=\"1\" class=\"dataframe\">\n",
              "  <thead>\n",
              "    <tr style=\"text-align: right;\">\n",
              "      <th></th>\n",
              "      <th>event_date</th>\n",
              "      <th>event_timestamp</th>\n",
              "      <th>vacancy_id_</th>\n",
              "      <th>cookie_id</th>\n",
              "      <th>user_id</th>\n",
              "      <th>event_type</th>\n",
              "    </tr>\n",
              "  </thead>\n",
              "  <tbody>\n",
              "    <tr>\n",
              "      <th>0</th>\n",
              "      <td>2022-08-01</td>\n",
              "      <td>1659323026</td>\n",
              "      <td>129850</td>\n",
              "      <td>97990f1a021d4be19aa3f955b7eacab4</td>\n",
              "      <td>951f53de61764ea0b51317200a0dbbfc</td>\n",
              "      <td>show_vacancy</td>\n",
              "    </tr>\n",
              "    <tr>\n",
              "      <th>1</th>\n",
              "      <td>2022-08-01</td>\n",
              "      <td>1659377255</td>\n",
              "      <td>108347</td>\n",
              "      <td>03bf8c511fa949c79845a5d81b09aa1d</td>\n",
              "      <td>f5a2326a17484330aa8cb4019f1b1960</td>\n",
              "      <td>show_vacancy</td>\n",
              "    </tr>\n",
              "    <tr>\n",
              "      <th>2</th>\n",
              "      <td>2022-08-01</td>\n",
              "      <td>1659376695</td>\n",
              "      <td>109069</td>\n",
              "      <td>03bf8c511fa949c79845a5d81b09aa1d</td>\n",
              "      <td>f5a2326a17484330aa8cb4019f1b1960</td>\n",
              "      <td>show_vacancy</td>\n",
              "    </tr>\n",
              "  </tbody>\n",
              "</table>\n",
              "</div>"
            ],
            "text/plain": [
              "   event_date  event_timestamp  vacancy_id_                         cookie_id  \\\n",
              "0  2022-08-01       1659323026       129850  97990f1a021d4be19aa3f955b7eacab4   \n",
              "1  2022-08-01       1659377255       108347  03bf8c511fa949c79845a5d81b09aa1d   \n",
              "2  2022-08-01       1659376695       109069  03bf8c511fa949c79845a5d81b09aa1d   \n",
              "\n",
              "                            user_id    event_type  \n",
              "0  951f53de61764ea0b51317200a0dbbfc  show_vacancy  \n",
              "1  f5a2326a17484330aa8cb4019f1b1960  show_vacancy  \n",
              "2  f5a2326a17484330aa8cb4019f1b1960  show_vacancy  "
            ]
          },
          "metadata": {},
          "output_type": "display_data"
        },
        {
          "name": "stdout",
          "output_type": "stream",
          "text": [
            "(12292588, 6)\n"
          ]
        }
      ],
      "source": [
        "df = pd.read_parquet('train_mfti.parquet')\n",
        "display(df.head(3))\n",
        "print(df.shape)"
      ]
    },
    {
      "cell_type": "markdown",
      "metadata": {
        "id": "Si9nyLKWLY2P"
      },
      "source": [
        "## ***test_public_mfti.parquet*** – часть теста, с открытым таргетом, для проверки работоспособности решений.\n",
        "* cookie_id - id пользователя по его браузеру/ip/устройству\n",
        "* vacancy_id_ - список вакансий, на которые пользователь откликнулся или позвонил в течение месяца после окончания данных train\n"
      ]
    },
    {
      "cell_type": "code",
      "execution_count": null,
      "metadata": {
        "id": "xl1f9JPeLY2P",
        "outputId": "451ec61a-6d7b-4033-bfed-d8fde8d83a01"
      },
      "outputs": [
        {
          "data": {
            "text/html": [
              "<div>\n",
              "<style scoped>\n",
              "    .dataframe tbody tr th:only-of-type {\n",
              "        vertical-align: middle;\n",
              "    }\n",
              "\n",
              "    .dataframe tbody tr th {\n",
              "        vertical-align: top;\n",
              "    }\n",
              "\n",
              "    .dataframe thead th {\n",
              "        text-align: right;\n",
              "    }\n",
              "</style>\n",
              "<table border=\"1\" class=\"dataframe\">\n",
              "  <thead>\n",
              "    <tr style=\"text-align: right;\">\n",
              "      <th></th>\n",
              "      <th>cookie_id</th>\n",
              "      <th>vacancy_id_</th>\n",
              "    </tr>\n",
              "  </thead>\n",
              "  <tbody>\n",
              "    <tr>\n",
              "      <th>0</th>\n",
              "      <td>000cd76cd33f43d4a1ac1d16d10f8bf7</td>\n",
              "      <td>[222177, 222173, 222163, 238874, 238878, 22812...</td>\n",
              "    </tr>\n",
              "    <tr>\n",
              "      <th>1</th>\n",
              "      <td>0034bc7f404341ba8412665453e7825a</td>\n",
              "      <td>[102794, 137587, 257319, 237756, 240744, 11348...</td>\n",
              "    </tr>\n",
              "    <tr>\n",
              "      <th>2</th>\n",
              "      <td>00a6c5a64a274c55a836402bdeb3b2c4</td>\n",
              "      <td>[254292, 164602, 116438, 228634, 218819, 24065...</td>\n",
              "    </tr>\n",
              "  </tbody>\n",
              "</table>\n",
              "</div>"
            ],
            "text/plain": [
              "                          cookie_id  \\\n",
              "0  000cd76cd33f43d4a1ac1d16d10f8bf7   \n",
              "1  0034bc7f404341ba8412665453e7825a   \n",
              "2  00a6c5a64a274c55a836402bdeb3b2c4   \n",
              "\n",
              "                                         vacancy_id_  \n",
              "0  [222177, 222173, 222163, 238874, 238878, 22812...  \n",
              "1  [102794, 137587, 257319, 237756, 240744, 11348...  \n",
              "2  [254292, 164602, 116438, 228634, 218819, 24065...  "
            ]
          },
          "metadata": {},
          "output_type": "display_data"
        },
        {
          "name": "stdout",
          "output_type": "stream",
          "text": [
            "(772, 2)\n"
          ]
        }
      ],
      "source": [
        "df1_ = pd.read_parquet('test_public_mfti.parquet')\n",
        "display(df1_.head(3))\n",
        "print(df1_.shape)"
      ]
    },
    {
      "cell_type": "markdown",
      "metadata": {
        "id": "FnejhzGCLY2Q"
      },
      "source": [
        "## ***test_private_users_mfti.parquet*** – часть теста, с закрытым таргетом для итоговой проверки решений\n",
        "* cookie_id - id пользователя по его браузеру/ip/устройству\n"
      ]
    },
    {
      "cell_type": "code",
      "execution_count": null,
      "metadata": {
        "id": "WWJvf5cDLY2Q",
        "outputId": "9411ba88-4f64-4b07-fe14-a24542597bdd"
      },
      "outputs": [
        {
          "data": {
            "text/html": [
              "<div>\n",
              "<style scoped>\n",
              "    .dataframe tbody tr th:only-of-type {\n",
              "        vertical-align: middle;\n",
              "    }\n",
              "\n",
              "    .dataframe tbody tr th {\n",
              "        vertical-align: top;\n",
              "    }\n",
              "\n",
              "    .dataframe thead th {\n",
              "        text-align: right;\n",
              "    }\n",
              "</style>\n",
              "<table border=\"1\" class=\"dataframe\">\n",
              "  <thead>\n",
              "    <tr style=\"text-align: right;\">\n",
              "      <th></th>\n",
              "      <th>cookie_id</th>\n",
              "    </tr>\n",
              "  </thead>\n",
              "  <tbody>\n",
              "    <tr>\n",
              "      <th>0</th>\n",
              "      <td>0018914ba3e54011b28fa715583d3354</td>\n",
              "    </tr>\n",
              "    <tr>\n",
              "      <th>1</th>\n",
              "      <td>0035c298d8c64f368ae730a9cca9bb20</td>\n",
              "    </tr>\n",
              "    <tr>\n",
              "      <th>2</th>\n",
              "      <td>00956458877448ec9fba87fb97443fdf</td>\n",
              "    </tr>\n",
              "  </tbody>\n",
              "</table>\n",
              "</div>"
            ],
            "text/plain": [
              "                          cookie_id\n",
              "0  0018914ba3e54011b28fa715583d3354\n",
              "1  0035c298d8c64f368ae730a9cca9bb20\n",
              "2  00956458877448ec9fba87fb97443fdf"
            ]
          },
          "metadata": {},
          "output_type": "display_data"
        },
        {
          "name": "stdout",
          "output_type": "stream",
          "text": [
            "(3086, 1)\n"
          ]
        }
      ],
      "source": [
        "df2_ = pd.read_parquet('test_private_users_mfti.parquet')\n",
        "display(df2_.head(3))\n",
        "print(df2_.shape)"
      ]
    },
    {
      "cell_type": "markdown",
      "metadata": {
        "id": "3Y6-x-MZLY2Q"
      },
      "source": [
        "## ***test_private_sample_submission_mfti.parquet*** – файл с примером предсказаний, который требуется получить по итогу хакатона \n",
        "* cookie_id - id пользователя по его браузеру/ip/устройству\n",
        "* predictions – список из 5 id вакансий, которые модель предсказала как наиболее релеватные для данного пользователя\n"
      ]
    },
    {
      "cell_type": "code",
      "execution_count": null,
      "metadata": {
        "id": "RIMJCatuLY2R",
        "outputId": "77b1086d-4196-42a4-aecd-0ec06cc17064"
      },
      "outputs": [
        {
          "data": {
            "text/html": [
              "<div>\n",
              "<style scoped>\n",
              "    .dataframe tbody tr th:only-of-type {\n",
              "        vertical-align: middle;\n",
              "    }\n",
              "\n",
              "    .dataframe tbody tr th {\n",
              "        vertical-align: top;\n",
              "    }\n",
              "\n",
              "    .dataframe thead th {\n",
              "        text-align: right;\n",
              "    }\n",
              "</style>\n",
              "<table border=\"1\" class=\"dataframe\">\n",
              "  <thead>\n",
              "    <tr style=\"text-align: right;\">\n",
              "      <th></th>\n",
              "      <th>cookie_id</th>\n",
              "      <th>predictions</th>\n",
              "    </tr>\n",
              "  </thead>\n",
              "  <tbody>\n",
              "    <tr>\n",
              "      <th>0</th>\n",
              "      <td>0018914ba3e54011b28fa715583d3354</td>\n",
              "      <td>[100100, 100101, 100102, 100103, 100104]</td>\n",
              "    </tr>\n",
              "    <tr>\n",
              "      <th>1</th>\n",
              "      <td>0035c298d8c64f368ae730a9cca9bb20</td>\n",
              "      <td>[100100, 100101, 100102, 100103, 100104]</td>\n",
              "    </tr>\n",
              "    <tr>\n",
              "      <th>2</th>\n",
              "      <td>00956458877448ec9fba87fb97443fdf</td>\n",
              "      <td>[100100, 100101, 100102, 100103, 100104]</td>\n",
              "    </tr>\n",
              "  </tbody>\n",
              "</table>\n",
              "</div>"
            ],
            "text/plain": [
              "                          cookie_id                               predictions\n",
              "0  0018914ba3e54011b28fa715583d3354  [100100, 100101, 100102, 100103, 100104]\n",
              "1  0035c298d8c64f368ae730a9cca9bb20  [100100, 100101, 100102, 100103, 100104]\n",
              "2  00956458877448ec9fba87fb97443fdf  [100100, 100101, 100102, 100103, 100104]"
            ]
          },
          "metadata": {},
          "output_type": "display_data"
        },
        {
          "name": "stdout",
          "output_type": "stream",
          "text": [
            "(3086, 2)\n"
          ]
        }
      ],
      "source": [
        "df3_ = pd.read_parquet('test_private_sample_submission_mfti.parquet')\n",
        "display(df3_.head(3))\n",
        "print(df3_.shape)"
      ]
    },
    {
      "cell_type": "markdown",
      "metadata": {
        "id": "Y0y2T5QSLY2R"
      },
      "source": [
        "# **Метрика**\n",
        "* Результаты модели будут оцениваться по метрике ***precision@5***. \n",
        "* При демонстрации своего решения по завершению хакатона, вам необходимо будет предоставить ***код для обучения и инференса модели, презентацию по проделанной работе и файл с предсказаниями*** для пользователей из списка test_private_users_mfti.parquet в формате файла test_private_sample_submission_mfti.parquet\n"
      ]
    },
    {
      "cell_type": "markdown",
      "metadata": {
        "id": "XwLml7dqLY2R"
      },
      "source": [
        "# **Рекомендации по решению**\n",
        "* В таких задачах, чаще всего, baseline моделью считается рекомендация самых популярных вакансий для всех пользователей. Попробуйте написать полный pipeline с использованием этой простой модели и отталкиваться от него в процессе ваших исследований\n",
        "* Обратите внимания на то, что если пользователь каким-либо образом взаимодействовал с вакансией в обучающих данных, то для этого пользователя данной вакансии не будет в списке меток теста. Мы не хотим рекомендовать пользователю то, что он уже видел и с чем взаимодействовал.\n",
        "* Постарайтесь не использовать файл test_public_mfti.parquet для постоянной валидации своих моделей, это может привести к переобучению. Вместо этого лучше подготовить свой валидационный датасет.\n"
      ]
    },
    {
      "cell_type": "markdown",
      "metadata": {
        "id": "8zD5Y7s4LY2S"
      },
      "source": [
        "# **Решение** (baseline)"
      ]
    },
    {
      "cell_type": "code",
      "execution_count": null,
      "metadata": {
        "id": "coIymQ7aLY2S",
        "outputId": "26456b69-bf8b-414e-c96d-74710a0b2ea3"
      },
      "outputs": [
        {
          "data": {
            "text/plain": [
              "array(['show_vacancy', 'preview_click_vacancy', 'click_contacts',\n",
              "       'preview_click_contacts', 'click_favorite',\n",
              "       'preview_click_favorite', 'preview_click_phone',\n",
              "       'preview_click_response', 'click_phone', 'click_response'],\n",
              "      dtype=object)"
            ]
          },
          "execution_count": 10,
          "metadata": {},
          "output_type": "execute_result"
        }
      ],
      "source": [
        "# Смотрим, какие типы взаимодействий имеются\n",
        "df['event_type'].unique()"
      ]
    },
    {
      "cell_type": "code",
      "execution_count": null,
      "metadata": {
        "id": "OUK342mNLY2S"
      },
      "outputs": [],
      "source": [
        "# Выполним mapping для типов взаимодействий:\n",
        "df['rating'] = df['event_type'].map({'show_vacancy': 0,\n",
        "                                     'preview_click_vacancy': 1,\n",
        "                                     'click_favorite': 2,\n",
        "                                     'preview_click_favorite': 3,\n",
        "                                     'click_response': 4,\n",
        "                                     'preview_click_response': 5,\n",
        "                                     'click_contacts': 6,\n",
        "                                     'preview_click_contacts': 7,\n",
        "                                     'click_phone': 8,\n",
        "                                     'preview_click_phone': 9})"
      ]
    },
    {
      "cell_type": "code",
      "execution_count": null,
      "metadata": {
        "id": "wJcKWz0bLY2T",
        "outputId": "96b7cfac-0a86-4167-d9e2-67b7549e580d"
      },
      "outputs": [
        {
          "name": "stdout",
          "output_type": "stream",
          "text": [
            "<class 'pandas.core.frame.DataFrame'>\n",
            "RangeIndex: 12292588 entries, 0 to 12292587\n",
            "Data columns (total 7 columns):\n",
            " #   Column           Non-Null Count     Dtype \n",
            "---  ------           --------------     ----- \n",
            " 0   event_date       12292588 non-null  object\n",
            " 1   event_timestamp  12292588 non-null  int64 \n",
            " 2   vacancy_id_      12292588 non-null  int64 \n",
            " 3   cookie_id        12292588 non-null  object\n",
            " 4   user_id          8711177 non-null   object\n",
            " 5   event_type       12292588 non-null  object\n",
            " 6   rating           12292588 non-null  int64 \n",
            "dtypes: int64(3), object(4)\n",
            "memory usage: 656.5+ MB\n"
          ]
        }
      ],
      "source": [
        "# Количество значений в каждом столбце и тип данных\n",
        "df.info(verbose=True, show_counts=True)"
      ]
    },
    {
      "cell_type": "code",
      "execution_count": null,
      "metadata": {
        "id": "TKs3Zn2XLY2T",
        "outputId": "2a7b4f76-5954-4f41-fb6b-1d2793a29563"
      },
      "outputs": [
        {
          "name": "stdout",
          "output_type": "stream",
          "text": [
            "Столбец:        Количество уникальных:\n",
            "vacancy         160167\n",
            "cookie          330180\n",
            "user            209336\n"
          ]
        }
      ],
      "source": [
        "# Вывод количества уникальных id\n",
        "print(f'{\"Столбец:\" : <15} {\"Количество уникальных:\"}')\n",
        "for col_id in ('vacancy_id_', 'cookie_id', 'user_id'):\n",
        "    print(f'{col_id.split(sep=\"_\")[0] : <15} {df[col_id].nunique(dropna=False)}')"
      ]
    },
    {
      "cell_type": "code",
      "execution_count": null,
      "metadata": {
        "id": "Gr_FwFm5LY2T",
        "outputId": "fac85953-58d2-442f-d56c-b633666cd25b"
      },
      "outputs": [
        {
          "data": {
            "text/plain": [
              "924398d361a0454c8c30845c2b4c5747    4898\n",
              "7d8cc5a0fef44378a2d90a237cda288e    3343\n",
              "5934d5b8a0b348829d8efabe69c733eb    3315\n",
              "b7dd2f20fdd6472ab62f8d86a739cd5d    3312\n",
              "353b56c4fa6447d0ba0f08b42d86e51f    2795\n",
              "6b3281f474314f96b75a7d1a06f09eed    2478\n",
              "43cef1cac8f646a1adf620cb023fb311    2262\n",
              "57013f363bb64956a65c4061c75e43e1    2143\n",
              "54c29201d1eb4a9bb446090e631e948a    2120\n",
              "784a284e0bd34228903d95cff1559ca4    2103\n",
              "Name: cookie_id, dtype: int64"
            ]
          },
          "execution_count": 14,
          "metadata": {},
          "output_type": "execute_result"
        }
      ],
      "source": [
        "df['cookie_id'].value_counts()[:10]"
      ]
    },
    {
      "cell_type": "code",
      "execution_count": null,
      "metadata": {
        "id": "VvfpwRcnLY2T",
        "outputId": "d61e8171-244e-49b3-f52a-72d0c0d0ee82"
      },
      "outputs": [
        {
          "data": {
            "text/plain": [
              "164246    1199\n",
              "201312     788\n",
              "219158     149\n",
              "207169       3\n",
              "257747       2\n",
              "177710       2\n",
              "Name: vacancy_id_, dtype: int64"
            ]
          },
          "execution_count": 15,
          "metadata": {},
          "output_type": "execute_result"
        }
      ],
      "source": [
        "# Интересный момент, выглядит будто \"накрутка\"\n",
        "df[df['cookie_id'] == '57013f363bb64956a65c4061c75e43e1']['vacancy_id_'].value_counts()"
      ]
    },
    {
      "cell_type": "code",
      "execution_count": null,
      "metadata": {
        "id": "RnK6QlKaLY2U",
        "outputId": "5b0841a1-afa6-4b83-9fe1-e7d30e631090"
      },
      "outputs": [
        {
          "data": {
            "text/plain": [
              "cookie_id\n",
              "924398d361a0454c8c30845c2b4c5747    4541\n",
              "784a284e0bd34228903d95cff1559ca4    1228\n",
              "728c61d1db294cb59e6032a65706b964    1106\n",
              "6b3281f474314f96b75a7d1a06f09eed     961\n",
              "7d8cc5a0fef44378a2d90a237cda288e     826\n",
              "Name: vacancy_id_, dtype: int64"
            ]
          },
          "execution_count": 16,
          "metadata": {},
          "output_type": "execute_result"
        }
      ],
      "source": [
        "# ТОП-5 cookie по количеству вакансий, с которыми они взаиимодействовали\n",
        "df.groupby(by='cookie_id').nunique()['vacancy_id_'].sort_values(ascending=False)[:5]"
      ]
    },
    {
      "cell_type": "code",
      "execution_count": null,
      "metadata": {
        "id": "j3mzAQITLY2U"
      },
      "outputs": [],
      "source": [
        "#df.groupby(by='cookie_id').nunique()"
      ]
    },
    {
      "cell_type": "markdown",
      "metadata": {
        "id": "V8XopCHLLY2U"
      },
      "source": [
        "## Оценки вакансий"
      ]
    },
    {
      "cell_type": "markdown",
      "metadata": {
        "id": "4lzsaO7SLY2U"
      },
      "source": [
        "Создадим новую таблицу:\n",
        "1. vacancy_id - идентификатор вакансии\n",
        "2. interactions - количевство взаимодействий [количество всех взаимодействий]\n",
        "3. total_score - суммарный балл по кликам [сумма баллов в зависимости от рейтинга клика]\n",
        "4. reach - охват cookie [количество уникальных cookie, взаимодействующих как-либо с вакансией]\n",
        "5. ER - доля вовлеченности [суммарный балл / количество всех взаимодействий]\n",
        "6. ERR - доля вовлеченности по охвату [суммарный балл / охват]\n",
        "7. max_score - максимальный скоринг [сумма максимального рейтинга взаимодействия от каждого cookie / количество cookie]"
      ]
    },
    {
      "cell_type": "code",
      "execution_count": null,
      "metadata": {
        "id": "_SASk0dKLY2V"
      },
      "outputs": [],
      "source": [
        "query = \"\"\"\n",
        "    SELECT\n",
        "        d.vacancy_id,\n",
        "        d.interactions,\n",
        "        d.total_score,\n",
        "        d.reach, \n",
        "        CAST(d.total_score AS float) / d.interactions AS ER,\n",
        "        CAST(d.total_score AS float) / d.reach AS ERR,\n",
        "        CAST(SUM(sc.max_rating) AS float) / d.reach AS max_score\n",
        "    FROM  (\n",
        "        SELECT\n",
        "            vacancy_id_ AS vacancy_id,\n",
        "            COUNT(rating) AS interactions,\n",
        "            SUM(rating) AS total_score,\n",
        "            COUNT(DISTINCT cookie_id) AS reach\n",
        "        FROM \n",
        "            df\n",
        "        GROUP BY \n",
        "            vacancy_id_\n",
        "    ) d\n",
        "    LEFT JOIN (\n",
        "        SELECT\n",
        "            vacancy_id_,\n",
        "            cookie_id,\n",
        "            MAX(rating) AS max_rating\n",
        "        FROM \n",
        "            df\n",
        "        GROUP BY \n",
        "            vacancy_id_, cookie_id\n",
        "    ) sc\n",
        "    ON d.vacancy_id = sc.vacancy_id_\n",
        "    GROUP BY \n",
        "        d.vacancy_id\n",
        "    \n",
        "        \"\"\"\n",
        "data = sqldf(query)"
      ]
    },
    {
      "cell_type": "code",
      "execution_count": null,
      "metadata": {
        "id": "4omNGRwQLY2V",
        "outputId": "c511fffe-3bb2-4c86-ace9-fab947f40f25"
      },
      "outputs": [
        {
          "data": {
            "text/html": [
              "<div>\n",
              "<style scoped>\n",
              "    .dataframe tbody tr th:only-of-type {\n",
              "        vertical-align: middle;\n",
              "    }\n",
              "\n",
              "    .dataframe tbody tr th {\n",
              "        vertical-align: top;\n",
              "    }\n",
              "\n",
              "    .dataframe thead th {\n",
              "        text-align: right;\n",
              "    }\n",
              "</style>\n",
              "<table border=\"1\" class=\"dataframe\">\n",
              "  <thead>\n",
              "    <tr style=\"text-align: right;\">\n",
              "      <th></th>\n",
              "      <th>vacancy_id</th>\n",
              "      <th>interactions</th>\n",
              "      <th>total_score</th>\n",
              "      <th>reach</th>\n",
              "      <th>ER</th>\n",
              "      <th>ERR</th>\n",
              "      <th>max_score</th>\n",
              "    </tr>\n",
              "  </thead>\n",
              "  <tbody>\n",
              "    <tr>\n",
              "      <th>0</th>\n",
              "      <td>100001</td>\n",
              "      <td>49</td>\n",
              "      <td>50</td>\n",
              "      <td>20</td>\n",
              "      <td>1.020408</td>\n",
              "      <td>2.500000</td>\n",
              "      <td>1.950000</td>\n",
              "    </tr>\n",
              "    <tr>\n",
              "      <th>1</th>\n",
              "      <td>100002</td>\n",
              "      <td>847</td>\n",
              "      <td>866</td>\n",
              "      <td>224</td>\n",
              "      <td>1.022432</td>\n",
              "      <td>3.866071</td>\n",
              "      <td>2.044643</td>\n",
              "    </tr>\n",
              "    <tr>\n",
              "      <th>2</th>\n",
              "      <td>100003</td>\n",
              "      <td>60</td>\n",
              "      <td>40</td>\n",
              "      <td>29</td>\n",
              "      <td>0.666667</td>\n",
              "      <td>1.379310</td>\n",
              "      <td>1.206897</td>\n",
              "    </tr>\n",
              "  </tbody>\n",
              "</table>\n",
              "</div>"
            ],
            "text/plain": [
              "   vacancy_id  interactions  total_score  reach        ER       ERR  max_score\n",
              "0      100001            49           50     20  1.020408  2.500000   1.950000\n",
              "1      100002           847          866    224  1.022432  3.866071   2.044643\n",
              "2      100003            60           40     29  0.666667  1.379310   1.206897"
            ]
          },
          "execution_count": 19,
          "metadata": {},
          "output_type": "execute_result"
        }
      ],
      "source": [
        "data.head(3)"
      ]
    },
    {
      "cell_type": "code",
      "execution_count": null,
      "metadata": {
        "id": "oudG0nTXLY2V"
      },
      "outputs": [],
      "source": [
        "# Копия, чтобы быстро откатиться назад\n",
        "v_metrics = data.copy()"
      ]
    },
    {
      "cell_type": "code",
      "execution_count": null,
      "metadata": {
        "id": "hT4zetfOLY2W"
      },
      "outputs": [],
      "source": [
        "# Ввожу новую метрику оценки\n",
        "v_metrics['my_score'] = np.log(v_metrics['interactions']) * (v_metrics['max_score'])"
      ]
    },
    {
      "cell_type": "code",
      "execution_count": null,
      "metadata": {
        "id": "oHmPtmiOLY2W"
      },
      "outputs": [],
      "source": [
        "# Ввожу новую метрику оценки 2\n",
        "v_metrics['my_score2'] = np.log(v_metrics['reach']) * (v_metrics['max_score'])"
      ]
    },
    {
      "cell_type": "code",
      "execution_count": null,
      "metadata": {
        "id": "IDWHrqbTLY2W"
      },
      "outputs": [],
      "source": [
        "# Ввожу новую метрику оценки 3\n",
        "v_metrics['my_score3'] = v_metrics['reach'] * (v_metrics['max_score'])"
      ]
    },
    {
      "cell_type": "code",
      "execution_count": null,
      "metadata": {
        "id": "LxEIHNWvLY2W",
        "outputId": "fd25125a-9734-4d00-8185-f73dcfee58fa"
      },
      "outputs": [
        {
          "data": {
            "text/html": [
              "<div>\n",
              "<style scoped>\n",
              "    .dataframe tbody tr th:only-of-type {\n",
              "        vertical-align: middle;\n",
              "    }\n",
              "\n",
              "    .dataframe tbody tr th {\n",
              "        vertical-align: top;\n",
              "    }\n",
              "\n",
              "    .dataframe thead th {\n",
              "        text-align: right;\n",
              "    }\n",
              "</style>\n",
              "<table border=\"1\" class=\"dataframe\">\n",
              "  <thead>\n",
              "    <tr style=\"text-align: right;\">\n",
              "      <th></th>\n",
              "      <th>vacancy_id</th>\n",
              "      <th>interactions</th>\n",
              "      <th>total_score</th>\n",
              "      <th>reach</th>\n",
              "      <th>ER</th>\n",
              "      <th>ERR</th>\n",
              "      <th>max_score</th>\n",
              "      <th>my_score</th>\n",
              "      <th>my_score2</th>\n",
              "      <th>my_score3</th>\n",
              "    </tr>\n",
              "  </thead>\n",
              "  <tbody>\n",
              "    <tr>\n",
              "      <th>count</th>\n",
              "      <td>160167.00000</td>\n",
              "      <td>160167.000000</td>\n",
              "      <td>160167.000000</td>\n",
              "      <td>160167.000000</td>\n",
              "      <td>160167.000000</td>\n",
              "      <td>160167.000000</td>\n",
              "      <td>160167.000000</td>\n",
              "      <td>160167.000000</td>\n",
              "      <td>160167.000000</td>\n",
              "      <td>160167.000000</td>\n",
              "    </tr>\n",
              "    <tr>\n",
              "      <th>mean</th>\n",
              "      <td>180084.00000</td>\n",
              "      <td>76.748569</td>\n",
              "      <td>69.059257</td>\n",
              "      <td>29.210668</td>\n",
              "      <td>1.418143</td>\n",
              "      <td>2.924368</td>\n",
              "      <td>2.051753</td>\n",
              "      <td>5.162810</td>\n",
              "      <td>3.698908</td>\n",
              "      <td>47.392472</td>\n",
              "    </tr>\n",
              "    <tr>\n",
              "      <th>std</th>\n",
              "      <td>46236.37462</td>\n",
              "      <td>484.159623</td>\n",
              "      <td>410.200334</td>\n",
              "      <td>175.746648</td>\n",
              "      <td>1.466716</td>\n",
              "      <td>3.244840</td>\n",
              "      <td>1.392563</td>\n",
              "      <td>3.347428</td>\n",
              "      <td>2.596214</td>\n",
              "      <td>285.754177</td>\n",
              "    </tr>\n",
              "    <tr>\n",
              "      <th>min</th>\n",
              "      <td>100001.00000</td>\n",
              "      <td>1.000000</td>\n",
              "      <td>0.000000</td>\n",
              "      <td>1.000000</td>\n",
              "      <td>0.000000</td>\n",
              "      <td>0.000000</td>\n",
              "      <td>0.000000</td>\n",
              "      <td>0.000000</td>\n",
              "      <td>0.000000</td>\n",
              "      <td>0.000000</td>\n",
              "    </tr>\n",
              "    <tr>\n",
              "      <th>25%</th>\n",
              "      <td>140042.50000</td>\n",
              "      <td>10.000000</td>\n",
              "      <td>8.000000</td>\n",
              "      <td>4.000000</td>\n",
              "      <td>0.612245</td>\n",
              "      <td>1.448276</td>\n",
              "      <td>1.200000</td>\n",
              "      <td>2.708050</td>\n",
              "      <td>1.732868</td>\n",
              "      <td>6.000000</td>\n",
              "    </tr>\n",
              "    <tr>\n",
              "      <th>50%</th>\n",
              "      <td>180084.00000</td>\n",
              "      <td>24.000000</td>\n",
              "      <td>20.000000</td>\n",
              "      <td>10.000000</td>\n",
              "      <td>0.866667</td>\n",
              "      <td>2.142857</td>\n",
              "      <td>1.640000</td>\n",
              "      <td>4.969813</td>\n",
              "      <td>3.532677</td>\n",
              "      <td>15.000000</td>\n",
              "    </tr>\n",
              "    <tr>\n",
              "      <th>75%</th>\n",
              "      <td>220125.50000</td>\n",
              "      <td>59.000000</td>\n",
              "      <td>54.000000</td>\n",
              "      <td>23.000000</td>\n",
              "      <td>1.333333</td>\n",
              "      <td>3.285714</td>\n",
              "      <td>2.263158</td>\n",
              "      <td>7.278045</td>\n",
              "      <td>5.364159</td>\n",
              "      <td>38.000000</td>\n",
              "    </tr>\n",
              "    <tr>\n",
              "      <th>max</th>\n",
              "      <td>260167.00000</td>\n",
              "      <td>59105.000000</td>\n",
              "      <td>44962.000000</td>\n",
              "      <td>18662.000000</td>\n",
              "      <td>9.000000</td>\n",
              "      <td>197.000000</td>\n",
              "      <td>9.000000</td>\n",
              "      <td>29.555835</td>\n",
              "      <td>25.749141</td>\n",
              "      <td>28130.000000</td>\n",
              "    </tr>\n",
              "  </tbody>\n",
              "</table>\n",
              "</div>"
            ],
            "text/plain": [
              "         vacancy_id   interactions    total_score          reach  \\\n",
              "count  160167.00000  160167.000000  160167.000000  160167.000000   \n",
              "mean   180084.00000      76.748569      69.059257      29.210668   \n",
              "std     46236.37462     484.159623     410.200334     175.746648   \n",
              "min    100001.00000       1.000000       0.000000       1.000000   \n",
              "25%    140042.50000      10.000000       8.000000       4.000000   \n",
              "50%    180084.00000      24.000000      20.000000      10.000000   \n",
              "75%    220125.50000      59.000000      54.000000      23.000000   \n",
              "max    260167.00000   59105.000000   44962.000000   18662.000000   \n",
              "\n",
              "                  ER            ERR      max_score       my_score  \\\n",
              "count  160167.000000  160167.000000  160167.000000  160167.000000   \n",
              "mean        1.418143       2.924368       2.051753       5.162810   \n",
              "std         1.466716       3.244840       1.392563       3.347428   \n",
              "min         0.000000       0.000000       0.000000       0.000000   \n",
              "25%         0.612245       1.448276       1.200000       2.708050   \n",
              "50%         0.866667       2.142857       1.640000       4.969813   \n",
              "75%         1.333333       3.285714       2.263158       7.278045   \n",
              "max         9.000000     197.000000       9.000000      29.555835   \n",
              "\n",
              "           my_score2      my_score3  \n",
              "count  160167.000000  160167.000000  \n",
              "mean        3.698908      47.392472  \n",
              "std         2.596214     285.754177  \n",
              "min         0.000000       0.000000  \n",
              "25%         1.732868       6.000000  \n",
              "50%         3.532677      15.000000  \n",
              "75%         5.364159      38.000000  \n",
              "max        25.749141   28130.000000  "
            ]
          },
          "execution_count": 24,
          "metadata": {},
          "output_type": "execute_result"
        }
      ],
      "source": [
        "v_metrics.describe()"
      ]
    },
    {
      "cell_type": "code",
      "execution_count": null,
      "metadata": {
        "id": "kI8toMlnLY2X",
        "outputId": "3d6bc434-458f-4d95-b95e-14032ecad9ec"
      },
      "outputs": [
        {
          "data": {
            "text/html": [
              "<div>\n",
              "<style scoped>\n",
              "    .dataframe tbody tr th:only-of-type {\n",
              "        vertical-align: middle;\n",
              "    }\n",
              "\n",
              "    .dataframe tbody tr th {\n",
              "        vertical-align: top;\n",
              "    }\n",
              "\n",
              "    .dataframe thead th {\n",
              "        text-align: right;\n",
              "    }\n",
              "</style>\n",
              "<table border=\"1\" class=\"dataframe\">\n",
              "  <thead>\n",
              "    <tr style=\"text-align: right;\">\n",
              "      <th></th>\n",
              "      <th>vacancy_id</th>\n",
              "      <th>interactions</th>\n",
              "      <th>total_score</th>\n",
              "      <th>reach</th>\n",
              "      <th>ER</th>\n",
              "      <th>ERR</th>\n",
              "      <th>max_score</th>\n",
              "      <th>my_score</th>\n",
              "      <th>my_score2</th>\n",
              "      <th>my_score3</th>\n",
              "    </tr>\n",
              "  </thead>\n",
              "  <tbody>\n",
              "    <tr>\n",
              "      <th>45597</th>\n",
              "      <td>145598</td>\n",
              "      <td>22</td>\n",
              "      <td>138</td>\n",
              "      <td>1</td>\n",
              "      <td>6.272727</td>\n",
              "      <td>138.0</td>\n",
              "      <td>8.0</td>\n",
              "      <td>24.728340</td>\n",
              "      <td>0.0</td>\n",
              "      <td>8.0</td>\n",
              "    </tr>\n",
              "    <tr>\n",
              "      <th>63009</th>\n",
              "      <td>163010</td>\n",
              "      <td>36</td>\n",
              "      <td>106</td>\n",
              "      <td>1</td>\n",
              "      <td>2.944444</td>\n",
              "      <td>106.0</td>\n",
              "      <td>7.0</td>\n",
              "      <td>25.084633</td>\n",
              "      <td>0.0</td>\n",
              "      <td>7.0</td>\n",
              "    </tr>\n",
              "    <tr>\n",
              "      <th>80907</th>\n",
              "      <td>180908</td>\n",
              "      <td>31</td>\n",
              "      <td>197</td>\n",
              "      <td>1</td>\n",
              "      <td>6.354839</td>\n",
              "      <td>197.0</td>\n",
              "      <td>8.0</td>\n",
              "      <td>27.471898</td>\n",
              "      <td>0.0</td>\n",
              "      <td>8.0</td>\n",
              "    </tr>\n",
              "    <tr>\n",
              "      <th>126336</th>\n",
              "      <td>226337</td>\n",
              "      <td>16</td>\n",
              "      <td>103</td>\n",
              "      <td>1</td>\n",
              "      <td>6.437500</td>\n",
              "      <td>103.0</td>\n",
              "      <td>9.0</td>\n",
              "      <td>24.953299</td>\n",
              "      <td>0.0</td>\n",
              "      <td>9.0</td>\n",
              "    </tr>\n",
              "    <tr>\n",
              "      <th>129448</th>\n",
              "      <td>229449</td>\n",
              "      <td>18</td>\n",
              "      <td>103</td>\n",
              "      <td>1</td>\n",
              "      <td>5.722222</td>\n",
              "      <td>103.0</td>\n",
              "      <td>8.0</td>\n",
              "      <td>23.122974</td>\n",
              "      <td>0.0</td>\n",
              "      <td>8.0</td>\n",
              "    </tr>\n",
              "  </tbody>\n",
              "</table>\n",
              "</div>"
            ],
            "text/plain": [
              "        vacancy_id  interactions  total_score  reach        ER    ERR  \\\n",
              "45597       145598            22          138      1  6.272727  138.0   \n",
              "63009       163010            36          106      1  2.944444  106.0   \n",
              "80907       180908            31          197      1  6.354839  197.0   \n",
              "126336      226337            16          103      1  6.437500  103.0   \n",
              "129448      229449            18          103      1  5.722222  103.0   \n",
              "\n",
              "        max_score   my_score  my_score2  my_score3  \n",
              "45597         8.0  24.728340        0.0        8.0  \n",
              "63009         7.0  25.084633        0.0        7.0  \n",
              "80907         8.0  27.471898        0.0        8.0  \n",
              "126336        9.0  24.953299        0.0        9.0  \n",
              "129448        8.0  23.122974        0.0        8.0  "
            ]
          },
          "execution_count": 25,
          "metadata": {},
          "output_type": "execute_result"
        }
      ],
      "source": [
        "# Похоже на попытку \"поднять\" вакансию в ТОП\n",
        "v_metrics[(v_metrics['ERR'] > 100)]"
      ]
    },
    {
      "cell_type": "code",
      "execution_count": null,
      "metadata": {
        "id": "8GvPcnWTLY2X",
        "outputId": "a403bade-c8ec-4639-af99-bbfc378558f2"
      },
      "outputs": [
        {
          "data": {
            "text/html": [
              "<div>\n",
              "<style scoped>\n",
              "    .dataframe tbody tr th:only-of-type {\n",
              "        vertical-align: middle;\n",
              "    }\n",
              "\n",
              "    .dataframe tbody tr th {\n",
              "        vertical-align: top;\n",
              "    }\n",
              "\n",
              "    .dataframe thead th {\n",
              "        text-align: right;\n",
              "    }\n",
              "</style>\n",
              "<table border=\"1\" class=\"dataframe\">\n",
              "  <thead>\n",
              "    <tr style=\"text-align: right;\">\n",
              "      <th></th>\n",
              "      <th>vacancy_id</th>\n",
              "      <th>interactions</th>\n",
              "      <th>total_score</th>\n",
              "      <th>reach</th>\n",
              "      <th>ER</th>\n",
              "      <th>ERR</th>\n",
              "      <th>max_score</th>\n",
              "      <th>my_score</th>\n",
              "      <th>my_score2</th>\n",
              "      <th>my_score3</th>\n",
              "    </tr>\n",
              "  </thead>\n",
              "  <tbody>\n",
              "    <tr>\n",
              "      <th>1395</th>\n",
              "      <td>101396</td>\n",
              "      <td>4297</td>\n",
              "      <td>7005</td>\n",
              "      <td>823</td>\n",
              "      <td>1.630207</td>\n",
              "      <td>8.511543</td>\n",
              "      <td>3.318348</td>\n",
              "      <td>27.760208</td>\n",
              "      <td>22.275921</td>\n",
              "      <td>2731.0</td>\n",
              "    </tr>\n",
              "    <tr>\n",
              "      <th>16822</th>\n",
              "      <td>116823</td>\n",
              "      <td>40023</td>\n",
              "      <td>41019</td>\n",
              "      <td>10901</td>\n",
              "      <td>1.024886</td>\n",
              "      <td>3.762866</td>\n",
              "      <td>2.492157</td>\n",
              "      <td>26.409907</td>\n",
              "      <td>23.168608</td>\n",
              "      <td>27167.0</td>\n",
              "    </tr>\n",
              "    <tr>\n",
              "      <th>63009</th>\n",
              "      <td>163010</td>\n",
              "      <td>36</td>\n",
              "      <td>106</td>\n",
              "      <td>1</td>\n",
              "      <td>2.944444</td>\n",
              "      <td>106.000000</td>\n",
              "      <td>7.000000</td>\n",
              "      <td>25.084633</td>\n",
              "      <td>0.000000</td>\n",
              "      <td>7.0</td>\n",
              "    </tr>\n",
              "    <tr>\n",
              "      <th>74952</th>\n",
              "      <td>174953</td>\n",
              "      <td>21864</td>\n",
              "      <td>24577</td>\n",
              "      <td>6237</td>\n",
              "      <td>1.124085</td>\n",
              "      <td>3.940516</td>\n",
              "      <td>2.654161</td>\n",
              "      <td>26.521957</td>\n",
              "      <td>23.192731</td>\n",
              "      <td>16554.0</td>\n",
              "    </tr>\n",
              "    <tr>\n",
              "      <th>80381</th>\n",
              "      <td>180382</td>\n",
              "      <td>12650</td>\n",
              "      <td>13430</td>\n",
              "      <td>3340</td>\n",
              "      <td>1.061660</td>\n",
              "      <td>4.020958</td>\n",
              "      <td>2.717665</td>\n",
              "      <td>25.669464</td>\n",
              "      <td>22.050387</td>\n",
              "      <td>9077.0</td>\n",
              "    </tr>\n",
              "    <tr>\n",
              "      <th>80907</th>\n",
              "      <td>180908</td>\n",
              "      <td>31</td>\n",
              "      <td>197</td>\n",
              "      <td>1</td>\n",
              "      <td>6.354839</td>\n",
              "      <td>197.000000</td>\n",
              "      <td>8.000000</td>\n",
              "      <td>27.471898</td>\n",
              "      <td>0.000000</td>\n",
              "      <td>8.0</td>\n",
              "    </tr>\n",
              "    <tr>\n",
              "      <th>82869</th>\n",
              "      <td>182870</td>\n",
              "      <td>29649</td>\n",
              "      <td>39097</td>\n",
              "      <td>7871</td>\n",
              "      <td>1.318662</td>\n",
              "      <td>4.967221</td>\n",
              "      <td>2.870283</td>\n",
              "      <td>29.555835</td>\n",
              "      <td>25.749141</td>\n",
              "      <td>22592.0</td>\n",
              "    </tr>\n",
              "    <tr>\n",
              "      <th>84066</th>\n",
              "      <td>184067</td>\n",
              "      <td>468</td>\n",
              "      <td>1374</td>\n",
              "      <td>80</td>\n",
              "      <td>2.935897</td>\n",
              "      <td>17.175000</td>\n",
              "      <td>4.687500</td>\n",
              "      <td>28.820945</td>\n",
              "      <td>20.540750</td>\n",
              "      <td>375.0</td>\n",
              "    </tr>\n",
              "    <tr>\n",
              "      <th>135107</th>\n",
              "      <td>235108</td>\n",
              "      <td>65</td>\n",
              "      <td>126</td>\n",
              "      <td>4</td>\n",
              "      <td>1.938462</td>\n",
              "      <td>31.500000</td>\n",
              "      <td>6.000000</td>\n",
              "      <td>25.046324</td>\n",
              "      <td>8.317766</td>\n",
              "      <td>24.0</td>\n",
              "    </tr>\n",
              "    <tr>\n",
              "      <th>145951</th>\n",
              "      <td>245952</td>\n",
              "      <td>3490</td>\n",
              "      <td>5295</td>\n",
              "      <td>700</td>\n",
              "      <td>1.517192</td>\n",
              "      <td>7.564286</td>\n",
              "      <td>3.138571</td>\n",
              "      <td>25.603389</td>\n",
              "      <td>20.561034</td>\n",
              "      <td>2197.0</td>\n",
              "    </tr>\n",
              "  </tbody>\n",
              "</table>\n",
              "</div>"
            ],
            "text/plain": [
              "        vacancy_id  interactions  total_score  reach        ER         ERR  \\\n",
              "1395        101396          4297         7005    823  1.630207    8.511543   \n",
              "16822       116823         40023        41019  10901  1.024886    3.762866   \n",
              "63009       163010            36          106      1  2.944444  106.000000   \n",
              "74952       174953         21864        24577   6237  1.124085    3.940516   \n",
              "80381       180382         12650        13430   3340  1.061660    4.020958   \n",
              "80907       180908            31          197      1  6.354839  197.000000   \n",
              "82869       182870         29649        39097   7871  1.318662    4.967221   \n",
              "84066       184067           468         1374     80  2.935897   17.175000   \n",
              "135107      235108            65          126      4  1.938462   31.500000   \n",
              "145951      245952          3490         5295    700  1.517192    7.564286   \n",
              "\n",
              "        max_score   my_score  my_score2  my_score3  \n",
              "1395     3.318348  27.760208  22.275921     2731.0  \n",
              "16822    2.492157  26.409907  23.168608    27167.0  \n",
              "63009    7.000000  25.084633   0.000000        7.0  \n",
              "74952    2.654161  26.521957  23.192731    16554.0  \n",
              "80381    2.717665  25.669464  22.050387     9077.0  \n",
              "80907    8.000000  27.471898   0.000000        8.0  \n",
              "82869    2.870283  29.555835  25.749141    22592.0  \n",
              "84066    4.687500  28.820945  20.540750      375.0  \n",
              "135107   6.000000  25.046324   8.317766       24.0  \n",
              "145951   3.138571  25.603389  20.561034     2197.0  "
            ]
          },
          "execution_count": 26,
          "metadata": {},
          "output_type": "execute_result"
        }
      ],
      "source": [
        "# Выбирать рекомендацию по оценке \"my_score\" не совсем правильно,\n",
        "# т.к. много записей с высоким баллом, но с малым количеством пользователей\n",
        "v_metrics[v_metrics['my_score'] > 25]"
      ]
    },
    {
      "cell_type": "code",
      "execution_count": null,
      "metadata": {
        "id": "wVL89oG_LY2X",
        "outputId": "1ed7aa39-5f3e-4acc-8fe1-d9d6806ce2f3"
      },
      "outputs": [
        {
          "data": {
            "text/html": [
              "<div>\n",
              "<style scoped>\n",
              "    .dataframe tbody tr th:only-of-type {\n",
              "        vertical-align: middle;\n",
              "    }\n",
              "\n",
              "    .dataframe tbody tr th {\n",
              "        vertical-align: top;\n",
              "    }\n",
              "\n",
              "    .dataframe thead th {\n",
              "        text-align: right;\n",
              "    }\n",
              "</style>\n",
              "<table border=\"1\" class=\"dataframe\">\n",
              "  <thead>\n",
              "    <tr style=\"text-align: right;\">\n",
              "      <th></th>\n",
              "      <th>vacancy_id</th>\n",
              "      <th>interactions</th>\n",
              "      <th>total_score</th>\n",
              "      <th>reach</th>\n",
              "      <th>ER</th>\n",
              "      <th>ERR</th>\n",
              "      <th>max_score</th>\n",
              "      <th>my_score</th>\n",
              "      <th>my_score2</th>\n",
              "      <th>my_score3</th>\n",
              "    </tr>\n",
              "  </thead>\n",
              "  <tbody>\n",
              "    <tr>\n",
              "      <th>1395</th>\n",
              "      <td>101396</td>\n",
              "      <td>4297</td>\n",
              "      <td>7005</td>\n",
              "      <td>823</td>\n",
              "      <td>1.630207</td>\n",
              "      <td>8.511543</td>\n",
              "      <td>3.318348</td>\n",
              "      <td>27.760208</td>\n",
              "      <td>22.275921</td>\n",
              "      <td>2731.0</td>\n",
              "    </tr>\n",
              "    <tr>\n",
              "      <th>16822</th>\n",
              "      <td>116823</td>\n",
              "      <td>40023</td>\n",
              "      <td>41019</td>\n",
              "      <td>10901</td>\n",
              "      <td>1.024886</td>\n",
              "      <td>3.762866</td>\n",
              "      <td>2.492157</td>\n",
              "      <td>26.409907</td>\n",
              "      <td>23.168608</td>\n",
              "      <td>27167.0</td>\n",
              "    </tr>\n",
              "    <tr>\n",
              "      <th>74952</th>\n",
              "      <td>174953</td>\n",
              "      <td>21864</td>\n",
              "      <td>24577</td>\n",
              "      <td>6237</td>\n",
              "      <td>1.124085</td>\n",
              "      <td>3.940516</td>\n",
              "      <td>2.654161</td>\n",
              "      <td>26.521957</td>\n",
              "      <td>23.192731</td>\n",
              "      <td>16554.0</td>\n",
              "    </tr>\n",
              "    <tr>\n",
              "      <th>80381</th>\n",
              "      <td>180382</td>\n",
              "      <td>12650</td>\n",
              "      <td>13430</td>\n",
              "      <td>3340</td>\n",
              "      <td>1.061660</td>\n",
              "      <td>4.020958</td>\n",
              "      <td>2.717665</td>\n",
              "      <td>25.669464</td>\n",
              "      <td>22.050387</td>\n",
              "      <td>9077.0</td>\n",
              "    </tr>\n",
              "    <tr>\n",
              "      <th>82869</th>\n",
              "      <td>182870</td>\n",
              "      <td>29649</td>\n",
              "      <td>39097</td>\n",
              "      <td>7871</td>\n",
              "      <td>1.318662</td>\n",
              "      <td>4.967221</td>\n",
              "      <td>2.870283</td>\n",
              "      <td>29.555835</td>\n",
              "      <td>25.749141</td>\n",
              "      <td>22592.0</td>\n",
              "    </tr>\n",
              "    <tr>\n",
              "      <th>84066</th>\n",
              "      <td>184067</td>\n",
              "      <td>468</td>\n",
              "      <td>1374</td>\n",
              "      <td>80</td>\n",
              "      <td>2.935897</td>\n",
              "      <td>17.175000</td>\n",
              "      <td>4.687500</td>\n",
              "      <td>28.820945</td>\n",
              "      <td>20.540750</td>\n",
              "      <td>375.0</td>\n",
              "    </tr>\n",
              "    <tr>\n",
              "      <th>93330</th>\n",
              "      <td>193331</td>\n",
              "      <td>10820</td>\n",
              "      <td>12146</td>\n",
              "      <td>3437</td>\n",
              "      <td>1.122551</td>\n",
              "      <td>3.533896</td>\n",
              "      <td>2.456794</td>\n",
              "      <td>22.821529</td>\n",
              "      <td>20.004085</td>\n",
              "      <td>8444.0</td>\n",
              "    </tr>\n",
              "    <tr>\n",
              "      <th>107422</th>\n",
              "      <td>207423</td>\n",
              "      <td>38607</td>\n",
              "      <td>38884</td>\n",
              "      <td>11988</td>\n",
              "      <td>1.007175</td>\n",
              "      <td>3.243577</td>\n",
              "      <td>2.167251</td>\n",
              "      <td>22.888743</td>\n",
              "      <td>20.354084</td>\n",
              "      <td>25981.0</td>\n",
              "    </tr>\n",
              "    <tr>\n",
              "      <th>145951</th>\n",
              "      <td>245952</td>\n",
              "      <td>3490</td>\n",
              "      <td>5295</td>\n",
              "      <td>700</td>\n",
              "      <td>1.517192</td>\n",
              "      <td>7.564286</td>\n",
              "      <td>3.138571</td>\n",
              "      <td>25.603389</td>\n",
              "      <td>20.561034</td>\n",
              "      <td>2197.0</td>\n",
              "    </tr>\n",
              "  </tbody>\n",
              "</table>\n",
              "</div>"
            ],
            "text/plain": [
              "        vacancy_id  interactions  total_score  reach        ER        ERR  \\\n",
              "1395        101396          4297         7005    823  1.630207   8.511543   \n",
              "16822       116823         40023        41019  10901  1.024886   3.762866   \n",
              "74952       174953         21864        24577   6237  1.124085   3.940516   \n",
              "80381       180382         12650        13430   3340  1.061660   4.020958   \n",
              "82869       182870         29649        39097   7871  1.318662   4.967221   \n",
              "84066       184067           468         1374     80  2.935897  17.175000   \n",
              "93330       193331         10820        12146   3437  1.122551   3.533896   \n",
              "107422      207423         38607        38884  11988  1.007175   3.243577   \n",
              "145951      245952          3490         5295    700  1.517192   7.564286   \n",
              "\n",
              "        max_score   my_score  my_score2  my_score3  \n",
              "1395     3.318348  27.760208  22.275921     2731.0  \n",
              "16822    2.492157  26.409907  23.168608    27167.0  \n",
              "74952    2.654161  26.521957  23.192731    16554.0  \n",
              "80381    2.717665  25.669464  22.050387     9077.0  \n",
              "82869    2.870283  29.555835  25.749141    22592.0  \n",
              "84066    4.687500  28.820945  20.540750      375.0  \n",
              "93330    2.456794  22.821529  20.004085     8444.0  \n",
              "107422   2.167251  22.888743  20.354084    25981.0  \n",
              "145951   3.138571  25.603389  20.561034     2197.0  "
            ]
          },
          "execution_count": 27,
          "metadata": {},
          "output_type": "execute_result"
        }
      ],
      "source": [
        "# По-моему, метрика \"my_score2\" хорошо отражает весомые взаимодействия\n",
        "# и количество пользователей\n",
        "v_metrics[v_metrics['my_score2'] > 20]"
      ]
    },
    {
      "cell_type": "code",
      "execution_count": null,
      "metadata": {
        "id": "ieDHCh5eLY2X"
      },
      "outputs": [],
      "source": [
        "# Ранжирую вакансии по новой оценке (по охвату, если одинаковый балл и т.д.)\n",
        "# method='first' для того, чтобы у каждой вакансии было уникальное значение в рейтинге\n",
        "v_metrics['my_score_rank'] = v_metrics[['my_score', 'reach', 'interactions', 'total_score', 'max_score']].apply(tuple,axis=1)\\\n",
        "                                    .rank(method='first',ascending=False).astype(int)"
      ]
    },
    {
      "cell_type": "code",
      "execution_count": null,
      "metadata": {
        "id": "JaQHKaHiLY2Y"
      },
      "outputs": [],
      "source": [
        "# Ранжирую вакансии по новой оценке (по охвату, если одинаковый балл и т.д.)\n",
        "v_metrics['my_score2_rank'] = v_metrics[['my_score2', 'reach', 'interactions', 'total_score', 'max_score']].apply(tuple,axis=1)\\\n",
        "             .rank(method='first',ascending=False).astype(int)"
      ]
    },
    {
      "cell_type": "code",
      "execution_count": null,
      "metadata": {
        "id": "iICblkk0LY2Y"
      },
      "outputs": [],
      "source": [
        "# Ранжирую вакансии по новой оценке (по охвату, если одинаковый балл и т.д.)\n",
        "v_metrics['my_score3_rank'] = v_metrics[['my_score3', 'reach', 'interactions', 'total_score', 'max_score']].apply(tuple,axis=1)\\\n",
        "             .rank(method='first',ascending=False).astype(int)"
      ]
    },
    {
      "cell_type": "code",
      "execution_count": null,
      "metadata": {
        "id": "4OACehVmLY2Y"
      },
      "outputs": [],
      "source": [
        "v_metrics['max_score_rank'] = v_metrics[['max_score', 'reach', 'interactions', 'total_score']].apply(tuple,axis=1)\\\n",
        "             .rank(method='first',ascending=False).astype(int)"
      ]
    },
    {
      "cell_type": "code",
      "execution_count": null,
      "metadata": {
        "id": "YbX-NZmqLY2Z"
      },
      "outputs": [],
      "source": [
        "v_metrics['interactions_rank'] = v_metrics[['interactions', 'reach', 'total_score', 'max_score']].apply(tuple,axis=1)\\\n",
        "             .rank(method='first',ascending=False).astype(int)"
      ]
    },
    {
      "cell_type": "code",
      "execution_count": null,
      "metadata": {
        "id": "m2iuyOP4LY2Z"
      },
      "outputs": [],
      "source": [
        "v_metrics['total_score_rank'] = v_metrics[['total_score', 'reach', 'interactions', 'max_score']].apply(tuple,axis=1)\\\n",
        "             .rank(method='first',ascending=False).astype(int)"
      ]
    },
    {
      "cell_type": "code",
      "execution_count": null,
      "metadata": {
        "id": "jwKCoO9vLY2Z"
      },
      "outputs": [],
      "source": [
        "v_metrics['reach_rank'] = v_metrics[['reach', 'interactions', 'total_score', 'max_score']].apply(tuple,axis=1)\\\n",
        "             .rank(method='first',ascending=False).astype(int)"
      ]
    },
    {
      "cell_type": "code",
      "execution_count": null,
      "metadata": {
        "id": "fxC9E4hbLY2Z"
      },
      "outputs": [],
      "source": [
        "v_metrics['ER_rank'] = v_metrics[['ER', 'reach', 'interactions', 'total_score', 'max_score']].apply(tuple,axis=1)\\\n",
        "             .rank(method='first',ascending=False).astype(int)"
      ]
    },
    {
      "cell_type": "code",
      "execution_count": null,
      "metadata": {
        "id": "JZkrUAiWLY2Z"
      },
      "outputs": [],
      "source": [
        "v_metrics['ERR_rank'] = v_metrics[['ERR', 'reach', 'interactions', 'total_score', 'max_score']].apply(tuple,axis=1)\\\n",
        "             .rank(method='first',ascending=False).astype(int)"
      ]
    },
    {
      "cell_type": "code",
      "execution_count": null,
      "metadata": {
        "id": "qDban9LsLY2a",
        "outputId": "a7239be0-d709-4bfd-d190-01bed48f9a3c"
      },
      "outputs": [
        {
          "data": {
            "text/html": [
              "<div>\n",
              "<style scoped>\n",
              "    .dataframe tbody tr th:only-of-type {\n",
              "        vertical-align: middle;\n",
              "    }\n",
              "\n",
              "    .dataframe tbody tr th {\n",
              "        vertical-align: top;\n",
              "    }\n",
              "\n",
              "    .dataframe thead th {\n",
              "        text-align: right;\n",
              "    }\n",
              "</style>\n",
              "<table border=\"1\" class=\"dataframe\">\n",
              "  <thead>\n",
              "    <tr style=\"text-align: right;\">\n",
              "      <th></th>\n",
              "      <th>vacancy_id</th>\n",
              "      <th>interactions</th>\n",
              "      <th>total_score</th>\n",
              "      <th>reach</th>\n",
              "      <th>ER</th>\n",
              "      <th>ERR</th>\n",
              "      <th>max_score</th>\n",
              "      <th>my_score</th>\n",
              "      <th>my_score2</th>\n",
              "      <th>my_score3</th>\n",
              "      <th>my_score_rank</th>\n",
              "      <th>my_score2_rank</th>\n",
              "      <th>my_score3_rank</th>\n",
              "      <th>max_score_rank</th>\n",
              "      <th>interactions_rank</th>\n",
              "      <th>total_score_rank</th>\n",
              "      <th>reach_rank</th>\n",
              "      <th>ER_rank</th>\n",
              "      <th>ERR_rank</th>\n",
              "    </tr>\n",
              "  </thead>\n",
              "  <tbody>\n",
              "    <tr>\n",
              "      <th>160153</th>\n",
              "      <td>260154</td>\n",
              "      <td>59105</td>\n",
              "      <td>44962</td>\n",
              "      <td>18662</td>\n",
              "      <td>0.760714</td>\n",
              "      <td>2.409281</td>\n",
              "      <td>1.507341</td>\n",
              "      <td>16.561264</td>\n",
              "      <td>14.823561</td>\n",
              "      <td>28130.0</td>\n",
              "      <td>457</td>\n",
              "      <td>122</td>\n",
              "      <td>1</td>\n",
              "      <td>91438</td>\n",
              "      <td>1</td>\n",
              "      <td>1</td>\n",
              "      <td>1</td>\n",
              "      <td>96460</td>\n",
              "      <td>68624</td>\n",
              "    </tr>\n",
              "    <tr>\n",
              "      <th>98113</th>\n",
              "      <td>198114</td>\n",
              "      <td>50187</td>\n",
              "      <td>38400</td>\n",
              "      <td>16674</td>\n",
              "      <td>0.765138</td>\n",
              "      <td>2.302987</td>\n",
              "      <td>1.658510</td>\n",
              "      <td>17.950905</td>\n",
              "      <td>16.123383</td>\n",
              "      <td>27654.0</td>\n",
              "      <td>225</td>\n",
              "      <td>62</td>\n",
              "      <td>2</td>\n",
              "      <td>78991</td>\n",
              "      <td>2</td>\n",
              "      <td>5</td>\n",
              "      <td>2</td>\n",
              "      <td>95638</td>\n",
              "      <td>73059</td>\n",
              "    </tr>\n",
              "    <tr>\n",
              "      <th>103403</th>\n",
              "      <td>203404</td>\n",
              "      <td>45634</td>\n",
              "      <td>32158</td>\n",
              "      <td>16284</td>\n",
              "      <td>0.704694</td>\n",
              "      <td>1.974822</td>\n",
              "      <td>1.445161</td>\n",
              "      <td>15.504276</td>\n",
              "      <td>14.015081</td>\n",
              "      <td>23533.0</td>\n",
              "      <td>786</td>\n",
              "      <td>179</td>\n",
              "      <td>6</td>\n",
              "      <td>98102</td>\n",
              "      <td>3</td>\n",
              "      <td>7</td>\n",
              "      <td>3</td>\n",
              "      <td>105892</td>\n",
              "      <td>91744</td>\n",
              "    </tr>\n",
              "    <tr>\n",
              "      <th>11504</th>\n",
              "      <td>111505</td>\n",
              "      <td>35095</td>\n",
              "      <td>23346</td>\n",
              "      <td>15088</td>\n",
              "      <td>0.665223</td>\n",
              "      <td>1.547322</td>\n",
              "      <td>1.284133</td>\n",
              "      <td>13.439498</td>\n",
              "      <td>12.355486</td>\n",
              "      <td>19375.0</td>\n",
              "      <td>2184</td>\n",
              "      <td>466</td>\n",
              "      <td>10</td>\n",
              "      <td>113742</td>\n",
              "      <td>9</td>\n",
              "      <td>14</td>\n",
              "      <td>4</td>\n",
              "      <td>112888</td>\n",
              "      <td>114710</td>\n",
              "    </tr>\n",
              "    <tr>\n",
              "      <th>102607</th>\n",
              "      <td>202608</td>\n",
              "      <td>41620</td>\n",
              "      <td>32483</td>\n",
              "      <td>14524</td>\n",
              "      <td>0.780466</td>\n",
              "      <td>2.236505</td>\n",
              "      <td>1.658152</td>\n",
              "      <td>17.636662</td>\n",
              "      <td>15.890996</td>\n",
              "      <td>24083.0</td>\n",
              "      <td>264</td>\n",
              "      <td>70</td>\n",
              "      <td>5</td>\n",
              "      <td>79002</td>\n",
              "      <td>4</td>\n",
              "      <td>6</td>\n",
              "      <td>5</td>\n",
              "      <td>93119</td>\n",
              "      <td>75931</td>\n",
              "    </tr>\n",
              "  </tbody>\n",
              "</table>\n",
              "</div>"
            ],
            "text/plain": [
              "        vacancy_id  interactions  total_score  reach        ER       ERR  \\\n",
              "160153      260154         59105        44962  18662  0.760714  2.409281   \n",
              "98113       198114         50187        38400  16674  0.765138  2.302987   \n",
              "103403      203404         45634        32158  16284  0.704694  1.974822   \n",
              "11504       111505         35095        23346  15088  0.665223  1.547322   \n",
              "102607      202608         41620        32483  14524  0.780466  2.236505   \n",
              "\n",
              "        max_score   my_score  my_score2  my_score3  my_score_rank  \\\n",
              "160153   1.507341  16.561264  14.823561    28130.0            457   \n",
              "98113    1.658510  17.950905  16.123383    27654.0            225   \n",
              "103403   1.445161  15.504276  14.015081    23533.0            786   \n",
              "11504    1.284133  13.439498  12.355486    19375.0           2184   \n",
              "102607   1.658152  17.636662  15.890996    24083.0            264   \n",
              "\n",
              "        my_score2_rank  my_score3_rank  max_score_rank  interactions_rank  \\\n",
              "160153             122               1           91438                  1   \n",
              "98113               62               2           78991                  2   \n",
              "103403             179               6           98102                  3   \n",
              "11504              466              10          113742                  9   \n",
              "102607              70               5           79002                  4   \n",
              "\n",
              "        total_score_rank  reach_rank  ER_rank  ERR_rank  \n",
              "160153                 1           1    96460     68624  \n",
              "98113                  5           2    95638     73059  \n",
              "103403                 7           3   105892     91744  \n",
              "11504                 14           4   112888    114710  \n",
              "102607                 6           5    93119     75931  "
            ]
          },
          "execution_count": 37,
          "metadata": {},
          "output_type": "execute_result"
        }
      ],
      "source": [
        "v_metrics.sort_values('reach_rank').head(5)"
      ]
    },
    {
      "cell_type": "code",
      "execution_count": null,
      "metadata": {
        "id": "IBTUWYVoLY2a"
      },
      "outputs": [],
      "source": [
        "1/0\n",
        "v_metrics.to_parquet('vacancy_metrics.parquet')"
      ]
    },
    {
      "cell_type": "code",
      "execution_count": null,
      "metadata": {
        "id": "M1P42KaHLY2a"
      },
      "outputs": [],
      "source": [
        "def precision_n(predictions, df_test_list_top, k=5):\n",
        "    \n",
        "    # Количество рекомендаций по k вакансий:\n",
        "    n_rec_k = len(df_test_list_top)*k\n",
        "    \n",
        "    # Подсчет валидных вакансий:\n",
        "    matches = 0\n",
        "    for row in range(len(predictions)):\n",
        "        row_match = set(predictions['top_recommendations'][row]).intersection(set(df_test_list_top['vacancy_id_'][row]))  \n",
        "        matches += len(row_match)\n",
        "    \n",
        "    precisions = matches / n_rec_k if n_rec_k != 0 else 0\n",
        "    return precisions"
      ]
    },
    {
      "cell_type": "code",
      "execution_count": null,
      "metadata": {
        "id": "wMC9AvQSLY2a"
      },
      "outputs": [],
      "source": [
        "def top_vacancy(df1=df1_, df2=v_metrics, df3=df, rank='my_score2_rank'):\n",
        "    \n",
        "    \"\"\"\n",
        "    df1 >>> датафрейм, из которого нужно получить список \"cookie_id\" для рекомендаций\n",
        "    df2 >>> датафрейм, с рангами\n",
        "    df3 >>> датафрейм (лог-файл), здесь идет поиск вакансий, с которыми \n",
        "    пользователь уже взаимодействовал \n",
        "    rank >>> название столбца df2 с рейтингом вакансий\n",
        "    \"\"\"\n",
        "    \n",
        "    # Выбираю список cookie, для которых рекомендуются вакансии\n",
        "    test_list = list(df1['cookie_id'])\n",
        "\n",
        "    # Новый датафрейм с сookie_id и 5-ю рекомендуемыми вакансиями\n",
        "    result = pd.DataFrame(columns=['cookie_id', 'top_recommendations'])\n",
        "    \n",
        "    # Для каждого пользователя свои рекомендации\n",
        "    for cookie in test_list:\n",
        "        # Список с вакансиями, с которыми пользователь уже взаимодействовал\n",
        "        not_recommend = df3[df3['cookie_id'] == cookie]['vacancy_id_'].unique()\n",
        "        # Список из 5 рекомендуемых вакансий\n",
        "        top5 = df2[~df2['vacancy_id'].isin(not_recommend)].sort_values(rank).head(5)['vacancy_id'].tolist()\n",
        "        # Запись результатов\n",
        "        result = pd.concat([result, pd.DataFrame({'cookie_id': cookie,\n",
        "                                                  'top_recommendations': [top5]})], ignore_index=True)\n",
        "        \n",
        "    return precision_n(result, df1)"
      ]
    },
    {
      "cell_type": "code",
      "execution_count": null,
      "metadata": {
        "id": "XNShr1iULY2a",
        "outputId": "129150d1-5376-4db2-c0d3-46927c6b024b"
      },
      "outputs": [
        {
          "name": "stdout",
          "output_type": "stream",
          "text": [
            "precision@5: 0.007512953367875648    по \"my_score_rank\"\n",
            "precision@5: 0.008031088082901554    по \"my_score2_rank\"\n",
            "precision@5: 0.01917098445595855     по \"my_score3_rank\"\n",
            "precision@5: 0.0                     по \"max_score_rank\"\n",
            "precision@5: 0.019689119170984457    по \"interactions_rank\"\n",
            "precision@5: 0.021502590673575128    по \"total_score_rank\"\n",
            "precision@5: 0.02072538860103627     по \"reach_rank\"\n",
            "precision@5: 0.0                     по \"ER_rank\"\n",
            "precision@5: 0.0                     по \"ERR_rank\"\n"
          ]
        }
      ],
      "source": [
        "for col in v_metrics.loc[:, 'my_score_rank':'ERR_rank'].columns:\n",
        "    print(f'precision@5: {top_vacancy(df1_, v_metrics, df, col): <23} по \"{col}\"')"
      ]
    },
    {
      "cell_type": "markdown",
      "source": [
        "Вывод:\n",
        "При проставлении баллов по взаимодействиям пользователя с вакансиями:\n",
        "\n",
        "* 'show_vacancy': 0,\n",
        "* 'preview_click_vacancy': 1,\n",
        "* 'click_favorite': 2,\n",
        "* 'preview_click_favorite': 3,\n",
        "* 'click_response': 4,\n",
        "* 'preview_click_response': 5,\n",
        "* 'click_contacts': 6,\n",
        "* 'preview_click_contacts': 7,\n",
        "* 'click_phone': 8,\n",
        "* 'preview_click_phone': 9\n",
        "\n",
        "В качестве baseline решения (рекомендации самых популярных вакансий) были проверены следующие оценки:\n",
        "1. interactions - количевство взаимодействий [количество всех взаимодействий]\n",
        "2. total_score - суммарный балл по кликам [сумма баллов в зависимости от рейтинга клика]\n",
        "3. reach - охват [количество уникальных cookie, взаимодействующих как-либо с вакансией]\n",
        "4. ER - доля вовлеченности [суммарный балл / количество взаимодействий]\n",
        "5. ERR - доля вовлеченности по охвату [суммарный балл / охват]\n",
        "6. max_score - максимальный скоринг [макимальный балл от каждого cookie / количество cookie]\n",
        "7. my_score - ln(interactions) * (max_score)\n",
        "8. my_score2 - ln(reach) * (max_score)\n",
        "9. my_score3 - reach * (max_score)\n",
        "\n",
        "Результаты:\n",
        "precision@5: 0.007512953367875648    по my_score\n",
        "precision@5: 0.008031088082901554    по my_score2\n",
        "precision@5: 0.01917098445595855     по my_score3\n",
        "precision@5: 0.0                     по max_score\n",
        "precision@5: 0.019689119170984457    по interactions\n",
        "precision@5: 0.021502590673575128    по total_score\n",
        "precision@5: 0.02072538860103627     по reach\n",
        "precision@5: 0.0                     по ER\n",
        "precision@5: 0.0                     по ERR\n",
        "\n",
        "Выводы:\n",
        "1. Неудивительно, что по max_score, ER, ERR решения привели к \"нулевым\" результатам, т.к. в ТОП'ах по этим оценкам вакансии, у которых один или несколько пользователей, но с \"высокооцениваемыми\" кликами (накрутка будет обеспечена).\n",
        "2. Лучшие показатели по метрике precision@5 показали рекомендации по interactions, total_score, reach. В целом, логичный результат, но у такого подхода есть минус - вакансии, находящиеся в ТОП'aх показывают намного чаще, тем самым объявления набирают свои баллы быстрее других. Остальные же вакансии (хорошие или плохие) не отображаются пользователям, если это не \"конкретный поиск\". Разрыв между популярными и непопулярными будет увеличиваться.\n",
        "3. Несмотря на то, что результат по my_score2 = ln(reach) * (max_score) не стал лучшим. Рекомендации по этой оценке учитывают и \"важность\" кликов (причем без выбросов т.к. max_score=[0, 9]), и охват пользователей (логарифм используется для того, чтобы вакансии, которые рекомендовали всем подряд и у них явное преимущество по количеству пользователей, в конечном счете могли опуститься ниже тех, у которых не очень много пользователей, но хороший показатель по max_score)."
      ],
      "metadata": {
        "id": "ORCZn0ylLzcL"
      }
    }
  ],
  "metadata": {
    "kernelspec": {
      "display_name": "base",
      "language": "python",
      "name": "python3"
    },
    "language_info": {
      "codemirror_mode": {
        "name": "ipython",
        "version": 3
      },
      "file_extension": ".py",
      "mimetype": "text/x-python",
      "name": "python",
      "nbconvert_exporter": "python",
      "pygments_lexer": "ipython3",
      "version": "3.9.12"
    },
    "orig_nbformat": 4,
    "vscode": {
      "interpreter": {
        "hash": "f5a45c531e189f429fb07d1dba6e825b40de247ce41e8cb55a698a255841b7a2"
      }
    },
    "colab": {
      "provenance": []
    }
  },
  "nbformat": 4,
  "nbformat_minor": 0
}