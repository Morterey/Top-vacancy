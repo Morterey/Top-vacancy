{
  "cells": [
    {
      "cell_type": "markdown",
      "metadata": {
        "id": "e_ngVxWGQr3I"
      },
      "source": [
        "# Загружаем необходимые пакеты и импортируем библиотеки\n",
        "\n",
        "---"
      ]
    },
    {
      "cell_type": "code",
      "execution_count": 1,
      "metadata": {
        "colab": {
          "base_uri": "https://localhost:8080/"
        },
        "id": "DQz2QHq6rTiv",
        "outputId": "b10e04a2-14f1-46cd-881d-aa7465235b79"
      },
      "outputs": [
        {
          "output_type": "stream",
          "name": "stdout",
          "text": [
            "Looking in indexes: https://pypi.org/simple, https://us-python.pkg.dev/colab-wheels/public/simple/\n",
            "Collecting implicit\n",
            "  Downloading implicit-0.6.2-cp310-cp310-manylinux2014_x86_64.whl (18.6 MB)\n",
            "\u001b[2K     \u001b[90m━━━━━━━━━━━━━━━━━━━━━━━━━━━━━━━━━━━━━━━━\u001b[0m \u001b[32m18.6/18.6 MB\u001b[0m \u001b[31m21.7 MB/s\u001b[0m eta \u001b[36m0:00:00\u001b[0m\n",
            "\u001b[?25hRequirement already satisfied: scipy>=0.16 in /usr/local/lib/python3.10/dist-packages (from implicit) (1.10.1)\n",
            "Requirement already satisfied: numpy in /usr/local/lib/python3.10/dist-packages (from implicit) (1.22.4)\n",
            "Requirement already satisfied: tqdm>=4.27 in /usr/local/lib/python3.10/dist-packages (from implicit) (4.65.0)\n",
            "Installing collected packages: implicit\n",
            "Successfully installed implicit-0.6.2\n"
          ]
        }
      ],
      "source": [
        "# устанавливаем библиотеку implicit \n",
        "%pip install implicit"
      ]
    },
    {
      "cell_type": "code",
      "execution_count": 2,
      "metadata": {
        "id": "rg2m6XderTi1"
      },
      "outputs": [],
      "source": [
        "# загружаем библиотеки\n",
        "import pandas as pd\n",
        "import scipy.sparse as sparse\n",
        "import numpy as np\n",
        "import random\n",
        "import implicit\n",
        "import tensorflow as tf\n",
        "from sklearn import preprocessing"
      ]
    },
    {
      "cell_type": "code",
      "source": [
        "# Проверяем что у нас работает GPU\n",
        "tf.test.gpu_device_name()"
      ],
      "metadata": {
        "colab": {
          "base_uri": "https://localhost:8080/",
          "height": 36
        },
        "id": "O_9RapFj6TFw",
        "outputId": "72213751-7bfb-42a1-8f57-a4636d455f8b"
      },
      "execution_count": 5,
      "outputs": [
        {
          "output_type": "execute_result",
          "data": {
            "text/plain": [
              "'/device:GPU:0'"
            ],
            "application/vnd.google.colaboratory.intrinsic+json": {
              "type": "string"
            }
          },
          "metadata": {},
          "execution_count": 5
        }
      ]
    },
    {
      "cell_type": "code",
      "source": [
        "#GPU номер и имя\n",
        "!nvidia-smi -L"
      ],
      "metadata": {
        "colab": {
          "base_uri": "https://localhost:8080/"
        },
        "id": "ewGeQZaW6Vro",
        "outputId": "055d82eb-918f-40bf-de74-5a7deda7c959"
      },
      "execution_count": 6,
      "outputs": [
        {
          "output_type": "stream",
          "name": "stdout",
          "text": [
            "GPU 0: Tesla T4 (UUID: GPU-0b83122c-d41f-db7c-2901-46531475ad9d)\n"
          ]
        }
      ]
    },
    {
      "cell_type": "markdown",
      "metadata": {
        "id": "S8zD3-0gQr3T"
      },
      "source": [
        "# Подготовка и обработка данных\n",
        "\n",
        "---"
      ]
    },
    {
      "cell_type": "code",
      "execution_count": 7,
      "metadata": {
        "id": "xcQyVkaZxF93"
      },
      "outputs": [],
      "source": [
        "# загружаем данные из источника\n",
        "data = pd.read_parquet('train_mfti.parquet', engine='pyarrow')"
      ]
    },
    {
      "cell_type": "code",
      "execution_count": 138,
      "metadata": {
        "id": "1VI7xf1oxGyA"
      },
      "outputs": [],
      "source": [
        "# создаем копию - на тестах было удобно для откатов\n",
        "df = data.copy()"
      ]
    },
    {
      "cell_type": "code",
      "execution_count": 139,
      "metadata": {
        "colab": {
          "base_uri": "https://localhost:8080/",
          "height": 206
        },
        "id": "NIoRaFJrzejz",
        "outputId": "48c76ee2-4016-4042-c5e7-bae0ec9a6b9f"
      },
      "outputs": [
        {
          "output_type": "execute_result",
          "data": {
            "text/plain": [
              "   event_date  event_timestamp  vacancy_id_                         cookie_id  \\\n",
              "0  2022-08-01       1659323026       129850  97990f1a021d4be19aa3f955b7eacab4   \n",
              "1  2022-08-01       1659377255       108347  03bf8c511fa949c79845a5d81b09aa1d   \n",
              "2  2022-08-01       1659376695       109069  03bf8c511fa949c79845a5d81b09aa1d   \n",
              "3  2022-08-01       1659376722       171425  03bf8c511fa949c79845a5d81b09aa1d   \n",
              "4  2022-08-01       1659374929       252384  03bf8c511fa949c79845a5d81b09aa1d   \n",
              "\n",
              "                            user_id    event_type  \n",
              "0  951f53de61764ea0b51317200a0dbbfc  show_vacancy  \n",
              "1  f5a2326a17484330aa8cb4019f1b1960  show_vacancy  \n",
              "2  f5a2326a17484330aa8cb4019f1b1960  show_vacancy  \n",
              "3  f5a2326a17484330aa8cb4019f1b1960  show_vacancy  \n",
              "4  f5a2326a17484330aa8cb4019f1b1960  show_vacancy  "
            ],
            "text/html": [
              "\n",
              "  <div id=\"df-6db4b2ca-dbc1-49a3-be6a-e1b713d9acb9\">\n",
              "    <div class=\"colab-df-container\">\n",
              "      <div>\n",
              "<style scoped>\n",
              "    .dataframe tbody tr th:only-of-type {\n",
              "        vertical-align: middle;\n",
              "    }\n",
              "\n",
              "    .dataframe tbody tr th {\n",
              "        vertical-align: top;\n",
              "    }\n",
              "\n",
              "    .dataframe thead th {\n",
              "        text-align: right;\n",
              "    }\n",
              "</style>\n",
              "<table border=\"1\" class=\"dataframe\">\n",
              "  <thead>\n",
              "    <tr style=\"text-align: right;\">\n",
              "      <th></th>\n",
              "      <th>event_date</th>\n",
              "      <th>event_timestamp</th>\n",
              "      <th>vacancy_id_</th>\n",
              "      <th>cookie_id</th>\n",
              "      <th>user_id</th>\n",
              "      <th>event_type</th>\n",
              "    </tr>\n",
              "  </thead>\n",
              "  <tbody>\n",
              "    <tr>\n",
              "      <th>0</th>\n",
              "      <td>2022-08-01</td>\n",
              "      <td>1659323026</td>\n",
              "      <td>129850</td>\n",
              "      <td>97990f1a021d4be19aa3f955b7eacab4</td>\n",
              "      <td>951f53de61764ea0b51317200a0dbbfc</td>\n",
              "      <td>show_vacancy</td>\n",
              "    </tr>\n",
              "    <tr>\n",
              "      <th>1</th>\n",
              "      <td>2022-08-01</td>\n",
              "      <td>1659377255</td>\n",
              "      <td>108347</td>\n",
              "      <td>03bf8c511fa949c79845a5d81b09aa1d</td>\n",
              "      <td>f5a2326a17484330aa8cb4019f1b1960</td>\n",
              "      <td>show_vacancy</td>\n",
              "    </tr>\n",
              "    <tr>\n",
              "      <th>2</th>\n",
              "      <td>2022-08-01</td>\n",
              "      <td>1659376695</td>\n",
              "      <td>109069</td>\n",
              "      <td>03bf8c511fa949c79845a5d81b09aa1d</td>\n",
              "      <td>f5a2326a17484330aa8cb4019f1b1960</td>\n",
              "      <td>show_vacancy</td>\n",
              "    </tr>\n",
              "    <tr>\n",
              "      <th>3</th>\n",
              "      <td>2022-08-01</td>\n",
              "      <td>1659376722</td>\n",
              "      <td>171425</td>\n",
              "      <td>03bf8c511fa949c79845a5d81b09aa1d</td>\n",
              "      <td>f5a2326a17484330aa8cb4019f1b1960</td>\n",
              "      <td>show_vacancy</td>\n",
              "    </tr>\n",
              "    <tr>\n",
              "      <th>4</th>\n",
              "      <td>2022-08-01</td>\n",
              "      <td>1659374929</td>\n",
              "      <td>252384</td>\n",
              "      <td>03bf8c511fa949c79845a5d81b09aa1d</td>\n",
              "      <td>f5a2326a17484330aa8cb4019f1b1960</td>\n",
              "      <td>show_vacancy</td>\n",
              "    </tr>\n",
              "  </tbody>\n",
              "</table>\n",
              "</div>\n",
              "      <button class=\"colab-df-convert\" onclick=\"convertToInteractive('df-6db4b2ca-dbc1-49a3-be6a-e1b713d9acb9')\"\n",
              "              title=\"Convert this dataframe to an interactive table.\"\n",
              "              style=\"display:none;\">\n",
              "        \n",
              "  <svg xmlns=\"http://www.w3.org/2000/svg\" height=\"24px\"viewBox=\"0 0 24 24\"\n",
              "       width=\"24px\">\n",
              "    <path d=\"M0 0h24v24H0V0z\" fill=\"none\"/>\n",
              "    <path d=\"M18.56 5.44l.94 2.06.94-2.06 2.06-.94-2.06-.94-.94-2.06-.94 2.06-2.06.94zm-11 1L8.5 8.5l.94-2.06 2.06-.94-2.06-.94L8.5 2.5l-.94 2.06-2.06.94zm10 10l.94 2.06.94-2.06 2.06-.94-2.06-.94-.94-2.06-.94 2.06-2.06.94z\"/><path d=\"M17.41 7.96l-1.37-1.37c-.4-.4-.92-.59-1.43-.59-.52 0-1.04.2-1.43.59L10.3 9.45l-7.72 7.72c-.78.78-.78 2.05 0 2.83L4 21.41c.39.39.9.59 1.41.59.51 0 1.02-.2 1.41-.59l7.78-7.78 2.81-2.81c.8-.78.8-2.07 0-2.86zM5.41 20L4 18.59l7.72-7.72 1.47 1.35L5.41 20z\"/>\n",
              "  </svg>\n",
              "      </button>\n",
              "      \n",
              "  <style>\n",
              "    .colab-df-container {\n",
              "      display:flex;\n",
              "      flex-wrap:wrap;\n",
              "      gap: 12px;\n",
              "    }\n",
              "\n",
              "    .colab-df-convert {\n",
              "      background-color: #E8F0FE;\n",
              "      border: none;\n",
              "      border-radius: 50%;\n",
              "      cursor: pointer;\n",
              "      display: none;\n",
              "      fill: #1967D2;\n",
              "      height: 32px;\n",
              "      padding: 0 0 0 0;\n",
              "      width: 32px;\n",
              "    }\n",
              "\n",
              "    .colab-df-convert:hover {\n",
              "      background-color: #E2EBFA;\n",
              "      box-shadow: 0px 1px 2px rgba(60, 64, 67, 0.3), 0px 1px 3px 1px rgba(60, 64, 67, 0.15);\n",
              "      fill: #174EA6;\n",
              "    }\n",
              "\n",
              "    [theme=dark] .colab-df-convert {\n",
              "      background-color: #3B4455;\n",
              "      fill: #D2E3FC;\n",
              "    }\n",
              "\n",
              "    [theme=dark] .colab-df-convert:hover {\n",
              "      background-color: #434B5C;\n",
              "      box-shadow: 0px 1px 3px 1px rgba(0, 0, 0, 0.15);\n",
              "      filter: drop-shadow(0px 1px 2px rgba(0, 0, 0, 0.3));\n",
              "      fill: #FFFFFF;\n",
              "    }\n",
              "  </style>\n",
              "\n",
              "      <script>\n",
              "        const buttonEl =\n",
              "          document.querySelector('#df-6db4b2ca-dbc1-49a3-be6a-e1b713d9acb9 button.colab-df-convert');\n",
              "        buttonEl.style.display =\n",
              "          google.colab.kernel.accessAllowed ? 'block' : 'none';\n",
              "\n",
              "        async function convertToInteractive(key) {\n",
              "          const element = document.querySelector('#df-6db4b2ca-dbc1-49a3-be6a-e1b713d9acb9');\n",
              "          const dataTable =\n",
              "            await google.colab.kernel.invokeFunction('convertToInteractive',\n",
              "                                                     [key], {});\n",
              "          if (!dataTable) return;\n",
              "\n",
              "          const docLinkHtml = 'Like what you see? Visit the ' +\n",
              "            '<a target=\"_blank\" href=https://colab.research.google.com/notebooks/data_table.ipynb>data table notebook</a>'\n",
              "            + ' to learn more about interactive tables.';\n",
              "          element.innerHTML = '';\n",
              "          dataTable['output_type'] = 'display_data';\n",
              "          await google.colab.output.renderOutput(dataTable, element);\n",
              "          const docLink = document.createElement('div');\n",
              "          docLink.innerHTML = docLinkHtml;\n",
              "          element.appendChild(docLink);\n",
              "        }\n",
              "      </script>\n",
              "    </div>\n",
              "  </div>\n",
              "  "
            ]
          },
          "metadata": {},
          "execution_count": 139
        }
      ],
      "source": [
        "# посмотрим на данные \n",
        "df.head()"
      ]
    },
    {
      "cell_type": "code",
      "execution_count": 140,
      "metadata": {
        "colab": {
          "base_uri": "https://localhost:8080/"
        },
        "id": "IXjk12kNQr3V",
        "outputId": "be578bae-a94f-4be7-af67-3a6b13aaf348"
      },
      "outputs": [
        {
          "output_type": "stream",
          "name": "stdout",
          "text": [
            "<class 'pandas.core.frame.DataFrame'>\n",
            "RangeIndex: 12292588 entries, 0 to 12292587\n",
            "Data columns (total 6 columns):\n",
            " #   Column           Dtype \n",
            "---  ------           ----- \n",
            " 0   event_date       object\n",
            " 1   event_timestamp  int64 \n",
            " 2   vacancy_id_      int64 \n",
            " 3   cookie_id        object\n",
            " 4   user_id          object\n",
            " 5   event_type       object\n",
            "dtypes: int64(2), object(4)\n",
            "memory usage: 562.7+ MB\n"
          ]
        }
      ],
      "source": [
        "# и так тоже посмотрим\n",
        "df.info()"
      ]
    },
    {
      "cell_type": "code",
      "execution_count": 141,
      "metadata": {
        "id": "9HUDd07hQr3W"
      },
      "outputs": [],
      "source": [
        "# Дубликатов нет в данных - но на всякий случай запустим удаление\n",
        "df = df.drop_duplicates()"
      ]
    },
    {
      "cell_type": "code",
      "source": [
        "# Мы знаем где пропуски, но смотреть это - добрая традиция и это никогда не лишняя строчка\n",
        "display(df.isnull().sum())"
      ],
      "metadata": {
        "id": "hkiEAgW2Z75P",
        "colab": {
          "base_uri": "https://localhost:8080/",
          "height": 138
        },
        "outputId": "cfcfd112-7b34-4837-b20b-a1d9d441465a"
      },
      "execution_count": 142,
      "outputs": [
        {
          "output_type": "display_data",
          "data": {
            "text/plain": [
              "event_date               0\n",
              "event_timestamp          0\n",
              "vacancy_id_              0\n",
              "cookie_id                0\n",
              "user_id            3556099\n",
              "event_type               0\n",
              "dtype: int64"
            ]
          },
          "metadata": {}
        }
      ]
    },
    {
      "cell_type": "markdown",
      "source": [
        "---\n",
        "Очевидно, что пропуски в колонке с зарегистрированными пользователями, то есть более 3 миллионов взаимодействий у нас прошли по незарегистрированным пользователям, но для нас эти пропуски не страшны, потому что:\n",
        "\n",
        "---"
      ],
      "metadata": {
        "id": "s7vxCwMeCnMn"
      }
    },
    {
      "cell_type": "code",
      "execution_count": 143,
      "metadata": {
        "id": "B11zly9zrTi_"
      },
      "outputs": [],
      "source": [
        "# удаляем колонки, которые не будут принимать участия в обучении\n",
        "df.drop(columns=['event_date', 'event_timestamp', 'user_id'], axis=1, inplace=True)"
      ]
    },
    {
      "cell_type": "markdown",
      "source": [
        "---\n",
        "Да, мы решили удалить данные о пользователях и учить модель только на cookie_id, игнорируя user_id. Мы реализовали код который связывает cookie_id c user_id. Но к нему есть несколько вопросов, он ориентирван на ситуацию когда один пользователь использует несколько устройств для работы на сайте, но есть и обратная схема - есть устройства, которые использовались несколькими пользователями, в одном слечае на одном устройстве заходили на сайт 57 пользователей! Такую обратную связь мы отразить в коде не сможем потому по условию задачи, потому что по формату итогового задания нам на вход приходят только cookie_id, без указания пользователя и понять кто это из тех 57, а может и новый пользователь, мы не сможем. Повторюсь мы реализовали алгоритм, который хорошо решает задачу соединения пользователя или устройства если человек пользуется скажем двумя гаджетами - программа соотнесет их с 1 конкретным пользователем, для незарегистрированных пользователей алгоритм будет учится на номере устройства, а для таких ситуаций, где 57 человек на один компьютер, код запоминает последнего пользователя (может это и логично). С этим кодом можно ознакомиться в ноутбуке implict_build_v4 в папке IN DEVELOPMENT. Почему его нет в финальном ответе - все банально при такой реализации пусть немного, но ухудшаеся метрика, поэтому мы решили работать cookie_id. Возможно если углубиться в анализ и добавить психологии, то мы увидим что человек на разных устройствах реализует разные траектории поиска,как разные варианты развития. Но пока банально метрика.\n",
        "\n",
        "---"
      ],
      "metadata": {
        "id": "k2JxOyyCaSdS"
      }
    },
    {
      "cell_type": "code",
      "execution_count": 144,
      "metadata": {
        "id": "vfSiJUIY1r_n"
      },
      "outputs": [],
      "source": [
        "# для удобства восприятия немного выравняем данные\n",
        "df = df[['cookie_id', 'vacancy_id_', 'event_type']]"
      ]
    },
    {
      "cell_type": "code",
      "execution_count": 145,
      "metadata": {
        "colab": {
          "base_uri": "https://localhost:8080/",
          "height": 206
        },
        "id": "vUcQ3yAs2n1m",
        "outputId": "a81a7e89-6b7b-4f61-d427-c6bca448b82b"
      },
      "outputs": [
        {
          "output_type": "execute_result",
          "data": {
            "text/plain": [
              "                          cookie_id  vacancy_id_    event_type\n",
              "0  97990f1a021d4be19aa3f955b7eacab4       129850  show_vacancy\n",
              "1  03bf8c511fa949c79845a5d81b09aa1d       108347  show_vacancy\n",
              "2  03bf8c511fa949c79845a5d81b09aa1d       109069  show_vacancy\n",
              "3  03bf8c511fa949c79845a5d81b09aa1d       171425  show_vacancy\n",
              "4  03bf8c511fa949c79845a5d81b09aa1d       252384  show_vacancy"
            ],
            "text/html": [
              "\n",
              "  <div id=\"df-7e501eea-02d9-47f8-922f-d4ec433cacea\">\n",
              "    <div class=\"colab-df-container\">\n",
              "      <div>\n",
              "<style scoped>\n",
              "    .dataframe tbody tr th:only-of-type {\n",
              "        vertical-align: middle;\n",
              "    }\n",
              "\n",
              "    .dataframe tbody tr th {\n",
              "        vertical-align: top;\n",
              "    }\n",
              "\n",
              "    .dataframe thead th {\n",
              "        text-align: right;\n",
              "    }\n",
              "</style>\n",
              "<table border=\"1\" class=\"dataframe\">\n",
              "  <thead>\n",
              "    <tr style=\"text-align: right;\">\n",
              "      <th></th>\n",
              "      <th>cookie_id</th>\n",
              "      <th>vacancy_id_</th>\n",
              "      <th>event_type</th>\n",
              "    </tr>\n",
              "  </thead>\n",
              "  <tbody>\n",
              "    <tr>\n",
              "      <th>0</th>\n",
              "      <td>97990f1a021d4be19aa3f955b7eacab4</td>\n",
              "      <td>129850</td>\n",
              "      <td>show_vacancy</td>\n",
              "    </tr>\n",
              "    <tr>\n",
              "      <th>1</th>\n",
              "      <td>03bf8c511fa949c79845a5d81b09aa1d</td>\n",
              "      <td>108347</td>\n",
              "      <td>show_vacancy</td>\n",
              "    </tr>\n",
              "    <tr>\n",
              "      <th>2</th>\n",
              "      <td>03bf8c511fa949c79845a5d81b09aa1d</td>\n",
              "      <td>109069</td>\n",
              "      <td>show_vacancy</td>\n",
              "    </tr>\n",
              "    <tr>\n",
              "      <th>3</th>\n",
              "      <td>03bf8c511fa949c79845a5d81b09aa1d</td>\n",
              "      <td>171425</td>\n",
              "      <td>show_vacancy</td>\n",
              "    </tr>\n",
              "    <tr>\n",
              "      <th>4</th>\n",
              "      <td>03bf8c511fa949c79845a5d81b09aa1d</td>\n",
              "      <td>252384</td>\n",
              "      <td>show_vacancy</td>\n",
              "    </tr>\n",
              "  </tbody>\n",
              "</table>\n",
              "</div>\n",
              "      <button class=\"colab-df-convert\" onclick=\"convertToInteractive('df-7e501eea-02d9-47f8-922f-d4ec433cacea')\"\n",
              "              title=\"Convert this dataframe to an interactive table.\"\n",
              "              style=\"display:none;\">\n",
              "        \n",
              "  <svg xmlns=\"http://www.w3.org/2000/svg\" height=\"24px\"viewBox=\"0 0 24 24\"\n",
              "       width=\"24px\">\n",
              "    <path d=\"M0 0h24v24H0V0z\" fill=\"none\"/>\n",
              "    <path d=\"M18.56 5.44l.94 2.06.94-2.06 2.06-.94-2.06-.94-.94-2.06-.94 2.06-2.06.94zm-11 1L8.5 8.5l.94-2.06 2.06-.94-2.06-.94L8.5 2.5l-.94 2.06-2.06.94zm10 10l.94 2.06.94-2.06 2.06-.94-2.06-.94-.94-2.06-.94 2.06-2.06.94z\"/><path d=\"M17.41 7.96l-1.37-1.37c-.4-.4-.92-.59-1.43-.59-.52 0-1.04.2-1.43.59L10.3 9.45l-7.72 7.72c-.78.78-.78 2.05 0 2.83L4 21.41c.39.39.9.59 1.41.59.51 0 1.02-.2 1.41-.59l7.78-7.78 2.81-2.81c.8-.78.8-2.07 0-2.86zM5.41 20L4 18.59l7.72-7.72 1.47 1.35L5.41 20z\"/>\n",
              "  </svg>\n",
              "      </button>\n",
              "      \n",
              "  <style>\n",
              "    .colab-df-container {\n",
              "      display:flex;\n",
              "      flex-wrap:wrap;\n",
              "      gap: 12px;\n",
              "    }\n",
              "\n",
              "    .colab-df-convert {\n",
              "      background-color: #E8F0FE;\n",
              "      border: none;\n",
              "      border-radius: 50%;\n",
              "      cursor: pointer;\n",
              "      display: none;\n",
              "      fill: #1967D2;\n",
              "      height: 32px;\n",
              "      padding: 0 0 0 0;\n",
              "      width: 32px;\n",
              "    }\n",
              "\n",
              "    .colab-df-convert:hover {\n",
              "      background-color: #E2EBFA;\n",
              "      box-shadow: 0px 1px 2px rgba(60, 64, 67, 0.3), 0px 1px 3px 1px rgba(60, 64, 67, 0.15);\n",
              "      fill: #174EA6;\n",
              "    }\n",
              "\n",
              "    [theme=dark] .colab-df-convert {\n",
              "      background-color: #3B4455;\n",
              "      fill: #D2E3FC;\n",
              "    }\n",
              "\n",
              "    [theme=dark] .colab-df-convert:hover {\n",
              "      background-color: #434B5C;\n",
              "      box-shadow: 0px 1px 3px 1px rgba(0, 0, 0, 0.15);\n",
              "      filter: drop-shadow(0px 1px 2px rgba(0, 0, 0, 0.3));\n",
              "      fill: #FFFFFF;\n",
              "    }\n",
              "  </style>\n",
              "\n",
              "      <script>\n",
              "        const buttonEl =\n",
              "          document.querySelector('#df-7e501eea-02d9-47f8-922f-d4ec433cacea button.colab-df-convert');\n",
              "        buttonEl.style.display =\n",
              "          google.colab.kernel.accessAllowed ? 'block' : 'none';\n",
              "\n",
              "        async function convertToInteractive(key) {\n",
              "          const element = document.querySelector('#df-7e501eea-02d9-47f8-922f-d4ec433cacea');\n",
              "          const dataTable =\n",
              "            await google.colab.kernel.invokeFunction('convertToInteractive',\n",
              "                                                     [key], {});\n",
              "          if (!dataTable) return;\n",
              "\n",
              "          const docLinkHtml = 'Like what you see? Visit the ' +\n",
              "            '<a target=\"_blank\" href=https://colab.research.google.com/notebooks/data_table.ipynb>data table notebook</a>'\n",
              "            + ' to learn more about interactive tables.';\n",
              "          element.innerHTML = '';\n",
              "          dataTable['output_type'] = 'display_data';\n",
              "          await google.colab.output.renderOutput(dataTable, element);\n",
              "          const docLink = document.createElement('div');\n",
              "          docLink.innerHTML = docLinkHtml;\n",
              "          element.appendChild(docLink);\n",
              "        }\n",
              "      </script>\n",
              "    </div>\n",
              "  </div>\n",
              "  "
            ]
          },
          "metadata": {},
          "execution_count": 145
        }
      ],
      "source": [
        "df.head()"
      ]
    },
    {
      "cell_type": "markdown",
      "source": [
        " ### Обработка данных первая исследовательская позиция (Маштабирование взаимодействий и их силы)\n",
        " ---"
      ],
      "metadata": {
        "id": "CSHmR3FF8t1O"
      }
    },
    {
      "cell_type": "code",
      "execution_count": 146,
      "metadata": {
        "colab": {
          "base_uri": "https://localhost:8080/"
        },
        "id": "pOZldAxcrTjC",
        "outputId": "345c3483-20d4-4df5-aaec-6724be2cc219"
      },
      "outputs": [
        {
          "output_type": "execute_result",
          "data": {
            "text/plain": [
              "show_vacancy              6180832\n",
              "preview_click_vacancy     4758461\n",
              "click_response             382828\n",
              "click_contacts             276819\n",
              "preview_click_response     190130\n",
              "click_favorite             155472\n",
              "preview_click_favorite     106622\n",
              "preview_click_contacts     101231\n",
              "click_phone                 78667\n",
              "preview_click_phone         15927\n",
              "Name: event_type, dtype: int64"
            ]
          },
          "metadata": {},
          "execution_count": 146
        }
      ],
      "source": [
        "# Вот тут мы посмотрим на количество определенного вида взаимодействий в данных\n",
        "df['event_type'].value_counts()"
      ]
    },
    {
      "cell_type": "markdown",
      "source": [
        "* 1 show_vacancy - просмотр вакансии\n",
        "* 2 preview_click_vacancy - клик по карточке вакансии\n",
        "* **3 click_response - отклик со страницы вакансии**\n",
        "* **4 preview_click_response - отклик с карточки вакансии**\n",
        "* 5 click_favorite - добавление вакансии в избранное  со страницы вакансии\n",
        "* 6 preview_click_favorite - добавление вакансии в избраное с карточки вакансии\n",
        "* **7 click_contacts - клик на контакты со страницы вакансии**\n",
        "* **8 preview_click_contacts - клик на контакты из карточки вакансии**\n",
        "* **9 click_phone - клик на номер телефона, указанный в вакансии**\n",
        "* **10 preview_click_phone - клик на номер телефона из карточки вакансии**\n",
        "\n",
        "Жирным выделены искомые \"\"откликнется\"\" и \"\"позвонит\"\"\"\n",
        "! Стоит обратить внимание на то, что позиции 3 и 4 по частоте идут выше чем позиции 5 и 6, которые нам в положительное взаимодействие не засчитываются."
      ],
      "metadata": {
        "id": "6WKU2Jyp9LE_"
      }
    },
    {
      "cell_type": "markdown",
      "source": [
        "---\n",
        "Наши испытания показали, что неплохой результат метрика показывает, при маштабировании взаимодействий от 1 до 10 сообразно уменьшению их частоты, в данных. Но тут мы видим что 2 отрицательных типа взаимодействий:\n",
        "\n",
        "* click_favorite             155472\n",
        "* preview_click_favorite     106622 \n",
        "\n",
        "получают вес выше чем:\n",
        "\n",
        "* click_response             382828\n",
        "* click_contacts             276819\n",
        "* preview_click_response     190130\n",
        "\n",
        "---"
      ],
      "metadata": {
        "id": "Ge5WGrGIlvZH"
      }
    },
    {
      "cell_type": "code",
      "source": [
        "# Вот это разбиение по нашему заданию показало наилучшие результаты (отричательные взаимодействия все одинкавые, а положительные имеют вес)\n",
        "df['eventStrength'] = df['event_type'].map({'show_vacancy': 1.0,\n",
        "                                     'preview_click_vacancy': 1.0,\n",
        "                                     'click_favorite': 1.0,\n",
        "                                     'preview_click_favorite': 1.0,\n",
        "                                     'click_response': 5.0,\n",
        "                                     'click_contacts': 6.0,\n",
        "                                     'preview_click_response': 7.0,\n",
        "                                     'preview_click_contacts': 8.0,\n",
        "                                     'click_phone': 9.0,\n",
        "                                     'preview_click_phone': 10.0})"
      ],
      "metadata": {
        "id": "CHfPLrIGyXAp"
      },
      "execution_count": 332,
      "outputs": []
    },
    {
      "cell_type": "code",
      "source": [
        "# проверим как мы закодировали взаимодействия\n",
        "df['eventStrength'].value_counts()"
      ],
      "metadata": {
        "id": "rv3_On4pl9eh",
        "colab": {
          "base_uri": "https://localhost:8080/"
        },
        "outputId": "fa32ddbc-2978-48a5-c219-59c22889b0ca"
      },
      "execution_count": 333,
      "outputs": [
        {
          "output_type": "execute_result",
          "data": {
            "text/plain": [
              "1.0     11201387\n",
              "5.0       382828\n",
              "6.0       276819\n",
              "7.0       190130\n",
              "8.0       101231\n",
              "9.0        78667\n",
              "10.0       15927\n",
              "Name: eventStrength, dtype: int64"
            ]
          },
          "metadata": {},
          "execution_count": 333
        }
      ]
    },
    {
      "cell_type": "markdown",
      "source": [
        "Группировка данных.\n",
        "\n",
        "---\n",
        "Еще один point по которому проводилось исследование. Группировка схлопывает взаимодействия и выдает результат в виде силы взаимодействия. Пробовались многие варианты: сумма, максимум, среднее. Пробовался вариант когда мы выделяли только уникальные завимодействия для каждой пары cookie_id и vaconcy_id_ и уже потом применяли агрегацию и маштабирование (с кодом можно ознакомиться в ноутбуке implict_build_v4). Но метрика показывает лучшие результаты именно с суммой по всем свзаимодействиям. Этому есть математическое и логическое объяснение. Работа сайта с учетом, рекламных компаний приоретизации предложений от партнеров и т.д., устроена так, что некоторые вакансии (например вакансии недели) показываются пользователю несколко раз (мы это протестировали), а значит шанс того что пользователь положительно повзаимодействует с вакансией недели увеличивается существенно. То есть чем больше показали, тем больше вероятность клика. Этот тезис подтвержается нашим baseline алгоритмом в котором из различных вариантов ТОП вакансий в числе первых по метрике ТОП построенный по количеству взаимодействий.\n",
        "\n",
        "---"
      ],
      "metadata": {
        "id": "5LZzYv87CfCO"
      }
    },
    {
      "cell_type": "code",
      "execution_count": 334,
      "metadata": {
        "id": "JpGrm5NBQr3Y"
      },
      "outputs": [],
      "source": [
        "# сгруппируем сочетания ваканции и человека при этом суммируем историю из взаимодействия в числах, чем больще число\n",
        "# тем больше интерес человека к вакансии - а значит больше и сила взаимодействия\n",
        "\n",
        "grouped_df = df.groupby(['cookie_id', 'vacancy_id_']).sum('numeric_only').reset_index()"
      ]
    },
    {
      "cell_type": "code",
      "source": [
        "# посмотрим на то что получилось\n",
        "grouped_df.sample(10)"
      ],
      "metadata": {
        "id": "w1coInSUo9eT",
        "colab": {
          "base_uri": "https://localhost:8080/",
          "height": 363
        },
        "outputId": "a08d2f11-5b41-47fd-e3b7-bbf626fea14a"
      },
      "execution_count": 335,
      "outputs": [
        {
          "output_type": "execute_result",
          "data": {
            "text/plain": [
              "                                cookie_id  vacancy_id_  eventStrength\n",
              "2326934  7eaec46c02f4426088087144512cdef1       226854            2.0\n",
              "3872045  d38ba66a917a48b0a55a088ed81dfb3b       243569            2.0\n",
              "1014878  373546f9ac9142dd934c6231426362db       213418            2.0\n",
              "3446597  bc21534101974291aa6f4d26b206019a       110983            2.0\n",
              "3563911  c299092cb4604fb69b6b75ca2adf3dfb       205335           16.0\n",
              "418999   16f521977c5844058b3b1cd9c8f8d945       151737            2.0\n",
              "1844511  64a467946694402a93cbb43b5c7afbcd       147623            2.0\n",
              "2230608  79964be693754647a01263872959a195       260161            1.0\n",
              "3242605  b0efd29b8c66466482355c862c355351       161790            7.0\n",
              "935488   32e6841d89cd4151a7ebf7ec7477936b       182100            2.0"
            ],
            "text/html": [
              "\n",
              "  <div id=\"df-5bf4ee27-5c69-4482-85c6-e281d3349ebb\">\n",
              "    <div class=\"colab-df-container\">\n",
              "      <div>\n",
              "<style scoped>\n",
              "    .dataframe tbody tr th:only-of-type {\n",
              "        vertical-align: middle;\n",
              "    }\n",
              "\n",
              "    .dataframe tbody tr th {\n",
              "        vertical-align: top;\n",
              "    }\n",
              "\n",
              "    .dataframe thead th {\n",
              "        text-align: right;\n",
              "    }\n",
              "</style>\n",
              "<table border=\"1\" class=\"dataframe\">\n",
              "  <thead>\n",
              "    <tr style=\"text-align: right;\">\n",
              "      <th></th>\n",
              "      <th>cookie_id</th>\n",
              "      <th>vacancy_id_</th>\n",
              "      <th>eventStrength</th>\n",
              "    </tr>\n",
              "  </thead>\n",
              "  <tbody>\n",
              "    <tr>\n",
              "      <th>2326934</th>\n",
              "      <td>7eaec46c02f4426088087144512cdef1</td>\n",
              "      <td>226854</td>\n",
              "      <td>2.0</td>\n",
              "    </tr>\n",
              "    <tr>\n",
              "      <th>3872045</th>\n",
              "      <td>d38ba66a917a48b0a55a088ed81dfb3b</td>\n",
              "      <td>243569</td>\n",
              "      <td>2.0</td>\n",
              "    </tr>\n",
              "    <tr>\n",
              "      <th>1014878</th>\n",
              "      <td>373546f9ac9142dd934c6231426362db</td>\n",
              "      <td>213418</td>\n",
              "      <td>2.0</td>\n",
              "    </tr>\n",
              "    <tr>\n",
              "      <th>3446597</th>\n",
              "      <td>bc21534101974291aa6f4d26b206019a</td>\n",
              "      <td>110983</td>\n",
              "      <td>2.0</td>\n",
              "    </tr>\n",
              "    <tr>\n",
              "      <th>3563911</th>\n",
              "      <td>c299092cb4604fb69b6b75ca2adf3dfb</td>\n",
              "      <td>205335</td>\n",
              "      <td>16.0</td>\n",
              "    </tr>\n",
              "    <tr>\n",
              "      <th>418999</th>\n",
              "      <td>16f521977c5844058b3b1cd9c8f8d945</td>\n",
              "      <td>151737</td>\n",
              "      <td>2.0</td>\n",
              "    </tr>\n",
              "    <tr>\n",
              "      <th>1844511</th>\n",
              "      <td>64a467946694402a93cbb43b5c7afbcd</td>\n",
              "      <td>147623</td>\n",
              "      <td>2.0</td>\n",
              "    </tr>\n",
              "    <tr>\n",
              "      <th>2230608</th>\n",
              "      <td>79964be693754647a01263872959a195</td>\n",
              "      <td>260161</td>\n",
              "      <td>1.0</td>\n",
              "    </tr>\n",
              "    <tr>\n",
              "      <th>3242605</th>\n",
              "      <td>b0efd29b8c66466482355c862c355351</td>\n",
              "      <td>161790</td>\n",
              "      <td>7.0</td>\n",
              "    </tr>\n",
              "    <tr>\n",
              "      <th>935488</th>\n",
              "      <td>32e6841d89cd4151a7ebf7ec7477936b</td>\n",
              "      <td>182100</td>\n",
              "      <td>2.0</td>\n",
              "    </tr>\n",
              "  </tbody>\n",
              "</table>\n",
              "</div>\n",
              "      <button class=\"colab-df-convert\" onclick=\"convertToInteractive('df-5bf4ee27-5c69-4482-85c6-e281d3349ebb')\"\n",
              "              title=\"Convert this dataframe to an interactive table.\"\n",
              "              style=\"display:none;\">\n",
              "        \n",
              "  <svg xmlns=\"http://www.w3.org/2000/svg\" height=\"24px\"viewBox=\"0 0 24 24\"\n",
              "       width=\"24px\">\n",
              "    <path d=\"M0 0h24v24H0V0z\" fill=\"none\"/>\n",
              "    <path d=\"M18.56 5.44l.94 2.06.94-2.06 2.06-.94-2.06-.94-.94-2.06-.94 2.06-2.06.94zm-11 1L8.5 8.5l.94-2.06 2.06-.94-2.06-.94L8.5 2.5l-.94 2.06-2.06.94zm10 10l.94 2.06.94-2.06 2.06-.94-2.06-.94-.94-2.06-.94 2.06-2.06.94z\"/><path d=\"M17.41 7.96l-1.37-1.37c-.4-.4-.92-.59-1.43-.59-.52 0-1.04.2-1.43.59L10.3 9.45l-7.72 7.72c-.78.78-.78 2.05 0 2.83L4 21.41c.39.39.9.59 1.41.59.51 0 1.02-.2 1.41-.59l7.78-7.78 2.81-2.81c.8-.78.8-2.07 0-2.86zM5.41 20L4 18.59l7.72-7.72 1.47 1.35L5.41 20z\"/>\n",
              "  </svg>\n",
              "      </button>\n",
              "      \n",
              "  <style>\n",
              "    .colab-df-container {\n",
              "      display:flex;\n",
              "      flex-wrap:wrap;\n",
              "      gap: 12px;\n",
              "    }\n",
              "\n",
              "    .colab-df-convert {\n",
              "      background-color: #E8F0FE;\n",
              "      border: none;\n",
              "      border-radius: 50%;\n",
              "      cursor: pointer;\n",
              "      display: none;\n",
              "      fill: #1967D2;\n",
              "      height: 32px;\n",
              "      padding: 0 0 0 0;\n",
              "      width: 32px;\n",
              "    }\n",
              "\n",
              "    .colab-df-convert:hover {\n",
              "      background-color: #E2EBFA;\n",
              "      box-shadow: 0px 1px 2px rgba(60, 64, 67, 0.3), 0px 1px 3px 1px rgba(60, 64, 67, 0.15);\n",
              "      fill: #174EA6;\n",
              "    }\n",
              "\n",
              "    [theme=dark] .colab-df-convert {\n",
              "      background-color: #3B4455;\n",
              "      fill: #D2E3FC;\n",
              "    }\n",
              "\n",
              "    [theme=dark] .colab-df-convert:hover {\n",
              "      background-color: #434B5C;\n",
              "      box-shadow: 0px 1px 3px 1px rgba(0, 0, 0, 0.15);\n",
              "      filter: drop-shadow(0px 1px 2px rgba(0, 0, 0, 0.3));\n",
              "      fill: #FFFFFF;\n",
              "    }\n",
              "  </style>\n",
              "\n",
              "      <script>\n",
              "        const buttonEl =\n",
              "          document.querySelector('#df-5bf4ee27-5c69-4482-85c6-e281d3349ebb button.colab-df-convert');\n",
              "        buttonEl.style.display =\n",
              "          google.colab.kernel.accessAllowed ? 'block' : 'none';\n",
              "\n",
              "        async function convertToInteractive(key) {\n",
              "          const element = document.querySelector('#df-5bf4ee27-5c69-4482-85c6-e281d3349ebb');\n",
              "          const dataTable =\n",
              "            await google.colab.kernel.invokeFunction('convertToInteractive',\n",
              "                                                     [key], {});\n",
              "          if (!dataTable) return;\n",
              "\n",
              "          const docLinkHtml = 'Like what you see? Visit the ' +\n",
              "            '<a target=\"_blank\" href=https://colab.research.google.com/notebooks/data_table.ipynb>data table notebook</a>'\n",
              "            + ' to learn more about interactive tables.';\n",
              "          element.innerHTML = '';\n",
              "          dataTable['output_type'] = 'display_data';\n",
              "          await google.colab.output.renderOutput(dataTable, element);\n",
              "          const docLink = document.createElement('div');\n",
              "          docLink.innerHTML = docLinkHtml;\n",
              "          element.appendChild(docLink);\n",
              "        }\n",
              "      </script>\n",
              "    </div>\n",
              "  </div>\n",
              "  "
            ]
          },
          "metadata": {},
          "execution_count": 335
        }
      ]
    },
    {
      "cell_type": "code",
      "execution_count": 336,
      "metadata": {
        "colab": {
          "base_uri": "https://localhost:8080/"
        },
        "id": "2-4TgU95Qr3Z",
        "outputId": "456410fb-9f83-437c-bc87-84e6cb0801e4"
      },
      "outputs": [
        {
          "output_type": "stream",
          "name": "stdout",
          "text": [
            "<class 'pandas.core.frame.DataFrame'>\n",
            "RangeIndex: 4678585 entries, 0 to 4678584\n",
            "Data columns (total 3 columns):\n",
            " #   Column         Dtype  \n",
            "---  ------         -----  \n",
            " 0   cookie_id      object \n",
            " 1   vacancy_id_    int64  \n",
            " 2   eventStrength  float64\n",
            "dtypes: float64(1), int64(1), object(1)\n",
            "memory usage: 107.1+ MB\n"
          ]
        }
      ],
      "source": [
        "# с 12 000 000 + наши данные схлопнулись до 4 500 000 +\n",
        "grouped_df.info()"
      ]
    },
    {
      "cell_type": "code",
      "source": [
        "# посмотрим на одну вакансию в ключе ее взаимодействия с пользователями\n",
        "grouped_df[grouped_df['vacancy_id_'] == 210068].sort_values('eventStrength', ascending=False).head(10)"
      ],
      "metadata": {
        "id": "lIcPy9MRnLrG",
        "colab": {
          "base_uri": "https://localhost:8080/",
          "height": 363
        },
        "outputId": "3233574f-3f8c-497d-e863-2296c8948a06"
      },
      "execution_count": 337,
      "outputs": [
        {
          "output_type": "execute_result",
          "data": {
            "text/plain": [
              "                                cookie_id  vacancy_id_  eventStrength\n",
              "4271237  e9647deb68d6489c8f23fd7ff250f18c       210068           38.0\n",
              "562580   1e9223caa87c453da3a102f3020327f7       210068           22.0\n",
              "3160724  ac5710432b184069b1a4c0296fe3e41a       210068           11.0\n",
              "3234089  b08259ccb54a4e9b8fe4c5bf2dc0d180       210068            8.0\n",
              "1243846  43de234dae2a41f98f394d8e1e615528       210068            8.0\n",
              "4672681  ffac1d4fb8ad4bb3a625d05f037a7f7f       210068            8.0\n",
              "4590495  fb3eebb8cfc54a3085a07e7f47dbed4c       210068            8.0\n",
              "312745   110a687ec500431289aa6116974ffc36       210068            7.0\n",
              "1593021  56e2163ea88245ac8a702bdc1ce4f4c5       210068            7.0\n",
              "754056   2901a05b78a0471a9f5ad505ee70168d       210068            6.0"
            ],
            "text/html": [
              "\n",
              "  <div id=\"df-7e2d18a8-252c-4ad1-a78d-f1040e650f16\">\n",
              "    <div class=\"colab-df-container\">\n",
              "      <div>\n",
              "<style scoped>\n",
              "    .dataframe tbody tr th:only-of-type {\n",
              "        vertical-align: middle;\n",
              "    }\n",
              "\n",
              "    .dataframe tbody tr th {\n",
              "        vertical-align: top;\n",
              "    }\n",
              "\n",
              "    .dataframe thead th {\n",
              "        text-align: right;\n",
              "    }\n",
              "</style>\n",
              "<table border=\"1\" class=\"dataframe\">\n",
              "  <thead>\n",
              "    <tr style=\"text-align: right;\">\n",
              "      <th></th>\n",
              "      <th>cookie_id</th>\n",
              "      <th>vacancy_id_</th>\n",
              "      <th>eventStrength</th>\n",
              "    </tr>\n",
              "  </thead>\n",
              "  <tbody>\n",
              "    <tr>\n",
              "      <th>4271237</th>\n",
              "      <td>e9647deb68d6489c8f23fd7ff250f18c</td>\n",
              "      <td>210068</td>\n",
              "      <td>38.0</td>\n",
              "    </tr>\n",
              "    <tr>\n",
              "      <th>562580</th>\n",
              "      <td>1e9223caa87c453da3a102f3020327f7</td>\n",
              "      <td>210068</td>\n",
              "      <td>22.0</td>\n",
              "    </tr>\n",
              "    <tr>\n",
              "      <th>3160724</th>\n",
              "      <td>ac5710432b184069b1a4c0296fe3e41a</td>\n",
              "      <td>210068</td>\n",
              "      <td>11.0</td>\n",
              "    </tr>\n",
              "    <tr>\n",
              "      <th>3234089</th>\n",
              "      <td>b08259ccb54a4e9b8fe4c5bf2dc0d180</td>\n",
              "      <td>210068</td>\n",
              "      <td>8.0</td>\n",
              "    </tr>\n",
              "    <tr>\n",
              "      <th>1243846</th>\n",
              "      <td>43de234dae2a41f98f394d8e1e615528</td>\n",
              "      <td>210068</td>\n",
              "      <td>8.0</td>\n",
              "    </tr>\n",
              "    <tr>\n",
              "      <th>4672681</th>\n",
              "      <td>ffac1d4fb8ad4bb3a625d05f037a7f7f</td>\n",
              "      <td>210068</td>\n",
              "      <td>8.0</td>\n",
              "    </tr>\n",
              "    <tr>\n",
              "      <th>4590495</th>\n",
              "      <td>fb3eebb8cfc54a3085a07e7f47dbed4c</td>\n",
              "      <td>210068</td>\n",
              "      <td>8.0</td>\n",
              "    </tr>\n",
              "    <tr>\n",
              "      <th>312745</th>\n",
              "      <td>110a687ec500431289aa6116974ffc36</td>\n",
              "      <td>210068</td>\n",
              "      <td>7.0</td>\n",
              "    </tr>\n",
              "    <tr>\n",
              "      <th>1593021</th>\n",
              "      <td>56e2163ea88245ac8a702bdc1ce4f4c5</td>\n",
              "      <td>210068</td>\n",
              "      <td>7.0</td>\n",
              "    </tr>\n",
              "    <tr>\n",
              "      <th>754056</th>\n",
              "      <td>2901a05b78a0471a9f5ad505ee70168d</td>\n",
              "      <td>210068</td>\n",
              "      <td>6.0</td>\n",
              "    </tr>\n",
              "  </tbody>\n",
              "</table>\n",
              "</div>\n",
              "      <button class=\"colab-df-convert\" onclick=\"convertToInteractive('df-7e2d18a8-252c-4ad1-a78d-f1040e650f16')\"\n",
              "              title=\"Convert this dataframe to an interactive table.\"\n",
              "              style=\"display:none;\">\n",
              "        \n",
              "  <svg xmlns=\"http://www.w3.org/2000/svg\" height=\"24px\"viewBox=\"0 0 24 24\"\n",
              "       width=\"24px\">\n",
              "    <path d=\"M0 0h24v24H0V0z\" fill=\"none\"/>\n",
              "    <path d=\"M18.56 5.44l.94 2.06.94-2.06 2.06-.94-2.06-.94-.94-2.06-.94 2.06-2.06.94zm-11 1L8.5 8.5l.94-2.06 2.06-.94-2.06-.94L8.5 2.5l-.94 2.06-2.06.94zm10 10l.94 2.06.94-2.06 2.06-.94-2.06-.94-.94-2.06-.94 2.06-2.06.94z\"/><path d=\"M17.41 7.96l-1.37-1.37c-.4-.4-.92-.59-1.43-.59-.52 0-1.04.2-1.43.59L10.3 9.45l-7.72 7.72c-.78.78-.78 2.05 0 2.83L4 21.41c.39.39.9.59 1.41.59.51 0 1.02-.2 1.41-.59l7.78-7.78 2.81-2.81c.8-.78.8-2.07 0-2.86zM5.41 20L4 18.59l7.72-7.72 1.47 1.35L5.41 20z\"/>\n",
              "  </svg>\n",
              "      </button>\n",
              "      \n",
              "  <style>\n",
              "    .colab-df-container {\n",
              "      display:flex;\n",
              "      flex-wrap:wrap;\n",
              "      gap: 12px;\n",
              "    }\n",
              "\n",
              "    .colab-df-convert {\n",
              "      background-color: #E8F0FE;\n",
              "      border: none;\n",
              "      border-radius: 50%;\n",
              "      cursor: pointer;\n",
              "      display: none;\n",
              "      fill: #1967D2;\n",
              "      height: 32px;\n",
              "      padding: 0 0 0 0;\n",
              "      width: 32px;\n",
              "    }\n",
              "\n",
              "    .colab-df-convert:hover {\n",
              "      background-color: #E2EBFA;\n",
              "      box-shadow: 0px 1px 2px rgba(60, 64, 67, 0.3), 0px 1px 3px 1px rgba(60, 64, 67, 0.15);\n",
              "      fill: #174EA6;\n",
              "    }\n",
              "\n",
              "    [theme=dark] .colab-df-convert {\n",
              "      background-color: #3B4455;\n",
              "      fill: #D2E3FC;\n",
              "    }\n",
              "\n",
              "    [theme=dark] .colab-df-convert:hover {\n",
              "      background-color: #434B5C;\n",
              "      box-shadow: 0px 1px 3px 1px rgba(0, 0, 0, 0.15);\n",
              "      filter: drop-shadow(0px 1px 2px rgba(0, 0, 0, 0.3));\n",
              "      fill: #FFFFFF;\n",
              "    }\n",
              "  </style>\n",
              "\n",
              "      <script>\n",
              "        const buttonEl =\n",
              "          document.querySelector('#df-7e2d18a8-252c-4ad1-a78d-f1040e650f16 button.colab-df-convert');\n",
              "        buttonEl.style.display =\n",
              "          google.colab.kernel.accessAllowed ? 'block' : 'none';\n",
              "\n",
              "        async function convertToInteractive(key) {\n",
              "          const element = document.querySelector('#df-7e2d18a8-252c-4ad1-a78d-f1040e650f16');\n",
              "          const dataTable =\n",
              "            await google.colab.kernel.invokeFunction('convertToInteractive',\n",
              "                                                     [key], {});\n",
              "          if (!dataTable) return;\n",
              "\n",
              "          const docLinkHtml = 'Like what you see? Visit the ' +\n",
              "            '<a target=\"_blank\" href=https://colab.research.google.com/notebooks/data_table.ipynb>data table notebook</a>'\n",
              "            + ' to learn more about interactive tables.';\n",
              "          element.innerHTML = '';\n",
              "          dataTable['output_type'] = 'display_data';\n",
              "          await google.colab.output.renderOutput(dataTable, element);\n",
              "          const docLink = document.createElement('div');\n",
              "          docLink.innerHTML = docLinkHtml;\n",
              "          element.appendChild(docLink);\n",
              "        }\n",
              "      </script>\n",
              "    </div>\n",
              "  </div>\n",
              "  "
            ]
          },
          "metadata": {},
          "execution_count": 337
        }
      ]
    },
    {
      "cell_type": "code",
      "source": [
        "# посмотрим на одного пользователя в ключе его взаимодействия с вакансиями\n",
        "grouped_df[grouped_df['cookie_id'] == 'ac5710432b184069b1a4c0296fe3e41a'].sort_values('eventStrength', ascending=False).head(10)"
      ],
      "metadata": {
        "colab": {
          "base_uri": "https://localhost:8080/",
          "height": 363
        },
        "id": "t-A0s6DYzgwf",
        "outputId": "91c7b50c-e334-476e-d03e-61827006b4c4"
      },
      "execution_count": 338,
      "outputs": [
        {
          "output_type": "execute_result",
          "data": {
            "text/plain": [
              "                                cookie_id  vacancy_id_  eventStrength\n",
              "3160729  ac5710432b184069b1a4c0296fe3e41a       221774           37.0\n",
              "3160709  ac5710432b184069b1a4c0296fe3e41a       114808           25.0\n",
              "3160734  ac5710432b184069b1a4c0296fe3e41a       250491           21.0\n",
              "3160712  ac5710432b184069b1a4c0296fe3e41a       136830           21.0\n",
              "3160723  ac5710432b184069b1a4c0296fe3e41a       195789           20.0\n",
              "3160716  ac5710432b184069b1a4c0296fe3e41a       168822           20.0\n",
              "3160733  ac5710432b184069b1a4c0296fe3e41a       249034           19.0\n",
              "3160732  ac5710432b184069b1a4c0296fe3e41a       248398           19.0\n",
              "3160730  ac5710432b184069b1a4c0296fe3e41a       239208           15.0\n",
              "3160724  ac5710432b184069b1a4c0296fe3e41a       210068           11.0"
            ],
            "text/html": [
              "\n",
              "  <div id=\"df-8659780d-4edc-4743-81c7-766409379ad8\">\n",
              "    <div class=\"colab-df-container\">\n",
              "      <div>\n",
              "<style scoped>\n",
              "    .dataframe tbody tr th:only-of-type {\n",
              "        vertical-align: middle;\n",
              "    }\n",
              "\n",
              "    .dataframe tbody tr th {\n",
              "        vertical-align: top;\n",
              "    }\n",
              "\n",
              "    .dataframe thead th {\n",
              "        text-align: right;\n",
              "    }\n",
              "</style>\n",
              "<table border=\"1\" class=\"dataframe\">\n",
              "  <thead>\n",
              "    <tr style=\"text-align: right;\">\n",
              "      <th></th>\n",
              "      <th>cookie_id</th>\n",
              "      <th>vacancy_id_</th>\n",
              "      <th>eventStrength</th>\n",
              "    </tr>\n",
              "  </thead>\n",
              "  <tbody>\n",
              "    <tr>\n",
              "      <th>3160729</th>\n",
              "      <td>ac5710432b184069b1a4c0296fe3e41a</td>\n",
              "      <td>221774</td>\n",
              "      <td>37.0</td>\n",
              "    </tr>\n",
              "    <tr>\n",
              "      <th>3160709</th>\n",
              "      <td>ac5710432b184069b1a4c0296fe3e41a</td>\n",
              "      <td>114808</td>\n",
              "      <td>25.0</td>\n",
              "    </tr>\n",
              "    <tr>\n",
              "      <th>3160734</th>\n",
              "      <td>ac5710432b184069b1a4c0296fe3e41a</td>\n",
              "      <td>250491</td>\n",
              "      <td>21.0</td>\n",
              "    </tr>\n",
              "    <tr>\n",
              "      <th>3160712</th>\n",
              "      <td>ac5710432b184069b1a4c0296fe3e41a</td>\n",
              "      <td>136830</td>\n",
              "      <td>21.0</td>\n",
              "    </tr>\n",
              "    <tr>\n",
              "      <th>3160723</th>\n",
              "      <td>ac5710432b184069b1a4c0296fe3e41a</td>\n",
              "      <td>195789</td>\n",
              "      <td>20.0</td>\n",
              "    </tr>\n",
              "    <tr>\n",
              "      <th>3160716</th>\n",
              "      <td>ac5710432b184069b1a4c0296fe3e41a</td>\n",
              "      <td>168822</td>\n",
              "      <td>20.0</td>\n",
              "    </tr>\n",
              "    <tr>\n",
              "      <th>3160733</th>\n",
              "      <td>ac5710432b184069b1a4c0296fe3e41a</td>\n",
              "      <td>249034</td>\n",
              "      <td>19.0</td>\n",
              "    </tr>\n",
              "    <tr>\n",
              "      <th>3160732</th>\n",
              "      <td>ac5710432b184069b1a4c0296fe3e41a</td>\n",
              "      <td>248398</td>\n",
              "      <td>19.0</td>\n",
              "    </tr>\n",
              "    <tr>\n",
              "      <th>3160730</th>\n",
              "      <td>ac5710432b184069b1a4c0296fe3e41a</td>\n",
              "      <td>239208</td>\n",
              "      <td>15.0</td>\n",
              "    </tr>\n",
              "    <tr>\n",
              "      <th>3160724</th>\n",
              "      <td>ac5710432b184069b1a4c0296fe3e41a</td>\n",
              "      <td>210068</td>\n",
              "      <td>11.0</td>\n",
              "    </tr>\n",
              "  </tbody>\n",
              "</table>\n",
              "</div>\n",
              "      <button class=\"colab-df-convert\" onclick=\"convertToInteractive('df-8659780d-4edc-4743-81c7-766409379ad8')\"\n",
              "              title=\"Convert this dataframe to an interactive table.\"\n",
              "              style=\"display:none;\">\n",
              "        \n",
              "  <svg xmlns=\"http://www.w3.org/2000/svg\" height=\"24px\"viewBox=\"0 0 24 24\"\n",
              "       width=\"24px\">\n",
              "    <path d=\"M0 0h24v24H0V0z\" fill=\"none\"/>\n",
              "    <path d=\"M18.56 5.44l.94 2.06.94-2.06 2.06-.94-2.06-.94-.94-2.06-.94 2.06-2.06.94zm-11 1L8.5 8.5l.94-2.06 2.06-.94-2.06-.94L8.5 2.5l-.94 2.06-2.06.94zm10 10l.94 2.06.94-2.06 2.06-.94-2.06-.94-.94-2.06-.94 2.06-2.06.94z\"/><path d=\"M17.41 7.96l-1.37-1.37c-.4-.4-.92-.59-1.43-.59-.52 0-1.04.2-1.43.59L10.3 9.45l-7.72 7.72c-.78.78-.78 2.05 0 2.83L4 21.41c.39.39.9.59 1.41.59.51 0 1.02-.2 1.41-.59l7.78-7.78 2.81-2.81c.8-.78.8-2.07 0-2.86zM5.41 20L4 18.59l7.72-7.72 1.47 1.35L5.41 20z\"/>\n",
              "  </svg>\n",
              "      </button>\n",
              "      \n",
              "  <style>\n",
              "    .colab-df-container {\n",
              "      display:flex;\n",
              "      flex-wrap:wrap;\n",
              "      gap: 12px;\n",
              "    }\n",
              "\n",
              "    .colab-df-convert {\n",
              "      background-color: #E8F0FE;\n",
              "      border: none;\n",
              "      border-radius: 50%;\n",
              "      cursor: pointer;\n",
              "      display: none;\n",
              "      fill: #1967D2;\n",
              "      height: 32px;\n",
              "      padding: 0 0 0 0;\n",
              "      width: 32px;\n",
              "    }\n",
              "\n",
              "    .colab-df-convert:hover {\n",
              "      background-color: #E2EBFA;\n",
              "      box-shadow: 0px 1px 2px rgba(60, 64, 67, 0.3), 0px 1px 3px 1px rgba(60, 64, 67, 0.15);\n",
              "      fill: #174EA6;\n",
              "    }\n",
              "\n",
              "    [theme=dark] .colab-df-convert {\n",
              "      background-color: #3B4455;\n",
              "      fill: #D2E3FC;\n",
              "    }\n",
              "\n",
              "    [theme=dark] .colab-df-convert:hover {\n",
              "      background-color: #434B5C;\n",
              "      box-shadow: 0px 1px 3px 1px rgba(0, 0, 0, 0.15);\n",
              "      filter: drop-shadow(0px 1px 2px rgba(0, 0, 0, 0.3));\n",
              "      fill: #FFFFFF;\n",
              "    }\n",
              "  </style>\n",
              "\n",
              "      <script>\n",
              "        const buttonEl =\n",
              "          document.querySelector('#df-8659780d-4edc-4743-81c7-766409379ad8 button.colab-df-convert');\n",
              "        buttonEl.style.display =\n",
              "          google.colab.kernel.accessAllowed ? 'block' : 'none';\n",
              "\n",
              "        async function convertToInteractive(key) {\n",
              "          const element = document.querySelector('#df-8659780d-4edc-4743-81c7-766409379ad8');\n",
              "          const dataTable =\n",
              "            await google.colab.kernel.invokeFunction('convertToInteractive',\n",
              "                                                     [key], {});\n",
              "          if (!dataTable) return;\n",
              "\n",
              "          const docLinkHtml = 'Like what you see? Visit the ' +\n",
              "            '<a target=\"_blank\" href=https://colab.research.google.com/notebooks/data_table.ipynb>data table notebook</a>'\n",
              "            + ' to learn more about interactive tables.';\n",
              "          element.innerHTML = '';\n",
              "          dataTable['output_type'] = 'display_data';\n",
              "          await google.colab.output.renderOutput(dataTable, element);\n",
              "          const docLink = document.createElement('div');\n",
              "          docLink.innerHTML = docLinkHtml;\n",
              "          element.appendChild(docLink);\n",
              "        }\n",
              "      </script>\n",
              "    </div>\n",
              "  </div>\n",
              "  "
            ]
          },
          "metadata": {},
          "execution_count": 338
        }
      ]
    },
    {
      "cell_type": "markdown",
      "source": [
        "Следующий блок - это категоризация cookie_id для целей формирования разряженной матрицы (матрица принимает только числовые значения)\n",
        "\n",
        "---"
      ],
      "metadata": {
        "id": "d6HYg_5FysLz"
      }
    },
    {
      "cell_type": "code",
      "execution_count": 339,
      "metadata": {
        "id": "Hj8ItCotrTjI"
      },
      "outputs": [],
      "source": [
        "grouped_df['cookie_id'] = grouped_df['cookie_id'].astype(\"category\") # наименование вакансии в категорию\n",
        "grouped_df['cookie_id_num'] = grouped_df['cookie_id'].cat.codes # вот тут выделяем числовые значения"
      ]
    },
    {
      "cell_type": "markdown",
      "metadata": {
        "id": "HmSEG1NnQr3a"
      },
      "source": [
        "Продолжаем готовить данные для разряженных матриц\n",
        "\n",
        "---"
      ]
    },
    {
      "cell_type": "code",
      "source": [
        "grouped_df = grouped_df[['cookie_id', 'cookie_id_num', 'vacancy_id_', 'eventStrength']]"
      ],
      "metadata": {
        "id": "L5qwt3uP0822"
      },
      "execution_count": 340,
      "outputs": []
    },
    {
      "cell_type": "code",
      "source": [
        "# создадим датафрейм, на базе которого будет создаваться разряженная матрица\n",
        "matrix_data = grouped_df[['cookie_id_num', 'vacancy_id_', 'eventStrength']]"
      ],
      "metadata": {
        "id": "dA3bGK1_1KHn"
      },
      "execution_count": 341,
      "outputs": []
    },
    {
      "cell_type": "markdown",
      "source": [
        "Вот тут был блок нормализации данных, но нормализация по среднему дает аналогичный резултат что и без нее, а нормализация min max сущесвенно ухудшает метрику, поэтому от нормализации мы отказались\n",
        "\n",
        "---"
      ],
      "metadata": {
        "id": "PpGQc_gEF4fw"
      }
    },
    {
      "cell_type": "code",
      "source": [
        "matrix_data.head() # мне кажется минусы нам не нужны будут проверю другую\n",
        "# Вот этот датафрейм пойдет в матрицы (в следующий прогон загоним с нормализацией)"
      ],
      "metadata": {
        "colab": {
          "base_uri": "https://localhost:8080/",
          "height": 206
        },
        "id": "hC_GLeS7GUqW",
        "outputId": "c3616c82-42b6-4df1-8318-96c14e2cce44"
      },
      "execution_count": 342,
      "outputs": [
        {
          "output_type": "execute_result",
          "data": {
            "text/plain": [
              "   cookie_id_num  vacancy_id_  eventStrength\n",
              "0              0       137659            2.0\n",
              "1              0       153975            2.0\n",
              "2              0       174953            3.0\n",
              "3              0       176171            2.0\n",
              "4              0       182445            4.0"
            ],
            "text/html": [
              "\n",
              "  <div id=\"df-71679687-2567-41a6-9e04-7386606679fc\">\n",
              "    <div class=\"colab-df-container\">\n",
              "      <div>\n",
              "<style scoped>\n",
              "    .dataframe tbody tr th:only-of-type {\n",
              "        vertical-align: middle;\n",
              "    }\n",
              "\n",
              "    .dataframe tbody tr th {\n",
              "        vertical-align: top;\n",
              "    }\n",
              "\n",
              "    .dataframe thead th {\n",
              "        text-align: right;\n",
              "    }\n",
              "</style>\n",
              "<table border=\"1\" class=\"dataframe\">\n",
              "  <thead>\n",
              "    <tr style=\"text-align: right;\">\n",
              "      <th></th>\n",
              "      <th>cookie_id_num</th>\n",
              "      <th>vacancy_id_</th>\n",
              "      <th>eventStrength</th>\n",
              "    </tr>\n",
              "  </thead>\n",
              "  <tbody>\n",
              "    <tr>\n",
              "      <th>0</th>\n",
              "      <td>0</td>\n",
              "      <td>137659</td>\n",
              "      <td>2.0</td>\n",
              "    </tr>\n",
              "    <tr>\n",
              "      <th>1</th>\n",
              "      <td>0</td>\n",
              "      <td>153975</td>\n",
              "      <td>2.0</td>\n",
              "    </tr>\n",
              "    <tr>\n",
              "      <th>2</th>\n",
              "      <td>0</td>\n",
              "      <td>174953</td>\n",
              "      <td>3.0</td>\n",
              "    </tr>\n",
              "    <tr>\n",
              "      <th>3</th>\n",
              "      <td>0</td>\n",
              "      <td>176171</td>\n",
              "      <td>2.0</td>\n",
              "    </tr>\n",
              "    <tr>\n",
              "      <th>4</th>\n",
              "      <td>0</td>\n",
              "      <td>182445</td>\n",
              "      <td>4.0</td>\n",
              "    </tr>\n",
              "  </tbody>\n",
              "</table>\n",
              "</div>\n",
              "      <button class=\"colab-df-convert\" onclick=\"convertToInteractive('df-71679687-2567-41a6-9e04-7386606679fc')\"\n",
              "              title=\"Convert this dataframe to an interactive table.\"\n",
              "              style=\"display:none;\">\n",
              "        \n",
              "  <svg xmlns=\"http://www.w3.org/2000/svg\" height=\"24px\"viewBox=\"0 0 24 24\"\n",
              "       width=\"24px\">\n",
              "    <path d=\"M0 0h24v24H0V0z\" fill=\"none\"/>\n",
              "    <path d=\"M18.56 5.44l.94 2.06.94-2.06 2.06-.94-2.06-.94-.94-2.06-.94 2.06-2.06.94zm-11 1L8.5 8.5l.94-2.06 2.06-.94-2.06-.94L8.5 2.5l-.94 2.06-2.06.94zm10 10l.94 2.06.94-2.06 2.06-.94-2.06-.94-.94-2.06-.94 2.06-2.06.94z\"/><path d=\"M17.41 7.96l-1.37-1.37c-.4-.4-.92-.59-1.43-.59-.52 0-1.04.2-1.43.59L10.3 9.45l-7.72 7.72c-.78.78-.78 2.05 0 2.83L4 21.41c.39.39.9.59 1.41.59.51 0 1.02-.2 1.41-.59l7.78-7.78 2.81-2.81c.8-.78.8-2.07 0-2.86zM5.41 20L4 18.59l7.72-7.72 1.47 1.35L5.41 20z\"/>\n",
              "  </svg>\n",
              "      </button>\n",
              "      \n",
              "  <style>\n",
              "    .colab-df-container {\n",
              "      display:flex;\n",
              "      flex-wrap:wrap;\n",
              "      gap: 12px;\n",
              "    }\n",
              "\n",
              "    .colab-df-convert {\n",
              "      background-color: #E8F0FE;\n",
              "      border: none;\n",
              "      border-radius: 50%;\n",
              "      cursor: pointer;\n",
              "      display: none;\n",
              "      fill: #1967D2;\n",
              "      height: 32px;\n",
              "      padding: 0 0 0 0;\n",
              "      width: 32px;\n",
              "    }\n",
              "\n",
              "    .colab-df-convert:hover {\n",
              "      background-color: #E2EBFA;\n",
              "      box-shadow: 0px 1px 2px rgba(60, 64, 67, 0.3), 0px 1px 3px 1px rgba(60, 64, 67, 0.15);\n",
              "      fill: #174EA6;\n",
              "    }\n",
              "\n",
              "    [theme=dark] .colab-df-convert {\n",
              "      background-color: #3B4455;\n",
              "      fill: #D2E3FC;\n",
              "    }\n",
              "\n",
              "    [theme=dark] .colab-df-convert:hover {\n",
              "      background-color: #434B5C;\n",
              "      box-shadow: 0px 1px 3px 1px rgba(0, 0, 0, 0.15);\n",
              "      filter: drop-shadow(0px 1px 2px rgba(0, 0, 0, 0.3));\n",
              "      fill: #FFFFFF;\n",
              "    }\n",
              "  </style>\n",
              "\n",
              "      <script>\n",
              "        const buttonEl =\n",
              "          document.querySelector('#df-71679687-2567-41a6-9e04-7386606679fc button.colab-df-convert');\n",
              "        buttonEl.style.display =\n",
              "          google.colab.kernel.accessAllowed ? 'block' : 'none';\n",
              "\n",
              "        async function convertToInteractive(key) {\n",
              "          const element = document.querySelector('#df-71679687-2567-41a6-9e04-7386606679fc');\n",
              "          const dataTable =\n",
              "            await google.colab.kernel.invokeFunction('convertToInteractive',\n",
              "                                                     [key], {});\n",
              "          if (!dataTable) return;\n",
              "\n",
              "          const docLinkHtml = 'Like what you see? Visit the ' +\n",
              "            '<a target=\"_blank\" href=https://colab.research.google.com/notebooks/data_table.ipynb>data table notebook</a>'\n",
              "            + ' to learn more about interactive tables.';\n",
              "          element.innerHTML = '';\n",
              "          dataTable['output_type'] = 'display_data';\n",
              "          await google.colab.output.renderOutput(dataTable, element);\n",
              "          const docLink = document.createElement('div');\n",
              "          docLink.innerHTML = docLinkHtml;\n",
              "          element.appendChild(docLink);\n",
              "        }\n",
              "      </script>\n",
              "    </div>\n",
              "  </div>\n",
              "  "
            ]
          },
          "metadata": {},
          "execution_count": 342
        }
      ]
    },
    {
      "cell_type": "code",
      "execution_count": 343,
      "metadata": {
        "id": "TOMAvk3brTjJ",
        "outputId": "6b1f63ce-41ee-4259-8456-8e3730e8777d",
        "colab": {
          "base_uri": "https://localhost:8080/",
          "height": 363
        }
      },
      "outputs": [
        {
          "output_type": "execute_result",
          "data": {
            "text/plain": [
              "                          cookie_id  cookie_id_num  vacancy_id_  eventStrength\n",
              "0  0000c4548c3944c08972bbdc1fa4eb85              0       137659            2.0\n",
              "1  0000c4548c3944c08972bbdc1fa4eb85              0       153975            2.0\n",
              "2  0000c4548c3944c08972bbdc1fa4eb85              0       174953            3.0\n",
              "3  0000c4548c3944c08972bbdc1fa4eb85              0       176171            2.0\n",
              "4  0000c4548c3944c08972bbdc1fa4eb85              0       182445            4.0\n",
              "5  0000c4548c3944c08972bbdc1fa4eb85              0       187529            2.0\n",
              "6  0000d7508334414ca792c5ff66eb8c14              1       106676            2.0\n",
              "7  0000d7508334414ca792c5ff66eb8c14              1       108690            2.0\n",
              "8  0000d7508334414ca792c5ff66eb8c14              1       115744            2.0\n",
              "9  0000d7508334414ca792c5ff66eb8c14              1       169615            2.0"
            ],
            "text/html": [
              "\n",
              "  <div id=\"df-ec1a1072-9405-4ecd-90ad-3e7ac28c862b\">\n",
              "    <div class=\"colab-df-container\">\n",
              "      <div>\n",
              "<style scoped>\n",
              "    .dataframe tbody tr th:only-of-type {\n",
              "        vertical-align: middle;\n",
              "    }\n",
              "\n",
              "    .dataframe tbody tr th {\n",
              "        vertical-align: top;\n",
              "    }\n",
              "\n",
              "    .dataframe thead th {\n",
              "        text-align: right;\n",
              "    }\n",
              "</style>\n",
              "<table border=\"1\" class=\"dataframe\">\n",
              "  <thead>\n",
              "    <tr style=\"text-align: right;\">\n",
              "      <th></th>\n",
              "      <th>cookie_id</th>\n",
              "      <th>cookie_id_num</th>\n",
              "      <th>vacancy_id_</th>\n",
              "      <th>eventStrength</th>\n",
              "    </tr>\n",
              "  </thead>\n",
              "  <tbody>\n",
              "    <tr>\n",
              "      <th>0</th>\n",
              "      <td>0000c4548c3944c08972bbdc1fa4eb85</td>\n",
              "      <td>0</td>\n",
              "      <td>137659</td>\n",
              "      <td>2.0</td>\n",
              "    </tr>\n",
              "    <tr>\n",
              "      <th>1</th>\n",
              "      <td>0000c4548c3944c08972bbdc1fa4eb85</td>\n",
              "      <td>0</td>\n",
              "      <td>153975</td>\n",
              "      <td>2.0</td>\n",
              "    </tr>\n",
              "    <tr>\n",
              "      <th>2</th>\n",
              "      <td>0000c4548c3944c08972bbdc1fa4eb85</td>\n",
              "      <td>0</td>\n",
              "      <td>174953</td>\n",
              "      <td>3.0</td>\n",
              "    </tr>\n",
              "    <tr>\n",
              "      <th>3</th>\n",
              "      <td>0000c4548c3944c08972bbdc1fa4eb85</td>\n",
              "      <td>0</td>\n",
              "      <td>176171</td>\n",
              "      <td>2.0</td>\n",
              "    </tr>\n",
              "    <tr>\n",
              "      <th>4</th>\n",
              "      <td>0000c4548c3944c08972bbdc1fa4eb85</td>\n",
              "      <td>0</td>\n",
              "      <td>182445</td>\n",
              "      <td>4.0</td>\n",
              "    </tr>\n",
              "    <tr>\n",
              "      <th>5</th>\n",
              "      <td>0000c4548c3944c08972bbdc1fa4eb85</td>\n",
              "      <td>0</td>\n",
              "      <td>187529</td>\n",
              "      <td>2.0</td>\n",
              "    </tr>\n",
              "    <tr>\n",
              "      <th>6</th>\n",
              "      <td>0000d7508334414ca792c5ff66eb8c14</td>\n",
              "      <td>1</td>\n",
              "      <td>106676</td>\n",
              "      <td>2.0</td>\n",
              "    </tr>\n",
              "    <tr>\n",
              "      <th>7</th>\n",
              "      <td>0000d7508334414ca792c5ff66eb8c14</td>\n",
              "      <td>1</td>\n",
              "      <td>108690</td>\n",
              "      <td>2.0</td>\n",
              "    </tr>\n",
              "    <tr>\n",
              "      <th>8</th>\n",
              "      <td>0000d7508334414ca792c5ff66eb8c14</td>\n",
              "      <td>1</td>\n",
              "      <td>115744</td>\n",
              "      <td>2.0</td>\n",
              "    </tr>\n",
              "    <tr>\n",
              "      <th>9</th>\n",
              "      <td>0000d7508334414ca792c5ff66eb8c14</td>\n",
              "      <td>1</td>\n",
              "      <td>169615</td>\n",
              "      <td>2.0</td>\n",
              "    </tr>\n",
              "  </tbody>\n",
              "</table>\n",
              "</div>\n",
              "      <button class=\"colab-df-convert\" onclick=\"convertToInteractive('df-ec1a1072-9405-4ecd-90ad-3e7ac28c862b')\"\n",
              "              title=\"Convert this dataframe to an interactive table.\"\n",
              "              style=\"display:none;\">\n",
              "        \n",
              "  <svg xmlns=\"http://www.w3.org/2000/svg\" height=\"24px\"viewBox=\"0 0 24 24\"\n",
              "       width=\"24px\">\n",
              "    <path d=\"M0 0h24v24H0V0z\" fill=\"none\"/>\n",
              "    <path d=\"M18.56 5.44l.94 2.06.94-2.06 2.06-.94-2.06-.94-.94-2.06-.94 2.06-2.06.94zm-11 1L8.5 8.5l.94-2.06 2.06-.94-2.06-.94L8.5 2.5l-.94 2.06-2.06.94zm10 10l.94 2.06.94-2.06 2.06-.94-2.06-.94-.94-2.06-.94 2.06-2.06.94z\"/><path d=\"M17.41 7.96l-1.37-1.37c-.4-.4-.92-.59-1.43-.59-.52 0-1.04.2-1.43.59L10.3 9.45l-7.72 7.72c-.78.78-.78 2.05 0 2.83L4 21.41c.39.39.9.59 1.41.59.51 0 1.02-.2 1.41-.59l7.78-7.78 2.81-2.81c.8-.78.8-2.07 0-2.86zM5.41 20L4 18.59l7.72-7.72 1.47 1.35L5.41 20z\"/>\n",
              "  </svg>\n",
              "      </button>\n",
              "      \n",
              "  <style>\n",
              "    .colab-df-container {\n",
              "      display:flex;\n",
              "      flex-wrap:wrap;\n",
              "      gap: 12px;\n",
              "    }\n",
              "\n",
              "    .colab-df-convert {\n",
              "      background-color: #E8F0FE;\n",
              "      border: none;\n",
              "      border-radius: 50%;\n",
              "      cursor: pointer;\n",
              "      display: none;\n",
              "      fill: #1967D2;\n",
              "      height: 32px;\n",
              "      padding: 0 0 0 0;\n",
              "      width: 32px;\n",
              "    }\n",
              "\n",
              "    .colab-df-convert:hover {\n",
              "      background-color: #E2EBFA;\n",
              "      box-shadow: 0px 1px 2px rgba(60, 64, 67, 0.3), 0px 1px 3px 1px rgba(60, 64, 67, 0.15);\n",
              "      fill: #174EA6;\n",
              "    }\n",
              "\n",
              "    [theme=dark] .colab-df-convert {\n",
              "      background-color: #3B4455;\n",
              "      fill: #D2E3FC;\n",
              "    }\n",
              "\n",
              "    [theme=dark] .colab-df-convert:hover {\n",
              "      background-color: #434B5C;\n",
              "      box-shadow: 0px 1px 3px 1px rgba(0, 0, 0, 0.15);\n",
              "      filter: drop-shadow(0px 1px 2px rgba(0, 0, 0, 0.3));\n",
              "      fill: #FFFFFF;\n",
              "    }\n",
              "  </style>\n",
              "\n",
              "      <script>\n",
              "        const buttonEl =\n",
              "          document.querySelector('#df-ec1a1072-9405-4ecd-90ad-3e7ac28c862b button.colab-df-convert');\n",
              "        buttonEl.style.display =\n",
              "          google.colab.kernel.accessAllowed ? 'block' : 'none';\n",
              "\n",
              "        async function convertToInteractive(key) {\n",
              "          const element = document.querySelector('#df-ec1a1072-9405-4ecd-90ad-3e7ac28c862b');\n",
              "          const dataTable =\n",
              "            await google.colab.kernel.invokeFunction('convertToInteractive',\n",
              "                                                     [key], {});\n",
              "          if (!dataTable) return;\n",
              "\n",
              "          const docLinkHtml = 'Like what you see? Visit the ' +\n",
              "            '<a target=\"_blank\" href=https://colab.research.google.com/notebooks/data_table.ipynb>data table notebook</a>'\n",
              "            + ' to learn more about interactive tables.';\n",
              "          element.innerHTML = '';\n",
              "          dataTable['output_type'] = 'display_data';\n",
              "          await google.colab.output.renderOutput(dataTable, element);\n",
              "          const docLink = document.createElement('div');\n",
              "          docLink.innerHTML = docLinkHtml;\n",
              "          element.appendChild(docLink);\n",
              "        }\n",
              "      </script>\n",
              "    </div>\n",
              "  </div>\n",
              "  "
            ]
          },
          "metadata": {},
          "execution_count": 343
        }
      ],
      "source": [
        "# а вот это остается нашим базовым информационным датафреймом\n",
        "grouped_df.head(10)"
      ]
    },
    {
      "cell_type": "markdown",
      "source": [
        "Вот в этом блоке мы должны соотнести наш цифровой номер cookie со строчным, для вывода ответов\n",
        "\n",
        "---"
      ],
      "metadata": {
        "id": "C4PdXK49zweT"
      }
    },
    {
      "cell_type": "markdown",
      "source": [
        "работаем на словарях"
      ],
      "metadata": {
        "id": "g8YThcNXABO2"
      }
    },
    {
      "cell_type": "code",
      "source": [
        "# кодируем числами все наши cookie_id\n",
        "codes = grouped_df.cookie_id.astype('category')\n",
        "# создаем словарик в котором ключ это код а значение текстовое поле cookie_id\n",
        "cookie_dic = dict(enumerate(codes.cat.categories))"
      ],
      "metadata": {
        "id": "-B8hptiR755e"
      },
      "execution_count": 344,
      "outputs": []
    },
    {
      "cell_type": "code",
      "source": [
        "# проверим мы его видели чуть выше\n",
        "print (cookie_dic[1])"
      ],
      "metadata": {
        "id": "2X81GTaKxhz5",
        "colab": {
          "base_uri": "https://localhost:8080/"
        },
        "outputId": "d89c60ae-f5e8-4463-cb7a-b73d8112a521"
      },
      "execution_count": 345,
      "outputs": [
        {
          "output_type": "stream",
          "name": "stdout",
          "text": [
            "0000d7508334414ca792c5ff66eb8c14\n"
          ]
        }
      ]
    },
    {
      "cell_type": "code",
      "source": [
        "# и создадим обратный словарик\n",
        "cookie_to_code = dict(zip(cookie_dic.values(), cookie_dic.keys()))"
      ],
      "metadata": {
        "id": "DHTqf1eq_cwp"
      },
      "execution_count": 346,
      "outputs": []
    },
    {
      "cell_type": "code",
      "source": [
        "# проверим корректрость раскодировки - все отлично\n",
        "print(cookie_to_code['0000d7508334414ca792c5ff66eb8c14'])"
      ],
      "metadata": {
        "colab": {
          "base_uri": "https://localhost:8080/"
        },
        "id": "IyTNzipJ_nwg",
        "outputId": "b2eeab96-40af-4bf4-f09b-92c9be6d5aa2"
      },
      "execution_count": 347,
      "outputs": [
        {
          "output_type": "stream",
          "name": "stdout",
          "text": [
            "1\n"
          ]
        }
      ]
    },
    {
      "cell_type": "markdown",
      "metadata": {
        "id": "Jc0UVS5ZQr3b"
      },
      "source": [
        "Создание разряженной матрицы\n",
        "\n",
        "---"
      ]
    },
    {
      "cell_type": "code",
      "source": [
        "# user/item spare matrix\n",
        "sparse_user_item = sparse.csr_matrix((matrix_data['eventStrength'].astype(float), (matrix_data['cookie_id_num'], matrix_data['vacancy_id_'])))"
      ],
      "metadata": {
        "id": "1zL0_0gl2UtW"
      },
      "execution_count": 348,
      "outputs": []
    },
    {
      "cell_type": "code",
      "source": [
        "# проверим размерности\n",
        "sparse_user_item.shape\n",
        "# стоит обратить внимание на то что размерность вакансий 260 168 - это потому что первых 100000 вакансий нет\n",
        "# если бы мы кодировали вкансии так же как устройства - то размерность бы была 160 168 что то такое"
      ],
      "metadata": {
        "colab": {
          "base_uri": "https://localhost:8080/"
        },
        "id": "HKPUacSfph2b",
        "outputId": "e07256dc-371e-45e1-8fc0-06a14db70f48"
      },
      "execution_count": 349,
      "outputs": [
        {
          "output_type": "execute_result",
          "data": {
            "text/plain": [
              "(330180, 260168)"
            ]
          },
          "metadata": {},
          "execution_count": 349
        }
      ]
    },
    {
      "cell_type": "code",
      "source": [
        "# ну и посмотрим что там внутри\n",
        "print(sparse_user_item[26])"
      ],
      "metadata": {
        "colab": {
          "base_uri": "https://localhost:8080/"
        },
        "id": "PoDQvuzqqCwm",
        "outputId": "df852493-7f6c-496d-8929-a7812de67979"
      },
      "execution_count": 350,
      "outputs": [
        {
          "output_type": "stream",
          "name": "stdout",
          "text": [
            "  (0, 104434)\t8.0\n",
            "  (0, 127795)\t8.0\n",
            "  (0, 147679)\t4.0\n",
            "  (0, 147697)\t2.0\n",
            "  (0, 159468)\t2.0\n",
            "  (0, 250423)\t2.0\n",
            "  (0, 258217)\t2.0\n",
            "  (0, 258758)\t2.0\n",
            "  (0, 258856)\t2.0\n"
          ]
        }
      ]
    },
    {
      "cell_type": "markdown",
      "metadata": {
        "id": "QLLdRhbEQr3c"
      },
      "source": [
        "# Обучение модели\n",
        "\n",
        "---"
      ]
    },
    {
      "cell_type": "markdown",
      "source": [
        "---\n",
        "На данном исследовательском этапе, мы подбирали значения гиперпараметров:\n",
        " - factors = 50,\n",
        " - regularization = 0.1,\n",
        " - iterations = 50\n",
        "\n",
        "---"
      ],
      "metadata": {
        "id": "OqG3hVsYvmbX"
      }
    },
    {
      "cell_type": "code",
      "source": [
        "# Объявляем модель\n",
        "model_user = implicit.als.AlternatingLeastSquares(factors=50, regularization=0.1, iterations=50)"
      ],
      "metadata": {
        "id": "V8FjDsJGtgWP"
      },
      "execution_count": 351,
      "outputs": []
    },
    {
      "cell_type": "markdown",
      "source": [
        "---\n",
        "Следующий исследовательский блок был связан с параметром альфа - он закомментирован в коде ниже. Этот парметр настраивает(как правило усиливает) отличия в силе взаимодействия. В нашей ситуации идеально подошло значение 2\n",
        "\n",
        "---"
      ],
      "metadata": {
        "id": "7bboh57qMnZY"
      }
    },
    {
      "cell_type": "markdown",
      "metadata": {
        "id": "Dq01uAzWQr3c"
      },
      "source": [
        "Обучаем модель пользователь - вакансия"
      ]
    },
    {
      "cell_type": "code",
      "source": [
        "# Настоим параметр альфа\n",
        "alpha = 2\n",
        "user_item_data = (sparse_user_item * alpha).astype('double')\n",
        "\n",
        "# обучаем модель на нашей матрице\n",
        "model_user.fit(user_item_data)"
      ],
      "metadata": {
        "colab": {
          "base_uri": "https://localhost:8080/",
          "height": 49,
          "referenced_widgets": [
            "4b9e6f37db9243e9aa0eb27d839389c9",
            "306ab7268d5f44d3b26ed79412262fb7",
            "638d140db74a44f88fa92cc51b18dbda",
            "e3b19ba2b1e94e068fc38ea15a951011",
            "144baeeddecb44cfa535e32b4d632887",
            "4c95aa23bf1d4bd697194d1d35cc1b8f",
            "6ea229bdb047425f8c55f24cc9a72238",
            "e307a52f85dd4b95b62416db3536ace3",
            "364ad1078f9e4a049da9eaf1f52639e8",
            "816f576712e94068855d829b18ed0120",
            "ea89e08400eb40d58f2cb6e52ca58d0b"
          ]
        },
        "id": "3ciYenW7uFWu",
        "outputId": "0981d4d4-54b1-4197-9e90-54421d5f7538"
      },
      "execution_count": 372,
      "outputs": [
        {
          "output_type": "display_data",
          "data": {
            "text/plain": [
              "  0%|          | 0/50 [00:00<?, ?it/s]"
            ],
            "application/vnd.jupyter.widget-view+json": {
              "version_major": 2,
              "version_minor": 0,
              "model_id": "4b9e6f37db9243e9aa0eb27d839389c9"
            }
          },
          "metadata": {}
        }
      ]
    },
    {
      "cell_type": "markdown",
      "source": [
        "# Переходим к предсказаниям по нашей задаче\n",
        "\n",
        "---"
      ],
      "metadata": {
        "id": "cvy50ldHIbE3"
      }
    },
    {
      "cell_type": "markdown",
      "source": [
        "Загружаем данные для предсказания"
      ],
      "metadata": {
        "id": "qoiaUX5WI9P2"
      }
    },
    {
      "cell_type": "code",
      "source": [
        "# Это набор номеров устройств для которых мы должны следать предсказания\n",
        "test = pd.read_parquet('/content/test_private_users_mfti.parquet', engine='pyarrow')"
      ],
      "metadata": {
        "id": "EIoXD13QIik6"
      },
      "execution_count": 377,
      "outputs": []
    },
    {
      "cell_type": "code",
      "source": [
        "test.head()"
      ],
      "metadata": {
        "colab": {
          "base_uri": "https://localhost:8080/",
          "height": 206
        },
        "id": "E858s3brKOym",
        "outputId": "a73cc97b-0bb7-4817-b46b-7d9a8fe748cb"
      },
      "execution_count": 378,
      "outputs": [
        {
          "output_type": "execute_result",
          "data": {
            "text/plain": [
              "                          cookie_id\n",
              "0  0018914ba3e54011b28fa715583d3354\n",
              "1  0035c298d8c64f368ae730a9cca9bb20\n",
              "2  00956458877448ec9fba87fb97443fdf\n",
              "3  0099387c921b41e7bae6c99dd8254b60\n",
              "4  009f65e8ae99413a8da94a491320580a"
            ],
            "text/html": [
              "\n",
              "  <div id=\"df-6e8a4a5a-af0d-4784-a995-0ca10143b9bb\">\n",
              "    <div class=\"colab-df-container\">\n",
              "      <div>\n",
              "<style scoped>\n",
              "    .dataframe tbody tr th:only-of-type {\n",
              "        vertical-align: middle;\n",
              "    }\n",
              "\n",
              "    .dataframe tbody tr th {\n",
              "        vertical-align: top;\n",
              "    }\n",
              "\n",
              "    .dataframe thead th {\n",
              "        text-align: right;\n",
              "    }\n",
              "</style>\n",
              "<table border=\"1\" class=\"dataframe\">\n",
              "  <thead>\n",
              "    <tr style=\"text-align: right;\">\n",
              "      <th></th>\n",
              "      <th>cookie_id</th>\n",
              "    </tr>\n",
              "  </thead>\n",
              "  <tbody>\n",
              "    <tr>\n",
              "      <th>0</th>\n",
              "      <td>0018914ba3e54011b28fa715583d3354</td>\n",
              "    </tr>\n",
              "    <tr>\n",
              "      <th>1</th>\n",
              "      <td>0035c298d8c64f368ae730a9cca9bb20</td>\n",
              "    </tr>\n",
              "    <tr>\n",
              "      <th>2</th>\n",
              "      <td>00956458877448ec9fba87fb97443fdf</td>\n",
              "    </tr>\n",
              "    <tr>\n",
              "      <th>3</th>\n",
              "      <td>0099387c921b41e7bae6c99dd8254b60</td>\n",
              "    </tr>\n",
              "    <tr>\n",
              "      <th>4</th>\n",
              "      <td>009f65e8ae99413a8da94a491320580a</td>\n",
              "    </tr>\n",
              "  </tbody>\n",
              "</table>\n",
              "</div>\n",
              "      <button class=\"colab-df-convert\" onclick=\"convertToInteractive('df-6e8a4a5a-af0d-4784-a995-0ca10143b9bb')\"\n",
              "              title=\"Convert this dataframe to an interactive table.\"\n",
              "              style=\"display:none;\">\n",
              "        \n",
              "  <svg xmlns=\"http://www.w3.org/2000/svg\" height=\"24px\"viewBox=\"0 0 24 24\"\n",
              "       width=\"24px\">\n",
              "    <path d=\"M0 0h24v24H0V0z\" fill=\"none\"/>\n",
              "    <path d=\"M18.56 5.44l.94 2.06.94-2.06 2.06-.94-2.06-.94-.94-2.06-.94 2.06-2.06.94zm-11 1L8.5 8.5l.94-2.06 2.06-.94-2.06-.94L8.5 2.5l-.94 2.06-2.06.94zm10 10l.94 2.06.94-2.06 2.06-.94-2.06-.94-.94-2.06-.94 2.06-2.06.94z\"/><path d=\"M17.41 7.96l-1.37-1.37c-.4-.4-.92-.59-1.43-.59-.52 0-1.04.2-1.43.59L10.3 9.45l-7.72 7.72c-.78.78-.78 2.05 0 2.83L4 21.41c.39.39.9.59 1.41.59.51 0 1.02-.2 1.41-.59l7.78-7.78 2.81-2.81c.8-.78.8-2.07 0-2.86zM5.41 20L4 18.59l7.72-7.72 1.47 1.35L5.41 20z\"/>\n",
              "  </svg>\n",
              "      </button>\n",
              "      \n",
              "  <style>\n",
              "    .colab-df-container {\n",
              "      display:flex;\n",
              "      flex-wrap:wrap;\n",
              "      gap: 12px;\n",
              "    }\n",
              "\n",
              "    .colab-df-convert {\n",
              "      background-color: #E8F0FE;\n",
              "      border: none;\n",
              "      border-radius: 50%;\n",
              "      cursor: pointer;\n",
              "      display: none;\n",
              "      fill: #1967D2;\n",
              "      height: 32px;\n",
              "      padding: 0 0 0 0;\n",
              "      width: 32px;\n",
              "    }\n",
              "\n",
              "    .colab-df-convert:hover {\n",
              "      background-color: #E2EBFA;\n",
              "      box-shadow: 0px 1px 2px rgba(60, 64, 67, 0.3), 0px 1px 3px 1px rgba(60, 64, 67, 0.15);\n",
              "      fill: #174EA6;\n",
              "    }\n",
              "\n",
              "    [theme=dark] .colab-df-convert {\n",
              "      background-color: #3B4455;\n",
              "      fill: #D2E3FC;\n",
              "    }\n",
              "\n",
              "    [theme=dark] .colab-df-convert:hover {\n",
              "      background-color: #434B5C;\n",
              "      box-shadow: 0px 1px 3px 1px rgba(0, 0, 0, 0.15);\n",
              "      filter: drop-shadow(0px 1px 2px rgba(0, 0, 0, 0.3));\n",
              "      fill: #FFFFFF;\n",
              "    }\n",
              "  </style>\n",
              "\n",
              "      <script>\n",
              "        const buttonEl =\n",
              "          document.querySelector('#df-6e8a4a5a-af0d-4784-a995-0ca10143b9bb button.colab-df-convert');\n",
              "        buttonEl.style.display =\n",
              "          google.colab.kernel.accessAllowed ? 'block' : 'none';\n",
              "\n",
              "        async function convertToInteractive(key) {\n",
              "          const element = document.querySelector('#df-6e8a4a5a-af0d-4784-a995-0ca10143b9bb');\n",
              "          const dataTable =\n",
              "            await google.colab.kernel.invokeFunction('convertToInteractive',\n",
              "                                                     [key], {});\n",
              "          if (!dataTable) return;\n",
              "\n",
              "          const docLinkHtml = 'Like what you see? Visit the ' +\n",
              "            '<a target=\"_blank\" href=https://colab.research.google.com/notebooks/data_table.ipynb>data table notebook</a>'\n",
              "            + ' to learn more about interactive tables.';\n",
              "          element.innerHTML = '';\n",
              "          dataTable['output_type'] = 'display_data';\n",
              "          await google.colab.output.renderOutput(dataTable, element);\n",
              "          const docLink = document.createElement('div');\n",
              "          docLink.innerHTML = docLinkHtml;\n",
              "          element.appendChild(docLink);\n",
              "        }\n",
              "      </script>\n",
              "    </div>\n",
              "  </div>\n",
              "  "
            ]
          },
          "metadata": {},
          "execution_count": 378
        }
      ]
    },
    {
      "cell_type": "code",
      "source": [
        "# получаем для них столбец с номерными вариантами cookie как мы это закодировали ранее\n",
        "test['cookie_id_num'] = test['cookie_id'].map(cookie_to_code)"
      ],
      "metadata": {
        "id": "wMksKmWdIiiF"
      },
      "execution_count": 379,
      "outputs": []
    },
    {
      "cell_type": "code",
      "source": [
        "test.head()"
      ],
      "metadata": {
        "colab": {
          "base_uri": "https://localhost:8080/",
          "height": 206
        },
        "id": "nxwGjExbIifV",
        "outputId": "169fca97-3107-4c72-b222-978c18336658"
      },
      "execution_count": 380,
      "outputs": [
        {
          "output_type": "execute_result",
          "data": {
            "text/plain": [
              "                          cookie_id  cookie_id_num\n",
              "0  0018914ba3e54011b28fa715583d3354            109\n",
              "1  0035c298d8c64f368ae730a9cca9bb20            275\n",
              "2  00956458877448ec9fba87fb97443fdf            722\n",
              "3  0099387c921b41e7bae6c99dd8254b60            739\n",
              "4  009f65e8ae99413a8da94a491320580a            766"
            ],
            "text/html": [
              "\n",
              "  <div id=\"df-af0278b9-68f3-4b6e-bb73-52a96df86c96\">\n",
              "    <div class=\"colab-df-container\">\n",
              "      <div>\n",
              "<style scoped>\n",
              "    .dataframe tbody tr th:only-of-type {\n",
              "        vertical-align: middle;\n",
              "    }\n",
              "\n",
              "    .dataframe tbody tr th {\n",
              "        vertical-align: top;\n",
              "    }\n",
              "\n",
              "    .dataframe thead th {\n",
              "        text-align: right;\n",
              "    }\n",
              "</style>\n",
              "<table border=\"1\" class=\"dataframe\">\n",
              "  <thead>\n",
              "    <tr style=\"text-align: right;\">\n",
              "      <th></th>\n",
              "      <th>cookie_id</th>\n",
              "      <th>cookie_id_num</th>\n",
              "    </tr>\n",
              "  </thead>\n",
              "  <tbody>\n",
              "    <tr>\n",
              "      <th>0</th>\n",
              "      <td>0018914ba3e54011b28fa715583d3354</td>\n",
              "      <td>109</td>\n",
              "    </tr>\n",
              "    <tr>\n",
              "      <th>1</th>\n",
              "      <td>0035c298d8c64f368ae730a9cca9bb20</td>\n",
              "      <td>275</td>\n",
              "    </tr>\n",
              "    <tr>\n",
              "      <th>2</th>\n",
              "      <td>00956458877448ec9fba87fb97443fdf</td>\n",
              "      <td>722</td>\n",
              "    </tr>\n",
              "    <tr>\n",
              "      <th>3</th>\n",
              "      <td>0099387c921b41e7bae6c99dd8254b60</td>\n",
              "      <td>739</td>\n",
              "    </tr>\n",
              "    <tr>\n",
              "      <th>4</th>\n",
              "      <td>009f65e8ae99413a8da94a491320580a</td>\n",
              "      <td>766</td>\n",
              "    </tr>\n",
              "  </tbody>\n",
              "</table>\n",
              "</div>\n",
              "      <button class=\"colab-df-convert\" onclick=\"convertToInteractive('df-af0278b9-68f3-4b6e-bb73-52a96df86c96')\"\n",
              "              title=\"Convert this dataframe to an interactive table.\"\n",
              "              style=\"display:none;\">\n",
              "        \n",
              "  <svg xmlns=\"http://www.w3.org/2000/svg\" height=\"24px\"viewBox=\"0 0 24 24\"\n",
              "       width=\"24px\">\n",
              "    <path d=\"M0 0h24v24H0V0z\" fill=\"none\"/>\n",
              "    <path d=\"M18.56 5.44l.94 2.06.94-2.06 2.06-.94-2.06-.94-.94-2.06-.94 2.06-2.06.94zm-11 1L8.5 8.5l.94-2.06 2.06-.94-2.06-.94L8.5 2.5l-.94 2.06-2.06.94zm10 10l.94 2.06.94-2.06 2.06-.94-2.06-.94-.94-2.06-.94 2.06-2.06.94z\"/><path d=\"M17.41 7.96l-1.37-1.37c-.4-.4-.92-.59-1.43-.59-.52 0-1.04.2-1.43.59L10.3 9.45l-7.72 7.72c-.78.78-.78 2.05 0 2.83L4 21.41c.39.39.9.59 1.41.59.51 0 1.02-.2 1.41-.59l7.78-7.78 2.81-2.81c.8-.78.8-2.07 0-2.86zM5.41 20L4 18.59l7.72-7.72 1.47 1.35L5.41 20z\"/>\n",
              "  </svg>\n",
              "      </button>\n",
              "      \n",
              "  <style>\n",
              "    .colab-df-container {\n",
              "      display:flex;\n",
              "      flex-wrap:wrap;\n",
              "      gap: 12px;\n",
              "    }\n",
              "\n",
              "    .colab-df-convert {\n",
              "      background-color: #E8F0FE;\n",
              "      border: none;\n",
              "      border-radius: 50%;\n",
              "      cursor: pointer;\n",
              "      display: none;\n",
              "      fill: #1967D2;\n",
              "      height: 32px;\n",
              "      padding: 0 0 0 0;\n",
              "      width: 32px;\n",
              "    }\n",
              "\n",
              "    .colab-df-convert:hover {\n",
              "      background-color: #E2EBFA;\n",
              "      box-shadow: 0px 1px 2px rgba(60, 64, 67, 0.3), 0px 1px 3px 1px rgba(60, 64, 67, 0.15);\n",
              "      fill: #174EA6;\n",
              "    }\n",
              "\n",
              "    [theme=dark] .colab-df-convert {\n",
              "      background-color: #3B4455;\n",
              "      fill: #D2E3FC;\n",
              "    }\n",
              "\n",
              "    [theme=dark] .colab-df-convert:hover {\n",
              "      background-color: #434B5C;\n",
              "      box-shadow: 0px 1px 3px 1px rgba(0, 0, 0, 0.15);\n",
              "      filter: drop-shadow(0px 1px 2px rgba(0, 0, 0, 0.3));\n",
              "      fill: #FFFFFF;\n",
              "    }\n",
              "  </style>\n",
              "\n",
              "      <script>\n",
              "        const buttonEl =\n",
              "          document.querySelector('#df-af0278b9-68f3-4b6e-bb73-52a96df86c96 button.colab-df-convert');\n",
              "        buttonEl.style.display =\n",
              "          google.colab.kernel.accessAllowed ? 'block' : 'none';\n",
              "\n",
              "        async function convertToInteractive(key) {\n",
              "          const element = document.querySelector('#df-af0278b9-68f3-4b6e-bb73-52a96df86c96');\n",
              "          const dataTable =\n",
              "            await google.colab.kernel.invokeFunction('convertToInteractive',\n",
              "                                                     [key], {});\n",
              "          if (!dataTable) return;\n",
              "\n",
              "          const docLinkHtml = 'Like what you see? Visit the ' +\n",
              "            '<a target=\"_blank\" href=https://colab.research.google.com/notebooks/data_table.ipynb>data table notebook</a>'\n",
              "            + ' to learn more about interactive tables.';\n",
              "          element.innerHTML = '';\n",
              "          dataTable['output_type'] = 'display_data';\n",
              "          await google.colab.output.renderOutput(dataTable, element);\n",
              "          const docLink = document.createElement('div');\n",
              "          docLink.innerHTML = docLinkHtml;\n",
              "          element.appendChild(docLink);\n",
              "        }\n",
              "      </script>\n",
              "    </div>\n",
              "  </div>\n",
              "  "
            ]
          },
          "metadata": {},
          "execution_count": 380
        }
      ]
    },
    {
      "cell_type": "code",
      "source": [
        "# проверим перевод в коды на правильность\n",
        "print(cookie_to_code['0018914ba3e54011b28fa715583d3354'])\n",
        "print(cookie_to_code['0035c298d8c64f368ae730a9cca9bb20'])\n",
        "print(cookie_to_code['0099387c921b41e7bae6c99dd8254b60'])"
      ],
      "metadata": {
        "colab": {
          "base_uri": "https://localhost:8080/"
        },
        "id": "IFsX0PvXKuD-",
        "outputId": "125469c6-7dcd-40fd-d1f8-92201f4836c3"
      },
      "execution_count": 381,
      "outputs": [
        {
          "output_type": "stream",
          "name": "stdout",
          "text": [
            "109\n",
            "275\n",
            "739\n"
          ]
        }
      ]
    },
    {
      "cell_type": "code",
      "source": [
        "# получаем из датафрейма список пользователей, которых мы загрузим в модель\n",
        "test_list = list(test['cookie_id_num'])\n",
        "test_list_str = list(test['cookie_id'])\n",
        "print(test_list[:5])\n",
        "print(test_list_str[:5])"
      ],
      "metadata": {
        "colab": {
          "base_uri": "https://localhost:8080/"
        },
        "id": "sKItjYCmKuA-",
        "outputId": "26c9603f-b434-42c5-ba9a-9bd1ccc14ced"
      },
      "execution_count": 382,
      "outputs": [
        {
          "output_type": "stream",
          "name": "stdout",
          "text": [
            "[109, 275, 722, 739, 766]\n",
            "['0018914ba3e54011b28fa715583d3354', '0035c298d8c64f368ae730a9cca9bb20', '00956458877448ec9fba87fb97443fdf', '0099387c921b41e7bae6c99dd8254b60', '009f65e8ae99413a8da94a491320580a']\n"
          ]
        }
      ]
    },
    {
      "cell_type": "markdown",
      "source": [
        "Вот в тут происходит получение предсказания и его вывод\n",
        "\n",
        "---"
      ],
      "metadata": {
        "id": "exgI3LGP9UcB"
      }
    },
    {
      "cell_type": "code",
      "source": [
        "# Ячейка поличения предсказаний, загружаем в модель полученный список кодов пользоватлей \n",
        "userids = test_list\n",
        "ids, scores = model_user.recommend(userids, user_item_data[userids], N=5, filter_already_liked_items=True)"
      ],
      "metadata": {
        "id": "LDMAaVmWLQeW"
      },
      "execution_count": 383,
      "outputs": []
    },
    {
      "cell_type": "code",
      "source": [
        "# а вот тут мы делаем хитро в первую колонку записываем строковые имена пользователей, а в список рекомендаций полученные предсказания\n",
        "test_prediction = pd.DataFrame({'cookie_id' : test_list_str, 'predictions' : list(ids)})"
      ],
      "metadata": {
        "id": "zYB9e33yLk3H"
      },
      "execution_count": 388,
      "outputs": []
    },
    {
      "cell_type": "code",
      "source": [
        "# посмотрим что получилось (выглядит красиво как и требуется)\n",
        "test_prediction.head()"
      ],
      "metadata": {
        "colab": {
          "base_uri": "https://localhost:8080/",
          "height": 206
        },
        "id": "r8kvDbkzMntu",
        "outputId": "acebbe09-fba3-47cb-bfcb-2750128f885a"
      },
      "execution_count": 389,
      "outputs": [
        {
          "output_type": "execute_result",
          "data": {
            "text/plain": [
              "                          cookie_id                               predictions\n",
              "0  0018914ba3e54011b28fa715583d3354  [253946, 208761, 182382, 253817, 137702]\n",
              "1  0035c298d8c64f368ae730a9cca9bb20  [135430, 138123, 254514, 109360, 260154]\n",
              "2  00956458877448ec9fba87fb97443fdf  [260154, 253678, 116900, 246285, 171332]\n",
              "3  0099387c921b41e7bae6c99dd8254b60  [173337, 207423, 197407, 204473, 167761]\n",
              "4  009f65e8ae99413a8da94a491320580a  [138123, 120188, 150516, 148686, 193142]"
            ],
            "text/html": [
              "\n",
              "  <div id=\"df-a8010353-76ab-44b1-a488-e8d999433c35\">\n",
              "    <div class=\"colab-df-container\">\n",
              "      <div>\n",
              "<style scoped>\n",
              "    .dataframe tbody tr th:only-of-type {\n",
              "        vertical-align: middle;\n",
              "    }\n",
              "\n",
              "    .dataframe tbody tr th {\n",
              "        vertical-align: top;\n",
              "    }\n",
              "\n",
              "    .dataframe thead th {\n",
              "        text-align: right;\n",
              "    }\n",
              "</style>\n",
              "<table border=\"1\" class=\"dataframe\">\n",
              "  <thead>\n",
              "    <tr style=\"text-align: right;\">\n",
              "      <th></th>\n",
              "      <th>cookie_id</th>\n",
              "      <th>predictions</th>\n",
              "    </tr>\n",
              "  </thead>\n",
              "  <tbody>\n",
              "    <tr>\n",
              "      <th>0</th>\n",
              "      <td>0018914ba3e54011b28fa715583d3354</td>\n",
              "      <td>[253946, 208761, 182382, 253817, 137702]</td>\n",
              "    </tr>\n",
              "    <tr>\n",
              "      <th>1</th>\n",
              "      <td>0035c298d8c64f368ae730a9cca9bb20</td>\n",
              "      <td>[135430, 138123, 254514, 109360, 260154]</td>\n",
              "    </tr>\n",
              "    <tr>\n",
              "      <th>2</th>\n",
              "      <td>00956458877448ec9fba87fb97443fdf</td>\n",
              "      <td>[260154, 253678, 116900, 246285, 171332]</td>\n",
              "    </tr>\n",
              "    <tr>\n",
              "      <th>3</th>\n",
              "      <td>0099387c921b41e7bae6c99dd8254b60</td>\n",
              "      <td>[173337, 207423, 197407, 204473, 167761]</td>\n",
              "    </tr>\n",
              "    <tr>\n",
              "      <th>4</th>\n",
              "      <td>009f65e8ae99413a8da94a491320580a</td>\n",
              "      <td>[138123, 120188, 150516, 148686, 193142]</td>\n",
              "    </tr>\n",
              "  </tbody>\n",
              "</table>\n",
              "</div>\n",
              "      <button class=\"colab-df-convert\" onclick=\"convertToInteractive('df-a8010353-76ab-44b1-a488-e8d999433c35')\"\n",
              "              title=\"Convert this dataframe to an interactive table.\"\n",
              "              style=\"display:none;\">\n",
              "        \n",
              "  <svg xmlns=\"http://www.w3.org/2000/svg\" height=\"24px\"viewBox=\"0 0 24 24\"\n",
              "       width=\"24px\">\n",
              "    <path d=\"M0 0h24v24H0V0z\" fill=\"none\"/>\n",
              "    <path d=\"M18.56 5.44l.94 2.06.94-2.06 2.06-.94-2.06-.94-.94-2.06-.94 2.06-2.06.94zm-11 1L8.5 8.5l.94-2.06 2.06-.94-2.06-.94L8.5 2.5l-.94 2.06-2.06.94zm10 10l.94 2.06.94-2.06 2.06-.94-2.06-.94-.94-2.06-.94 2.06-2.06.94z\"/><path d=\"M17.41 7.96l-1.37-1.37c-.4-.4-.92-.59-1.43-.59-.52 0-1.04.2-1.43.59L10.3 9.45l-7.72 7.72c-.78.78-.78 2.05 0 2.83L4 21.41c.39.39.9.59 1.41.59.51 0 1.02-.2 1.41-.59l7.78-7.78 2.81-2.81c.8-.78.8-2.07 0-2.86zM5.41 20L4 18.59l7.72-7.72 1.47 1.35L5.41 20z\"/>\n",
              "  </svg>\n",
              "      </button>\n",
              "      \n",
              "  <style>\n",
              "    .colab-df-container {\n",
              "      display:flex;\n",
              "      flex-wrap:wrap;\n",
              "      gap: 12px;\n",
              "    }\n",
              "\n",
              "    .colab-df-convert {\n",
              "      background-color: #E8F0FE;\n",
              "      border: none;\n",
              "      border-radius: 50%;\n",
              "      cursor: pointer;\n",
              "      display: none;\n",
              "      fill: #1967D2;\n",
              "      height: 32px;\n",
              "      padding: 0 0 0 0;\n",
              "      width: 32px;\n",
              "    }\n",
              "\n",
              "    .colab-df-convert:hover {\n",
              "      background-color: #E2EBFA;\n",
              "      box-shadow: 0px 1px 2px rgba(60, 64, 67, 0.3), 0px 1px 3px 1px rgba(60, 64, 67, 0.15);\n",
              "      fill: #174EA6;\n",
              "    }\n",
              "\n",
              "    [theme=dark] .colab-df-convert {\n",
              "      background-color: #3B4455;\n",
              "      fill: #D2E3FC;\n",
              "    }\n",
              "\n",
              "    [theme=dark] .colab-df-convert:hover {\n",
              "      background-color: #434B5C;\n",
              "      box-shadow: 0px 1px 3px 1px rgba(0, 0, 0, 0.15);\n",
              "      filter: drop-shadow(0px 1px 2px rgba(0, 0, 0, 0.3));\n",
              "      fill: #FFFFFF;\n",
              "    }\n",
              "  </style>\n",
              "\n",
              "      <script>\n",
              "        const buttonEl =\n",
              "          document.querySelector('#df-a8010353-76ab-44b1-a488-e8d999433c35 button.colab-df-convert');\n",
              "        buttonEl.style.display =\n",
              "          google.colab.kernel.accessAllowed ? 'block' : 'none';\n",
              "\n",
              "        async function convertToInteractive(key) {\n",
              "          const element = document.querySelector('#df-a8010353-76ab-44b1-a488-e8d999433c35');\n",
              "          const dataTable =\n",
              "            await google.colab.kernel.invokeFunction('convertToInteractive',\n",
              "                                                     [key], {});\n",
              "          if (!dataTable) return;\n",
              "\n",
              "          const docLinkHtml = 'Like what you see? Visit the ' +\n",
              "            '<a target=\"_blank\" href=https://colab.research.google.com/notebooks/data_table.ipynb>data table notebook</a>'\n",
              "            + ' to learn more about interactive tables.';\n",
              "          element.innerHTML = '';\n",
              "          dataTable['output_type'] = 'display_data';\n",
              "          await google.colab.output.renderOutput(dataTable, element);\n",
              "          const docLink = document.createElement('div');\n",
              "          docLink.innerHTML = docLinkHtml;\n",
              "          element.appendChild(docLink);\n",
              "        }\n",
              "      </script>\n",
              "    </div>\n",
              "  </div>\n",
              "  "
            ]
          },
          "metadata": {},
          "execution_count": 389
        }
      ]
    },
    {
      "cell_type": "code",
      "source": [
        "# Сверим то что мы полчили с образцом \n",
        "test_sample = pd.read_parquet('/content/test_private_sample_submission_mfti.parquet', engine='pyarrow')"
      ],
      "metadata": {
        "id": "xfZ5R9JgMwOD"
      },
      "execution_count": 386,
      "outputs": []
    },
    {
      "cell_type": "code",
      "source": [
        "# один в один\n",
        "test_sample.head()"
      ],
      "metadata": {
        "colab": {
          "base_uri": "https://localhost:8080/",
          "height": 206
        },
        "id": "1KCMoqTUMwLm",
        "outputId": "9448bdf1-831a-4dc4-837c-70f7b71cbc4d"
      },
      "execution_count": 387,
      "outputs": [
        {
          "output_type": "execute_result",
          "data": {
            "text/plain": [
              "                          cookie_id                               predictions\n",
              "0  0018914ba3e54011b28fa715583d3354  [100100, 100101, 100102, 100103, 100104]\n",
              "1  0035c298d8c64f368ae730a9cca9bb20  [100100, 100101, 100102, 100103, 100104]\n",
              "2  00956458877448ec9fba87fb97443fdf  [100100, 100101, 100102, 100103, 100104]\n",
              "3  0099387c921b41e7bae6c99dd8254b60  [100100, 100101, 100102, 100103, 100104]\n",
              "4  009f65e8ae99413a8da94a491320580a  [100100, 100101, 100102, 100103, 100104]"
            ],
            "text/html": [
              "\n",
              "  <div id=\"df-9f52e50d-ada6-46e4-8724-f3eedd167ce5\">\n",
              "    <div class=\"colab-df-container\">\n",
              "      <div>\n",
              "<style scoped>\n",
              "    .dataframe tbody tr th:only-of-type {\n",
              "        vertical-align: middle;\n",
              "    }\n",
              "\n",
              "    .dataframe tbody tr th {\n",
              "        vertical-align: top;\n",
              "    }\n",
              "\n",
              "    .dataframe thead th {\n",
              "        text-align: right;\n",
              "    }\n",
              "</style>\n",
              "<table border=\"1\" class=\"dataframe\">\n",
              "  <thead>\n",
              "    <tr style=\"text-align: right;\">\n",
              "      <th></th>\n",
              "      <th>cookie_id</th>\n",
              "      <th>predictions</th>\n",
              "    </tr>\n",
              "  </thead>\n",
              "  <tbody>\n",
              "    <tr>\n",
              "      <th>0</th>\n",
              "      <td>0018914ba3e54011b28fa715583d3354</td>\n",
              "      <td>[100100, 100101, 100102, 100103, 100104]</td>\n",
              "    </tr>\n",
              "    <tr>\n",
              "      <th>1</th>\n",
              "      <td>0035c298d8c64f368ae730a9cca9bb20</td>\n",
              "      <td>[100100, 100101, 100102, 100103, 100104]</td>\n",
              "    </tr>\n",
              "    <tr>\n",
              "      <th>2</th>\n",
              "      <td>00956458877448ec9fba87fb97443fdf</td>\n",
              "      <td>[100100, 100101, 100102, 100103, 100104]</td>\n",
              "    </tr>\n",
              "    <tr>\n",
              "      <th>3</th>\n",
              "      <td>0099387c921b41e7bae6c99dd8254b60</td>\n",
              "      <td>[100100, 100101, 100102, 100103, 100104]</td>\n",
              "    </tr>\n",
              "    <tr>\n",
              "      <th>4</th>\n",
              "      <td>009f65e8ae99413a8da94a491320580a</td>\n",
              "      <td>[100100, 100101, 100102, 100103, 100104]</td>\n",
              "    </tr>\n",
              "  </tbody>\n",
              "</table>\n",
              "</div>\n",
              "      <button class=\"colab-df-convert\" onclick=\"convertToInteractive('df-9f52e50d-ada6-46e4-8724-f3eedd167ce5')\"\n",
              "              title=\"Convert this dataframe to an interactive table.\"\n",
              "              style=\"display:none;\">\n",
              "        \n",
              "  <svg xmlns=\"http://www.w3.org/2000/svg\" height=\"24px\"viewBox=\"0 0 24 24\"\n",
              "       width=\"24px\">\n",
              "    <path d=\"M0 0h24v24H0V0z\" fill=\"none\"/>\n",
              "    <path d=\"M18.56 5.44l.94 2.06.94-2.06 2.06-.94-2.06-.94-.94-2.06-.94 2.06-2.06.94zm-11 1L8.5 8.5l.94-2.06 2.06-.94-2.06-.94L8.5 2.5l-.94 2.06-2.06.94zm10 10l.94 2.06.94-2.06 2.06-.94-2.06-.94-.94-2.06-.94 2.06-2.06.94z\"/><path d=\"M17.41 7.96l-1.37-1.37c-.4-.4-.92-.59-1.43-.59-.52 0-1.04.2-1.43.59L10.3 9.45l-7.72 7.72c-.78.78-.78 2.05 0 2.83L4 21.41c.39.39.9.59 1.41.59.51 0 1.02-.2 1.41-.59l7.78-7.78 2.81-2.81c.8-.78.8-2.07 0-2.86zM5.41 20L4 18.59l7.72-7.72 1.47 1.35L5.41 20z\"/>\n",
              "  </svg>\n",
              "      </button>\n",
              "      \n",
              "  <style>\n",
              "    .colab-df-container {\n",
              "      display:flex;\n",
              "      flex-wrap:wrap;\n",
              "      gap: 12px;\n",
              "    }\n",
              "\n",
              "    .colab-df-convert {\n",
              "      background-color: #E8F0FE;\n",
              "      border: none;\n",
              "      border-radius: 50%;\n",
              "      cursor: pointer;\n",
              "      display: none;\n",
              "      fill: #1967D2;\n",
              "      height: 32px;\n",
              "      padding: 0 0 0 0;\n",
              "      width: 32px;\n",
              "    }\n",
              "\n",
              "    .colab-df-convert:hover {\n",
              "      background-color: #E2EBFA;\n",
              "      box-shadow: 0px 1px 2px rgba(60, 64, 67, 0.3), 0px 1px 3px 1px rgba(60, 64, 67, 0.15);\n",
              "      fill: #174EA6;\n",
              "    }\n",
              "\n",
              "    [theme=dark] .colab-df-convert {\n",
              "      background-color: #3B4455;\n",
              "      fill: #D2E3FC;\n",
              "    }\n",
              "\n",
              "    [theme=dark] .colab-df-convert:hover {\n",
              "      background-color: #434B5C;\n",
              "      box-shadow: 0px 1px 3px 1px rgba(0, 0, 0, 0.15);\n",
              "      filter: drop-shadow(0px 1px 2px rgba(0, 0, 0, 0.3));\n",
              "      fill: #FFFFFF;\n",
              "    }\n",
              "  </style>\n",
              "\n",
              "      <script>\n",
              "        const buttonEl =\n",
              "          document.querySelector('#df-9f52e50d-ada6-46e4-8724-f3eedd167ce5 button.colab-df-convert');\n",
              "        buttonEl.style.display =\n",
              "          google.colab.kernel.accessAllowed ? 'block' : 'none';\n",
              "\n",
              "        async function convertToInteractive(key) {\n",
              "          const element = document.querySelector('#df-9f52e50d-ada6-46e4-8724-f3eedd167ce5');\n",
              "          const dataTable =\n",
              "            await google.colab.kernel.invokeFunction('convertToInteractive',\n",
              "                                                     [key], {});\n",
              "          if (!dataTable) return;\n",
              "\n",
              "          const docLinkHtml = 'Like what you see? Visit the ' +\n",
              "            '<a target=\"_blank\" href=https://colab.research.google.com/notebooks/data_table.ipynb>data table notebook</a>'\n",
              "            + ' to learn more about interactive tables.';\n",
              "          element.innerHTML = '';\n",
              "          dataTable['output_type'] = 'display_data';\n",
              "          await google.colab.output.renderOutput(dataTable, element);\n",
              "          const docLink = document.createElement('div');\n",
              "          docLink.innerHTML = docLinkHtml;\n",
              "          element.appendChild(docLink);\n",
              "        }\n",
              "      </script>\n",
              "    </div>\n",
              "  </div>\n",
              "  "
            ]
          },
          "metadata": {},
          "execution_count": 387
        }
      ]
    },
    {
      "cell_type": "code",
      "source": [
        "# запишем наш результат в файл\n",
        "test_prediction.to_parquet('our_test_private_sample_submission_mfti.parquet')"
      ],
      "metadata": {
        "id": "HPG6Fg_pMwIJ"
      },
      "execution_count": 391,
      "outputs": []
    },
    {
      "cell_type": "code",
      "source": [
        "# проверим файл с ответом, который мы сохранили\n",
        "answer = pd.read_parquet('/content/our_test_private_sample_submission_mfti.parquet', engine='pyarrow')"
      ],
      "metadata": {
        "id": "Ru6miZfgRMhP"
      },
      "execution_count": 393,
      "outputs": []
    },
    {
      "cell_type": "code",
      "source": [
        "answer.head()"
      ],
      "metadata": {
        "colab": {
          "base_uri": "https://localhost:8080/",
          "height": 206
        },
        "id": "ZvVuaEswRUvI",
        "outputId": "2a48ab1c-2335-497d-c2a2-607dfe436557"
      },
      "execution_count": 394,
      "outputs": [
        {
          "output_type": "execute_result",
          "data": {
            "text/plain": [
              "                          cookie_id                               predictions\n",
              "0  0018914ba3e54011b28fa715583d3354  [253946, 208761, 182382, 253817, 137702]\n",
              "1  0035c298d8c64f368ae730a9cca9bb20  [135430, 138123, 254514, 109360, 260154]\n",
              "2  00956458877448ec9fba87fb97443fdf  [260154, 253678, 116900, 246285, 171332]\n",
              "3  0099387c921b41e7bae6c99dd8254b60  [173337, 207423, 197407, 204473, 167761]\n",
              "4  009f65e8ae99413a8da94a491320580a  [138123, 120188, 150516, 148686, 193142]"
            ],
            "text/html": [
              "\n",
              "  <div id=\"df-867a9133-6962-411f-8557-30ed44f5beae\">\n",
              "    <div class=\"colab-df-container\">\n",
              "      <div>\n",
              "<style scoped>\n",
              "    .dataframe tbody tr th:only-of-type {\n",
              "        vertical-align: middle;\n",
              "    }\n",
              "\n",
              "    .dataframe tbody tr th {\n",
              "        vertical-align: top;\n",
              "    }\n",
              "\n",
              "    .dataframe thead th {\n",
              "        text-align: right;\n",
              "    }\n",
              "</style>\n",
              "<table border=\"1\" class=\"dataframe\">\n",
              "  <thead>\n",
              "    <tr style=\"text-align: right;\">\n",
              "      <th></th>\n",
              "      <th>cookie_id</th>\n",
              "      <th>predictions</th>\n",
              "    </tr>\n",
              "  </thead>\n",
              "  <tbody>\n",
              "    <tr>\n",
              "      <th>0</th>\n",
              "      <td>0018914ba3e54011b28fa715583d3354</td>\n",
              "      <td>[253946, 208761, 182382, 253817, 137702]</td>\n",
              "    </tr>\n",
              "    <tr>\n",
              "      <th>1</th>\n",
              "      <td>0035c298d8c64f368ae730a9cca9bb20</td>\n",
              "      <td>[135430, 138123, 254514, 109360, 260154]</td>\n",
              "    </tr>\n",
              "    <tr>\n",
              "      <th>2</th>\n",
              "      <td>00956458877448ec9fba87fb97443fdf</td>\n",
              "      <td>[260154, 253678, 116900, 246285, 171332]</td>\n",
              "    </tr>\n",
              "    <tr>\n",
              "      <th>3</th>\n",
              "      <td>0099387c921b41e7bae6c99dd8254b60</td>\n",
              "      <td>[173337, 207423, 197407, 204473, 167761]</td>\n",
              "    </tr>\n",
              "    <tr>\n",
              "      <th>4</th>\n",
              "      <td>009f65e8ae99413a8da94a491320580a</td>\n",
              "      <td>[138123, 120188, 150516, 148686, 193142]</td>\n",
              "    </tr>\n",
              "  </tbody>\n",
              "</table>\n",
              "</div>\n",
              "      <button class=\"colab-df-convert\" onclick=\"convertToInteractive('df-867a9133-6962-411f-8557-30ed44f5beae')\"\n",
              "              title=\"Convert this dataframe to an interactive table.\"\n",
              "              style=\"display:none;\">\n",
              "        \n",
              "  <svg xmlns=\"http://www.w3.org/2000/svg\" height=\"24px\"viewBox=\"0 0 24 24\"\n",
              "       width=\"24px\">\n",
              "    <path d=\"M0 0h24v24H0V0z\" fill=\"none\"/>\n",
              "    <path d=\"M18.56 5.44l.94 2.06.94-2.06 2.06-.94-2.06-.94-.94-2.06-.94 2.06-2.06.94zm-11 1L8.5 8.5l.94-2.06 2.06-.94-2.06-.94L8.5 2.5l-.94 2.06-2.06.94zm10 10l.94 2.06.94-2.06 2.06-.94-2.06-.94-.94-2.06-.94 2.06-2.06.94z\"/><path d=\"M17.41 7.96l-1.37-1.37c-.4-.4-.92-.59-1.43-.59-.52 0-1.04.2-1.43.59L10.3 9.45l-7.72 7.72c-.78.78-.78 2.05 0 2.83L4 21.41c.39.39.9.59 1.41.59.51 0 1.02-.2 1.41-.59l7.78-7.78 2.81-2.81c.8-.78.8-2.07 0-2.86zM5.41 20L4 18.59l7.72-7.72 1.47 1.35L5.41 20z\"/>\n",
              "  </svg>\n",
              "      </button>\n",
              "      \n",
              "  <style>\n",
              "    .colab-df-container {\n",
              "      display:flex;\n",
              "      flex-wrap:wrap;\n",
              "      gap: 12px;\n",
              "    }\n",
              "\n",
              "    .colab-df-convert {\n",
              "      background-color: #E8F0FE;\n",
              "      border: none;\n",
              "      border-radius: 50%;\n",
              "      cursor: pointer;\n",
              "      display: none;\n",
              "      fill: #1967D2;\n",
              "      height: 32px;\n",
              "      padding: 0 0 0 0;\n",
              "      width: 32px;\n",
              "    }\n",
              "\n",
              "    .colab-df-convert:hover {\n",
              "      background-color: #E2EBFA;\n",
              "      box-shadow: 0px 1px 2px rgba(60, 64, 67, 0.3), 0px 1px 3px 1px rgba(60, 64, 67, 0.15);\n",
              "      fill: #174EA6;\n",
              "    }\n",
              "\n",
              "    [theme=dark] .colab-df-convert {\n",
              "      background-color: #3B4455;\n",
              "      fill: #D2E3FC;\n",
              "    }\n",
              "\n",
              "    [theme=dark] .colab-df-convert:hover {\n",
              "      background-color: #434B5C;\n",
              "      box-shadow: 0px 1px 3px 1px rgba(0, 0, 0, 0.15);\n",
              "      filter: drop-shadow(0px 1px 2px rgba(0, 0, 0, 0.3));\n",
              "      fill: #FFFFFF;\n",
              "    }\n",
              "  </style>\n",
              "\n",
              "      <script>\n",
              "        const buttonEl =\n",
              "          document.querySelector('#df-867a9133-6962-411f-8557-30ed44f5beae button.colab-df-convert');\n",
              "        buttonEl.style.display =\n",
              "          google.colab.kernel.accessAllowed ? 'block' : 'none';\n",
              "\n",
              "        async function convertToInteractive(key) {\n",
              "          const element = document.querySelector('#df-867a9133-6962-411f-8557-30ed44f5beae');\n",
              "          const dataTable =\n",
              "            await google.colab.kernel.invokeFunction('convertToInteractive',\n",
              "                                                     [key], {});\n",
              "          if (!dataTable) return;\n",
              "\n",
              "          const docLinkHtml = 'Like what you see? Visit the ' +\n",
              "            '<a target=\"_blank\" href=https://colab.research.google.com/notebooks/data_table.ipynb>data table notebook</a>'\n",
              "            + ' to learn more about interactive tables.';\n",
              "          element.innerHTML = '';\n",
              "          dataTable['output_type'] = 'display_data';\n",
              "          await google.colab.output.renderOutput(dataTable, element);\n",
              "          const docLink = document.createElement('div');\n",
              "          docLink.innerHTML = docLinkHtml;\n",
              "          element.appendChild(docLink);\n",
              "        }\n",
              "      </script>\n",
              "    </div>\n",
              "  </div>\n",
              "  "
            ]
          },
          "metadata": {},
          "execution_count": 394
        }
      ]
    },
    {
      "cell_type": "markdown",
      "source": [
        "## Ранжируем элементы для пользователя\n",
        "\n",
        "---"
      ],
      "metadata": {
        "id": "XVBw5d5MrJmJ"
      }
    },
    {
      "cell_type": "markdown",
      "source": [
        "Вот еще одна функция \"из коробки\" библиотеки implicit, вариант использования которой в продукте мы хотим предложить.  "
      ],
      "metadata": {
        "id": "_Qj22p0KrQjv"
      }
    },
    {
      "cell_type": "markdown",
      "source": [
        "Функция: rank_items()\n",
        "\n",
        "Ранжирует заданные элементы для пользователя и возвращает отсортированный список элементов.\n",
        "\n",
        "Параметры:\n",
        "\n",
        "- userid (int) – идентификатор пользователя для вычисления рекомендаций\n",
        "- user_items (csr_matrix) – разреженная матрица формы (number_users, number_items). Это позволяет нам (необязательно) пересчитывать пользовательские факторы (см. параметр reconculate_user) по мере необходимости\n",
        "- selected_items (List of itemids) – (список идентификаторов элементов)\n",
        "- recalculate_user (bool, необязательно) – При значении true не полагайтесь на сохраненное состояние пользователя и вместо этого пересчитывайте из переданных в user_items\n",
        "\n",
        "\n",
        "\n",
        "Возвращаемый тип:\t\n",
        "Список"
      ],
      "metadata": {
        "id": "fbmpSnCqrKvR"
      }
    },
    {
      "cell_type": "markdown",
      "source": [
        "---\n",
        "Допустим у нас есть определенных вакансий показ которых мы должны реализовать с учетом рекламных соглашений, мы модем применить этот список к конкретному пользователю (списку пользователей) и рекомендовать ему(им) вакансии в ранжированной последовательности по рассчитанному скорингу, что существенно увеличит вероятность положительного отклика в всеобщему удовлетворению\n",
        "\n",
        "---"
      ],
      "metadata": {
        "id": "1tPpLxiorPYm"
      }
    },
    {
      "cell_type": "code",
      "source": [
        "userid = 100005 # возьмем допустим пользователя под номером 100005\n",
        "# и посмотрим в каком порядке ему лучше рекомендовать вакансии вошедшие в рекламный пул (скажем недели)\n",
        "rank_elements = model_user.rank_items(userid, user_item_data, selected_items = [100001, 100002, 100003, 100004, 200004, 200105, 187001, 120408])\n",
        "# и получаем ответ\n",
        "print(rank_elements[0]) "
      ],
      "metadata": {
        "id": "g4OZx2xarUwe",
        "colab": {
          "base_uri": "https://localhost:8080/"
        },
        "outputId": "b7dfbed1-25a2-4dac-a2e9-46dc7ad822c5"
      },
      "execution_count": 392,
      "outputs": [
        {
          "output_type": "stream",
          "name": "stdout",
          "text": [
            "[100002 187001 200105 100001 100003 200004 100004 120408]\n"
          ]
        },
        {
          "output_type": "stream",
          "name": "stderr",
          "text": [
            "<ipython-input-392-c695e0c8cc90>:3: DeprecationWarning: rank_items is deprecated. Use recommend with the 'items' parameter instead\n",
            "  rank_elements = model_user.rank_items(userid, user_item_data, selected_items = [100001, 100002, 100003, 100004, 200004, 200105, 187001, 120408])\n"
          ]
        }
      ]
    }
  ],
  "metadata": {
    "colab": {
      "provenance": []
    },
    "kernelspec": {
      "display_name": "Python 3",
      "language": "python",
      "name": "python3"
    },
    "language_info": {
      "codemirror_mode": {
        "name": "ipython",
        "version": 3
      },
      "file_extension": ".py",
      "mimetype": "text/x-python",
      "name": "python",
      "nbconvert_exporter": "python",
      "pygments_lexer": "ipython3",
      "version": "3.10.7"
    },
    "widgets": {
      "application/vnd.jupyter.widget-state+json": {
        "4b9e6f37db9243e9aa0eb27d839389c9": {
          "model_module": "@jupyter-widgets/controls",
          "model_name": "HBoxModel",
          "model_module_version": "1.5.0",
          "state": {
            "_dom_classes": [],
            "_model_module": "@jupyter-widgets/controls",
            "_model_module_version": "1.5.0",
            "_model_name": "HBoxModel",
            "_view_count": null,
            "_view_module": "@jupyter-widgets/controls",
            "_view_module_version": "1.5.0",
            "_view_name": "HBoxView",
            "box_style": "",
            "children": [
              "IPY_MODEL_306ab7268d5f44d3b26ed79412262fb7",
              "IPY_MODEL_638d140db74a44f88fa92cc51b18dbda",
              "IPY_MODEL_e3b19ba2b1e94e068fc38ea15a951011"
            ],
            "layout": "IPY_MODEL_144baeeddecb44cfa535e32b4d632887"
          }
        },
        "306ab7268d5f44d3b26ed79412262fb7": {
          "model_module": "@jupyter-widgets/controls",
          "model_name": "HTMLModel",
          "model_module_version": "1.5.0",
          "state": {
            "_dom_classes": [],
            "_model_module": "@jupyter-widgets/controls",
            "_model_module_version": "1.5.0",
            "_model_name": "HTMLModel",
            "_view_count": null,
            "_view_module": "@jupyter-widgets/controls",
            "_view_module_version": "1.5.0",
            "_view_name": "HTMLView",
            "description": "",
            "description_tooltip": null,
            "layout": "IPY_MODEL_4c95aa23bf1d4bd697194d1d35cc1b8f",
            "placeholder": "​",
            "style": "IPY_MODEL_6ea229bdb047425f8c55f24cc9a72238",
            "value": "100%"
          }
        },
        "638d140db74a44f88fa92cc51b18dbda": {
          "model_module": "@jupyter-widgets/controls",
          "model_name": "FloatProgressModel",
          "model_module_version": "1.5.0",
          "state": {
            "_dom_classes": [],
            "_model_module": "@jupyter-widgets/controls",
            "_model_module_version": "1.5.0",
            "_model_name": "FloatProgressModel",
            "_view_count": null,
            "_view_module": "@jupyter-widgets/controls",
            "_view_module_version": "1.5.0",
            "_view_name": "ProgressView",
            "bar_style": "success",
            "description": "",
            "description_tooltip": null,
            "layout": "IPY_MODEL_e307a52f85dd4b95b62416db3536ace3",
            "max": 50,
            "min": 0,
            "orientation": "horizontal",
            "style": "IPY_MODEL_364ad1078f9e4a049da9eaf1f52639e8",
            "value": 50
          }
        },
        "e3b19ba2b1e94e068fc38ea15a951011": {
          "model_module": "@jupyter-widgets/controls",
          "model_name": "HTMLModel",
          "model_module_version": "1.5.0",
          "state": {
            "_dom_classes": [],
            "_model_module": "@jupyter-widgets/controls",
            "_model_module_version": "1.5.0",
            "_model_name": "HTMLModel",
            "_view_count": null,
            "_view_module": "@jupyter-widgets/controls",
            "_view_module_version": "1.5.0",
            "_view_name": "HTMLView",
            "description": "",
            "description_tooltip": null,
            "layout": "IPY_MODEL_816f576712e94068855d829b18ed0120",
            "placeholder": "​",
            "style": "IPY_MODEL_ea89e08400eb40d58f2cb6e52ca58d0b",
            "value": " 50/50 [00:07&lt;00:00,  6.73it/s]"
          }
        },
        "144baeeddecb44cfa535e32b4d632887": {
          "model_module": "@jupyter-widgets/base",
          "model_name": "LayoutModel",
          "model_module_version": "1.2.0",
          "state": {
            "_model_module": "@jupyter-widgets/base",
            "_model_module_version": "1.2.0",
            "_model_name": "LayoutModel",
            "_view_count": null,
            "_view_module": "@jupyter-widgets/base",
            "_view_module_version": "1.2.0",
            "_view_name": "LayoutView",
            "align_content": null,
            "align_items": null,
            "align_self": null,
            "border": null,
            "bottom": null,
            "display": null,
            "flex": null,
            "flex_flow": null,
            "grid_area": null,
            "grid_auto_columns": null,
            "grid_auto_flow": null,
            "grid_auto_rows": null,
            "grid_column": null,
            "grid_gap": null,
            "grid_row": null,
            "grid_template_areas": null,
            "grid_template_columns": null,
            "grid_template_rows": null,
            "height": null,
            "justify_content": null,
            "justify_items": null,
            "left": null,
            "margin": null,
            "max_height": null,
            "max_width": null,
            "min_height": null,
            "min_width": null,
            "object_fit": null,
            "object_position": null,
            "order": null,
            "overflow": null,
            "overflow_x": null,
            "overflow_y": null,
            "padding": null,
            "right": null,
            "top": null,
            "visibility": null,
            "width": null
          }
        },
        "4c95aa23bf1d4bd697194d1d35cc1b8f": {
          "model_module": "@jupyter-widgets/base",
          "model_name": "LayoutModel",
          "model_module_version": "1.2.0",
          "state": {
            "_model_module": "@jupyter-widgets/base",
            "_model_module_version": "1.2.0",
            "_model_name": "LayoutModel",
            "_view_count": null,
            "_view_module": "@jupyter-widgets/base",
            "_view_module_version": "1.2.0",
            "_view_name": "LayoutView",
            "align_content": null,
            "align_items": null,
            "align_self": null,
            "border": null,
            "bottom": null,
            "display": null,
            "flex": null,
            "flex_flow": null,
            "grid_area": null,
            "grid_auto_columns": null,
            "grid_auto_flow": null,
            "grid_auto_rows": null,
            "grid_column": null,
            "grid_gap": null,
            "grid_row": null,
            "grid_template_areas": null,
            "grid_template_columns": null,
            "grid_template_rows": null,
            "height": null,
            "justify_content": null,
            "justify_items": null,
            "left": null,
            "margin": null,
            "max_height": null,
            "max_width": null,
            "min_height": null,
            "min_width": null,
            "object_fit": null,
            "object_position": null,
            "order": null,
            "overflow": null,
            "overflow_x": null,
            "overflow_y": null,
            "padding": null,
            "right": null,
            "top": null,
            "visibility": null,
            "width": null
          }
        },
        "6ea229bdb047425f8c55f24cc9a72238": {
          "model_module": "@jupyter-widgets/controls",
          "model_name": "DescriptionStyleModel",
          "model_module_version": "1.5.0",
          "state": {
            "_model_module": "@jupyter-widgets/controls",
            "_model_module_version": "1.5.0",
            "_model_name": "DescriptionStyleModel",
            "_view_count": null,
            "_view_module": "@jupyter-widgets/base",
            "_view_module_version": "1.2.0",
            "_view_name": "StyleView",
            "description_width": ""
          }
        },
        "e307a52f85dd4b95b62416db3536ace3": {
          "model_module": "@jupyter-widgets/base",
          "model_name": "LayoutModel",
          "model_module_version": "1.2.0",
          "state": {
            "_model_module": "@jupyter-widgets/base",
            "_model_module_version": "1.2.0",
            "_model_name": "LayoutModel",
            "_view_count": null,
            "_view_module": "@jupyter-widgets/base",
            "_view_module_version": "1.2.0",
            "_view_name": "LayoutView",
            "align_content": null,
            "align_items": null,
            "align_self": null,
            "border": null,
            "bottom": null,
            "display": null,
            "flex": null,
            "flex_flow": null,
            "grid_area": null,
            "grid_auto_columns": null,
            "grid_auto_flow": null,
            "grid_auto_rows": null,
            "grid_column": null,
            "grid_gap": null,
            "grid_row": null,
            "grid_template_areas": null,
            "grid_template_columns": null,
            "grid_template_rows": null,
            "height": null,
            "justify_content": null,
            "justify_items": null,
            "left": null,
            "margin": null,
            "max_height": null,
            "max_width": null,
            "min_height": null,
            "min_width": null,
            "object_fit": null,
            "object_position": null,
            "order": null,
            "overflow": null,
            "overflow_x": null,
            "overflow_y": null,
            "padding": null,
            "right": null,
            "top": null,
            "visibility": null,
            "width": null
          }
        },
        "364ad1078f9e4a049da9eaf1f52639e8": {
          "model_module": "@jupyter-widgets/controls",
          "model_name": "ProgressStyleModel",
          "model_module_version": "1.5.0",
          "state": {
            "_model_module": "@jupyter-widgets/controls",
            "_model_module_version": "1.5.0",
            "_model_name": "ProgressStyleModel",
            "_view_count": null,
            "_view_module": "@jupyter-widgets/base",
            "_view_module_version": "1.2.0",
            "_view_name": "StyleView",
            "bar_color": null,
            "description_width": ""
          }
        },
        "816f576712e94068855d829b18ed0120": {
          "model_module": "@jupyter-widgets/base",
          "model_name": "LayoutModel",
          "model_module_version": "1.2.0",
          "state": {
            "_model_module": "@jupyter-widgets/base",
            "_model_module_version": "1.2.0",
            "_model_name": "LayoutModel",
            "_view_count": null,
            "_view_module": "@jupyter-widgets/base",
            "_view_module_version": "1.2.0",
            "_view_name": "LayoutView",
            "align_content": null,
            "align_items": null,
            "align_self": null,
            "border": null,
            "bottom": null,
            "display": null,
            "flex": null,
            "flex_flow": null,
            "grid_area": null,
            "grid_auto_columns": null,
            "grid_auto_flow": null,
            "grid_auto_rows": null,
            "grid_column": null,
            "grid_gap": null,
            "grid_row": null,
            "grid_template_areas": null,
            "grid_template_columns": null,
            "grid_template_rows": null,
            "height": null,
            "justify_content": null,
            "justify_items": null,
            "left": null,
            "margin": null,
            "max_height": null,
            "max_width": null,
            "min_height": null,
            "min_width": null,
            "object_fit": null,
            "object_position": null,
            "order": null,
            "overflow": null,
            "overflow_x": null,
            "overflow_y": null,
            "padding": null,
            "right": null,
            "top": null,
            "visibility": null,
            "width": null
          }
        },
        "ea89e08400eb40d58f2cb6e52ca58d0b": {
          "model_module": "@jupyter-widgets/controls",
          "model_name": "DescriptionStyleModel",
          "model_module_version": "1.5.0",
          "state": {
            "_model_module": "@jupyter-widgets/controls",
            "_model_module_version": "1.5.0",
            "_model_name": "DescriptionStyleModel",
            "_view_count": null,
            "_view_module": "@jupyter-widgets/base",
            "_view_module_version": "1.2.0",
            "_view_name": "StyleView",
            "description_width": ""
          }
        }
      }
    },
    "accelerator": "GPU",
    "gpuClass": "standard"
  },
  "nbformat": 4,
  "nbformat_minor": 0
}