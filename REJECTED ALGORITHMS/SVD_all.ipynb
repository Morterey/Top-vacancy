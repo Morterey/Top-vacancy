{
  "cells": [
    {
      "cell_type": "markdown",
      "metadata": {
        "id": "wGiDKJhv9UW_"
      },
      "source": [
        "# Загружаем библиотеки и датафрейм\n",
        "---"
      ]
    },
    {
      "cell_type": "code",
      "execution_count": 2,
      "metadata": {
        "colab": {
          "base_uri": "https://localhost:8080/"
        },
        "id": "1AEA7gN69IJU",
        "outputId": "bb4b4d88-270a-41df-8164-8edbe44b8fc2"
      },
      "outputs": [
        {
          "name": "stdout",
          "output_type": "stream",
          "text": [
            "Looking in indexes: https://pypi.org/simple, https://us-python.pkg.dev/colab-wheels/public/simple/\n",
            "Collecting scikit-surprise\n",
            "  Downloading scikit-surprise-1.1.3.tar.gz (771 kB)\n",
            "\u001b[2K     \u001b[90m━━━━━━━━━━━━━━━━━━━━━━━━━━━━━━━━━━━━━━\u001b[0m \u001b[32m772.0/772.0 KB\u001b[0m \u001b[31m12.8 MB/s\u001b[0m eta \u001b[36m0:00:00\u001b[0m\n",
            "\u001b[?25h  Preparing metadata (setup.py) ... \u001b[?25l\u001b[?25hdone\n",
            "Requirement already satisfied: joblib>=1.0.0 in /usr/local/lib/python3.9/dist-packages (from scikit-surprise) (1.1.1)\n",
            "Requirement already satisfied: numpy>=1.17.3 in /usr/local/lib/python3.9/dist-packages (from scikit-surprise) (1.22.4)\n",
            "Requirement already satisfied: scipy>=1.3.2 in /usr/local/lib/python3.9/dist-packages (from scikit-surprise) (1.10.1)\n",
            "Building wheels for collected packages: scikit-surprise\n",
            "  Building wheel for scikit-surprise (setup.py) ... \u001b[?25l\u001b[?25hdone\n",
            "  Created wheel for scikit-surprise: filename=scikit_surprise-1.1.3-cp39-cp39-linux_x86_64.whl size=3195811 sha256=024346cabcc217b5538df5f3c233bf4f523a976a08eda3d28f655bc52145def4\n",
            "  Stored in directory: /root/.cache/pip/wheels/c6/3a/46/9b17b3512bdf283c6cb84f59929cdd5199d4e754d596d22784\n",
            "Successfully built scikit-surprise\n",
            "Installing collected packages: scikit-surprise\n",
            "Successfully installed scikit-surprise-1.1.3\n"
          ]
        }
      ],
      "source": [
        "# Устанавливаем в среду пакет surprise \n",
        "%pip install scikit-surprise"
      ]
    },
    {
      "cell_type": "code",
      "execution_count": 1,
      "metadata": {
        "id": "AVwBrsBv9UXE"
      },
      "outputs": [],
      "source": [
        "# импортируем необходимые библиотеки\n",
        "import pandas as pd\n",
        "from surprise import Reader, Dataset\n",
        "from surprise.model_selection import train_test_split\n",
        "from surprise import accuracy\n",
        "from collections import defaultdict\n",
        "from surprise import SVD\n"
      ]
    },
    {
      "cell_type": "code",
      "execution_count": 2,
      "metadata": {
        "colab": {
          "base_uri": "https://localhost:8080/",
          "height": 328
        },
        "id": "CXQ3R0K-9UXG",
        "outputId": "abf2ea2d-7add-4415-82ac-db90cf8784c9"
      },
      "outputs": [],
      "source": [
        "# загружаем исходный файл\n",
        "data = pd.read_parquet('train_mfti.parquet', engine='pyarrow')"
      ]
    },
    {
      "cell_type": "code",
      "execution_count": 3,
      "metadata": {
        "id": "x41q0nWs9UXH"
      },
      "outputs": [],
      "source": [
        "work_data = data.copy()"
      ]
    },
    {
      "cell_type": "code",
      "execution_count": 4,
      "metadata": {
        "id": "X0emj0Wa9UXH",
        "outputId": "b97e8a83-59c5-4885-f656-cc1fdcb6684f"
      },
      "outputs": [
        {
          "data": {
            "text/html": [
              "<div>\n",
              "<style scoped>\n",
              "    .dataframe tbody tr th:only-of-type {\n",
              "        vertical-align: middle;\n",
              "    }\n",
              "\n",
              "    .dataframe tbody tr th {\n",
              "        vertical-align: top;\n",
              "    }\n",
              "\n",
              "    .dataframe thead th {\n",
              "        text-align: right;\n",
              "    }\n",
              "</style>\n",
              "<table border=\"1\" class=\"dataframe\">\n",
              "  <thead>\n",
              "    <tr style=\"text-align: right;\">\n",
              "      <th></th>\n",
              "      <th>event_date</th>\n",
              "      <th>event_timestamp</th>\n",
              "      <th>vacancy_id_</th>\n",
              "      <th>cookie_id</th>\n",
              "      <th>user_id</th>\n",
              "      <th>event_type</th>\n",
              "    </tr>\n",
              "  </thead>\n",
              "  <tbody>\n",
              "    <tr>\n",
              "      <th>0</th>\n",
              "      <td>2022-08-01</td>\n",
              "      <td>1659323026</td>\n",
              "      <td>129850</td>\n",
              "      <td>97990f1a021d4be19aa3f955b7eacab4</td>\n",
              "      <td>951f53de61764ea0b51317200a0dbbfc</td>\n",
              "      <td>show_vacancy</td>\n",
              "    </tr>\n",
              "    <tr>\n",
              "      <th>1</th>\n",
              "      <td>2022-08-01</td>\n",
              "      <td>1659377255</td>\n",
              "      <td>108347</td>\n",
              "      <td>03bf8c511fa949c79845a5d81b09aa1d</td>\n",
              "      <td>f5a2326a17484330aa8cb4019f1b1960</td>\n",
              "      <td>show_vacancy</td>\n",
              "    </tr>\n",
              "    <tr>\n",
              "      <th>2</th>\n",
              "      <td>2022-08-01</td>\n",
              "      <td>1659376695</td>\n",
              "      <td>109069</td>\n",
              "      <td>03bf8c511fa949c79845a5d81b09aa1d</td>\n",
              "      <td>f5a2326a17484330aa8cb4019f1b1960</td>\n",
              "      <td>show_vacancy</td>\n",
              "    </tr>\n",
              "    <tr>\n",
              "      <th>3</th>\n",
              "      <td>2022-08-01</td>\n",
              "      <td>1659376722</td>\n",
              "      <td>171425</td>\n",
              "      <td>03bf8c511fa949c79845a5d81b09aa1d</td>\n",
              "      <td>f5a2326a17484330aa8cb4019f1b1960</td>\n",
              "      <td>show_vacancy</td>\n",
              "    </tr>\n",
              "    <tr>\n",
              "      <th>4</th>\n",
              "      <td>2022-08-01</td>\n",
              "      <td>1659374929</td>\n",
              "      <td>252384</td>\n",
              "      <td>03bf8c511fa949c79845a5d81b09aa1d</td>\n",
              "      <td>f5a2326a17484330aa8cb4019f1b1960</td>\n",
              "      <td>show_vacancy</td>\n",
              "    </tr>\n",
              "  </tbody>\n",
              "</table>\n",
              "</div>"
            ],
            "text/plain": [
              "   event_date  event_timestamp  vacancy_id_                         cookie_id  \\\n",
              "0  2022-08-01       1659323026       129850  97990f1a021d4be19aa3f955b7eacab4   \n",
              "1  2022-08-01       1659377255       108347  03bf8c511fa949c79845a5d81b09aa1d   \n",
              "2  2022-08-01       1659376695       109069  03bf8c511fa949c79845a5d81b09aa1d   \n",
              "3  2022-08-01       1659376722       171425  03bf8c511fa949c79845a5d81b09aa1d   \n",
              "4  2022-08-01       1659374929       252384  03bf8c511fa949c79845a5d81b09aa1d   \n",
              "\n",
              "                            user_id    event_type  \n",
              "0  951f53de61764ea0b51317200a0dbbfc  show_vacancy  \n",
              "1  f5a2326a17484330aa8cb4019f1b1960  show_vacancy  \n",
              "2  f5a2326a17484330aa8cb4019f1b1960  show_vacancy  \n",
              "3  f5a2326a17484330aa8cb4019f1b1960  show_vacancy  \n",
              "4  f5a2326a17484330aa8cb4019f1b1960  show_vacancy  "
            ]
          },
          "execution_count": 4,
          "metadata": {},
          "output_type": "execute_result"
        }
      ],
      "source": [
        "work_data.head()"
      ]
    },
    {
      "cell_type": "code",
      "execution_count": 5,
      "metadata": {
        "id": "dwW6ltkp9UXI"
      },
      "outputs": [],
      "source": [
        "work_data['rating'] = work_data['event_type'].map({'show_vacancy': 0,\n",
        "                                     'preview_click_vacancy': 0,\n",
        "                                     'click_favorite': 0,\n",
        "                                     'preview_click_favorite': 0,\n",
        "                                     'click_response': 1,\n",
        "                                     'preview_click_response': 1,\n",
        "                                     'click_contacts': 1,\n",
        "                                     'preview_click_contacts': 1,\n",
        "                                     'click_phone': 1,\n",
        "                                     'preview_click_phone': 1})"
      ]
    },
    {
      "cell_type": "code",
      "execution_count": 21,
      "metadata": {},
      "outputs": [],
      "source": [
        "work_data['rating'] = work_data['event_type'].map({'show_vacancy': 1,\n",
        "                                     'preview_click_vacancy': 2,\n",
        "                                     'click_favorite': 3,\n",
        "                                     'preview_click_favorite': 4,\n",
        "                                     'click_response': 5,\n",
        "                                     'preview_click_response': 6,\n",
        "                                     'click_contacts': 7,\n",
        "                                     'preview_click_contacts': 8,\n",
        "                                     'click_phone': 9,\n",
        "                                     'preview_click_phone': 10})"
      ]
    },
    {
      "cell_type": "code",
      "execution_count": 6,
      "metadata": {
        "id": "NXWKP6AC9UXJ"
      },
      "outputs": [],
      "source": [
        "df_ratings = work_data[['cookie_id', 'vacancy_id_', 'rating']]"
      ]
    },
    {
      "cell_type": "code",
      "execution_count": 7,
      "metadata": {
        "id": "co-td-OC9UXK",
        "outputId": "6474cee1-dc2b-468b-ff5d-eb314471e97c"
      },
      "outputs": [
        {
          "name": "stdout",
          "output_type": "stream",
          "text": [
            "<class 'pandas.core.frame.DataFrame'>\n",
            "RangeIndex: 12292588 entries, 0 to 12292587\n",
            "Data columns (total 3 columns):\n",
            " #   Column       Dtype \n",
            "---  ------       ----- \n",
            " 0   cookie_id    object\n",
            " 1   vacancy_id_  int64 \n",
            " 2   rating       int64 \n",
            "dtypes: int64(2), object(1)\n",
            "memory usage: 281.4+ MB\n"
          ]
        }
      ],
      "source": [
        "df_ratings.info()"
      ]
    },
    {
      "cell_type": "code",
      "execution_count": 8,
      "metadata": {
        "id": "R_driCGM9UXK"
      },
      "outputs": [],
      "source": [
        "df_ratings = df_ratings.groupby(['cookie_id','vacancy_id_'])['rating'].max().reset_index()"
      ]
    },
    {
      "cell_type": "code",
      "execution_count": 9,
      "metadata": {
        "id": "8c0gftTT9UXL",
        "outputId": "eca56b00-59a3-4758-fcd0-05d4e89197c5"
      },
      "outputs": [
        {
          "data": {
            "text/html": [
              "<div>\n",
              "<style scoped>\n",
              "    .dataframe tbody tr th:only-of-type {\n",
              "        vertical-align: middle;\n",
              "    }\n",
              "\n",
              "    .dataframe tbody tr th {\n",
              "        vertical-align: top;\n",
              "    }\n",
              "\n",
              "    .dataframe thead th {\n",
              "        text-align: right;\n",
              "    }\n",
              "</style>\n",
              "<table border=\"1\" class=\"dataframe\">\n",
              "  <thead>\n",
              "    <tr style=\"text-align: right;\">\n",
              "      <th></th>\n",
              "      <th>cookie_id</th>\n",
              "      <th>vacancy_id_</th>\n",
              "      <th>rating</th>\n",
              "    </tr>\n",
              "  </thead>\n",
              "  <tbody>\n",
              "    <tr>\n",
              "      <th>0</th>\n",
              "      <td>0000c4548c3944c08972bbdc1fa4eb85</td>\n",
              "      <td>137659</td>\n",
              "      <td>0</td>\n",
              "    </tr>\n",
              "    <tr>\n",
              "      <th>1</th>\n",
              "      <td>0000c4548c3944c08972bbdc1fa4eb85</td>\n",
              "      <td>153975</td>\n",
              "      <td>0</td>\n",
              "    </tr>\n",
              "    <tr>\n",
              "      <th>2</th>\n",
              "      <td>0000c4548c3944c08972bbdc1fa4eb85</td>\n",
              "      <td>174953</td>\n",
              "      <td>0</td>\n",
              "    </tr>\n",
              "    <tr>\n",
              "      <th>3</th>\n",
              "      <td>0000c4548c3944c08972bbdc1fa4eb85</td>\n",
              "      <td>176171</td>\n",
              "      <td>0</td>\n",
              "    </tr>\n",
              "    <tr>\n",
              "      <th>4</th>\n",
              "      <td>0000c4548c3944c08972bbdc1fa4eb85</td>\n",
              "      <td>182445</td>\n",
              "      <td>0</td>\n",
              "    </tr>\n",
              "  </tbody>\n",
              "</table>\n",
              "</div>"
            ],
            "text/plain": [
              "                          cookie_id  vacancy_id_  rating\n",
              "0  0000c4548c3944c08972bbdc1fa4eb85       137659       0\n",
              "1  0000c4548c3944c08972bbdc1fa4eb85       153975       0\n",
              "2  0000c4548c3944c08972bbdc1fa4eb85       174953       0\n",
              "3  0000c4548c3944c08972bbdc1fa4eb85       176171       0\n",
              "4  0000c4548c3944c08972bbdc1fa4eb85       182445       0"
            ]
          },
          "execution_count": 9,
          "metadata": {},
          "output_type": "execute_result"
        }
      ],
      "source": [
        "df_ratings.head()"
      ]
    },
    {
      "cell_type": "code",
      "execution_count": 10,
      "metadata": {},
      "outputs": [
        {
          "name": "stdout",
          "output_type": "stream",
          "text": [
            "<class 'pandas.core.frame.DataFrame'>\n",
            "RangeIndex: 4678585 entries, 0 to 4678584\n",
            "Data columns (total 3 columns):\n",
            " #   Column       Dtype \n",
            "---  ------       ----- \n",
            " 0   cookie_id    object\n",
            " 1   vacancy_id_  int64 \n",
            " 2   rating       int64 \n",
            "dtypes: int64(2), object(1)\n",
            "memory usage: 107.1+ MB\n"
          ]
        }
      ],
      "source": [
        "df_ratings.info()"
      ]
    },
    {
      "cell_type": "code",
      "execution_count": 11,
      "metadata": {},
      "outputs": [],
      "source": [
        "mask = df_ratings['rating'] == 1"
      ]
    },
    {
      "cell_type": "code",
      "execution_count": 12,
      "metadata": {},
      "outputs": [
        {
          "data": {
            "text/html": [
              "<div>\n",
              "<style scoped>\n",
              "    .dataframe tbody tr th:only-of-type {\n",
              "        vertical-align: middle;\n",
              "    }\n",
              "\n",
              "    .dataframe tbody tr th {\n",
              "        vertical-align: top;\n",
              "    }\n",
              "\n",
              "    .dataframe thead th {\n",
              "        text-align: right;\n",
              "    }\n",
              "</style>\n",
              "<table border=\"1\" class=\"dataframe\">\n",
              "  <thead>\n",
              "    <tr style=\"text-align: right;\">\n",
              "      <th></th>\n",
              "      <th>cookie_id</th>\n",
              "      <th>vacancy_id_</th>\n",
              "      <th>rating</th>\n",
              "    </tr>\n",
              "  </thead>\n",
              "  <tbody>\n",
              "    <tr>\n",
              "      <th>18</th>\n",
              "      <td>0000e63f423542fe8090575b611cea4d</td>\n",
              "      <td>122287</td>\n",
              "      <td>1</td>\n",
              "    </tr>\n",
              "    <tr>\n",
              "      <th>20</th>\n",
              "      <td>0000e63f423542fe8090575b611cea4d</td>\n",
              "      <td>137592</td>\n",
              "      <td>1</td>\n",
              "    </tr>\n",
              "    <tr>\n",
              "      <th>21</th>\n",
              "      <td>0000e63f423542fe8090575b611cea4d</td>\n",
              "      <td>141592</td>\n",
              "      <td>1</td>\n",
              "    </tr>\n",
              "    <tr>\n",
              "      <th>22</th>\n",
              "      <td>0000e63f423542fe8090575b611cea4d</td>\n",
              "      <td>158280</td>\n",
              "      <td>1</td>\n",
              "    </tr>\n",
              "    <tr>\n",
              "      <th>25</th>\n",
              "      <td>0000e63f423542fe8090575b611cea4d</td>\n",
              "      <td>251362</td>\n",
              "      <td>1</td>\n",
              "    </tr>\n",
              "    <tr>\n",
              "      <th>...</th>\n",
              "      <td>...</td>\n",
              "      <td>...</td>\n",
              "      <td>...</td>\n",
              "    </tr>\n",
              "    <tr>\n",
              "      <th>4678580</th>\n",
              "      <td>ffffdb17f45b4032b386d691d52e6c00</td>\n",
              "      <td>107125</td>\n",
              "      <td>1</td>\n",
              "    </tr>\n",
              "    <tr>\n",
              "      <th>4678581</th>\n",
              "      <td>ffffdb17f45b4032b386d691d52e6c00</td>\n",
              "      <td>107893</td>\n",
              "      <td>1</td>\n",
              "    </tr>\n",
              "    <tr>\n",
              "      <th>4678582</th>\n",
              "      <td>ffffdb17f45b4032b386d691d52e6c00</td>\n",
              "      <td>150843</td>\n",
              "      <td>1</td>\n",
              "    </tr>\n",
              "    <tr>\n",
              "      <th>4678583</th>\n",
              "      <td>ffffdb17f45b4032b386d691d52e6c00</td>\n",
              "      <td>160164</td>\n",
              "      <td>1</td>\n",
              "    </tr>\n",
              "    <tr>\n",
              "      <th>4678584</th>\n",
              "      <td>ffffdb17f45b4032b386d691d52e6c00</td>\n",
              "      <td>185412</td>\n",
              "      <td>1</td>\n",
              "    </tr>\n",
              "  </tbody>\n",
              "</table>\n",
              "<p>736678 rows × 3 columns</p>\n",
              "</div>"
            ],
            "text/plain": [
              "                                cookie_id  vacancy_id_  rating\n",
              "18       0000e63f423542fe8090575b611cea4d       122287       1\n",
              "20       0000e63f423542fe8090575b611cea4d       137592       1\n",
              "21       0000e63f423542fe8090575b611cea4d       141592       1\n",
              "22       0000e63f423542fe8090575b611cea4d       158280       1\n",
              "25       0000e63f423542fe8090575b611cea4d       251362       1\n",
              "...                                   ...          ...     ...\n",
              "4678580  ffffdb17f45b4032b386d691d52e6c00       107125       1\n",
              "4678581  ffffdb17f45b4032b386d691d52e6c00       107893       1\n",
              "4678582  ffffdb17f45b4032b386d691d52e6c00       150843       1\n",
              "4678583  ffffdb17f45b4032b386d691d52e6c00       160164       1\n",
              "4678584  ffffdb17f45b4032b386d691d52e6c00       185412       1\n",
              "\n",
              "[736678 rows x 3 columns]"
            ]
          },
          "execution_count": 12,
          "metadata": {},
          "output_type": "execute_result"
        }
      ],
      "source": [
        "df_ratings.loc[mask][['cookie_id','vacancy_id_', 'rating']]"
      ]
    },
    {
      "cell_type": "code",
      "execution_count": 13,
      "metadata": {},
      "outputs": [],
      "source": [
        "# перемешаем рейтиги\n",
        "df_ratings = df_ratings.sample(frac=1)"
      ]
    },
    {
      "cell_type": "code",
      "execution_count": 14,
      "metadata": {},
      "outputs": [],
      "source": [
        "df_final = df_ratings"
      ]
    },
    {
      "cell_type": "markdown",
      "metadata": {
        "id": "_8oh1bdz9UXe"
      },
      "source": [
        "Возьмем за основу наш базовый датасет, он учится очень бысто"
      ]
    },
    {
      "cell_type": "code",
      "execution_count": 15,
      "metadata": {
        "id": "_7hdczWW9UXg",
        "outputId": "e74a2141-76ad-4c32-ee22-9b8b4fd0f407"
      },
      "outputs": [
        {
          "name": "stdout",
          "output_type": "stream",
          "text": [
            "Minimum/maximum оценки: 0/1\n"
          ]
        }
      ],
      "source": [
        "minimum_rating = min(df_final['rating'].values)\n",
        " \n",
        "maximum_rating = max(df_final['rating'].values)\n",
        " \n",
        "print(f'Minimum/maximum оценки: {minimum_rating}/{maximum_rating}')"
      ]
    },
    {
      "cell_type": "code",
      "execution_count": 16,
      "metadata": {
        "id": "X79TnZBH9UXh"
      },
      "outputs": [],
      "source": [
        "reader = Reader(rating_scale=(minimum_rating,maximum_rating))\n",
        " \n",
        "data = Dataset.load_from_df(df_final[['cookie_id', 'vacancy_id_', 'rating']], reader)"
      ]
    },
    {
      "attachments": {},
      "cell_type": "markdown",
      "metadata": {},
      "source": [
        "Предваритльное исследование\n",
        "---"
      ]
    },
    {
      "cell_type": "code",
      "execution_count": 17,
      "metadata": {},
      "outputs": [],
      "source": [
        "from surprise.model_selection import GridSearchCV"
      ]
    },
    {
      "cell_type": "code",
      "execution_count": 18,
      "metadata": {},
      "outputs": [],
      "source": [
        "trainset = data.build_full_trainset()"
      ]
    },
    {
      "cell_type": "code",
      "execution_count": 20,
      "metadata": {},
      "outputs": [
        {
          "name": "stdout",
          "output_type": "stream",
          "text": [
            "0.33041003799507734\n",
            "{'n_epochs': 10, 'lr_all': 0.005, 'reg_all': 0.4}\n"
          ]
        }
      ],
      "source": [
        "param_grid = {\"n_epochs\": [5, 10], \"lr_all\": [0.002, 0.005], \"reg_all\": [0.4, 0.6]}\n",
        "gs = GridSearchCV(SVD, param_grid, measures=[\"rmse\", \"mae\"], cv=3)\n",
        "\n",
        "gs.fit(data)\n",
        "\n",
        "# best RMSE score\n",
        "print(gs.best_score[\"rmse\"])\n",
        "\n",
        "# combination of parameters that gave the best RMSE score\n",
        "print(gs.best_params[\"rmse\"])"
      ]
    },
    {
      "cell_type": "code",
      "execution_count": null,
      "metadata": {},
      "outputs": [],
      "source": [
        "# We can now use the algorithm that yields the best rmse:\n",
        "algo = gs.best_estimator[\"rmse\"]\n",
        "algo.fit(data.build_full_trainset())"
      ]
    },
    {
      "attachments": {},
      "cell_type": "markdown",
      "metadata": {},
      "source": [
        "Полный цикл обучения"
      ]
    },
    {
      "cell_type": "code",
      "execution_count": 18,
      "metadata": {},
      "outputs": [],
      "source": [
        "from surprise.model_selection import cross_validate"
      ]
    },
    {
      "cell_type": "code",
      "execution_count": 21,
      "metadata": {},
      "outputs": [],
      "source": [
        "algo = SVD()"
      ]
    },
    {
      "cell_type": "code",
      "execution_count": 20,
      "metadata": {},
      "outputs": [
        {
          "name": "stdout",
          "output_type": "stream",
          "text": [
            "Evaluating RMSE, MAE of algorithm SVD on 5 split(s).\n",
            "\n",
            "                  Fold 1  Fold 2  Fold 3  Fold 4  Fold 5  Mean    Std     \n",
            "RMSE (testset)    0.3260  0.3262  0.3257  0.3251  0.3256  0.3257  0.0004  \n",
            "MAE (testset)     0.2137  0.2138  0.2135  0.2132  0.2132  0.2135  0.0002  \n",
            "Fit time          83.82   85.58   102.43  87.24   92.08   90.23   6.69    \n",
            "Test time         12.06   13.94   11.96   13.10   14.30   13.07   0.95    \n"
          ]
        },
        {
          "data": {
            "text/plain": [
              "{'test_rmse': array([0.32604366, 0.32615915, 0.32568247, 0.32512348, 0.32558022]),\n",
              " 'test_mae': array([0.21374677, 0.21375188, 0.21348058, 0.21321688, 0.21323298]),\n",
              " 'fit_time': (83.82247614860535,\n",
              "  85.58103847503662,\n",
              "  102.43146705627441,\n",
              "  87.24134159088135,\n",
              "  92.08268356323242),\n",
              " 'test_time': (12.05755066871643,\n",
              "  13.937960147857666,\n",
              "  11.958301067352295,\n",
              "  13.101463317871094,\n",
              "  14.300082445144653)}"
            ]
          },
          "execution_count": 20,
          "metadata": {},
          "output_type": "execute_result"
        }
      ],
      "source": [
        "# Run 5-fold cross-validation and print results\n",
        "cross_validate(algo, data, measures=[\"RMSE\", \"MAE\"], cv=5, verbose=True)"
      ]
    },
    {
      "cell_type": "code",
      "execution_count": 21,
      "metadata": {},
      "outputs": [],
      "source": [
        "trainset = data.build_full_trainset()"
      ]
    },
    {
      "cell_type": "code",
      "execution_count": 22,
      "metadata": {
        "id": "WrUtS5np9UXh",
        "outputId": "9f7c6017-6ffc-4626-ab99-52e741173102"
      },
      "outputs": [
        {
          "data": {
            "text/plain": [
              "<surprise.prediction_algorithms.matrix_factorization.SVD at 0x18ac078c370>"
            ]
          },
          "execution_count": 22,
          "metadata": {},
          "output_type": "execute_result"
        }
      ],
      "source": [
        "# обучаем алгоритм\n",
        "algo.fit(trainset)"
      ]
    },
    {
      "attachments": {},
      "cell_type": "markdown",
      "metadata": {},
      "source": [
        "### Для тестирования\n",
        "\n",
        "---"
      ]
    },
    {
      "cell_type": "code",
      "execution_count": 24,
      "metadata": {},
      "outputs": [
        {
          "ename": "MemoryError",
          "evalue": "",
          "output_type": "error",
          "traceback": [
            "\u001b[1;31m---------------------------------------------------------------------------\u001b[0m",
            "\u001b[1;31mMemoryError\u001b[0m                               Traceback (most recent call last)",
            "Cell \u001b[1;32mIn[24], line 1\u001b[0m\n\u001b[1;32m----> 1\u001b[0m testset \u001b[39m=\u001b[39m trainset\u001b[39m.\u001b[39;49mbuild_anti_testset()\n",
            "File \u001b[1;32mc:\\Users\\pavel\\AppData\\Local\\Programs\\Python\\Python310\\lib\\site-packages\\surprise\\trainset.py:237\u001b[0m, in \u001b[0;36mTrainset.build_anti_testset\u001b[1;34m(self, fill)\u001b[0m\n\u001b[0;32m    235\u001b[0m \u001b[39mfor\u001b[39;00m u \u001b[39min\u001b[39;00m \u001b[39mself\u001b[39m\u001b[39m.\u001b[39mall_users():\n\u001b[0;32m    236\u001b[0m     user_items \u001b[39m=\u001b[39m {j \u001b[39mfor\u001b[39;00m (j, _) \u001b[39min\u001b[39;00m \u001b[39mself\u001b[39m\u001b[39m.\u001b[39mur[u]}\n\u001b[1;32m--> 237\u001b[0m     anti_testset \u001b[39m+\u001b[39m\u001b[39m=\u001b[39m [\n\u001b[0;32m    238\u001b[0m         (\u001b[39mself\u001b[39m\u001b[39m.\u001b[39mto_raw_uid(u), \u001b[39mself\u001b[39m\u001b[39m.\u001b[39mto_raw_iid(i), fill)\n\u001b[0;32m    239\u001b[0m         \u001b[39mfor\u001b[39;00m i \u001b[39min\u001b[39;00m \u001b[39mself\u001b[39m\u001b[39m.\u001b[39mall_items()\n\u001b[0;32m    240\u001b[0m         \u001b[39mif\u001b[39;00m i \u001b[39mnot\u001b[39;00m \u001b[39min\u001b[39;00m user_items\n\u001b[0;32m    241\u001b[0m     ]\n\u001b[0;32m    242\u001b[0m \u001b[39mreturn\u001b[39;00m anti_testset\n",
            "\u001b[1;31mMemoryError\u001b[0m: "
          ]
        }
      ],
      "source": [
        "# не работает\n",
        "testset = trainset.build_anti_testset()"
      ]
    },
    {
      "cell_type": "code",
      "execution_count": null,
      "metadata": {
        "id": "gA2y_dMg9UXj"
      },
      "outputs": [],
      "source": [
        "def get_top_n(predictions, n=5):\n",
        "    \"\"\"Return the top-N recommendation for each user from a set of predictions.\n",
        "\n",
        "    Args:\n",
        "        predictions(list of Prediction objects): The list of predictions, as\n",
        "            returned by the test method of an algorithm.\n",
        "        n(int): The number of recommendation to output for each user. Default\n",
        "            is 10.\n",
        "\n",
        "    Returns:\n",
        "    A dict where keys are user (raw) ids and values are lists of tuples:\n",
        "        [(raw item id, rating estimation), ...] of size n.\n",
        "    \"\"\"\n",
        "\n",
        "    # First map the predictions to each user.\n",
        "    top_n = defaultdict(list)\n",
        "    for uid, iid, true_r, est, _ in predictions:\n",
        "        top_n[uid].append((iid, est))\n",
        "\n",
        "    # Then sort the predictions for each user and retrieve the k highest ones.\n",
        "    for uid, user_ratings in top_n.items():\n",
        "        user_ratings.sort(key=lambda x: x[1], reverse=True)\n",
        "        top_n[uid] = user_ratings[:n]\n",
        "\n",
        "    return top_n\n",
        " "
      ]
    },
    {
      "cell_type": "code",
      "execution_count": null,
      "metadata": {},
      "outputs": [],
      "source": [
        "def precision_recall_at_k(predictions, k=5, threshold=0.5):\n",
        "    \"\"\"Return precision and recall at k metrics for each user\"\"\"\n",
        "\n",
        "    # First map the predictions to each user.\n",
        "    user_est_true = defaultdict(list)\n",
        "    for uid, _, true_r, est, _ in predictions:\n",
        "        user_est_true[uid].append((est, true_r))\n",
        "\n",
        "    precisions = dict()\n",
        "    recalls = dict()\n",
        "    for uid, user_ratings in user_est_true.items():\n",
        "\n",
        "        # Sort user ratings by estimated value\n",
        "        user_ratings.sort(key=lambda x: x[0], reverse=True)\n",
        "\n",
        "        # Number of relevant items\n",
        "        n_rel = sum((true_r >= threshold) for (_, true_r) in user_ratings)\n",
        "\n",
        "        # Number of recommended items in top k\n",
        "        n_rec_k = sum((est >= threshold) for (est, _) in user_ratings[:k])\n",
        "\n",
        "        # Number of relevant and recommended items in top k\n",
        "        n_rel_and_rec_k = sum(\n",
        "            ((true_r >= threshold) and (est >= threshold))\n",
        "            for (est, true_r) in user_ratings[:k]\n",
        "        )\n",
        "\n",
        "        # Precision@K: Proportion of recommended items that are relevant\n",
        "        # When n_rec_k is 0, Precision is undefined. We here set it to 0.\n",
        "\n",
        "        precisions[uid] = n_rel_and_rec_k / n_rec_k if n_rec_k != 0 else 0\n",
        "\n",
        "        # Recall@K: Proportion of relevant items that are recommended\n",
        "        # When n_rel is 0, Recall is undefined. We here set it to 0.\n",
        "\n",
        "        recalls[uid] = n_rel_and_rec_k / n_rel if n_rel != 0 else 0\n",
        "\n",
        "    return precisions, recalls"
      ]
    },
    {
      "cell_type": "code",
      "execution_count": null,
      "metadata": {
        "id": "-Z8hlu6f9UXl"
      },
      "outputs": [],
      "source": [
        "top_5 = get_top_n(predictions, n=5)\n",
        "# Print the recommended items for each user\n",
        "for uid, user_ratings in top_5.items():\n",
        "    print(uid, [iid for (iid, _) in user_ratings])"
      ]
    },
    {
      "cell_type": "code",
      "execution_count": null,
      "metadata": {},
      "outputs": [],
      "source": [
        "from surprise.model_selection import KFold"
      ]
    },
    {
      "cell_type": "code",
      "execution_count": null,
      "metadata": {},
      "outputs": [],
      "source": [
        "kf = KFold(n_splits=5)\n",
        "\n",
        "for trainset, testset in kf.split(data):\n",
        "    algo.fit(trainset)\n",
        "    predictions = algo.test(testset)\n",
        "    precisions, recalls = precision_recall_at_k(predictions, k=5, threshold=0.01)\n",
        "\n",
        "    # Precision and recall can then be averaged over all users\n",
        "    print(sum(prec for prec in precisions.values()) / len(precisions))"
      ]
    },
    {
      "attachments": {},
      "cell_type": "markdown",
      "metadata": {},
      "source": [
        "### Получаем ответ\n",
        "---"
      ]
    },
    {
      "cell_type": "code",
      "execution_count": 23,
      "metadata": {},
      "outputs": [],
      "source": [
        "df_unic = df_final.groupby(['cookie_id','vacancy_id_']) # Осталяем только уникальные сочетания иначе он пойдет по всем записям"
      ]
    },
    {
      "cell_type": "code",
      "execution_count": 24,
      "metadata": {},
      "outputs": [],
      "source": [
        "def get_prediction_for_list(user_list, model = algo, set_n = 5):\n",
        "    top_n = {}\n",
        "    \n",
        "    for user_id in user_list:\n",
        "        user_items = df_final[df_final['cookie_id'] == user_id]['vacancy_id_'].unique()  # взаимодействия пользователя\n",
        "        candidates = df_final[~df_final['cookie_id'].isin(user_items)]['vacancy_id_'].unique()  # вакансии, с которыми пользователь не взаимодействовал\n",
        "        testset = [[user_id, item_id, 1] for item_id in candidates]  # создание тестовой выборки\n",
        "        predictions = model.test(testset)\n",
        "        top_n[user_id] = sorted(predictions, key=lambda x: x.est, reverse=True)[:set_n]  # получение топ-5 рекомендаций\n",
        "\n",
        "    # формирование результата в виде датафрейма\n",
        "    result = pd.DataFrame(columns=['cookie_id', 'top_recommendations'])\n",
        "    for user_id, predictions in top_n.items():\n",
        "        item_list = [pred.iid for pred in predictions]\n",
        "        result = result.append({'cookie_id': user_id, 'top_recommendations': item_list}, ignore_index=True)\n",
        "\n",
        "    result.head()\n",
        "    return result\n",
        "    "
      ]
    },
    {
      "cell_type": "code",
      "execution_count": 45,
      "metadata": {},
      "outputs": [],
      "source": [
        "def get_prediction_for_list2(user_list, model = algo, set_n = 5):\n",
        "    top_n = {}\n",
        "    \n",
        "    for user_id in user_list:\n",
        "        user_items = df_final[df_final['cookie_id'] == user_id]['vacancy_id_'].unique()  # взаимодействия пользователя\n",
        "        candidates = df_final[~df_final['cookie_id'].isin(user_items)]['vacancy_id_'].unique()  # вакансии, с которыми пользователь не взаимодействовал\n",
        "        testset = [[user_id, item_id, 1] for item_id in candidates]  # создание тестовой выборки\n",
        "        predictions = model.test(testset)\n",
        "        top_n[user_id] = sorted(predictions, key=lambda x: x.est, reverse=True)[:set_n]  # получение топ-5 рекомендаций\n",
        "\n",
        "    # формирование результата в виде датафрейма\n",
        "    result = pd.DataFrame(columns=['cookie_id', 'top_recommendations'])\n",
        "    for user_id, predictions in top_n.items():\n",
        "        item_list = [pred.iid for pred in predictions]\n",
        "        \n",
        "        result = pd.concat([result, {'cookie_id': user_id, 'top_recommendations': item_list}], ignore_index = True)\n",
        "\n",
        "    result.head()\n",
        "    return result"
      ]
    },
    {
      "cell_type": "code",
      "execution_count": 27,
      "metadata": {},
      "outputs": [],
      "source": [
        "test = pd.read_parquet('test_public_mfti.parquet', engine='pyarrow')"
      ]
    },
    {
      "cell_type": "code",
      "execution_count": 28,
      "metadata": {},
      "outputs": [
        {
          "name": "stdout",
          "output_type": "stream",
          "text": [
            "['000cd76cd33f43d4a1ac1d16d10f8bf7', '0034bc7f404341ba8412665453e7825a', '00a6c5a64a274c55a836402bdeb3b2c4', '015937a125b14e74bdff1cddc49f9172', '01de50c280794cec8804f16f45f847b7']\n"
          ]
        }
      ],
      "source": [
        "test_list = list(test['cookie_id'])\n",
        "print(test_list[:5])"
      ]
    },
    {
      "cell_type": "code",
      "execution_count": 47,
      "metadata": {},
      "outputs": [],
      "source": [
        "# получение рекомендаций для списка пользователей только верхние\n",
        "user_list = ['000cd76cd33f43d4a1ac1d16d10f8bf7',\t'0034bc7f404341ba8412665453e7825a',\n",
        "                 \t'00a6c5a64a274c55a836402bdeb3b2c4', '015937a125b14e74bdff1cddc49f9172', \n",
        "                    '01de50c280794cec8804f16f45f847b7']"
      ]
    },
    {
      "cell_type": "code",
      "execution_count": 48,
      "metadata": {},
      "outputs": [
        {
          "name": "stderr",
          "output_type": "stream",
          "text": [
            "C:\\Users\\pavel\\AppData\\Local\\Temp\\ipykernel_8176\\3802414354.py:15: FutureWarning: The frame.append method is deprecated and will be removed from pandas in a future version. Use pandas.concat instead.\n",
            "  result = result.append({'cookie_id': user_id, 'top_recommendations': item_list}, ignore_index=True)\n",
            "C:\\Users\\pavel\\AppData\\Local\\Temp\\ipykernel_8176\\3802414354.py:15: FutureWarning: The frame.append method is deprecated and will be removed from pandas in a future version. Use pandas.concat instead.\n",
            "  result = result.append({'cookie_id': user_id, 'top_recommendations': item_list}, ignore_index=True)\n",
            "C:\\Users\\pavel\\AppData\\Local\\Temp\\ipykernel_8176\\3802414354.py:15: FutureWarning: The frame.append method is deprecated and will be removed from pandas in a future version. Use pandas.concat instead.\n",
            "  result = result.append({'cookie_id': user_id, 'top_recommendations': item_list}, ignore_index=True)\n",
            "C:\\Users\\pavel\\AppData\\Local\\Temp\\ipykernel_8176\\3802414354.py:15: FutureWarning: The frame.append method is deprecated and will be removed from pandas in a future version. Use pandas.concat instead.\n",
            "  result = result.append({'cookie_id': user_id, 'top_recommendations': item_list}, ignore_index=True)\n",
            "C:\\Users\\pavel\\AppData\\Local\\Temp\\ipykernel_8176\\3802414354.py:15: FutureWarning: The frame.append method is deprecated and will be removed from pandas in a future version. Use pandas.concat instead.\n",
            "  result = result.append({'cookie_id': user_id, 'top_recommendations': item_list}, ignore_index=True)\n"
          ]
        }
      ],
      "source": [
        "test1 = get_prediction_for_list(user_list)"
      ]
    },
    {
      "cell_type": "code",
      "execution_count": 49,
      "metadata": {},
      "outputs": [
        {
          "data": {
            "text/html": [
              "<div>\n",
              "<style scoped>\n",
              "    .dataframe tbody tr th:only-of-type {\n",
              "        vertical-align: middle;\n",
              "    }\n",
              "\n",
              "    .dataframe tbody tr th {\n",
              "        vertical-align: top;\n",
              "    }\n",
              "\n",
              "    .dataframe thead th {\n",
              "        text-align: right;\n",
              "    }\n",
              "</style>\n",
              "<table border=\"1\" class=\"dataframe\">\n",
              "  <thead>\n",
              "    <tr style=\"text-align: right;\">\n",
              "      <th></th>\n",
              "      <th>cookie_id</th>\n",
              "      <th>top_recommendations</th>\n",
              "    </tr>\n",
              "  </thead>\n",
              "  <tbody>\n",
              "    <tr>\n",
              "      <th>0</th>\n",
              "      <td>000cd76cd33f43d4a1ac1d16d10f8bf7</td>\n",
              "      <td>[191243, 227171, 157801, 239245, 233914]</td>\n",
              "    </tr>\n",
              "    <tr>\n",
              "      <th>1</th>\n",
              "      <td>0034bc7f404341ba8412665453e7825a</td>\n",
              "      <td>[254064, 115977, 192614, 168669, 136804]</td>\n",
              "    </tr>\n",
              "    <tr>\n",
              "      <th>2</th>\n",
              "      <td>00a6c5a64a274c55a836402bdeb3b2c4</td>\n",
              "      <td>[186523, 203966, 180473, 229590, 162867]</td>\n",
              "    </tr>\n",
              "    <tr>\n",
              "      <th>3</th>\n",
              "      <td>015937a125b14e74bdff1cddc49f9172</td>\n",
              "      <td>[189127, 220465, 182069, 233914, 186650]</td>\n",
              "    </tr>\n",
              "    <tr>\n",
              "      <th>4</th>\n",
              "      <td>01de50c280794cec8804f16f45f847b7</td>\n",
              "      <td>[201216, 184067, 230397, 157311, 213741]</td>\n",
              "    </tr>\n",
              "  </tbody>\n",
              "</table>\n",
              "</div>"
            ],
            "text/plain": [
              "                          cookie_id                       top_recommendations\n",
              "0  000cd76cd33f43d4a1ac1d16d10f8bf7  [191243, 227171, 157801, 239245, 233914]\n",
              "1  0034bc7f404341ba8412665453e7825a  [254064, 115977, 192614, 168669, 136804]\n",
              "2  00a6c5a64a274c55a836402bdeb3b2c4  [186523, 203966, 180473, 229590, 162867]\n",
              "3  015937a125b14e74bdff1cddc49f9172  [189127, 220465, 182069, 233914, 186650]\n",
              "4  01de50c280794cec8804f16f45f847b7  [201216, 184067, 230397, 157311, 213741]"
            ]
          },
          "execution_count": 49,
          "metadata": {},
          "output_type": "execute_result"
        }
      ],
      "source": [
        "test1.head()"
      ]
    },
    {
      "cell_type": "code",
      "execution_count": null,
      "metadata": {},
      "outputs": [],
      "source": [
        "test2 = get_prediction_for_list2(user_list)"
      ]
    },
    {
      "cell_type": "code",
      "execution_count": 34,
      "metadata": {},
      "outputs": [
        {
          "data": {
            "text/html": [
              "<div>\n",
              "<style scoped>\n",
              "    .dataframe tbody tr th:only-of-type {\n",
              "        vertical-align: middle;\n",
              "    }\n",
              "\n",
              "    .dataframe tbody tr th {\n",
              "        vertical-align: top;\n",
              "    }\n",
              "\n",
              "    .dataframe thead th {\n",
              "        text-align: right;\n",
              "    }\n",
              "</style>\n",
              "<table border=\"1\" class=\"dataframe\">\n",
              "  <thead>\n",
              "    <tr style=\"text-align: right;\">\n",
              "      <th></th>\n",
              "      <th>cookie_id</th>\n",
              "      <th>vacancy_id_</th>\n",
              "    </tr>\n",
              "  </thead>\n",
              "  <tbody>\n",
              "    <tr>\n",
              "      <th>0</th>\n",
              "      <td>000cd76cd33f43d4a1ac1d16d10f8bf7</td>\n",
              "      <td>[222177, 222173, 222163, 238874, 238878, 22812...</td>\n",
              "    </tr>\n",
              "    <tr>\n",
              "      <th>1</th>\n",
              "      <td>0034bc7f404341ba8412665453e7825a</td>\n",
              "      <td>[102794, 137587, 257319, 237756, 240744, 11348...</td>\n",
              "    </tr>\n",
              "    <tr>\n",
              "      <th>2</th>\n",
              "      <td>00a6c5a64a274c55a836402bdeb3b2c4</td>\n",
              "      <td>[254292, 164602, 116438, 228634, 218819, 24065...</td>\n",
              "    </tr>\n",
              "    <tr>\n",
              "      <th>3</th>\n",
              "      <td>015937a125b14e74bdff1cddc49f9172</td>\n",
              "      <td>[246685, 138123, 115420, 210628, 212325, 235196]</td>\n",
              "    </tr>\n",
              "    <tr>\n",
              "      <th>4</th>\n",
              "      <td>01de50c280794cec8804f16f45f847b7</td>\n",
              "      <td>[219070, 251469, 166899, 212703, 214561]</td>\n",
              "    </tr>\n",
              "  </tbody>\n",
              "</table>\n",
              "</div>"
            ],
            "text/plain": [
              "                          cookie_id  \\\n",
              "0  000cd76cd33f43d4a1ac1d16d10f8bf7   \n",
              "1  0034bc7f404341ba8412665453e7825a   \n",
              "2  00a6c5a64a274c55a836402bdeb3b2c4   \n",
              "3  015937a125b14e74bdff1cddc49f9172   \n",
              "4  01de50c280794cec8804f16f45f847b7   \n",
              "\n",
              "                                         vacancy_id_  \n",
              "0  [222177, 222173, 222163, 238874, 238878, 22812...  \n",
              "1  [102794, 137587, 257319, 237756, 240744, 11348...  \n",
              "2  [254292, 164602, 116438, 228634, 218819, 24065...  \n",
              "3   [246685, 138123, 115420, 210628, 212325, 235196]  \n",
              "4           [219070, 251469, 166899, 212703, 214561]  "
            ]
          },
          "execution_count": 34,
          "metadata": {},
          "output_type": "execute_result"
        }
      ],
      "source": [
        "test.head()"
      ]
    },
    {
      "cell_type": "code",
      "execution_count": null,
      "metadata": {},
      "outputs": [],
      "source": [
        "test_prediction = get_prediction_for_list(test_list)"
      ]
    },
    {
      "cell_type": "code",
      "execution_count": null,
      "metadata": {},
      "outputs": [],
      "source": [
        "test_prediction2 = get_prediction_for_list2(test_list)"
      ]
    },
    {
      "cell_type": "code",
      "execution_count": 30,
      "metadata": {},
      "outputs": [
        {
          "data": {
            "text/html": [
              "<div>\n",
              "<style scoped>\n",
              "    .dataframe tbody tr th:only-of-type {\n",
              "        vertical-align: middle;\n",
              "    }\n",
              "\n",
              "    .dataframe tbody tr th {\n",
              "        vertical-align: top;\n",
              "    }\n",
              "\n",
              "    .dataframe thead th {\n",
              "        text-align: right;\n",
              "    }\n",
              "</style>\n",
              "<table border=\"1\" class=\"dataframe\">\n",
              "  <thead>\n",
              "    <tr style=\"text-align: right;\">\n",
              "      <th></th>\n",
              "      <th>cookie_id</th>\n",
              "      <th>top_recommendations</th>\n",
              "    </tr>\n",
              "  </thead>\n",
              "  <tbody>\n",
              "    <tr>\n",
              "      <th>0</th>\n",
              "      <td>000cd76cd33f43d4a1ac1d16d10f8bf7</td>\n",
              "      <td>[191243, 227171, 157801, 239245, 233914]</td>\n",
              "    </tr>\n",
              "    <tr>\n",
              "      <th>1</th>\n",
              "      <td>0034bc7f404341ba8412665453e7825a</td>\n",
              "      <td>[254064, 115977, 192614, 168669, 136804]</td>\n",
              "    </tr>\n",
              "    <tr>\n",
              "      <th>2</th>\n",
              "      <td>00a6c5a64a274c55a836402bdeb3b2c4</td>\n",
              "      <td>[186523, 203966, 180473, 229590, 162867]</td>\n",
              "    </tr>\n",
              "    <tr>\n",
              "      <th>3</th>\n",
              "      <td>015937a125b14e74bdff1cddc49f9172</td>\n",
              "      <td>[189127, 220465, 182069, 233914, 186650]</td>\n",
              "    </tr>\n",
              "    <tr>\n",
              "      <th>4</th>\n",
              "      <td>01de50c280794cec8804f16f45f847b7</td>\n",
              "      <td>[201216, 184067, 230397, 157311, 213741]</td>\n",
              "    </tr>\n",
              "    <tr>\n",
              "      <th>5</th>\n",
              "      <td>020c7d1d9a44451c9ef107fc2fe726f5</td>\n",
              "      <td>[208194, 167622, 226277, 227526, 180473]</td>\n",
              "    </tr>\n",
              "    <tr>\n",
              "      <th>6</th>\n",
              "      <td>02411265feae492ebca615b5b03e8bba</td>\n",
              "      <td>[201679, 172620, 207098, 239245, 253980]</td>\n",
              "    </tr>\n",
              "    <tr>\n",
              "      <th>7</th>\n",
              "      <td>028b4b7fd44b438b8b2b6198a74a8c88</td>\n",
              "      <td>[219948, 201635, 163895, 239245, 172043]</td>\n",
              "    </tr>\n",
              "    <tr>\n",
              "      <th>8</th>\n",
              "      <td>029c6b8042064d0899fd73f3290da565</td>\n",
              "      <td>[112427, 227262, 204095, 233914, 117718]</td>\n",
              "    </tr>\n",
              "    <tr>\n",
              "      <th>9</th>\n",
              "      <td>02db6a09b03f4459b77f0fa0acce6b42</td>\n",
              "      <td>[247679, 108352, 106941, 244340, 153723]</td>\n",
              "    </tr>\n",
              "  </tbody>\n",
              "</table>\n",
              "</div>"
            ],
            "text/plain": [
              "                          cookie_id                       top_recommendations\n",
              "0  000cd76cd33f43d4a1ac1d16d10f8bf7  [191243, 227171, 157801, 239245, 233914]\n",
              "1  0034bc7f404341ba8412665453e7825a  [254064, 115977, 192614, 168669, 136804]\n",
              "2  00a6c5a64a274c55a836402bdeb3b2c4  [186523, 203966, 180473, 229590, 162867]\n",
              "3  015937a125b14e74bdff1cddc49f9172  [189127, 220465, 182069, 233914, 186650]\n",
              "4  01de50c280794cec8804f16f45f847b7  [201216, 184067, 230397, 157311, 213741]\n",
              "5  020c7d1d9a44451c9ef107fc2fe726f5  [208194, 167622, 226277, 227526, 180473]\n",
              "6  02411265feae492ebca615b5b03e8bba  [201679, 172620, 207098, 239245, 253980]\n",
              "7  028b4b7fd44b438b8b2b6198a74a8c88  [219948, 201635, 163895, 239245, 172043]\n",
              "8  029c6b8042064d0899fd73f3290da565  [112427, 227262, 204095, 233914, 117718]\n",
              "9  02db6a09b03f4459b77f0fa0acce6b42  [247679, 108352, 106941, 244340, 153723]"
            ]
          },
          "execution_count": 30,
          "metadata": {},
          "output_type": "execute_result"
        }
      ],
      "source": [
        "test_prediction.head(10)"
      ]
    },
    {
      "cell_type": "code",
      "execution_count": null,
      "metadata": {},
      "outputs": [],
      "source": [
        "work_data[(work_data['cookie_id'] == '02411265feae492ebca615b5b03e8bba') & (work_data['vacancy_id_'] == 201679)]"
      ]
    },
    {
      "cell_type": "code",
      "execution_count": 33,
      "metadata": {},
      "outputs": [],
      "source": [
        "test_prediction.to_parquet('result.parquet')"
      ]
    },
    {
      "cell_type": "code",
      "execution_count": null,
      "metadata": {},
      "outputs": [],
      "source": [
        "def precision_n(predictions,df_test_list_top, k=5):\n",
        "  #recommendations num:\n",
        "    n_rec_k = len(df_test_list_top)*k\n",
        "  #true reccomendations:\n",
        "    matches=0\n",
        "    for row in range(len(predictions)):\n",
        "      row_match = set(predictions['top_recommendations'][row]).intersection(set(df_test_list_top['vacancy_id_'][row]))  \n",
        "      matches += len(row_match)\n",
        "  #Results:\n",
        "    precisions = matches / n_rec_k if n_rec_k != 0 else 0\n",
        "    return precisions"
      ]
    },
    {
      "cell_type": "code",
      "execution_count": 37,
      "metadata": {},
      "outputs": [
        {
          "data": {
            "text/plain": [
              "0.00025906735751295336"
            ]
          },
          "execution_count": 37,
          "metadata": {},
          "output_type": "execute_result"
        }
      ],
      "source": [
        "precision_n(test_prediction, test)"
      ]
    },
    {
      "attachments": {},
      "cell_type": "markdown",
      "metadata": {},
      "source": [
        "### Сохранение и загрузка модели\n",
        "\n",
        "---"
      ]
    },
    {
      "cell_type": "code",
      "execution_count": 77,
      "metadata": {
        "id": "IwHGWi2O97LG"
      },
      "outputs": [
        {
          "name": "stdout",
          "output_type": "stream",
          "text": [
            ">> Starting dump\n",
            ">> Dump done\n",
            "./modelSVD.pickle\n"
          ]
        }
      ],
      "source": [
        "## SAVING TRAINED MODEL\n",
        "from surprise import dump\n",
        "import os\n",
        "model_filename = \"./modelSVD.pickle\"\n",
        "print (\">> Starting dump\")\n",
        "# Dump algorithm and reload it.\n",
        "file_name = os.path.expanduser(model_filename)\n",
        "dump.dump(file_name, algo=algo)\n",
        "print (\">> Dump done\")\n",
        "print(model_filename)"
      ]
    },
    {
      "cell_type": "code",
      "execution_count": null,
      "metadata": {
        "id": "BmLTSn-P99IV"
      },
      "outputs": [],
      "source": [
        "## LOAD SAVED MODEL\n",
        "def load_model(model_filename):\n",
        "    print (\">> Loading dump\")\n",
        "    from surprise import dump\n",
        "    import os\n",
        "    file_name = os.path.expanduser(model_filename)\n",
        "    _, loaded_model = dump.load(file_name)\n",
        "    print (\">> Loaded dump\")\n",
        "    return loaded_model"
      ]
    }
  ],
  "metadata": {
    "colab": {
      "provenance": []
    },
    "kernelspec": {
      "display_name": "Python 3",
      "language": "python",
      "name": "python3"
    },
    "language_info": {
      "codemirror_mode": {
        "name": "ipython",
        "version": 3
      },
      "file_extension": ".py",
      "mimetype": "text/x-python",
      "name": "python",
      "nbconvert_exporter": "python",
      "pygments_lexer": "ipython3",
      "version": "3.10.7"
    },
    "orig_nbformat": 4,
    "vscode": {
      "interpreter": {
        "hash": "adc619b01503523b8240db011ba6e5d9101136cf083453867df1fdfca18879a8"
      }
    }
  },
  "nbformat": 4,
  "nbformat_minor": 0
}
