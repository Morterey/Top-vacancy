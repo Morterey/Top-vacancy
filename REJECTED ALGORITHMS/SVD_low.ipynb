{
  "cells": [
    {
      "cell_type": "markdown",
      "metadata": {
        "id": "wGiDKJhv9UW_"
      },
      "source": [
        "# Загружаем библиотеки и датафрейм\n",
        "---"
      ]
    },
    {
      "cell_type": "code",
      "execution_count": 1,
      "metadata": {
        "colab": {
          "base_uri": "https://localhost:8080/"
        },
        "id": "1AEA7gN69IJU",
        "outputId": "a24f765c-bfe2-4db3-92d2-91d5f8061028"
      },
      "outputs": [
        {
          "output_type": "stream",
          "name": "stdout",
          "text": [
            "Looking in indexes: https://pypi.org/simple, https://us-python.pkg.dev/colab-wheels/public/simple/\n",
            "Collecting scikit-surprise\n",
            "  Downloading scikit-surprise-1.1.3.tar.gz (771 kB)\n",
            "\u001b[2K     \u001b[90m━━━━━━━━━━━━━━━━━━━━━━━━━━━━━━━━━━━━━━\u001b[0m \u001b[32m772.0/772.0 kB\u001b[0m \u001b[31m11.3 MB/s\u001b[0m eta \u001b[36m0:00:00\u001b[0m\n",
            "\u001b[?25h  Preparing metadata (setup.py) ... \u001b[?25l\u001b[?25hdone\n",
            "Requirement already satisfied: joblib>=1.0.0 in /usr/local/lib/python3.9/dist-packages (from scikit-surprise) (1.2.0)\n",
            "Requirement already satisfied: numpy>=1.17.3 in /usr/local/lib/python3.9/dist-packages (from scikit-surprise) (1.22.4)\n",
            "Requirement already satisfied: scipy>=1.3.2 in /usr/local/lib/python3.9/dist-packages (from scikit-surprise) (1.10.1)\n",
            "Building wheels for collected packages: scikit-surprise\n",
            "  Building wheel for scikit-surprise (setup.py) ... \u001b[?25l\u001b[?25hdone\n",
            "  Created wheel for scikit-surprise: filename=scikit_surprise-1.1.3-cp39-cp39-linux_x86_64.whl size=3195851 sha256=30269292849d1bf0b485a75f5e36549ff8b7165c8eee4da52c91d02cc0e87128\n",
            "  Stored in directory: /root/.cache/pip/wheels/c6/3a/46/9b17b3512bdf283c6cb84f59929cdd5199d4e754d596d22784\n",
            "Successfully built scikit-surprise\n",
            "Installing collected packages: scikit-surprise\n",
            "Successfully installed scikit-surprise-1.1.3\n"
          ]
        }
      ],
      "source": [
        "%pip install scikit-surprise"
      ]
    },
    {
      "cell_type": "code",
      "execution_count": 1,
      "metadata": {
        "id": "AVwBrsBv9UXE"
      },
      "outputs": [],
      "source": [
        "import pandas as pd\n",
        "import ast\n",
        "from sklearn.metrics.pairwise import cosine_similarity\n",
        "import numpy as np\n",
        "import matplotlib.pyplot as plt\n",
        "from sklearn.neighbors import NearestNeighbors\n",
        "from scipy.sparse import csr_matrix\n",
        "from surprise import Reader, Dataset\n",
        "from surprise.model_selection import train_test_split\n",
        "from surprise import SVDpp, accuracy\n",
        "from surprise.model_selection import cross_validate\n",
        "from collections import defaultdict\n",
        "from surprise import SVD, SVDpp, NMF\n",
        "from surprise import SlopeOne, CoClustering\n",
        "import seaborn as sns \n"
      ]
    },
    {
      "cell_type": "code",
      "execution_count": 55,
      "metadata": {
        "id": "CXQ3R0K-9UXG"
      },
      "outputs": [],
      "source": [
        "data = pd.read_parquet('train_mfti.parquet', engine='pyarrow')"
      ]
    },
    {
      "cell_type": "code",
      "source": [
        "from google.colab import drive\n",
        "drive.mount('/content/drive')"
      ],
      "metadata": {
        "colab": {
          "base_uri": "https://localhost:8080/"
        },
        "id": "PBquMTiwoOOG",
        "outputId": "01de82f2-d7bf-4d73-cda9-d0614368e1d6"
      },
      "execution_count": 56,
      "outputs": [
        {
          "output_type": "stream",
          "name": "stdout",
          "text": [
            "Drive already mounted at /content/drive; to attempt to forcibly remount, call drive.mount(\"/content/drive\", force_remount=True).\n"
          ]
        }
      ]
    },
    {
      "cell_type": "code",
      "execution_count": 57,
      "metadata": {
        "colab": {
          "base_uri": "https://localhost:8080/",
          "height": 206
        },
        "id": "CHOW2pD0lsFM",
        "outputId": "bd62a1c7-34cd-4d7b-f0d8-ce7fdc50719a"
      },
      "outputs": [
        {
          "output_type": "execute_result",
          "data": {
            "text/plain": [
              "   event_date  event_timestamp  vacancy_id_                         cookie_id  \\\n",
              "0  2022-08-01       1659323026       129850  97990f1a021d4be19aa3f955b7eacab4   \n",
              "1  2022-08-01       1659377255       108347  03bf8c511fa949c79845a5d81b09aa1d   \n",
              "2  2022-08-01       1659376695       109069  03bf8c511fa949c79845a5d81b09aa1d   \n",
              "3  2022-08-01       1659376722       171425  03bf8c511fa949c79845a5d81b09aa1d   \n",
              "4  2022-08-01       1659374929       252384  03bf8c511fa949c79845a5d81b09aa1d   \n",
              "\n",
              "                            user_id    event_type  \n",
              "0  951f53de61764ea0b51317200a0dbbfc  show_vacancy  \n",
              "1  f5a2326a17484330aa8cb4019f1b1960  show_vacancy  \n",
              "2  f5a2326a17484330aa8cb4019f1b1960  show_vacancy  \n",
              "3  f5a2326a17484330aa8cb4019f1b1960  show_vacancy  \n",
              "4  f5a2326a17484330aa8cb4019f1b1960  show_vacancy  "
            ],
            "text/html": [
              "\n",
              "  <div id=\"df-114d20be-f388-4661-b9ab-ba2d73f0a577\">\n",
              "    <div class=\"colab-df-container\">\n",
              "      <div>\n",
              "<style scoped>\n",
              "    .dataframe tbody tr th:only-of-type {\n",
              "        vertical-align: middle;\n",
              "    }\n",
              "\n",
              "    .dataframe tbody tr th {\n",
              "        vertical-align: top;\n",
              "    }\n",
              "\n",
              "    .dataframe thead th {\n",
              "        text-align: right;\n",
              "    }\n",
              "</style>\n",
              "<table border=\"1\" class=\"dataframe\">\n",
              "  <thead>\n",
              "    <tr style=\"text-align: right;\">\n",
              "      <th></th>\n",
              "      <th>event_date</th>\n",
              "      <th>event_timestamp</th>\n",
              "      <th>vacancy_id_</th>\n",
              "      <th>cookie_id</th>\n",
              "      <th>user_id</th>\n",
              "      <th>event_type</th>\n",
              "    </tr>\n",
              "  </thead>\n",
              "  <tbody>\n",
              "    <tr>\n",
              "      <th>0</th>\n",
              "      <td>2022-08-01</td>\n",
              "      <td>1659323026</td>\n",
              "      <td>129850</td>\n",
              "      <td>97990f1a021d4be19aa3f955b7eacab4</td>\n",
              "      <td>951f53de61764ea0b51317200a0dbbfc</td>\n",
              "      <td>show_vacancy</td>\n",
              "    </tr>\n",
              "    <tr>\n",
              "      <th>1</th>\n",
              "      <td>2022-08-01</td>\n",
              "      <td>1659377255</td>\n",
              "      <td>108347</td>\n",
              "      <td>03bf8c511fa949c79845a5d81b09aa1d</td>\n",
              "      <td>f5a2326a17484330aa8cb4019f1b1960</td>\n",
              "      <td>show_vacancy</td>\n",
              "    </tr>\n",
              "    <tr>\n",
              "      <th>2</th>\n",
              "      <td>2022-08-01</td>\n",
              "      <td>1659376695</td>\n",
              "      <td>109069</td>\n",
              "      <td>03bf8c511fa949c79845a5d81b09aa1d</td>\n",
              "      <td>f5a2326a17484330aa8cb4019f1b1960</td>\n",
              "      <td>show_vacancy</td>\n",
              "    </tr>\n",
              "    <tr>\n",
              "      <th>3</th>\n",
              "      <td>2022-08-01</td>\n",
              "      <td>1659376722</td>\n",
              "      <td>171425</td>\n",
              "      <td>03bf8c511fa949c79845a5d81b09aa1d</td>\n",
              "      <td>f5a2326a17484330aa8cb4019f1b1960</td>\n",
              "      <td>show_vacancy</td>\n",
              "    </tr>\n",
              "    <tr>\n",
              "      <th>4</th>\n",
              "      <td>2022-08-01</td>\n",
              "      <td>1659374929</td>\n",
              "      <td>252384</td>\n",
              "      <td>03bf8c511fa949c79845a5d81b09aa1d</td>\n",
              "      <td>f5a2326a17484330aa8cb4019f1b1960</td>\n",
              "      <td>show_vacancy</td>\n",
              "    </tr>\n",
              "  </tbody>\n",
              "</table>\n",
              "</div>\n",
              "      <button class=\"colab-df-convert\" onclick=\"convertToInteractive('df-114d20be-f388-4661-b9ab-ba2d73f0a577')\"\n",
              "              title=\"Convert this dataframe to an interactive table.\"\n",
              "              style=\"display:none;\">\n",
              "        \n",
              "  <svg xmlns=\"http://www.w3.org/2000/svg\" height=\"24px\"viewBox=\"0 0 24 24\"\n",
              "       width=\"24px\">\n",
              "    <path d=\"M0 0h24v24H0V0z\" fill=\"none\"/>\n",
              "    <path d=\"M18.56 5.44l.94 2.06.94-2.06 2.06-.94-2.06-.94-.94-2.06-.94 2.06-2.06.94zm-11 1L8.5 8.5l.94-2.06 2.06-.94-2.06-.94L8.5 2.5l-.94 2.06-2.06.94zm10 10l.94 2.06.94-2.06 2.06-.94-2.06-.94-.94-2.06-.94 2.06-2.06.94z\"/><path d=\"M17.41 7.96l-1.37-1.37c-.4-.4-.92-.59-1.43-.59-.52 0-1.04.2-1.43.59L10.3 9.45l-7.72 7.72c-.78.78-.78 2.05 0 2.83L4 21.41c.39.39.9.59 1.41.59.51 0 1.02-.2 1.41-.59l7.78-7.78 2.81-2.81c.8-.78.8-2.07 0-2.86zM5.41 20L4 18.59l7.72-7.72 1.47 1.35L5.41 20z\"/>\n",
              "  </svg>\n",
              "      </button>\n",
              "      \n",
              "  <style>\n",
              "    .colab-df-container {\n",
              "      display:flex;\n",
              "      flex-wrap:wrap;\n",
              "      gap: 12px;\n",
              "    }\n",
              "\n",
              "    .colab-df-convert {\n",
              "      background-color: #E8F0FE;\n",
              "      border: none;\n",
              "      border-radius: 50%;\n",
              "      cursor: pointer;\n",
              "      display: none;\n",
              "      fill: #1967D2;\n",
              "      height: 32px;\n",
              "      padding: 0 0 0 0;\n",
              "      width: 32px;\n",
              "    }\n",
              "\n",
              "    .colab-df-convert:hover {\n",
              "      background-color: #E2EBFA;\n",
              "      box-shadow: 0px 1px 2px rgba(60, 64, 67, 0.3), 0px 1px 3px 1px rgba(60, 64, 67, 0.15);\n",
              "      fill: #174EA6;\n",
              "    }\n",
              "\n",
              "    [theme=dark] .colab-df-convert {\n",
              "      background-color: #3B4455;\n",
              "      fill: #D2E3FC;\n",
              "    }\n",
              "\n",
              "    [theme=dark] .colab-df-convert:hover {\n",
              "      background-color: #434B5C;\n",
              "      box-shadow: 0px 1px 3px 1px rgba(0, 0, 0, 0.15);\n",
              "      filter: drop-shadow(0px 1px 2px rgba(0, 0, 0, 0.3));\n",
              "      fill: #FFFFFF;\n",
              "    }\n",
              "  </style>\n",
              "\n",
              "      <script>\n",
              "        const buttonEl =\n",
              "          document.querySelector('#df-114d20be-f388-4661-b9ab-ba2d73f0a577 button.colab-df-convert');\n",
              "        buttonEl.style.display =\n",
              "          google.colab.kernel.accessAllowed ? 'block' : 'none';\n",
              "\n",
              "        async function convertToInteractive(key) {\n",
              "          const element = document.querySelector('#df-114d20be-f388-4661-b9ab-ba2d73f0a577');\n",
              "          const dataTable =\n",
              "            await google.colab.kernel.invokeFunction('convertToInteractive',\n",
              "                                                     [key], {});\n",
              "          if (!dataTable) return;\n",
              "\n",
              "          const docLinkHtml = 'Like what you see? Visit the ' +\n",
              "            '<a target=\"_blank\" href=https://colab.research.google.com/notebooks/data_table.ipynb>data table notebook</a>'\n",
              "            + ' to learn more about interactive tables.';\n",
              "          element.innerHTML = '';\n",
              "          dataTable['output_type'] = 'display_data';\n",
              "          await google.colab.output.renderOutput(dataTable, element);\n",
              "          const docLink = document.createElement('div');\n",
              "          docLink.innerHTML = docLinkHtml;\n",
              "          element.appendChild(docLink);\n",
              "        }\n",
              "      </script>\n",
              "    </div>\n",
              "  </div>\n",
              "  "
            ]
          },
          "metadata": {},
          "execution_count": 57
        }
      ],
      "source": [
        "data.head()"
      ]
    },
    {
      "cell_type": "code",
      "source": [
        "data.event_type.value_counts()"
      ],
      "metadata": {
        "colab": {
          "base_uri": "https://localhost:8080/"
        },
        "id": "jvRxi2rgE5qG",
        "outputId": "05d91eb4-dd93-454c-c1de-d9b251649eca"
      },
      "execution_count": 67,
      "outputs": [
        {
          "output_type": "execute_result",
          "data": {
            "text/plain": [
              "show_vacancy              6198889\n",
              "preview_click_vacancy     4781280\n",
              "click_response             384090\n",
              "click_contacts             277584\n",
              "preview_click_response     190635\n",
              "click_favorite             155844\n",
              "preview_click_favorite     107016\n",
              "preview_click_contacts     102050\n",
              "click_phone                 79191\n",
              "preview_click_phone         16009\n",
              "Name: event_type, dtype: int64"
            ]
          },
          "metadata": {},
          "execution_count": 67
        }
      ]
    },
    {
      "cell_type": "code",
      "source": [
        "work_data.rating.value_counts()"
      ],
      "metadata": {
        "colab": {
          "base_uri": "https://localhost:8080/"
        },
        "id": "h_uuTV6EFHze",
        "outputId": "65145c80-4471-498f-e415-dadc35a83ab0"
      },
      "execution_count": 69,
      "outputs": [
        {
          "output_type": "execute_result",
          "data": {
            "text/plain": [
              "0    6198889\n",
              "1    4781280\n",
              "4     384090\n",
              "6     277584\n",
              "5     190635\n",
              "2     155844\n",
              "3     107016\n",
              "7     102050\n",
              "8      79191\n",
              "9      16009\n",
              "Name: rating, dtype: int64"
            ]
          },
          "metadata": {},
          "execution_count": 69
        }
      ]
    },
    {
      "cell_type": "code",
      "execution_count": 58,
      "metadata": {
        "id": "x41q0nWs9UXH"
      },
      "outputs": [],
      "source": [
        "work_data = data.copy()"
      ]
    },
    {
      "cell_type": "code",
      "execution_count": 6,
      "metadata": {
        "id": "X0emj0Wa9UXH",
        "outputId": "e0203416-91eb-4555-f84b-8db7e702b130",
        "colab": {
          "base_uri": "https://localhost:8080/",
          "height": 206
        }
      },
      "outputs": [
        {
          "output_type": "execute_result",
          "data": {
            "text/plain": [
              "   event_date  event_timestamp  vacancy_id_                         cookie_id  \\\n",
              "0  2022-08-01       1659323026       129850  97990f1a021d4be19aa3f955b7eacab4   \n",
              "1  2022-08-01       1659377255       108347  03bf8c511fa949c79845a5d81b09aa1d   \n",
              "2  2022-08-01       1659376695       109069  03bf8c511fa949c79845a5d81b09aa1d   \n",
              "3  2022-08-01       1659376722       171425  03bf8c511fa949c79845a5d81b09aa1d   \n",
              "4  2022-08-01       1659374929       252384  03bf8c511fa949c79845a5d81b09aa1d   \n",
              "\n",
              "                            user_id    event_type  \n",
              "0  951f53de61764ea0b51317200a0dbbfc  show_vacancy  \n",
              "1  f5a2326a17484330aa8cb4019f1b1960  show_vacancy  \n",
              "2  f5a2326a17484330aa8cb4019f1b1960  show_vacancy  \n",
              "3  f5a2326a17484330aa8cb4019f1b1960  show_vacancy  \n",
              "4  f5a2326a17484330aa8cb4019f1b1960  show_vacancy  "
            ],
            "text/html": [
              "\n",
              "  <div id=\"df-6d2f1110-0e21-4d84-ac37-2ca7d1ae2b61\">\n",
              "    <div class=\"colab-df-container\">\n",
              "      <div>\n",
              "<style scoped>\n",
              "    .dataframe tbody tr th:only-of-type {\n",
              "        vertical-align: middle;\n",
              "    }\n",
              "\n",
              "    .dataframe tbody tr th {\n",
              "        vertical-align: top;\n",
              "    }\n",
              "\n",
              "    .dataframe thead th {\n",
              "        text-align: right;\n",
              "    }\n",
              "</style>\n",
              "<table border=\"1\" class=\"dataframe\">\n",
              "  <thead>\n",
              "    <tr style=\"text-align: right;\">\n",
              "      <th></th>\n",
              "      <th>event_date</th>\n",
              "      <th>event_timestamp</th>\n",
              "      <th>vacancy_id_</th>\n",
              "      <th>cookie_id</th>\n",
              "      <th>user_id</th>\n",
              "      <th>event_type</th>\n",
              "    </tr>\n",
              "  </thead>\n",
              "  <tbody>\n",
              "    <tr>\n",
              "      <th>0</th>\n",
              "      <td>2022-08-01</td>\n",
              "      <td>1659323026</td>\n",
              "      <td>129850</td>\n",
              "      <td>97990f1a021d4be19aa3f955b7eacab4</td>\n",
              "      <td>951f53de61764ea0b51317200a0dbbfc</td>\n",
              "      <td>show_vacancy</td>\n",
              "    </tr>\n",
              "    <tr>\n",
              "      <th>1</th>\n",
              "      <td>2022-08-01</td>\n",
              "      <td>1659377255</td>\n",
              "      <td>108347</td>\n",
              "      <td>03bf8c511fa949c79845a5d81b09aa1d</td>\n",
              "      <td>f5a2326a17484330aa8cb4019f1b1960</td>\n",
              "      <td>show_vacancy</td>\n",
              "    </tr>\n",
              "    <tr>\n",
              "      <th>2</th>\n",
              "      <td>2022-08-01</td>\n",
              "      <td>1659376695</td>\n",
              "      <td>109069</td>\n",
              "      <td>03bf8c511fa949c79845a5d81b09aa1d</td>\n",
              "      <td>f5a2326a17484330aa8cb4019f1b1960</td>\n",
              "      <td>show_vacancy</td>\n",
              "    </tr>\n",
              "    <tr>\n",
              "      <th>3</th>\n",
              "      <td>2022-08-01</td>\n",
              "      <td>1659376722</td>\n",
              "      <td>171425</td>\n",
              "      <td>03bf8c511fa949c79845a5d81b09aa1d</td>\n",
              "      <td>f5a2326a17484330aa8cb4019f1b1960</td>\n",
              "      <td>show_vacancy</td>\n",
              "    </tr>\n",
              "    <tr>\n",
              "      <th>4</th>\n",
              "      <td>2022-08-01</td>\n",
              "      <td>1659374929</td>\n",
              "      <td>252384</td>\n",
              "      <td>03bf8c511fa949c79845a5d81b09aa1d</td>\n",
              "      <td>f5a2326a17484330aa8cb4019f1b1960</td>\n",
              "      <td>show_vacancy</td>\n",
              "    </tr>\n",
              "  </tbody>\n",
              "</table>\n",
              "</div>\n",
              "      <button class=\"colab-df-convert\" onclick=\"convertToInteractive('df-6d2f1110-0e21-4d84-ac37-2ca7d1ae2b61')\"\n",
              "              title=\"Convert this dataframe to an interactive table.\"\n",
              "              style=\"display:none;\">\n",
              "        \n",
              "  <svg xmlns=\"http://www.w3.org/2000/svg\" height=\"24px\"viewBox=\"0 0 24 24\"\n",
              "       width=\"24px\">\n",
              "    <path d=\"M0 0h24v24H0V0z\" fill=\"none\"/>\n",
              "    <path d=\"M18.56 5.44l.94 2.06.94-2.06 2.06-.94-2.06-.94-.94-2.06-.94 2.06-2.06.94zm-11 1L8.5 8.5l.94-2.06 2.06-.94-2.06-.94L8.5 2.5l-.94 2.06-2.06.94zm10 10l.94 2.06.94-2.06 2.06-.94-2.06-.94-.94-2.06-.94 2.06-2.06.94z\"/><path d=\"M17.41 7.96l-1.37-1.37c-.4-.4-.92-.59-1.43-.59-.52 0-1.04.2-1.43.59L10.3 9.45l-7.72 7.72c-.78.78-.78 2.05 0 2.83L4 21.41c.39.39.9.59 1.41.59.51 0 1.02-.2 1.41-.59l7.78-7.78 2.81-2.81c.8-.78.8-2.07 0-2.86zM5.41 20L4 18.59l7.72-7.72 1.47 1.35L5.41 20z\"/>\n",
              "  </svg>\n",
              "      </button>\n",
              "      \n",
              "  <style>\n",
              "    .colab-df-container {\n",
              "      display:flex;\n",
              "      flex-wrap:wrap;\n",
              "      gap: 12px;\n",
              "    }\n",
              "\n",
              "    .colab-df-convert {\n",
              "      background-color: #E8F0FE;\n",
              "      border: none;\n",
              "      border-radius: 50%;\n",
              "      cursor: pointer;\n",
              "      display: none;\n",
              "      fill: #1967D2;\n",
              "      height: 32px;\n",
              "      padding: 0 0 0 0;\n",
              "      width: 32px;\n",
              "    }\n",
              "\n",
              "    .colab-df-convert:hover {\n",
              "      background-color: #E2EBFA;\n",
              "      box-shadow: 0px 1px 2px rgba(60, 64, 67, 0.3), 0px 1px 3px 1px rgba(60, 64, 67, 0.15);\n",
              "      fill: #174EA6;\n",
              "    }\n",
              "\n",
              "    [theme=dark] .colab-df-convert {\n",
              "      background-color: #3B4455;\n",
              "      fill: #D2E3FC;\n",
              "    }\n",
              "\n",
              "    [theme=dark] .colab-df-convert:hover {\n",
              "      background-color: #434B5C;\n",
              "      box-shadow: 0px 1px 3px 1px rgba(0, 0, 0, 0.15);\n",
              "      filter: drop-shadow(0px 1px 2px rgba(0, 0, 0, 0.3));\n",
              "      fill: #FFFFFF;\n",
              "    }\n",
              "  </style>\n",
              "\n",
              "      <script>\n",
              "        const buttonEl =\n",
              "          document.querySelector('#df-6d2f1110-0e21-4d84-ac37-2ca7d1ae2b61 button.colab-df-convert');\n",
              "        buttonEl.style.display =\n",
              "          google.colab.kernel.accessAllowed ? 'block' : 'none';\n",
              "\n",
              "        async function convertToInteractive(key) {\n",
              "          const element = document.querySelector('#df-6d2f1110-0e21-4d84-ac37-2ca7d1ae2b61');\n",
              "          const dataTable =\n",
              "            await google.colab.kernel.invokeFunction('convertToInteractive',\n",
              "                                                     [key], {});\n",
              "          if (!dataTable) return;\n",
              "\n",
              "          const docLinkHtml = 'Like what you see? Visit the ' +\n",
              "            '<a target=\"_blank\" href=https://colab.research.google.com/notebooks/data_table.ipynb>data table notebook</a>'\n",
              "            + ' to learn more about interactive tables.';\n",
              "          element.innerHTML = '';\n",
              "          dataTable['output_type'] = 'display_data';\n",
              "          await google.colab.output.renderOutput(dataTable, element);\n",
              "          const docLink = document.createElement('div');\n",
              "          docLink.innerHTML = docLinkHtml;\n",
              "          element.appendChild(docLink);\n",
              "        }\n",
              "      </script>\n",
              "    </div>\n",
              "  </div>\n",
              "  "
            ]
          },
          "metadata": {},
          "execution_count": 6
        }
      ],
      "source": [
        "work_data.head()"
      ]
    },
    {
      "cell_type": "code",
      "execution_count": 68,
      "metadata": {
        "id": "dwW6ltkp9UXI"
      },
      "outputs": [],
      "source": [
        "work_data['rating'] = work_data['event_type'].map({'show_vacancy': 0,\n",
        "                                     'preview_click_vacancy': 1,\n",
        "                                     'click_favorite': 2,\n",
        "                                     'preview_click_favorite': 3,\n",
        "                                     'click_response': 4,\n",
        "                                     'preview_click_response': 5,\n",
        "                                     'click_contacts': 6,\n",
        "                                     'preview_click_contacts': 7,\n",
        "                                     'click_phone': 8,\n",
        "                                     'preview_click_phone': 9})"
      ]
    },
    {
      "cell_type": "code",
      "execution_count": 70,
      "metadata": {
        "id": "NXWKP6AC9UXJ"
      },
      "outputs": [],
      "source": [
        "df_ratings = work_data[['cookie_id', 'vacancy_id_', 'rating']]"
      ]
    },
    {
      "cell_type": "code",
      "source": [
        "df_test  = work_data[['cookie_id', 'vacancy_id_', 'rating']]"
      ],
      "metadata": {
        "id": "ZCbla7S52k5y"
      },
      "execution_count": 71,
      "outputs": []
    },
    {
      "cell_type": "code",
      "execution_count": 72,
      "metadata": {
        "id": "co-td-OC9UXK",
        "outputId": "fdadd6ec-3ab1-4fb5-e8fd-942251fb755f",
        "colab": {
          "base_uri": "https://localhost:8080/"
        }
      },
      "outputs": [
        {
          "output_type": "stream",
          "name": "stdout",
          "text": [
            "<class 'pandas.core.frame.DataFrame'>\n",
            "RangeIndex: 12292588 entries, 0 to 12292587\n",
            "Data columns (total 3 columns):\n",
            " #   Column       Dtype \n",
            "---  ------       ----- \n",
            " 0   cookie_id    object\n",
            " 1   vacancy_id_  int64 \n",
            " 2   rating       int64 \n",
            "dtypes: int64(2), object(1)\n",
            "memory usage: 281.4+ MB\n"
          ]
        }
      ],
      "source": [
        "df_ratings.info()"
      ]
    },
    {
      "cell_type": "code",
      "execution_count": 73,
      "metadata": {
        "id": "R_driCGM9UXK"
      },
      "outputs": [],
      "source": [
        "df_ratings = df_ratings.groupby(['cookie_id','vacancy_id_'])['rating'].max().reset_index()"
      ]
    },
    {
      "cell_type": "code",
      "source": [
        "df_test = df_test.groupby(['cookie_id','vacancy_id_'])['rating'].max().reset_index()"
      ],
      "metadata": {
        "id": "JHDYO8TL2qO5"
      },
      "execution_count": 74,
      "outputs": []
    },
    {
      "cell_type": "code",
      "source": [
        "df_test.head()"
      ],
      "metadata": {
        "colab": {
          "base_uri": "https://localhost:8080/",
          "height": 206
        },
        "id": "vCMB4QRu22vp",
        "outputId": "839b3f92-f795-406b-d34b-630a10203a7a"
      },
      "execution_count": 75,
      "outputs": [
        {
          "output_type": "execute_result",
          "data": {
            "text/plain": [
              "                          cookie_id  vacancy_id_  rating\n",
              "0  0000c4548c3944c08972bbdc1fa4eb85       137659       1\n",
              "1  0000c4548c3944c08972bbdc1fa4eb85       153975       1\n",
              "2  0000c4548c3944c08972bbdc1fa4eb85       174953       2\n",
              "3  0000c4548c3944c08972bbdc1fa4eb85       176171       1\n",
              "4  0000c4548c3944c08972bbdc1fa4eb85       182445       1"
            ],
            "text/html": [
              "\n",
              "  <div id=\"df-172245e6-7ad7-4204-8950-8b93f7d5782d\">\n",
              "    <div class=\"colab-df-container\">\n",
              "      <div>\n",
              "<style scoped>\n",
              "    .dataframe tbody tr th:only-of-type {\n",
              "        vertical-align: middle;\n",
              "    }\n",
              "\n",
              "    .dataframe tbody tr th {\n",
              "        vertical-align: top;\n",
              "    }\n",
              "\n",
              "    .dataframe thead th {\n",
              "        text-align: right;\n",
              "    }\n",
              "</style>\n",
              "<table border=\"1\" class=\"dataframe\">\n",
              "  <thead>\n",
              "    <tr style=\"text-align: right;\">\n",
              "      <th></th>\n",
              "      <th>cookie_id</th>\n",
              "      <th>vacancy_id_</th>\n",
              "      <th>rating</th>\n",
              "    </tr>\n",
              "  </thead>\n",
              "  <tbody>\n",
              "    <tr>\n",
              "      <th>0</th>\n",
              "      <td>0000c4548c3944c08972bbdc1fa4eb85</td>\n",
              "      <td>137659</td>\n",
              "      <td>1</td>\n",
              "    </tr>\n",
              "    <tr>\n",
              "      <th>1</th>\n",
              "      <td>0000c4548c3944c08972bbdc1fa4eb85</td>\n",
              "      <td>153975</td>\n",
              "      <td>1</td>\n",
              "    </tr>\n",
              "    <tr>\n",
              "      <th>2</th>\n",
              "      <td>0000c4548c3944c08972bbdc1fa4eb85</td>\n",
              "      <td>174953</td>\n",
              "      <td>2</td>\n",
              "    </tr>\n",
              "    <tr>\n",
              "      <th>3</th>\n",
              "      <td>0000c4548c3944c08972bbdc1fa4eb85</td>\n",
              "      <td>176171</td>\n",
              "      <td>1</td>\n",
              "    </tr>\n",
              "    <tr>\n",
              "      <th>4</th>\n",
              "      <td>0000c4548c3944c08972bbdc1fa4eb85</td>\n",
              "      <td>182445</td>\n",
              "      <td>1</td>\n",
              "    </tr>\n",
              "  </tbody>\n",
              "</table>\n",
              "</div>\n",
              "      <button class=\"colab-df-convert\" onclick=\"convertToInteractive('df-172245e6-7ad7-4204-8950-8b93f7d5782d')\"\n",
              "              title=\"Convert this dataframe to an interactive table.\"\n",
              "              style=\"display:none;\">\n",
              "        \n",
              "  <svg xmlns=\"http://www.w3.org/2000/svg\" height=\"24px\"viewBox=\"0 0 24 24\"\n",
              "       width=\"24px\">\n",
              "    <path d=\"M0 0h24v24H0V0z\" fill=\"none\"/>\n",
              "    <path d=\"M18.56 5.44l.94 2.06.94-2.06 2.06-.94-2.06-.94-.94-2.06-.94 2.06-2.06.94zm-11 1L8.5 8.5l.94-2.06 2.06-.94-2.06-.94L8.5 2.5l-.94 2.06-2.06.94zm10 10l.94 2.06.94-2.06 2.06-.94-2.06-.94-.94-2.06-.94 2.06-2.06.94z\"/><path d=\"M17.41 7.96l-1.37-1.37c-.4-.4-.92-.59-1.43-.59-.52 0-1.04.2-1.43.59L10.3 9.45l-7.72 7.72c-.78.78-.78 2.05 0 2.83L4 21.41c.39.39.9.59 1.41.59.51 0 1.02-.2 1.41-.59l7.78-7.78 2.81-2.81c.8-.78.8-2.07 0-2.86zM5.41 20L4 18.59l7.72-7.72 1.47 1.35L5.41 20z\"/>\n",
              "  </svg>\n",
              "      </button>\n",
              "      \n",
              "  <style>\n",
              "    .colab-df-container {\n",
              "      display:flex;\n",
              "      flex-wrap:wrap;\n",
              "      gap: 12px;\n",
              "    }\n",
              "\n",
              "    .colab-df-convert {\n",
              "      background-color: #E8F0FE;\n",
              "      border: none;\n",
              "      border-radius: 50%;\n",
              "      cursor: pointer;\n",
              "      display: none;\n",
              "      fill: #1967D2;\n",
              "      height: 32px;\n",
              "      padding: 0 0 0 0;\n",
              "      width: 32px;\n",
              "    }\n",
              "\n",
              "    .colab-df-convert:hover {\n",
              "      background-color: #E2EBFA;\n",
              "      box-shadow: 0px 1px 2px rgba(60, 64, 67, 0.3), 0px 1px 3px 1px rgba(60, 64, 67, 0.15);\n",
              "      fill: #174EA6;\n",
              "    }\n",
              "\n",
              "    [theme=dark] .colab-df-convert {\n",
              "      background-color: #3B4455;\n",
              "      fill: #D2E3FC;\n",
              "    }\n",
              "\n",
              "    [theme=dark] .colab-df-convert:hover {\n",
              "      background-color: #434B5C;\n",
              "      box-shadow: 0px 1px 3px 1px rgba(0, 0, 0, 0.15);\n",
              "      filter: drop-shadow(0px 1px 2px rgba(0, 0, 0, 0.3));\n",
              "      fill: #FFFFFF;\n",
              "    }\n",
              "  </style>\n",
              "\n",
              "      <script>\n",
              "        const buttonEl =\n",
              "          document.querySelector('#df-172245e6-7ad7-4204-8950-8b93f7d5782d button.colab-df-convert');\n",
              "        buttonEl.style.display =\n",
              "          google.colab.kernel.accessAllowed ? 'block' : 'none';\n",
              "\n",
              "        async function convertToInteractive(key) {\n",
              "          const element = document.querySelector('#df-172245e6-7ad7-4204-8950-8b93f7d5782d');\n",
              "          const dataTable =\n",
              "            await google.colab.kernel.invokeFunction('convertToInteractive',\n",
              "                                                     [key], {});\n",
              "          if (!dataTable) return;\n",
              "\n",
              "          const docLinkHtml = 'Like what you see? Visit the ' +\n",
              "            '<a target=\"_blank\" href=https://colab.research.google.com/notebooks/data_table.ipynb>data table notebook</a>'\n",
              "            + ' to learn more about interactive tables.';\n",
              "          element.innerHTML = '';\n",
              "          dataTable['output_type'] = 'display_data';\n",
              "          await google.colab.output.renderOutput(dataTable, element);\n",
              "          const docLink = document.createElement('div');\n",
              "          docLink.innerHTML = docLinkHtml;\n",
              "          element.appendChild(docLink);\n",
              "        }\n",
              "      </script>\n",
              "    </div>\n",
              "  </div>\n",
              "  "
            ]
          },
          "metadata": {},
          "execution_count": 75
        }
      ]
    },
    {
      "cell_type": "code",
      "execution_count": 76,
      "metadata": {
        "id": "8c0gftTT9UXL",
        "outputId": "836e54f4-88ab-4438-d0c0-4e16af840aa9",
        "colab": {
          "base_uri": "https://localhost:8080/",
          "height": 206
        }
      },
      "outputs": [
        {
          "output_type": "execute_result",
          "data": {
            "text/plain": [
              "                          cookie_id  vacancy_id_  rating\n",
              "0  0000c4548c3944c08972bbdc1fa4eb85       137659       1\n",
              "1  0000c4548c3944c08972bbdc1fa4eb85       153975       1\n",
              "2  0000c4548c3944c08972bbdc1fa4eb85       174953       2\n",
              "3  0000c4548c3944c08972bbdc1fa4eb85       176171       1\n",
              "4  0000c4548c3944c08972bbdc1fa4eb85       182445       1"
            ],
            "text/html": [
              "\n",
              "  <div id=\"df-69775872-d416-406a-8e82-f3f89f686df8\">\n",
              "    <div class=\"colab-df-container\">\n",
              "      <div>\n",
              "<style scoped>\n",
              "    .dataframe tbody tr th:only-of-type {\n",
              "        vertical-align: middle;\n",
              "    }\n",
              "\n",
              "    .dataframe tbody tr th {\n",
              "        vertical-align: top;\n",
              "    }\n",
              "\n",
              "    .dataframe thead th {\n",
              "        text-align: right;\n",
              "    }\n",
              "</style>\n",
              "<table border=\"1\" class=\"dataframe\">\n",
              "  <thead>\n",
              "    <tr style=\"text-align: right;\">\n",
              "      <th></th>\n",
              "      <th>cookie_id</th>\n",
              "      <th>vacancy_id_</th>\n",
              "      <th>rating</th>\n",
              "    </tr>\n",
              "  </thead>\n",
              "  <tbody>\n",
              "    <tr>\n",
              "      <th>0</th>\n",
              "      <td>0000c4548c3944c08972bbdc1fa4eb85</td>\n",
              "      <td>137659</td>\n",
              "      <td>1</td>\n",
              "    </tr>\n",
              "    <tr>\n",
              "      <th>1</th>\n",
              "      <td>0000c4548c3944c08972bbdc1fa4eb85</td>\n",
              "      <td>153975</td>\n",
              "      <td>1</td>\n",
              "    </tr>\n",
              "    <tr>\n",
              "      <th>2</th>\n",
              "      <td>0000c4548c3944c08972bbdc1fa4eb85</td>\n",
              "      <td>174953</td>\n",
              "      <td>2</td>\n",
              "    </tr>\n",
              "    <tr>\n",
              "      <th>3</th>\n",
              "      <td>0000c4548c3944c08972bbdc1fa4eb85</td>\n",
              "      <td>176171</td>\n",
              "      <td>1</td>\n",
              "    </tr>\n",
              "    <tr>\n",
              "      <th>4</th>\n",
              "      <td>0000c4548c3944c08972bbdc1fa4eb85</td>\n",
              "      <td>182445</td>\n",
              "      <td>1</td>\n",
              "    </tr>\n",
              "  </tbody>\n",
              "</table>\n",
              "</div>\n",
              "      <button class=\"colab-df-convert\" onclick=\"convertToInteractive('df-69775872-d416-406a-8e82-f3f89f686df8')\"\n",
              "              title=\"Convert this dataframe to an interactive table.\"\n",
              "              style=\"display:none;\">\n",
              "        \n",
              "  <svg xmlns=\"http://www.w3.org/2000/svg\" height=\"24px\"viewBox=\"0 0 24 24\"\n",
              "       width=\"24px\">\n",
              "    <path d=\"M0 0h24v24H0V0z\" fill=\"none\"/>\n",
              "    <path d=\"M18.56 5.44l.94 2.06.94-2.06 2.06-.94-2.06-.94-.94-2.06-.94 2.06-2.06.94zm-11 1L8.5 8.5l.94-2.06 2.06-.94-2.06-.94L8.5 2.5l-.94 2.06-2.06.94zm10 10l.94 2.06.94-2.06 2.06-.94-2.06-.94-.94-2.06-.94 2.06-2.06.94z\"/><path d=\"M17.41 7.96l-1.37-1.37c-.4-.4-.92-.59-1.43-.59-.52 0-1.04.2-1.43.59L10.3 9.45l-7.72 7.72c-.78.78-.78 2.05 0 2.83L4 21.41c.39.39.9.59 1.41.59.51 0 1.02-.2 1.41-.59l7.78-7.78 2.81-2.81c.8-.78.8-2.07 0-2.86zM5.41 20L4 18.59l7.72-7.72 1.47 1.35L5.41 20z\"/>\n",
              "  </svg>\n",
              "      </button>\n",
              "      \n",
              "  <style>\n",
              "    .colab-df-container {\n",
              "      display:flex;\n",
              "      flex-wrap:wrap;\n",
              "      gap: 12px;\n",
              "    }\n",
              "\n",
              "    .colab-df-convert {\n",
              "      background-color: #E8F0FE;\n",
              "      border: none;\n",
              "      border-radius: 50%;\n",
              "      cursor: pointer;\n",
              "      display: none;\n",
              "      fill: #1967D2;\n",
              "      height: 32px;\n",
              "      padding: 0 0 0 0;\n",
              "      width: 32px;\n",
              "    }\n",
              "\n",
              "    .colab-df-convert:hover {\n",
              "      background-color: #E2EBFA;\n",
              "      box-shadow: 0px 1px 2px rgba(60, 64, 67, 0.3), 0px 1px 3px 1px rgba(60, 64, 67, 0.15);\n",
              "      fill: #174EA6;\n",
              "    }\n",
              "\n",
              "    [theme=dark] .colab-df-convert {\n",
              "      background-color: #3B4455;\n",
              "      fill: #D2E3FC;\n",
              "    }\n",
              "\n",
              "    [theme=dark] .colab-df-convert:hover {\n",
              "      background-color: #434B5C;\n",
              "      box-shadow: 0px 1px 3px 1px rgba(0, 0, 0, 0.15);\n",
              "      filter: drop-shadow(0px 1px 2px rgba(0, 0, 0, 0.3));\n",
              "      fill: #FFFFFF;\n",
              "    }\n",
              "  </style>\n",
              "\n",
              "      <script>\n",
              "        const buttonEl =\n",
              "          document.querySelector('#df-69775872-d416-406a-8e82-f3f89f686df8 button.colab-df-convert');\n",
              "        buttonEl.style.display =\n",
              "          google.colab.kernel.accessAllowed ? 'block' : 'none';\n",
              "\n",
              "        async function convertToInteractive(key) {\n",
              "          const element = document.querySelector('#df-69775872-d416-406a-8e82-f3f89f686df8');\n",
              "          const dataTable =\n",
              "            await google.colab.kernel.invokeFunction('convertToInteractive',\n",
              "                                                     [key], {});\n",
              "          if (!dataTable) return;\n",
              "\n",
              "          const docLinkHtml = 'Like what you see? Visit the ' +\n",
              "            '<a target=\"_blank\" href=https://colab.research.google.com/notebooks/data_table.ipynb>data table notebook</a>'\n",
              "            + ' to learn more about interactive tables.';\n",
              "          element.innerHTML = '';\n",
              "          dataTable['output_type'] = 'display_data';\n",
              "          await google.colab.output.renderOutput(dataTable, element);\n",
              "          const docLink = document.createElement('div');\n",
              "          docLink.innerHTML = docLinkHtml;\n",
              "          element.appendChild(docLink);\n",
              "        }\n",
              "      </script>\n",
              "    </div>\n",
              "  </div>\n",
              "  "
            ]
          },
          "metadata": {},
          "execution_count": 76
        }
      ],
      "source": [
        "df_ratings.head()"
      ]
    },
    {
      "cell_type": "code",
      "execution_count": 77,
      "metadata": {
        "colab": {
          "base_uri": "https://localhost:8080/"
        },
        "id": "F7EESiTxlsFQ",
        "outputId": "4b68bf31-5659-44f0-cb0c-ba30227bca43"
      },
      "outputs": [
        {
          "output_type": "stream",
          "name": "stdout",
          "text": [
            "<class 'pandas.core.frame.DataFrame'>\n",
            "RangeIndex: 4678585 entries, 0 to 4678584\n",
            "Data columns (total 3 columns):\n",
            " #   Column       Dtype \n",
            "---  ------       ----- \n",
            " 0   cookie_id    object\n",
            " 1   vacancy_id_  int64 \n",
            " 2   rating       int64 \n",
            "dtypes: int64(2), object(1)\n",
            "memory usage: 107.1+ MB\n"
          ]
        }
      ],
      "source": [
        "df_ratings.info()"
      ]
    },
    {
      "cell_type": "markdown",
      "metadata": {
        "id": "Ql-kFQuQ9UXQ"
      },
      "source": [
        "Начинаем преобразовывать характеристики"
      ]
    },
    {
      "cell_type": "code",
      "execution_count": 78,
      "metadata": {
        "id": "bQd6tqkG9UXQ",
        "outputId": "de98effb-fb8a-4514-a185-e42295318f49",
        "colab": {
          "base_uri": "https://localhost:8080/",
          "height": 730
        }
      },
      "outputs": [
        {
          "output_type": "execute_result",
          "data": {
            "text/plain": [
              "Text(0.5, 1.0, 'Распределение откликов по вакансиям')"
            ]
          },
          "metadata": {},
          "execution_count": 78
        },
        {
          "output_type": "display_data",
          "data": {
            "text/plain": [
              "<Figure size 1200x800 with 1 Axes>"
            ],
            "image/png": "[encoded data removed]"
          },
          "metadata": {}
        }
      ],
      "source": [
        "ratings_count = df_ratings['rating'].value_counts().sort_index(ascending=True)\n",
        " \n",
        "plt.figure(figsize=(12,8))\n",
        " \n",
        "ax = ratings_count.plot.bar()\n",
        " \n",
        "ax.set_xlabel(\"Отклики\")\n",
        " \n",
        "ax.set_ylabel(\"Количество откликов\")\n",
        " \n",
        "ax.set_title(\"Распределение откликов по вакансиям\")"
      ]
    },
    {
      "cell_type": "code",
      "execution_count": 79,
      "metadata": {
        "id": "EzmmSsKL9UXR"
      },
      "outputs": [],
      "source": [
        "df = df_ratings[['vacancy_id_','cookie_id']].groupby(['vacancy_id_']).agg(['count']).sort_values(('cookie_id','count'),ascending=False)"
      ]
    },
    {
      "cell_type": "code",
      "execution_count": 80,
      "metadata": {
        "id": "pMyIqQYI9UXS",
        "outputId": "8d6927ab-298e-46ad-f5be-cf742d9af1b4",
        "colab": {
          "base_uri": "https://localhost:8080/",
          "height": 269
        }
      },
      "outputs": [
        {
          "output_type": "execute_result",
          "data": {
            "text/plain": [
              "            cookie_id\n",
              "                count\n",
              "vacancy_id_          \n",
              "260154          18662\n",
              "198114          16674\n",
              "203404          16284\n",
              "111505          15088\n",
              "202608          14524"
            ],
            "text/html": [
              "\n",
              "  <div id=\"df-7cb0658d-1780-433e-a0dc-121736937a8f\">\n",
              "    <div class=\"colab-df-container\">\n",
              "      <div>\n",
              "<style scoped>\n",
              "    .dataframe tbody tr th:only-of-type {\n",
              "        vertical-align: middle;\n",
              "    }\n",
              "\n",
              "    .dataframe tbody tr th {\n",
              "        vertical-align: top;\n",
              "    }\n",
              "\n",
              "    .dataframe thead tr th {\n",
              "        text-align: left;\n",
              "    }\n",
              "\n",
              "    .dataframe thead tr:last-of-type th {\n",
              "        text-align: right;\n",
              "    }\n",
              "</style>\n",
              "<table border=\"1\" class=\"dataframe\">\n",
              "  <thead>\n",
              "    <tr>\n",
              "      <th></th>\n",
              "      <th>cookie_id</th>\n",
              "    </tr>\n",
              "    <tr>\n",
              "      <th></th>\n",
              "      <th>count</th>\n",
              "    </tr>\n",
              "    <tr>\n",
              "      <th>vacancy_id_</th>\n",
              "      <th></th>\n",
              "    </tr>\n",
              "  </thead>\n",
              "  <tbody>\n",
              "    <tr>\n",
              "      <th>260154</th>\n",
              "      <td>18662</td>\n",
              "    </tr>\n",
              "    <tr>\n",
              "      <th>198114</th>\n",
              "      <td>16674</td>\n",
              "    </tr>\n",
              "    <tr>\n",
              "      <th>203404</th>\n",
              "      <td>16284</td>\n",
              "    </tr>\n",
              "    <tr>\n",
              "      <th>111505</th>\n",
              "      <td>15088</td>\n",
              "    </tr>\n",
              "    <tr>\n",
              "      <th>202608</th>\n",
              "      <td>14524</td>\n",
              "    </tr>\n",
              "  </tbody>\n",
              "</table>\n",
              "</div>\n",
              "      <button class=\"colab-df-convert\" onclick=\"convertToInteractive('df-7cb0658d-1780-433e-a0dc-121736937a8f')\"\n",
              "              title=\"Convert this dataframe to an interactive table.\"\n",
              "              style=\"display:none;\">\n",
              "        \n",
              "  <svg xmlns=\"http://www.w3.org/2000/svg\" height=\"24px\"viewBox=\"0 0 24 24\"\n",
              "       width=\"24px\">\n",
              "    <path d=\"M0 0h24v24H0V0z\" fill=\"none\"/>\n",
              "    <path d=\"M18.56 5.44l.94 2.06.94-2.06 2.06-.94-2.06-.94-.94-2.06-.94 2.06-2.06.94zm-11 1L8.5 8.5l.94-2.06 2.06-.94-2.06-.94L8.5 2.5l-.94 2.06-2.06.94zm10 10l.94 2.06.94-2.06 2.06-.94-2.06-.94-.94-2.06-.94 2.06-2.06.94z\"/><path d=\"M17.41 7.96l-1.37-1.37c-.4-.4-.92-.59-1.43-.59-.52 0-1.04.2-1.43.59L10.3 9.45l-7.72 7.72c-.78.78-.78 2.05 0 2.83L4 21.41c.39.39.9.59 1.41.59.51 0 1.02-.2 1.41-.59l7.78-7.78 2.81-2.81c.8-.78.8-2.07 0-2.86zM5.41 20L4 18.59l7.72-7.72 1.47 1.35L5.41 20z\"/>\n",
              "  </svg>\n",
              "      </button>\n",
              "      \n",
              "  <style>\n",
              "    .colab-df-container {\n",
              "      display:flex;\n",
              "      flex-wrap:wrap;\n",
              "      gap: 12px;\n",
              "    }\n",
              "\n",
              "    .colab-df-convert {\n",
              "      background-color: #E8F0FE;\n",
              "      border: none;\n",
              "      border-radius: 50%;\n",
              "      cursor: pointer;\n",
              "      display: none;\n",
              "      fill: #1967D2;\n",
              "      height: 32px;\n",
              "      padding: 0 0 0 0;\n",
              "      width: 32px;\n",
              "    }\n",
              "\n",
              "    .colab-df-convert:hover {\n",
              "      background-color: #E2EBFA;\n",
              "      box-shadow: 0px 1px 2px rgba(60, 64, 67, 0.3), 0px 1px 3px 1px rgba(60, 64, 67, 0.15);\n",
              "      fill: #174EA6;\n",
              "    }\n",
              "\n",
              "    [theme=dark] .colab-df-convert {\n",
              "      background-color: #3B4455;\n",
              "      fill: #D2E3FC;\n",
              "    }\n",
              "\n",
              "    [theme=dark] .colab-df-convert:hover {\n",
              "      background-color: #434B5C;\n",
              "      box-shadow: 0px 1px 3px 1px rgba(0, 0, 0, 0.15);\n",
              "      filter: drop-shadow(0px 1px 2px rgba(0, 0, 0, 0.3));\n",
              "      fill: #FFFFFF;\n",
              "    }\n",
              "  </style>\n",
              "\n",
              "      <script>\n",
              "        const buttonEl =\n",
              "          document.querySelector('#df-7cb0658d-1780-433e-a0dc-121736937a8f button.colab-df-convert');\n",
              "        buttonEl.style.display =\n",
              "          google.colab.kernel.accessAllowed ? 'block' : 'none';\n",
              "\n",
              "        async function convertToInteractive(key) {\n",
              "          const element = document.querySelector('#df-7cb0658d-1780-433e-a0dc-121736937a8f');\n",
              "          const dataTable =\n",
              "            await google.colab.kernel.invokeFunction('convertToInteractive',\n",
              "                                                     [key], {});\n",
              "          if (!dataTable) return;\n",
              "\n",
              "          const docLinkHtml = 'Like what you see? Visit the ' +\n",
              "            '<a target=\"_blank\" href=https://colab.research.google.com/notebooks/data_table.ipynb>data table notebook</a>'\n",
              "            + ' to learn more about interactive tables.';\n",
              "          element.innerHTML = '';\n",
              "          dataTable['output_type'] = 'display_data';\n",
              "          await google.colab.output.renderOutput(dataTable, element);\n",
              "          const docLink = document.createElement('div');\n",
              "          docLink.innerHTML = docLinkHtml;\n",
              "          element.appendChild(docLink);\n",
              "        }\n",
              "      </script>\n",
              "    </div>\n",
              "  </div>\n",
              "  "
            ]
          },
          "metadata": {},
          "execution_count": 80
        }
      ],
      "source": [
        "df.head()"
      ]
    },
    {
      "cell_type": "code",
      "execution_count": 81,
      "metadata": {
        "id": "e0Qq9nwx9UXT",
        "outputId": "0df91a3d-77bf-4598-a850-a2bd7a21ca03",
        "colab": {
          "base_uri": "https://localhost:8080/",
          "height": 656
        }
      },
      "outputs": [
        {
          "output_type": "execute_result",
          "data": {
            "text/plain": [
              "Text(0, 0.5, 'Количество кликов')"
            ]
          },
          "metadata": {},
          "execution_count": 81
        },
        {
          "output_type": "display_data",
          "data": {
            "text/plain": [
              "<Figure size 1500x800 with 1 Axes>"
            ],
            "image/png": "[encoded data removed]"
          },
          "metadata": {}
        }
      ],
      "source": [
        " \n",
        "plt.figure(figsize=(15,8))\n",
        " \n",
        "sns.set_style(\"darkgrid\")\n",
        " \n",
        "sns.lineplot(data=df[('cookie_id', 'count')].values)\n",
        " \n",
        "plt.title(\"Рейтинг частоты кликов\")\n",
        " \n",
        "plt.xlabel(\"Вакансии\")\n",
        " \n",
        "plt.ylabel(\"Количество кликов\")"
      ]
    },
    {
      "cell_type": "markdown",
      "metadata": {
        "id": "DQY3HBYN9UXU"
      },
      "source": [
        "Получается что очень большое количество вакансий просто просмотрены один раз"
      ]
    },
    {
      "cell_type": "code",
      "execution_count": 82,
      "metadata": {
        "id": "j0Sl8RfG9UXV",
        "outputId": "2b59c35a-367a-481d-e227-cc1e9ba57ad0",
        "colab": {
          "base_uri": "https://localhost:8080/",
          "height": 331
        }
      },
      "outputs": [
        {
          "output_type": "execute_result",
          "data": {
            "text/plain": [
              "           cookie_id\n",
              "               count\n",
              "count  160167.000000\n",
              "mean       29.210668\n",
              "std       175.746648\n",
              "min         1.000000\n",
              "25%         4.000000\n",
              "50%        10.000000\n",
              "75%        23.000000\n",
              "max     18662.000000"
            ],
            "text/html": [
              "\n",
              "  <div id=\"df-63dbcd6f-1aad-40e2-9016-012d64d0dd18\">\n",
              "    <div class=\"colab-df-container\">\n",
              "      <div>\n",
              "<style scoped>\n",
              "    .dataframe tbody tr th:only-of-type {\n",
              "        vertical-align: middle;\n",
              "    }\n",
              "\n",
              "    .dataframe tbody tr th {\n",
              "        vertical-align: top;\n",
              "    }\n",
              "\n",
              "    .dataframe thead tr th {\n",
              "        text-align: left;\n",
              "    }\n",
              "</style>\n",
              "<table border=\"1\" class=\"dataframe\">\n",
              "  <thead>\n",
              "    <tr>\n",
              "      <th></th>\n",
              "      <th>cookie_id</th>\n",
              "    </tr>\n",
              "    <tr>\n",
              "      <th></th>\n",
              "      <th>count</th>\n",
              "    </tr>\n",
              "  </thead>\n",
              "  <tbody>\n",
              "    <tr>\n",
              "      <th>count</th>\n",
              "      <td>160167.000000</td>\n",
              "    </tr>\n",
              "    <tr>\n",
              "      <th>mean</th>\n",
              "      <td>29.210668</td>\n",
              "    </tr>\n",
              "    <tr>\n",
              "      <th>std</th>\n",
              "      <td>175.746648</td>\n",
              "    </tr>\n",
              "    <tr>\n",
              "      <th>min</th>\n",
              "      <td>1.000000</td>\n",
              "    </tr>\n",
              "    <tr>\n",
              "      <th>25%</th>\n",
              "      <td>4.000000</td>\n",
              "    </tr>\n",
              "    <tr>\n",
              "      <th>50%</th>\n",
              "      <td>10.000000</td>\n",
              "    </tr>\n",
              "    <tr>\n",
              "      <th>75%</th>\n",
              "      <td>23.000000</td>\n",
              "    </tr>\n",
              "    <tr>\n",
              "      <th>max</th>\n",
              "      <td>18662.000000</td>\n",
              "    </tr>\n",
              "  </tbody>\n",
              "</table>\n",
              "</div>\n",
              "      <button class=\"colab-df-convert\" onclick=\"convertToInteractive('df-63dbcd6f-1aad-40e2-9016-012d64d0dd18')\"\n",
              "              title=\"Convert this dataframe to an interactive table.\"\n",
              "              style=\"display:none;\">\n",
              "        \n",
              "  <svg xmlns=\"http://www.w3.org/2000/svg\" height=\"24px\"viewBox=\"0 0 24 24\"\n",
              "       width=\"24px\">\n",
              "    <path d=\"M0 0h24v24H0V0z\" fill=\"none\"/>\n",
              "    <path d=\"M18.56 5.44l.94 2.06.94-2.06 2.06-.94-2.06-.94-.94-2.06-.94 2.06-2.06.94zm-11 1L8.5 8.5l.94-2.06 2.06-.94-2.06-.94L8.5 2.5l-.94 2.06-2.06.94zm10 10l.94 2.06.94-2.06 2.06-.94-2.06-.94-.94-2.06-.94 2.06-2.06.94z\"/><path d=\"M17.41 7.96l-1.37-1.37c-.4-.4-.92-.59-1.43-.59-.52 0-1.04.2-1.43.59L10.3 9.45l-7.72 7.72c-.78.78-.78 2.05 0 2.83L4 21.41c.39.39.9.59 1.41.59.51 0 1.02-.2 1.41-.59l7.78-7.78 2.81-2.81c.8-.78.8-2.07 0-2.86zM5.41 20L4 18.59l7.72-7.72 1.47 1.35L5.41 20z\"/>\n",
              "  </svg>\n",
              "      </button>\n",
              "      \n",
              "  <style>\n",
              "    .colab-df-container {\n",
              "      display:flex;\n",
              "      flex-wrap:wrap;\n",
              "      gap: 12px;\n",
              "    }\n",
              "\n",
              "    .colab-df-convert {\n",
              "      background-color: #E8F0FE;\n",
              "      border: none;\n",
              "      border-radius: 50%;\n",
              "      cursor: pointer;\n",
              "      display: none;\n",
              "      fill: #1967D2;\n",
              "      height: 32px;\n",
              "      padding: 0 0 0 0;\n",
              "      width: 32px;\n",
              "    }\n",
              "\n",
              "    .colab-df-convert:hover {\n",
              "      background-color: #E2EBFA;\n",
              "      box-shadow: 0px 1px 2px rgba(60, 64, 67, 0.3), 0px 1px 3px 1px rgba(60, 64, 67, 0.15);\n",
              "      fill: #174EA6;\n",
              "    }\n",
              "\n",
              "    [theme=dark] .colab-df-convert {\n",
              "      background-color: #3B4455;\n",
              "      fill: #D2E3FC;\n",
              "    }\n",
              "\n",
              "    [theme=dark] .colab-df-convert:hover {\n",
              "      background-color: #434B5C;\n",
              "      box-shadow: 0px 1px 3px 1px rgba(0, 0, 0, 0.15);\n",
              "      filter: drop-shadow(0px 1px 2px rgba(0, 0, 0, 0.3));\n",
              "      fill: #FFFFFF;\n",
              "    }\n",
              "  </style>\n",
              "\n",
              "      <script>\n",
              "        const buttonEl =\n",
              "          document.querySelector('#df-63dbcd6f-1aad-40e2-9016-012d64d0dd18 button.colab-df-convert');\n",
              "        buttonEl.style.display =\n",
              "          google.colab.kernel.accessAllowed ? 'block' : 'none';\n",
              "\n",
              "        async function convertToInteractive(key) {\n",
              "          const element = document.querySelector('#df-63dbcd6f-1aad-40e2-9016-012d64d0dd18');\n",
              "          const dataTable =\n",
              "            await google.colab.kernel.invokeFunction('convertToInteractive',\n",
              "                                                     [key], {});\n",
              "          if (!dataTable) return;\n",
              "\n",
              "          const docLinkHtml = 'Like what you see? Visit the ' +\n",
              "            '<a target=\"_blank\" href=https://colab.research.google.com/notebooks/data_table.ipynb>data table notebook</a>'\n",
              "            + ' to learn more about interactive tables.';\n",
              "          element.innerHTML = '';\n",
              "          dataTable['output_type'] = 'display_data';\n",
              "          await google.colab.output.renderOutput(dataTable, element);\n",
              "          const docLink = document.createElement('div');\n",
              "          docLink.innerHTML = docLinkHtml;\n",
              "          element.appendChild(docLink);\n",
              "        }\n",
              "      </script>\n",
              "    </div>\n",
              "  </div>\n",
              "  "
            ]
          },
          "metadata": {},
          "execution_count": 82
        }
      ],
      "source": [
        "df.describe()"
      ]
    },
    {
      "cell_type": "markdown",
      "metadata": {
        "id": "yNeM88jF9UXW"
      },
      "source": [
        "Выделим топовые вакансии\n",
        "\n",
        "---"
      ]
    },
    {
      "cell_type": "code",
      "execution_count": 83,
      "metadata": {
        "id": "e3iPh9EB9UXW",
        "outputId": "2b9e404c-1a06-4f9b-afb9-b4fba54c1439",
        "colab": {
          "base_uri": "https://localhost:8080/"
        }
      },
      "outputs": [
        {
          "output_type": "stream",
          "name": "stdout",
          "text": [
            "Количество вакансий у которых более  20 взаимодействий: 46418\n",
            "Количество вакансий у которых более  40 взаимодействий: 22852\n",
            "Количество вакансий у которых более  60 взаимодействий: 13939\n",
            "Количество вакансий у которых более  80 взаимодействий: 9378\n",
            "Количество вакансий у которых более  100 взаимодействий: 6845\n",
            "Количество вакансий у которых более  120 взаимодействий: 5317\n",
            "Количество вакансий у которых более  140 взаимодействий: 4241\n",
            "Количество вакансий у которых более  160 взаимодействий: 3494\n",
            "Количество вакансий у которых более  180 взаимодействий: 2948\n",
            "Количество вакансий у которых более  200 взаимодействий: 2536\n",
            "Количество вакансий у которых более  220 взаимодействий: 2210\n",
            "Количество вакансий у которых более  240 взаимодействий: 1947\n",
            "Количество вакансий у которых более  260 взаимодействий: 1746\n",
            "Количество вакансий у которых более  280 взаимодействий: 1572\n",
            "Количество вакансий у которых более  300 взаимодействий: 1445\n",
            "Количество вакансий у которых более  320 взаимодействий: 1331\n",
            "Количество вакансий у которых более  340 взаимодействий: 1219\n",
            "Количество вакансий у которых более  360 взаимодействий: 1125\n",
            "Количество вакансий у которых более  380 взаимодействий: 1071\n",
            "Количество вакансий у которых более  400 взаимодействий: 983\n",
            "Количество вакансий у которых более  420 взаимодействий: 925\n",
            "Количество вакансий у которых более  440 взаимодействий: 886\n",
            "Количество вакансий у которых более  460 взаимодействий: 839\n",
            "Количество вакансий у которых более  480 взаимодействий: 802\n",
            "Количество вакансий у которых более  500 взаимодействий: 770\n",
            "Количество вакансий у которых более  520 взаимодействий: 729\n",
            "Количество вакансий у которых более  540 взаимодействий: 697\n",
            "Количество вакансий у которых более  560 взаимодействий: 662\n",
            "Количество вакансий у которых более  580 взаимодействий: 636\n",
            "Количество вакансий у которых более  600 взаимодействий: 604\n",
            "Количество вакансий у которых более  620 взаимодействий: 586\n",
            "Количество вакансий у которых более  640 взаимодействий: 560\n",
            "Количество вакансий у которых более  660 взаимодействий: 548\n",
            "Количество вакансий у которых более  680 взаимодействий: 530\n",
            "Количество вакансий у которых более  700 взаимодействий: 515\n",
            "Количество вакансий у которых более  720 взаимодействий: 488\n",
            "Количество вакансий у которых более  740 взаимодействий: 461\n",
            "Количество вакансий у которых более  760 взаимодействий: 451\n",
            "Количество вакансий у которых более  780 взаимодействий: 436\n",
            "Количество вакансий у которых более  800 взаимодействий: 418\n",
            "Количество вакансий у которых более  820 взаимодействий: 402\n",
            "Количество вакансий у которых более  840 взаимодействий: 389\n",
            "Количество вакансий у которых более  860 взаимодействий: 374\n",
            "Количество вакансий у которых более  880 взаимодействий: 367\n",
            "Количество вакансий у которых более  900 взаимодействий: 355\n",
            "Количество вакансий у которых более  920 взаимодействий: 343\n",
            "Количество вакансий у которых более  940 взаимодействий: 338\n",
            "Количество вакансий у которых более  960 взаимодействий: 332\n",
            "Количество вакансий у которых более  980 взаимодействий: 324\n"
          ]
        }
      ],
      "source": [
        "for i in range(20, 1000, 20):\n",
        "    min_ratings = i\n",
        "    count_min_ratings = count_min_ratings = len(df[df[('cookie_id', 'count')] >= min_ratings])\n",
        "    print(f'Количество вакансий у которых более  {min_ratings} взаимодействий: {count_min_ratings}')"
      ]
    },
    {
      "cell_type": "markdown",
      "metadata": {
        "id": "o9K7pgby9UXX"
      },
      "source": [
        "Количество вакансий с которыми взаимодействовали более 20 раз составило 46418. Нам необходимо обрезать вакансии с которыми не было взаимодействий, что бы сделать наши рекомендации более релевантными:"
      ]
    },
    {
      "cell_type": "code",
      "execution_count": 84,
      "metadata": {
        "id": "WgXcWV6R9UXX",
        "outputId": "64dd93bd-889d-40c1-f38c-7510835d07e2",
        "colab": {
          "base_uri": "https://localhost:8080/"
        }
      },
      "outputs": [
        {
          "output_type": "stream",
          "name": "stdout",
          "text": [
            "Количество вакансий у которых более  40 взаимодействий: 22852\n"
          ]
        }
      ],
      "source": [
        "min_ratings = 40\n",
        "count_min_ratings = len(df[df[('cookie_id', 'count')] >= min_ratings])\n",
        " \n",
        "print(f'Количество вакансий у которых более  {min_ratings} взаимодействий: {count_min_ratings}')"
      ]
    },
    {
      "cell_type": "code",
      "execution_count": 85,
      "metadata": {
        "id": "wFFvu3Q59UXX"
      },
      "outputs": [],
      "source": [
        "\n",
        "df_top_vacancies = df[df[('cookie_id', 'count')] >= min_ratings]\n",
        " \n",
        "df_ratings_with_top_vacancies = df_ratings[df_ratings['vacancy_id_'].isin(list(df_top_vacancies.index))]"
      ]
    },
    {
      "cell_type": "code",
      "execution_count": 86,
      "metadata": {
        "id": "iuoqudhg9UXY",
        "outputId": "d50ab3cf-bc45-4a89-fb51-4b5ff3fd3601",
        "colab": {
          "base_uri": "https://localhost:8080/"
        }
      },
      "outputs": [
        {
          "output_type": "stream",
          "name": "stdout",
          "text": [
            "<class 'pandas.core.frame.DataFrame'>\n",
            "Int64Index: 3217688 entries, 0 to 4678583\n",
            "Data columns (total 3 columns):\n",
            " #   Column       Dtype \n",
            "---  ------       ----- \n",
            " 0   cookie_id    object\n",
            " 1   vacancy_id_  int64 \n",
            " 2   rating       int64 \n",
            "dtypes: int64(2), object(1)\n",
            "memory usage: 98.2+ MB\n"
          ]
        }
      ],
      "source": [
        "df_ratings_with_top_vacancies.info()"
      ]
    },
    {
      "cell_type": "markdown",
      "metadata": {
        "id": "_tMIJAO69UXY"
      },
      "source": [
        "Выделим самых активных пользователей\n",
        "\n",
        "---"
      ]
    },
    {
      "cell_type": "code",
      "execution_count": 87,
      "metadata": {
        "id": "vLwR_k8V9UXZ"
      },
      "outputs": [],
      "source": [
        "# далее он у нас будет как df_users\n",
        "df_1 = df_ratings[['cookie_id', 'vacancy_id_']].groupby(['cookie_id']).agg(['count']).sort_values(('vacancy_id_','count'),ascending=False)"
      ]
    },
    {
      "cell_type": "code",
      "execution_count": 88,
      "metadata": {
        "id": "T7wdrgFk9UXZ",
        "outputId": "3c78f1cf-ea67-456b-c922-26685ef49e9d",
        "colab": {
          "base_uri": "https://localhost:8080/",
          "height": 661
        }
      },
      "outputs": [
        {
          "output_type": "execute_result",
          "data": {
            "text/plain": [
              "Text(0, 0.5, 'Количество кликов')"
            ]
          },
          "metadata": {},
          "execution_count": 88
        },
        {
          "output_type": "display_data",
          "data": {
            "text/plain": [
              "<Figure size 1500x800 with 1 Axes>"
            ],
            "image/png": "[encoded data removed]"
          },
          "metadata": {}
        }
      ],
      "source": [
        "plt.figure(figsize=(15,8))\n",
        " \n",
        "sns.set_style(\"darkgrid\")\n",
        " \n",
        "sns.lineplot(data=df_1[('vacancy_id_', 'count')].values)\n",
        " \n",
        "plt.title(\"Рейтинг частоты кликов\")\n",
        " \n",
        "plt.xlabel(\"Пользователи\")\n",
        " \n",
        "plt.ylabel(\"Количество кликов\")"
      ]
    },
    {
      "cell_type": "code",
      "execution_count": 89,
      "metadata": {
        "id": "DEat7Ydr9UXZ",
        "outputId": "eddb5545-e1ce-4fd8-9e94-9308e743a162",
        "colab": {
          "base_uri": "https://localhost:8080/"
        }
      },
      "outputs": [
        {
          "output_type": "stream",
          "name": "stdout",
          "text": [
            "Количество клиентов у которых более  20 взаимодействий: 58943\n",
            "Количество клиентов у которых более  40 взаимодействий: 16435\n",
            "Количество клиентов у которых более  60 взаимодействий: 6592\n",
            "Количество клиентов у которых более  80 взаимодействий: 3133\n",
            "Количество клиентов у которых более  100 взаимодействий: 1667\n",
            "Количество клиентов у которых более  120 взаимодействий: 983\n",
            "Количество клиентов у которых более  140 взаимодействий: 623\n",
            "Количество клиентов у которых более  160 взаимодействий: 397\n",
            "Количество клиентов у которых более  180 взаимодействий: 283\n",
            "Количество клиентов у которых более  200 взаимодействий: 198\n",
            "Количество клиентов у которых более  220 взаимодействий: 159\n",
            "Количество клиентов у которых более  240 взаимодействий: 124\n",
            "Количество клиентов у которых более  260 взаимодействий: 98\n",
            "Количество клиентов у которых более  280 взаимодействий: 74\n",
            "Количество клиентов у которых более  300 взаимодействий: 58\n",
            "Количество клиентов у которых более  320 взаимодействий: 42\n",
            "Количество клиентов у которых более  340 взаимодействий: 31\n",
            "Количество клиентов у которых более  360 взаимодействий: 27\n",
            "Количество клиентов у которых более  380 взаимодействий: 24\n",
            "Количество клиентов у которых более  400 взаимодействий: 20\n",
            "Количество клиентов у которых более  420 взаимодействий: 18\n",
            "Количество клиентов у которых более  440 взаимодействий: 15\n",
            "Количество клиентов у которых более  460 взаимодействий: 13\n",
            "Количество клиентов у которых более  480 взаимодействий: 12\n",
            "Количество клиентов у которых более  500 взаимодействий: 12\n",
            "Количество клиентов у которых более  520 взаимодействий: 10\n",
            "Количество клиентов у которых более  540 взаимодействий: 10\n",
            "Количество клиентов у которых более  560 взаимодействий: 10\n",
            "Количество клиентов у которых более  580 взаимодействий: 9\n",
            "Количество клиентов у которых более  600 взаимодействий: 7\n",
            "Количество клиентов у которых более  620 взаимодействий: 7\n",
            "Количество клиентов у которых более  640 взаимодействий: 7\n",
            "Количество клиентов у которых более  660 взаимодействий: 7\n",
            "Количество клиентов у которых более  680 взаимодействий: 7\n",
            "Количество клиентов у которых более  700 взаимодействий: 7\n",
            "Количество клиентов у которых более  720 взаимодействий: 6\n",
            "Количество клиентов у которых более  740 взаимодействий: 6\n",
            "Количество клиентов у которых более  760 взаимодействий: 6\n",
            "Количество клиентов у которых более  780 взаимодействий: 6\n",
            "Количество клиентов у которых более  800 взаимодействий: 5\n",
            "Количество клиентов у которых более  820 взаимодействий: 5\n",
            "Количество клиентов у которых более  840 взаимодействий: 4\n",
            "Количество клиентов у которых более  860 взаимодействий: 4\n",
            "Количество клиентов у которых более  880 взаимодействий: 4\n",
            "Количество клиентов у которых более  900 взаимодействий: 4\n",
            "Количество клиентов у которых более  920 взаимодействий: 4\n",
            "Количество клиентов у которых более  940 взаимодействий: 4\n",
            "Количество клиентов у которых более  960 взаимодействий: 4\n",
            "Количество клиентов у которых более  980 взаимодействий: 3\n"
          ]
        }
      ],
      "source": [
        "for i in range(20, 1000, 20):\n",
        "    min_ratings = i\n",
        "    count_min_ratings = count_min_ratings = len(df_1[df_1[('vacancy_id_', 'count')] >= min_ratings])\n",
        "    print(f'Количество клиентов у которых более  {min_ratings} взаимодействий: {count_min_ratings}')"
      ]
    },
    {
      "cell_type": "markdown",
      "metadata": {
        "id": "yJti03Pi9UXa"
      },
      "source": [
        "Для повышения релевантности так же исключим, пользователей которые имеют менее 40 взаимодействий."
      ]
    },
    {
      "cell_type": "code",
      "execution_count": 90,
      "metadata": {
        "id": "A01jQ32k9UXa"
      },
      "outputs": [],
      "source": [
        "# минимальное количество просмотренных вакансий\n",
        "min_vacancies_rated = 40\n",
        "# создадим датасет пользоватлей с агрегацией по пользователям \n",
        "df_users = df_ratings_with_top_vacancies[['vacancy_id_','cookie_id']].groupby(['cookie_id']).agg(['count']).sort_values(('vacancy_id_','count'),ascending=False)\n",
        " \n",
        "# выберем пользователей у которых более 200 взаимодействий (мы хотим рекомендовать то что смотрят активные пользователи)\n",
        "df_top_rating_users = df_users[df_users[('vacancy_id_', 'count')]>=min_vacancies_rated]\n",
        "\n",
        "# нас будут интересовать только id пользоватлей возьмем их в список \n",
        "top_rating_users = list(df_top_rating_users.index)\n",
        "\n",
        "# в итоговый датасет войдут только взаимодействия топ пользоватлей с топ вакансиями \n",
        "df_final = df_ratings_with_top_vacancies[df_ratings_with_top_vacancies['cookie_id'].isin(top_rating_users)]"
      ]
    },
    {
      "cell_type": "code",
      "execution_count": 91,
      "metadata": {
        "id": "F3VUUjIy9UXb",
        "outputId": "50104266-e19d-4472-cd49-3e16905289d2",
        "colab": {
          "base_uri": "https://localhost:8080/",
          "height": 206
        }
      },
      "outputs": [
        {
          "output_type": "execute_result",
          "data": {
            "text/plain": [
              "                            cookie_id  vacancy_id_  rating\n",
              "442  000821e2fd4a4a28a10596bfdeac6534       100495       1\n",
              "443  000821e2fd4a4a28a10596bfdeac6534       100697       1\n",
              "446  000821e2fd4a4a28a10596bfdeac6534       110708       1\n",
              "448  000821e2fd4a4a28a10596bfdeac6534       113239       1\n",
              "449  000821e2fd4a4a28a10596bfdeac6534       114247       1"
            ],
            "text/html": [
              "\n",
              "  <div id=\"df-1e8dbf28-bcd1-46f5-b30b-4122fd92cf1b\">\n",
              "    <div class=\"colab-df-container\">\n",
              "      <div>\n",
              "<style scoped>\n",
              "    .dataframe tbody tr th:only-of-type {\n",
              "        vertical-align: middle;\n",
              "    }\n",
              "\n",
              "    .dataframe tbody tr th {\n",
              "        vertical-align: top;\n",
              "    }\n",
              "\n",
              "    .dataframe thead th {\n",
              "        text-align: right;\n",
              "    }\n",
              "</style>\n",
              "<table border=\"1\" class=\"dataframe\">\n",
              "  <thead>\n",
              "    <tr style=\"text-align: right;\">\n",
              "      <th></th>\n",
              "      <th>cookie_id</th>\n",
              "      <th>vacancy_id_</th>\n",
              "      <th>rating</th>\n",
              "    </tr>\n",
              "  </thead>\n",
              "  <tbody>\n",
              "    <tr>\n",
              "      <th>442</th>\n",
              "      <td>000821e2fd4a4a28a10596bfdeac6534</td>\n",
              "      <td>100495</td>\n",
              "      <td>1</td>\n",
              "    </tr>\n",
              "    <tr>\n",
              "      <th>443</th>\n",
              "      <td>000821e2fd4a4a28a10596bfdeac6534</td>\n",
              "      <td>100697</td>\n",
              "      <td>1</td>\n",
              "    </tr>\n",
              "    <tr>\n",
              "      <th>446</th>\n",
              "      <td>000821e2fd4a4a28a10596bfdeac6534</td>\n",
              "      <td>110708</td>\n",
              "      <td>1</td>\n",
              "    </tr>\n",
              "    <tr>\n",
              "      <th>448</th>\n",
              "      <td>000821e2fd4a4a28a10596bfdeac6534</td>\n",
              "      <td>113239</td>\n",
              "      <td>1</td>\n",
              "    </tr>\n",
              "    <tr>\n",
              "      <th>449</th>\n",
              "      <td>000821e2fd4a4a28a10596bfdeac6534</td>\n",
              "      <td>114247</td>\n",
              "      <td>1</td>\n",
              "    </tr>\n",
              "  </tbody>\n",
              "</table>\n",
              "</div>\n",
              "      <button class=\"colab-df-convert\" onclick=\"convertToInteractive('df-1e8dbf28-bcd1-46f5-b30b-4122fd92cf1b')\"\n",
              "              title=\"Convert this dataframe to an interactive table.\"\n",
              "              style=\"display:none;\">\n",
              "        \n",
              "  <svg xmlns=\"http://www.w3.org/2000/svg\" height=\"24px\"viewBox=\"0 0 24 24\"\n",
              "       width=\"24px\">\n",
              "    <path d=\"M0 0h24v24H0V0z\" fill=\"none\"/>\n",
              "    <path d=\"M18.56 5.44l.94 2.06.94-2.06 2.06-.94-2.06-.94-.94-2.06-.94 2.06-2.06.94zm-11 1L8.5 8.5l.94-2.06 2.06-.94-2.06-.94L8.5 2.5l-.94 2.06-2.06.94zm10 10l.94 2.06.94-2.06 2.06-.94-2.06-.94-.94-2.06-.94 2.06-2.06.94z\"/><path d=\"M17.41 7.96l-1.37-1.37c-.4-.4-.92-.59-1.43-.59-.52 0-1.04.2-1.43.59L10.3 9.45l-7.72 7.72c-.78.78-.78 2.05 0 2.83L4 21.41c.39.39.9.59 1.41.59.51 0 1.02-.2 1.41-.59l7.78-7.78 2.81-2.81c.8-.78.8-2.07 0-2.86zM5.41 20L4 18.59l7.72-7.72 1.47 1.35L5.41 20z\"/>\n",
              "  </svg>\n",
              "      </button>\n",
              "      \n",
              "  <style>\n",
              "    .colab-df-container {\n",
              "      display:flex;\n",
              "      flex-wrap:wrap;\n",
              "      gap: 12px;\n",
              "    }\n",
              "\n",
              "    .colab-df-convert {\n",
              "      background-color: #E8F0FE;\n",
              "      border: none;\n",
              "      border-radius: 50%;\n",
              "      cursor: pointer;\n",
              "      display: none;\n",
              "      fill: #1967D2;\n",
              "      height: 32px;\n",
              "      padding: 0 0 0 0;\n",
              "      width: 32px;\n",
              "    }\n",
              "\n",
              "    .colab-df-convert:hover {\n",
              "      background-color: #E2EBFA;\n",
              "      box-shadow: 0px 1px 2px rgba(60, 64, 67, 0.3), 0px 1px 3px 1px rgba(60, 64, 67, 0.15);\n",
              "      fill: #174EA6;\n",
              "    }\n",
              "\n",
              "    [theme=dark] .colab-df-convert {\n",
              "      background-color: #3B4455;\n",
              "      fill: #D2E3FC;\n",
              "    }\n",
              "\n",
              "    [theme=dark] .colab-df-convert:hover {\n",
              "      background-color: #434B5C;\n",
              "      box-shadow: 0px 1px 3px 1px rgba(0, 0, 0, 0.15);\n",
              "      filter: drop-shadow(0px 1px 2px rgba(0, 0, 0, 0.3));\n",
              "      fill: #FFFFFF;\n",
              "    }\n",
              "  </style>\n",
              "\n",
              "      <script>\n",
              "        const buttonEl =\n",
              "          document.querySelector('#df-1e8dbf28-bcd1-46f5-b30b-4122fd92cf1b button.colab-df-convert');\n",
              "        buttonEl.style.display =\n",
              "          google.colab.kernel.accessAllowed ? 'block' : 'none';\n",
              "\n",
              "        async function convertToInteractive(key) {\n",
              "          const element = document.querySelector('#df-1e8dbf28-bcd1-46f5-b30b-4122fd92cf1b');\n",
              "          const dataTable =\n",
              "            await google.colab.kernel.invokeFunction('convertToInteractive',\n",
              "                                                     [key], {});\n",
              "          if (!dataTable) return;\n",
              "\n",
              "          const docLinkHtml = 'Like what you see? Visit the ' +\n",
              "            '<a target=\"_blank\" href=https://colab.research.google.com/notebooks/data_table.ipynb>data table notebook</a>'\n",
              "            + ' to learn more about interactive tables.';\n",
              "          element.innerHTML = '';\n",
              "          dataTable['output_type'] = 'display_data';\n",
              "          await google.colab.output.renderOutput(dataTable, element);\n",
              "          const docLink = document.createElement('div');\n",
              "          docLink.innerHTML = docLinkHtml;\n",
              "          element.appendChild(docLink);\n",
              "        }\n",
              "      </script>\n",
              "    </div>\n",
              "  </div>\n",
              "  "
            ]
          },
          "metadata": {},
          "execution_count": 91
        }
      ],
      "source": [
        "df_final.head()"
      ]
    },
    {
      "cell_type": "code",
      "execution_count": 92,
      "metadata": {
        "id": "-7j_GDy-9UXb",
        "outputId": "91a4aec6-b578-45fd-f50c-c9ed981f92a6",
        "colab": {
          "base_uri": "https://localhost:8080/"
        }
      },
      "outputs": [
        {
          "output_type": "stream",
          "name": "stdout",
          "text": [
            "<class 'pandas.core.frame.DataFrame'>\n",
            "Int64Index: 527045 entries, 442 to 4678485\n",
            "Data columns (total 3 columns):\n",
            " #   Column       Non-Null Count   Dtype \n",
            "---  ------       --------------   ----- \n",
            " 0   cookie_id    527045 non-null  object\n",
            " 1   vacancy_id_  527045 non-null  int64 \n",
            " 2   rating       527045 non-null  int64 \n",
            "dtypes: int64(2), object(1)\n",
            "memory usage: 16.1+ MB\n"
          ]
        }
      ],
      "source": [
        "df_final.info()"
      ]
    },
    {
      "cell_type": "code",
      "execution_count": null,
      "metadata": {
        "id": "vikPjSyBlsFY"
      },
      "outputs": [],
      "source": [
        "df_final.to_parquet('item_based')"
      ]
    },
    {
      "cell_type": "code",
      "execution_count": null,
      "metadata": {
        "id": "8swp4i_UlsFY"
      },
      "outputs": [],
      "source": [
        "df_final = pd.read_parquet('item_based')"
      ]
    },
    {
      "cell_type": "markdown",
      "metadata": {
        "id": "_8oh1bdz9UXe"
      },
      "source": [
        "Возьмем за основу наш базовый датасет, он учится очень бысто"
      ]
    },
    {
      "cell_type": "code",
      "execution_count": 93,
      "metadata": {
        "id": "_7hdczWW9UXg",
        "outputId": "9725943d-d58e-4116-adb5-4444c3c1b70c",
        "colab": {
          "base_uri": "https://localhost:8080/"
        }
      },
      "outputs": [
        {
          "output_type": "stream",
          "name": "stdout",
          "text": [
            "Minimum/maximum оценки: 0/9\n"
          ]
        }
      ],
      "source": [
        "minimum_rating = min(df_final['rating'].values)\n",
        " \n",
        "maximum_rating = max(df_final['rating'].values)\n",
        " \n",
        "print(f'Minimum/maximum оценки: {minimum_rating}/{maximum_rating}')"
      ]
    },
    {
      "cell_type": "code",
      "execution_count": 94,
      "metadata": {
        "id": "X79TnZBH9UXh"
      },
      "outputs": [],
      "source": [
        "reader = Reader(rating_scale=(minimum_rating,maximum_rating))\n",
        " \n",
        "data = Dataset.load_from_df(df_final[['cookie_id', 'vacancy_id_', 'rating']], reader)"
      ]
    },
    {
      "cell_type": "code",
      "execution_count": 95,
      "metadata": {
        "id": "vUZboVj5lsFZ"
      },
      "outputs": [],
      "source": [
        "trainset = data.build_full_trainset()"
      ]
    },
    {
      "cell_type": "code",
      "execution_count": 96,
      "metadata": {
        "id": "WrUtS5np9UXh",
        "outputId": "e5a4bf47-a3c5-4152-cf41-d3f574c2bb75",
        "colab": {
          "base_uri": "https://localhost:8080/"
        }
      },
      "outputs": [
        {
          "output_type": "execute_result",
          "data": {
            "text/plain": [
              "<surprise.prediction_algorithms.matrix_factorization.SVD at 0x7f01e8e0b8b0>"
            ]
          },
          "metadata": {},
          "execution_count": 96
        }
      ],
      "source": [
        "# обучаем алгоритм\n",
        "algo = SVD()\n",
        "\n",
        "algo.fit(trainset)"
      ]
    },
    {
      "cell_type": "markdown",
      "metadata": {
        "id": "4aZ1VeB6lsFZ"
      },
      "source": [
        "### Это блок для тестирования данных не выполнять когда делаем финальный прогноз\n",
        "---"
      ]
    },
    {
      "cell_type": "code",
      "execution_count": 97,
      "metadata": {
        "id": "zFX9dTN39UXk"
      },
      "outputs": [],
      "source": [
        "# Than predict ratings for all pairs (u, i) that are NOT in the training set.\n",
        "testset = trainset.build_testset()\n",
        "predictions = algo.test(testset)"
      ]
    },
    {
      "cell_type": "code",
      "execution_count": 98,
      "metadata": {
        "id": "TktmSgjv9UXk",
        "outputId": "2fc972f5-7aae-41ae-8787-556766bb743a",
        "colab": {
          "base_uri": "https://localhost:8080/"
        }
      },
      "outputs": [
        {
          "output_type": "stream",
          "name": "stdout",
          "text": [
            "RMSE: 0.8078\n",
            "0.8078281474667061\n",
            "MAE:  0.5518\n",
            "0.5518035064451353\n"
          ]
        }
      ],
      "source": [
        "print(accuracy.rmse(predictions))\n",
        "print(accuracy.mae(predictions))"
      ]
    },
    {
      "cell_type": "code",
      "source": [
        "test = pd.read_parquet('test_public_mfti.parquet', engine='pyarrow')"
      ],
      "metadata": {
        "id": "Az3xX3Nv3KTB"
      },
      "execution_count": 43,
      "outputs": []
    },
    {
      "cell_type": "code",
      "source": [
        "test_list = list(test['cookie_id'])\n",
        "print(test_list[:5])"
      ],
      "metadata": {
        "colab": {
          "base_uri": "https://localhost:8080/"
        },
        "id": "hn_wu-qL3l-5",
        "outputId": "68c30db1-be0c-401d-fbbe-493f1aa7f1de"
      },
      "execution_count": 44,
      "outputs": [
        {
          "output_type": "stream",
          "name": "stdout",
          "text": [
            "['000cd76cd33f43d4a1ac1d16d10f8bf7', '0034bc7f404341ba8412665453e7825a', '00a6c5a64a274c55a836402bdeb3b2c4', '015937a125b14e74bdff1cddc49f9172', '01de50c280794cec8804f16f45f847b7']\n"
          ]
        }
      ]
    },
    {
      "cell_type": "code",
      "source": [
        "df_final = df_test"
      ],
      "metadata": {
        "id": "wjcZyU8O4HCh"
      },
      "execution_count": 102,
      "outputs": []
    },
    {
      "cell_type": "code",
      "execution_count": 101,
      "metadata": {
        "id": "N7X0DQzvlsFa"
      },
      "outputs": [],
      "source": [
        "def get_prediction_for_list(user_list, model = algo, set_n = 5):\n",
        "    top_n = {}\n",
        "    \n",
        "    for user_id in user_list:\n",
        "        user_items = df_final[df_final['cookie_id'] == user_id]['vacancy_id_'].unique()  # взаимодействия пользователя\n",
        "        candidates = df_final[~df_final['cookie_id'].isin(user_items)]['vacancy_id_'].unique()  # вакансии, с которыми пользователь не взаимодействовал\n",
        "        testset = [[user_id, item_id, 9] for item_id in candidates]  # создание тестовой выборки\n",
        "        predictions = model.test(testset)\n",
        "        top_n[user_id] = sorted(predictions, key=lambda x: x.est, reverse=True)[:set_n]  # получение топ-5 рекомендаций\n",
        "\n",
        "    # формирование результата в виде датафрейма\n",
        "    result = pd.DataFrame(columns=['cookie_id', 'top_recommendations'])\n",
        "    for user_id, predictions in top_n.items():\n",
        "        item_list = [pred.iid for pred in predictions]\n",
        "        result = result.append({'cookie_id': user_id, 'top_recommendations': item_list}, ignore_index=True)\n",
        "\n",
        "    return result\n",
        "    "
      ]
    },
    {
      "cell_type": "code",
      "source": [
        "test_prediction = get_prediction_for_list(test_list)"
      ],
      "metadata": {
        "id": "gyYjHugH4Uqo"
      },
      "execution_count": null,
      "outputs": []
    },
    {
      "cell_type": "code",
      "source": [
        "def precision_n(predictions,df_test_list_top, k=5):\n",
        "  #recommendations num:\n",
        "    n_rec_k = len(df_test_list_top)*k\n",
        "  #true reccomendations:\n",
        "    matches=0\n",
        "    for row in range(len(predictions)):\n",
        "      row_match = set(predictions['top_recommendations'][row]).intersection(set(df_test_list_top['vacancy_id_'][row]))  \n",
        "      matches += len(row_match)\n",
        "  #Results:\n",
        "    precisions = matches / n_rec_k if n_rec_k != 0 else 0\n",
        "    return precisions"
      ],
      "metadata": {
        "id": "VuQod_ds6IEw"
      },
      "execution_count": 48,
      "outputs": []
    },
    {
      "cell_type": "code",
      "source": [
        "precision_n(test_prediction, test)"
      ],
      "metadata": {
        "colab": {
          "base_uri": "https://localhost:8080/"
        },
        "id": "eED2gFW96Hwg",
        "outputId": "22f90d8d-8fe5-4ded-a44a-6dd1238e41ed"
      },
      "execution_count": 105,
      "outputs": [
        {
          "output_type": "execute_result",
          "data": {
            "text/plain": [
              "0.007512953367875648"
            ]
          },
          "metadata": {},
          "execution_count": 105
        }
      ]
    },
    {
      "cell_type": "code",
      "source": [
        "test_prediction.tail(100)"
      ],
      "metadata": {
        "colab": {
          "base_uri": "https://localhost:8080/",
          "height": 423
        },
        "id": "_vFoa5_kQ_09",
        "outputId": "d7d561c1-73cd-49b5-f707-33ff8e3d779e"
      },
      "execution_count": 104,
      "outputs": [
        {
          "output_type": "execute_result",
          "data": {
            "text/plain": [
              "                            cookie_id  \\\n",
              "672  dd8f35428911409f902b484964dd4ee4   \n",
              "673  ddb704add14a4f06ab6d6cb55f9111c7   \n",
              "674  de042bdb60b649109c2a1a35247adac5   \n",
              "675  def7ca6b59b04264829d44e33df41c7e   \n",
              "676  df524ce1312e4200ac6e57538e2485c7   \n",
              "..                                ...   \n",
              "767  fdbcda17f22f406486837059e76c7fed   \n",
              "768  fe6193ab26494ace9be5aae36e507618   \n",
              "769  fe95b2826ee1452b81201ed3f4c3294d   \n",
              "770  ff1aef256a49481698bb2e938510ff36   \n",
              "771  ff40591f76e34013a61b8af400002a07   \n",
              "\n",
              "                          top_recommendations  \n",
              "672  [244770, 222548, 182870, 181928, 177345]  \n",
              "673  [244770, 222548, 182870, 181928, 177345]  \n",
              "674  [244770, 222548, 182870, 181928, 177345]  \n",
              "675  [244770, 222548, 182870, 181928, 177345]  \n",
              "676  [191046, 106676, 251260, 236890, 245952]  \n",
              "..                                        ...  \n",
              "767  [244770, 222548, 182870, 181928, 177345]  \n",
              "768  [244770, 222548, 182870, 181928, 177345]  \n",
              "769  [244770, 222548, 182870, 181928, 177345]  \n",
              "770  [244770, 222548, 182870, 181928, 177345]  \n",
              "771  [244770, 222548, 182870, 181928, 177345]  \n",
              "\n",
              "[100 rows x 2 columns]"
            ],
            "text/html": [
              "\n",
              "  <div id=\"df-5621637f-bcff-45eb-ae81-a3200cf0872f\">\n",
              "    <div class=\"colab-df-container\">\n",
              "      <div>\n",
              "<style scoped>\n",
              "    .dataframe tbody tr th:only-of-type {\n",
              "        vertical-align: middle;\n",
              "    }\n",
              "\n",
              "    .dataframe tbody tr th {\n",
              "        vertical-align: top;\n",
              "    }\n",
              "\n",
              "    .dataframe thead th {\n",
              "        text-align: right;\n",
              "    }\n",
              "</style>\n",
              "<table border=\"1\" class=\"dataframe\">\n",
              "  <thead>\n",
              "    <tr style=\"text-align: right;\">\n",
              "      <th></th>\n",
              "      <th>cookie_id</th>\n",
              "      <th>top_recommendations</th>\n",
              "    </tr>\n",
              "  </thead>\n",
              "  <tbody>\n",
              "    <tr>\n",
              "      <th>672</th>\n",
              "      <td>dd8f35428911409f902b484964dd4ee4</td>\n",
              "      <td>[244770, 222548, 182870, 181928, 177345]</td>\n",
              "    </tr>\n",
              "    <tr>\n",
              "      <th>673</th>\n",
              "      <td>ddb704add14a4f06ab6d6cb55f9111c7</td>\n",
              "      <td>[244770, 222548, 182870, 181928, 177345]</td>\n",
              "    </tr>\n",
              "    <tr>\n",
              "      <th>674</th>\n",
              "      <td>de042bdb60b649109c2a1a35247adac5</td>\n",
              "      <td>[244770, 222548, 182870, 181928, 177345]</td>\n",
              "    </tr>\n",
              "    <tr>\n",
              "      <th>675</th>\n",
              "      <td>def7ca6b59b04264829d44e33df41c7e</td>\n",
              "      <td>[244770, 222548, 182870, 181928, 177345]</td>\n",
              "    </tr>\n",
              "    <tr>\n",
              "      <th>676</th>\n",
              "      <td>df524ce1312e4200ac6e57538e2485c7</td>\n",
              "      <td>[191046, 106676, 251260, 236890, 245952]</td>\n",
              "    </tr>\n",
              "    <tr>\n",
              "      <th>...</th>\n",
              "      <td>...</td>\n",
              "      <td>...</td>\n",
              "    </tr>\n",
              "    <tr>\n",
              "      <th>767</th>\n",
              "      <td>fdbcda17f22f406486837059e76c7fed</td>\n",
              "      <td>[244770, 222548, 182870, 181928, 177345]</td>\n",
              "    </tr>\n",
              "    <tr>\n",
              "      <th>768</th>\n",
              "      <td>fe6193ab26494ace9be5aae36e507618</td>\n",
              "      <td>[244770, 222548, 182870, 181928, 177345]</td>\n",
              "    </tr>\n",
              "    <tr>\n",
              "      <th>769</th>\n",
              "      <td>fe95b2826ee1452b81201ed3f4c3294d</td>\n",
              "      <td>[244770, 222548, 182870, 181928, 177345]</td>\n",
              "    </tr>\n",
              "    <tr>\n",
              "      <th>770</th>\n",
              "      <td>ff1aef256a49481698bb2e938510ff36</td>\n",
              "      <td>[244770, 222548, 182870, 181928, 177345]</td>\n",
              "    </tr>\n",
              "    <tr>\n",
              "      <th>771</th>\n",
              "      <td>ff40591f76e34013a61b8af400002a07</td>\n",
              "      <td>[244770, 222548, 182870, 181928, 177345]</td>\n",
              "    </tr>\n",
              "  </tbody>\n",
              "</table>\n",
              "<p>100 rows × 2 columns</p>\n",
              "</div>\n",
              "      <button class=\"colab-df-convert\" onclick=\"convertToInteractive('df-5621637f-bcff-45eb-ae81-a3200cf0872f')\"\n",
              "              title=\"Convert this dataframe to an interactive table.\"\n",
              "              style=\"display:none;\">\n",
              "        \n",
              "  <svg xmlns=\"http://www.w3.org/2000/svg\" height=\"24px\"viewBox=\"0 0 24 24\"\n",
              "       width=\"24px\">\n",
              "    <path d=\"M0 0h24v24H0V0z\" fill=\"none\"/>\n",
              "    <path d=\"M18.56 5.44l.94 2.06.94-2.06 2.06-.94-2.06-.94-.94-2.06-.94 2.06-2.06.94zm-11 1L8.5 8.5l.94-2.06 2.06-.94-2.06-.94L8.5 2.5l-.94 2.06-2.06.94zm10 10l.94 2.06.94-2.06 2.06-.94-2.06-.94-.94-2.06-.94 2.06-2.06.94z\"/><path d=\"M17.41 7.96l-1.37-1.37c-.4-.4-.92-.59-1.43-.59-.52 0-1.04.2-1.43.59L10.3 9.45l-7.72 7.72c-.78.78-.78 2.05 0 2.83L4 21.41c.39.39.9.59 1.41.59.51 0 1.02-.2 1.41-.59l7.78-7.78 2.81-2.81c.8-.78.8-2.07 0-2.86zM5.41 20L4 18.59l7.72-7.72 1.47 1.35L5.41 20z\"/>\n",
              "  </svg>\n",
              "      </button>\n",
              "      \n",
              "  <style>\n",
              "    .colab-df-container {\n",
              "      display:flex;\n",
              "      flex-wrap:wrap;\n",
              "      gap: 12px;\n",
              "    }\n",
              "\n",
              "    .colab-df-convert {\n",
              "      background-color: #E8F0FE;\n",
              "      border: none;\n",
              "      border-radius: 50%;\n",
              "      cursor: pointer;\n",
              "      display: none;\n",
              "      fill: #1967D2;\n",
              "      height: 32px;\n",
              "      padding: 0 0 0 0;\n",
              "      width: 32px;\n",
              "    }\n",
              "\n",
              "    .colab-df-convert:hover {\n",
              "      background-color: #E2EBFA;\n",
              "      box-shadow: 0px 1px 2px rgba(60, 64, 67, 0.3), 0px 1px 3px 1px rgba(60, 64, 67, 0.15);\n",
              "      fill: #174EA6;\n",
              "    }\n",
              "\n",
              "    [theme=dark] .colab-df-convert {\n",
              "      background-color: #3B4455;\n",
              "      fill: #D2E3FC;\n",
              "    }\n",
              "\n",
              "    [theme=dark] .colab-df-convert:hover {\n",
              "      background-color: #434B5C;\n",
              "      box-shadow: 0px 1px 3px 1px rgba(0, 0, 0, 0.15);\n",
              "      filter: drop-shadow(0px 1px 2px rgba(0, 0, 0, 0.3));\n",
              "      fill: #FFFFFF;\n",
              "    }\n",
              "  </style>\n",
              "\n",
              "      <script>\n",
              "        const buttonEl =\n",
              "          document.querySelector('#df-5621637f-bcff-45eb-ae81-a3200cf0872f button.colab-df-convert');\n",
              "        buttonEl.style.display =\n",
              "          google.colab.kernel.accessAllowed ? 'block' : 'none';\n",
              "\n",
              "        async function convertToInteractive(key) {\n",
              "          const element = document.querySelector('#df-5621637f-bcff-45eb-ae81-a3200cf0872f');\n",
              "          const dataTable =\n",
              "            await google.colab.kernel.invokeFunction('convertToInteractive',\n",
              "                                                     [key], {});\n",
              "          if (!dataTable) return;\n",
              "\n",
              "          const docLinkHtml = 'Like what you see? Visit the ' +\n",
              "            '<a target=\"_blank\" href=https://colab.research.google.com/notebooks/data_table.ipynb>data table notebook</a>'\n",
              "            + ' to learn more about interactive tables.';\n",
              "          element.innerHTML = '';\n",
              "          dataTable['output_type'] = 'display_data';\n",
              "          await google.colab.output.renderOutput(dataTable, element);\n",
              "          const docLink = document.createElement('div');\n",
              "          docLink.innerHTML = docLinkHtml;\n",
              "          element.appendChild(docLink);\n",
              "        }\n",
              "      </script>\n",
              "    </div>\n",
              "  </div>\n",
              "  "
            ]
          },
          "metadata": {},
          "execution_count": 104
        }
      ]
    },
    {
      "cell_type": "code",
      "source": [
        "test_prediction.tail(100)"
      ],
      "metadata": {
        "colab": {
          "base_uri": "https://localhost:8080/",
          "height": 423
        },
        "id": "N5Z4CfmgDnhn",
        "outputId": "5e03e0ac-b603-47ad-eed8-b108952d99e2"
      },
      "execution_count": 52,
      "outputs": [
        {
          "output_type": "execute_result",
          "data": {
            "text/plain": [
              "                            cookie_id  \\\n",
              "672  dd8f35428911409f902b484964dd4ee4   \n",
              "673  ddb704add14a4f06ab6d6cb55f9111c7   \n",
              "674  de042bdb60b649109c2a1a35247adac5   \n",
              "675  def7ca6b59b04264829d44e33df41c7e   \n",
              "676  df524ce1312e4200ac6e57538e2485c7   \n",
              "..                                ...   \n",
              "767  fdbcda17f22f406486837059e76c7fed   \n",
              "768  fe6193ab26494ace9be5aae36e507618   \n",
              "769  fe95b2826ee1452b81201ed3f4c3294d   \n",
              "770  ff1aef256a49481698bb2e938510ff36   \n",
              "771  ff40591f76e34013a61b8af400002a07   \n",
              "\n",
              "                          top_recommendations  \n",
              "672  [235677, 174953, 221920, 219948, 180382]  \n",
              "673  [235677, 174953, 221920, 219948, 180382]  \n",
              "674  [235677, 174953, 221920, 219948, 180382]  \n",
              "675  [235677, 174953, 221920, 219948, 180382]  \n",
              "676  [180382, 219948, 193331, 235677, 128776]  \n",
              "..                                        ...  \n",
              "767  [235677, 174953, 221920, 219948, 180382]  \n",
              "768  [235677, 174953, 221920, 219948, 180382]  \n",
              "769  [235677, 174953, 221920, 219948, 180382]  \n",
              "770  [235677, 174953, 221920, 219948, 180382]  \n",
              "771  [235677, 174953, 221920, 219948, 180382]  \n",
              "\n",
              "[100 rows x 2 columns]"
            ],
            "text/html": [
              "\n",
              "  <div id=\"df-eb944e69-b482-48a9-ae04-2ba072116476\">\n",
              "    <div class=\"colab-df-container\">\n",
              "      <div>\n",
              "<style scoped>\n",
              "    .dataframe tbody tr th:only-of-type {\n",
              "        vertical-align: middle;\n",
              "    }\n",
              "\n",
              "    .dataframe tbody tr th {\n",
              "        vertical-align: top;\n",
              "    }\n",
              "\n",
              "    .dataframe thead th {\n",
              "        text-align: right;\n",
              "    }\n",
              "</style>\n",
              "<table border=\"1\" class=\"dataframe\">\n",
              "  <thead>\n",
              "    <tr style=\"text-align: right;\">\n",
              "      <th></th>\n",
              "      <th>cookie_id</th>\n",
              "      <th>top_recommendations</th>\n",
              "    </tr>\n",
              "  </thead>\n",
              "  <tbody>\n",
              "    <tr>\n",
              "      <th>672</th>\n",
              "      <td>dd8f35428911409f902b484964dd4ee4</td>\n",
              "      <td>[235677, 174953, 221920, 219948, 180382]</td>\n",
              "    </tr>\n",
              "    <tr>\n",
              "      <th>673</th>\n",
              "      <td>ddb704add14a4f06ab6d6cb55f9111c7</td>\n",
              "      <td>[235677, 174953, 221920, 219948, 180382]</td>\n",
              "    </tr>\n",
              "    <tr>\n",
              "      <th>674</th>\n",
              "      <td>de042bdb60b649109c2a1a35247adac5</td>\n",
              "      <td>[235677, 174953, 221920, 219948, 180382]</td>\n",
              "    </tr>\n",
              "    <tr>\n",
              "      <th>675</th>\n",
              "      <td>def7ca6b59b04264829d44e33df41c7e</td>\n",
              "      <td>[235677, 174953, 221920, 219948, 180382]</td>\n",
              "    </tr>\n",
              "    <tr>\n",
              "      <th>676</th>\n",
              "      <td>df524ce1312e4200ac6e57538e2485c7</td>\n",
              "      <td>[180382, 219948, 193331, 235677, 128776]</td>\n",
              "    </tr>\n",
              "    <tr>\n",
              "      <th>...</th>\n",
              "      <td>...</td>\n",
              "      <td>...</td>\n",
              "    </tr>\n",
              "    <tr>\n",
              "      <th>767</th>\n",
              "      <td>fdbcda17f22f406486837059e76c7fed</td>\n",
              "      <td>[235677, 174953, 221920, 219948, 180382]</td>\n",
              "    </tr>\n",
              "    <tr>\n",
              "      <th>768</th>\n",
              "      <td>fe6193ab26494ace9be5aae36e507618</td>\n",
              "      <td>[235677, 174953, 221920, 219948, 180382]</td>\n",
              "    </tr>\n",
              "    <tr>\n",
              "      <th>769</th>\n",
              "      <td>fe95b2826ee1452b81201ed3f4c3294d</td>\n",
              "      <td>[235677, 174953, 221920, 219948, 180382]</td>\n",
              "    </tr>\n",
              "    <tr>\n",
              "      <th>770</th>\n",
              "      <td>ff1aef256a49481698bb2e938510ff36</td>\n",
              "      <td>[235677, 174953, 221920, 219948, 180382]</td>\n",
              "    </tr>\n",
              "    <tr>\n",
              "      <th>771</th>\n",
              "      <td>ff40591f76e34013a61b8af400002a07</td>\n",
              "      <td>[235677, 174953, 221920, 219948, 180382]</td>\n",
              "    </tr>\n",
              "  </tbody>\n",
              "</table>\n",
              "<p>100 rows × 2 columns</p>\n",
              "</div>\n",
              "      <button class=\"colab-df-convert\" onclick=\"convertToInteractive('df-eb944e69-b482-48a9-ae04-2ba072116476')\"\n",
              "              title=\"Convert this dataframe to an interactive table.\"\n",
              "              style=\"display:none;\">\n",
              "        \n",
              "  <svg xmlns=\"http://www.w3.org/2000/svg\" height=\"24px\"viewBox=\"0 0 24 24\"\n",
              "       width=\"24px\">\n",
              "    <path d=\"M0 0h24v24H0V0z\" fill=\"none\"/>\n",
              "    <path d=\"M18.56 5.44l.94 2.06.94-2.06 2.06-.94-2.06-.94-.94-2.06-.94 2.06-2.06.94zm-11 1L8.5 8.5l.94-2.06 2.06-.94-2.06-.94L8.5 2.5l-.94 2.06-2.06.94zm10 10l.94 2.06.94-2.06 2.06-.94-2.06-.94-.94-2.06-.94 2.06-2.06.94z\"/><path d=\"M17.41 7.96l-1.37-1.37c-.4-.4-.92-.59-1.43-.59-.52 0-1.04.2-1.43.59L10.3 9.45l-7.72 7.72c-.78.78-.78 2.05 0 2.83L4 21.41c.39.39.9.59 1.41.59.51 0 1.02-.2 1.41-.59l7.78-7.78 2.81-2.81c.8-.78.8-2.07 0-2.86zM5.41 20L4 18.59l7.72-7.72 1.47 1.35L5.41 20z\"/>\n",
              "  </svg>\n",
              "      </button>\n",
              "      \n",
              "  <style>\n",
              "    .colab-df-container {\n",
              "      display:flex;\n",
              "      flex-wrap:wrap;\n",
              "      gap: 12px;\n",
              "    }\n",
              "\n",
              "    .colab-df-convert {\n",
              "      background-color: #E8F0FE;\n",
              "      border: none;\n",
              "      border-radius: 50%;\n",
              "      cursor: pointer;\n",
              "      display: none;\n",
              "      fill: #1967D2;\n",
              "      height: 32px;\n",
              "      padding: 0 0 0 0;\n",
              "      width: 32px;\n",
              "    }\n",
              "\n",
              "    .colab-df-convert:hover {\n",
              "      background-color: #E2EBFA;\n",
              "      box-shadow: 0px 1px 2px rgba(60, 64, 67, 0.3), 0px 1px 3px 1px rgba(60, 64, 67, 0.15);\n",
              "      fill: #174EA6;\n",
              "    }\n",
              "\n",
              "    [theme=dark] .colab-df-convert {\n",
              "      background-color: #3B4455;\n",
              "      fill: #D2E3FC;\n",
              "    }\n",
              "\n",
              "    [theme=dark] .colab-df-convert:hover {\n",
              "      background-color: #434B5C;\n",
              "      box-shadow: 0px 1px 3px 1px rgba(0, 0, 0, 0.15);\n",
              "      filter: drop-shadow(0px 1px 2px rgba(0, 0, 0, 0.3));\n",
              "      fill: #FFFFFF;\n",
              "    }\n",
              "  </style>\n",
              "\n",
              "      <script>\n",
              "        const buttonEl =\n",
              "          document.querySelector('#df-eb944e69-b482-48a9-ae04-2ba072116476 button.colab-df-convert');\n",
              "        buttonEl.style.display =\n",
              "          google.colab.kernel.accessAllowed ? 'block' : 'none';\n",
              "\n",
              "        async function convertToInteractive(key) {\n",
              "          const element = document.querySelector('#df-eb944e69-b482-48a9-ae04-2ba072116476');\n",
              "          const dataTable =\n",
              "            await google.colab.kernel.invokeFunction('convertToInteractive',\n",
              "                                                     [key], {});\n",
              "          if (!dataTable) return;\n",
              "\n",
              "          const docLinkHtml = 'Like what you see? Visit the ' +\n",
              "            '<a target=\"_blank\" href=https://colab.research.google.com/notebooks/data_table.ipynb>data table notebook</a>'\n",
              "            + ' to learn more about interactive tables.';\n",
              "          element.innerHTML = '';\n",
              "          dataTable['output_type'] = 'display_data';\n",
              "          await google.colab.output.renderOutput(dataTable, element);\n",
              "          const docLink = document.createElement('div');\n",
              "          docLink.innerHTML = docLinkHtml;\n",
              "          element.appendChild(docLink);\n",
              "        }\n",
              "      </script>\n",
              "    </div>\n",
              "  </div>\n",
              "  "
            ]
          },
          "metadata": {},
          "execution_count": 52
        }
      ]
    },
    {
      "cell_type": "markdown",
      "metadata": {
        "id": "uItRksA2lsFb"
      },
      "source": [
        "### Блок проверки модели\n",
        "---"
      ]
    },
    {
      "cell_type": "code",
      "execution_count": 36,
      "metadata": {
        "id": "Gnn5bSHZ9UXn"
      },
      "outputs": [],
      "source": [
        "def precision_recall_at_k(predictions, k=5, threshold=0.5):\n",
        "    \"\"\"Return precision and recall at k metrics for each user\"\"\"\n",
        "\n",
        "    # First map the predictions to each user.\n",
        "    user_est_true = defaultdict(list)\n",
        "    for uid, _, true_r, est, _ in predictions:\n",
        "        user_est_true[uid].append((est, true_r))\n",
        "\n",
        "    precisions = dict()\n",
        "    recalls = dict()\n",
        "    for uid, user_ratings in user_est_true.items():\n",
        "\n",
        "        # Sort user ratings by estimated value\n",
        "        user_ratings.sort(key=lambda x: x[0], reverse=True)\n",
        "\n",
        "        # Number of relevant items\n",
        "        n_rel = sum((true_r >= threshold) for (_, true_r) in user_ratings)\n",
        "\n",
        "        # Number of recommended items in top k\n",
        "        n_rec_k = sum((est >= threshold) for (est, _) in user_ratings[:k])\n",
        "\n",
        "        # Number of relevant and recommended items in top k\n",
        "        n_rel_and_rec_k = sum(\n",
        "            ((true_r >= threshold) and (est >= threshold))\n",
        "            for (est, true_r) in user_ratings[:k]\n",
        "        )\n",
        "\n",
        "        # Precision@K: Proportion of recommended items that are relevant\n",
        "        # When n_rec_k is 0, Precision is undefined. We here set it to 0.\n",
        "\n",
        "        precisions[uid] = n_rel_and_rec_k / n_rec_k if n_rec_k != 0 else 0\n",
        "\n",
        "        # Recall@K: Proportion of relevant items that are recommended\n",
        "        # When n_rel is 0, Recall is undefined. We here set it to 0.\n",
        "\n",
        "        recalls[uid] = n_rel_and_rec_k / n_rel if n_rel != 0 else 0\n",
        "\n",
        "    return precisions, recalls"
      ]
    },
    {
      "cell_type": "code",
      "execution_count": 37,
      "metadata": {
        "id": "pvKsBRSf9UXo"
      },
      "outputs": [],
      "source": [
        "from surprise.model_selection import KFold"
      ]
    },
    {
      "cell_type": "code",
      "execution_count": 100,
      "metadata": {
        "id": "JDvM8OvY9UXo",
        "outputId": "8a492f2f-b4d5-4722-87d6-58ac771aebc3",
        "colab": {
          "base_uri": "https://localhost:8080/"
        }
      },
      "outputs": [
        {
          "output_type": "stream",
          "name": "stdout",
          "text": [
            "0.1577468115257437\n",
            "0.1509112738151467\n",
            "0.14847071327349992\n",
            "0.15393441977641295\n",
            "0.14997834986616243\n"
          ]
        }
      ],
      "source": [
        "kf = KFold(n_splits=5)\n",
        "\n",
        "for trainset, testset in kf.split(data):\n",
        "    algo.fit(trainset)\n",
        "    predictions = algo.test(testset)\n",
        "    precisions, recalls = precision_recall_at_k(predictions, k=5, threshold=3)\n",
        "\n",
        "    # Precision and recall can then be averaged over all users\n",
        "    print(sum(prec for prec in precisions.values()) / len(precisions))"
      ]
    },
    {
      "cell_type": "markdown",
      "metadata": {
        "id": "vSQ7Qcp2lsFc"
      },
      "source": [
        "### Сохранение и загрузка модели\n",
        "\n",
        "---"
      ]
    },
    {
      "cell_type": "code",
      "execution_count": null,
      "metadata": {
        "id": "IwHGWi2O97LG"
      },
      "outputs": [],
      "source": [
        "## SAVING TRAINED MODEL\n",
        "from surprise import dump\n",
        "import os\n",
        "model_filename = \"./model.pickle\"\n",
        "print (\">> Starting dump\")\n",
        "# Dump algorithm and reload it.\n",
        "file_name = os.path.expanduser(model_filename)\n",
        "dump.dump(file_name, algo=algo)\n",
        "print (\">> Dump done\")\n",
        "print(model_filename)"
      ]
    },
    {
      "cell_type": "code",
      "execution_count": null,
      "metadata": {
        "id": "BmLTSn-P99IV"
      },
      "outputs": [],
      "source": [
        "## LOAD SAVED MODEL\n",
        "def load_model(model_filename):\n",
        "    print (\">> Loading dump\")\n",
        "    from surprise import dump\n",
        "    import os\n",
        "    file_name = os.path.expanduser(model_filename)\n",
        "    _, loaded_model = dump.load(file_name)\n",
        "    print (\">> Loaded dump\")\n",
        "    return loaded_model"
      ]
    }
  ],
  "metadata": {
    "colab": {
      "provenance": []
    },
    "kernelspec": {
      "display_name": "Python 3",
      "language": "python",
      "name": "python3"
    },
    "language_info": {
      "codemirror_mode": {
        "name": "ipython",
        "version": 3
      },
      "file_extension": ".py",
      "mimetype": "text/x-python",
      "name": "python",
      "nbconvert_exporter": "python",
      "pygments_lexer": "ipython3",
      "version": "3.10.7"
    },
    "orig_nbformat": 4,
    "vscode": {
      "interpreter": {
        "hash": "adc619b01503523b8240db011ba6e5d9101136cf083453867df1fdfca18879a8"
      }
    }
  },
  "nbformat": 4,
  "nbformat_minor": 0
}