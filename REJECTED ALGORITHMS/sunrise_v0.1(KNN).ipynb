{
 "cells": [
  {
   "attachments": {},
   "cell_type": "markdown",
   "metadata": {},
   "source": [
    "# Загружаем библиотеки и датафрейм\n",
    "---"
   ]
  },
  {
   "cell_type": "code",
   "execution_count": null,
   "metadata": {},
   "outputs": [],
   "source": [
    "import pandas as pd\n",
    "import numpy as np"
   ]
  },
  {
   "cell_type": "code",
   "execution_count": 5,
   "metadata": {},
   "outputs": [],
   "source": [
    "\n",
    "data = pd.read_parquet('train_mfti.parquet', engine='pyarrow')"
   ]
  },
  {
   "cell_type": "code",
   "execution_count": 6,
   "metadata": {},
   "outputs": [],
   "source": [
    "df = data.copy()"
   ]
  },
  {
   "cell_type": "code",
   "execution_count": 7,
   "metadata": {},
   "outputs": [],
   "source": [
    "df['Rating'] = df['event_type'].map({'show_vacancy': 0,\n",
    "                                     'preview_click_vacancy': 0,\n",
    "                                     'click_favorite': 0,\n",
    "                                     'preview_click_favorite': 0,\n",
    "                                     'click_response': 1,\n",
    "                                     'preview_click_response': 1,\n",
    "                                     'click_contacts': 1,\n",
    "                                     'preview_click_contacts': 1,\n",
    "                                     'click_phone': 1,\n",
    "                                     'preview_click_phone': 1})"
   ]
  },
  {
   "attachments": {},
   "cell_type": "markdown",
   "metadata": {},
   "source": [
    "* 1 show_vacancy - просмотр вакансии\n",
    "* 2 preview_click_vacancy - клик по карточке вакансии\n",
    "* 3 click_response - отклик со страницы вакансии\n",
    "* 4 preview_click_response - отклик с карточки вакансии\n",
    "* 5 click_favorite - добавление вакансии в избранное  со страницы вакансии\n",
    "* 6 preview_click_favorite - добавление вакансии в избраное с карточки вакансии\n",
    "* 7 click_contacts - клик на контакты со страницы вакансии\n",
    "* 8 preview_click_contacts - клик на контакты из карточки вакансии\n",
    "* 9 click_phone - клик на номер телефона, указанный в вакансии\n",
    "* 10 preview_click_phone - клик на номер телефона из карточки вакансии\n",
    "\n",
    "Жирным выделены искомые \"\"откликнется\"\" и \"\"позвонит\"\"\""
   ]
  },
  {
   "cell_type": "code",
   "execution_count": 10,
   "metadata": {},
   "outputs": [
    {
     "data": {
      "text/html": [
       "<div>\n",
       "<style scoped>\n",
       "    .dataframe tbody tr th:only-of-type {\n",
       "        vertical-align: middle;\n",
       "    }\n",
       "\n",
       "    .dataframe tbody tr th {\n",
       "        vertical-align: top;\n",
       "    }\n",
       "\n",
       "    .dataframe thead th {\n",
       "        text-align: right;\n",
       "    }\n",
       "</style>\n",
       "<table border=\"1\" class=\"dataframe\">\n",
       "  <thead>\n",
       "    <tr style=\"text-align: right;\">\n",
       "      <th></th>\n",
       "      <th>event_date</th>\n",
       "      <th>event_timestamp</th>\n",
       "      <th>vacancy_id_</th>\n",
       "      <th>cookie_id</th>\n",
       "      <th>user_id</th>\n",
       "      <th>event_type</th>\n",
       "      <th>Rating</th>\n",
       "    </tr>\n",
       "  </thead>\n",
       "  <tbody>\n",
       "    <tr>\n",
       "      <th>51620</th>\n",
       "      <td>2022-08-01</td>\n",
       "      <td>1659301200</td>\n",
       "      <td>113824</td>\n",
       "      <td>71e26b4bc1ef4dbf8bc6ed74aaf83f75</td>\n",
       "      <td>24ca6fbdec8a4c2f8037639deefc7881</td>\n",
       "      <td>show_vacancy</td>\n",
       "      <td>0</td>\n",
       "    </tr>\n",
       "    <tr>\n",
       "      <th>200951</th>\n",
       "      <td>2022-08-01</td>\n",
       "      <td>1659301200</td>\n",
       "      <td>113824</td>\n",
       "      <td>71e26b4bc1ef4dbf8bc6ed74aaf83f75</td>\n",
       "      <td>24ca6fbdec8a4c2f8037639deefc7881</td>\n",
       "      <td>preview_click_vacancy</td>\n",
       "      <td>0</td>\n",
       "    </tr>\n",
       "    <tr>\n",
       "      <th>116157</th>\n",
       "      <td>2022-08-01</td>\n",
       "      <td>1659301201</td>\n",
       "      <td>119870</td>\n",
       "      <td>acff18561d8b4eada7938b750182527c</td>\n",
       "      <td>None</td>\n",
       "      <td>show_vacancy</td>\n",
       "      <td>0</td>\n",
       "    </tr>\n",
       "    <tr>\n",
       "      <th>24322</th>\n",
       "      <td>2022-08-01</td>\n",
       "      <td>1659301206</td>\n",
       "      <td>120270</td>\n",
       "      <td>8018bf19b86d4d43891cfcb03fe9486b</td>\n",
       "      <td>242cb3fc1fec48e4aec9a081983af922</td>\n",
       "      <td>show_vacancy</td>\n",
       "      <td>0</td>\n",
       "    </tr>\n",
       "    <tr>\n",
       "      <th>59721</th>\n",
       "      <td>2022-08-01</td>\n",
       "      <td>1659301206</td>\n",
       "      <td>120270</td>\n",
       "      <td>8018bf19b86d4d43891cfcb03fe9486b</td>\n",
       "      <td>242cb3fc1fec48e4aec9a081983af922</td>\n",
       "      <td>preview_click_vacancy</td>\n",
       "      <td>0</td>\n",
       "    </tr>\n",
       "  </tbody>\n",
       "</table>\n",
       "</div>"
      ],
      "text/plain": [
       "        event_date  event_timestamp  vacancy_id_  \\\n",
       "51620   2022-08-01       1659301200       113824   \n",
       "200951  2022-08-01       1659301200       113824   \n",
       "116157  2022-08-01       1659301201       119870   \n",
       "24322   2022-08-01       1659301206       120270   \n",
       "59721   2022-08-01       1659301206       120270   \n",
       "\n",
       "                               cookie_id                           user_id  \\\n",
       "51620   71e26b4bc1ef4dbf8bc6ed74aaf83f75  24ca6fbdec8a4c2f8037639deefc7881   \n",
       "200951  71e26b4bc1ef4dbf8bc6ed74aaf83f75  24ca6fbdec8a4c2f8037639deefc7881   \n",
       "116157  acff18561d8b4eada7938b750182527c                              None   \n",
       "24322   8018bf19b86d4d43891cfcb03fe9486b  242cb3fc1fec48e4aec9a081983af922   \n",
       "59721   8018bf19b86d4d43891cfcb03fe9486b  242cb3fc1fec48e4aec9a081983af922   \n",
       "\n",
       "                   event_type  Rating  \n",
       "51620            show_vacancy       0  \n",
       "200951  preview_click_vacancy       0  \n",
       "116157           show_vacancy       0  \n",
       "24322            show_vacancy       0  \n",
       "59721   preview_click_vacancy       0  "
      ]
     },
     "execution_count": 10,
     "metadata": {},
     "output_type": "execute_result"
    }
   ],
   "source": [
    "df.head()"
   ]
  },
  {
   "cell_type": "code",
   "execution_count": 7,
   "metadata": {},
   "outputs": [
    {
     "name": "stdout",
     "output_type": "stream",
     "text": [
      "<class 'pandas.core.frame.DataFrame'>\n",
      "RangeIndex: 12292588 entries, 0 to 12292587\n",
      "Data columns (total 7 columns):\n",
      " #   Column           Dtype \n",
      "---  ------           ----- \n",
      " 0   event_date       object\n",
      " 1   event_timestamp  int64 \n",
      " 2   vacancy_id_      int64 \n",
      " 3   cookie_id        object\n",
      " 4   user_id          object\n",
      " 5   event_type       object\n",
      " 6   Rating           int64 \n",
      "dtypes: int64(3), object(4)\n",
      "memory usage: 656.5+ MB\n"
     ]
    }
   ],
   "source": [
    "df.info()"
   ]
  },
  {
   "attachments": {},
   "cell_type": "markdown",
   "metadata": {},
   "source": [
    "Начинаем преобразовывать характеристики"
   ]
  },
  {
   "cell_type": "code",
   "execution_count": 7,
   "metadata": {},
   "outputs": [],
   "source": [
    "df['vacancy_id_num'] = df['vacancy_id_'].astype('int64')"
   ]
  },
  {
   "cell_type": "code",
   "execution_count": 9,
   "metadata": {},
   "outputs": [],
   "source": [
    "df['cookie_id_num'] = df['cookie_id'].astype('category').cat.codes\n",
    "df['user_id_num'] = df['user_id'].astype('category').cat.codes"
   ]
  },
  {
   "cell_type": "code",
   "execution_count": 19,
   "metadata": {},
   "outputs": [
    {
     "data": {
      "text/plain": [
       "51620     1659301200\n",
       "200951    1659301200\n",
       "116157    1659301201\n",
       "24322     1659301206\n",
       "59721     1659301206\n",
       "Name: event_timestamp, dtype: int64"
      ]
     },
     "execution_count": 19,
     "metadata": {},
     "output_type": "execute_result"
    }
   ],
   "source": [
    "df.head()"
   ]
  },
  {
   "cell_type": "code",
   "execution_count": 9,
   "metadata": {},
   "outputs": [],
   "source": [
    "df = df.sort_values('event_timestamp')"
   ]
  },
  {
   "cell_type": "code",
   "execution_count": 29,
   "metadata": {},
   "outputs": [],
   "source": [
    "# можно записать что бы потом не кликать\n",
    "df.to_parquet('df_parquet')"
   ]
  },
  {
   "attachments": {},
   "cell_type": "markdown",
   "metadata": {},
   "source": [
    "СОЗДАЕМ таблицы для обучения\n",
    "---"
   ]
  },
  {
   "cell_type": "code",
   "execution_count": 10,
   "metadata": {},
   "outputs": [],
   "source": [
    "# Только числовые значения \n",
    "df_cut = df[['cookie_id_num', 'vacancy_id_num', 'Rating']] # проверял пока только эту"
   ]
  },
  {
   "cell_type": "code",
   "execution_count": 14,
   "metadata": {},
   "outputs": [],
   "source": [
    "df_cut.to_parquet('df_cut.paruet')"
   ]
  },
  {
   "cell_type": "code",
   "execution_count": 11,
   "metadata": {},
   "outputs": [],
   "source": [
    "# все значения в изначальном варианте\n",
    "df_str = df[['cookie_id', 'vacancy_id_', 'Rating']]"
   ]
  },
  {
   "cell_type": "code",
   "execution_count": 11,
   "metadata": {},
   "outputs": [],
   "source": [
    "df_str.to_parquet('df_str.paruet')"
   ]
  },
  {
   "cell_type": "code",
   "execution_count": 12,
   "metadata": {},
   "outputs": [],
   "source": [
    "# видел что время оч влияет и с ним обучаются - пока не тестил\n",
    "df_time = df[['cookie_id_num', 'vacancy_id_num', 'Rating', 'event_timestamp']]"
   ]
  },
  {
   "cell_type": "code",
   "execution_count": 8,
   "metadata": {},
   "outputs": [],
   "source": [
    "df_time.to_parquet('df_time.paruet')"
   ]
  },
  {
   "cell_type": "code",
   "execution_count": 58,
   "metadata": {},
   "outputs": [],
   "source": [
    "#df_cut_time = df[['cookie_id_num', 'vacancy_id_num', 'Rating', 'event_timestamp']]"
   ]
  },
  {
   "cell_type": "code",
   "execution_count": 59,
   "metadata": {},
   "outputs": [],
   "source": [
    "#df_str_time = df[['cookie_id', 'vacancy_id_', 'Rating', 'event_timestamp']]"
   ]
  },
  {
   "attachments": {},
   "cell_type": "markdown",
   "metadata": {},
   "source": [
    "Начинаем обучение С разбиением датасета\n",
    "---"
   ]
  },
  {
   "attachments": {},
   "cell_type": "markdown",
   "metadata": {},
   "source": [
    "Загружаем разные датасеты\n",
    "---"
   ]
  },
  {
   "cell_type": "code",
   "execution_count": 2,
   "metadata": {},
   "outputs": [],
   "source": [
    "df_str = pd.read_parquet('df_cut_str.parquet')"
   ]
  },
  {
   "cell_type": "code",
   "execution_count": 17,
   "metadata": {},
   "outputs": [],
   "source": [
    "from surprise import accuracy, Dataset\n",
    "from surprise import KNNBaseline\n",
    "from surprise import Dataset, Reader\n",
    "from surprise.model_selection import train_test_split"
   ]
  },
  {
   "cell_type": "code",
   "execution_count": 12,
   "metadata": {},
   "outputs": [],
   "source": [
    "df = df_str"
   ]
  },
  {
   "cell_type": "code",
   "execution_count": 13,
   "metadata": {},
   "outputs": [
    {
     "name": "stdout",
     "output_type": "stream",
     "text": [
      "<class 'pandas.core.frame.DataFrame'>\n",
      "Int64Index: 12292588 entries, 51620 to 10914320\n",
      "Data columns (total 3 columns):\n",
      " #   Column       Dtype \n",
      "---  ------       ----- \n",
      " 0   cookie_id    object\n",
      " 1   vacancy_id_  int64 \n",
      " 2   Rating       int64 \n",
      "dtypes: int64(2), object(1)\n",
      "memory usage: 375.1+ MB\n"
     ]
    }
   ],
   "source": [
    "df.info()"
   ]
  },
  {
   "cell_type": "code",
   "execution_count": 28,
   "metadata": {},
   "outputs": [
    {
     "data": {
      "text/html": [
       "<div>\n",
       "<style scoped>\n",
       "    .dataframe tbody tr th:only-of-type {\n",
       "        vertical-align: middle;\n",
       "    }\n",
       "\n",
       "    .dataframe tbody tr th {\n",
       "        vertical-align: top;\n",
       "    }\n",
       "\n",
       "    .dataframe thead th {\n",
       "        text-align: right;\n",
       "    }\n",
       "</style>\n",
       "<table border=\"1\" class=\"dataframe\">\n",
       "  <thead>\n",
       "    <tr style=\"text-align: right;\">\n",
       "      <th></th>\n",
       "      <th>cookie_id</th>\n",
       "      <th>vacancy_id_</th>\n",
       "      <th>Rating</th>\n",
       "    </tr>\n",
       "  </thead>\n",
       "  <tbody>\n",
       "    <tr>\n",
       "      <th>51620</th>\n",
       "      <td>71e26b4bc1ef4dbf8bc6ed74aaf83f75</td>\n",
       "      <td>113824</td>\n",
       "      <td>0</td>\n",
       "    </tr>\n",
       "    <tr>\n",
       "      <th>200951</th>\n",
       "      <td>71e26b4bc1ef4dbf8bc6ed74aaf83f75</td>\n",
       "      <td>113824</td>\n",
       "      <td>0</td>\n",
       "    </tr>\n",
       "    <tr>\n",
       "      <th>116157</th>\n",
       "      <td>acff18561d8b4eada7938b750182527c</td>\n",
       "      <td>119870</td>\n",
       "      <td>0</td>\n",
       "    </tr>\n",
       "    <tr>\n",
       "      <th>24322</th>\n",
       "      <td>8018bf19b86d4d43891cfcb03fe9486b</td>\n",
       "      <td>120270</td>\n",
       "      <td>0</td>\n",
       "    </tr>\n",
       "    <tr>\n",
       "      <th>59721</th>\n",
       "      <td>8018bf19b86d4d43891cfcb03fe9486b</td>\n",
       "      <td>120270</td>\n",
       "      <td>0</td>\n",
       "    </tr>\n",
       "  </tbody>\n",
       "</table>\n",
       "</div>"
      ],
      "text/plain": [
       "                               cookie_id  vacancy_id_  Rating\n",
       "51620   71e26b4bc1ef4dbf8bc6ed74aaf83f75       113824       0\n",
       "200951  71e26b4bc1ef4dbf8bc6ed74aaf83f75       113824       0\n",
       "116157  acff18561d8b4eada7938b750182527c       119870       0\n",
       "24322   8018bf19b86d4d43891cfcb03fe9486b       120270       0\n",
       "59721   8018bf19b86d4d43891cfcb03fe9486b       120270       0"
      ]
     },
     "execution_count": 28,
     "metadata": {},
     "output_type": "execute_result"
    }
   ],
   "source": [
    "df.head()"
   ]
  },
  {
   "cell_type": "code",
   "execution_count": 14,
   "metadata": {},
   "outputs": [],
   "source": [
    "df_first = df.iloc [:500000]\n",
    "df_last = df.iloc [500000:]"
   ]
  },
  {
   "cell_type": "code",
   "execution_count": 7,
   "metadata": {},
   "outputs": [
    {
     "data": {
      "text/html": [
       "<div>\n",
       "<style scoped>\n",
       "    .dataframe tbody tr th:only-of-type {\n",
       "        vertical-align: middle;\n",
       "    }\n",
       "\n",
       "    .dataframe tbody tr th {\n",
       "        vertical-align: top;\n",
       "    }\n",
       "\n",
       "    .dataframe thead th {\n",
       "        text-align: right;\n",
       "    }\n",
       "</style>\n",
       "<table border=\"1\" class=\"dataframe\">\n",
       "  <thead>\n",
       "    <tr style=\"text-align: right;\">\n",
       "      <th></th>\n",
       "      <th>cookie_id</th>\n",
       "      <th>vacancy_id_</th>\n",
       "      <th>Rating</th>\n",
       "    </tr>\n",
       "  </thead>\n",
       "  <tbody>\n",
       "    <tr>\n",
       "      <th>0</th>\n",
       "      <td>0000c4548c3944c08972bbdc1fa4eb85</td>\n",
       "      <td>137659</td>\n",
       "      <td>1</td>\n",
       "    </tr>\n",
       "    <tr>\n",
       "      <th>1</th>\n",
       "      <td>0000c4548c3944c08972bbdc1fa4eb85</td>\n",
       "      <td>153975</td>\n",
       "      <td>1</td>\n",
       "    </tr>\n",
       "    <tr>\n",
       "      <th>2</th>\n",
       "      <td>0000c4548c3944c08972bbdc1fa4eb85</td>\n",
       "      <td>174953</td>\n",
       "      <td>2</td>\n",
       "    </tr>\n",
       "    <tr>\n",
       "      <th>3</th>\n",
       "      <td>0000c4548c3944c08972bbdc1fa4eb85</td>\n",
       "      <td>176171</td>\n",
       "      <td>1</td>\n",
       "    </tr>\n",
       "    <tr>\n",
       "      <th>4</th>\n",
       "      <td>0000c4548c3944c08972bbdc1fa4eb85</td>\n",
       "      <td>182445</td>\n",
       "      <td>1</td>\n",
       "    </tr>\n",
       "  </tbody>\n",
       "</table>\n",
       "</div>"
      ],
      "text/plain": [
       "                          cookie_id  vacancy_id_  Rating\n",
       "0  0000c4548c3944c08972bbdc1fa4eb85       137659       1\n",
       "1  0000c4548c3944c08972bbdc1fa4eb85       153975       1\n",
       "2  0000c4548c3944c08972bbdc1fa4eb85       174953       2\n",
       "3  0000c4548c3944c08972bbdc1fa4eb85       176171       1\n",
       "4  0000c4548c3944c08972bbdc1fa4eb85       182445       1"
      ]
     },
     "execution_count": 7,
     "metadata": {},
     "output_type": "execute_result"
    }
   ],
   "source": [
    "df_first.head()"
   ]
  },
  {
   "cell_type": "code",
   "execution_count": 15,
   "metadata": {},
   "outputs": [],
   "source": [
    "df_last.to_csv('dop_data.csv')"
   ]
  },
  {
   "cell_type": "code",
   "execution_count": 18,
   "metadata": {},
   "outputs": [],
   "source": [
    "# Загружаем данные в формате Surprise\n",
    "reader = Reader(rating_scale=(0, 1))\n",
    "data = Dataset.load_from_df(df_first[['cookie_id', 'vacancy_id_', 'Rating']], reader)"
   ]
  },
  {
   "cell_type": "code",
   "execution_count": 19,
   "metadata": {},
   "outputs": [],
   "source": [
    "# Разбиваем данные на обучающую и тестовую выборки\n",
    "trainset, testset = train_test_split(data, test_size=.25)"
   ]
  },
  {
   "cell_type": "code",
   "execution_count": 20,
   "metadata": {},
   "outputs": [
    {
     "name": "stdout",
     "output_type": "stream",
     "text": [
      "[('e3eeeab1e25147608a72a6622b9bc50e', 221088, 0.0), ('fec9c3acb4c5441c9de346c68f62673a', 149920, 0.0), ('e4b1496719a94af5879757ff273c6cba', 142619, 0.0), ('cd9234b8bebf443a94d5014cf77b5917', 120267, 0.0), ('fcd2b59d24fd4f9fbfbc7cc652e2d610', 150283, 0.0)]\n"
     ]
    }
   ],
   "source": [
    "print(testset[:5])"
   ]
  },
  {
   "cell_type": "code",
   "execution_count": 1,
   "metadata": {},
   "outputs": [],
   "source": [
    "sim_options = {'user_based': False } # Item-based подход"
   ]
  },
  {
   "cell_type": "code",
   "execution_count": 21,
   "metadata": {},
   "outputs": [
    {
     "ename": "TypeError",
     "evalue": "KNNBaseline.fit() got an unexpected keyword argument 'sim_options'",
     "output_type": "error",
     "traceback": [
      "\u001b[1;31m---------------------------------------------------------------------------\u001b[0m",
      "\u001b[1;31mTypeError\u001b[0m                                 Traceback (most recent call last)",
      "Cell \u001b[1;32mIn[21], line 4\u001b[0m\n\u001b[0;32m      2\u001b[0m algo \u001b[39m=\u001b[39m KNNBaseline(k\u001b[39m=\u001b[39m\u001b[39m3\u001b[39m, verbose\u001b[39m=\u001b[39m\u001b[39mFalse\u001b[39;00m)\n\u001b[0;32m      3\u001b[0m trainset_small \u001b[39m=\u001b[39m trainset\n\u001b[1;32m----> 4\u001b[0m algo\u001b[39m.\u001b[39;49mfit(trainset_small, sim_options\u001b[39m=\u001b[39;49msim_options)\n",
      "\u001b[1;31mTypeError\u001b[0m: KNNBaseline.fit() got an unexpected keyword argument 'sim_options'"
     ]
    }
   ],
   "source": [
    "# Обучаем модель на первой порции данных\n",
    "algo = KNNBaseline(k=3, verbose=False)\n",
    "trainset_small = trainset\n",
    "algo.fit(trainset_small)"
   ]
  },
  {
   "cell_type": "code",
   "execution_count": 13,
   "metadata": {},
   "outputs": [
    {
     "name": "stdout",
     "output_type": "stream",
     "text": [
      "Batch 0, RMSE = 0.5525836607316507\n",
      "Batch 10, RMSE = 0.5251501426271539\n",
      "Batch 20, RMSE = 0.5099254923919941\n",
      "Batch 30, RMSE = 0.5035759786596014\n",
      "Batch 40, RMSE = 0.5020458875508748\n",
      "Batch 50, RMSE = 0.5140198987768515\n",
      "Batch 60, RMSE = 0.5036916794135271\n",
      "Batch 70, RMSE = 0.530570302486268\n",
      "Batch 80, RMSE = 0.49982636601730035\n",
      "Batch 90, RMSE = 0.526015417018195\n",
      "Batch 100, RMSE = 0.49957914104869633\n"
     ]
    },
    {
     "ename": "MemoryError",
     "evalue": "Unable to allocate 11.5 GiB for an array with shape (39338, 39338) and data type float64",
     "output_type": "error",
     "traceback": [
      "\u001b[1;31m---------------------------------------------------------------------------\u001b[0m",
      "\u001b[1;31mMemoryError\u001b[0m                               Traceback (most recent call last)",
      "Cell \u001b[1;32mIn[13], line 6\u001b[0m\n\u001b[0;32m      4\u001b[0m new_data \u001b[39m=\u001b[39m Dataset\u001b[39m.\u001b[39mload_from_df(batch[[\u001b[39m'\u001b[39m\u001b[39mcookie_id\u001b[39m\u001b[39m'\u001b[39m, \u001b[39m'\u001b[39m\u001b[39mvacancy_id_\u001b[39m\u001b[39m'\u001b[39m, \u001b[39m'\u001b[39m\u001b[39mRating\u001b[39m\u001b[39m'\u001b[39m]], reader)\n\u001b[0;32m      5\u001b[0m trainset_new \u001b[39m=\u001b[39m new_data\u001b[39m.\u001b[39mbuild_full_trainset()\n\u001b[1;32m----> 6\u001b[0m algo\u001b[39m.\u001b[39;49mfit(trainset_new)\n\u001b[0;32m      8\u001b[0m \u001b[39m# Оцениваем качество модели на тестовой выборке\u001b[39;00m\n\u001b[0;32m      9\u001b[0m \u001b[39mif\u001b[39;00m i \u001b[39m%\u001b[39m \u001b[39m10\u001b[39m \u001b[39m==\u001b[39m \u001b[39m0\u001b[39m:\n",
      "File \u001b[1;32mc:\\Users\\pavel\\AppData\\Local\\Programs\\Python\\Python310\\lib\\site-packages\\surprise\\prediction_algorithms\\knns.py:284\u001b[0m, in \u001b[0;36mKNNBaseline.fit\u001b[1;34m(self, trainset)\u001b[0m\n\u001b[0;32m    282\u001b[0m \u001b[39mself\u001b[39m\u001b[39m.\u001b[39mbu, \u001b[39mself\u001b[39m\u001b[39m.\u001b[39mbi \u001b[39m=\u001b[39m \u001b[39mself\u001b[39m\u001b[39m.\u001b[39mcompute_baselines()\n\u001b[0;32m    283\u001b[0m \u001b[39mself\u001b[39m\u001b[39m.\u001b[39mbx, \u001b[39mself\u001b[39m\u001b[39m.\u001b[39mby \u001b[39m=\u001b[39m \u001b[39mself\u001b[39m\u001b[39m.\u001b[39mswitch(\u001b[39mself\u001b[39m\u001b[39m.\u001b[39mbu, \u001b[39mself\u001b[39m\u001b[39m.\u001b[39mbi)\n\u001b[1;32m--> 284\u001b[0m \u001b[39mself\u001b[39m\u001b[39m.\u001b[39msim \u001b[39m=\u001b[39m \u001b[39mself\u001b[39;49m\u001b[39m.\u001b[39;49mcompute_similarities()\n\u001b[0;32m    286\u001b[0m \u001b[39mreturn\u001b[39;00m \u001b[39mself\u001b[39m\n",
      "File \u001b[1;32mc:\\Users\\pavel\\AppData\\Local\\Programs\\Python\\Python310\\lib\\site-packages\\surprise\\prediction_algorithms\\algo_base.py:248\u001b[0m, in \u001b[0;36mAlgoBase.compute_similarities\u001b[1;34m(self)\u001b[0m\n\u001b[0;32m    246\u001b[0m \u001b[39mif\u001b[39;00m \u001b[39mgetattr\u001b[39m(\u001b[39mself\u001b[39m, \u001b[39m\"\u001b[39m\u001b[39mverbose\u001b[39m\u001b[39m\"\u001b[39m, \u001b[39mFalse\u001b[39;00m):\n\u001b[0;32m    247\u001b[0m     \u001b[39mprint\u001b[39m(\u001b[39mf\u001b[39m\u001b[39m\"\u001b[39m\u001b[39mComputing the \u001b[39m\u001b[39m{\u001b[39;00mname\u001b[39m}\u001b[39;00m\u001b[39m similarity matrix...\u001b[39m\u001b[39m\"\u001b[39m)\n\u001b[1;32m--> 248\u001b[0m sim \u001b[39m=\u001b[39m construction_func[name](\u001b[39m*\u001b[39;49margs)\n\u001b[0;32m    249\u001b[0m \u001b[39mif\u001b[39;00m \u001b[39mgetattr\u001b[39m(\u001b[39mself\u001b[39m, \u001b[39m\"\u001b[39m\u001b[39mverbose\u001b[39m\u001b[39m\"\u001b[39m, \u001b[39mFalse\u001b[39;00m):\n\u001b[0;32m    250\u001b[0m     \u001b[39mprint\u001b[39m(\u001b[39m\"\u001b[39m\u001b[39mDone computing similarity matrix.\u001b[39m\u001b[39m\"\u001b[39m)\n",
      "File \u001b[1;32mc:\\Users\\pavel\\AppData\\Local\\Programs\\Python\\Python310\\lib\\site-packages\\surprise\\similarities.pyx:129\u001b[0m, in \u001b[0;36msurprise.similarities.msd\u001b[1;34m()\u001b[0m\n",
      "\u001b[1;31mMemoryError\u001b[0m: Unable to allocate 11.5 GiB for an array with shape (39338, 39338) and data type float64"
     ]
    }
   ],
   "source": [
    "\n",
    "# Добавляем новые данные и дообучаем модель\n",
    "batch_size = 100000\n",
    "for i, batch in enumerate(pd.read_csv('dop_data.csv', chunksize=batch_size)):\n",
    "    new_data = Dataset.load_from_df(batch[['cookie_id', 'vacancy_id_', 'Rating']], reader)\n",
    "    trainset_new = new_data.build_full_trainset()\n",
    "    algo.fit(trainset_new, sim_options=sim_options)\n",
    "\n",
    "    # Оцениваем качество модели на тестовой выборке\n",
    "    if i % 10 == 0:\n",
    "        predictions = algo.test(testset)\n",
    "        rmse = accuracy.rmse(predictions, verbose=False)\n",
    "        mae = accuracy.mae(predictions, verbose=False)\n",
    "        print(f'Batch {i}, RMSE = {rmse}')\n",
    "        print(f'Batch {i}, MAE = {mae}')"
   ]
  },
  {
   "attachments": {},
   "cell_type": "markdown",
   "metadata": {},
   "source": [
    "### Функции предсказания\n",
    "---"
   ]
  },
  {
   "cell_type": "code",
   "execution_count": 14,
   "metadata": {},
   "outputs": [],
   "source": [
    "from collections import defaultdict"
   ]
  },
  {
   "cell_type": "code",
   "execution_count": 15,
   "metadata": {},
   "outputs": [],
   "source": [
    "def get_top_n(predictions, n=5):\n",
    "    \"\"\"\n",
    "    Возвращает топ-n рекомендаций для каждого пользователя\n",
    "    \"\"\"\n",
    "    \n",
    "    top_n = defaultdict(list)\n",
    "    for uid, iid, true_r, est, _ in predictions:\n",
    "        top_n[uid].append((iid, est))\n",
    "\n",
    "    for uid, user_ratings in top_n.items():\n",
    "        user_ratings.sort(key=lambda x: x[1], reverse=True)\n",
    "        top_n[uid] = [iid for (iid, _) in user_ratings[:n]]\n",
    "\n",
    "    return top_n"
   ]
  },
  {
   "cell_type": "code",
   "execution_count": null,
   "metadata": {},
   "outputs": [],
   "source": [
    "# делаем предсказания на тестовом наборе\n",
    "predictions = algo.test(testset)\n",
    "\n",
    "# выводим метрики качества\n",
    "accuracy.rmse(predictions)\n",
    "accuracy.mae(predictions)"
   ]
  },
  {
   "cell_type": "code",
   "execution_count": 85,
   "metadata": {},
   "outputs": [],
   "source": [
    "# Получаем топ-5 рекомендаций для каждого пользователя\n",
    "top_n = get_top_n(predictions)"
   ]
  },
  {
   "cell_type": "code",
   "execution_count": 89,
   "metadata": {},
   "outputs": [
    {
     "name": "stdout",
     "output_type": "stream",
     "text": [
      "[251823, 144605, 250327, 155190, 155190]\n"
     ]
    }
   ],
   "source": [
    "\n",
    "# Получаем топ-5 рекомендаций для заданного пользователя\n",
    "user_id = 40752\n",
    "recommended_items = top_n[user_id][:5]\n",
    "\n",
    "print(recommended_items)"
   ]
  },
  {
   "cell_type": "code",
   "execution_count": null,
   "metadata": {},
   "outputs": [],
   "source": [
    "def precision_recall_at_k(predictions, k=10, threshold = 4):\n",
    "    \"\"\"Return precision and recall at k metrics for each user\"\"\"\n",
    "\n",
    "    # First map the predictions to each user.\n",
    "    user_est_true = defaultdict(list)\n",
    "    for uid, _, true_r, est, _ in predictions:\n",
    "        user_est_true[uid].append((est, true_r))\n",
    "\n",
    "    precisions = dict()\n",
    "    recalls = dict()\n",
    "    for uid, user_ratings in user_est_true.items():\n",
    "\n",
    "        # Sort user ratings by estimated value\n",
    "        user_ratings.sort(key=lambda x: x[0], reverse=True)\n",
    "\n",
    "        # Number of relevant items\n",
    "        n_rel = sum((true_r >= threshold) for (_, true_r) in user_ratings)\n",
    "\n",
    "        # Number of recommended items in top k\n",
    "        n_rec_k = sum((est >= threshold) for (est, _) in user_ratings[:k])\n",
    "\n",
    "        # Number of relevant and recommended items in top k\n",
    "        n_rel_and_rec_k = sum(\n",
    "            ((true_r >= threshold) and (est >= threshold))\n",
    "            for (est, true_r) in user_ratings[:k]\n",
    "        )\n",
    "\n",
    "        # Precision@K: Proportion of recommended items that are relevant\n",
    "        # When n_rec_k is 0, Precision is undefined. We here set it to 0.\n",
    "\n",
    "        precisions[uid] = n_rel_and_rec_k / n_rec_k if n_rec_k != 0 else 0\n",
    "\n",
    "        # Recall@K: Proportion of relevant items that are recommended\n",
    "        # When n_rel is 0, Recall is undefined. We here set it to 0.\n",
    "\n",
    "        recalls[uid] = n_rel_and_rec_k / n_rel if n_rel != 0 else 0\n",
    "\n",
    "    return precisions, recalls"
   ]
  },
  {
   "cell_type": "code",
   "execution_count": null,
   "metadata": {},
   "outputs": [],
   "source": [
    "precisions, recalls = precision_recall_at_k(predictions, k=5, threshold=4)\n",
    "\n",
    "# Precision and recall can then be averaged over all users\n",
    "print(sum(prec for prec in precisions.values()) / len(precisions))\n",
    "print(sum(rec for rec in recalls.values()) / len(recalls))"
   ]
  }
 ],
 "metadata": {
  "kernelspec": {
   "display_name": "Python 3",
   "language": "python",
   "name": "python3"
  },
  "language_info": {
   "codemirror_mode": {
    "name": "ipython",
    "version": 3
   },
   "file_extension": ".py",
   "mimetype": "text/x-python",
   "name": "python",
   "nbconvert_exporter": "python",
   "pygments_lexer": "ipython3",
   "version": "3.10.7"
  },
  "orig_nbformat": 4,
  "vscode": {
   "interpreter": {
    "hash": "adc619b01503523b8240db011ba6e5d9101136cf083453867df1fdfca18879a8"
   }
  }
 },
 "nbformat": 4,
 "nbformat_minor": 2
}
