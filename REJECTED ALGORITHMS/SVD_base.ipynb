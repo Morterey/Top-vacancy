{
  "cells": [
    {
      "cell_type": "markdown",
      "metadata": {
        "id": "wGiDKJhv9UW_"
      },
      "source": [
        "# Загружаем библиотеки и датафрейм\n",
        "---"
      ]
    },
    {
      "cell_type": "code",
      "execution_count": 2,
      "metadata": {
        "colab": {
          "base_uri": "https://localhost:8080/"
        },
        "id": "1AEA7gN69IJU",
        "outputId": "bb4b4d88-270a-41df-8164-8edbe44b8fc2"
      },
      "outputs": [
        {
          "name": "stdout",
          "output_type": "stream",
          "text": [
            "Looking in indexes: https://pypi.org/simple, https://us-python.pkg.dev/colab-wheels/public/simple/\n",
            "Collecting scikit-surprise\n",
            "  Downloading scikit-surprise-1.1.3.tar.gz (771 kB)\n",
            "\u001b[2K     \u001b[90m━━━━━━━━━━━━━━━━━━━━━━━━━━━━━━━━━━━━━━\u001b[0m \u001b[32m772.0/772.0 KB\u001b[0m \u001b[31m12.8 MB/s\u001b[0m eta \u001b[36m0:00:00\u001b[0m\n",
            "\u001b[?25h  Preparing metadata (setup.py) ... \u001b[?25l\u001b[?25hdone\n",
            "Requirement already satisfied: joblib>=1.0.0 in /usr/local/lib/python3.9/dist-packages (from scikit-surprise) (1.1.1)\n",
            "Requirement already satisfied: numpy>=1.17.3 in /usr/local/lib/python3.9/dist-packages (from scikit-surprise) (1.22.4)\n",
            "Requirement already satisfied: scipy>=1.3.2 in /usr/local/lib/python3.9/dist-packages (from scikit-surprise) (1.10.1)\n",
            "Building wheels for collected packages: scikit-surprise\n",
            "  Building wheel for scikit-surprise (setup.py) ... \u001b[?25l\u001b[?25hdone\n",
            "  Created wheel for scikit-surprise: filename=scikit_surprise-1.1.3-cp39-cp39-linux_x86_64.whl size=3195811 sha256=024346cabcc217b5538df5f3c233bf4f523a976a08eda3d28f655bc52145def4\n",
            "  Stored in directory: /root/.cache/pip/wheels/c6/3a/46/9b17b3512bdf283c6cb84f59929cdd5199d4e754d596d22784\n",
            "Successfully built scikit-surprise\n",
            "Installing collected packages: scikit-surprise\n",
            "Successfully installed scikit-surprise-1.1.3\n"
          ]
        }
      ],
      "source": [
        "%pip install scikit-surprise"
      ]
    },
    {
      "cell_type": "code",
      "execution_count": 1,
      "metadata": {
        "id": "AVwBrsBv9UXE"
      },
      "outputs": [],
      "source": [
        "import pandas as pd\n",
        " \n",
        "import ast\n",
        " \n",
        "from sklearn.metrics.pairwise import cosine_similarity\n",
        " \n",
        "import numpy as np\n",
        " \n",
        "import matplotlib.pyplot as plt\n",
        " \n",
        "from sklearn.neighbors import NearestNeighbors\n",
        " \n",
        "from scipy.sparse import csr_matrix\n",
        " \n",
        "from surprise import Reader, Dataset\n",
        " \n",
        "from surprise.model_selection import train_test_split\n",
        " \n",
        "from surprise import SVDpp, accuracy\n",
        " \n",
        "from surprise.model_selection import cross_validate\n",
        " \n",
        "from collections import defaultdict\n",
        " \n",
        "from surprise import SVD, SVDpp, NMF\n",
        " \n",
        "from surprise import SlopeOne, CoClustering\n",
        " \n"
      ]
    },
    {
      "cell_type": "code",
      "execution_count": 2,
      "metadata": {
        "id": "5upde0DX9UXG"
      },
      "outputs": [],
      "source": [
        "import seaborn as sns"
      ]
    },
    {
      "cell_type": "code",
      "execution_count": 3,
      "metadata": {
        "colab": {
          "base_uri": "https://localhost:8080/",
          "height": 328
        },
        "id": "CXQ3R0K-9UXG",
        "outputId": "abf2ea2d-7add-4415-82ac-db90cf8784c9"
      },
      "outputs": [],
      "source": [
        "data = pd.read_parquet('train_mfti.parquet', engine='pyarrow')"
      ]
    },
    {
      "cell_type": "code",
      "execution_count": 4,
      "metadata": {
        "id": "x41q0nWs9UXH"
      },
      "outputs": [],
      "source": [
        "work_data = data.copy()"
      ]
    },
    {
      "cell_type": "code",
      "execution_count": 5,
      "metadata": {
        "id": "X0emj0Wa9UXH",
        "outputId": "b97e8a83-59c5-4885-f656-cc1fdcb6684f"
      },
      "outputs": [
        {
          "data": {
            "text/html": [
              "<div>\n",
              "<style scoped>\n",
              "    .dataframe tbody tr th:only-of-type {\n",
              "        vertical-align: middle;\n",
              "    }\n",
              "\n",
              "    .dataframe tbody tr th {\n",
              "        vertical-align: top;\n",
              "    }\n",
              "\n",
              "    .dataframe thead th {\n",
              "        text-align: right;\n",
              "    }\n",
              "</style>\n",
              "<table border=\"1\" class=\"dataframe\">\n",
              "  <thead>\n",
              "    <tr style=\"text-align: right;\">\n",
              "      <th></th>\n",
              "      <th>event_date</th>\n",
              "      <th>event_timestamp</th>\n",
              "      <th>vacancy_id_</th>\n",
              "      <th>cookie_id</th>\n",
              "      <th>user_id</th>\n",
              "      <th>event_type</th>\n",
              "    </tr>\n",
              "  </thead>\n",
              "  <tbody>\n",
              "    <tr>\n",
              "      <th>0</th>\n",
              "      <td>2022-08-01</td>\n",
              "      <td>1659323026</td>\n",
              "      <td>129850</td>\n",
              "      <td>97990f1a021d4be19aa3f955b7eacab4</td>\n",
              "      <td>951f53de61764ea0b51317200a0dbbfc</td>\n",
              "      <td>show_vacancy</td>\n",
              "    </tr>\n",
              "    <tr>\n",
              "      <th>1</th>\n",
              "      <td>2022-08-01</td>\n",
              "      <td>1659377255</td>\n",
              "      <td>108347</td>\n",
              "      <td>03bf8c511fa949c79845a5d81b09aa1d</td>\n",
              "      <td>f5a2326a17484330aa8cb4019f1b1960</td>\n",
              "      <td>show_vacancy</td>\n",
              "    </tr>\n",
              "    <tr>\n",
              "      <th>2</th>\n",
              "      <td>2022-08-01</td>\n",
              "      <td>1659376695</td>\n",
              "      <td>109069</td>\n",
              "      <td>03bf8c511fa949c79845a5d81b09aa1d</td>\n",
              "      <td>f5a2326a17484330aa8cb4019f1b1960</td>\n",
              "      <td>show_vacancy</td>\n",
              "    </tr>\n",
              "    <tr>\n",
              "      <th>3</th>\n",
              "      <td>2022-08-01</td>\n",
              "      <td>1659376722</td>\n",
              "      <td>171425</td>\n",
              "      <td>03bf8c511fa949c79845a5d81b09aa1d</td>\n",
              "      <td>f5a2326a17484330aa8cb4019f1b1960</td>\n",
              "      <td>show_vacancy</td>\n",
              "    </tr>\n",
              "    <tr>\n",
              "      <th>4</th>\n",
              "      <td>2022-08-01</td>\n",
              "      <td>1659374929</td>\n",
              "      <td>252384</td>\n",
              "      <td>03bf8c511fa949c79845a5d81b09aa1d</td>\n",
              "      <td>f5a2326a17484330aa8cb4019f1b1960</td>\n",
              "      <td>show_vacancy</td>\n",
              "    </tr>\n",
              "  </tbody>\n",
              "</table>\n",
              "</div>"
            ],
            "text/plain": [
              "   event_date  event_timestamp  vacancy_id_                         cookie_id  \\\n",
              "0  2022-08-01       1659323026       129850  97990f1a021d4be19aa3f955b7eacab4   \n",
              "1  2022-08-01       1659377255       108347  03bf8c511fa949c79845a5d81b09aa1d   \n",
              "2  2022-08-01       1659376695       109069  03bf8c511fa949c79845a5d81b09aa1d   \n",
              "3  2022-08-01       1659376722       171425  03bf8c511fa949c79845a5d81b09aa1d   \n",
              "4  2022-08-01       1659374929       252384  03bf8c511fa949c79845a5d81b09aa1d   \n",
              "\n",
              "                            user_id    event_type  \n",
              "0  951f53de61764ea0b51317200a0dbbfc  show_vacancy  \n",
              "1  f5a2326a17484330aa8cb4019f1b1960  show_vacancy  \n",
              "2  f5a2326a17484330aa8cb4019f1b1960  show_vacancy  \n",
              "3  f5a2326a17484330aa8cb4019f1b1960  show_vacancy  \n",
              "4  f5a2326a17484330aa8cb4019f1b1960  show_vacancy  "
            ]
          },
          "execution_count": 5,
          "metadata": {},
          "output_type": "execute_result"
        }
      ],
      "source": [
        "work_data.head()"
      ]
    },
    {
      "cell_type": "code",
      "execution_count": 6,
      "metadata": {
        "id": "dwW6ltkp9UXI"
      },
      "outputs": [],
      "source": [
        "work_data['rating'] = work_data['event_type'].map({'show_vacancy': 0,\n",
        "                                     'preview_click_vacancy': 0,\n",
        "                                     'click_favorite': 0,\n",
        "                                     'preview_click_favorite': 0,\n",
        "                                     'click_response': 1,\n",
        "                                     'preview_click_response': 1,\n",
        "                                     'click_contacts': 1,\n",
        "                                     'preview_click_contacts': 1,\n",
        "                                     'click_phone': 1,\n",
        "                                     'preview_click_phone': 1})"
      ]
    },
    {
      "cell_type": "code",
      "execution_count": 7,
      "metadata": {
        "id": "NXWKP6AC9UXJ"
      },
      "outputs": [],
      "source": [
        "df_ratings = work_data[['cookie_id', 'vacancy_id_', 'user_id', 'rating']]"
      ]
    },
    {
      "cell_type": "code",
      "execution_count": 8,
      "metadata": {
        "id": "co-td-OC9UXK",
        "outputId": "6474cee1-dc2b-468b-ff5d-eb314471e97c"
      },
      "outputs": [
        {
          "name": "stdout",
          "output_type": "stream",
          "text": [
            "<class 'pandas.core.frame.DataFrame'>\n",
            "RangeIndex: 12292588 entries, 0 to 12292587\n",
            "Data columns (total 4 columns):\n",
            " #   Column       Dtype \n",
            "---  ------       ----- \n",
            " 0   cookie_id    object\n",
            " 1   vacancy_id_  int64 \n",
            " 2   user_id      object\n",
            " 3   rating       int64 \n",
            "dtypes: int64(2), object(2)\n",
            "memory usage: 375.1+ MB\n"
          ]
        }
      ],
      "source": [
        "df_ratings.info()"
      ]
    },
    {
      "cell_type": "code",
      "execution_count": 9,
      "metadata": {
        "id": "R_driCGM9UXK"
      },
      "outputs": [],
      "source": [
        "df_ratings = df_ratings.groupby(['cookie_id','vacancy_id_'])['rating'].max().reset_index()"
      ]
    },
    {
      "cell_type": "code",
      "execution_count": 10,
      "metadata": {
        "id": "8c0gftTT9UXL",
        "outputId": "eca56b00-59a3-4758-fcd0-05d4e89197c5"
      },
      "outputs": [
        {
          "data": {
            "text/html": [
              "<div>\n",
              "<style scoped>\n",
              "    .dataframe tbody tr th:only-of-type {\n",
              "        vertical-align: middle;\n",
              "    }\n",
              "\n",
              "    .dataframe tbody tr th {\n",
              "        vertical-align: top;\n",
              "    }\n",
              "\n",
              "    .dataframe thead th {\n",
              "        text-align: right;\n",
              "    }\n",
              "</style>\n",
              "<table border=\"1\" class=\"dataframe\">\n",
              "  <thead>\n",
              "    <tr style=\"text-align: right;\">\n",
              "      <th></th>\n",
              "      <th>cookie_id</th>\n",
              "      <th>vacancy_id_</th>\n",
              "      <th>rating</th>\n",
              "    </tr>\n",
              "  </thead>\n",
              "  <tbody>\n",
              "    <tr>\n",
              "      <th>0</th>\n",
              "      <td>0000c4548c3944c08972bbdc1fa4eb85</td>\n",
              "      <td>137659</td>\n",
              "      <td>0</td>\n",
              "    </tr>\n",
              "    <tr>\n",
              "      <th>1</th>\n",
              "      <td>0000c4548c3944c08972bbdc1fa4eb85</td>\n",
              "      <td>153975</td>\n",
              "      <td>0</td>\n",
              "    </tr>\n",
              "    <tr>\n",
              "      <th>2</th>\n",
              "      <td>0000c4548c3944c08972bbdc1fa4eb85</td>\n",
              "      <td>174953</td>\n",
              "      <td>0</td>\n",
              "    </tr>\n",
              "    <tr>\n",
              "      <th>3</th>\n",
              "      <td>0000c4548c3944c08972bbdc1fa4eb85</td>\n",
              "      <td>176171</td>\n",
              "      <td>0</td>\n",
              "    </tr>\n",
              "    <tr>\n",
              "      <th>4</th>\n",
              "      <td>0000c4548c3944c08972bbdc1fa4eb85</td>\n",
              "      <td>182445</td>\n",
              "      <td>0</td>\n",
              "    </tr>\n",
              "  </tbody>\n",
              "</table>\n",
              "</div>"
            ],
            "text/plain": [
              "                          cookie_id  vacancy_id_  rating\n",
              "0  0000c4548c3944c08972bbdc1fa4eb85       137659       0\n",
              "1  0000c4548c3944c08972bbdc1fa4eb85       153975       0\n",
              "2  0000c4548c3944c08972bbdc1fa4eb85       174953       0\n",
              "3  0000c4548c3944c08972bbdc1fa4eb85       176171       0\n",
              "4  0000c4548c3944c08972bbdc1fa4eb85       182445       0"
            ]
          },
          "execution_count": 10,
          "metadata": {},
          "output_type": "execute_result"
        }
      ],
      "source": [
        "df_ratings.head()"
      ]
    },
    {
      "cell_type": "code",
      "execution_count": 11,
      "metadata": {},
      "outputs": [
        {
          "name": "stdout",
          "output_type": "stream",
          "text": [
            "<class 'pandas.core.frame.DataFrame'>\n",
            "RangeIndex: 4678585 entries, 0 to 4678584\n",
            "Data columns (total 3 columns):\n",
            " #   Column       Dtype \n",
            "---  ------       ----- \n",
            " 0   cookie_id    object\n",
            " 1   vacancy_id_  int64 \n",
            " 2   rating       int64 \n",
            "dtypes: int64(2), object(1)\n",
            "memory usage: 107.1+ MB\n"
          ]
        }
      ],
      "source": [
        "df_ratings.info()"
      ]
    },
    {
      "cell_type": "code",
      "execution_count": 12,
      "metadata": {
        "id": "Gv5v-L-M9UXM"
      },
      "outputs": [],
      "source": [
        "df_ratings.to_parquet('user_based')"
      ]
    },
    {
      "cell_type": "code",
      "execution_count": 2,
      "metadata": {
        "id": "1yM33UUg9UXN"
      },
      "outputs": [],
      "source": [
        "df_ratings = pd.read_parquet('user_based')"
      ]
    },
    {
      "cell_type": "code",
      "execution_count": 3,
      "metadata": {
        "id": "gVjVjdVP9UXO",
        "outputId": "85286787-9ca4-4427-bd59-8f72b68b00c4"
      },
      "outputs": [
        {
          "name": "stdout",
          "output_type": "stream",
          "text": [
            "<class 'pandas.core.frame.DataFrame'>\n",
            "RangeIndex: 4678585 entries, 0 to 4678584\n",
            "Data columns (total 3 columns):\n",
            " #   Column       Dtype \n",
            "---  ------       ----- \n",
            " 0   cookie_id    object\n",
            " 1   vacancy_id_  int64 \n",
            " 2   rating       int64 \n",
            "dtypes: int64(2), object(1)\n",
            "memory usage: 107.1+ MB\n"
          ]
        }
      ],
      "source": [
        "df_ratings.info()"
      ]
    },
    {
      "cell_type": "markdown",
      "metadata": {
        "id": "Ql-kFQuQ9UXQ"
      },
      "source": [
        "Начинаем преобразовывать характеристики"
      ]
    },
    {
      "cell_type": "code",
      "execution_count": 15,
      "metadata": {
        "id": "bQd6tqkG9UXQ",
        "outputId": "94f108c9-2b52-4924-9306-0c23bf13cd69"
      },
      "outputs": [
        {
          "data": {
            "text/plain": [
              "Text(0.5, 1.0, 'Распределение откликов по вакансиям')"
            ]
          },
          "execution_count": 15,
          "metadata": {},
          "output_type": "execute_result"
        },
        {
          "data": {
            "image/png": "[encoded data removed]",
            "text/plain": [
              "<Figure size 1200x800 with 1 Axes>"
            ]
          },
          "metadata": {},
          "output_type": "display_data"
        }
      ],
      "source": [
        "ratings_count = df_ratings['rating'].value_counts().sort_index(ascending=True)\n",
        " \n",
        "plt.figure(figsize=(12,8))\n",
        " \n",
        "ax = ratings_count.plot.bar()\n",
        " \n",
        "ax.set_xlabel(\"Отклики\")\n",
        " \n",
        "ax.set_ylabel(\"Количество откликов\")\n",
        " \n",
        "ax.set_title(\"Распределение откликов по вакансиям\")"
      ]
    },
    {
      "cell_type": "code",
      "execution_count": 4,
      "metadata": {
        "id": "EzmmSsKL9UXR"
      },
      "outputs": [],
      "source": [
        "df = df_ratings[['vacancy_id_','cookie_id']].groupby(['vacancy_id_']).agg(['count']).sort_values(('cookie_id','count'),ascending=False)"
      ]
    },
    {
      "cell_type": "code",
      "execution_count": 5,
      "metadata": {
        "id": "pMyIqQYI9UXS",
        "outputId": "db31a71c-7831-4f10-e7d7-fa67fcd1f639"
      },
      "outputs": [
        {
          "data": {
            "text/html": [
              "<div>\n",
              "<style scoped>\n",
              "    .dataframe tbody tr th:only-of-type {\n",
              "        vertical-align: middle;\n",
              "    }\n",
              "\n",
              "    .dataframe tbody tr th {\n",
              "        vertical-align: top;\n",
              "    }\n",
              "\n",
              "    .dataframe thead tr th {\n",
              "        text-align: left;\n",
              "    }\n",
              "\n",
              "    .dataframe thead tr:last-of-type th {\n",
              "        text-align: right;\n",
              "    }\n",
              "</style>\n",
              "<table border=\"1\" class=\"dataframe\">\n",
              "  <thead>\n",
              "    <tr>\n",
              "      <th></th>\n",
              "      <th>cookie_id</th>\n",
              "    </tr>\n",
              "    <tr>\n",
              "      <th></th>\n",
              "      <th>count</th>\n",
              "    </tr>\n",
              "    <tr>\n",
              "      <th>vacancy_id_</th>\n",
              "      <th></th>\n",
              "    </tr>\n",
              "  </thead>\n",
              "  <tbody>\n",
              "    <tr>\n",
              "      <th>260154</th>\n",
              "      <td>18662</td>\n",
              "    </tr>\n",
              "    <tr>\n",
              "      <th>198114</th>\n",
              "      <td>16674</td>\n",
              "    </tr>\n",
              "    <tr>\n",
              "      <th>203404</th>\n",
              "      <td>16284</td>\n",
              "    </tr>\n",
              "    <tr>\n",
              "      <th>111505</th>\n",
              "      <td>15088</td>\n",
              "    </tr>\n",
              "    <tr>\n",
              "      <th>202608</th>\n",
              "      <td>14524</td>\n",
              "    </tr>\n",
              "  </tbody>\n",
              "</table>\n",
              "</div>"
            ],
            "text/plain": [
              "            cookie_id\n",
              "                count\n",
              "vacancy_id_          \n",
              "260154          18662\n",
              "198114          16674\n",
              "203404          16284\n",
              "111505          15088\n",
              "202608          14524"
            ]
          },
          "execution_count": 5,
          "metadata": {},
          "output_type": "execute_result"
        }
      ],
      "source": [
        "df.head()"
      ]
    },
    {
      "cell_type": "code",
      "execution_count": 19,
      "metadata": {
        "id": "e0Qq9nwx9UXT",
        "outputId": "8b140d2c-e5b6-4c3e-dd3d-6815d7ea8eb3"
      },
      "outputs": [
        {
          "data": {
            "text/plain": [
              "Text(0, 0.5, 'Количество кликов')"
            ]
          },
          "execution_count": 19,
          "metadata": {},
          "output_type": "execute_result"
        },
        {
          "data": {
            "image/png": "[encoded data removed]",
            "text/plain": [
              "<Figure size 1500x800 with 1 Axes>"
            ]
          },
          "metadata": {},
          "output_type": "display_data"
        }
      ],
      "source": [
        " \n",
        "plt.figure(figsize=(15,8))\n",
        " \n",
        "sns.set_style(\"darkgrid\")\n",
        " \n",
        "sns.lineplot(data=df[('cookie_id', 'count')].values)\n",
        " \n",
        "plt.title(\"Рейтинг частоты кликов\")\n",
        " \n",
        "plt.xlabel(\"Вакансии\")\n",
        " \n",
        "plt.ylabel(\"Количество кликов\")"
      ]
    },
    {
      "cell_type": "markdown",
      "metadata": {
        "id": "DQY3HBYN9UXU"
      },
      "source": [
        "Получается что очень большое количество вакансий просто просмотрены один раз"
      ]
    },
    {
      "cell_type": "code",
      "execution_count": 20,
      "metadata": {
        "id": "j0Sl8RfG9UXV",
        "outputId": "83697680-2e98-49f9-b7dc-e432b2f17876"
      },
      "outputs": [
        {
          "data": {
            "text/html": [
              "<div>\n",
              "<style scoped>\n",
              "    .dataframe tbody tr th:only-of-type {\n",
              "        vertical-align: middle;\n",
              "    }\n",
              "\n",
              "    .dataframe tbody tr th {\n",
              "        vertical-align: top;\n",
              "    }\n",
              "\n",
              "    .dataframe thead tr th {\n",
              "        text-align: left;\n",
              "    }\n",
              "</style>\n",
              "<table border=\"1\" class=\"dataframe\">\n",
              "  <thead>\n",
              "    <tr>\n",
              "      <th></th>\n",
              "      <th>cookie_id</th>\n",
              "    </tr>\n",
              "    <tr>\n",
              "      <th></th>\n",
              "      <th>count</th>\n",
              "    </tr>\n",
              "  </thead>\n",
              "  <tbody>\n",
              "    <tr>\n",
              "      <th>count</th>\n",
              "      <td>160167.000000</td>\n",
              "    </tr>\n",
              "    <tr>\n",
              "      <th>mean</th>\n",
              "      <td>29.210668</td>\n",
              "    </tr>\n",
              "    <tr>\n",
              "      <th>std</th>\n",
              "      <td>175.746648</td>\n",
              "    </tr>\n",
              "    <tr>\n",
              "      <th>min</th>\n",
              "      <td>1.000000</td>\n",
              "    </tr>\n",
              "    <tr>\n",
              "      <th>25%</th>\n",
              "      <td>4.000000</td>\n",
              "    </tr>\n",
              "    <tr>\n",
              "      <th>50%</th>\n",
              "      <td>10.000000</td>\n",
              "    </tr>\n",
              "    <tr>\n",
              "      <th>75%</th>\n",
              "      <td>23.000000</td>\n",
              "    </tr>\n",
              "    <tr>\n",
              "      <th>max</th>\n",
              "      <td>18662.000000</td>\n",
              "    </tr>\n",
              "  </tbody>\n",
              "</table>\n",
              "</div>"
            ],
            "text/plain": [
              "           cookie_id\n",
              "               count\n",
              "count  160167.000000\n",
              "mean       29.210668\n",
              "std       175.746648\n",
              "min         1.000000\n",
              "25%         4.000000\n",
              "50%        10.000000\n",
              "75%        23.000000\n",
              "max     18662.000000"
            ]
          },
          "execution_count": 20,
          "metadata": {},
          "output_type": "execute_result"
        }
      ],
      "source": [
        "df.describe()"
      ]
    },
    {
      "cell_type": "markdown",
      "metadata": {
        "id": "yNeM88jF9UXW"
      },
      "source": [
        "Выделим топовые вакансии\n",
        "\n",
        "---"
      ]
    },
    {
      "cell_type": "code",
      "execution_count": 6,
      "metadata": {
        "id": "e3iPh9EB9UXW",
        "outputId": "0a45b88e-2d61-4934-bb1d-45bba70f8f5b"
      },
      "outputs": [
        {
          "name": "stdout",
          "output_type": "stream",
          "text": [
            "Количество вакансий у которых более  20 взаимодействий: 46418\n",
            "Количество вакансий у которых более  40 взаимодействий: 22852\n",
            "Количество вакансий у которых более  60 взаимодействий: 13939\n",
            "Количество вакансий у которых более  80 взаимодействий: 9378\n",
            "Количество вакансий у которых более  100 взаимодействий: 6845\n",
            "Количество вакансий у которых более  120 взаимодействий: 5317\n",
            "Количество вакансий у которых более  140 взаимодействий: 4241\n",
            "Количество вакансий у которых более  160 взаимодействий: 3494\n",
            "Количество вакансий у которых более  180 взаимодействий: 2948\n",
            "Количество вакансий у которых более  200 взаимодействий: 2536\n",
            "Количество вакансий у которых более  220 взаимодействий: 2210\n",
            "Количество вакансий у которых более  240 взаимодействий: 1947\n",
            "Количество вакансий у которых более  260 взаимодействий: 1746\n",
            "Количество вакансий у которых более  280 взаимодействий: 1572\n",
            "Количество вакансий у которых более  300 взаимодействий: 1445\n",
            "Количество вакансий у которых более  320 взаимодействий: 1331\n",
            "Количество вакансий у которых более  340 взаимодействий: 1219\n",
            "Количество вакансий у которых более  360 взаимодействий: 1125\n",
            "Количество вакансий у которых более  380 взаимодействий: 1071\n",
            "Количество вакансий у которых более  400 взаимодействий: 983\n",
            "Количество вакансий у которых более  420 взаимодействий: 925\n",
            "Количество вакансий у которых более  440 взаимодействий: 886\n",
            "Количество вакансий у которых более  460 взаимодействий: 839\n",
            "Количество вакансий у которых более  480 взаимодействий: 802\n",
            "Количество вакансий у которых более  500 взаимодействий: 770\n",
            "Количество вакансий у которых более  520 взаимодействий: 729\n",
            "Количество вакансий у которых более  540 взаимодействий: 697\n",
            "Количество вакансий у которых более  560 взаимодействий: 662\n",
            "Количество вакансий у которых более  580 взаимодействий: 636\n",
            "Количество вакансий у которых более  600 взаимодействий: 604\n",
            "Количество вакансий у которых более  620 взаимодействий: 586\n",
            "Количество вакансий у которых более  640 взаимодействий: 560\n",
            "Количество вакансий у которых более  660 взаимодействий: 548\n",
            "Количество вакансий у которых более  680 взаимодействий: 530\n",
            "Количество вакансий у которых более  700 взаимодействий: 515\n",
            "Количество вакансий у которых более  720 взаимодействий: 488\n",
            "Количество вакансий у которых более  740 взаимодействий: 461\n",
            "Количество вакансий у которых более  760 взаимодействий: 451\n",
            "Количество вакансий у которых более  780 взаимодействий: 436\n",
            "Количество вакансий у которых более  800 взаимодействий: 418\n",
            "Количество вакансий у которых более  820 взаимодействий: 402\n",
            "Количество вакансий у которых более  840 взаимодействий: 389\n",
            "Количество вакансий у которых более  860 взаимодействий: 374\n",
            "Количество вакансий у которых более  880 взаимодействий: 367\n",
            "Количество вакансий у которых более  900 взаимодействий: 355\n",
            "Количество вакансий у которых более  920 взаимодействий: 343\n",
            "Количество вакансий у которых более  940 взаимодействий: 338\n",
            "Количество вакансий у которых более  960 взаимодействий: 332\n",
            "Количество вакансий у которых более  980 взаимодействий: 324\n"
          ]
        }
      ],
      "source": [
        "for i in range(20, 1000, 20):\n",
        "    min_ratings = i\n",
        "    count_min_ratings = count_min_ratings = len(df[df[('cookie_id', 'count')] >= min_ratings])\n",
        "    print(f'Количество вакансий у которых более  {min_ratings} взаимодействий: {count_min_ratings}')"
      ]
    },
    {
      "attachments": {},
      "cell_type": "markdown",
      "metadata": {
        "id": "o9K7pgby9UXX"
      },
      "source": [
        "Количество вакансий с которыми взаимодействовали более 20 раз составило 46418. Нам необходимо обрезать вакансии с которыми не было взаимодействий, что бы сделать наши рекомендации более релевантными:"
      ]
    },
    {
      "cell_type": "code",
      "execution_count": 7,
      "metadata": {
        "id": "WgXcWV6R9UXX",
        "outputId": "3589e408-2731-489d-d526-66f5388ab841"
      },
      "outputs": [
        {
          "name": "stdout",
          "output_type": "stream",
          "text": [
            "Количество вакансий у которых более  20 взаимодействий: 46418\n"
          ]
        }
      ],
      "source": [
        "min_ratings = 20\n",
        "count_min_ratings = len(df[df[('cookie_id', 'count')] >= min_ratings])\n",
        " \n",
        "print(f'Количество вакансий у которых более  {min_ratings} взаимодействий: {count_min_ratings}')"
      ]
    },
    {
      "cell_type": "code",
      "execution_count": 8,
      "metadata": {
        "id": "wFFvu3Q59UXX"
      },
      "outputs": [],
      "source": [
        "\n",
        "df_top_vacancies = df[df[('cookie_id', 'count')] >= min_ratings]\n",
        " \n",
        "df_ratings_with_top_vacancies = df_ratings[df_ratings['vacancy_id_'].isin(list(df_top_vacancies.index))]"
      ]
    },
    {
      "cell_type": "code",
      "execution_count": 44,
      "metadata": {
        "id": "iuoqudhg9UXY",
        "outputId": "8e09657f-6bf9-49b0-d934-8f3813c113c3"
      },
      "outputs": [
        {
          "name": "stdout",
          "output_type": "stream",
          "text": [
            "<class 'pandas.core.frame.DataFrame'>\n",
            "Int64Index: 3867997 entries, 0 to 4678583\n",
            "Data columns (total 3 columns):\n",
            " #   Column       Dtype \n",
            "---  ------       ----- \n",
            " 0   cookie_id    object\n",
            " 1   vacancy_id_  int64 \n",
            " 2   rating       int64 \n",
            "dtypes: int64(2), object(1)\n",
            "memory usage: 118.0+ MB\n"
          ]
        }
      ],
      "source": [
        "df_ratings_with_top_vacancies.info()"
      ]
    },
    {
      "cell_type": "markdown",
      "metadata": {
        "id": "_tMIJAO69UXY"
      },
      "source": [
        "Выделим самых активных пользователей\n",
        "\n",
        "---"
      ]
    },
    {
      "cell_type": "code",
      "execution_count": 11,
      "metadata": {
        "id": "vLwR_k8V9UXZ"
      },
      "outputs": [],
      "source": [
        "# далее он у нас будет как df_users\n",
        "df_1 = df_ratings[['cookie_id', 'vacancy_id_']].groupby(['cookie_id']).agg(['count']).sort_values(('vacancy_id_','count'),ascending=False)"
      ]
    },
    {
      "cell_type": "code",
      "execution_count": 37,
      "metadata": {
        "id": "T7wdrgFk9UXZ",
        "outputId": "bcc7928c-6d81-4335-a671-70356b4b1f2f"
      },
      "outputs": [
        {
          "data": {
            "text/plain": [
              "Text(0, 0.5, 'Количество кликов')"
            ]
          },
          "execution_count": 37,
          "metadata": {},
          "output_type": "execute_result"
        },
        {
          "data": {
            "image/png": "[encoded data removed]",
            "text/plain": [
              "<Figure size 1500x800 with 1 Axes>"
            ]
          },
          "metadata": {},
          "output_type": "display_data"
        }
      ],
      "source": [
        "plt.figure(figsize=(15,8))\n",
        " \n",
        "sns.set_style(\"darkgrid\")\n",
        " \n",
        "sns.lineplot(data=df_1[('vacancy_id_', 'count')].values)\n",
        " \n",
        "plt.title(\"Рейтинг частоты кликов\")\n",
        " \n",
        "plt.xlabel(\"Пользователи\")\n",
        " \n",
        "plt.ylabel(\"Количество кликов\")"
      ]
    },
    {
      "cell_type": "code",
      "execution_count": 12,
      "metadata": {
        "id": "DEat7Ydr9UXZ",
        "outputId": "80aaf0a5-8d3b-49d9-e769-ac69ae976d58"
      },
      "outputs": [
        {
          "name": "stdout",
          "output_type": "stream",
          "text": [
            "Количество клиентов у которых более  20 взаимодействий: 58943\n",
            "Количество клиентов у которых более  40 взаимодействий: 16435\n",
            "Количество клиентов у которых более  60 взаимодействий: 6592\n",
            "Количество клиентов у которых более  80 взаимодействий: 3133\n",
            "Количество клиентов у которых более  100 взаимодействий: 1667\n",
            "Количество клиентов у которых более  120 взаимодействий: 983\n",
            "Количество клиентов у которых более  140 взаимодействий: 623\n",
            "Количество клиентов у которых более  160 взаимодействий: 397\n",
            "Количество клиентов у которых более  180 взаимодействий: 283\n",
            "Количество клиентов у которых более  200 взаимодействий: 198\n",
            "Количество клиентов у которых более  220 взаимодействий: 159\n",
            "Количество клиентов у которых более  240 взаимодействий: 124\n",
            "Количество клиентов у которых более  260 взаимодействий: 98\n",
            "Количество клиентов у которых более  280 взаимодействий: 74\n",
            "Количество клиентов у которых более  300 взаимодействий: 58\n",
            "Количество клиентов у которых более  320 взаимодействий: 42\n",
            "Количество клиентов у которых более  340 взаимодействий: 31\n",
            "Количество клиентов у которых более  360 взаимодействий: 27\n",
            "Количество клиентов у которых более  380 взаимодействий: 24\n",
            "Количество клиентов у которых более  400 взаимодействий: 20\n",
            "Количество клиентов у которых более  420 взаимодействий: 18\n",
            "Количество клиентов у которых более  440 взаимодействий: 15\n",
            "Количество клиентов у которых более  460 взаимодействий: 13\n",
            "Количество клиентов у которых более  480 взаимодействий: 12\n",
            "Количество клиентов у которых более  500 взаимодействий: 12\n",
            "Количество клиентов у которых более  520 взаимодействий: 10\n",
            "Количество клиентов у которых более  540 взаимодействий: 10\n",
            "Количество клиентов у которых более  560 взаимодействий: 10\n",
            "Количество клиентов у которых более  580 взаимодействий: 9\n",
            "Количество клиентов у которых более  600 взаимодействий: 7\n",
            "Количество клиентов у которых более  620 взаимодействий: 7\n",
            "Количество клиентов у которых более  640 взаимодействий: 7\n",
            "Количество клиентов у которых более  660 взаимодействий: 7\n",
            "Количество клиентов у которых более  680 взаимодействий: 7\n",
            "Количество клиентов у которых более  700 взаимодействий: 7\n",
            "Количество клиентов у которых более  720 взаимодействий: 6\n",
            "Количество клиентов у которых более  740 взаимодействий: 6\n",
            "Количество клиентов у которых более  760 взаимодействий: 6\n",
            "Количество клиентов у которых более  780 взаимодействий: 6\n",
            "Количество клиентов у которых более  800 взаимодействий: 5\n",
            "Количество клиентов у которых более  820 взаимодействий: 5\n",
            "Количество клиентов у которых более  840 взаимодействий: 4\n",
            "Количество клиентов у которых более  860 взаимодействий: 4\n",
            "Количество клиентов у которых более  880 взаимодействий: 4\n",
            "Количество клиентов у которых более  900 взаимодействий: 4\n",
            "Количество клиентов у которых более  920 взаимодействий: 4\n",
            "Количество клиентов у которых более  940 взаимодействий: 4\n",
            "Количество клиентов у которых более  960 взаимодействий: 4\n",
            "Количество клиентов у которых более  980 взаимодействий: 3\n"
          ]
        }
      ],
      "source": [
        "for i in range(20, 1000, 20):\n",
        "    min_ratings = i\n",
        "    count_min_ratings = count_min_ratings = len(df_1[df_1[('vacancy_id_', 'count')] >= min_ratings])\n",
        "    print(f'Количество клиентов у которых более  {min_ratings} взаимодействий: {count_min_ratings}')"
      ]
    },
    {
      "attachments": {},
      "cell_type": "markdown",
      "metadata": {
        "id": "yJti03Pi9UXa"
      },
      "source": [
        "Для повышения релевантности так же исключим, пользователей которые имеют менее 40 взаимодействий."
      ]
    },
    {
      "cell_type": "code",
      "execution_count": 13,
      "metadata": {
        "id": "A01jQ32k9UXa"
      },
      "outputs": [],
      "source": [
        "# минимальное количество просмотренных вакансий\n",
        "min_vacancies_rated = 20\n",
        "# создадим датасет пользоватлей с агрегацией по пользователям \n",
        "df_users = df_ratings_with_top_vacancies[['vacancy_id_','cookie_id']].groupby(['cookie_id']).agg(['count']).sort_values(('vacancy_id_','count'),ascending=False)\n",
        " \n",
        "# выберем пользователей у которых более 200 взаимодействий (мы хотим рекомендовать то что смотрят активные пользователи)\n",
        "df_top_rating_users = df_users[df_users[('vacancy_id_', 'count')]>=min_vacancies_rated]\n",
        "\n",
        "# нас будут интересовать только id пользоватлей возьмем их в список \n",
        "top_rating_users = list(df_top_rating_users.index)\n",
        "\n",
        "# в итоговый датасет войдут только взаимодействия топ пользоватлей с топ вакансиями \n",
        "df_final = df_ratings_with_top_vacancies[df_ratings_with_top_vacancies['cookie_id'].isin(top_rating_users)]"
      ]
    },
    {
      "cell_type": "code",
      "execution_count": 14,
      "metadata": {
        "id": "F3VUUjIy9UXb",
        "outputId": "6023fbdb-2b9c-49ec-fd23-5b4c5269e312"
      },
      "outputs": [
        {
          "data": {
            "text/html": [
              "<div>\n",
              "<style scoped>\n",
              "    .dataframe tbody tr th:only-of-type {\n",
              "        vertical-align: middle;\n",
              "    }\n",
              "\n",
              "    .dataframe tbody tr th {\n",
              "        vertical-align: top;\n",
              "    }\n",
              "\n",
              "    .dataframe thead th {\n",
              "        text-align: right;\n",
              "    }\n",
              "</style>\n",
              "<table border=\"1\" class=\"dataframe\">\n",
              "  <thead>\n",
              "    <tr style=\"text-align: right;\">\n",
              "      <th></th>\n",
              "      <th>cookie_id</th>\n",
              "      <th>vacancy_id_</th>\n",
              "      <th>rating</th>\n",
              "    </tr>\n",
              "  </thead>\n",
              "  <tbody>\n",
              "    <tr>\n",
              "      <th>32</th>\n",
              "      <td>00015019b0594984afc3fd9fa9557490</td>\n",
              "      <td>109069</td>\n",
              "      <td>0</td>\n",
              "    </tr>\n",
              "    <tr>\n",
              "      <th>33</th>\n",
              "      <td>00015019b0594984afc3fd9fa9557490</td>\n",
              "      <td>110315</td>\n",
              "      <td>0</td>\n",
              "    </tr>\n",
              "    <tr>\n",
              "      <th>34</th>\n",
              "      <td>00015019b0594984afc3fd9fa9557490</td>\n",
              "      <td>110421</td>\n",
              "      <td>0</td>\n",
              "    </tr>\n",
              "    <tr>\n",
              "      <th>35</th>\n",
              "      <td>00015019b0594984afc3fd9fa9557490</td>\n",
              "      <td>111505</td>\n",
              "      <td>0</td>\n",
              "    </tr>\n",
              "    <tr>\n",
              "      <th>36</th>\n",
              "      <td>00015019b0594984afc3fd9fa9557490</td>\n",
              "      <td>111592</td>\n",
              "      <td>0</td>\n",
              "    </tr>\n",
              "  </tbody>\n",
              "</table>\n",
              "</div>"
            ],
            "text/plain": [
              "                           cookie_id  vacancy_id_  rating\n",
              "32  00015019b0594984afc3fd9fa9557490       109069       0\n",
              "33  00015019b0594984afc3fd9fa9557490       110315       0\n",
              "34  00015019b0594984afc3fd9fa9557490       110421       0\n",
              "35  00015019b0594984afc3fd9fa9557490       111505       0\n",
              "36  00015019b0594984afc3fd9fa9557490       111592       0"
            ]
          },
          "execution_count": 14,
          "metadata": {},
          "output_type": "execute_result"
        }
      ],
      "source": [
        "df_final.head()"
      ]
    },
    {
      "cell_type": "code",
      "execution_count": 15,
      "metadata": {
        "id": "-7j_GDy-9UXb",
        "outputId": "3a638106-ad78-4150-ddcb-4bc1ccb563fd"
      },
      "outputs": [
        {
          "name": "stdout",
          "output_type": "stream",
          "text": [
            "<class 'pandas.core.frame.DataFrame'>\n",
            "Int64Index: 1636300 entries, 32 to 4678564\n",
            "Data columns (total 3 columns):\n",
            " #   Column       Non-Null Count    Dtype \n",
            "---  ------       --------------    ----- \n",
            " 0   cookie_id    1636300 non-null  object\n",
            " 1   vacancy_id_  1636300 non-null  int64 \n",
            " 2   rating       1636300 non-null  int64 \n",
            "dtypes: int64(2), object(1)\n",
            "memory usage: 49.9+ MB\n"
          ]
        }
      ],
      "source": [
        "df_final.info()"
      ]
    },
    {
      "cell_type": "code",
      "execution_count": 48,
      "metadata": {},
      "outputs": [],
      "source": [
        "df_final.to_parquet('item_based')"
      ]
    },
    {
      "cell_type": "code",
      "execution_count": 49,
      "metadata": {},
      "outputs": [],
      "source": [
        "df_final = pd.read_parquet('item_based')"
      ]
    },
    {
      "cell_type": "markdown",
      "metadata": {
        "id": "_8oh1bdz9UXe"
      },
      "source": [
        "Возьмем за основу наш базовый датасет, он учится очень бысто"
      ]
    },
    {
      "cell_type": "code",
      "execution_count": 16,
      "metadata": {
        "id": "_7hdczWW9UXg",
        "outputId": "e74a2141-76ad-4c32-ee22-9b8b4fd0f407"
      },
      "outputs": [
        {
          "name": "stdout",
          "output_type": "stream",
          "text": [
            "Minimum/maximum оценки: 0/1\n"
          ]
        }
      ],
      "source": [
        "minimum_rating = min(df_final['rating'].values)\n",
        " \n",
        "maximum_rating = max(df_final['rating'].values)\n",
        " \n",
        "print(f'Minimum/maximum оценки: {minimum_rating}/{maximum_rating}')"
      ]
    },
    {
      "cell_type": "code",
      "execution_count": 17,
      "metadata": {
        "id": "X79TnZBH9UXh"
      },
      "outputs": [],
      "source": [
        "reader = Reader(rating_scale=(minimum_rating,maximum_rating))\n",
        " \n",
        "data = Dataset.load_from_df(df_final[['cookie_id', 'vacancy_id_', 'rating']], reader)"
      ]
    },
    {
      "attachments": {},
      "cell_type": "markdown",
      "metadata": {},
      "source": [
        "Полный цикл обучения"
      ]
    },
    {
      "cell_type": "code",
      "execution_count": 54,
      "metadata": {
        "id": "olV2XCHi-RDi"
      },
      "outputs": [],
      "source": [
        "from surprise.model_selection import GridSearchCV"
      ]
    },
    {
      "cell_type": "code",
      "execution_count": 56,
      "metadata": {
        "id": "xTF9aFmX-QUw"
      },
      "outputs": [
        {
          "name": "stdout",
          "output_type": "stream",
          "text": [
            "0.3327538601089223\n",
            "{'n_epochs': 10, 'lr_all': 0.005, 'reg_all': 0.4}\n"
          ]
        }
      ],
      "source": [
        "param_grid = {\"n_epochs\": [5, 10], \"lr_all\": [0.002, 0.005], \"reg_all\": [0.4, 0.6]}\n",
        "gs = GridSearchCV(SVD, param_grid, measures=[\"rmse\", \"mae\"], cv=3)\n",
        "\n",
        "gs.fit(data)\n",
        "\n",
        "# best RMSE score\n",
        "print(gs.best_score[\"rmse\"])\n",
        "\n",
        "# combination of parameters that gave the best RMSE score\n",
        "print(gs.best_params[\"rmse\"])"
      ]
    },
    {
      "cell_type": "code",
      "execution_count": 57,
      "metadata": {},
      "outputs": [],
      "source": [
        "trainset = data.build_full_trainset()"
      ]
    },
    {
      "cell_type": "code",
      "execution_count": 58,
      "metadata": {
        "id": "WrUtS5np9UXh",
        "outputId": "9f7c6017-6ffc-4626-ab99-52e741173102"
      },
      "outputs": [
        {
          "data": {
            "text/plain": [
              "<surprise.prediction_algorithms.matrix_factorization.SVD at 0x1cb812b3070>"
            ]
          },
          "execution_count": 58,
          "metadata": {},
          "output_type": "execute_result"
        }
      ],
      "source": [
        "# обучаем алгоритм\n",
        "algo = gs.best_estimator[\"rmse\"]\n",
        "\n",
        "algo.fit(trainset)"
      ]
    },
    {
      "attachments": {},
      "cell_type": "markdown",
      "metadata": {},
      "source": [
        "Для тестирования"
      ]
    },
    {
      "cell_type": "code",
      "execution_count": 18,
      "metadata": {},
      "outputs": [
        {
          "data": {
            "text/plain": [
              "<surprise.prediction_algorithms.matrix_factorization.SVD at 0x1ff2410af50>"
            ]
          },
          "execution_count": 18,
          "metadata": {},
          "output_type": "execute_result"
        }
      ],
      "source": [
        "trainset, testset = train_test_split(data, test_size=.25)\n",
        "\n",
        "algo = SVD()\n",
        "algo.fit(trainset)"
      ]
    },
    {
      "cell_type": "code",
      "execution_count": 19,
      "metadata": {},
      "outputs": [],
      "source": [
        "predictions = algo.test(testset)"
      ]
    },
    {
      "cell_type": "code",
      "execution_count": 20,
      "metadata": {},
      "outputs": [
        {
          "name": "stdout",
          "output_type": "stream",
          "text": [
            "RMSE: 0.3305\n",
            "0.33053379233831476\n",
            "MAE:  0.2217\n",
            "0.22165437228933457\n"
          ]
        }
      ],
      "source": [
        "print(accuracy.rmse(predictions))\n",
        "print(accuracy.mae(predictions))"
      ]
    },
    {
      "attachments": {},
      "cell_type": "markdown",
      "metadata": {},
      "source": [
        "### Это блок для тестирования данных не выполнять когда делаем финальный прогноз\n",
        "---"
      ]
    },
    {
      "cell_type": "code",
      "execution_count": null,
      "metadata": {
        "id": "gA2y_dMg9UXj"
      },
      "outputs": [],
      "source": [
        "def get_top_n(predictions, n=5):\n",
        "    \"\"\"Return the top-N recommendation for each user from a set of predictions.\n",
        "\n",
        "    Args:\n",
        "        predictions(list of Prediction objects): The list of predictions, as\n",
        "            returned by the test method of an algorithm.\n",
        "        n(int): The number of recommendation to output for each user. Default\n",
        "            is 10.\n",
        "\n",
        "    Returns:\n",
        "    A dict where keys are user (raw) ids and values are lists of tuples:\n",
        "        [(raw item id, rating estimation), ...] of size n.\n",
        "    \"\"\"\n",
        "\n",
        "    # First map the predictions to each user.\n",
        "    top_n = defaultdict(list)\n",
        "    for uid, iid, true_r, est, _ in predictions:\n",
        "        top_n[uid].append((iid, est))\n",
        "\n",
        "    # Then sort the predictions for each user and retrieve the k highest ones.\n",
        "    for uid, user_ratings in top_n.items():\n",
        "        user_ratings.sort(key=lambda x: x[1], reverse=True)\n",
        "        top_n[uid] = user_ratings[:n]\n",
        "\n",
        "    return top_n\n",
        " "
      ]
    },
    {
      "cell_type": "code",
      "execution_count": null,
      "metadata": {
        "id": "zFX9dTN39UXk"
      },
      "outputs": [],
      "source": [
        "# Than predict ratings for all pairs (u, i) that are NOT in the training set.\n",
        "testset = trainset.build_anti_testset()\n",
        "predictions = algo.test(testset)"
      ]
    },
    {
      "cell_type": "code",
      "execution_count": null,
      "metadata": {
        "id": "TktmSgjv9UXk",
        "outputId": "ac5199a9-845b-42aa-b950-d2fdb1028a88"
      },
      "outputs": [
        {
          "name": "stdout",
          "output_type": "stream",
          "text": [
            "RMSE: 0.0889\n",
            "MAE:  0.0684\n"
          ]
        },
        {
          "data": {
            "text/plain": [
              "0.06842001001580392"
            ]
          },
          "execution_count": 144,
          "metadata": {},
          "output_type": "execute_result"
        }
      ],
      "source": [
        "print(accuracy.rmse(predictions))\n",
        "print(accuracy.mae(predictions))"
      ]
    },
    {
      "cell_type": "code",
      "execution_count": null,
      "metadata": {},
      "outputs": [],
      "source": [
        "def precision_recall_at_k(predictions, k=5, threshold=0.5):\n",
        "    \"\"\"Return precision and recall at k metrics for each user\"\"\"\n",
        "\n",
        "    # First map the predictions to each user.\n",
        "    user_est_true = defaultdict(list)\n",
        "    for uid, _, true_r, est, _ in predictions:\n",
        "        user_est_true[uid].append((est, true_r))\n",
        "\n",
        "    precisions = dict()\n",
        "    recalls = dict()\n",
        "    for uid, user_ratings in user_est_true.items():\n",
        "\n",
        "        # Sort user ratings by estimated value\n",
        "        user_ratings.sort(key=lambda x: x[0], reverse=True)\n",
        "\n",
        "        # Number of relevant items\n",
        "        n_rel = sum((true_r >= threshold) for (_, true_r) in user_ratings)\n",
        "\n",
        "        # Number of recommended items in top k\n",
        "        n_rec_k = sum((est >= threshold) for (est, _) in user_ratings[:k])\n",
        "\n",
        "        # Number of relevant and recommended items in top k\n",
        "        n_rel_and_rec_k = sum(\n",
        "            ((true_r >= threshold) and (est >= threshold))\n",
        "            for (est, true_r) in user_ratings[:k]\n",
        "        )\n",
        "\n",
        "        # Precision@K: Proportion of recommended items that are relevant\n",
        "        # When n_rec_k is 0, Precision is undefined. We here set it to 0.\n",
        "\n",
        "        precisions[uid] = n_rel_and_rec_k / n_rec_k if n_rec_k != 0 else 0\n",
        "\n",
        "        # Recall@K: Proportion of relevant items that are recommended\n",
        "        # When n_rel is 0, Recall is undefined. We here set it to 0.\n",
        "\n",
        "        recalls[uid] = n_rel_and_rec_k / n_rel if n_rel != 0 else 0\n",
        "\n",
        "    return precisions, recalls"
      ]
    },
    {
      "cell_type": "code",
      "execution_count": null,
      "metadata": {
        "id": "-Z8hlu6f9UXl"
      },
      "outputs": [],
      "source": [
        "top_5 = get_top_n(predictions, n=5)\n",
        "# Print the recommended items for each user\n",
        "for uid, user_ratings in top_5.items():\n",
        "    print(uid, [iid for (iid, _) in user_ratings])"
      ]
    },
    {
      "cell_type": "code",
      "execution_count": null,
      "metadata": {},
      "outputs": [],
      "source": [
        "from surprise.model_selection import KFold"
      ]
    },
    {
      "cell_type": "code",
      "execution_count": null,
      "metadata": {},
      "outputs": [],
      "source": [
        "kf = KFold(n_splits=5)\n",
        "\n",
        "for trainset, testset in kf.split(data):\n",
        "    algo.fit(trainset)\n",
        "    predictions = algo.test(testset)\n",
        "    precisions, recalls = precision_recall_at_k(predictions, k=5, threshold=0.01)\n",
        "\n",
        "    # Precision and recall can then be averaged over all users\n",
        "    print(sum(prec for prec in precisions.values()) / len(precisions))"
      ]
    },
    {
      "attachments": {},
      "cell_type": "markdown",
      "metadata": {},
      "source": [
        "### Получаем ответ\n",
        "---"
      ]
    },
    {
      "cell_type": "code",
      "execution_count": null,
      "metadata": {},
      "outputs": [],
      "source": [
        "# получение рекомендаций для списка пользователей\n",
        "user_list = ['000cd76cd33f43d4a1ac1d16d10f8bf7',\t'0034bc7f404341ba8412665453e7825a',\n",
        "                 \t'00a6c5a64a274c55a836402bdeb3b2c4', '015937a125b14e74bdff1cddc49f9172', \n",
        "                    '01de50c280794cec8804f16f45f847b7']"
      ]
    },
    {
      "cell_type": "code",
      "execution_count": 75,
      "metadata": {},
      "outputs": [],
      "source": [
        "def get_prediction_for_list(user_list, model = algo, set_n = 5):\n",
        "    top_n = {}\n",
        "    for user_id in user_list:\n",
        "        user_items = df_final[df_final['cookie_id'] == user_id]['vacancy_id_'].unique()  # взаимодействия пользователя\n",
        "        candidates = df_final[~df_final['cookie_id'].isin(user_items)]['vacancy_id_'].unique()  # вакансии, с которыми пользователь не взаимодействовал\n",
        "        testset = [[user_id, item_id, 0] for item_id in candidates]  # создание тестовой выборки\n",
        "        predictions = model.test(testset)\n",
        "        top_n[user_id] = sorted(predictions, key=lambda x: x.est, reverse=True)[:set_n]  # получение топ-5 рекомендаций\n",
        "\n",
        "    # формирование результата в виде датафрейма\n",
        "    result = pd.DataFrame(columns=['cookie_id', 'top_recommendations'])\n",
        "    for user_id, predictions in top_n.items():\n",
        "        item_list = [pred.iid for pred in predictions]\n",
        "        result = result.append({'cookie_id': user_id, 'top_recommendations': item_list}, ignore_index=True)\n",
        "\n",
        "    result.head()\n",
        "    return result\n",
        "    "
      ]
    },
    {
      "cell_type": "code",
      "execution_count": 76,
      "metadata": {},
      "outputs": [
        {
          "name": "stderr",
          "output_type": "stream",
          "text": [
            "C:\\Users\\pavel\\AppData\\Local\\Temp\\ipykernel_5792\\3376536516.py:14: FutureWarning: The frame.append method is deprecated and will be removed from pandas in a future version. Use pandas.concat instead.\n",
            "  result = result.append({'cookie_id': user_id, 'top_recommendations': item_list}, ignore_index=True)\n",
            "C:\\Users\\pavel\\AppData\\Local\\Temp\\ipykernel_5792\\3376536516.py:14: FutureWarning: The frame.append method is deprecated and will be removed from pandas in a future version. Use pandas.concat instead.\n",
            "  result = result.append({'cookie_id': user_id, 'top_recommendations': item_list}, ignore_index=True)\n",
            "C:\\Users\\pavel\\AppData\\Local\\Temp\\ipykernel_5792\\3376536516.py:14: FutureWarning: The frame.append method is deprecated and will be removed from pandas in a future version. Use pandas.concat instead.\n",
            "  result = result.append({'cookie_id': user_id, 'top_recommendations': item_list}, ignore_index=True)\n",
            "C:\\Users\\pavel\\AppData\\Local\\Temp\\ipykernel_5792\\3376536516.py:14: FutureWarning: The frame.append method is deprecated and will be removed from pandas in a future version. Use pandas.concat instead.\n",
            "  result = result.append({'cookie_id': user_id, 'top_recommendations': item_list}, ignore_index=True)\n",
            "C:\\Users\\pavel\\AppData\\Local\\Temp\\ipykernel_5792\\3376536516.py:14: FutureWarning: The frame.append method is deprecated and will be removed from pandas in a future version. Use pandas.concat instead.\n",
            "  result = result.append({'cookie_id': user_id, 'top_recommendations': item_list}, ignore_index=True)\n"
          ]
        },
        {
          "data": {
            "text/html": [
              "<div>\n",
              "<style scoped>\n",
              "    .dataframe tbody tr th:only-of-type {\n",
              "        vertical-align: middle;\n",
              "    }\n",
              "\n",
              "    .dataframe tbody tr th {\n",
              "        vertical-align: top;\n",
              "    }\n",
              "\n",
              "    .dataframe thead th {\n",
              "        text-align: right;\n",
              "    }\n",
              "</style>\n",
              "<table border=\"1\" class=\"dataframe\">\n",
              "  <thead>\n",
              "    <tr style=\"text-align: right;\">\n",
              "      <th></th>\n",
              "      <th>cookie_id</th>\n",
              "      <th>top_recommendations</th>\n",
              "    </tr>\n",
              "  </thead>\n",
              "  <tbody>\n",
              "    <tr>\n",
              "      <th>0</th>\n",
              "      <td>000cd76cd33f43d4a1ac1d16d10f8bf7</td>\n",
              "      <td>[180382, 174953, 209999, 182870, 221920]</td>\n",
              "    </tr>\n",
              "    <tr>\n",
              "      <th>1</th>\n",
              "      <td>0034bc7f404341ba8412665453e7825a</td>\n",
              "      <td>[180382, 139207, 174953, 209999, 182870]</td>\n",
              "    </tr>\n",
              "    <tr>\n",
              "      <th>2</th>\n",
              "      <td>00a6c5a64a274c55a836402bdeb3b2c4</td>\n",
              "      <td>[180382, 174953, 209999, 182870, 221920]</td>\n",
              "    </tr>\n",
              "    <tr>\n",
              "      <th>3</th>\n",
              "      <td>015937a125b14e74bdff1cddc49f9172</td>\n",
              "      <td>[139207, 180382, 174953, 209999, 182870]</td>\n",
              "    </tr>\n",
              "    <tr>\n",
              "      <th>4</th>\n",
              "      <td>01de50c280794cec8804f16f45f847b7</td>\n",
              "      <td>[180382, 174953, 209999, 182870, 221920]</td>\n",
              "    </tr>\n",
              "  </tbody>\n",
              "</table>\n",
              "</div>"
            ],
            "text/plain": [
              "                          cookie_id                       top_recommendations\n",
              "0  000cd76cd33f43d4a1ac1d16d10f8bf7  [180382, 174953, 209999, 182870, 221920]\n",
              "1  0034bc7f404341ba8412665453e7825a  [180382, 139207, 174953, 209999, 182870]\n",
              "2  00a6c5a64a274c55a836402bdeb3b2c4  [180382, 174953, 209999, 182870, 221920]\n",
              "3  015937a125b14e74bdff1cddc49f9172  [139207, 180382, 174953, 209999, 182870]\n",
              "4  01de50c280794cec8804f16f45f847b7  [180382, 174953, 209999, 182870, 221920]"
            ]
          },
          "execution_count": 76,
          "metadata": {},
          "output_type": "execute_result"
        }
      ],
      "source": [
        "get_prediction_for_list(user_list)"
      ]
    },
    {
      "attachments": {},
      "cell_type": "markdown",
      "metadata": {},
      "source": [
        "### Сохранение и загрузка модели\n",
        "\n",
        "---"
      ]
    },
    {
      "cell_type": "code",
      "execution_count": 77,
      "metadata": {
        "id": "IwHGWi2O97LG"
      },
      "outputs": [
        {
          "name": "stdout",
          "output_type": "stream",
          "text": [
            ">> Starting dump\n",
            ">> Dump done\n",
            "./modelSVD.pickle\n"
          ]
        }
      ],
      "source": [
        "## SAVING TRAINED MODEL\n",
        "from surprise import dump\n",
        "import os\n",
        "model_filename = \"./modelSVD.pickle\"\n",
        "print (\">> Starting dump\")\n",
        "# Dump algorithm and reload it.\n",
        "file_name = os.path.expanduser(model_filename)\n",
        "dump.dump(file_name, algo=algo)\n",
        "print (\">> Dump done\")\n",
        "print(model_filename)"
      ]
    },
    {
      "cell_type": "code",
      "execution_count": null,
      "metadata": {
        "id": "BmLTSn-P99IV"
      },
      "outputs": [],
      "source": [
        "## LOAD SAVED MODEL\n",
        "def load_model(model_filename):\n",
        "    print (\">> Loading dump\")\n",
        "    from surprise import dump\n",
        "    import os\n",
        "    file_name = os.path.expanduser(model_filename)\n",
        "    _, loaded_model = dump.load(file_name)\n",
        "    print (\">> Loaded dump\")\n",
        "    return loaded_model"
      ]
    }
  ],
  "metadata": {
    "colab": {
      "provenance": []
    },
    "kernelspec": {
      "display_name": "Python 3",
      "language": "python",
      "name": "python3"
    },
    "language_info": {
      "codemirror_mode": {
        "name": "ipython",
        "version": 3
      },
      "file_extension": ".py",
      "mimetype": "text/x-python",
      "name": "python",
      "nbconvert_exporter": "python",
      "pygments_lexer": "ipython3",
      "version": "3.10.7"
    },
    "orig_nbformat": 4,
    "vscode": {
      "interpreter": {
        "hash": "adc619b01503523b8240db011ba6e5d9101136cf083453867df1fdfca18879a8"
      }
    }
  },
  "nbformat": 4,
  "nbformat_minor": 0
}
